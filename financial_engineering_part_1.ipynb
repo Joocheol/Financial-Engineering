{
  "nbformat": 4,
  "nbformat_minor": 0,
  "metadata": {
    "colab": {
      "name": "financial engineering part 1.ipynb",
      "provenance": [],
      "collapsed_sections": [
        "KzkOsTGWcw9C",
        "9nSOUuyUTDgh",
        "b4XXCJ81ppST",
        "6wrXZZw_oOIy",
        "30lmKPQqp-HT",
        "6lBnD3meqE7G",
        "tuZVTsdyGLCu",
        "JPiPvZ7gJeVw",
        "VuI8ZbcOMe9b",
        "LOyfL7S6Mmhe",
        "uvp40PmqNGqj",
        "W8ZnPGzPMvX6",
        "PLeIX7a4M1vD",
        "9MU5pteANCWD"
      ],
      "authorship_tag": "ABX9TyORc/V7aby/NId31QnaEgD1",
      "include_colab_link": true
    },
    "kernelspec": {
      "name": "python3",
      "display_name": "Python 3"
    },
    "language_info": {
      "name": "python"
    }
  },
  "cells": [
    {
      "cell_type": "markdown",
      "metadata": {
        "id": "view-in-github",
        "colab_type": "text"
      },
      "source": [
        "<a href=\"https://colab.research.google.com/github/Joocheol/Financial-Engineering/blob/master/financial_engineering_part_1.ipynb\" target=\"_parent\"><img src=\"https://colab.research.google.com/assets/colab-badge.svg\" alt=\"Open In Colab\"/></a>"
      ]
    },
    {
      "cell_type": "markdown",
      "metadata": {
        "id": "KzkOsTGWcw9C"
      },
      "source": [
        "# Setup "
      ]
    },
    {
      "cell_type": "code",
      "metadata": {
        "id": "XWmIiILUOvK3",
        "colab": {
          "base_uri": "https://localhost:8080/"
        },
        "outputId": "cb324615-02ff-4b3a-d934-4d712e3df6b8"
      },
      "source": [
        "#@title Setup for tikz\n",
        "\n",
        "!apt update\n",
        "!apt install imagemagick\n",
        "!apt install pdf2svg\n",
        "!apt install texlive texlive-latex-extra\n",
        "!pip install git+git://github.com/mkrphys/ipython-tikzmagic.git\n",
        "%load_ext tikzmagic"
      ],
      "execution_count": 146,
      "outputs": [
        {
          "output_type": "stream",
          "text": [
            "\u001b[33m\r0% [Working]\u001b[0m\r            \rHit:1 https://cloud.r-project.org/bin/linux/ubuntu bionic-cran40/ InRelease\n",
            "\u001b[33m\r0% [Connecting to archive.ubuntu.com (91.189.88.142)] [Connecting to security.u\u001b[0m\r                                                                               \rIgn:2 https://developer.download.nvidia.com/compute/cuda/repos/ubuntu1804/x86_64  InRelease\n",
            "\u001b[33m\r0% [Connecting to archive.ubuntu.com (91.189.88.142)] [Connecting to security.u\u001b[0m\u001b[33m\r0% [1 InRelease gpgv 3,626 B] [Connecting to archive.ubuntu.com (91.189.88.142)\u001b[0m\r                                                                               \rIgn:3 https://developer.download.nvidia.com/compute/machine-learning/repos/ubuntu1804/x86_64  InRelease\n",
            "Hit:4 https://developer.download.nvidia.com/compute/cuda/repos/ubuntu1804/x86_64  Release\n",
            "Hit:5 https://developer.download.nvidia.com/compute/machine-learning/repos/ubuntu1804/x86_64  Release\n",
            "Hit:6 http://archive.ubuntu.com/ubuntu bionic InRelease\n",
            "Get:7 http://security.ubuntu.com/ubuntu bionic-security InRelease [88.7 kB]\n",
            "Get:8 http://ppa.launchpad.net/c2d4u.team/c2d4u4.0+/ubuntu bionic InRelease [15.9 kB]\n",
            "Get:9 http://archive.ubuntu.com/ubuntu bionic-updates InRelease [88.7 kB]\n",
            "Hit:11 http://ppa.launchpad.net/cran/libgit2/ubuntu bionic InRelease\n",
            "Get:13 http://archive.ubuntu.com/ubuntu bionic-backports InRelease [74.6 kB]\n",
            "Hit:14 http://ppa.launchpad.net/deadsnakes/ppa/ubuntu bionic InRelease\n",
            "Hit:15 http://ppa.launchpad.net/graphics-drivers/ppa/ubuntu bionic InRelease\n",
            "Get:16 http://ppa.launchpad.net/c2d4u.team/c2d4u4.0+/ubuntu bionic/main Sources [1,749 kB]\n",
            "Get:17 http://ppa.launchpad.net/c2d4u.team/c2d4u4.0+/ubuntu bionic/main amd64 Packages [895 kB]\n",
            "Fetched 2,911 kB in 4s (741 kB/s)\n",
            "Reading package lists... Done\n",
            "Building dependency tree       \n",
            "Reading state information... Done\n",
            "60 packages can be upgraded. Run 'apt list --upgradable' to see them.\n",
            "Reading package lists... Done\n",
            "Building dependency tree       \n",
            "Reading state information... Done\n",
            "imagemagick is already the newest version (8:6.9.7.4+dfsg-16ubuntu6.9).\n",
            "0 upgraded, 0 newly installed, 0 to remove and 60 not upgraded.\n",
            "Reading package lists... Done\n",
            "Building dependency tree       \n",
            "Reading state information... Done\n",
            "pdf2svg is already the newest version (0.2.3-1).\n",
            "0 upgraded, 0 newly installed, 0 to remove and 60 not upgraded.\n",
            "Reading package lists... Done\n",
            "Building dependency tree       \n",
            "Reading state information... Done\n",
            "texlive is already the newest version (2017.20180305-1).\n",
            "texlive-latex-extra is already the newest version (2017.20180305-2).\n",
            "0 upgraded, 0 newly installed, 0 to remove and 60 not upgraded.\n",
            "Collecting git+git://github.com/mkrphys/ipython-tikzmagic.git\n",
            "  Cloning git://github.com/mkrphys/ipython-tikzmagic.git to /tmp/pip-req-build-flcgu2we\n",
            "  Running command git clone -q git://github.com/mkrphys/ipython-tikzmagic.git /tmp/pip-req-build-flcgu2we\n",
            "Requirement already satisfied (use --upgrade to upgrade): ipython-tikzmagic==0.1.1 from git+git://github.com/mkrphys/ipython-tikzmagic.git in /usr/local/lib/python3.7/dist-packages\n",
            "Requirement already satisfied: ipython in /usr/local/lib/python3.7/dist-packages (from ipython-tikzmagic==0.1.1) (5.5.0)\n",
            "Requirement already satisfied: traitlets>=4.2 in /usr/local/lib/python3.7/dist-packages (from ipython->ipython-tikzmagic==0.1.1) (5.0.5)\n",
            "Requirement already satisfied: prompt-toolkit<2.0.0,>=1.0.4 in /usr/local/lib/python3.7/dist-packages (from ipython->ipython-tikzmagic==0.1.1) (1.0.18)\n",
            "Requirement already satisfied: pickleshare in /usr/local/lib/python3.7/dist-packages (from ipython->ipython-tikzmagic==0.1.1) (0.7.5)\n",
            "Requirement already satisfied: pygments in /usr/local/lib/python3.7/dist-packages (from ipython->ipython-tikzmagic==0.1.1) (2.6.1)\n",
            "Requirement already satisfied: setuptools>=18.5 in /usr/local/lib/python3.7/dist-packages (from ipython->ipython-tikzmagic==0.1.1) (54.1.2)\n",
            "Requirement already satisfied: pexpect; sys_platform != \"win32\" in /usr/local/lib/python3.7/dist-packages (from ipython->ipython-tikzmagic==0.1.1) (4.8.0)\n",
            "Requirement already satisfied: simplegeneric>0.8 in /usr/local/lib/python3.7/dist-packages (from ipython->ipython-tikzmagic==0.1.1) (0.8.1)\n",
            "Requirement already satisfied: decorator in /usr/local/lib/python3.7/dist-packages (from ipython->ipython-tikzmagic==0.1.1) (4.4.2)\n",
            "Requirement already satisfied: ipython-genutils in /usr/local/lib/python3.7/dist-packages (from traitlets>=4.2->ipython->ipython-tikzmagic==0.1.1) (0.2.0)\n",
            "Requirement already satisfied: six>=1.9.0 in /usr/local/lib/python3.7/dist-packages (from prompt-toolkit<2.0.0,>=1.0.4->ipython->ipython-tikzmagic==0.1.1) (1.15.0)\n",
            "Requirement already satisfied: wcwidth in /usr/local/lib/python3.7/dist-packages (from prompt-toolkit<2.0.0,>=1.0.4->ipython->ipython-tikzmagic==0.1.1) (0.2.5)\n",
            "Requirement already satisfied: ptyprocess>=0.5 in /usr/local/lib/python3.7/dist-packages (from pexpect; sys_platform != \"win32\"->ipython->ipython-tikzmagic==0.1.1) (0.7.0)\n",
            "Building wheels for collected packages: ipython-tikzmagic\n",
            "  Building wheel for ipython-tikzmagic (setup.py) ... \u001b[?25l\u001b[?25hdone\n",
            "  Created wheel for ipython-tikzmagic: filename=ipython_tikzmagic-0.1.1-cp37-none-any.whl size=6224 sha256=824da04e1199b1f860139a3749771aede28dc87d707206d51789b768069539ee\n",
            "  Stored in directory: /tmp/pip-ephem-wheel-cache-gudq3x38/wheels/0b/5d/55/ab467cf2f7483b8e5d926491c0df452011ce1567d418ad9910\n",
            "Successfully built ipython-tikzmagic\n",
            "The tikzmagic extension is already loaded. To reload it, use:\n",
            "  %reload_ext tikzmagic\n"
          ],
          "name": "stdout"
        }
      ]
    },
    {
      "cell_type": "code",
      "metadata": {
        "colab": {
          "base_uri": "https://localhost:8080/",
          "height": 260
        },
        "id": "9oHFAo5TOyr3",
        "outputId": "1e89b4a7-ac08-4ba6-9e36-e7eb362c8f1e"
      },
      "source": [
        "%%tikz -S test_output.tikz -f svg\n",
        "\\draw (0,0) rectangle (1,1);\n",
        "\\filldraw (0.5,0.5) circle (.1);"
      ],
      "execution_count": 147,
      "outputs": [
        {
          "output_type": "display_data",
          "data": {
            "image/svg+xml": "<svg height=\"240px\" version=\"1.1\" viewBox=\"0 0 28.745 28.745\" width=\"400px\" xmlns=\"http://www.w3.org/2000/svg\" xmlns:xlink=\"http://www.w3.org/1999/xlink\">\n<g id=\"surface1\">\n<path d=\"M 0.00021875 -0.000875 L 0.00021875 28.346781 L 28.347875 28.346781 L 28.347875 -0.000875 Z M 0.00021875 -0.000875 \" style=\"fill:none;stroke-width:0.3985;stroke-linecap:butt;stroke-linejoin:miter;stroke:rgb(0%,0%,0%);stroke-opacity:1;stroke-miterlimit:10;\" transform=\"matrix(1,0,0,-1,0.199,28.546)\"/>\n<path d=\"M 17.008031 14.174906 C 17.008031 15.737406 15.7385 17.006937 14.172094 17.006937 C 12.609594 17.006937 11.340063 15.737406 11.340063 14.174906 C 11.340063 12.6085 12.609594 11.338969 14.172094 11.338969 C 15.7385 11.338969 17.008031 12.6085 17.008031 14.174906 Z M 17.008031 14.174906 \" style=\"fill-rule:nonzero;fill:rgb(0%,0%,0%);fill-opacity:1;stroke-width:0.3985;stroke-linecap:butt;stroke-linejoin:miter;stroke:rgb(0%,0%,0%);stroke-opacity:1;stroke-miterlimit:10;\" transform=\"matrix(1,0,0,-1,0.199,28.546)\"/>\n</g>\n</svg>"
          },
          "metadata": {
            "tags": [],
            "isolated": "true"
          }
        }
      ]
    },
    {
      "cell_type": "markdown",
      "metadata": {
        "id": "9nSOUuyUTDgh"
      },
      "source": [
        "# flow diagram"
      ]
    },
    {
      "cell_type": "markdown",
      "metadata": {
        "id": "H6rjcktqD-JK"
      },
      "source": [
        "In this lesson, I am going to talk about the financial transactions.\n",
        "Let me first introduce tools that I am going to use.\n",
        "\n",
        "Take a look."
      ]
    },
    {
      "cell_type": "code",
      "metadata": {
        "colab": {
          "base_uri": "https://localhost:8080/",
          "height": 0
        },
        "id": "MYmnEkAaP6nU",
        "outputId": "3018a5f5-fa27-477c-b0eb-c893e256c3f0"
      },
      "source": [
        "#@title receive money { vertical-output: true }\n",
        "\n",
        "%%tikz -S test_output.tikz -f svg\n",
        "\\draw [thick] (-0.5,0) -- (5.5,0);\n",
        "\\draw (0,0.1) -- (0,-0.1) node [below right] {$0$};\n",
        "\\draw (5,0.1) -- (5,-0.1) node [below right] {$T$};\n",
        "\n",
        "\\draw [->] (0,0) -- (0,1) ;\n"
      ],
      "execution_count": 148,
      "outputs": [
        {
          "output_type": "display_data",
          "data": {
            "image/svg+xml": "<svg height=\"240px\" version=\"1.1\" viewBox=\"0 0 170.876 45.029\" width=\"400px\" xmlns=\"http://www.w3.org/2000/svg\" xmlns:xlink=\"http://www.w3.org/1999/xlink\">\n<defs>\n<g>\n<symbol id=\"glyph0-0\" overflow=\"visible\">\n<path d=\"\" style=\"stroke:none;\"/>\n</symbol>\n<symbol id=\"glyph0-1\" overflow=\"visible\">\n<path d=\"M 4.578125 -3.1875 C 4.578125 -3.984375 4.53125 -4.78125 4.1875 -5.515625 C 3.734375 -6.484375 2.90625 -6.640625 2.5 -6.640625 C 1.890625 -6.640625 1.171875 -6.375 0.75 -5.453125 C 0.4375 -4.765625 0.390625 -3.984375 0.390625 -3.1875 C 0.390625 -2.4375 0.421875 -1.546875 0.84375 -0.78125 C 1.265625 0.015625 2 0.21875 2.484375 0.21875 C 3.015625 0.21875 3.78125 0.015625 4.21875 -0.9375 C 4.53125 -1.625 4.578125 -2.40625 4.578125 -3.1875 Z M 2.484375 0 C 2.09375 0 1.5 -0.25 1.328125 -1.203125 C 1.21875 -1.796875 1.21875 -2.71875 1.21875 -3.3125 C 1.21875 -3.953125 1.21875 -4.609375 1.296875 -5.140625 C 1.484375 -6.328125 2.234375 -6.421875 2.484375 -6.421875 C 2.8125 -6.421875 3.46875 -6.234375 3.65625 -5.25 C 3.765625 -4.6875 3.765625 -3.9375 3.765625 -3.3125 C 3.765625 -2.5625 3.765625 -1.890625 3.65625 -1.25 C 3.5 -0.296875 2.9375 0 2.484375 0 Z M 2.484375 0 \" style=\"stroke:none;\"/>\n</symbol>\n<symbol id=\"glyph1-0\" overflow=\"visible\">\n<path d=\"\" style=\"stroke:none;\"/>\n</symbol>\n<symbol id=\"glyph1-1\" overflow=\"visible\">\n<path d=\"M 4.25 -6.046875 C 4.328125 -6.328125 4.359375 -6.390625 4.484375 -6.421875 C 4.578125 -6.4375 4.90625 -6.4375 5.109375 -6.4375 C 6.125 -6.4375 6.5625 -6.40625 6.5625 -5.625 C 6.5625 -5.46875 6.53125 -5.078125 6.484375 -4.828125 C 6.484375 -4.78125 6.453125 -4.671875 6.453125 -4.640625 C 6.453125 -4.578125 6.484375 -4.5 6.578125 -4.5 C 6.6875 -4.5 6.703125 -4.578125 6.734375 -4.734375 L 7 -6.46875 C 7.015625 -6.515625 7.015625 -6.609375 7.015625 -6.640625 C 7.015625 -6.75 6.921875 -6.75 6.75 -6.75 L 1.21875 -6.75 C 0.984375 -6.75 0.96875 -6.734375 0.890625 -6.546875 L 0.296875 -4.796875 C 0.296875 -4.78125 0.234375 -4.640625 0.234375 -4.609375 C 0.234375 -4.5625 0.296875 -4.5 0.359375 -4.5 C 0.453125 -4.5 0.46875 -4.5625 0.53125 -4.71875 C 1.0625 -6.265625 1.328125 -6.4375 2.796875 -6.4375 L 3.1875 -6.4375 C 3.46875 -6.4375 3.46875 -6.40625 3.46875 -6.3125 C 3.46875 -6.265625 3.4375 -6.140625 3.421875 -6.109375 L 2.09375 -0.78125 C 2 -0.421875 1.96875 -0.3125 0.90625 -0.3125 C 0.546875 -0.3125 0.484375 -0.3125 0.484375 -0.125 C 0.484375 0 0.59375 0 0.65625 0 C 0.921875 0 1.203125 -0.015625 1.46875 -0.015625 C 1.75 -0.015625 2.046875 -0.03125 2.328125 -0.03125 C 2.609375 -0.03125 2.875 -0.015625 3.15625 -0.015625 C 3.4375 -0.015625 3.734375 0 4.015625 0 C 4.109375 0 4.234375 0 4.234375 -0.203125 C 4.234375 -0.3125 4.15625 -0.3125 3.890625 -0.3125 C 3.65625 -0.3125 3.515625 -0.3125 3.265625 -0.328125 C 2.96875 -0.359375 2.890625 -0.390625 2.890625 -0.546875 C 2.890625 -0.5625 2.890625 -0.609375 2.9375 -0.75 Z M 4.25 -6.046875 \" style=\"stroke:none;\"/>\n</symbol>\n</g>\n<clipPath id=\"clip1\">\n  <path d=\"M 0 28 L 170.875 28 L 170.875 29 L 0 29 Z M 0 28 \"/>\n</clipPath>\n</defs>\n<g id=\"surface1\">\n<g clip-path=\"url(#clip1)\" clip-rule=\"nonzero\">\n<path d=\"M -14.173563 -0.000875 L 155.908469 -0.000875 \" style=\"fill:none;stroke-width:0.79701;stroke-linecap:butt;stroke-linejoin:miter;stroke:rgb(0%,0%,0%);stroke-opacity:1;stroke-miterlimit:10;\" transform=\"matrix(1,0,0,-1,14.572,28.546)\"/>\n</g>\n<path d=\"M -0.0016875 2.835063 L -0.0016875 -2.832906 \" style=\"fill:none;stroke-width:0.3985;stroke-linecap:butt;stroke-linejoin:miter;stroke:rgb(0%,0%,0%);stroke-opacity:1;stroke-miterlimit:10;\" transform=\"matrix(1,0,0,-1,14.572,28.546)\"/>\n<g style=\"fill:rgb(0%,0%,0%);fill-opacity:1;\">\n  <use x=\"18.091\" xlink:href=\"#glyph0-1\" y=\"41.321\"/>\n</g>\n<path d=\"M 141.732687 2.835063 L 141.732687 -2.832906 \" style=\"fill:none;stroke-width:0.3985;stroke-linecap:butt;stroke-linejoin:miter;stroke:rgb(0%,0%,0%);stroke-opacity:1;stroke-miterlimit:10;\" transform=\"matrix(1,0,0,-1,14.572,28.546)\"/>\n<g style=\"fill:rgb(0%,0%,0%);fill-opacity:1;\">\n  <use x=\"159.824\" xlink:href=\"#glyph1-1\" y=\"41.708\"/>\n</g>\n<path d=\"M -0.0016875 -0.000875 L -0.0016875 27.88975 \" style=\"fill:none;stroke-width:0.3985;stroke-linecap:butt;stroke-linejoin:miter;stroke:rgb(0%,0%,0%);stroke-opacity:1;stroke-miterlimit:10;\" transform=\"matrix(1,0,0,-1,14.572,28.546)\"/>\n<path d=\"M -1.194082 1.595438 C -1.096426 0.997781 0.00123 0.0993438 0.298105 0.0016875 C 0.00123 -0.099875 -1.096426 -0.994406 -1.194082 -1.592062 \" style=\"fill:none;stroke-width:0.31879;stroke-linecap:round;stroke-linejoin:round;stroke:rgb(0%,0%,0%);stroke-opacity:1;stroke-miterlimit:10;\" transform=\"matrix(0,-1,-1,0,14.572,0.65748)\"/>\n</g>\n</svg>"
          },
          "metadata": {
            "tags": [],
            "isolated": "true"
          }
        }
      ]
    },
    {
      "cell_type": "markdown",
      "metadata": {
        "id": "sbJhT7LAEkLN"
      },
      "source": [
        "It looks like a cash-flow diagram as you see in the usual textbook in finance.\n",
        "But, I will not call this as a cash-flow diagram because I am going to put something other than the cashflows.\n",
        "\n",
        "In order to understand the lesson, we need to know what this diagram means.\n",
        "\n",
        "The x axis here represents time. We have time 0, and also time capital T, which we will call maturity date. It's quite arbitrary, but we need to used to it.\n"
      ]
    },
    {
      "cell_type": "code",
      "metadata": {
        "colab": {
          "base_uri": "https://localhost:8080/",
          "height": 0
        },
        "id": "Hn298D6QPU2U",
        "cellView": "form",
        "outputId": "29f9369c-1f69-43a4-af84-8464397cc7dc"
      },
      "source": [
        "#@title flow diagram { vertical-output: true }\n",
        "\n",
        "%%tikz -S test_output.tikz -f svg\n",
        "\\draw [thick] (-0.5,0) -- (5.5,0);\n",
        "\\draw (0,0.1) -- (0,-0.1) node [below right] {$0$};\n",
        "\\draw (5,0.1) -- (5,-0.1) node [below right] {$T$};\n"
      ],
      "execution_count": 149,
      "outputs": [
        {
          "output_type": "display_data",
          "data": {
            "image/svg+xml": "<svg height=\"240px\" version=\"1.1\" viewBox=\"0 0 170.876 19.517\" width=\"400px\" xmlns=\"http://www.w3.org/2000/svg\" xmlns:xlink=\"http://www.w3.org/1999/xlink\">\n<defs>\n<g>\n<symbol id=\"glyph0-0\" overflow=\"visible\">\n<path d=\"\" style=\"stroke:none;\"/>\n</symbol>\n<symbol id=\"glyph0-1\" overflow=\"visible\">\n<path d=\"M 4.578125 -3.1875 C 4.578125 -3.984375 4.53125 -4.78125 4.1875 -5.515625 C 3.734375 -6.484375 2.90625 -6.640625 2.5 -6.640625 C 1.890625 -6.640625 1.171875 -6.375 0.75 -5.453125 C 0.4375 -4.765625 0.390625 -3.984375 0.390625 -3.1875 C 0.390625 -2.4375 0.421875 -1.546875 0.84375 -0.78125 C 1.265625 0.015625 2 0.21875 2.484375 0.21875 C 3.015625 0.21875 3.78125 0.015625 4.21875 -0.9375 C 4.53125 -1.625 4.578125 -2.40625 4.578125 -3.1875 Z M 2.484375 0 C 2.09375 0 1.5 -0.25 1.328125 -1.203125 C 1.21875 -1.796875 1.21875 -2.71875 1.21875 -3.3125 C 1.21875 -3.953125 1.21875 -4.609375 1.296875 -5.140625 C 1.484375 -6.328125 2.234375 -6.421875 2.484375 -6.421875 C 2.8125 -6.421875 3.46875 -6.234375 3.65625 -5.25 C 3.765625 -4.6875 3.765625 -3.9375 3.765625 -3.3125 C 3.765625 -2.5625 3.765625 -1.890625 3.65625 -1.25 C 3.5 -0.296875 2.9375 0 2.484375 0 Z M 2.484375 0 \" style=\"stroke:none;\"/>\n</symbol>\n<symbol id=\"glyph1-0\" overflow=\"visible\">\n<path d=\"\" style=\"stroke:none;\"/>\n</symbol>\n<symbol id=\"glyph1-1\" overflow=\"visible\">\n<path d=\"M 4.25 -6.046875 C 4.328125 -6.328125 4.359375 -6.390625 4.484375 -6.421875 C 4.578125 -6.4375 4.90625 -6.4375 5.109375 -6.4375 C 6.125 -6.4375 6.5625 -6.40625 6.5625 -5.625 C 6.5625 -5.46875 6.53125 -5.078125 6.484375 -4.828125 C 6.484375 -4.78125 6.453125 -4.671875 6.453125 -4.640625 C 6.453125 -4.578125 6.484375 -4.5 6.578125 -4.5 C 6.6875 -4.5 6.703125 -4.578125 6.734375 -4.734375 L 7 -6.46875 C 7.015625 -6.515625 7.015625 -6.609375 7.015625 -6.640625 C 7.015625 -6.75 6.921875 -6.75 6.75 -6.75 L 1.21875 -6.75 C 0.984375 -6.75 0.96875 -6.734375 0.890625 -6.546875 L 0.296875 -4.796875 C 0.296875 -4.78125 0.234375 -4.640625 0.234375 -4.609375 C 0.234375 -4.5625 0.296875 -4.5 0.359375 -4.5 C 0.453125 -4.5 0.46875 -4.5625 0.53125 -4.71875 C 1.0625 -6.265625 1.328125 -6.4375 2.796875 -6.4375 L 3.1875 -6.4375 C 3.46875 -6.4375 3.46875 -6.40625 3.46875 -6.3125 C 3.46875 -6.265625 3.4375 -6.140625 3.421875 -6.109375 L 2.09375 -0.78125 C 2 -0.421875 1.96875 -0.3125 0.90625 -0.3125 C 0.546875 -0.3125 0.484375 -0.3125 0.484375 -0.125 C 0.484375 0 0.59375 0 0.65625 0 C 0.921875 0 1.203125 -0.015625 1.46875 -0.015625 C 1.75 -0.015625 2.046875 -0.03125 2.328125 -0.03125 C 2.609375 -0.03125 2.875 -0.015625 3.15625 -0.015625 C 3.4375 -0.015625 3.734375 0 4.015625 0 C 4.109375 0 4.234375 0 4.234375 -0.203125 C 4.234375 -0.3125 4.15625 -0.3125 3.890625 -0.3125 C 3.65625 -0.3125 3.515625 -0.3125 3.265625 -0.328125 C 2.96875 -0.359375 2.890625 -0.390625 2.890625 -0.546875 C 2.890625 -0.5625 2.890625 -0.609375 2.9375 -0.75 Z M 4.25 -6.046875 \" style=\"stroke:none;\"/>\n</symbol>\n</g>\n<clipPath id=\"clip1\">\n  <path d=\"M 0 2 L 170.875 2 L 170.875 4 L 0 4 Z M 0 2 \"/>\n</clipPath>\n</defs>\n<g id=\"surface1\">\n<g clip-path=\"url(#clip1)\" clip-rule=\"nonzero\">\n<path d=\"M -14.173563 -0.00115625 L 155.908469 -0.00115625 \" style=\"fill:none;stroke-width:0.79701;stroke-linecap:butt;stroke-linejoin:miter;stroke:rgb(0%,0%,0%);stroke-opacity:1;stroke-miterlimit:10;\" transform=\"matrix(1,0,0,-1,14.572,3.034)\"/>\n</g>\n<path d=\"M -0.0016875 2.834781 L -0.0016875 -2.833187 \" style=\"fill:none;stroke-width:0.3985;stroke-linecap:butt;stroke-linejoin:miter;stroke:rgb(0%,0%,0%);stroke-opacity:1;stroke-miterlimit:10;\" transform=\"matrix(1,0,0,-1,14.572,3.034)\"/>\n<g style=\"fill:rgb(0%,0%,0%);fill-opacity:1;\">\n  <use x=\"18.091\" xlink:href=\"#glyph0-1\" y=\"15.809\"/>\n</g>\n<path d=\"M 141.732687 2.834781 L 141.732687 -2.833187 \" style=\"fill:none;stroke-width:0.3985;stroke-linecap:butt;stroke-linejoin:miter;stroke:rgb(0%,0%,0%);stroke-opacity:1;stroke-miterlimit:10;\" transform=\"matrix(1,0,0,-1,14.572,3.034)\"/>\n<g style=\"fill:rgb(0%,0%,0%);fill-opacity:1;\">\n  <use x=\"159.824\" xlink:href=\"#glyph1-1\" y=\"16.196\"/>\n</g>\n</g>\n</svg>"
          },
          "metadata": {
            "tags": [],
            "isolated": "true"
          }
        }
      ]
    },
    {
      "cell_type": "markdown",
      "metadata": {
        "id": "81wFFNIfEewg"
      },
      "source": [
        "We always love to have money. So in this diagram, the upward arrow means we recieve a certain amount of money at time 0."
      ]
    },
    {
      "cell_type": "code",
      "metadata": {
        "colab": {
          "base_uri": "https://localhost:8080/",
          "height": 0
        },
        "id": "mJ1VTyBIF9hu",
        "cellView": "form",
        "outputId": "487d9484-a8ad-4ff2-f23d-4b6ec1fd90fd"
      },
      "source": [
        "#@title receive money { vertical-output: true }\n",
        "\n",
        "%%tikz -S test_output.tikz -f svg\n",
        "\\draw [thick] (-0.5,0) -- (5.5,0);\n",
        "\\draw (0,0.1) -- (0,-0.1) node [below right] {$0$};\n",
        "\\draw (5,0.1) -- (5,-0.1) node [below right] {$T$};\n",
        "\n",
        "\\draw [->] (0,0) -- (0,1) ;\n"
      ],
      "execution_count": 150,
      "outputs": [
        {
          "output_type": "display_data",
          "data": {
            "image/svg+xml": "<svg height=\"240px\" version=\"1.1\" viewBox=\"0 0 170.876 45.029\" width=\"400px\" xmlns=\"http://www.w3.org/2000/svg\" xmlns:xlink=\"http://www.w3.org/1999/xlink\">\n<defs>\n<g>\n<symbol id=\"glyph0-0\" overflow=\"visible\">\n<path d=\"\" style=\"stroke:none;\"/>\n</symbol>\n<symbol id=\"glyph0-1\" overflow=\"visible\">\n<path d=\"M 4.578125 -3.1875 C 4.578125 -3.984375 4.53125 -4.78125 4.1875 -5.515625 C 3.734375 -6.484375 2.90625 -6.640625 2.5 -6.640625 C 1.890625 -6.640625 1.171875 -6.375 0.75 -5.453125 C 0.4375 -4.765625 0.390625 -3.984375 0.390625 -3.1875 C 0.390625 -2.4375 0.421875 -1.546875 0.84375 -0.78125 C 1.265625 0.015625 2 0.21875 2.484375 0.21875 C 3.015625 0.21875 3.78125 0.015625 4.21875 -0.9375 C 4.53125 -1.625 4.578125 -2.40625 4.578125 -3.1875 Z M 2.484375 0 C 2.09375 0 1.5 -0.25 1.328125 -1.203125 C 1.21875 -1.796875 1.21875 -2.71875 1.21875 -3.3125 C 1.21875 -3.953125 1.21875 -4.609375 1.296875 -5.140625 C 1.484375 -6.328125 2.234375 -6.421875 2.484375 -6.421875 C 2.8125 -6.421875 3.46875 -6.234375 3.65625 -5.25 C 3.765625 -4.6875 3.765625 -3.9375 3.765625 -3.3125 C 3.765625 -2.5625 3.765625 -1.890625 3.65625 -1.25 C 3.5 -0.296875 2.9375 0 2.484375 0 Z M 2.484375 0 \" style=\"stroke:none;\"/>\n</symbol>\n<symbol id=\"glyph1-0\" overflow=\"visible\">\n<path d=\"\" style=\"stroke:none;\"/>\n</symbol>\n<symbol id=\"glyph1-1\" overflow=\"visible\">\n<path d=\"M 4.25 -6.046875 C 4.328125 -6.328125 4.359375 -6.390625 4.484375 -6.421875 C 4.578125 -6.4375 4.90625 -6.4375 5.109375 -6.4375 C 6.125 -6.4375 6.5625 -6.40625 6.5625 -5.625 C 6.5625 -5.46875 6.53125 -5.078125 6.484375 -4.828125 C 6.484375 -4.78125 6.453125 -4.671875 6.453125 -4.640625 C 6.453125 -4.578125 6.484375 -4.5 6.578125 -4.5 C 6.6875 -4.5 6.703125 -4.578125 6.734375 -4.734375 L 7 -6.46875 C 7.015625 -6.515625 7.015625 -6.609375 7.015625 -6.640625 C 7.015625 -6.75 6.921875 -6.75 6.75 -6.75 L 1.21875 -6.75 C 0.984375 -6.75 0.96875 -6.734375 0.890625 -6.546875 L 0.296875 -4.796875 C 0.296875 -4.78125 0.234375 -4.640625 0.234375 -4.609375 C 0.234375 -4.5625 0.296875 -4.5 0.359375 -4.5 C 0.453125 -4.5 0.46875 -4.5625 0.53125 -4.71875 C 1.0625 -6.265625 1.328125 -6.4375 2.796875 -6.4375 L 3.1875 -6.4375 C 3.46875 -6.4375 3.46875 -6.40625 3.46875 -6.3125 C 3.46875 -6.265625 3.4375 -6.140625 3.421875 -6.109375 L 2.09375 -0.78125 C 2 -0.421875 1.96875 -0.3125 0.90625 -0.3125 C 0.546875 -0.3125 0.484375 -0.3125 0.484375 -0.125 C 0.484375 0 0.59375 0 0.65625 0 C 0.921875 0 1.203125 -0.015625 1.46875 -0.015625 C 1.75 -0.015625 2.046875 -0.03125 2.328125 -0.03125 C 2.609375 -0.03125 2.875 -0.015625 3.15625 -0.015625 C 3.4375 -0.015625 3.734375 0 4.015625 0 C 4.109375 0 4.234375 0 4.234375 -0.203125 C 4.234375 -0.3125 4.15625 -0.3125 3.890625 -0.3125 C 3.65625 -0.3125 3.515625 -0.3125 3.265625 -0.328125 C 2.96875 -0.359375 2.890625 -0.390625 2.890625 -0.546875 C 2.890625 -0.5625 2.890625 -0.609375 2.9375 -0.75 Z M 4.25 -6.046875 \" style=\"stroke:none;\"/>\n</symbol>\n</g>\n<clipPath id=\"clip1\">\n  <path d=\"M 0 28 L 170.875 28 L 170.875 29 L 0 29 Z M 0 28 \"/>\n</clipPath>\n</defs>\n<g id=\"surface1\">\n<g clip-path=\"url(#clip1)\" clip-rule=\"nonzero\">\n<path d=\"M -14.173563 -0.000875 L 155.908469 -0.000875 \" style=\"fill:none;stroke-width:0.79701;stroke-linecap:butt;stroke-linejoin:miter;stroke:rgb(0%,0%,0%);stroke-opacity:1;stroke-miterlimit:10;\" transform=\"matrix(1,0,0,-1,14.572,28.546)\"/>\n</g>\n<path d=\"M -0.0016875 2.835063 L -0.0016875 -2.832906 \" style=\"fill:none;stroke-width:0.3985;stroke-linecap:butt;stroke-linejoin:miter;stroke:rgb(0%,0%,0%);stroke-opacity:1;stroke-miterlimit:10;\" transform=\"matrix(1,0,0,-1,14.572,28.546)\"/>\n<g style=\"fill:rgb(0%,0%,0%);fill-opacity:1;\">\n  <use x=\"18.091\" xlink:href=\"#glyph0-1\" y=\"41.321\"/>\n</g>\n<path d=\"M 141.732687 2.835063 L 141.732687 -2.832906 \" style=\"fill:none;stroke-width:0.3985;stroke-linecap:butt;stroke-linejoin:miter;stroke:rgb(0%,0%,0%);stroke-opacity:1;stroke-miterlimit:10;\" transform=\"matrix(1,0,0,-1,14.572,28.546)\"/>\n<g style=\"fill:rgb(0%,0%,0%);fill-opacity:1;\">\n  <use x=\"159.824\" xlink:href=\"#glyph1-1\" y=\"41.708\"/>\n</g>\n<path d=\"M -0.0016875 -0.000875 L -0.0016875 27.88975 \" style=\"fill:none;stroke-width:0.3985;stroke-linecap:butt;stroke-linejoin:miter;stroke:rgb(0%,0%,0%);stroke-opacity:1;stroke-miterlimit:10;\" transform=\"matrix(1,0,0,-1,14.572,28.546)\"/>\n<path d=\"M -1.194082 1.595438 C -1.096426 0.997781 0.00123 0.0993438 0.298105 0.0016875 C 0.00123 -0.099875 -1.096426 -0.994406 -1.194082 -1.592062 \" style=\"fill:none;stroke-width:0.31879;stroke-linecap:round;stroke-linejoin:round;stroke:rgb(0%,0%,0%);stroke-opacity:1;stroke-miterlimit:10;\" transform=\"matrix(0,-1,-1,0,14.572,0.65748)\"/>\n</g>\n</svg>"
          },
          "metadata": {
            "tags": [],
            "isolated": "true"
          }
        }
      ]
    },
    {
      "cell_type": "markdown",
      "metadata": {
        "id": "wbp9iH8tGfR-"
      },
      "source": [
        "Now we draw the diagram in opposite way. This means that I pay a certain amount of money to someone. I don't know who that someone is."
      ]
    },
    {
      "cell_type": "code",
      "metadata": {
        "colab": {
          "base_uri": "https://localhost:8080/",
          "height": 0
        },
        "id": "SlSkEOewT7qd",
        "cellView": "form",
        "outputId": "1fe5aa1c-404a-4afb-fd80-ebd92bfcc5e0"
      },
      "source": [
        "#@title pay money { vertical-output: true }\n",
        "\n",
        "%%tikz -S test_output.tikz -f svg\n",
        "\\draw [thick] (-0.5,0) -- (5.5,0);\n",
        "\\draw (0,0.1) -- (0,-0.1) node [below right] {$0$};\n",
        "\\draw (5,0.1) -- (5,-0.1) node [below right] {$T$};\n",
        "\n",
        "\\draw [->] (0,0) -- (0,-1) ;"
      ],
      "execution_count": 151,
      "outputs": [
        {
          "output_type": "display_data",
          "data": {
            "image/svg+xml": "<svg height=\"240px\" version=\"1.1\" viewBox=\"0 0 170.876 31.58\" width=\"400px\" xmlns=\"http://www.w3.org/2000/svg\" xmlns:xlink=\"http://www.w3.org/1999/xlink\">\n<defs>\n<g>\n<symbol id=\"glyph0-0\" overflow=\"visible\">\n<path d=\"\" style=\"stroke:none;\"/>\n</symbol>\n<symbol id=\"glyph0-1\" overflow=\"visible\">\n<path d=\"M 4.578125 -3.1875 C 4.578125 -3.984375 4.53125 -4.78125 4.1875 -5.515625 C 3.734375 -6.484375 2.90625 -6.640625 2.5 -6.640625 C 1.890625 -6.640625 1.171875 -6.375 0.75 -5.453125 C 0.4375 -4.765625 0.390625 -3.984375 0.390625 -3.1875 C 0.390625 -2.4375 0.421875 -1.546875 0.84375 -0.78125 C 1.265625 0.015625 2 0.21875 2.484375 0.21875 C 3.015625 0.21875 3.78125 0.015625 4.21875 -0.9375 C 4.53125 -1.625 4.578125 -2.40625 4.578125 -3.1875 Z M 2.484375 0 C 2.09375 0 1.5 -0.25 1.328125 -1.203125 C 1.21875 -1.796875 1.21875 -2.71875 1.21875 -3.3125 C 1.21875 -3.953125 1.21875 -4.609375 1.296875 -5.140625 C 1.484375 -6.328125 2.234375 -6.421875 2.484375 -6.421875 C 2.8125 -6.421875 3.46875 -6.234375 3.65625 -5.25 C 3.765625 -4.6875 3.765625 -3.9375 3.765625 -3.3125 C 3.765625 -2.5625 3.765625 -1.890625 3.65625 -1.25 C 3.5 -0.296875 2.9375 0 2.484375 0 Z M 2.484375 0 \" style=\"stroke:none;\"/>\n</symbol>\n<symbol id=\"glyph1-0\" overflow=\"visible\">\n<path d=\"\" style=\"stroke:none;\"/>\n</symbol>\n<symbol id=\"glyph1-1\" overflow=\"visible\">\n<path d=\"M 4.25 -6.046875 C 4.328125 -6.328125 4.359375 -6.390625 4.484375 -6.421875 C 4.578125 -6.4375 4.90625 -6.4375 5.109375 -6.4375 C 6.125 -6.4375 6.5625 -6.40625 6.5625 -5.625 C 6.5625 -5.46875 6.53125 -5.078125 6.484375 -4.828125 C 6.484375 -4.78125 6.453125 -4.671875 6.453125 -4.640625 C 6.453125 -4.578125 6.484375 -4.5 6.578125 -4.5 C 6.6875 -4.5 6.703125 -4.578125 6.734375 -4.734375 L 7 -6.46875 C 7.015625 -6.515625 7.015625 -6.609375 7.015625 -6.640625 C 7.015625 -6.75 6.921875 -6.75 6.75 -6.75 L 1.21875 -6.75 C 0.984375 -6.75 0.96875 -6.734375 0.890625 -6.546875 L 0.296875 -4.796875 C 0.296875 -4.78125 0.234375 -4.640625 0.234375 -4.609375 C 0.234375 -4.5625 0.296875 -4.5 0.359375 -4.5 C 0.453125 -4.5 0.46875 -4.5625 0.53125 -4.71875 C 1.0625 -6.265625 1.328125 -6.4375 2.796875 -6.4375 L 3.1875 -6.4375 C 3.46875 -6.4375 3.46875 -6.40625 3.46875 -6.3125 C 3.46875 -6.265625 3.4375 -6.140625 3.421875 -6.109375 L 2.09375 -0.78125 C 2 -0.421875 1.96875 -0.3125 0.90625 -0.3125 C 0.546875 -0.3125 0.484375 -0.3125 0.484375 -0.125 C 0.484375 0 0.59375 0 0.65625 0 C 0.921875 0 1.203125 -0.015625 1.46875 -0.015625 C 1.75 -0.015625 2.046875 -0.03125 2.328125 -0.03125 C 2.609375 -0.03125 2.875 -0.015625 3.15625 -0.015625 C 3.4375 -0.015625 3.734375 0 4.015625 0 C 4.109375 0 4.234375 0 4.234375 -0.203125 C 4.234375 -0.3125 4.15625 -0.3125 3.890625 -0.3125 C 3.65625 -0.3125 3.515625 -0.3125 3.265625 -0.328125 C 2.96875 -0.359375 2.890625 -0.390625 2.890625 -0.546875 C 2.890625 -0.5625 2.890625 -0.609375 2.9375 -0.75 Z M 4.25 -6.046875 \" style=\"stroke:none;\"/>\n</symbol>\n</g>\n<clipPath id=\"clip1\">\n  <path d=\"M 0 2 L 170.875 2 L 170.875 4 L 0 4 Z M 0 2 \"/>\n</clipPath>\n<clipPath id=\"clip2\">\n  <path d=\"M 14 2 L 15 2 L 15 31.578125 L 14 31.578125 Z M 14 2 \"/>\n</clipPath>\n<clipPath id=\"clip3\">\n  <path d=\"M 12 29 L 17 29 L 17 31.578125 L 12 31.578125 Z M 12 29 \"/>\n</clipPath>\n</defs>\n<g id=\"surface1\">\n<g clip-path=\"url(#clip1)\" clip-rule=\"nonzero\">\n<path d=\"M -14.173563 -0.00115625 L 155.908469 -0.00115625 \" style=\"fill:none;stroke-width:0.79701;stroke-linecap:butt;stroke-linejoin:miter;stroke:rgb(0%,0%,0%);stroke-opacity:1;stroke-miterlimit:10;\" transform=\"matrix(1,0,0,-1,14.572,3.034)\"/>\n</g>\n<path d=\"M -0.0016875 2.834781 L -0.0016875 -2.833188 \" style=\"fill:none;stroke-width:0.3985;stroke-linecap:butt;stroke-linejoin:miter;stroke:rgb(0%,0%,0%);stroke-opacity:1;stroke-miterlimit:10;\" transform=\"matrix(1,0,0,-1,14.572,3.034)\"/>\n<g style=\"fill:rgb(0%,0%,0%);fill-opacity:1;\">\n  <use x=\"18.091\" xlink:href=\"#glyph0-1\" y=\"15.809\"/>\n</g>\n<path d=\"M 141.732687 2.834781 L 141.732687 -2.833188 \" style=\"fill:none;stroke-width:0.3985;stroke-linecap:butt;stroke-linejoin:miter;stroke:rgb(0%,0%,0%);stroke-opacity:1;stroke-miterlimit:10;\" transform=\"matrix(1,0,0,-1,14.572,3.034)\"/>\n<g style=\"fill:rgb(0%,0%,0%);fill-opacity:1;\">\n  <use x=\"159.824\" xlink:href=\"#glyph1-1\" y=\"16.197\"/>\n</g>\n<g clip-path=\"url(#clip2)\" clip-rule=\"nonzero\">\n<path d=\"M -0.0016875 -0.00115625 L -0.0016875 -27.887875 \" style=\"fill:none;stroke-width:0.3985;stroke-linecap:butt;stroke-linejoin:miter;stroke:rgb(0%,0%,0%);stroke-opacity:1;stroke-miterlimit:10;\" transform=\"matrix(1,0,0,-1,14.572,3.034)\"/>\n</g>\n<g clip-path=\"url(#clip3)\" clip-rule=\"nonzero\">\n<path d=\"M -1.195957 1.592062 C -1.094395 0.994406 -0.000645 0.099875 0.300136 -0.0016875 C -0.000645 -0.0993438 -1.094395 -0.997781 -1.195957 -1.595438 \" style=\"fill:none;stroke-width:0.31879;stroke-linecap:round;stroke-linejoin:round;stroke:rgb(0%,0%,0%);stroke-opacity:1;stroke-miterlimit:10;\" transform=\"matrix(0,1,1,0,14.572,30.92252)\"/>\n</g>\n</g>\n</svg>"
          },
          "metadata": {
            "tags": [],
            "isolated": "true"
          }
        }
      ]
    },
    {
      "cell_type": "markdown",
      "metadata": {
        "id": "Y9FZdHotG21g"
      },
      "source": [
        "Once we understand the flow diagram, we are able to express the oldest transaction in human history, which is a barter system."
      ]
    },
    {
      "cell_type": "code",
      "metadata": {
        "colab": {
          "base_uri": "https://localhost:8080/",
          "height": 0
        },
        "id": "hnL7kTTGUkNd",
        "cellView": "form",
        "outputId": "cedc411c-6108-4766-841e-e5baa9815a91"
      },
      "source": [
        "#@title apple vs. banana { vertical-output: true }\n",
        "\n",
        "%%tikz -S test_output.tikz -f svg\n",
        "\\draw [thick] (-0.5,0) -- (5.5,0);\n",
        "\\draw (0,0.1) -- (0,-0.1) node [below right] {$0$};\n",
        "\\draw (5,0.1) -- (5,-0.1) node [below right] {$T$};\n",
        "\n",
        "\\draw [color=yellow, ->] (0,0) -- (0,1) ;\n",
        "\\draw [color=red, ->] (0,0) -- (0,-1) ;"
      ],
      "execution_count": 152,
      "outputs": [
        {
          "output_type": "display_data",
          "data": {
            "image/svg+xml": "<svg height=\"240px\" version=\"1.1\" viewBox=\"0 0 170.876 57.091\" width=\"400px\" xmlns=\"http://www.w3.org/2000/svg\" xmlns:xlink=\"http://www.w3.org/1999/xlink\">\n<defs>\n<g>\n<symbol id=\"glyph0-0\" overflow=\"visible\">\n<path d=\"\" style=\"stroke:none;\"/>\n</symbol>\n<symbol id=\"glyph0-1\" overflow=\"visible\">\n<path d=\"M 4.578125 -3.1875 C 4.578125 -3.984375 4.53125 -4.78125 4.1875 -5.515625 C 3.734375 -6.484375 2.90625 -6.640625 2.5 -6.640625 C 1.890625 -6.640625 1.171875 -6.375 0.75 -5.453125 C 0.4375 -4.765625 0.390625 -3.984375 0.390625 -3.1875 C 0.390625 -2.4375 0.421875 -1.546875 0.84375 -0.78125 C 1.265625 0.015625 2 0.21875 2.484375 0.21875 C 3.015625 0.21875 3.78125 0.015625 4.21875 -0.9375 C 4.53125 -1.625 4.578125 -2.40625 4.578125 -3.1875 Z M 2.484375 0 C 2.09375 0 1.5 -0.25 1.328125 -1.203125 C 1.21875 -1.796875 1.21875 -2.71875 1.21875 -3.3125 C 1.21875 -3.953125 1.21875 -4.609375 1.296875 -5.140625 C 1.484375 -6.328125 2.234375 -6.421875 2.484375 -6.421875 C 2.8125 -6.421875 3.46875 -6.234375 3.65625 -5.25 C 3.765625 -4.6875 3.765625 -3.9375 3.765625 -3.3125 C 3.765625 -2.5625 3.765625 -1.890625 3.65625 -1.25 C 3.5 -0.296875 2.9375 0 2.484375 0 Z M 2.484375 0 \" style=\"stroke:none;\"/>\n</symbol>\n<symbol id=\"glyph1-0\" overflow=\"visible\">\n<path d=\"\" style=\"stroke:none;\"/>\n</symbol>\n<symbol id=\"glyph1-1\" overflow=\"visible\">\n<path d=\"M 4.25 -6.046875 C 4.328125 -6.328125 4.359375 -6.390625 4.484375 -6.421875 C 4.578125 -6.4375 4.90625 -6.4375 5.109375 -6.4375 C 6.125 -6.4375 6.5625 -6.40625 6.5625 -5.625 C 6.5625 -5.46875 6.53125 -5.078125 6.484375 -4.828125 C 6.484375 -4.78125 6.453125 -4.671875 6.453125 -4.640625 C 6.453125 -4.578125 6.484375 -4.5 6.578125 -4.5 C 6.6875 -4.5 6.703125 -4.578125 6.734375 -4.734375 L 7 -6.46875 C 7.015625 -6.515625 7.015625 -6.609375 7.015625 -6.640625 C 7.015625 -6.75 6.921875 -6.75 6.75 -6.75 L 1.21875 -6.75 C 0.984375 -6.75 0.96875 -6.734375 0.890625 -6.546875 L 0.296875 -4.796875 C 0.296875 -4.78125 0.234375 -4.640625 0.234375 -4.609375 C 0.234375 -4.5625 0.296875 -4.5 0.359375 -4.5 C 0.453125 -4.5 0.46875 -4.5625 0.53125 -4.71875 C 1.0625 -6.265625 1.328125 -6.4375 2.796875 -6.4375 L 3.1875 -6.4375 C 3.46875 -6.4375 3.46875 -6.40625 3.46875 -6.3125 C 3.46875 -6.265625 3.4375 -6.140625 3.421875 -6.109375 L 2.09375 -0.78125 C 2 -0.421875 1.96875 -0.3125 0.90625 -0.3125 C 0.546875 -0.3125 0.484375 -0.3125 0.484375 -0.125 C 0.484375 0 0.59375 0 0.65625 0 C 0.921875 0 1.203125 -0.015625 1.46875 -0.015625 C 1.75 -0.015625 2.046875 -0.03125 2.328125 -0.03125 C 2.609375 -0.03125 2.875 -0.015625 3.15625 -0.015625 C 3.4375 -0.015625 3.734375 0 4.015625 0 C 4.109375 0 4.234375 0 4.234375 -0.203125 C 4.234375 -0.3125 4.15625 -0.3125 3.890625 -0.3125 C 3.65625 -0.3125 3.515625 -0.3125 3.265625 -0.328125 C 2.96875 -0.359375 2.890625 -0.390625 2.890625 -0.546875 C 2.890625 -0.5625 2.890625 -0.609375 2.9375 -0.75 Z M 4.25 -6.046875 \" style=\"stroke:none;\"/>\n</symbol>\n</g>\n<clipPath id=\"clip1\">\n  <path d=\"M 0 28 L 170.875 28 L 170.875 29 L 0 29 Z M 0 28 \"/>\n</clipPath>\n</defs>\n<g id=\"surface1\">\n<g clip-path=\"url(#clip1)\" clip-rule=\"nonzero\">\n<path d=\"M -14.173563 -0.001875 L 155.908469 -0.001875 \" style=\"fill:none;stroke-width:0.79701;stroke-linecap:butt;stroke-linejoin:miter;stroke:rgb(0%,0%,0%);stroke-opacity:1;stroke-miterlimit:10;\" transform=\"matrix(1,0,0,-1,14.572,28.545)\"/>\n</g>\n<path d=\"M -0.0016875 2.834063 L -0.0016875 -2.833906 \" style=\"fill:none;stroke-width:0.3985;stroke-linecap:butt;stroke-linejoin:miter;stroke:rgb(0%,0%,0%);stroke-opacity:1;stroke-miterlimit:10;\" transform=\"matrix(1,0,0,-1,14.572,28.545)\"/>\n<g style=\"fill:rgb(0%,0%,0%);fill-opacity:1;\">\n  <use x=\"18.091\" xlink:href=\"#glyph0-1\" y=\"41.32\"/>\n</g>\n<path d=\"M 141.732687 2.834063 L 141.732687 -2.833906 \" style=\"fill:none;stroke-width:0.3985;stroke-linecap:butt;stroke-linejoin:miter;stroke:rgb(0%,0%,0%);stroke-opacity:1;stroke-miterlimit:10;\" transform=\"matrix(1,0,0,-1,14.572,28.545)\"/>\n<g style=\"fill:rgb(0%,0%,0%);fill-opacity:1;\">\n  <use x=\"159.824\" xlink:href=\"#glyph1-1\" y=\"41.708\"/>\n</g>\n<path d=\"M -0.0016875 -0.001875 L -0.0016875 27.88875 \" style=\"fill:none;stroke-width:0.3985;stroke-linecap:butt;stroke-linejoin:miter;stroke:rgb(100%,94.898987%,0%);stroke-opacity:1;stroke-miterlimit:10;\" transform=\"matrix(1,0,0,-1,14.572,28.545)\"/>\n<path d=\"M -1.195082 1.595438 C -1.097426 0.997781 0.00023 0.0993438 0.297105 0.0016875 C 0.00023 -0.099875 -1.097426 -0.994406 -1.195082 -1.592062 \" style=\"fill:none;stroke-width:0.31879;stroke-linecap:round;stroke-linejoin:round;stroke:rgb(100%,94.898987%,0%);stroke-opacity:1;stroke-miterlimit:10;\" transform=\"matrix(0,-1,-1,0,14.572,0.65648)\"/>\n<path d=\"M -0.0016875 -0.001875 L -0.0016875 -27.888594 \" style=\"fill:none;stroke-width:0.3985;stroke-linecap:butt;stroke-linejoin:miter;stroke:rgb(100%,0%,0%);stroke-opacity:1;stroke-miterlimit:10;\" transform=\"matrix(1,0,0,-1,14.572,28.545)\"/>\n<path d=\"M -1.195239 1.592062 C -1.097583 0.994406 0.00007375 0.099875 0.296949 -0.0016875 C 0.00007375 -0.0993438 -1.097583 -0.997781 -1.195239 -1.595438 \" style=\"fill:none;stroke-width:0.31879;stroke-linecap:round;stroke-linejoin:round;stroke:rgb(100%,0%,0%);stroke-opacity:1;stroke-miterlimit:10;\" transform=\"matrix(0,1,1,0,14.572,56.43352)\"/>\n</g>\n</svg>"
          },
          "metadata": {
            "tags": [],
            "isolated": "true"
          }
        }
      ]
    },
    {
      "cell_type": "code",
      "metadata": {
        "colab": {
          "base_uri": "https://localhost:8080/",
          "height": 0
        },
        "id": "XA7nLViPU8vd",
        "outputId": "82b9c34b-ee8e-4503-9190-3c9e34605b86"
      },
      "source": [
        "#@title apple vs. money { vertical-output: true }\n",
        "\n",
        "\n",
        "\n",
        "%%tikz -S test_output.tikz -f svg\n",
        "\n",
        "\n",
        "\\draw [thick] (-0.5,3) -- (5.5,3);\n",
        "\\draw (0,3.1) -- (0,2.9) node [below right] {$0$};\n",
        "\\draw (5,3.1) -- (5,2.9) node [below right] {$T$};\n",
        "\n",
        "\\draw [color=yellow, ->] (0,3) -- (0,4) ;\n",
        "\\draw [color=black, ->] (0,3) -- (0,2) ;\n",
        "\n",
        "\n",
        "\n"
      ],
      "execution_count": 153,
      "outputs": [
        {
          "output_type": "display_data",
          "data": {
            "image/svg+xml": "<svg height=\"240px\" version=\"1.1\" viewBox=\"0 0 170.876 57.091\" width=\"400px\" xmlns=\"http://www.w3.org/2000/svg\" xmlns:xlink=\"http://www.w3.org/1999/xlink\">\n<defs>\n<g>\n<symbol id=\"glyph0-0\" overflow=\"visible\">\n<path d=\"\" style=\"stroke:none;\"/>\n</symbol>\n<symbol id=\"glyph0-1\" overflow=\"visible\">\n<path d=\"M 4.578125 -3.1875 C 4.578125 -3.984375 4.53125 -4.78125 4.1875 -5.515625 C 3.734375 -6.484375 2.90625 -6.640625 2.5 -6.640625 C 1.890625 -6.640625 1.171875 -6.375 0.75 -5.453125 C 0.4375 -4.765625 0.390625 -3.984375 0.390625 -3.1875 C 0.390625 -2.4375 0.421875 -1.546875 0.84375 -0.78125 C 1.265625 0.015625 2 0.21875 2.484375 0.21875 C 3.015625 0.21875 3.78125 0.015625 4.21875 -0.9375 C 4.53125 -1.625 4.578125 -2.40625 4.578125 -3.1875 Z M 2.484375 0 C 2.09375 0 1.5 -0.25 1.328125 -1.203125 C 1.21875 -1.796875 1.21875 -2.71875 1.21875 -3.3125 C 1.21875 -3.953125 1.21875 -4.609375 1.296875 -5.140625 C 1.484375 -6.328125 2.234375 -6.421875 2.484375 -6.421875 C 2.8125 -6.421875 3.46875 -6.234375 3.65625 -5.25 C 3.765625 -4.6875 3.765625 -3.9375 3.765625 -3.3125 C 3.765625 -2.5625 3.765625 -1.890625 3.65625 -1.25 C 3.5 -0.296875 2.9375 0 2.484375 0 Z M 2.484375 0 \" style=\"stroke:none;\"/>\n</symbol>\n<symbol id=\"glyph1-0\" overflow=\"visible\">\n<path d=\"\" style=\"stroke:none;\"/>\n</symbol>\n<symbol id=\"glyph1-1\" overflow=\"visible\">\n<path d=\"M 4.25 -6.046875 C 4.328125 -6.328125 4.359375 -6.390625 4.484375 -6.421875 C 4.578125 -6.4375 4.90625 -6.4375 5.109375 -6.4375 C 6.125 -6.4375 6.5625 -6.40625 6.5625 -5.625 C 6.5625 -5.46875 6.53125 -5.078125 6.484375 -4.828125 C 6.484375 -4.78125 6.453125 -4.671875 6.453125 -4.640625 C 6.453125 -4.578125 6.484375 -4.5 6.578125 -4.5 C 6.6875 -4.5 6.703125 -4.578125 6.734375 -4.734375 L 7 -6.46875 C 7.015625 -6.515625 7.015625 -6.609375 7.015625 -6.640625 C 7.015625 -6.75 6.921875 -6.75 6.75 -6.75 L 1.21875 -6.75 C 0.984375 -6.75 0.96875 -6.734375 0.890625 -6.546875 L 0.296875 -4.796875 C 0.296875 -4.78125 0.234375 -4.640625 0.234375 -4.609375 C 0.234375 -4.5625 0.296875 -4.5 0.359375 -4.5 C 0.453125 -4.5 0.46875 -4.5625 0.53125 -4.71875 C 1.0625 -6.265625 1.328125 -6.4375 2.796875 -6.4375 L 3.1875 -6.4375 C 3.46875 -6.4375 3.46875 -6.40625 3.46875 -6.3125 C 3.46875 -6.265625 3.4375 -6.140625 3.421875 -6.109375 L 2.09375 -0.78125 C 2 -0.421875 1.96875 -0.3125 0.90625 -0.3125 C 0.546875 -0.3125 0.484375 -0.3125 0.484375 -0.125 C 0.484375 0 0.59375 0 0.65625 0 C 0.921875 0 1.203125 -0.015625 1.46875 -0.015625 C 1.75 -0.015625 2.046875 -0.03125 2.328125 -0.03125 C 2.609375 -0.03125 2.875 -0.015625 3.15625 -0.015625 C 3.4375 -0.015625 3.734375 0 4.015625 0 C 4.109375 0 4.234375 0 4.234375 -0.203125 C 4.234375 -0.3125 4.15625 -0.3125 3.890625 -0.3125 C 3.65625 -0.3125 3.515625 -0.3125 3.265625 -0.328125 C 2.96875 -0.359375 2.890625 -0.390625 2.890625 -0.546875 C 2.890625 -0.5625 2.890625 -0.609375 2.9375 -0.75 Z M 4.25 -6.046875 \" style=\"stroke:none;\"/>\n</symbol>\n</g>\n<clipPath id=\"clip1\">\n  <path d=\"M 0 28 L 170.875 28 L 170.875 29 L 0 29 Z M 0 28 \"/>\n</clipPath>\n</defs>\n<g id=\"surface1\">\n<g clip-path=\"url(#clip1)\" clip-rule=\"nonzero\">\n<path d=\"M -14.173563 85.042031 L 155.908469 85.042031 \" style=\"fill:none;stroke-width:0.79701;stroke-linecap:butt;stroke-linejoin:miter;stroke:rgb(0%,0%,0%);stroke-opacity:1;stroke-miterlimit:10;\" transform=\"matrix(1,0,0,-1,14.572,113.585)\"/>\n</g>\n<path d=\"M -0.0016875 87.874063 L -0.0016875 82.206094 \" style=\"fill:none;stroke-width:0.3985;stroke-linecap:butt;stroke-linejoin:miter;stroke:rgb(0%,0%,0%);stroke-opacity:1;stroke-miterlimit:10;\" transform=\"matrix(1,0,0,-1,14.572,113.585)\"/>\n<g style=\"fill:rgb(0%,0%,0%);fill-opacity:1;\">\n  <use x=\"18.091\" xlink:href=\"#glyph0-1\" y=\"41.32\"/>\n</g>\n<path d=\"M 141.732687 87.874063 L 141.732687 82.206094 \" style=\"fill:none;stroke-width:0.3985;stroke-linecap:butt;stroke-linejoin:miter;stroke:rgb(0%,0%,0%);stroke-opacity:1;stroke-miterlimit:10;\" transform=\"matrix(1,0,0,-1,14.572,113.585)\"/>\n<g style=\"fill:rgb(0%,0%,0%);fill-opacity:1;\">\n  <use x=\"159.824\" xlink:href=\"#glyph1-1\" y=\"41.708\"/>\n</g>\n<path d=\"M -0.0016875 85.042031 L -0.0016875 112.92875 \" style=\"fill:none;stroke-width:0.3985;stroke-linecap:butt;stroke-linejoin:miter;stroke:rgb(100%,94.898987%,0%);stroke-opacity:1;stroke-miterlimit:10;\" transform=\"matrix(1,0,0,-1,14.572,113.585)\"/>\n<path d=\"M -1.195522 1.595438 C -1.09396 0.997781 -0.00021 0.0993438 0.300571 0.0016875 C -0.00021 -0.099875 -1.09396 -0.994406 -1.195522 -1.592062 \" style=\"fill:none;stroke-width:0.31879;stroke-linecap:round;stroke-linejoin:round;stroke:rgb(100%,94.898987%,0%);stroke-opacity:1;stroke-miterlimit:10;\" transform=\"matrix(0,-1,-1,0,14.572,0.65604)\"/>\n<path d=\"M -0.0016875 85.042031 L -0.0016875 57.151406 \" style=\"fill:none;stroke-width:0.3985;stroke-linecap:butt;stroke-linejoin:miter;stroke:rgb(0%,0%,0%);stroke-opacity:1;stroke-miterlimit:10;\" transform=\"matrix(1,0,0,-1,14.572,113.585)\"/>\n<path d=\"M -1.194829 1.592062 C -1.097173 0.994406 0.00048375 0.099875 0.297359 -0.0016875 C 0.00048375 -0.0993438 -1.097173 -0.997781 -1.194829 -1.595438 \" style=\"fill:none;stroke-width:0.31879;stroke-linecap:round;stroke-linejoin:round;stroke:rgb(0%,0%,0%);stroke-opacity:1;stroke-miterlimit:10;\" transform=\"matrix(0,1,1,0,14.572,56.43311)\"/>\n</g>\n</svg>"
          },
          "metadata": {
            "tags": [],
            "isolated": "true"
          }
        }
      ]
    },
    {
      "cell_type": "code",
      "metadata": {
        "colab": {
          "base_uri": "https://localhost:8080/",
          "height": 0
        },
        "id": "4VS01a3SMiiA",
        "outputId": "c77b2f5f-ede2-4900-81da-1feff6e9fd46"
      },
      "source": [
        "#@title money vs. banana { vertical-output: true }\n",
        "\n",
        "\n",
        "\n",
        "%%tikz -S test_output.tikz -f svg\n",
        "\n",
        "\n",
        "\n",
        "\\draw [thick] (-0.5,0) -- (5.5,0);\n",
        "\\draw (0,0.1) -- (0,-0.1) node [below right] {$0$};\n",
        "\\draw (5,0.1) -- (5,-0.1) node [below right] {$T$};\n",
        "\n",
        "\\draw [color=black, ->] (0,0) -- (0,1) ;\n",
        "\\draw [color=red, ->] (0,0) -- (0,-1);"
      ],
      "execution_count": 154,
      "outputs": [
        {
          "output_type": "display_data",
          "data": {
            "image/svg+xml": "<svg height=\"240px\" version=\"1.1\" viewBox=\"0 0 170.876 57.091\" width=\"400px\" xmlns=\"http://www.w3.org/2000/svg\" xmlns:xlink=\"http://www.w3.org/1999/xlink\">\n<defs>\n<g>\n<symbol id=\"glyph0-0\" overflow=\"visible\">\n<path d=\"\" style=\"stroke:none;\"/>\n</symbol>\n<symbol id=\"glyph0-1\" overflow=\"visible\">\n<path d=\"M 4.578125 -3.1875 C 4.578125 -3.984375 4.53125 -4.78125 4.1875 -5.515625 C 3.734375 -6.484375 2.90625 -6.640625 2.5 -6.640625 C 1.890625 -6.640625 1.171875 -6.375 0.75 -5.453125 C 0.4375 -4.765625 0.390625 -3.984375 0.390625 -3.1875 C 0.390625 -2.4375 0.421875 -1.546875 0.84375 -0.78125 C 1.265625 0.015625 2 0.21875 2.484375 0.21875 C 3.015625 0.21875 3.78125 0.015625 4.21875 -0.9375 C 4.53125 -1.625 4.578125 -2.40625 4.578125 -3.1875 Z M 2.484375 0 C 2.09375 0 1.5 -0.25 1.328125 -1.203125 C 1.21875 -1.796875 1.21875 -2.71875 1.21875 -3.3125 C 1.21875 -3.953125 1.21875 -4.609375 1.296875 -5.140625 C 1.484375 -6.328125 2.234375 -6.421875 2.484375 -6.421875 C 2.8125 -6.421875 3.46875 -6.234375 3.65625 -5.25 C 3.765625 -4.6875 3.765625 -3.9375 3.765625 -3.3125 C 3.765625 -2.5625 3.765625 -1.890625 3.65625 -1.25 C 3.5 -0.296875 2.9375 0 2.484375 0 Z M 2.484375 0 \" style=\"stroke:none;\"/>\n</symbol>\n<symbol id=\"glyph1-0\" overflow=\"visible\">\n<path d=\"\" style=\"stroke:none;\"/>\n</symbol>\n<symbol id=\"glyph1-1\" overflow=\"visible\">\n<path d=\"M 4.25 -6.046875 C 4.328125 -6.328125 4.359375 -6.390625 4.484375 -6.421875 C 4.578125 -6.4375 4.90625 -6.4375 5.109375 -6.4375 C 6.125 -6.4375 6.5625 -6.40625 6.5625 -5.625 C 6.5625 -5.46875 6.53125 -5.078125 6.484375 -4.828125 C 6.484375 -4.78125 6.453125 -4.671875 6.453125 -4.640625 C 6.453125 -4.578125 6.484375 -4.5 6.578125 -4.5 C 6.6875 -4.5 6.703125 -4.578125 6.734375 -4.734375 L 7 -6.46875 C 7.015625 -6.515625 7.015625 -6.609375 7.015625 -6.640625 C 7.015625 -6.75 6.921875 -6.75 6.75 -6.75 L 1.21875 -6.75 C 0.984375 -6.75 0.96875 -6.734375 0.890625 -6.546875 L 0.296875 -4.796875 C 0.296875 -4.78125 0.234375 -4.640625 0.234375 -4.609375 C 0.234375 -4.5625 0.296875 -4.5 0.359375 -4.5 C 0.453125 -4.5 0.46875 -4.5625 0.53125 -4.71875 C 1.0625 -6.265625 1.328125 -6.4375 2.796875 -6.4375 L 3.1875 -6.4375 C 3.46875 -6.4375 3.46875 -6.40625 3.46875 -6.3125 C 3.46875 -6.265625 3.4375 -6.140625 3.421875 -6.109375 L 2.09375 -0.78125 C 2 -0.421875 1.96875 -0.3125 0.90625 -0.3125 C 0.546875 -0.3125 0.484375 -0.3125 0.484375 -0.125 C 0.484375 0 0.59375 0 0.65625 0 C 0.921875 0 1.203125 -0.015625 1.46875 -0.015625 C 1.75 -0.015625 2.046875 -0.03125 2.328125 -0.03125 C 2.609375 -0.03125 2.875 -0.015625 3.15625 -0.015625 C 3.4375 -0.015625 3.734375 0 4.015625 0 C 4.109375 0 4.234375 0 4.234375 -0.203125 C 4.234375 -0.3125 4.15625 -0.3125 3.890625 -0.3125 C 3.65625 -0.3125 3.515625 -0.3125 3.265625 -0.328125 C 2.96875 -0.359375 2.890625 -0.390625 2.890625 -0.546875 C 2.890625 -0.5625 2.890625 -0.609375 2.9375 -0.75 Z M 4.25 -6.046875 \" style=\"stroke:none;\"/>\n</symbol>\n</g>\n<clipPath id=\"clip1\">\n  <path d=\"M 0 28 L 170.875 28 L 170.875 29 L 0 29 Z M 0 28 \"/>\n</clipPath>\n</defs>\n<g id=\"surface1\">\n<g clip-path=\"url(#clip1)\" clip-rule=\"nonzero\">\n<path d=\"M -14.173563 -0.001875 L 155.908469 -0.001875 \" style=\"fill:none;stroke-width:0.79701;stroke-linecap:butt;stroke-linejoin:miter;stroke:rgb(0%,0%,0%);stroke-opacity:1;stroke-miterlimit:10;\" transform=\"matrix(1,0,0,-1,14.572,28.545)\"/>\n</g>\n<path d=\"M -0.0016875 2.834063 L -0.0016875 -2.833906 \" style=\"fill:none;stroke-width:0.3985;stroke-linecap:butt;stroke-linejoin:miter;stroke:rgb(0%,0%,0%);stroke-opacity:1;stroke-miterlimit:10;\" transform=\"matrix(1,0,0,-1,14.572,28.545)\"/>\n<g style=\"fill:rgb(0%,0%,0%);fill-opacity:1;\">\n  <use x=\"18.091\" xlink:href=\"#glyph0-1\" y=\"41.32\"/>\n</g>\n<path d=\"M 141.732687 2.834063 L 141.732687 -2.833906 \" style=\"fill:none;stroke-width:0.3985;stroke-linecap:butt;stroke-linejoin:miter;stroke:rgb(0%,0%,0%);stroke-opacity:1;stroke-miterlimit:10;\" transform=\"matrix(1,0,0,-1,14.572,28.545)\"/>\n<g style=\"fill:rgb(0%,0%,0%);fill-opacity:1;\">\n  <use x=\"159.824\" xlink:href=\"#glyph1-1\" y=\"41.708\"/>\n</g>\n<path d=\"M -0.0016875 -0.001875 L -0.0016875 27.88875 \" style=\"fill:none;stroke-width:0.3985;stroke-linecap:butt;stroke-linejoin:miter;stroke:rgb(0%,0%,0%);stroke-opacity:1;stroke-miterlimit:10;\" transform=\"matrix(1,0,0,-1,14.572,28.545)\"/>\n<path d=\"M -1.195082 1.595438 C -1.097426 0.997781 0.00023 0.0993438 0.297105 0.0016875 C 0.00023 -0.099875 -1.097426 -0.994406 -1.195082 -1.592062 \" style=\"fill:none;stroke-width:0.31879;stroke-linecap:round;stroke-linejoin:round;stroke:rgb(0%,0%,0%);stroke-opacity:1;stroke-miterlimit:10;\" transform=\"matrix(0,-1,-1,0,14.572,0.65648)\"/>\n<path d=\"M -0.0016875 -0.001875 L -0.0016875 -27.888594 \" style=\"fill:none;stroke-width:0.3985;stroke-linecap:butt;stroke-linejoin:miter;stroke:rgb(100%,0%,0%);stroke-opacity:1;stroke-miterlimit:10;\" transform=\"matrix(1,0,0,-1,14.572,28.545)\"/>\n<path d=\"M -1.195239 1.592062 C -1.097583 0.994406 0.00007375 0.099875 0.296949 -0.0016875 C 0.00007375 -0.0993438 -1.097583 -0.997781 -1.195239 -1.595438 \" style=\"fill:none;stroke-width:0.31879;stroke-linecap:round;stroke-linejoin:round;stroke:rgb(100%,0%,0%);stroke-opacity:1;stroke-miterlimit:10;\" transform=\"matrix(0,1,1,0,14.572,56.43352)\"/>\n</g>\n</svg>"
          },
          "metadata": {
            "tags": [],
            "isolated": "true"
          }
        }
      ]
    },
    {
      "cell_type": "code",
      "metadata": {
        "colab": {
          "base_uri": "https://localhost:8080/",
          "height": 0
        },
        "id": "bqjGJGaYavgz",
        "outputId": "003a8a82-440a-4c83-bffc-268f00c9ca00"
      },
      "source": [
        "#@title apple lending { vertical-output: true }\n",
        "\n",
        "%%tikz -S test_output.tikz -f svg\n",
        "\n",
        "\n",
        "\\draw [thick] (-0.5,0) -- (5.5,0);\n",
        "\\draw (0,0.1) -- (0,-0.1) node [below right] {$0$};\n",
        "\\draw (5,0.1) -- (5,-0.1) node [below right] {$T$};\n",
        "\n",
        "\\draw [color=red, ->] (0,0) -- (0,-1) ;\n",
        "\\draw [color=red, very thick, ->] (5,0) -- (5,1) ;"
      ],
      "execution_count": 155,
      "outputs": [
        {
          "output_type": "display_data",
          "data": {
            "image/svg+xml": "<svg height=\"240px\" version=\"1.1\" viewBox=\"0 0 170.876 57.49\" width=\"400px\" xmlns=\"http://www.w3.org/2000/svg\" xmlns:xlink=\"http://www.w3.org/1999/xlink\">\n<defs>\n<g>\n<symbol id=\"glyph0-0\" overflow=\"visible\">\n<path d=\"\" style=\"stroke:none;\"/>\n</symbol>\n<symbol id=\"glyph0-1\" overflow=\"visible\">\n<path d=\"M 4.578125 -3.1875 C 4.578125 -3.984375 4.53125 -4.78125 4.1875 -5.515625 C 3.734375 -6.484375 2.90625 -6.640625 2.5 -6.640625 C 1.890625 -6.640625 1.171875 -6.375 0.75 -5.453125 C 0.4375 -4.765625 0.390625 -3.984375 0.390625 -3.1875 C 0.390625 -2.4375 0.421875 -1.546875 0.84375 -0.78125 C 1.265625 0.015625 2 0.21875 2.484375 0.21875 C 3.015625 0.21875 3.78125 0.015625 4.21875 -0.9375 C 4.53125 -1.625 4.578125 -2.40625 4.578125 -3.1875 Z M 2.484375 0 C 2.09375 0 1.5 -0.25 1.328125 -1.203125 C 1.21875 -1.796875 1.21875 -2.71875 1.21875 -3.3125 C 1.21875 -3.953125 1.21875 -4.609375 1.296875 -5.140625 C 1.484375 -6.328125 2.234375 -6.421875 2.484375 -6.421875 C 2.8125 -6.421875 3.46875 -6.234375 3.65625 -5.25 C 3.765625 -4.6875 3.765625 -3.9375 3.765625 -3.3125 C 3.765625 -2.5625 3.765625 -1.890625 3.65625 -1.25 C 3.5 -0.296875 2.9375 0 2.484375 0 Z M 2.484375 0 \" style=\"stroke:none;\"/>\n</symbol>\n<symbol id=\"glyph1-0\" overflow=\"visible\">\n<path d=\"\" style=\"stroke:none;\"/>\n</symbol>\n<symbol id=\"glyph1-1\" overflow=\"visible\">\n<path d=\"M 4.25 -6.046875 C 4.328125 -6.328125 4.359375 -6.390625 4.484375 -6.421875 C 4.578125 -6.4375 4.90625 -6.4375 5.109375 -6.4375 C 6.125 -6.4375 6.5625 -6.40625 6.5625 -5.625 C 6.5625 -5.46875 6.53125 -5.078125 6.484375 -4.828125 C 6.484375 -4.78125 6.453125 -4.671875 6.453125 -4.640625 C 6.453125 -4.578125 6.484375 -4.5 6.578125 -4.5 C 6.6875 -4.5 6.703125 -4.578125 6.734375 -4.734375 L 7 -6.46875 C 7.015625 -6.515625 7.015625 -6.609375 7.015625 -6.640625 C 7.015625 -6.75 6.921875 -6.75 6.75 -6.75 L 1.21875 -6.75 C 0.984375 -6.75 0.96875 -6.734375 0.890625 -6.546875 L 0.296875 -4.796875 C 0.296875 -4.78125 0.234375 -4.640625 0.234375 -4.609375 C 0.234375 -4.5625 0.296875 -4.5 0.359375 -4.5 C 0.453125 -4.5 0.46875 -4.5625 0.53125 -4.71875 C 1.0625 -6.265625 1.328125 -6.4375 2.796875 -6.4375 L 3.1875 -6.4375 C 3.46875 -6.4375 3.46875 -6.40625 3.46875 -6.3125 C 3.46875 -6.265625 3.4375 -6.140625 3.421875 -6.109375 L 2.09375 -0.78125 C 2 -0.421875 1.96875 -0.3125 0.90625 -0.3125 C 0.546875 -0.3125 0.484375 -0.3125 0.484375 -0.125 C 0.484375 0 0.59375 0 0.65625 0 C 0.921875 0 1.203125 -0.015625 1.46875 -0.015625 C 1.75 -0.015625 2.046875 -0.03125 2.328125 -0.03125 C 2.609375 -0.03125 2.875 -0.015625 3.15625 -0.015625 C 3.4375 -0.015625 3.734375 0 4.015625 0 C 4.109375 0 4.234375 0 4.234375 -0.203125 C 4.234375 -0.3125 4.15625 -0.3125 3.890625 -0.3125 C 3.65625 -0.3125 3.515625 -0.3125 3.265625 -0.328125 C 2.96875 -0.359375 2.890625 -0.390625 2.890625 -0.546875 C 2.890625 -0.5625 2.890625 -0.609375 2.9375 -0.75 Z M 4.25 -6.046875 \" style=\"stroke:none;\"/>\n</symbol>\n</g>\n<clipPath id=\"clip1\">\n  <path d=\"M 0 28 L 170.875 28 L 170.875 30 L 0 30 Z M 0 28 \"/>\n</clipPath>\n<clipPath id=\"clip2\">\n  <path d=\"M 14 28 L 15 28 L 15 57.488281 L 14 57.488281 Z M 14 28 \"/>\n</clipPath>\n<clipPath id=\"clip3\">\n  <path d=\"M 12 55 L 17 55 L 17 57.488281 L 12 57.488281 Z M 12 55 \"/>\n</clipPath>\n</defs>\n<g id=\"surface1\">\n<g clip-path=\"url(#clip1)\" clip-rule=\"nonzero\">\n<path d=\"M -14.173563 -0.0013125 L 155.908469 -0.0013125 \" style=\"fill:none;stroke-width:0.79701;stroke-linecap:butt;stroke-linejoin:miter;stroke:rgb(0%,0%,0%);stroke-opacity:1;stroke-miterlimit:10;\" transform=\"matrix(1,0,0,-1,14.572,28.944)\"/>\n</g>\n<path d=\"M -0.0016875 2.834625 L -0.0016875 -2.833344 \" style=\"fill:none;stroke-width:0.3985;stroke-linecap:butt;stroke-linejoin:miter;stroke:rgb(0%,0%,0%);stroke-opacity:1;stroke-miterlimit:10;\" transform=\"matrix(1,0,0,-1,14.572,28.944)\"/>\n<g style=\"fill:rgb(0%,0%,0%);fill-opacity:1;\">\n  <use x=\"18.091\" xlink:href=\"#glyph0-1\" y=\"41.719\"/>\n</g>\n<path d=\"M 141.732687 2.834625 L 141.732687 -2.833344 \" style=\"fill:none;stroke-width:0.3985;stroke-linecap:butt;stroke-linejoin:miter;stroke:rgb(0%,0%,0%);stroke-opacity:1;stroke-miterlimit:10;\" transform=\"matrix(1,0,0,-1,14.572,28.944)\"/>\n<g style=\"fill:rgb(0%,0%,0%);fill-opacity:1;\">\n  <use x=\"159.824\" xlink:href=\"#glyph1-1\" y=\"42.107\"/>\n</g>\n<g clip-path=\"url(#clip2)\" clip-rule=\"nonzero\">\n<path d=\"M -0.0016875 -0.0013125 L -0.0016875 -27.888031 \" style=\"fill:none;stroke-width:0.3985;stroke-linecap:butt;stroke-linejoin:miter;stroke:rgb(100%,0%,0%);stroke-opacity:1;stroke-miterlimit:10;\" transform=\"matrix(1,0,0,-1,14.572,28.944)\"/>\n</g>\n<g clip-path=\"url(#clip3)\" clip-rule=\"nonzero\">\n<path d=\"M -1.195801 1.592062 C -1.094239 0.994406 -0.00048875 0.099875 0.300292 -0.0016875 C -0.00048875 -0.0993438 -1.094239 -0.997781 -1.195801 -1.595438 \" style=\"fill:none;stroke-width:0.31879;stroke-linecap:round;stroke-linejoin:round;stroke:rgb(100%,0%,0%);stroke-opacity:1;stroke-miterlimit:10;\" transform=\"matrix(0,1,1,0,14.572,56.83252)\"/>\n</g>\n<path d=\"M 141.732687 -0.0013125 L 141.732687 27.389313 \" style=\"fill:none;stroke-width:1.19553;stroke-linecap:butt;stroke-linejoin:miter;stroke:rgb(100%,0%,0%);stroke-opacity:1;stroke-miterlimit:10;\" transform=\"matrix(1,0,0,-1,14.572,28.944)\"/>\n<path d=\"M -1.911224 2.552134 C -1.754974 1.595102 -0.0010675 0.157602 0.479401 0.0013525 C -0.0010675 -0.158804 -1.754974 -1.592398 -1.911224 -2.549429 \" style=\"fill:none;stroke-width:0.9564;stroke-linecap:round;stroke-linejoin:round;stroke:rgb(100%,0%,0%);stroke-opacity:1;stroke-miterlimit:10;\" transform=\"matrix(0,-1,-1,0,156.30604,1.55362)\"/>\n</g>\n</svg>"
          },
          "metadata": {
            "tags": [],
            "isolated": "true"
          }
        }
      ]
    },
    {
      "cell_type": "code",
      "metadata": {
        "colab": {
          "base_uri": "https://localhost:8080/",
          "height": 0
        },
        "id": "-IkhkpR5cTnV",
        "outputId": "e0145f79-3026-471a-b874-28e9e4e5a17e"
      },
      "source": [
        "#@title lending to farmer { vertical-output: true }\n",
        "\n",
        "%%tikz -S test_output.tikz -f svg\n",
        "\n",
        "\n",
        "\\draw [thick] (-0.5,0) -- (5.5,0);\n",
        "\\draw (0,0.1) -- (0,-0.1) node [below right] {$0$};\n",
        "\\draw (5,0.1) -- (5,-0.1) node [below right] {$T$};\n",
        "\n",
        "\\draw [color=black, ->] (0,0) -- (0,-1) ;\n",
        "\\draw [color=black, very thick, ->] (5,0) -- (5,1) ;"
      ],
      "execution_count": 156,
      "outputs": [
        {
          "output_type": "display_data",
          "data": {
            "image/svg+xml": "<svg height=\"240px\" version=\"1.1\" viewBox=\"0 0 170.876 57.49\" width=\"400px\" xmlns=\"http://www.w3.org/2000/svg\" xmlns:xlink=\"http://www.w3.org/1999/xlink\">\n<defs>\n<g>\n<symbol id=\"glyph0-0\" overflow=\"visible\">\n<path d=\"\" style=\"stroke:none;\"/>\n</symbol>\n<symbol id=\"glyph0-1\" overflow=\"visible\">\n<path d=\"M 4.578125 -3.1875 C 4.578125 -3.984375 4.53125 -4.78125 4.1875 -5.515625 C 3.734375 -6.484375 2.90625 -6.640625 2.5 -6.640625 C 1.890625 -6.640625 1.171875 -6.375 0.75 -5.453125 C 0.4375 -4.765625 0.390625 -3.984375 0.390625 -3.1875 C 0.390625 -2.4375 0.421875 -1.546875 0.84375 -0.78125 C 1.265625 0.015625 2 0.21875 2.484375 0.21875 C 3.015625 0.21875 3.78125 0.015625 4.21875 -0.9375 C 4.53125 -1.625 4.578125 -2.40625 4.578125 -3.1875 Z M 2.484375 0 C 2.09375 0 1.5 -0.25 1.328125 -1.203125 C 1.21875 -1.796875 1.21875 -2.71875 1.21875 -3.3125 C 1.21875 -3.953125 1.21875 -4.609375 1.296875 -5.140625 C 1.484375 -6.328125 2.234375 -6.421875 2.484375 -6.421875 C 2.8125 -6.421875 3.46875 -6.234375 3.65625 -5.25 C 3.765625 -4.6875 3.765625 -3.9375 3.765625 -3.3125 C 3.765625 -2.5625 3.765625 -1.890625 3.65625 -1.25 C 3.5 -0.296875 2.9375 0 2.484375 0 Z M 2.484375 0 \" style=\"stroke:none;\"/>\n</symbol>\n<symbol id=\"glyph1-0\" overflow=\"visible\">\n<path d=\"\" style=\"stroke:none;\"/>\n</symbol>\n<symbol id=\"glyph1-1\" overflow=\"visible\">\n<path d=\"M 4.25 -6.046875 C 4.328125 -6.328125 4.359375 -6.390625 4.484375 -6.421875 C 4.578125 -6.4375 4.90625 -6.4375 5.109375 -6.4375 C 6.125 -6.4375 6.5625 -6.40625 6.5625 -5.625 C 6.5625 -5.46875 6.53125 -5.078125 6.484375 -4.828125 C 6.484375 -4.78125 6.453125 -4.671875 6.453125 -4.640625 C 6.453125 -4.578125 6.484375 -4.5 6.578125 -4.5 C 6.6875 -4.5 6.703125 -4.578125 6.734375 -4.734375 L 7 -6.46875 C 7.015625 -6.515625 7.015625 -6.609375 7.015625 -6.640625 C 7.015625 -6.75 6.921875 -6.75 6.75 -6.75 L 1.21875 -6.75 C 0.984375 -6.75 0.96875 -6.734375 0.890625 -6.546875 L 0.296875 -4.796875 C 0.296875 -4.78125 0.234375 -4.640625 0.234375 -4.609375 C 0.234375 -4.5625 0.296875 -4.5 0.359375 -4.5 C 0.453125 -4.5 0.46875 -4.5625 0.53125 -4.71875 C 1.0625 -6.265625 1.328125 -6.4375 2.796875 -6.4375 L 3.1875 -6.4375 C 3.46875 -6.4375 3.46875 -6.40625 3.46875 -6.3125 C 3.46875 -6.265625 3.4375 -6.140625 3.421875 -6.109375 L 2.09375 -0.78125 C 2 -0.421875 1.96875 -0.3125 0.90625 -0.3125 C 0.546875 -0.3125 0.484375 -0.3125 0.484375 -0.125 C 0.484375 0 0.59375 0 0.65625 0 C 0.921875 0 1.203125 -0.015625 1.46875 -0.015625 C 1.75 -0.015625 2.046875 -0.03125 2.328125 -0.03125 C 2.609375 -0.03125 2.875 -0.015625 3.15625 -0.015625 C 3.4375 -0.015625 3.734375 0 4.015625 0 C 4.109375 0 4.234375 0 4.234375 -0.203125 C 4.234375 -0.3125 4.15625 -0.3125 3.890625 -0.3125 C 3.65625 -0.3125 3.515625 -0.3125 3.265625 -0.328125 C 2.96875 -0.359375 2.890625 -0.390625 2.890625 -0.546875 C 2.890625 -0.5625 2.890625 -0.609375 2.9375 -0.75 Z M 4.25 -6.046875 \" style=\"stroke:none;\"/>\n</symbol>\n</g>\n<clipPath id=\"clip1\">\n  <path d=\"M 0 28 L 170.875 28 L 170.875 30 L 0 30 Z M 0 28 \"/>\n</clipPath>\n<clipPath id=\"clip2\">\n  <path d=\"M 14 28 L 15 28 L 15 57.488281 L 14 57.488281 Z M 14 28 \"/>\n</clipPath>\n<clipPath id=\"clip3\">\n  <path d=\"M 12 55 L 17 55 L 17 57.488281 L 12 57.488281 Z M 12 55 \"/>\n</clipPath>\n</defs>\n<g id=\"surface1\">\n<g clip-path=\"url(#clip1)\" clip-rule=\"nonzero\">\n<path d=\"M -14.173563 -0.0013125 L 155.908469 -0.0013125 \" style=\"fill:none;stroke-width:0.79701;stroke-linecap:butt;stroke-linejoin:miter;stroke:rgb(0%,0%,0%);stroke-opacity:1;stroke-miterlimit:10;\" transform=\"matrix(1,0,0,-1,14.572,28.944)\"/>\n</g>\n<path d=\"M -0.0016875 2.834625 L -0.0016875 -2.833344 \" style=\"fill:none;stroke-width:0.3985;stroke-linecap:butt;stroke-linejoin:miter;stroke:rgb(0%,0%,0%);stroke-opacity:1;stroke-miterlimit:10;\" transform=\"matrix(1,0,0,-1,14.572,28.944)\"/>\n<g style=\"fill:rgb(0%,0%,0%);fill-opacity:1;\">\n  <use x=\"18.091\" xlink:href=\"#glyph0-1\" y=\"41.719\"/>\n</g>\n<path d=\"M 141.732687 2.834625 L 141.732687 -2.833344 \" style=\"fill:none;stroke-width:0.3985;stroke-linecap:butt;stroke-linejoin:miter;stroke:rgb(0%,0%,0%);stroke-opacity:1;stroke-miterlimit:10;\" transform=\"matrix(1,0,0,-1,14.572,28.944)\"/>\n<g style=\"fill:rgb(0%,0%,0%);fill-opacity:1;\">\n  <use x=\"159.824\" xlink:href=\"#glyph1-1\" y=\"42.107\"/>\n</g>\n<g clip-path=\"url(#clip2)\" clip-rule=\"nonzero\">\n<path d=\"M -0.0016875 -0.0013125 L -0.0016875 -27.888031 \" style=\"fill:none;stroke-width:0.3985;stroke-linecap:butt;stroke-linejoin:miter;stroke:rgb(0%,0%,0%);stroke-opacity:1;stroke-miterlimit:10;\" transform=\"matrix(1,0,0,-1,14.572,28.944)\"/>\n</g>\n<g clip-path=\"url(#clip3)\" clip-rule=\"nonzero\">\n<path d=\"M -1.195801 1.592062 C -1.094239 0.994406 -0.00048875 0.099875 0.300292 -0.0016875 C -0.00048875 -0.0993438 -1.094239 -0.997781 -1.195801 -1.595438 \" style=\"fill:none;stroke-width:0.31879;stroke-linecap:round;stroke-linejoin:round;stroke:rgb(0%,0%,0%);stroke-opacity:1;stroke-miterlimit:10;\" transform=\"matrix(0,1,1,0,14.572,56.83252)\"/>\n</g>\n<path d=\"M 141.732687 -0.0013125 L 141.732687 27.389313 \" style=\"fill:none;stroke-width:1.19553;stroke-linecap:butt;stroke-linejoin:miter;stroke:rgb(0%,0%,0%);stroke-opacity:1;stroke-miterlimit:10;\" transform=\"matrix(1,0,0,-1,14.572,28.944)\"/>\n<path d=\"M -1.911224 2.552134 C -1.754974 1.595102 -0.0010675 0.157602 0.479401 0.0013525 C -0.0010675 -0.158804 -1.754974 -1.592398 -1.911224 -2.549429 \" style=\"fill:none;stroke-width:0.9564;stroke-linecap:round;stroke-linejoin:round;stroke:rgb(0%,0%,0%);stroke-opacity:1;stroke-miterlimit:10;\" transform=\"matrix(0,-1,-1,0,156.30604,1.55362)\"/>\n</g>\n</svg>"
          },
          "metadata": {
            "tags": [],
            "isolated": "true"
          }
        }
      ]
    },
    {
      "cell_type": "code",
      "metadata": {
        "colab": {
          "base_uri": "https://localhost:8080/",
          "height": 0
        },
        "id": "EewpIALllSVe",
        "outputId": "8dde9745-ed40-4c1c-96d7-8c418dea0d33"
      },
      "source": [
        "#@title lending to sailor{ vertical-output: true }\n",
        "\n",
        "%%tikz -S test_output.tikz -f svg\n",
        "\n",
        "\n",
        "\\draw [thick] (-0.5,0) -- (5.5,0);\n",
        "\\draw (0,0.1) -- (0,-0.1) node [below right] {$0$};\n",
        "\\draw (5,0.1) -- (5,-0.1) node [below right] {$T$};\n",
        "\n",
        "\\draw [color=black, ->] (0,0) -- (0,-1) ;\n",
        "\\draw [color=black, very thick, ->, dashed] (5,0) -- (5,1) ;"
      ],
      "execution_count": 157,
      "outputs": [
        {
          "output_type": "display_data",
          "data": {
            "image/svg+xml": "<svg height=\"240px\" version=\"1.1\" viewBox=\"0 0 170.876 57.49\" width=\"400px\" xmlns=\"http://www.w3.org/2000/svg\" xmlns:xlink=\"http://www.w3.org/1999/xlink\">\n<defs>\n<g>\n<symbol id=\"glyph0-0\" overflow=\"visible\">\n<path d=\"\" style=\"stroke:none;\"/>\n</symbol>\n<symbol id=\"glyph0-1\" overflow=\"visible\">\n<path d=\"M 4.578125 -3.1875 C 4.578125 -3.984375 4.53125 -4.78125 4.1875 -5.515625 C 3.734375 -6.484375 2.90625 -6.640625 2.5 -6.640625 C 1.890625 -6.640625 1.171875 -6.375 0.75 -5.453125 C 0.4375 -4.765625 0.390625 -3.984375 0.390625 -3.1875 C 0.390625 -2.4375 0.421875 -1.546875 0.84375 -0.78125 C 1.265625 0.015625 2 0.21875 2.484375 0.21875 C 3.015625 0.21875 3.78125 0.015625 4.21875 -0.9375 C 4.53125 -1.625 4.578125 -2.40625 4.578125 -3.1875 Z M 2.484375 0 C 2.09375 0 1.5 -0.25 1.328125 -1.203125 C 1.21875 -1.796875 1.21875 -2.71875 1.21875 -3.3125 C 1.21875 -3.953125 1.21875 -4.609375 1.296875 -5.140625 C 1.484375 -6.328125 2.234375 -6.421875 2.484375 -6.421875 C 2.8125 -6.421875 3.46875 -6.234375 3.65625 -5.25 C 3.765625 -4.6875 3.765625 -3.9375 3.765625 -3.3125 C 3.765625 -2.5625 3.765625 -1.890625 3.65625 -1.25 C 3.5 -0.296875 2.9375 0 2.484375 0 Z M 2.484375 0 \" style=\"stroke:none;\"/>\n</symbol>\n<symbol id=\"glyph1-0\" overflow=\"visible\">\n<path d=\"\" style=\"stroke:none;\"/>\n</symbol>\n<symbol id=\"glyph1-1\" overflow=\"visible\">\n<path d=\"M 4.25 -6.046875 C 4.328125 -6.328125 4.359375 -6.390625 4.484375 -6.421875 C 4.578125 -6.4375 4.90625 -6.4375 5.109375 -6.4375 C 6.125 -6.4375 6.5625 -6.40625 6.5625 -5.625 C 6.5625 -5.46875 6.53125 -5.078125 6.484375 -4.828125 C 6.484375 -4.78125 6.453125 -4.671875 6.453125 -4.640625 C 6.453125 -4.578125 6.484375 -4.5 6.578125 -4.5 C 6.6875 -4.5 6.703125 -4.578125 6.734375 -4.734375 L 7 -6.46875 C 7.015625 -6.515625 7.015625 -6.609375 7.015625 -6.640625 C 7.015625 -6.75 6.921875 -6.75 6.75 -6.75 L 1.21875 -6.75 C 0.984375 -6.75 0.96875 -6.734375 0.890625 -6.546875 L 0.296875 -4.796875 C 0.296875 -4.78125 0.234375 -4.640625 0.234375 -4.609375 C 0.234375 -4.5625 0.296875 -4.5 0.359375 -4.5 C 0.453125 -4.5 0.46875 -4.5625 0.53125 -4.71875 C 1.0625 -6.265625 1.328125 -6.4375 2.796875 -6.4375 L 3.1875 -6.4375 C 3.46875 -6.4375 3.46875 -6.40625 3.46875 -6.3125 C 3.46875 -6.265625 3.4375 -6.140625 3.421875 -6.109375 L 2.09375 -0.78125 C 2 -0.421875 1.96875 -0.3125 0.90625 -0.3125 C 0.546875 -0.3125 0.484375 -0.3125 0.484375 -0.125 C 0.484375 0 0.59375 0 0.65625 0 C 0.921875 0 1.203125 -0.015625 1.46875 -0.015625 C 1.75 -0.015625 2.046875 -0.03125 2.328125 -0.03125 C 2.609375 -0.03125 2.875 -0.015625 3.15625 -0.015625 C 3.4375 -0.015625 3.734375 0 4.015625 0 C 4.109375 0 4.234375 0 4.234375 -0.203125 C 4.234375 -0.3125 4.15625 -0.3125 3.890625 -0.3125 C 3.65625 -0.3125 3.515625 -0.3125 3.265625 -0.328125 C 2.96875 -0.359375 2.890625 -0.390625 2.890625 -0.546875 C 2.890625 -0.5625 2.890625 -0.609375 2.9375 -0.75 Z M 4.25 -6.046875 \" style=\"stroke:none;\"/>\n</symbol>\n</g>\n<clipPath id=\"clip1\">\n  <path d=\"M 0 28 L 170.875 28 L 170.875 30 L 0 30 Z M 0 28 \"/>\n</clipPath>\n<clipPath id=\"clip2\">\n  <path d=\"M 14 28 L 15 28 L 15 57.488281 L 14 57.488281 Z M 14 28 \"/>\n</clipPath>\n<clipPath id=\"clip3\">\n  <path d=\"M 12 55 L 17 55 L 17 57.488281 L 12 57.488281 Z M 12 55 \"/>\n</clipPath>\n</defs>\n<g id=\"surface1\">\n<g clip-path=\"url(#clip1)\" clip-rule=\"nonzero\">\n<path d=\"M -14.173563 -0.0013125 L 155.908469 -0.0013125 \" style=\"fill:none;stroke-width:0.79701;stroke-linecap:butt;stroke-linejoin:miter;stroke:rgb(0%,0%,0%);stroke-opacity:1;stroke-miterlimit:10;\" transform=\"matrix(1,0,0,-1,14.572,28.944)\"/>\n</g>\n<path d=\"M -0.0016875 2.834625 L -0.0016875 -2.833344 \" style=\"fill:none;stroke-width:0.3985;stroke-linecap:butt;stroke-linejoin:miter;stroke:rgb(0%,0%,0%);stroke-opacity:1;stroke-miterlimit:10;\" transform=\"matrix(1,0,0,-1,14.572,28.944)\"/>\n<g style=\"fill:rgb(0%,0%,0%);fill-opacity:1;\">\n  <use x=\"18.091\" xlink:href=\"#glyph0-1\" y=\"41.719\"/>\n</g>\n<path d=\"M 141.732687 2.834625 L 141.732687 -2.833344 \" style=\"fill:none;stroke-width:0.3985;stroke-linecap:butt;stroke-linejoin:miter;stroke:rgb(0%,0%,0%);stroke-opacity:1;stroke-miterlimit:10;\" transform=\"matrix(1,0,0,-1,14.572,28.944)\"/>\n<g style=\"fill:rgb(0%,0%,0%);fill-opacity:1;\">\n  <use x=\"159.824\" xlink:href=\"#glyph1-1\" y=\"42.107\"/>\n</g>\n<g clip-path=\"url(#clip2)\" clip-rule=\"nonzero\">\n<path d=\"M -0.0016875 -0.0013125 L -0.0016875 -27.888031 \" style=\"fill:none;stroke-width:0.3985;stroke-linecap:butt;stroke-linejoin:miter;stroke:rgb(0%,0%,0%);stroke-opacity:1;stroke-miterlimit:10;\" transform=\"matrix(1,0,0,-1,14.572,28.944)\"/>\n</g>\n<g clip-path=\"url(#clip3)\" clip-rule=\"nonzero\">\n<path d=\"M -1.195801 1.592062 C -1.094239 0.994406 -0.00048875 0.099875 0.300292 -0.0016875 C -0.00048875 -0.0993438 -1.094239 -0.997781 -1.195801 -1.595438 \" style=\"fill:none;stroke-width:0.31879;stroke-linecap:round;stroke-linejoin:round;stroke:rgb(0%,0%,0%);stroke-opacity:1;stroke-miterlimit:10;\" transform=\"matrix(0,1,1,0,14.572,56.83252)\"/>\n</g>\n<path d=\"M 141.732687 -0.0013125 L 141.732687 27.389313 \" style=\"fill:none;stroke-width:1.19553;stroke-linecap:butt;stroke-linejoin:miter;stroke:rgb(0%,0%,0%);stroke-opacity:1;stroke-dasharray:2.98883,2.98883;stroke-miterlimit:10;\" transform=\"matrix(1,0,0,-1,14.572,28.944)\"/>\n<path d=\"M -1.911224 2.552134 C -1.754974 1.595102 -0.0010675 0.157602 0.479401 0.0013525 C -0.0010675 -0.158804 -1.754974 -1.592398 -1.911224 -2.549429 \" style=\"fill:none;stroke-width:0.9564;stroke-linecap:round;stroke-linejoin:round;stroke:rgb(0%,0%,0%);stroke-opacity:1;stroke-miterlimit:10;\" transform=\"matrix(0,-1,-1,0,156.30604,1.55362)\"/>\n</g>\n</svg>"
          },
          "metadata": {
            "tags": [],
            "isolated": "true"
          }
        }
      ]
    },
    {
      "cell_type": "code",
      "metadata": {
        "colab": {
          "base_uri": "https://localhost:8080/",
          "height": 0
        },
        "id": "rRv-QTpoliYL",
        "outputId": "23a4c8ea-42be-45d9-9ae6-1242f2497abc"
      },
      "source": [
        "#@title becaming a farmer { vertical-output: true }\n",
        "\n",
        "%%tikz -S test_output.tikz -f svg\n",
        "\n",
        "\n",
        "\\draw [thick] (-0.5,0) -- (5.5,0);\n",
        "\\draw (0,0.1) -- (0,-0.1) node [below right] {$0$};\n",
        "\\draw (5,0.1) -- (5,-0.1) node [below right] {$T$};\n",
        "\n",
        "\\draw [color=black, ->] (0,0) -- (0,1) ;\n",
        "\\draw [color=black, very thick, ->] (5,0) -- (5,-1) ;"
      ],
      "execution_count": 158,
      "outputs": [
        {
          "output_type": "display_data",
          "data": {
            "image/svg+xml": "<svg height=\"240px\" version=\"1.1\" viewBox=\"0 0 170.876 57.49\" width=\"400px\" xmlns=\"http://www.w3.org/2000/svg\" xmlns:xlink=\"http://www.w3.org/1999/xlink\">\n<defs>\n<g>\n<symbol id=\"glyph0-0\" overflow=\"visible\">\n<path d=\"\" style=\"stroke:none;\"/>\n</symbol>\n<symbol id=\"glyph0-1\" overflow=\"visible\">\n<path d=\"M 4.578125 -3.1875 C 4.578125 -3.984375 4.53125 -4.78125 4.1875 -5.515625 C 3.734375 -6.484375 2.90625 -6.640625 2.5 -6.640625 C 1.890625 -6.640625 1.171875 -6.375 0.75 -5.453125 C 0.4375 -4.765625 0.390625 -3.984375 0.390625 -3.1875 C 0.390625 -2.4375 0.421875 -1.546875 0.84375 -0.78125 C 1.265625 0.015625 2 0.21875 2.484375 0.21875 C 3.015625 0.21875 3.78125 0.015625 4.21875 -0.9375 C 4.53125 -1.625 4.578125 -2.40625 4.578125 -3.1875 Z M 2.484375 0 C 2.09375 0 1.5 -0.25 1.328125 -1.203125 C 1.21875 -1.796875 1.21875 -2.71875 1.21875 -3.3125 C 1.21875 -3.953125 1.21875 -4.609375 1.296875 -5.140625 C 1.484375 -6.328125 2.234375 -6.421875 2.484375 -6.421875 C 2.8125 -6.421875 3.46875 -6.234375 3.65625 -5.25 C 3.765625 -4.6875 3.765625 -3.9375 3.765625 -3.3125 C 3.765625 -2.5625 3.765625 -1.890625 3.65625 -1.25 C 3.5 -0.296875 2.9375 0 2.484375 0 Z M 2.484375 0 \" style=\"stroke:none;\"/>\n</symbol>\n<symbol id=\"glyph1-0\" overflow=\"visible\">\n<path d=\"\" style=\"stroke:none;\"/>\n</symbol>\n<symbol id=\"glyph1-1\" overflow=\"visible\">\n<path d=\"M 4.25 -6.046875 C 4.328125 -6.328125 4.359375 -6.390625 4.484375 -6.421875 C 4.578125 -6.4375 4.90625 -6.4375 5.109375 -6.4375 C 6.125 -6.4375 6.5625 -6.40625 6.5625 -5.625 C 6.5625 -5.46875 6.53125 -5.078125 6.484375 -4.828125 C 6.484375 -4.78125 6.453125 -4.671875 6.453125 -4.640625 C 6.453125 -4.578125 6.484375 -4.5 6.578125 -4.5 C 6.6875 -4.5 6.703125 -4.578125 6.734375 -4.734375 L 7 -6.46875 C 7.015625 -6.515625 7.015625 -6.609375 7.015625 -6.640625 C 7.015625 -6.75 6.921875 -6.75 6.75 -6.75 L 1.21875 -6.75 C 0.984375 -6.75 0.96875 -6.734375 0.890625 -6.546875 L 0.296875 -4.796875 C 0.296875 -4.78125 0.234375 -4.640625 0.234375 -4.609375 C 0.234375 -4.5625 0.296875 -4.5 0.359375 -4.5 C 0.453125 -4.5 0.46875 -4.5625 0.53125 -4.71875 C 1.0625 -6.265625 1.328125 -6.4375 2.796875 -6.4375 L 3.1875 -6.4375 C 3.46875 -6.4375 3.46875 -6.40625 3.46875 -6.3125 C 3.46875 -6.265625 3.4375 -6.140625 3.421875 -6.109375 L 2.09375 -0.78125 C 2 -0.421875 1.96875 -0.3125 0.90625 -0.3125 C 0.546875 -0.3125 0.484375 -0.3125 0.484375 -0.125 C 0.484375 0 0.59375 0 0.65625 0 C 0.921875 0 1.203125 -0.015625 1.46875 -0.015625 C 1.75 -0.015625 2.046875 -0.03125 2.328125 -0.03125 C 2.609375 -0.03125 2.875 -0.015625 3.15625 -0.015625 C 3.4375 -0.015625 3.734375 0 4.015625 0 C 4.109375 0 4.234375 0 4.234375 -0.203125 C 4.234375 -0.3125 4.15625 -0.3125 3.890625 -0.3125 C 3.65625 -0.3125 3.515625 -0.3125 3.265625 -0.328125 C 2.96875 -0.359375 2.890625 -0.390625 2.890625 -0.546875 C 2.890625 -0.5625 2.890625 -0.609375 2.9375 -0.75 Z M 4.25 -6.046875 \" style=\"stroke:none;\"/>\n</symbol>\n</g>\n<clipPath id=\"clip1\">\n  <path d=\"M 0 28 L 170.875 28 L 170.875 29 L 0 29 Z M 0 28 \"/>\n</clipPath>\n</defs>\n<g id=\"surface1\">\n<g clip-path=\"url(#clip1)\" clip-rule=\"nonzero\">\n<path d=\"M -14.173563 -0.000875 L 155.908469 -0.000875 \" style=\"fill:none;stroke-width:0.79701;stroke-linecap:butt;stroke-linejoin:miter;stroke:rgb(0%,0%,0%);stroke-opacity:1;stroke-miterlimit:10;\" transform=\"matrix(1,0,0,-1,14.572,28.546)\"/>\n</g>\n<path d=\"M -0.0016875 2.835063 L -0.0016875 -2.832906 \" style=\"fill:none;stroke-width:0.3985;stroke-linecap:butt;stroke-linejoin:miter;stroke:rgb(0%,0%,0%);stroke-opacity:1;stroke-miterlimit:10;\" transform=\"matrix(1,0,0,-1,14.572,28.546)\"/>\n<g style=\"fill:rgb(0%,0%,0%);fill-opacity:1;\">\n  <use x=\"18.091\" xlink:href=\"#glyph0-1\" y=\"41.321\"/>\n</g>\n<path d=\"M 141.732687 2.835063 L 141.732687 -2.832906 \" style=\"fill:none;stroke-width:0.3985;stroke-linecap:butt;stroke-linejoin:miter;stroke:rgb(0%,0%,0%);stroke-opacity:1;stroke-miterlimit:10;\" transform=\"matrix(1,0,0,-1,14.572,28.546)\"/>\n<g style=\"fill:rgb(0%,0%,0%);fill-opacity:1;\">\n  <use x=\"159.824\" xlink:href=\"#glyph1-1\" y=\"41.708\"/>\n</g>\n<path d=\"M -0.0016875 -0.000875 L -0.0016875 27.88975 \" style=\"fill:none;stroke-width:0.3985;stroke-linecap:butt;stroke-linejoin:miter;stroke:rgb(0%,0%,0%);stroke-opacity:1;stroke-miterlimit:10;\" transform=\"matrix(1,0,0,-1,14.572,28.546)\"/>\n<path d=\"M -1.194082 1.595438 C -1.096426 0.997781 0.00123 0.0993438 0.298105 0.0016875 C 0.00123 -0.099875 -1.096426 -0.994406 -1.194082 -1.592062 \" style=\"fill:none;stroke-width:0.31879;stroke-linecap:round;stroke-linejoin:round;stroke:rgb(0%,0%,0%);stroke-opacity:1;stroke-miterlimit:10;\" transform=\"matrix(0,-1,-1,0,14.572,0.65748)\"/>\n<path d=\"M 141.732687 -0.000875 L 141.732687 -27.3915 \" style=\"fill:none;stroke-width:1.19553;stroke-linecap:butt;stroke-linejoin:miter;stroke:rgb(0%,0%,0%);stroke-opacity:1;stroke-miterlimit:10;\" transform=\"matrix(1,0,0,-1,14.572,28.546)\"/>\n<path d=\"M -1.912942 2.549429 C -1.752786 1.592398 0.00112 0.158804 0.477683 -0.0013525 C 0.00112 -0.157602 -1.752786 -1.595102 -1.912942 -2.552134 \" style=\"fill:none;stroke-width:0.9564;stroke-linecap:round;stroke-linejoin:round;stroke:rgb(0%,0%,0%);stroke-opacity:1;stroke-miterlimit:10;\" transform=\"matrix(0,1,1,0,156.30604,55.93638)\"/>\n</g>\n</svg>"
          },
          "metadata": {
            "tags": [],
            "isolated": "true"
          }
        }
      ]
    },
    {
      "cell_type": "code",
      "metadata": {
        "colab": {
          "base_uri": "https://localhost:8080/",
          "height": 0
        },
        "id": "9dd6hf76mALA",
        "outputId": "7bd90935-8926-46b9-cada-0cdf67aa1a83"
      },
      "source": [
        "#@title becaming a sailor { vertical-output: true }\n",
        "\n",
        "%%tikz -S test_output.tikz -f svg\n",
        "\n",
        "\n",
        "\\draw [thick] (-0.5,0) -- (5.5,0);\n",
        "\\draw (0,0.1) -- (0,-0.1) node [below right] {$0$};\n",
        "\\draw (5,0.1) -- (5,-0.1) node [below right] {$T$};\n",
        "\n",
        "\\draw [color=black, ->] (0,0) -- (0,1) ;\n",
        "\\draw [color=black, very thick, ->, dashed] (5,0) -- (5,-1) ;"
      ],
      "execution_count": 159,
      "outputs": [
        {
          "output_type": "display_data",
          "data": {
            "image/svg+xml": "<svg height=\"240px\" version=\"1.1\" viewBox=\"0 0 170.876 57.49\" width=\"400px\" xmlns=\"http://www.w3.org/2000/svg\" xmlns:xlink=\"http://www.w3.org/1999/xlink\">\n<defs>\n<g>\n<symbol id=\"glyph0-0\" overflow=\"visible\">\n<path d=\"\" style=\"stroke:none;\"/>\n</symbol>\n<symbol id=\"glyph0-1\" overflow=\"visible\">\n<path d=\"M 4.578125 -3.1875 C 4.578125 -3.984375 4.53125 -4.78125 4.1875 -5.515625 C 3.734375 -6.484375 2.90625 -6.640625 2.5 -6.640625 C 1.890625 -6.640625 1.171875 -6.375 0.75 -5.453125 C 0.4375 -4.765625 0.390625 -3.984375 0.390625 -3.1875 C 0.390625 -2.4375 0.421875 -1.546875 0.84375 -0.78125 C 1.265625 0.015625 2 0.21875 2.484375 0.21875 C 3.015625 0.21875 3.78125 0.015625 4.21875 -0.9375 C 4.53125 -1.625 4.578125 -2.40625 4.578125 -3.1875 Z M 2.484375 0 C 2.09375 0 1.5 -0.25 1.328125 -1.203125 C 1.21875 -1.796875 1.21875 -2.71875 1.21875 -3.3125 C 1.21875 -3.953125 1.21875 -4.609375 1.296875 -5.140625 C 1.484375 -6.328125 2.234375 -6.421875 2.484375 -6.421875 C 2.8125 -6.421875 3.46875 -6.234375 3.65625 -5.25 C 3.765625 -4.6875 3.765625 -3.9375 3.765625 -3.3125 C 3.765625 -2.5625 3.765625 -1.890625 3.65625 -1.25 C 3.5 -0.296875 2.9375 0 2.484375 0 Z M 2.484375 0 \" style=\"stroke:none;\"/>\n</symbol>\n<symbol id=\"glyph1-0\" overflow=\"visible\">\n<path d=\"\" style=\"stroke:none;\"/>\n</symbol>\n<symbol id=\"glyph1-1\" overflow=\"visible\">\n<path d=\"M 4.25 -6.046875 C 4.328125 -6.328125 4.359375 -6.390625 4.484375 -6.421875 C 4.578125 -6.4375 4.90625 -6.4375 5.109375 -6.4375 C 6.125 -6.4375 6.5625 -6.40625 6.5625 -5.625 C 6.5625 -5.46875 6.53125 -5.078125 6.484375 -4.828125 C 6.484375 -4.78125 6.453125 -4.671875 6.453125 -4.640625 C 6.453125 -4.578125 6.484375 -4.5 6.578125 -4.5 C 6.6875 -4.5 6.703125 -4.578125 6.734375 -4.734375 L 7 -6.46875 C 7.015625 -6.515625 7.015625 -6.609375 7.015625 -6.640625 C 7.015625 -6.75 6.921875 -6.75 6.75 -6.75 L 1.21875 -6.75 C 0.984375 -6.75 0.96875 -6.734375 0.890625 -6.546875 L 0.296875 -4.796875 C 0.296875 -4.78125 0.234375 -4.640625 0.234375 -4.609375 C 0.234375 -4.5625 0.296875 -4.5 0.359375 -4.5 C 0.453125 -4.5 0.46875 -4.5625 0.53125 -4.71875 C 1.0625 -6.265625 1.328125 -6.4375 2.796875 -6.4375 L 3.1875 -6.4375 C 3.46875 -6.4375 3.46875 -6.40625 3.46875 -6.3125 C 3.46875 -6.265625 3.4375 -6.140625 3.421875 -6.109375 L 2.09375 -0.78125 C 2 -0.421875 1.96875 -0.3125 0.90625 -0.3125 C 0.546875 -0.3125 0.484375 -0.3125 0.484375 -0.125 C 0.484375 0 0.59375 0 0.65625 0 C 0.921875 0 1.203125 -0.015625 1.46875 -0.015625 C 1.75 -0.015625 2.046875 -0.03125 2.328125 -0.03125 C 2.609375 -0.03125 2.875 -0.015625 3.15625 -0.015625 C 3.4375 -0.015625 3.734375 0 4.015625 0 C 4.109375 0 4.234375 0 4.234375 -0.203125 C 4.234375 -0.3125 4.15625 -0.3125 3.890625 -0.3125 C 3.65625 -0.3125 3.515625 -0.3125 3.265625 -0.328125 C 2.96875 -0.359375 2.890625 -0.390625 2.890625 -0.546875 C 2.890625 -0.5625 2.890625 -0.609375 2.9375 -0.75 Z M 4.25 -6.046875 \" style=\"stroke:none;\"/>\n</symbol>\n</g>\n<clipPath id=\"clip1\">\n  <path d=\"M 0 28 L 170.875 28 L 170.875 29 L 0 29 Z M 0 28 \"/>\n</clipPath>\n</defs>\n<g id=\"surface1\">\n<g clip-path=\"url(#clip1)\" clip-rule=\"nonzero\">\n<path d=\"M -14.173563 -0.000875 L 155.908469 -0.000875 \" style=\"fill:none;stroke-width:0.79701;stroke-linecap:butt;stroke-linejoin:miter;stroke:rgb(0%,0%,0%);stroke-opacity:1;stroke-miterlimit:10;\" transform=\"matrix(1,0,0,-1,14.572,28.546)\"/>\n</g>\n<path d=\"M -0.0016875 2.835063 L -0.0016875 -2.832906 \" style=\"fill:none;stroke-width:0.3985;stroke-linecap:butt;stroke-linejoin:miter;stroke:rgb(0%,0%,0%);stroke-opacity:1;stroke-miterlimit:10;\" transform=\"matrix(1,0,0,-1,14.572,28.546)\"/>\n<g style=\"fill:rgb(0%,0%,0%);fill-opacity:1;\">\n  <use x=\"18.091\" xlink:href=\"#glyph0-1\" y=\"41.321\"/>\n</g>\n<path d=\"M 141.732687 2.835063 L 141.732687 -2.832906 \" style=\"fill:none;stroke-width:0.3985;stroke-linecap:butt;stroke-linejoin:miter;stroke:rgb(0%,0%,0%);stroke-opacity:1;stroke-miterlimit:10;\" transform=\"matrix(1,0,0,-1,14.572,28.546)\"/>\n<g style=\"fill:rgb(0%,0%,0%);fill-opacity:1;\">\n  <use x=\"159.824\" xlink:href=\"#glyph1-1\" y=\"41.708\"/>\n</g>\n<path d=\"M -0.0016875 -0.000875 L -0.0016875 27.88975 \" style=\"fill:none;stroke-width:0.3985;stroke-linecap:butt;stroke-linejoin:miter;stroke:rgb(0%,0%,0%);stroke-opacity:1;stroke-miterlimit:10;\" transform=\"matrix(1,0,0,-1,14.572,28.546)\"/>\n<path d=\"M -1.194082 1.595438 C -1.096426 0.997781 0.00123 0.0993438 0.298105 0.0016875 C 0.00123 -0.099875 -1.096426 -0.994406 -1.194082 -1.592062 \" style=\"fill:none;stroke-width:0.31879;stroke-linecap:round;stroke-linejoin:round;stroke:rgb(0%,0%,0%);stroke-opacity:1;stroke-miterlimit:10;\" transform=\"matrix(0,-1,-1,0,14.572,0.65748)\"/>\n<path d=\"M 141.732687 -0.000875 L 141.732687 -27.3915 \" style=\"fill:none;stroke-width:1.19553;stroke-linecap:butt;stroke-linejoin:miter;stroke:rgb(0%,0%,0%);stroke-opacity:1;stroke-dasharray:2.98883,2.98883;stroke-miterlimit:10;\" transform=\"matrix(1,0,0,-1,14.572,28.546)\"/>\n<path d=\"M -1.912942 2.549429 C -1.752786 1.592398 0.00112 0.158804 0.477683 -0.0013525 C 0.00112 -0.157602 -1.752786 -1.595102 -1.912942 -2.552134 \" style=\"fill:none;stroke-width:0.9564;stroke-linecap:round;stroke-linejoin:round;stroke:rgb(0%,0%,0%);stroke-opacity:1;stroke-miterlimit:10;\" transform=\"matrix(0,1,1,0,156.30604,55.93638)\"/>\n</g>\n</svg>"
          },
          "metadata": {
            "tags": [],
            "isolated": "true"
          }
        }
      ]
    },
    {
      "cell_type": "markdown",
      "metadata": {
        "id": "b4XXCJ81ppST"
      },
      "source": [
        "# Options and positions"
      ]
    },
    {
      "cell_type": "code",
      "metadata": {
        "id": "6D3MdWvmme5l",
        "colab": {
          "base_uri": "https://localhost:8080/",
          "height": 620
        },
        "cellView": "form",
        "outputId": "b58d5097-15fc-4ab7-9dcb-1cbb1cd99084"
      },
      "source": [
        "#@title games { vertical-output: true }\n",
        "\n",
        "%%tikz -l positioning -f svg --size 800,600\n",
        "\n",
        "\\draw [] (0,0) -- (2.5,0) ;\n",
        "\\draw[->] (2.5,0) -- (5.5,0) node[below right] (S_T) {$S_T$};\n",
        "\\draw [<-] (0,-3) -- (0,0) node[left] {$0$};\n",
        "\\draw [->] (0,0) -- (0,3) node[left] {payoff};\n",
        "\\draw (2.5,0.1) -- (2.5,-0.1) node[below] {$K$};\n",
        "\n",
        "\\draw [dashed] (0,-2.5) --(2.5,0);\n",
        "\\draw (2.5,0) -- (5,2.5);\n",
        "\n",
        "\\draw [] (10,0) -- (2.5,0) ;\n",
        "\\draw[->] (2.5,0) -- (5.5,0) node[below right] (S_T) {$S_T$};\n",
        "\\draw [<-] (0,-3) -- (0,0) node[left] {$0$};\n",
        "\\draw [->] (0,0) -- (0,3) node[left] {payoff};\n",
        "\\draw (2.5,0.1) -- (2.5,-0.1) node[below] {$K$};\n",
        "\n",
        "\\draw [dashed] (0,-2.5) --(2.5,0);\n",
        "\\draw (2.5,0) -- (5,2.5);\n",
        "\n"
      ],
      "execution_count": null,
      "outputs": [
        {
          "output_type": "display_data",
          "data": {
            "image/svg+xml": "<svg height=\"600px\" version=\"1.1\" viewBox=\"0 0 316.518 178.026\" width=\"800px\" xmlns=\"http://www.w3.org/2000/svg\" xmlns:xlink=\"http://www.w3.org/1999/xlink\">\n<defs>\n<g>\n<symbol id=\"glyph0-0\" overflow=\"visible\">\n<path d=\"\" style=\"stroke:none;\"/>\n</symbol>\n<symbol id=\"glyph0-1\" overflow=\"visible\">\n<path d=\"M 6.4375 -6.921875 C 6.4375 -6.953125 6.40625 -7.03125 6.3125 -7.03125 C 6.265625 -7.03125 6.265625 -7.015625 6.140625 -6.875 L 5.65625 -6.3125 C 5.40625 -6.78125 4.890625 -7.03125 4.234375 -7.03125 C 2.96875 -7.03125 1.78125 -5.875 1.78125 -4.671875 C 1.78125 -3.875 2.296875 -3.40625 2.8125 -3.265625 L 3.875 -2.984375 C 4.25 -2.890625 4.796875 -2.734375 4.796875 -1.921875 C 4.796875 -1.03125 3.984375 -0.09375 3 -0.09375 C 2.359375 -0.09375 1.25 -0.3125 1.25 -1.546875 C 1.25 -1.78125 1.3125 -2.03125 1.3125 -2.078125 C 1.328125 -2.125 1.328125 -2.140625 1.328125 -2.15625 C 1.328125 -2.25 1.265625 -2.265625 1.21875 -2.265625 C 1.171875 -2.265625 1.140625 -2.25 1.109375 -2.21875 C 1.078125 -2.1875 0.515625 0.09375 0.515625 0.125 C 0.515625 0.171875 0.5625 0.21875 0.625 0.21875 C 0.671875 0.21875 0.6875 0.203125 0.8125 0.0625 L 1.296875 -0.5 C 1.71875 0.078125 2.40625 0.21875 2.984375 0.21875 C 4.34375 0.21875 5.515625 -1.109375 5.515625 -2.34375 C 5.515625 -3.03125 5.171875 -3.375 5.03125 -3.515625 C 4.796875 -3.734375 4.640625 -3.78125 3.765625 -4 C 3.53125 -4.0625 3.1875 -4.171875 3.09375 -4.1875 C 2.828125 -4.28125 2.484375 -4.5625 2.484375 -5.09375 C 2.484375 -5.90625 3.28125 -6.75 4.234375 -6.75 C 5.046875 -6.75 5.65625 -6.3125 5.65625 -5.203125 C 5.65625 -4.890625 5.625 -4.703125 5.625 -4.640625 C 5.625 -4.640625 5.625 -4.546875 5.734375 -4.546875 C 5.84375 -4.546875 5.859375 -4.578125 5.890625 -4.75 Z M 6.4375 -6.921875 \" style=\"stroke:none;\"/>\n</symbol>\n<symbol id=\"glyph0-2\" overflow=\"visible\">\n<path d=\"M 5.078125 -4.03125 C 5.0625 -4.0625 5.03125 -4.140625 5.03125 -4.171875 C 5.03125 -4.171875 5.203125 -4.3125 5.3125 -4.390625 L 7.0625 -5.734375 C 8 -6.4375 8.390625 -6.46875 8.6875 -6.5 C 8.765625 -6.515625 8.859375 -6.515625 8.859375 -6.703125 C 8.859375 -6.734375 8.828125 -6.8125 8.75 -6.8125 C 8.53125 -6.8125 8.28125 -6.78125 8.046875 -6.78125 C 7.6875 -6.78125 7.296875 -6.8125 6.9375 -6.8125 C 6.875 -6.8125 6.75 -6.8125 6.75 -6.609375 C 6.75 -6.546875 6.796875 -6.515625 6.875 -6.5 C 7.09375 -6.484375 7.171875 -6.4375 7.171875 -6.296875 C 7.171875 -6.109375 6.875 -5.875 6.8125 -5.828125 L 2.9375 -2.84375 L 3.734375 -6.046875 C 3.8125 -6.40625 3.84375 -6.5 4.5625 -6.5 C 4.8125 -6.5 4.90625 -6.5 4.90625 -6.703125 C 4.90625 -6.78125 4.828125 -6.8125 4.765625 -6.8125 C 4.484375 -6.8125 3.765625 -6.78125 3.484375 -6.78125 C 3.203125 -6.78125 2.5 -6.8125 2.203125 -6.8125 C 2.140625 -6.8125 2 -6.8125 2 -6.625 C 2 -6.5 2.09375 -6.5 2.296875 -6.5 C 2.421875 -6.5 2.609375 -6.484375 2.71875 -6.484375 C 2.875 -6.453125 2.9375 -6.4375 2.9375 -6.3125 C 2.9375 -6.28125 2.9375 -6.25 2.90625 -6.125 L 1.5625 -0.78125 C 1.46875 -0.390625 1.453125 -0.3125 0.65625 -0.3125 C 0.484375 -0.3125 0.375 -0.3125 0.375 -0.125 C 0.375 0 0.5 0 0.53125 0 C 0.8125 0 1.515625 -0.03125 1.796875 -0.03125 C 2 -0.03125 2.21875 -0.015625 2.4375 -0.015625 C 2.65625 -0.015625 2.875 0 3.078125 0 C 3.15625 0 3.28125 0 3.28125 -0.203125 C 3.28125 -0.3125 3.1875 -0.3125 3 -0.3125 C 2.625 -0.3125 2.359375 -0.3125 2.359375 -0.484375 C 2.359375 -0.5625 2.40625 -0.78125 2.4375 -0.921875 C 2.578125 -1.453125 2.71875 -1.96875 2.84375 -2.5 L 4.328125 -3.65625 L 5.484375 -0.96875 C 5.609375 -0.703125 5.609375 -0.671875 5.609375 -0.625 C 5.609375 -0.3125 5.171875 -0.3125 5.078125 -0.3125 C 4.96875 -0.3125 4.859375 -0.3125 4.859375 -0.109375 C 4.859375 0 4.984375 0 5 0 C 5.40625 0 5.828125 -0.03125 6.21875 -0.03125 C 6.4375 -0.03125 6.984375 0 7.203125 0 C 7.25 0 7.375 0 7.375 -0.203125 C 7.375 -0.3125 7.265625 -0.3125 7.171875 -0.3125 C 6.765625 -0.3125 6.640625 -0.40625 6.484375 -0.75 Z M 5.078125 -4.03125 \" style=\"stroke:none;\"/>\n</symbol>\n<symbol id=\"glyph1-0\" overflow=\"visible\">\n<path d=\"\" style=\"stroke:none;\"/>\n</symbol>\n<symbol id=\"glyph1-1\" overflow=\"visible\">\n<path d=\"M 3.390625 -4.21875 C 3.4375 -4.421875 3.453125 -4.4375 3.609375 -4.453125 C 3.640625 -4.453125 3.875 -4.453125 4.015625 -4.453125 C 4.453125 -4.453125 4.625 -4.453125 4.796875 -4.40625 C 5.109375 -4.3125 5.125 -4.109375 5.125 -3.859375 C 5.125 -3.75 5.125 -3.65625 5.078125 -3.296875 L 5.0625 -3.21875 C 5.0625 -3.140625 5.109375 -3.109375 5.1875 -3.109375 C 5.296875 -3.109375 5.296875 -3.171875 5.3125 -3.28125 L 5.5 -4.609375 C 5.5 -4.703125 5.421875 -4.703125 5.296875 -4.703125 L 1.015625 -4.703125 C 0.84375 -4.703125 0.828125 -4.703125 0.78125 -4.5625 L 0.328125 -3.328125 C 0.328125 -3.296875 0.296875 -3.234375 0.296875 -3.203125 C 0.296875 -3.171875 0.3125 -3.109375 0.421875 -3.109375 C 0.515625 -3.109375 0.515625 -3.140625 0.5625 -3.28125 C 0.96875 -4.390625 1.203125 -4.453125 2.265625 -4.453125 L 2.546875 -4.453125 C 2.765625 -4.453125 2.765625 -4.453125 2.765625 -4.390625 C 2.765625 -4.390625 2.765625 -4.34375 2.734375 -4.25 L 1.8125 -0.578125 C 1.75 -0.328125 1.734375 -0.25 1 -0.25 C 0.75 -0.25 0.6875 -0.25 0.6875 -0.09375 C 0.6875 -0.078125 0.703125 0 0.8125 0 C 1 0 1.21875 -0.015625 1.40625 -0.015625 C 1.609375 -0.015625 1.8125 -0.03125 2 -0.03125 C 2.203125 -0.03125 2.4375 -0.03125 2.640625 -0.015625 C 2.828125 -0.015625 3.03125 0 3.21875 0 C 3.28125 0 3.375 0 3.375 -0.15625 C 3.375 -0.25 3.3125 -0.25 3.09375 -0.25 C 2.96875 -0.25 2.828125 -0.265625 2.6875 -0.265625 C 2.453125 -0.28125 2.4375 -0.3125 2.4375 -0.390625 C 2.4375 -0.453125 2.4375 -0.453125 2.46875 -0.5625 Z M 3.390625 -4.21875 \" style=\"stroke:none;\"/>\n</symbol>\n<symbol id=\"glyph2-0\" overflow=\"visible\">\n<path d=\"\" style=\"stroke:none;\"/>\n</symbol>\n<symbol id=\"glyph2-1\" overflow=\"visible\">\n<path d=\"M 4.578125 -3.1875 C 4.578125 -3.984375 4.53125 -4.78125 4.1875 -5.515625 C 3.734375 -6.484375 2.90625 -6.640625 2.5 -6.640625 C 1.890625 -6.640625 1.171875 -6.375 0.75 -5.453125 C 0.4375 -4.765625 0.390625 -3.984375 0.390625 -3.1875 C 0.390625 -2.4375 0.421875 -1.546875 0.84375 -0.78125 C 1.265625 0.015625 2 0.21875 2.484375 0.21875 C 3.015625 0.21875 3.78125 0.015625 4.21875 -0.9375 C 4.53125 -1.625 4.578125 -2.40625 4.578125 -3.1875 Z M 2.484375 0 C 2.09375 0 1.5 -0.25 1.328125 -1.203125 C 1.21875 -1.796875 1.21875 -2.71875 1.21875 -3.3125 C 1.21875 -3.953125 1.21875 -4.609375 1.296875 -5.140625 C 1.484375 -6.328125 2.234375 -6.421875 2.484375 -6.421875 C 2.8125 -6.421875 3.46875 -6.234375 3.65625 -5.25 C 3.765625 -4.6875 3.765625 -3.9375 3.765625 -3.3125 C 3.765625 -2.5625 3.765625 -1.890625 3.65625 -1.25 C 3.5 -0.296875 2.9375 0 2.484375 0 Z M 2.484375 0 \" style=\"stroke:none;\"/>\n</symbol>\n<symbol id=\"glyph2-2\" overflow=\"visible\">\n<path d=\"M 1.71875 -3.75 L 1.71875 -4.40625 L 0.28125 -4.296875 L 0.28125 -3.984375 C 0.984375 -3.984375 1.0625 -3.921875 1.0625 -3.484375 L 1.0625 1.171875 C 1.0625 1.625 0.953125 1.625 0.28125 1.625 L 0.28125 1.9375 C 0.625 1.921875 1.140625 1.90625 1.390625 1.90625 C 1.671875 1.90625 2.171875 1.921875 2.515625 1.9375 L 2.515625 1.625 C 1.859375 1.625 1.75 1.625 1.75 1.171875 L 1.75 -0.59375 C 1.796875 -0.421875 2.21875 0.109375 2.96875 0.109375 C 4.15625 0.109375 5.1875 -0.875 5.1875 -2.15625 C 5.1875 -3.421875 4.234375 -4.40625 3.109375 -4.40625 C 2.328125 -4.40625 1.90625 -3.96875 1.71875 -3.75 Z M 1.75 -1.140625 L 1.75 -3.359375 C 2.03125 -3.875 2.515625 -4.15625 3.03125 -4.15625 C 3.765625 -4.15625 4.359375 -3.28125 4.359375 -2.15625 C 4.359375 -0.953125 3.671875 -0.109375 2.9375 -0.109375 C 2.53125 -0.109375 2.15625 -0.3125 1.890625 -0.71875 C 1.75 -0.921875 1.75 -0.9375 1.75 -1.140625 Z M 1.75 -1.140625 \" style=\"stroke:none;\"/>\n</symbol>\n<symbol id=\"glyph2-3\" overflow=\"visible\">\n<path d=\"M 3.3125 -0.75 C 3.359375 -0.359375 3.625 0.0625 4.09375 0.0625 C 4.3125 0.0625 4.921875 -0.078125 4.921875 -0.890625 L 4.921875 -1.453125 L 4.671875 -1.453125 L 4.671875 -0.890625 C 4.671875 -0.3125 4.421875 -0.25 4.3125 -0.25 C 3.984375 -0.25 3.9375 -0.703125 3.9375 -0.75 L 3.9375 -2.734375 C 3.9375 -3.15625 3.9375 -3.546875 3.578125 -3.921875 C 3.1875 -4.3125 2.6875 -4.46875 2.21875 -4.46875 C 1.390625 -4.46875 0.703125 -4 0.703125 -3.34375 C 0.703125 -3.046875 0.90625 -2.875 1.171875 -2.875 C 1.453125 -2.875 1.625 -3.078125 1.625 -3.328125 C 1.625 -3.453125 1.578125 -3.78125 1.109375 -3.78125 C 1.390625 -4.140625 1.875 -4.25 2.1875 -4.25 C 2.6875 -4.25 3.25 -3.859375 3.25 -2.96875 L 3.25 -2.609375 C 2.734375 -2.578125 2.046875 -2.546875 1.421875 -2.25 C 0.671875 -1.90625 0.421875 -1.390625 0.421875 -0.953125 C 0.421875 -0.140625 1.390625 0.109375 2.015625 0.109375 C 2.671875 0.109375 3.125 -0.296875 3.3125 -0.75 Z M 3.25 -2.390625 L 3.25 -1.390625 C 3.25 -0.453125 2.53125 -0.109375 2.078125 -0.109375 C 1.59375 -0.109375 1.1875 -0.453125 1.1875 -0.953125 C 1.1875 -1.5 1.609375 -2.328125 3.25 -2.390625 Z M 3.25 -2.390625 \" style=\"stroke:none;\"/>\n</symbol>\n<symbol id=\"glyph2-4\" overflow=\"visible\">\n<path d=\"M 4.140625 -3.34375 C 4.390625 -3.984375 4.90625 -3.984375 5.0625 -3.984375 L 5.0625 -4.296875 C 4.828125 -4.28125 4.546875 -4.265625 4.3125 -4.265625 C 4.140625 -4.265625 3.671875 -4.28125 3.453125 -4.296875 L 3.453125 -3.984375 C 3.765625 -3.984375 3.921875 -3.8125 3.921875 -3.5625 C 3.921875 -3.453125 3.90625 -3.4375 3.859375 -3.3125 L 2.84375 -0.875 L 1.75 -3.546875 C 1.703125 -3.65625 1.6875 -3.6875 1.6875 -3.734375 C 1.6875 -3.984375 2.046875 -3.984375 2.25 -3.984375 L 2.25 -4.296875 C 1.984375 -4.28125 1.328125 -4.265625 1.15625 -4.265625 C 0.890625 -4.265625 0.484375 -4.28125 0.1875 -4.296875 L 0.1875 -3.984375 C 0.671875 -3.984375 0.859375 -3.984375 1 -3.640625 L 2.5 0 C 2.4375 0.125 2.296875 0.453125 2.25 0.59375 C 2.03125 1.140625 1.75 1.828125 1.109375 1.828125 C 1.0625 1.828125 0.828125 1.828125 0.640625 1.640625 C 0.953125 1.609375 1.03125 1.390625 1.03125 1.21875 C 1.03125 0.96875 0.84375 0.8125 0.609375 0.8125 C 0.40625 0.8125 0.1875 0.9375 0.1875 1.234375 C 0.1875 1.6875 0.609375 2.046875 1.109375 2.046875 C 1.734375 2.046875 2.140625 1.46875 2.375 0.90625 Z M 4.140625 -3.34375 \" style=\"stroke:none;\"/>\n</symbol>\n<symbol id=\"glyph2-5\" overflow=\"visible\">\n<path d=\"M 4.6875 -2.140625 C 4.6875 -3.40625 3.703125 -4.46875 2.5 -4.46875 C 1.25 -4.46875 0.28125 -3.375 0.28125 -2.140625 C 0.28125 -0.84375 1.3125 0.109375 2.484375 0.109375 C 3.6875 0.109375 4.6875 -0.875 4.6875 -2.140625 Z M 2.5 -0.140625 C 2.0625 -0.140625 1.625 -0.34375 1.359375 -0.8125 C 1.109375 -1.25 1.109375 -1.859375 1.109375 -2.21875 C 1.109375 -2.609375 1.109375 -3.140625 1.34375 -3.578125 C 1.609375 -4.03125 2.078125 -4.25 2.484375 -4.25 C 2.921875 -4.25 3.34375 -4.03125 3.609375 -3.59375 C 3.875 -3.171875 3.875 -2.59375 3.875 -2.21875 C 3.875 -1.859375 3.875 -1.3125 3.65625 -0.875 C 3.421875 -0.421875 2.984375 -0.140625 2.5 -0.140625 Z M 2.5 -0.140625 \" style=\"stroke:none;\"/>\n</symbol>\n<symbol id=\"glyph2-6\" overflow=\"visible\">\n<path d=\"M 4.46875 -3.984375 L 5.609375 -3.984375 L 5.609375 -4.296875 L 4.4375 -4.296875 L 4.4375 -5.453125 C 4.4375 -6.34375 4.921875 -6.8125 5.359375 -6.8125 C 5.390625 -6.8125 5.546875 -6.8125 5.6875 -6.734375 C 5.578125 -6.703125 5.390625 -6.5625 5.390625 -6.3125 C 5.390625 -6.09375 5.546875 -5.890625 5.828125 -5.890625 C 6.109375 -5.890625 6.265625 -6.09375 6.265625 -6.328125 C 6.265625 -6.6875 5.90625 -7.03125 5.359375 -7.03125 C 4.765625 -7.03125 4.328125 -6.65625 4.28125 -6.609375 C 3.984375 -6.984375 3.421875 -7.03125 3.15625 -7.03125 C 2.21875 -7.03125 1.0625 -6.515625 1.0625 -5.4375 L 1.0625 -4.296875 L 0.265625 -4.296875 L 0.265625 -3.984375 L 1.0625 -3.984375 L 1.0625 -0.75 C 1.0625 -0.3125 0.953125 -0.3125 0.28125 -0.3125 L 0.28125 0 C 0.609375 -0.015625 1.140625 -0.03125 1.390625 -0.03125 C 1.640625 -0.03125 2.125 -0.015625 2.5 0 L 2.5 -0.3125 C 1.828125 -0.3125 1.71875 -0.3125 1.71875 -0.75 L 1.71875 -3.984375 L 3.8125 -3.984375 L 3.8125 -0.75 C 3.8125 -0.3125 3.703125 -0.3125 3.03125 -0.3125 L 3.03125 0 C 3.421875 -0.015625 3.890625 -0.03125 4.171875 -0.03125 C 4.5625 -0.03125 5.03125 -0.03125 5.4375 0 L 5.4375 -0.3125 L 5.21875 -0.3125 C 4.484375 -0.3125 4.46875 -0.421875 4.46875 -0.78125 Z M 1.6875 -4.296875 L 1.6875 -5.421875 C 1.6875 -6.390625 2.5 -6.8125 3.15625 -6.8125 C 3.640625 -6.8125 3.921875 -6.625 3.921875 -6.625 L 3.921875 -6.609375 C 3.765625 -6.59375 3.5625 -6.453125 3.5625 -6.1875 C 3.5625 -6.125 3.5625 -5.875 3.84375 -5.78125 C 3.8125 -5.65625 3.8125 -5.5625 3.8125 -5.4375 L 3.8125 -4.296875 Z M 1.6875 -4.296875 \" style=\"stroke:none;\"/>\n</symbol>\n</g>\n<clipPath id=\"clip1\">\n  <path d=\"M 103 92 L 316.519531 92 L 316.519531 93 L 103 93 Z M 103 92 \"/>\n</clipPath>\n</defs>\n<g id=\"surface1\">\n<path d=\"M 0.00146875 0.00184375 L 70.868656 0.00184375 \" style=\"fill:none;stroke-width:0.3985;stroke-linecap:butt;stroke-linejoin:miter;stroke:rgb(0%,0%,0%);stroke-opacity:1;stroke-miterlimit:10;\" transform=\"matrix(1,0,0,-1,32.854,92.787)\"/>\n<path d=\"M 70.868656 0.00184375 L 155.450688 0.00184375 \" style=\"fill:none;stroke-width:0.3985;stroke-linecap:butt;stroke-linejoin:miter;stroke:rgb(0%,0%,0%);stroke-opacity:1;stroke-miterlimit:10;\" transform=\"matrix(1,0,0,-1,32.854,92.787)\"/>\n<path d=\"M -1.193785 1.595594 C -1.096129 0.997938 0.0015275 0.0995 0.298403 0.00184375 C 0.0015275 -0.0997187 -1.096129 -0.998156 -1.193785 -1.595812 \" style=\"fill:none;stroke-width:0.31879;stroke-linecap:round;stroke-linejoin:round;stroke:rgb(0%,0%,0%);stroke-opacity:1;stroke-miterlimit:10;\" transform=\"matrix(1,0,0,-1,188.30316,92.787)\"/>\n<g style=\"fill:rgb(0%,0%,0%);fill-opacity:1;\">\n  <use x=\"192.279\" xlink:href=\"#glyph0-1\" y=\"103.115\"/>\n</g>\n<g style=\"fill:rgb(0%,0%,0%);fill-opacity:1;\">\n  <use x=\"198.388\" xlink:href=\"#glyph1-1\" y=\"104.609\"/>\n</g>\n<path d=\"M 0.00146875 -84.580187 L 0.00146875 0.00184375 \" style=\"fill:none;stroke-width:0.3985;stroke-linecap:butt;stroke-linejoin:miter;stroke:rgb(0%,0%,0%);stroke-opacity:1;stroke-miterlimit:10;\" transform=\"matrix(1,0,0,-1,32.854,92.787)\"/>\n<path d=\"M -1.197265 1.595219 C -1.095703 0.997563 -0.0019525 0.099125 0.298829 0.00146875 C -0.0019525 -0.100094 -1.095703 -0.994625 -1.197265 -1.592281 \" style=\"fill:none;stroke-width:0.31879;stroke-linecap:round;stroke-linejoin:round;stroke:rgb(0%,0%,0%);stroke-opacity:1;stroke-miterlimit:10;\" transform=\"matrix(0,1,1,0,32.854,177.36914)\"/>\n<g style=\"fill:rgb(0%,0%,0%);fill-opacity:1;\">\n  <use x=\"24.353\" xlink:href=\"#glyph2-1\" y=\"95.998\"/>\n</g>\n<path d=\"M 0.00146875 0.00184375 L 0.00146875 84.583875 \" style=\"fill:none;stroke-width:0.3985;stroke-linecap:butt;stroke-linejoin:miter;stroke:rgb(0%,0%,0%);stroke-opacity:1;stroke-miterlimit:10;\" transform=\"matrix(1,0,0,-1,32.854,92.787)\"/>\n<path d=\"M -1.193577 1.592281 C -1.095921 0.994625 0.001735 0.100094 0.29861 -0.00146875 C 0.001735 -0.099125 -1.095921 -0.997563 -1.193577 -1.595219 \" style=\"fill:none;stroke-width:0.31879;stroke-linecap:round;stroke-linejoin:round;stroke:rgb(0%,0%,0%);stroke-opacity:1;stroke-miterlimit:10;\" transform=\"matrix(0,-1,-1,0,32.854,8.20486)\"/>\n<g style=\"fill:rgb(0%,0%,0%);fill-opacity:1;\">\n  <use x=\"3.321\" xlink:href=\"#glyph2-2\" y=\"10.239\"/>\n  <use x=\"8.856221\" xlink:href=\"#glyph2-3\" y=\"10.239\"/>\n</g>\n<g style=\"fill:rgb(0%,0%,0%);fill-opacity:1;\">\n  <use x=\"13.558568\" xlink:href=\"#glyph2-4\" y=\"10.239\"/>\n</g>\n<g style=\"fill:rgb(0%,0%,0%);fill-opacity:1;\">\n  <use x=\"18.537875\" xlink:href=\"#glyph2-5\" y=\"10.239\"/>\n  <use x=\"23.519175\" xlink:href=\"#glyph2-6\" y=\"10.239\"/>\n</g>\n<path d=\"M 70.868656 2.833875 L 70.868656 -2.834094 \" style=\"fill:none;stroke-width:0.3985;stroke-linecap:butt;stroke-linejoin:miter;stroke:rgb(0%,0%,0%);stroke-opacity:1;stroke-miterlimit:10;\" transform=\"matrix(1,0,0,-1,32.854,92.787)\"/>\n<g style=\"fill:rgb(0%,0%,0%);fill-opacity:1;\">\n  <use x=\"99.133\" xlink:href=\"#glyph0-2\" y=\"105.95\"/>\n</g>\n<path d=\"M 0.00146875 -70.865344 L 70.868656 0.00184375 \" style=\"fill:none;stroke-width:0.3985;stroke-linecap:butt;stroke-linejoin:miter;stroke:rgb(0%,0%,0%);stroke-opacity:1;stroke-dasharray:2.98883,2.98883;stroke-miterlimit:10;\" transform=\"matrix(1,0,0,-1,32.854,92.787)\"/>\n<path d=\"M 70.868656 0.00184375 L 141.735844 70.865125 \" style=\"fill:none;stroke-width:0.3985;stroke-linecap:butt;stroke-linejoin:miter;stroke:rgb(0%,0%,0%);stroke-opacity:1;stroke-miterlimit:10;\" transform=\"matrix(1,0,0,-1,32.854,92.787)\"/>\n<g clip-path=\"url(#clip1)\" clip-rule=\"nonzero\">\n<path d=\"M 283.466313 0.00184375 L 70.868656 0.00184375 \" style=\"fill:none;stroke-width:0.3985;stroke-linecap:butt;stroke-linejoin:miter;stroke:rgb(0%,0%,0%);stroke-opacity:1;stroke-miterlimit:10;\" transform=\"matrix(1,0,0,-1,32.854,92.787)\"/>\n</g>\n<path d=\"M 70.868656 0.00184375 L 155.450688 0.00184375 \" style=\"fill:none;stroke-width:0.3985;stroke-linecap:butt;stroke-linejoin:miter;stroke:rgb(0%,0%,0%);stroke-opacity:1;stroke-miterlimit:10;\" transform=\"matrix(1,0,0,-1,32.854,92.787)\"/>\n<path d=\"M -1.193785 1.595594 C -1.096129 0.997938 0.0015275 0.0995 0.298403 0.00184375 C 0.0015275 -0.0997187 -1.096129 -0.998156 -1.193785 -1.595812 \" style=\"fill:none;stroke-width:0.31879;stroke-linecap:round;stroke-linejoin:round;stroke:rgb(0%,0%,0%);stroke-opacity:1;stroke-miterlimit:10;\" transform=\"matrix(1,0,0,-1,188.30316,92.787)\"/>\n<g style=\"fill:rgb(0%,0%,0%);fill-opacity:1;\">\n  <use x=\"192.279\" xlink:href=\"#glyph0-1\" y=\"103.115\"/>\n</g>\n<g style=\"fill:rgb(0%,0%,0%);fill-opacity:1;\">\n  <use x=\"198.388\" xlink:href=\"#glyph1-1\" y=\"104.609\"/>\n</g>\n<path d=\"M 0.00146875 -84.580187 L 0.00146875 0.00184375 \" style=\"fill:none;stroke-width:0.3985;stroke-linecap:butt;stroke-linejoin:miter;stroke:rgb(0%,0%,0%);stroke-opacity:1;stroke-miterlimit:10;\" transform=\"matrix(1,0,0,-1,32.854,92.787)\"/>\n<path d=\"M -1.197265 1.595219 C -1.095703 0.997563 -0.0019525 0.099125 0.298829 0.00146875 C -0.0019525 -0.100094 -1.095703 -0.994625 -1.197265 -1.592281 \" style=\"fill:none;stroke-width:0.31879;stroke-linecap:round;stroke-linejoin:round;stroke:rgb(0%,0%,0%);stroke-opacity:1;stroke-miterlimit:10;\" transform=\"matrix(0,1,1,0,32.854,177.36914)\"/>\n<g style=\"fill:rgb(0%,0%,0%);fill-opacity:1;\">\n  <use x=\"24.353\" xlink:href=\"#glyph2-1\" y=\"95.998\"/>\n</g>\n<path d=\"M 0.00146875 0.00184375 L 0.00146875 84.583875 \" style=\"fill:none;stroke-width:0.3985;stroke-linecap:butt;stroke-linejoin:miter;stroke:rgb(0%,0%,0%);stroke-opacity:1;stroke-miterlimit:10;\" transform=\"matrix(1,0,0,-1,32.854,92.787)\"/>\n<path d=\"M -1.193577 1.592281 C -1.095921 0.994625 0.001735 0.100094 0.29861 -0.00146875 C 0.001735 -0.099125 -1.095921 -0.997563 -1.193577 -1.595219 \" style=\"fill:none;stroke-width:0.31879;stroke-linecap:round;stroke-linejoin:round;stroke:rgb(0%,0%,0%);stroke-opacity:1;stroke-miterlimit:10;\" transform=\"matrix(0,-1,-1,0,32.854,8.20486)\"/>\n<g style=\"fill:rgb(0%,0%,0%);fill-opacity:1;\">\n  <use x=\"3.321\" xlink:href=\"#glyph2-2\" y=\"10.239\"/>\n  <use x=\"8.856221\" xlink:href=\"#glyph2-3\" y=\"10.239\"/>\n</g>\n<g style=\"fill:rgb(0%,0%,0%);fill-opacity:1;\">\n  <use x=\"13.558568\" xlink:href=\"#glyph2-4\" y=\"10.239\"/>\n</g>\n<g style=\"fill:rgb(0%,0%,0%);fill-opacity:1;\">\n  <use x=\"18.537875\" xlink:href=\"#glyph2-5\" y=\"10.239\"/>\n  <use x=\"23.519175\" xlink:href=\"#glyph2-6\" y=\"10.239\"/>\n</g>\n<path d=\"M 70.868656 2.833875 L 70.868656 -2.834094 \" style=\"fill:none;stroke-width:0.3985;stroke-linecap:butt;stroke-linejoin:miter;stroke:rgb(0%,0%,0%);stroke-opacity:1;stroke-miterlimit:10;\" transform=\"matrix(1,0,0,-1,32.854,92.787)\"/>\n<g style=\"fill:rgb(0%,0%,0%);fill-opacity:1;\">\n  <use x=\"99.133\" xlink:href=\"#glyph0-2\" y=\"105.95\"/>\n</g>\n<path d=\"M 0.00146875 -70.865344 L 70.868656 0.00184375 \" style=\"fill:none;stroke-width:0.3985;stroke-linecap:butt;stroke-linejoin:miter;stroke:rgb(0%,0%,0%);stroke-opacity:1;stroke-dasharray:2.98883,2.98883;stroke-miterlimit:10;\" transform=\"matrix(1,0,0,-1,32.854,92.787)\"/>\n<path d=\"M 70.868656 0.00184375 L 141.735844 70.865125 \" style=\"fill:none;stroke-width:0.3985;stroke-linecap:butt;stroke-linejoin:miter;stroke:rgb(0%,0%,0%);stroke-opacity:1;stroke-miterlimit:10;\" transform=\"matrix(1,0,0,-1,32.854,92.787)\"/>\n</g>\n</svg>"
          },
          "metadata": {
            "tags": [],
            "isolated": "true"
          }
        }
      ]
    },
    {
      "cell_type": "markdown",
      "metadata": {
        "id": "6wrXZZw_oOIy"
      },
      "source": [
        "# Two bank world"
      ]
    },
    {
      "cell_type": "markdown",
      "metadata": {
        "id": "CkQOwIjBpXRU"
      },
      "source": [
        "Suppose there are only 2 banks in our imaginary world. The first bank offers two products: one is a deposit with guaranteed interest, and the other is a loan with a fixed interest rate.\n",
        "\n",
        "Let's see what the first bank offers."
      ]
    },
    {
      "cell_type": "code",
      "metadata": {
        "colab": {
          "base_uri": "https://localhost:8080/",
          "height": 320
        },
        "id": "4MKeoTZlqjC5",
        "outputId": "f1b82819-2cb2-4286-f0a2-00817fbcfdfc"
      },
      "source": [
        "#@title The first bank { vertical-output: true }\n",
        "\n",
        "# \\node[] at (3, 1) {if you borrow 10, then you have to pay 12};\n",
        "# \\node[] at (3, 0) {if you deposit 10, then you will receive 12};\n",
        "\n",
        "\n",
        "%%tikz -l matrix -f svg -s 400,300\n",
        "\n",
        "\\matrix (m) [matrix of math nodes, row sep=1em, column sep=2em, nodes in empty cells] {\n",
        " & 12 &&  &&  \\\\\n",
        "10 & & && \\\\\n",
        "   & 12 && &&  \\\\\n",
        "};\n",
        "\\path[->]\n",
        "(m-2-1) edge (m-1-2)\n",
        "(m-2-1) edge (m-3-2)\n",
        ";\n",
        "\n",
        "\n",
        "\n"
      ],
      "execution_count": 160,
      "outputs": [
        {
          "output_type": "display_data",
          "data": {
            "image/svg+xml": "<svg height=\"300px\" version=\"1.1\" viewBox=\"0 0 166.039 65.751\" width=\"400px\" xmlns=\"http://www.w3.org/2000/svg\" xmlns:xlink=\"http://www.w3.org/1999/xlink\">\n<defs>\n<g>\n<symbol id=\"glyph0-0\" overflow=\"visible\">\n<path d=\"\" style=\"stroke:none;\"/>\n</symbol>\n<symbol id=\"glyph0-1\" overflow=\"visible\">\n<path d=\"M 2.9375 -6.375 C 2.9375 -6.625 2.9375 -6.640625 2.703125 -6.640625 C 2.078125 -6 1.203125 -6 0.890625 -6 L 0.890625 -5.6875 C 1.09375 -5.6875 1.671875 -5.6875 2.1875 -5.953125 L 2.1875 -0.78125 C 2.1875 -0.421875 2.15625 -0.3125 1.265625 -0.3125 L 0.953125 -0.3125 L 0.953125 0 C 1.296875 -0.03125 2.15625 -0.03125 2.5625 -0.03125 C 2.953125 -0.03125 3.828125 -0.03125 4.171875 0 L 4.171875 -0.3125 L 3.859375 -0.3125 C 2.953125 -0.3125 2.9375 -0.421875 2.9375 -0.78125 Z M 2.9375 -6.375 \" style=\"stroke:none;\"/>\n</symbol>\n<symbol id=\"glyph0-2\" overflow=\"visible\">\n<path d=\"M 1.265625 -0.765625 L 2.328125 -1.796875 C 3.875 -3.171875 4.46875 -3.703125 4.46875 -4.703125 C 4.46875 -5.84375 3.578125 -6.640625 2.359375 -6.640625 C 1.234375 -6.640625 0.5 -5.71875 0.5 -4.828125 C 0.5 -4.28125 1 -4.28125 1.03125 -4.28125 C 1.203125 -4.28125 1.546875 -4.390625 1.546875 -4.8125 C 1.546875 -5.0625 1.359375 -5.328125 1.015625 -5.328125 C 0.9375 -5.328125 0.921875 -5.328125 0.890625 -5.3125 C 1.109375 -5.96875 1.65625 -6.328125 2.234375 -6.328125 C 3.140625 -6.328125 3.5625 -5.515625 3.5625 -4.703125 C 3.5625 -3.90625 3.078125 -3.125 2.515625 -2.5 L 0.609375 -0.375 C 0.5 -0.265625 0.5 -0.234375 0.5 0 L 4.203125 0 L 4.46875 -1.734375 L 4.234375 -1.734375 C 4.171875 -1.4375 4.109375 -1 4 -0.84375 C 3.9375 -0.765625 3.28125 -0.765625 3.0625 -0.765625 Z M 1.265625 -0.765625 \" style=\"stroke:none;\"/>\n</symbol>\n<symbol id=\"glyph0-3\" overflow=\"visible\">\n<path d=\"M 4.578125 -3.1875 C 4.578125 -3.984375 4.53125 -4.78125 4.1875 -5.515625 C 3.734375 -6.484375 2.90625 -6.640625 2.5 -6.640625 C 1.890625 -6.640625 1.171875 -6.375 0.75 -5.453125 C 0.4375 -4.765625 0.390625 -3.984375 0.390625 -3.1875 C 0.390625 -2.4375 0.421875 -1.546875 0.84375 -0.78125 C 1.265625 0.015625 2 0.21875 2.484375 0.21875 C 3.015625 0.21875 3.78125 0.015625 4.21875 -0.9375 C 4.53125 -1.625 4.578125 -2.40625 4.578125 -3.1875 Z M 2.484375 0 C 2.09375 0 1.5 -0.25 1.328125 -1.203125 C 1.21875 -1.796875 1.21875 -2.71875 1.21875 -3.3125 C 1.21875 -3.953125 1.21875 -4.609375 1.296875 -5.140625 C 1.484375 -6.328125 2.234375 -6.421875 2.484375 -6.421875 C 2.8125 -6.421875 3.46875 -6.234375 3.65625 -5.25 C 3.765625 -4.6875 3.765625 -3.9375 3.765625 -3.3125 C 3.765625 -2.5625 3.765625 -1.890625 3.65625 -1.25 C 3.5 -0.296875 2.9375 0 2.484375 0 Z M 2.484375 0 \" style=\"stroke:none;\"/>\n</symbol>\n</g>\n</defs>\n<g id=\"surface1\">\n<g style=\"fill:rgb(0%,0%,0%);fill-opacity:1;\">\n  <use x=\"43.17\" xlink:href=\"#glyph0-1\" y=\"13.062\"/>\n  <use x=\"48.1513\" xlink:href=\"#glyph0-2\" y=\"13.062\"/>\n</g>\n<g style=\"fill:rgb(0%,0%,0%);fill-opacity:1;\">\n  <use x=\"6.641\" xlink:href=\"#glyph0-1\" y=\"36.086\"/>\n  <use x=\"11.6223\" xlink:href=\"#glyph0-3\" y=\"36.086\"/>\n</g>\n<g style=\"fill:rgb(0%,0%,0%);fill-opacity:1;\">\n  <use x=\"43.17\" xlink:href=\"#glyph0-1\" y=\"59.11\"/>\n  <use x=\"48.1513\" xlink:href=\"#glyph0-2\" y=\"59.11\"/>\n</g>\n<path d=\"M -62.895 5.356469 L -43.758281 17.422875 \" style=\"fill:none;stroke-width:0.3985;stroke-linecap:butt;stroke-linejoin:miter;stroke:rgb(0%,0%,0%);stroke-opacity:1;stroke-miterlimit:10;\" transform=\"matrix(1,0,0,-1,83.02,32.876)\"/>\n<path d=\"M -1.19407 1.593144 C -1.095383 0.995371 0.00234977 0.10019 0.299621 0.000503721 C -0.0000907638 -0.101414 -1.094435 -0.995102 -1.196131 -1.595821 \" style=\"fill:none;stroke-width:0.31879;stroke-linecap:round;stroke-linejoin:round;stroke:rgb(0%,0%,0%);stroke-opacity:1;stroke-miterlimit:10;\" transform=\"matrix(0.84608,-0.53339,-0.53339,-0.84608,39.26239,15.45321)\"/>\n<path d=\"M -62.895 -5.358375 L -43.758281 -17.420875 \" style=\"fill:none;stroke-width:0.3985;stroke-linecap:butt;stroke-linejoin:miter;stroke:rgb(0%,0%,0%);stroke-opacity:1;stroke-miterlimit:10;\" transform=\"matrix(1,0,0,-1,83.02,32.876)\"/>\n<path d=\"M -1.195114 1.594209 C -1.095502 0.996793 0.000925649 0.0998014 0.298555 0.00118784 C 0.00128337 -0.0984989 -1.094366 -0.996984 -1.193054 -1.594757 \" style=\"fill:none;stroke-width:0.31879;stroke-linecap:round;stroke-linejoin:round;stroke:rgb(0%,0%,0%);stroke-opacity:1;stroke-miterlimit:10;\" transform=\"matrix(0.84608,0.53339,0.53339,-0.84608,39.26239,50.29879)\"/>\n</g>\n</svg>"
          },
          "metadata": {
            "tags": [],
            "isolated": "true"
          }
        }
      ]
    },
    {
      "cell_type": "markdown",
      "metadata": {
        "id": "ASH513zGex4Y"
      },
      "source": [
        "OK. I understand. Let's take a look at offers of the second bank."
      ]
    },
    {
      "cell_type": "code",
      "metadata": {
        "colab": {
          "base_uri": "https://localhost:8080/",
          "height": 320
        },
        "id": "IKivp8FffFiH",
        "outputId": "5070c732-458a-467f-a05f-1f59446f829f"
      },
      "source": [
        "#@title The second bank { vertical-output: true }\n",
        "\n",
        "# \\node[] at (3, 1) {if you borrow 10, then you have to pay 12};\n",
        "# \\node[] at (3, 0) {if you deposit 10, then you will receive 12};\n",
        "\n",
        "\n",
        "%%tikz -l matrix -f svg -s 400,300\n",
        "\n",
        "\\matrix (m) [matrix of math nodes, row sep=1em, column sep=2em, nodes in empty cells] {\n",
        " &  && 20  &&  \\\\\n",
        "& &10  && \\\\\n",
        "   &  && 0 &&  \\\\\n",
        "};\n",
        "\\path[->]\n",
        "(m-2-3) edge (m-1-4)\n",
        "(m-2-3) edge (m-3-4)\n",
        ";"
      ],
      "execution_count": 161,
      "outputs": [
        {
          "output_type": "display_data",
          "data": {
            "image/svg+xml": "<svg height=\"300px\" version=\"1.1\" viewBox=\"0 0 166.039 65.751\" width=\"400px\" xmlns=\"http://www.w3.org/2000/svg\" xmlns:xlink=\"http://www.w3.org/1999/xlink\">\n<defs>\n<g>\n<symbol id=\"glyph0-0\" overflow=\"visible\">\n<path d=\"\" style=\"stroke:none;\"/>\n</symbol>\n<symbol id=\"glyph0-1\" overflow=\"visible\">\n<path d=\"M 1.265625 -0.765625 L 2.328125 -1.796875 C 3.875 -3.171875 4.46875 -3.703125 4.46875 -4.703125 C 4.46875 -5.84375 3.578125 -6.640625 2.359375 -6.640625 C 1.234375 -6.640625 0.5 -5.71875 0.5 -4.828125 C 0.5 -4.28125 1 -4.28125 1.03125 -4.28125 C 1.203125 -4.28125 1.546875 -4.390625 1.546875 -4.8125 C 1.546875 -5.0625 1.359375 -5.328125 1.015625 -5.328125 C 0.9375 -5.328125 0.921875 -5.328125 0.890625 -5.3125 C 1.109375 -5.96875 1.65625 -6.328125 2.234375 -6.328125 C 3.140625 -6.328125 3.5625 -5.515625 3.5625 -4.703125 C 3.5625 -3.90625 3.078125 -3.125 2.515625 -2.5 L 0.609375 -0.375 C 0.5 -0.265625 0.5 -0.234375 0.5 0 L 4.203125 0 L 4.46875 -1.734375 L 4.234375 -1.734375 C 4.171875 -1.4375 4.109375 -1 4 -0.84375 C 3.9375 -0.765625 3.28125 -0.765625 3.0625 -0.765625 Z M 1.265625 -0.765625 \" style=\"stroke:none;\"/>\n</symbol>\n<symbol id=\"glyph0-2\" overflow=\"visible\">\n<path d=\"M 4.578125 -3.1875 C 4.578125 -3.984375 4.53125 -4.78125 4.1875 -5.515625 C 3.734375 -6.484375 2.90625 -6.640625 2.5 -6.640625 C 1.890625 -6.640625 1.171875 -6.375 0.75 -5.453125 C 0.4375 -4.765625 0.390625 -3.984375 0.390625 -3.1875 C 0.390625 -2.4375 0.421875 -1.546875 0.84375 -0.78125 C 1.265625 0.015625 2 0.21875 2.484375 0.21875 C 3.015625 0.21875 3.78125 0.015625 4.21875 -0.9375 C 4.53125 -1.625 4.578125 -2.40625 4.578125 -3.1875 Z M 2.484375 0 C 2.09375 0 1.5 -0.25 1.328125 -1.203125 C 1.21875 -1.796875 1.21875 -2.71875 1.21875 -3.3125 C 1.21875 -3.953125 1.21875 -4.609375 1.296875 -5.140625 C 1.484375 -6.328125 2.234375 -6.421875 2.484375 -6.421875 C 2.8125 -6.421875 3.46875 -6.234375 3.65625 -5.25 C 3.765625 -4.6875 3.765625 -3.9375 3.765625 -3.3125 C 3.765625 -2.5625 3.765625 -1.890625 3.65625 -1.25 C 3.5 -0.296875 2.9375 0 2.484375 0 Z M 2.484375 0 \" style=\"stroke:none;\"/>\n</symbol>\n<symbol id=\"glyph0-3\" overflow=\"visible\">\n<path d=\"M 2.9375 -6.375 C 2.9375 -6.625 2.9375 -6.640625 2.703125 -6.640625 C 2.078125 -6 1.203125 -6 0.890625 -6 L 0.890625 -5.6875 C 1.09375 -5.6875 1.671875 -5.6875 2.1875 -5.953125 L 2.1875 -0.78125 C 2.1875 -0.421875 2.15625 -0.3125 1.265625 -0.3125 L 0.953125 -0.3125 L 0.953125 0 C 1.296875 -0.03125 2.15625 -0.03125 2.5625 -0.03125 C 2.953125 -0.03125 3.828125 -0.03125 4.171875 0 L 4.171875 -0.3125 L 3.859375 -0.3125 C 2.953125 -0.3125 2.9375 -0.421875 2.9375 -0.78125 Z M 2.9375 -6.375 \" style=\"stroke:none;\"/>\n</symbol>\n</g>\n</defs>\n<g id=\"surface1\">\n<g style=\"fill:rgb(0%,0%,0%);fill-opacity:1;\">\n  <use x=\"96.303\" xlink:href=\"#glyph0-1\" y=\"13.062\"/>\n  <use x=\"101.2843\" xlink:href=\"#glyph0-2\" y=\"13.062\"/>\n</g>\n<g style=\"fill:rgb(0%,0%,0%);fill-opacity:1;\">\n  <use x=\"59.774\" xlink:href=\"#glyph0-3\" y=\"36.086\"/>\n  <use x=\"64.7553\" xlink:href=\"#glyph0-2\" y=\"36.086\"/>\n</g>\n<g style=\"fill:rgb(0%,0%,0%);fill-opacity:1;\">\n  <use x=\"98.793\" xlink:href=\"#glyph0-2\" y=\"59.11\"/>\n</g>\n<path d=\"M -9.762187 5.356469 L 9.374531 17.422875 \" style=\"fill:none;stroke-width:0.3985;stroke-linecap:butt;stroke-linejoin:miter;stroke:rgb(0%,0%,0%);stroke-opacity:1;stroke-miterlimit:10;\" transform=\"matrix(1,0,0,-1,83.02,32.876)\"/>\n<path d=\"M -1.194559 1.593452 C -1.095871 0.995679 0.00186134 0.100498 0.299133 0.000811644 C -0.000579201 -0.101106 -1.094924 -0.994794 -1.196619 -1.595513 \" style=\"fill:none;stroke-width:0.31879;stroke-linecap:round;stroke-linejoin:round;stroke:rgb(0%,0%,0%);stroke-opacity:1;stroke-miterlimit:10;\" transform=\"matrix(0.84608,-0.53339,-0.53339,-0.84608,92.39578,15.45321)\"/>\n<path d=\"M -9.762187 -5.358375 L 11.866719 -18.991187 \" style=\"fill:none;stroke-width:0.3985;stroke-linecap:butt;stroke-linejoin:miter;stroke:rgb(0%,0%,0%);stroke-opacity:1;stroke-miterlimit:10;\" transform=\"matrix(1,0,0,-1,83.02,32.876)\"/>\n<path d=\"M -1.193927 1.594162 C -1.094337 0.996726 0.00208169 0.0996643 0.299715 0.00103554 C -0.000872963 -0.100724 -1.095369 -0.9938 -1.197388 -1.593667 \" style=\"fill:none;stroke-width:0.31879;stroke-linecap:round;stroke-linejoin:round;stroke:rgb(0%,0%,0%);stroke-opacity:1;stroke-miterlimit:10;\" transform=\"matrix(0.84608,0.53334,0.53334,-0.84608,94.88649,51.86837)\"/>\n</g>\n</svg>"
          },
          "metadata": {
            "tags": [],
            "isolated": "true"
          }
        }
      ]
    },
    {
      "cell_type": "markdown",
      "metadata": {
        "id": "7uMd7sM_fkyO"
      },
      "source": [
        "The second bank also offers two products: deposit and loan, but quite different from the first bank.\n",
        "\n",
        "The second bank's deposit does not guarantee interest, nor does it guarantee the principal. In short, you can lose all your money.\n",
        "\n",
        "Can you believe that there is someone who is willing to deposit in the second bank? Actually, there is a lot. \n",
        "\n",
        "Because the second bank offers an incredible rate of interest to the deposit. \n",
        "\n",
        "100%, which means the bank will reimburse you the double amount of your deposit.\n",
        "\n",
        "You might think that this is gambling. In fact, financial derivatives have all the elements of gambling. Nevertheless, the reason gambling is illegal and derivatives are legitimate is that derivatives can provide opportunities that gambling cannot provide, called risk hedge.\n",
        "\n",
        "So we will accept the second bank's products."
      ]
    },
    {
      "cell_type": "markdown",
      "metadata": {
        "id": "4ne5Y5Y6kDPD"
      },
      "source": [
        "이야기를 만들어 보겠습니다.\n",
        "\n",
        "농업은행이 있습니다. 농업은행은 예금을 받기도 하고, 대출을 해주기도 합니다. \n",
        "\n",
        "농업은행에 예금을 하는 사람은 low risk, low return을 믿는 사람입니다.\n",
        "\n",
        "농업은행은 농부에게만 대출을 해줍니다. 농부는 경기에 상관없이 추수 후에 10%의 이자를 포함한 금액을 상환합니다.\n",
        "\n",
        "벤처은행이 있습니다. 벤처은행도 (원금 비보장형) 예금을 받기도 하고, 대출을 해주기도 합니다.\n",
        "\n",
        "벤처은행은 벤처에게만 대출을 해줍니다. 벤처는 경기가 좋아진 경우에는 원금 + 원금의 100%의 이자, 즉 원금의 2배를 상환하여야 하지만, 경기가 나빠진 경우에는 이자와 함께 원금 상환이 면제됩니다.\n",
        "\n",
        "벤처은행에 예금을 하는 사람은 high risk, high return을 믿는 (고수익 추구형) 사람입니다. \n",
        "\n",
        "이 세상이 너무 지루한 것도 싫고, 너무 위험한 것도 싫은 교수가 교수은행을 설립하였습니다.\n",
        "\n",
        "교수은행의 대출상품은 성공한 경우 원금 + 원금의 50%의 이자를 상환해야 하고, 실패한 경우는 이자와 원금의 40%가 면제되어 원금의 60%만 상환을 하면 됩니다.\n",
        "\n",
        "그리고 조교에게 새로운 은행을 광고하도록 하였습니다. 그런데, 조교가 다음과 같은 조건으로 광고를 내었습니다.\n",
        "\n",
        "\"10을 투자하고, 경기가 좋아지면 15 받지만, 경기가 안좋아져도 6을 받을 수 있는 예금 상품이 있습니다.\n",
        "대출도 조건없이 가능합니다.\"\n",
        "\n",
        "왜냐하면, 이 교수에게 금융공학을 배운 학생들이 arbitrage를 하기 시작하였기 때문입니다.\n",
        "\n",
        "\n",
        "\n"
      ]
    },
    {
      "cell_type": "markdown",
      "metadata": {
        "id": "Jv9UzBR5a-kA"
      },
      "source": [
        "\n",
        "  \\begin{array}{|c|c|c|c|c|c|c|c|}\\hline\\\\ \\\\\n",
        "  \\mathcal{} & \\mathcal{A} & \\mathcal{B} & \\mathcal{O} & o & \\Omega & \\omega & \\Theta \\\\ \\hline\\\\ \\\\\n",
        "  a & lg^kn & n^\\epsilon & yes\\; no & yes\\; no & yes\\; no & yes\\; no & yes\\; no \\\\ \\hline\\\\ \\\\\n",
        "  b & n^k & c^n & yes\\; no & yes\\; no & yes\\; no & yes\\; no & yes\\; no   \\\\ \\hline\\\\ \\\\\n",
        "  c & \\sqrt{n} & n^{sin n} & yes\\; no & yes\\; no & yes\\; no & yes\\; no & yes\\; no   \\\\ \\hline\\\\ \\\\\n",
        "  d & 2^n & 2^{n/2} & yes\\; no & yes\\; no & yes\\; no & yes\\; no & yes\\; no  \\\\ \\hline\\\\ \\\\\n",
        "  e & n^{lg c} & c^{lg n} & yes\\; no & yes\\; no & yes\\; no & yes\\; no & yes\\; no  \\\\ \\hline\\\\ \\\\\n",
        "  f & lg(n!) & lg(n^n) & yes\\; no & yes\\; no & yes\\; no & yes\\; no & yes\\; no \\\\ \\hline\\\\\n",
        "  \\end{array}"
      ]
    },
    {
      "cell_type": "code",
      "metadata": {
        "id": "MaM9Bxgoa5no"
      },
      "source": [
        ""
      ],
      "execution_count": 162,
      "outputs": []
    },
    {
      "cell_type": "markdown",
      "metadata": {
        "id": "OX5xT3hlh_ya"
      },
      "source": [
        "\\begin{array} {cc}\n",
        "a & b \\\\\n",
        "c & d \\\\\n",
        "\\end{array}"
      ]
    },
    {
      "cell_type": "markdown",
      "metadata": {
        "id": "QjOUvjS4ibUJ"
      },
      "source": [
        "\\begin{align}\n",
        "y &= ax + b \\\\\n",
        "y &= \\\\ \n",
        "\\end{align}"
      ]
    },
    {
      "cell_type": "code",
      "metadata": {
        "id": "vROd4xQLiukb"
      },
      "source": [
        ""
      ],
      "execution_count": 162,
      "outputs": []
    },
    {
      "cell_type": "markdown",
      "metadata": {
        "id": "PwlGEkt-pT-Y"
      },
      "source": [
        ""
      ]
    },
    {
      "cell_type": "markdown",
      "metadata": {
        "id": "30lmKPQqp-HT"
      },
      "source": [
        "# Three bank world"
      ]
    },
    {
      "cell_type": "code",
      "metadata": {
        "id": "_fxz7H6IqAjo"
      },
      "source": [
        ""
      ],
      "execution_count": 162,
      "outputs": []
    },
    {
      "cell_type": "markdown",
      "metadata": {
        "id": "6lBnD3meqE7G"
      },
      "source": [
        "# Replication"
      ]
    },
    {
      "cell_type": "code",
      "metadata": {
        "colab": {
          "base_uri": "https://localhost:8080/",
          "height": 120
        },
        "id": "WHUFsqmKDXiT",
        "outputId": "9591d646-ff40-4069-9c18-51801eac8887"
      },
      "source": [
        "#@title Games { vertical-output: true, display-mode: \"form\" }\n",
        "\n",
        "\n",
        "%%tikz -l matrix -S test_output.tikz -f svg -s 1000,100\n",
        "\n",
        "\\node[matrix] (1) {\\node (11) {10};\\\\};\n",
        "\n",
        "\\node[matrix, right of=1] (2) {\\node (21) {12};\\\\ \\node (22) {};\\\\ \\node (23) {12};\\\\};\n",
        "\n",
        "\\node[right of=2] (3) {};\n",
        "\n",
        "\\node[matrix, right of=3] (4) {\\node (41) {10};\\\\};\n",
        "\n",
        "\\node[matrix, right of=4] (5) {\\node (51) {20};\\\\ \\node (52) {};\\\\ \\node (53) {0};\\\\};\n",
        "\n",
        "\\node[right of=5] (6) {};\n",
        "\n",
        "\\node[matrix, right of=6] (7) {\\node (71) {?};\\\\};\n",
        "\n",
        "\\node[matrix, right of=7] (8) {\\node (81) {15};\\\\ \\node (82) {};\\\\ \\node (83) {6};\\\\};\n",
        "\n",
        "\\draw(11) edge[->] (21);\n",
        "\\draw(11) edge[->] (23);\n",
        "\n",
        "\\draw(41) edge[->] (51);\n",
        "\\draw(41) edge[->] (53);\n",
        "\n",
        "\\draw(71) edge[->] (81);\n",
        "\\draw(71) edge[->] (83);\n"
      ],
      "execution_count": 194,
      "outputs": [
        {
          "output_type": "display_data",
          "data": {
            "image/svg+xml": "<svg height=\"100px\" version=\"1.1\" viewBox=\"0 0 221.67 39.405\" width=\"1000px\" xmlns=\"http://www.w3.org/2000/svg\" xmlns:xlink=\"http://www.w3.org/1999/xlink\">\n<defs>\n<g>\n<symbol id=\"glyph0-0\" overflow=\"visible\">\n<path d=\"\" style=\"stroke:none;\"/>\n</symbol>\n<symbol id=\"glyph0-1\" overflow=\"visible\">\n<path d=\"M 2.9375 -6.375 C 2.9375 -6.625 2.9375 -6.640625 2.703125 -6.640625 C 2.078125 -6 1.203125 -6 0.890625 -6 L 0.890625 -5.6875 C 1.09375 -5.6875 1.671875 -5.6875 2.1875 -5.953125 L 2.1875 -0.78125 C 2.1875 -0.421875 2.15625 -0.3125 1.265625 -0.3125 L 0.953125 -0.3125 L 0.953125 0 C 1.296875 -0.03125 2.15625 -0.03125 2.5625 -0.03125 C 2.953125 -0.03125 3.828125 -0.03125 4.171875 0 L 4.171875 -0.3125 L 3.859375 -0.3125 C 2.953125 -0.3125 2.9375 -0.421875 2.9375 -0.78125 Z M 2.9375 -6.375 \" style=\"stroke:none;\"/>\n</symbol>\n<symbol id=\"glyph0-2\" overflow=\"visible\">\n<path d=\"M 4.578125 -3.1875 C 4.578125 -3.984375 4.53125 -4.78125 4.1875 -5.515625 C 3.734375 -6.484375 2.90625 -6.640625 2.5 -6.640625 C 1.890625 -6.640625 1.171875 -6.375 0.75 -5.453125 C 0.4375 -4.765625 0.390625 -3.984375 0.390625 -3.1875 C 0.390625 -2.4375 0.421875 -1.546875 0.84375 -0.78125 C 1.265625 0.015625 2 0.21875 2.484375 0.21875 C 3.015625 0.21875 3.78125 0.015625 4.21875 -0.9375 C 4.53125 -1.625 4.578125 -2.40625 4.578125 -3.1875 Z M 2.484375 0 C 2.09375 0 1.5 -0.25 1.328125 -1.203125 C 1.21875 -1.796875 1.21875 -2.71875 1.21875 -3.3125 C 1.21875 -3.953125 1.21875 -4.609375 1.296875 -5.140625 C 1.484375 -6.328125 2.234375 -6.421875 2.484375 -6.421875 C 2.8125 -6.421875 3.46875 -6.234375 3.65625 -5.25 C 3.765625 -4.6875 3.765625 -3.9375 3.765625 -3.3125 C 3.765625 -2.5625 3.765625 -1.890625 3.65625 -1.25 C 3.5 -0.296875 2.9375 0 2.484375 0 Z M 2.484375 0 \" style=\"stroke:none;\"/>\n</symbol>\n<symbol id=\"glyph0-3\" overflow=\"visible\">\n<path d=\"M 1.265625 -0.765625 L 2.328125 -1.796875 C 3.875 -3.171875 4.46875 -3.703125 4.46875 -4.703125 C 4.46875 -5.84375 3.578125 -6.640625 2.359375 -6.640625 C 1.234375 -6.640625 0.5 -5.71875 0.5 -4.828125 C 0.5 -4.28125 1 -4.28125 1.03125 -4.28125 C 1.203125 -4.28125 1.546875 -4.390625 1.546875 -4.8125 C 1.546875 -5.0625 1.359375 -5.328125 1.015625 -5.328125 C 0.9375 -5.328125 0.921875 -5.328125 0.890625 -5.3125 C 1.109375 -5.96875 1.65625 -6.328125 2.234375 -6.328125 C 3.140625 -6.328125 3.5625 -5.515625 3.5625 -4.703125 C 3.5625 -3.90625 3.078125 -3.125 2.515625 -2.5 L 0.609375 -0.375 C 0.5 -0.265625 0.5 -0.234375 0.5 0 L 4.203125 0 L 4.46875 -1.734375 L 4.234375 -1.734375 C 4.171875 -1.4375 4.109375 -1 4 -0.84375 C 3.9375 -0.765625 3.28125 -0.765625 3.0625 -0.765625 Z M 1.265625 -0.765625 \" style=\"stroke:none;\"/>\n</symbol>\n<symbol id=\"glyph0-4\" overflow=\"visible\">\n<path d=\"M 2.34375 -2.484375 C 2.34375 -3.734375 3.3125 -4.453125 3.65625 -4.703125 C 3.921875 -4.90625 4.140625 -5.265625 4.140625 -5.6875 C 4.140625 -6.265625 3.734375 -7.03125 2.25 -7.03125 C 1.171875 -7.03125 0.5625 -6.34375 0.5625 -5.703125 C 0.5625 -5.359375 0.78125 -5.21875 1.015625 -5.21875 C 1.296875 -5.21875 1.46875 -5.421875 1.46875 -5.6875 C 1.46875 -6.125 1.0625 -6.125 0.921875 -6.125 C 1.21875 -6.65625 1.796875 -6.8125 2.21875 -6.8125 C 3.3125 -6.8125 3.3125 -6.125 3.3125 -5.734375 C 3.3125 -5.15625 3.15625 -4.96875 2.96875 -4.796875 C 2.3125 -4.078125 2.09375 -3.15625 2.09375 -2.546875 L 2.09375 -2.109375 C 2.09375 -1.921875 2.09375 -1.859375 2.21875 -1.859375 C 2.34375 -1.859375 2.34375 -1.953125 2.34375 -2.140625 Z M 2.734375 -0.53125 C 2.734375 -0.8125 2.5 -1.0625 2.21875 -1.0625 C 1.921875 -1.0625 1.6875 -0.8125 1.6875 -0.53125 C 1.6875 -0.234375 1.921875 0 2.21875 0 C 2.5 0 2.734375 -0.234375 2.734375 -0.53125 Z M 2.734375 -0.53125 \" style=\"stroke:none;\"/>\n</symbol>\n<symbol id=\"glyph0-5\" overflow=\"visible\">\n<path d=\"M 4.46875 -2 C 4.46875 -3.1875 3.65625 -4.1875 2.578125 -4.1875 C 2.109375 -4.1875 1.671875 -4.03125 1.3125 -3.671875 L 1.3125 -5.625 C 1.515625 -5.5625 1.84375 -5.5 2.15625 -5.5 C 3.390625 -5.5 4.09375 -6.40625 4.09375 -6.53125 C 4.09375 -6.59375 4.0625 -6.640625 3.984375 -6.640625 C 3.984375 -6.640625 3.953125 -6.640625 3.90625 -6.609375 C 3.703125 -6.515625 3.21875 -6.3125 2.546875 -6.3125 C 2.15625 -6.3125 1.6875 -6.390625 1.21875 -6.59375 C 1.140625 -6.625 1.125 -6.625 1.109375 -6.625 C 1 -6.625 1 -6.546875 1 -6.390625 L 1 -3.4375 C 1 -3.265625 1 -3.1875 1.140625 -3.1875 C 1.21875 -3.1875 1.234375 -3.203125 1.28125 -3.265625 C 1.390625 -3.421875 1.75 -3.96875 2.5625 -3.96875 C 3.078125 -3.96875 3.328125 -3.515625 3.40625 -3.328125 C 3.5625 -2.953125 3.59375 -2.578125 3.59375 -2.078125 C 3.59375 -1.71875 3.59375 -1.125 3.34375 -0.703125 C 3.109375 -0.3125 2.734375 -0.0625 2.28125 -0.0625 C 1.5625 -0.0625 0.984375 -0.59375 0.8125 -1.171875 C 0.84375 -1.171875 0.875 -1.15625 0.984375 -1.15625 C 1.3125 -1.15625 1.484375 -1.40625 1.484375 -1.640625 C 1.484375 -1.890625 1.3125 -2.140625 0.984375 -2.140625 C 0.84375 -2.140625 0.5 -2.0625 0.5 -1.609375 C 0.5 -0.75 1.1875 0.21875 2.296875 0.21875 C 3.453125 0.21875 4.46875 -0.734375 4.46875 -2 Z M 4.46875 -2 \" style=\"stroke:none;\"/>\n</symbol>\n<symbol id=\"glyph0-6\" overflow=\"visible\">\n<path d=\"M 1.3125 -3.265625 L 1.3125 -3.515625 C 1.3125 -6.03125 2.546875 -6.390625 3.0625 -6.390625 C 3.296875 -6.390625 3.71875 -6.328125 3.9375 -5.984375 C 3.78125 -5.984375 3.390625 -5.984375 3.390625 -5.546875 C 3.390625 -5.234375 3.625 -5.078125 3.84375 -5.078125 C 4 -5.078125 4.3125 -5.171875 4.3125 -5.5625 C 4.3125 -6.15625 3.875 -6.640625 3.046875 -6.640625 C 1.765625 -6.640625 0.421875 -5.359375 0.421875 -3.15625 C 0.421875 -0.484375 1.578125 0.21875 2.5 0.21875 C 3.609375 0.21875 4.5625 -0.71875 4.5625 -2.03125 C 4.5625 -3.296875 3.671875 -4.25 2.5625 -4.25 C 1.890625 -4.25 1.515625 -3.75 1.3125 -3.265625 Z M 2.5 -0.0625 C 1.875 -0.0625 1.578125 -0.65625 1.515625 -0.8125 C 1.328125 -1.28125 1.328125 -2.078125 1.328125 -2.25 C 1.328125 -3.03125 1.65625 -4.03125 2.546875 -4.03125 C 2.71875 -4.03125 3.171875 -4.03125 3.484375 -3.40625 C 3.65625 -3.046875 3.65625 -2.53125 3.65625 -2.046875 C 3.65625 -1.5625 3.65625 -1.0625 3.484375 -0.703125 C 3.1875 -0.109375 2.734375 -0.0625 2.5 -0.0625 Z M 2.5 -0.0625 \" style=\"stroke:none;\"/>\n</symbol>\n</g>\n</defs>\n<g id=\"surface1\">\n<g style=\"fill:rgb(0%,0%,0%);fill-opacity:1;\">\n  <use x=\"6.641\" xlink:href=\"#glyph0-1\" y=\"22.913\"/>\n  <use x=\"11.6223\" xlink:href=\"#glyph0-2\" y=\"22.913\"/>\n</g>\n<g style=\"fill:rgb(0%,0%,0%);fill-opacity:1;\">\n  <use x=\"34.987\" xlink:href=\"#glyph0-1\" y=\"13.062\"/>\n  <use x=\"39.9683\" xlink:href=\"#glyph0-3\" y=\"13.062\"/>\n</g>\n<g style=\"fill:rgb(0%,0%,0%);fill-opacity:1;\">\n  <use x=\"34.987\" xlink:href=\"#glyph0-1\" y=\"32.764\"/>\n  <use x=\"39.9683\" xlink:href=\"#glyph0-3\" y=\"32.764\"/>\n</g>\n<g style=\"fill:rgb(0%,0%,0%);fill-opacity:1;\">\n  <use x=\"91.68\" xlink:href=\"#glyph0-1\" y=\"22.913\"/>\n  <use x=\"96.6613\" xlink:href=\"#glyph0-2\" y=\"22.913\"/>\n</g>\n<g style=\"fill:rgb(0%,0%,0%);fill-opacity:1;\">\n  <use x=\"120.027\" xlink:href=\"#glyph0-3\" y=\"13.062\"/>\n  <use x=\"125.0083\" xlink:href=\"#glyph0-2\" y=\"13.062\"/>\n</g>\n<g style=\"fill:rgb(0%,0%,0%);fill-opacity:1;\">\n  <use x=\"122.517\" xlink:href=\"#glyph0-2\" y=\"32.764\"/>\n</g>\n<g style=\"fill:rgb(0%,0%,0%);fill-opacity:1;\">\n  <use x=\"179.349\" xlink:href=\"#glyph0-4\" y=\"23.162\"/>\n</g>\n<g style=\"fill:rgb(0%,0%,0%);fill-opacity:1;\">\n  <use x=\"205.066\" xlink:href=\"#glyph0-1\" y=\"13.062\"/>\n  <use x=\"210.0473\" xlink:href=\"#glyph0-5\" y=\"13.062\"/>\n</g>\n<g style=\"fill:rgb(0%,0%,0%);fill-opacity:1;\">\n  <use x=\"207.557\" xlink:href=\"#glyph0-6\" y=\"32.764\"/>\n</g>\n<path d=\"M 8.503 2.953 L 19.413156 6.745969 \" style=\"fill:none;stroke-width:0.3985;stroke-linecap:butt;stroke-linejoin:miter;stroke:rgb(0%,0%,0%);stroke-opacity:1;stroke-miterlimit:10;\" transform=\"matrix(1,0,0,-1,11.622,19.703)\"/>\n<path d=\"M -1.193775 1.594189 C -1.096636 0.995191 -0.00126409 0.0987819 0.298193 -0.00116438 C -0.0000924428 -0.099665 -1.09612 -0.997762 -1.19615 -1.59425 \" style=\"fill:none;stroke-width:0.31879;stroke-linecap:round;stroke-linejoin:round;stroke:rgb(0%,0%,0%);stroke-opacity:1;stroke-miterlimit:10;\" transform=\"matrix(0.94678,-0.32904,-0.32904,-0.94678,31.0337,12.95639)\"/>\n<path d=\"M 8.503 -2.95325 L 19.413156 -6.746219 \" style=\"fill:none;stroke-width:0.3985;stroke-linecap:butt;stroke-linejoin:miter;stroke:rgb(0%,0%,0%);stroke-opacity:1;stroke-miterlimit:10;\" transform=\"matrix(1,0,0,-1,11.622,19.703)\"/>\n<path d=\"M -1.196068 1.594014 C -1.096039 0.997527 -0.0000105643 0.0994294 0.298275 0.00092878 C -0.00118221 -0.0990175 -1.096555 -0.995427 -1.193693 -1.594424 \" style=\"fill:none;stroke-width:0.31879;stroke-linecap:round;stroke-linejoin:round;stroke:rgb(0%,0%,0%);stroke-opacity:1;stroke-miterlimit:10;\" transform=\"matrix(0.94678,0.32904,0.32904,-0.94678,31.0337,26.44961)\"/>\n<path d=\"M 93.542063 2.953 L 104.452219 6.745969 \" style=\"fill:none;stroke-width:0.3985;stroke-linecap:butt;stroke-linejoin:miter;stroke:rgb(0%,0%,0%);stroke-opacity:1;stroke-miterlimit:10;\" transform=\"matrix(1,0,0,-1,11.622,19.703)\"/>\n<path d=\"M -1.195063 1.594636 C -1.097925 0.995639 0.0011284 0.0979504 0.296904 -0.000716502 C -0.00138116 -0.0992171 -1.097409 -0.997314 -1.197439 -1.593802 \" style=\"fill:none;stroke-width:0.31879;stroke-linecap:round;stroke-linejoin:round;stroke:rgb(0%,0%,0%);stroke-opacity:1;stroke-miterlimit:10;\" transform=\"matrix(0.94678,-0.32904,-0.32904,-0.94678,116.07413,12.95639)\"/>\n<path d=\"M 93.542063 -2.95325 L 106.944406 -7.613406 \" style=\"fill:none;stroke-width:0.3985;stroke-linecap:butt;stroke-linejoin:miter;stroke:rgb(0%,0%,0%);stroke-opacity:1;stroke-miterlimit:10;\" transform=\"matrix(1,0,0,-1,11.622,19.703)\"/>\n<path d=\"M -1.195428 1.592363 C -1.095383 0.995884 0.000659382 0.0978271 0.298945 -0.000664136 C -0.000506646 -0.100618 -1.095843 -0.99705 -1.194243 -1.592362 \" style=\"fill:none;stroke-width:0.31879;stroke-linecap:round;stroke-linejoin:round;stroke:rgb(0%,0%,0%);stroke-opacity:1;stroke-miterlimit:10;\" transform=\"matrix(0.94678,0.32907,0.32907,-0.94678,118.56484,27.31506)\"/>\n<path d=\"M 175.952219 2.038938 L 189.491281 6.745969 \" style=\"fill:none;stroke-width:0.3985;stroke-linecap:butt;stroke-linejoin:miter;stroke:rgb(0%,0%,0%);stroke-opacity:1;stroke-miterlimit:10;\" transform=\"matrix(1,0,0,-1,11.622,19.703)\"/>\n<path d=\"M -1.196361 1.595088 C -1.095542 0.994811 -0.000169744 0.0984015 0.299287 -0.0015447 C 0.00100191 -0.100045 -1.095026 -0.998143 -1.195055 -1.59463 \" style=\"fill:none;stroke-width:0.31879;stroke-linecap:round;stroke-linejoin:round;stroke:rgb(0%,0%,0%);stroke-opacity:1;stroke-miterlimit:10;\" transform=\"matrix(0.94678,-0.32904,-0.32904,-0.94678,201.11457,12.95639)\"/>\n<path d=\"M 175.952219 -2.039187 L 191.983469 -7.613406 \" style=\"fill:none;stroke-width:0.3985;stroke-linecap:butt;stroke-linejoin:miter;stroke:rgb(0%,0%,0%);stroke-opacity:1;stroke-miterlimit:10;\" transform=\"matrix(1,0,0,-1,11.622,19.703)\"/>\n<path d=\"M -1.196689 1.591997 C -1.096665 0.995507 -0.000641621 0.0973961 0.297644 -0.00110771 C 0.00186609 -0.0997721 -1.0972 -0.997454 -1.195623 -1.592771 \" style=\"fill:none;stroke-width:0.31879;stroke-linecap:round;stroke-linejoin:round;stroke:rgb(0%,0%,0%);stroke-opacity:1;stroke-miterlimit:10;\" transform=\"matrix(0.94678,0.32903,0.32903,-0.94678,203.60528,27.31508)\"/>\n</g>\n</svg>"
          },
          "metadata": {
            "tags": [],
            "isolated": "true"
          }
        }
      ]
    },
    {
      "cell_type": "code",
      "metadata": {
        "colab": {
          "base_uri": "https://localhost:8080/",
          "height": 120
        },
        "id": "_e-dHefnEIXw",
        "outputId": "325e432d-973a-4974-f336-f2f3e42a3aab"
      },
      "source": [
        "#@title Replication step #1 { vertical-output: true, display-mode: \"form\" }\n",
        "\n",
        "\n",
        "%%tikz -l matrix -S test_output.tikz -f svg -s 1000,100\n",
        "\n",
        "\\node[matrix] (1) {\\node (11) {10};\\\\};\n",
        "\n",
        "\\node[matrix, right of=1, draw] (2) {\\node (21) {12};\\\\ \\node (22) {};\\\\ \\node (23) {12};\\\\};\n",
        "\n",
        "\\node[right of=2] (3) {};\n",
        "\n",
        "\\node[matrix, right of=3] (4) {\\node (41) {10};\\\\};\n",
        "\n",
        "\\node[matrix, right of=4, draw] (5) {\\node (51) {20};\\\\ \\node (52) {};\\\\ \\node (53) {0};\\\\};\n",
        "\n",
        "\\node[right of=5] (6) {};\n",
        "\n",
        "\\node[matrix, right of=6] (7) {\\node (71) {?};\\\\};\n",
        "\n",
        "\\node[matrix, right of=7, draw] (8) {\\node (81) {15};\\\\ \\node (82) {};\\\\ \\node (83) {6};\\\\};\n",
        "\n",
        "\\draw(11) edge[->] (21);\n",
        "\\draw(11) edge[->] (23);\n",
        "\n",
        "\\draw(41) edge[->] (51);\n",
        "\\draw(41) edge[->] (53);\n",
        "\n",
        "\\draw(71) edge[->] (81);\n",
        "\\draw(71) edge[->] (83);\n"
      ],
      "execution_count": 197,
      "outputs": [
        {
          "output_type": "display_data",
          "data": {
            "image/svg+xml": "<svg height=\"100px\" version=\"1.1\" viewBox=\"0 0 221.869 39.803\" width=\"1000px\" xmlns=\"http://www.w3.org/2000/svg\" xmlns:xlink=\"http://www.w3.org/1999/xlink\">\n<defs>\n<g>\n<symbol id=\"glyph0-0\" overflow=\"visible\">\n<path d=\"\" style=\"stroke:none;\"/>\n</symbol>\n<symbol id=\"glyph0-1\" overflow=\"visible\">\n<path d=\"M 2.9375 -6.375 C 2.9375 -6.625 2.9375 -6.640625 2.703125 -6.640625 C 2.078125 -6 1.203125 -6 0.890625 -6 L 0.890625 -5.6875 C 1.09375 -5.6875 1.671875 -5.6875 2.1875 -5.953125 L 2.1875 -0.78125 C 2.1875 -0.421875 2.15625 -0.3125 1.265625 -0.3125 L 0.953125 -0.3125 L 0.953125 0 C 1.296875 -0.03125 2.15625 -0.03125 2.5625 -0.03125 C 2.953125 -0.03125 3.828125 -0.03125 4.171875 0 L 4.171875 -0.3125 L 3.859375 -0.3125 C 2.953125 -0.3125 2.9375 -0.421875 2.9375 -0.78125 Z M 2.9375 -6.375 \" style=\"stroke:none;\"/>\n</symbol>\n<symbol id=\"glyph0-2\" overflow=\"visible\">\n<path d=\"M 4.578125 -3.1875 C 4.578125 -3.984375 4.53125 -4.78125 4.1875 -5.515625 C 3.734375 -6.484375 2.90625 -6.640625 2.5 -6.640625 C 1.890625 -6.640625 1.171875 -6.375 0.75 -5.453125 C 0.4375 -4.765625 0.390625 -3.984375 0.390625 -3.1875 C 0.390625 -2.4375 0.421875 -1.546875 0.84375 -0.78125 C 1.265625 0.015625 2 0.21875 2.484375 0.21875 C 3.015625 0.21875 3.78125 0.015625 4.21875 -0.9375 C 4.53125 -1.625 4.578125 -2.40625 4.578125 -3.1875 Z M 2.484375 0 C 2.09375 0 1.5 -0.25 1.328125 -1.203125 C 1.21875 -1.796875 1.21875 -2.71875 1.21875 -3.3125 C 1.21875 -3.953125 1.21875 -4.609375 1.296875 -5.140625 C 1.484375 -6.328125 2.234375 -6.421875 2.484375 -6.421875 C 2.8125 -6.421875 3.46875 -6.234375 3.65625 -5.25 C 3.765625 -4.6875 3.765625 -3.9375 3.765625 -3.3125 C 3.765625 -2.5625 3.765625 -1.890625 3.65625 -1.25 C 3.5 -0.296875 2.9375 0 2.484375 0 Z M 2.484375 0 \" style=\"stroke:none;\"/>\n</symbol>\n<symbol id=\"glyph0-3\" overflow=\"visible\">\n<path d=\"M 1.265625 -0.765625 L 2.328125 -1.796875 C 3.875 -3.171875 4.46875 -3.703125 4.46875 -4.703125 C 4.46875 -5.84375 3.578125 -6.640625 2.359375 -6.640625 C 1.234375 -6.640625 0.5 -5.71875 0.5 -4.828125 C 0.5 -4.28125 1 -4.28125 1.03125 -4.28125 C 1.203125 -4.28125 1.546875 -4.390625 1.546875 -4.8125 C 1.546875 -5.0625 1.359375 -5.328125 1.015625 -5.328125 C 0.9375 -5.328125 0.921875 -5.328125 0.890625 -5.3125 C 1.109375 -5.96875 1.65625 -6.328125 2.234375 -6.328125 C 3.140625 -6.328125 3.5625 -5.515625 3.5625 -4.703125 C 3.5625 -3.90625 3.078125 -3.125 2.515625 -2.5 L 0.609375 -0.375 C 0.5 -0.265625 0.5 -0.234375 0.5 0 L 4.203125 0 L 4.46875 -1.734375 L 4.234375 -1.734375 C 4.171875 -1.4375 4.109375 -1 4 -0.84375 C 3.9375 -0.765625 3.28125 -0.765625 3.0625 -0.765625 Z M 1.265625 -0.765625 \" style=\"stroke:none;\"/>\n</symbol>\n<symbol id=\"glyph0-4\" overflow=\"visible\">\n<path d=\"M 2.34375 -2.484375 C 2.34375 -3.734375 3.3125 -4.453125 3.65625 -4.703125 C 3.921875 -4.90625 4.140625 -5.265625 4.140625 -5.6875 C 4.140625 -6.265625 3.734375 -7.03125 2.25 -7.03125 C 1.171875 -7.03125 0.5625 -6.34375 0.5625 -5.703125 C 0.5625 -5.359375 0.78125 -5.21875 1.015625 -5.21875 C 1.296875 -5.21875 1.46875 -5.421875 1.46875 -5.6875 C 1.46875 -6.125 1.0625 -6.125 0.921875 -6.125 C 1.21875 -6.65625 1.796875 -6.8125 2.21875 -6.8125 C 3.3125 -6.8125 3.3125 -6.125 3.3125 -5.734375 C 3.3125 -5.15625 3.15625 -4.96875 2.96875 -4.796875 C 2.3125 -4.078125 2.09375 -3.15625 2.09375 -2.546875 L 2.09375 -2.109375 C 2.09375 -1.921875 2.09375 -1.859375 2.21875 -1.859375 C 2.34375 -1.859375 2.34375 -1.953125 2.34375 -2.140625 Z M 2.734375 -0.53125 C 2.734375 -0.8125 2.5 -1.0625 2.21875 -1.0625 C 1.921875 -1.0625 1.6875 -0.8125 1.6875 -0.53125 C 1.6875 -0.234375 1.921875 0 2.21875 0 C 2.5 0 2.734375 -0.234375 2.734375 -0.53125 Z M 2.734375 -0.53125 \" style=\"stroke:none;\"/>\n</symbol>\n<symbol id=\"glyph0-5\" overflow=\"visible\">\n<path d=\"M 4.46875 -2 C 4.46875 -3.1875 3.65625 -4.1875 2.578125 -4.1875 C 2.109375 -4.1875 1.671875 -4.03125 1.3125 -3.671875 L 1.3125 -5.625 C 1.515625 -5.5625 1.84375 -5.5 2.15625 -5.5 C 3.390625 -5.5 4.09375 -6.40625 4.09375 -6.53125 C 4.09375 -6.59375 4.0625 -6.640625 3.984375 -6.640625 C 3.984375 -6.640625 3.953125 -6.640625 3.90625 -6.609375 C 3.703125 -6.515625 3.21875 -6.3125 2.546875 -6.3125 C 2.15625 -6.3125 1.6875 -6.390625 1.21875 -6.59375 C 1.140625 -6.625 1.125 -6.625 1.109375 -6.625 C 1 -6.625 1 -6.546875 1 -6.390625 L 1 -3.4375 C 1 -3.265625 1 -3.1875 1.140625 -3.1875 C 1.21875 -3.1875 1.234375 -3.203125 1.28125 -3.265625 C 1.390625 -3.421875 1.75 -3.96875 2.5625 -3.96875 C 3.078125 -3.96875 3.328125 -3.515625 3.40625 -3.328125 C 3.5625 -2.953125 3.59375 -2.578125 3.59375 -2.078125 C 3.59375 -1.71875 3.59375 -1.125 3.34375 -0.703125 C 3.109375 -0.3125 2.734375 -0.0625 2.28125 -0.0625 C 1.5625 -0.0625 0.984375 -0.59375 0.8125 -1.171875 C 0.84375 -1.171875 0.875 -1.15625 0.984375 -1.15625 C 1.3125 -1.15625 1.484375 -1.40625 1.484375 -1.640625 C 1.484375 -1.890625 1.3125 -2.140625 0.984375 -2.140625 C 0.84375 -2.140625 0.5 -2.0625 0.5 -1.609375 C 0.5 -0.75 1.1875 0.21875 2.296875 0.21875 C 3.453125 0.21875 4.46875 -0.734375 4.46875 -2 Z M 4.46875 -2 \" style=\"stroke:none;\"/>\n</symbol>\n<symbol id=\"glyph0-6\" overflow=\"visible\">\n<path d=\"M 1.3125 -3.265625 L 1.3125 -3.515625 C 1.3125 -6.03125 2.546875 -6.390625 3.0625 -6.390625 C 3.296875 -6.390625 3.71875 -6.328125 3.9375 -5.984375 C 3.78125 -5.984375 3.390625 -5.984375 3.390625 -5.546875 C 3.390625 -5.234375 3.625 -5.078125 3.84375 -5.078125 C 4 -5.078125 4.3125 -5.171875 4.3125 -5.5625 C 4.3125 -6.15625 3.875 -6.640625 3.046875 -6.640625 C 1.765625 -6.640625 0.421875 -5.359375 0.421875 -3.15625 C 0.421875 -0.484375 1.578125 0.21875 2.5 0.21875 C 3.609375 0.21875 4.5625 -0.71875 4.5625 -2.03125 C 4.5625 -3.296875 3.671875 -4.25 2.5625 -4.25 C 1.890625 -4.25 1.515625 -3.75 1.3125 -3.265625 Z M 2.5 -0.0625 C 1.875 -0.0625 1.578125 -0.65625 1.515625 -0.8125 C 1.328125 -1.28125 1.328125 -2.078125 1.328125 -2.25 C 1.328125 -3.03125 1.65625 -4.03125 2.546875 -4.03125 C 2.71875 -4.03125 3.171875 -4.03125 3.484375 -3.40625 C 3.65625 -3.046875 3.65625 -2.53125 3.65625 -2.046875 C 3.65625 -1.5625 3.65625 -1.0625 3.484375 -0.703125 C 3.1875 -0.109375 2.734375 -0.0625 2.5 -0.0625 Z M 2.5 -0.0625 \" style=\"stroke:none;\"/>\n</symbol>\n</g>\n<clipPath id=\"clip1\">\n  <path d=\"M 28 0 L 52 0 L 52 39.804688 L 28 39.804688 Z M 28 0 \"/>\n</clipPath>\n<clipPath id=\"clip2\">\n  <path d=\"M 113 0 L 137 0 L 137 39.804688 L 113 39.804688 Z M 113 0 \"/>\n</clipPath>\n<clipPath id=\"clip3\">\n  <path d=\"M 198 0 L 221.867188 0 L 221.867188 39.804688 L 198 39.804688 Z M 198 0 \"/>\n</clipPath>\n</defs>\n<g id=\"surface1\">\n<g style=\"fill:rgb(0%,0%,0%);fill-opacity:1;\">\n  <use x=\"6.641\" xlink:href=\"#glyph0-1\" y=\"23.111\"/>\n  <use x=\"11.6223\" xlink:href=\"#glyph0-2\" y=\"23.111\"/>\n</g>\n<g clip-path=\"url(#clip1)\" clip-rule=\"nonzero\">\n<path d=\"M 16.725656 -19.704469 L 39.967844 -19.704469 L 39.967844 19.701781 L 16.725656 19.701781 Z M 16.725656 -19.704469 \" style=\"fill:none;stroke-width:0.3985;stroke-linecap:butt;stroke-linejoin:miter;stroke:rgb(0%,0%,0%);stroke-opacity:1;stroke-miterlimit:10;\" transform=\"matrix(1,0,0,-1,11.622,19.901)\"/>\n</g>\n<g style=\"fill:rgb(0%,0%,0%);fill-opacity:1;\">\n  <use x=\"34.987\" xlink:href=\"#glyph0-1\" y=\"13.26\"/>\n  <use x=\"39.9683\" xlink:href=\"#glyph0-3\" y=\"13.26\"/>\n</g>\n<g style=\"fill:rgb(0%,0%,0%);fill-opacity:1;\">\n  <use x=\"34.987\" xlink:href=\"#glyph0-1\" y=\"32.963\"/>\n  <use x=\"39.9683\" xlink:href=\"#glyph0-3\" y=\"32.963\"/>\n</g>\n<g style=\"fill:rgb(0%,0%,0%);fill-opacity:1;\">\n  <use x=\"91.68\" xlink:href=\"#glyph0-1\" y=\"23.111\"/>\n  <use x=\"96.6613\" xlink:href=\"#glyph0-2\" y=\"23.111\"/>\n</g>\n<g clip-path=\"url(#clip2)\" clip-rule=\"nonzero\">\n<path d=\"M 101.764719 -19.704469 L 125.010813 -19.704469 L 125.010813 19.701781 L 101.764719 19.701781 Z M 101.764719 -19.704469 \" style=\"fill:none;stroke-width:0.3985;stroke-linecap:butt;stroke-linejoin:miter;stroke:rgb(0%,0%,0%);stroke-opacity:1;stroke-miterlimit:10;\" transform=\"matrix(1,0,0,-1,11.622,19.901)\"/>\n</g>\n<g style=\"fill:rgb(0%,0%,0%);fill-opacity:1;\">\n  <use x=\"120.027\" xlink:href=\"#glyph0-3\" y=\"13.26\"/>\n  <use x=\"125.0083\" xlink:href=\"#glyph0-2\" y=\"13.26\"/>\n</g>\n<g style=\"fill:rgb(0%,0%,0%);fill-opacity:1;\">\n  <use x=\"122.517\" xlink:href=\"#glyph0-2\" y=\"32.963\"/>\n</g>\n<g style=\"fill:rgb(0%,0%,0%);fill-opacity:1;\">\n  <use x=\"179.349\" xlink:href=\"#glyph0-4\" y=\"23.36\"/>\n</g>\n<g clip-path=\"url(#clip3)\" clip-rule=\"nonzero\">\n<path d=\"M 186.803781 -19.704469 L 210.049875 -19.704469 L 210.049875 19.701781 L 186.803781 19.701781 Z M 186.803781 -19.704469 \" style=\"fill:none;stroke-width:0.3985;stroke-linecap:butt;stroke-linejoin:miter;stroke:rgb(0%,0%,0%);stroke-opacity:1;stroke-miterlimit:10;\" transform=\"matrix(1,0,0,-1,11.622,19.901)\"/>\n</g>\n<g style=\"fill:rgb(0%,0%,0%);fill-opacity:1;\">\n  <use x=\"205.066\" xlink:href=\"#glyph0-1\" y=\"13.26\"/>\n  <use x=\"210.0473\" xlink:href=\"#glyph0-5\" y=\"13.26\"/>\n</g>\n<g style=\"fill:rgb(0%,0%,0%);fill-opacity:1;\">\n  <use x=\"207.557\" xlink:href=\"#glyph0-6\" y=\"32.963\"/>\n</g>\n<path d=\"M 8.503 2.955687 L 19.413156 6.74475 \" style=\"fill:none;stroke-width:0.3985;stroke-linecap:butt;stroke-linejoin:miter;stroke:rgb(0%,0%,0%);stroke-opacity:1;stroke-miterlimit:10;\" transform=\"matrix(1,0,0,-1,11.622,19.901)\"/>\n<path d=\"M -1.194174 1.59304 C -1.095756 0.997724 -0.000383899 0.101315 0.299073 0.00136829 C -0.0004916 -0.100814 -1.09524 -0.99523 -1.196549 -1.595398 \" style=\"fill:none;stroke-width:0.31879;stroke-linecap:round;stroke-linejoin:round;stroke:rgb(0%,0%,0%);stroke-opacity:1;stroke-miterlimit:10;\" transform=\"matrix(0.94678,-0.32904,-0.32904,-0.94678,31.0337,13.15439)\"/>\n<path d=\"M 8.503 -2.954469 L 19.413156 -6.747438 \" style=\"fill:none;stroke-width:0.3985;stroke-linecap:butt;stroke-linejoin:miter;stroke:rgb(0%,0%,0%);stroke-opacity:1;stroke-miterlimit:10;\" transform=\"matrix(1,0,0,-1,11.622,19.901)\"/>\n<path d=\"M -1.195669 1.592866 C -1.095639 0.996378 0.000388593 0.0982809 0.298674 -0.000219756 C -0.000783057 -0.100166 -1.096155 -0.996575 -1.194573 -1.591891 \" style=\"fill:none;stroke-width:0.31879;stroke-linecap:round;stroke-linejoin:round;stroke:rgb(0%,0%,0%);stroke-opacity:1;stroke-miterlimit:10;\" transform=\"matrix(0.94678,0.32904,0.32904,-0.94678,31.0337,26.64761)\"/>\n<path d=\"M 93.542063 2.955687 L 104.452219 6.74475 \" style=\"fill:none;stroke-width:0.3985;stroke-linecap:butt;stroke-linejoin:miter;stroke:rgb(0%,0%,0%);stroke-opacity:1;stroke-miterlimit:10;\" transform=\"matrix(1,0,0,-1,11.622,19.901)\"/>\n<path d=\"M -1.195463 1.593488 C -1.097045 0.998172 0.00200859 0.100483 0.297784 0.00181617 C -0.00178032 -0.100366 -1.096529 -0.994782 -1.197838 -1.594951 \" style=\"fill:none;stroke-width:0.31879;stroke-linecap:round;stroke-linejoin:round;stroke:rgb(0%,0%,0%);stroke-opacity:1;stroke-miterlimit:10;\" transform=\"matrix(0.94678,-0.32904,-0.32904,-0.94678,116.07413,13.15439)\"/>\n<path d=\"M 93.542063 -2.954469 L 106.944406 -7.610719 \" style=\"fill:none;stroke-width:0.3985;stroke-linecap:butt;stroke-linejoin:miter;stroke:rgb(0%,0%,0%);stroke-opacity:1;stroke-miterlimit:10;\" transform=\"matrix(1,0,0,-1,11.622,19.901)\"/>\n<path d=\"M -1.196309 1.594896 C -1.094984 0.994736 -0.000220875 0.10036 0.299344 -0.00181265 C -0.0013869 -0.0980852 -1.096723 -0.994517 -1.193843 -1.593511 \" style=\"fill:none;stroke-width:0.31879;stroke-linecap:round;stroke-linejoin:round;stroke:rgb(0%,0%,0%);stroke-opacity:1;stroke-miterlimit:10;\" transform=\"matrix(0.94678,0.32907,0.32907,-0.94678,118.56484,27.51306)\"/>\n<path d=\"M 175.952219 2.041625 L 189.491281 6.74475 \" style=\"fill:none;stroke-width:0.3985;stroke-linecap:butt;stroke-linejoin:miter;stroke:rgb(0%,0%,0%);stroke-opacity:1;stroke-miterlimit:10;\" transform=\"matrix(1,0,0,-1,11.622,19.901)\"/>\n<path d=\"M -1.196761 1.593939 C -1.094662 0.997344 0.00071045 0.100934 0.300167 0.000987967 C 0.000602749 -0.101194 -1.094146 -0.99561 -1.195455 -1.595779 \" style=\"fill:none;stroke-width:0.31879;stroke-linecap:round;stroke-linejoin:round;stroke:rgb(0%,0%,0%);stroke-opacity:1;stroke-miterlimit:10;\" transform=\"matrix(0.94678,-0.32904,-0.32904,-0.94678,201.11457,13.15439)\"/>\n<path d=\"M 175.952219 -2.040406 L 191.983469 -7.610719 \" style=\"fill:none;stroke-width:0.3985;stroke-linecap:butt;stroke-linejoin:miter;stroke:rgb(0%,0%,0%);stroke-opacity:1;stroke-miterlimit:10;\" transform=\"matrix(1,0,0,-1,11.622,19.901)\"/>\n<path d=\"M -1.197569 1.59453 C -1.096266 0.994358 -0.00152179 0.0999287 0.298043 -0.00225625 C 0.000985913 -0.0972394 -1.0968 -0.998602 -1.195224 -1.593919 \" style=\"fill:none;stroke-width:0.31879;stroke-linecap:round;stroke-linejoin:round;stroke:rgb(0%,0%,0%);stroke-opacity:1;stroke-miterlimit:10;\" transform=\"matrix(0.94678,0.32903,0.32903,-0.94678,203.60528,27.51308)\"/>\n</g>\n</svg>"
          },
          "metadata": {
            "tags": [],
            "isolated": "true"
          }
        }
      ]
    },
    {
      "cell_type": "markdown",
      "metadata": {
        "id": "5s4b2LgYxTNl"
      },
      "source": [
        "$$ \n",
        "\\begin{bmatrix} 12 \\\\ 12 \\end{bmatrix} x_1\n",
        "+ \\begin{bmatrix} 20 \\\\ 0 \\end{bmatrix} x_2\n",
        "= \\begin{bmatrix} 15 \\\\ 6 \\end{bmatrix}\n",
        "$$"
      ]
    },
    {
      "cell_type": "markdown",
      "metadata": {
        "id": "s-vwxKtNym_h"
      },
      "source": [
        "$$\n",
        "x_1 = \\frac{1}{2}, \\quad x_2 = \\frac{9}{20} \n",
        "$$"
      ]
    },
    {
      "cell_type": "code",
      "metadata": {
        "colab": {
          "base_uri": "https://localhost:8080/",
          "height": 120
        },
        "id": "dNjPcvaPEb9W",
        "outputId": "903f7ba5-7b51-457f-fa21-a9e1f771e939"
      },
      "source": [
        "#@title Replication #2 { vertical-output: true, display-mode: \"form\" }\n",
        "\n",
        "\n",
        "%%tikz -l matrix -S test_output.tikz -f svg -s 1000,100\n",
        "\n",
        "\\node[matrix, draw] (1) {\\node (11) {10};\\\\};\n",
        "\n",
        "\\node[matrix, right of=1] (2) {\\node (21) {12};\\\\ \\node (22) {};\\\\ \\node (23) {12};\\\\};\n",
        "\n",
        "\\node[right of=2] (3) {};\n",
        "\n",
        "\\node[matrix, right of=3, draw] (4) {\\node (41) {10};\\\\};\n",
        "\n",
        "\\node[matrix, right of=4] (5) {\\node (51) {20};\\\\ \\node (52) {};\\\\ \\node (53) {0};\\\\};\n",
        "\n",
        "\\node[right of=5] (6) {};\n",
        "\n",
        "\\node[matrix, right of=6, draw] (7) {\\node (71) {?};\\\\};\n",
        "\n",
        "\\node[matrix, right of=7] (8) {\\node (81) {15};\\\\ \\node (82) {};\\\\ \\node (83) {6};\\\\};\n",
        "\n",
        "\\draw(11) edge[->] (21);\n",
        "\\draw(11) edge[->] (23);\n",
        "\n",
        "\\draw(41) edge[->] (51);\n",
        "\\draw(41) edge[->] (53);\n",
        "\n",
        "\\draw(71) edge[->] (81);\n",
        "\\draw(71) edge[->] (83);\n"
      ],
      "execution_count": 198,
      "outputs": [
        {
          "output_type": "display_data",
          "data": {
            "image/svg+xml": "<svg height=\"100px\" version=\"1.1\" viewBox=\"0 0 221.869 39.405\" width=\"1000px\" xmlns=\"http://www.w3.org/2000/svg\" xmlns:xlink=\"http://www.w3.org/1999/xlink\">\n<defs>\n<g>\n<symbol id=\"glyph0-0\" overflow=\"visible\">\n<path d=\"\" style=\"stroke:none;\"/>\n</symbol>\n<symbol id=\"glyph0-1\" overflow=\"visible\">\n<path d=\"M 2.9375 -6.375 C 2.9375 -6.625 2.9375 -6.640625 2.703125 -6.640625 C 2.078125 -6 1.203125 -6 0.890625 -6 L 0.890625 -5.6875 C 1.09375 -5.6875 1.671875 -5.6875 2.1875 -5.953125 L 2.1875 -0.78125 C 2.1875 -0.421875 2.15625 -0.3125 1.265625 -0.3125 L 0.953125 -0.3125 L 0.953125 0 C 1.296875 -0.03125 2.15625 -0.03125 2.5625 -0.03125 C 2.953125 -0.03125 3.828125 -0.03125 4.171875 0 L 4.171875 -0.3125 L 3.859375 -0.3125 C 2.953125 -0.3125 2.9375 -0.421875 2.9375 -0.78125 Z M 2.9375 -6.375 \" style=\"stroke:none;\"/>\n</symbol>\n<symbol id=\"glyph0-2\" overflow=\"visible\">\n<path d=\"M 4.578125 -3.1875 C 4.578125 -3.984375 4.53125 -4.78125 4.1875 -5.515625 C 3.734375 -6.484375 2.90625 -6.640625 2.5 -6.640625 C 1.890625 -6.640625 1.171875 -6.375 0.75 -5.453125 C 0.4375 -4.765625 0.390625 -3.984375 0.390625 -3.1875 C 0.390625 -2.4375 0.421875 -1.546875 0.84375 -0.78125 C 1.265625 0.015625 2 0.21875 2.484375 0.21875 C 3.015625 0.21875 3.78125 0.015625 4.21875 -0.9375 C 4.53125 -1.625 4.578125 -2.40625 4.578125 -3.1875 Z M 2.484375 0 C 2.09375 0 1.5 -0.25 1.328125 -1.203125 C 1.21875 -1.796875 1.21875 -2.71875 1.21875 -3.3125 C 1.21875 -3.953125 1.21875 -4.609375 1.296875 -5.140625 C 1.484375 -6.328125 2.234375 -6.421875 2.484375 -6.421875 C 2.8125 -6.421875 3.46875 -6.234375 3.65625 -5.25 C 3.765625 -4.6875 3.765625 -3.9375 3.765625 -3.3125 C 3.765625 -2.5625 3.765625 -1.890625 3.65625 -1.25 C 3.5 -0.296875 2.9375 0 2.484375 0 Z M 2.484375 0 \" style=\"stroke:none;\"/>\n</symbol>\n<symbol id=\"glyph0-3\" overflow=\"visible\">\n<path d=\"M 1.265625 -0.765625 L 2.328125 -1.796875 C 3.875 -3.171875 4.46875 -3.703125 4.46875 -4.703125 C 4.46875 -5.84375 3.578125 -6.640625 2.359375 -6.640625 C 1.234375 -6.640625 0.5 -5.71875 0.5 -4.828125 C 0.5 -4.28125 1 -4.28125 1.03125 -4.28125 C 1.203125 -4.28125 1.546875 -4.390625 1.546875 -4.8125 C 1.546875 -5.0625 1.359375 -5.328125 1.015625 -5.328125 C 0.9375 -5.328125 0.921875 -5.328125 0.890625 -5.3125 C 1.109375 -5.96875 1.65625 -6.328125 2.234375 -6.328125 C 3.140625 -6.328125 3.5625 -5.515625 3.5625 -4.703125 C 3.5625 -3.90625 3.078125 -3.125 2.515625 -2.5 L 0.609375 -0.375 C 0.5 -0.265625 0.5 -0.234375 0.5 0 L 4.203125 0 L 4.46875 -1.734375 L 4.234375 -1.734375 C 4.171875 -1.4375 4.109375 -1 4 -0.84375 C 3.9375 -0.765625 3.28125 -0.765625 3.0625 -0.765625 Z M 1.265625 -0.765625 \" style=\"stroke:none;\"/>\n</symbol>\n<symbol id=\"glyph0-4\" overflow=\"visible\">\n<path d=\"M 2.34375 -2.484375 C 2.34375 -3.734375 3.3125 -4.453125 3.65625 -4.703125 C 3.921875 -4.90625 4.140625 -5.265625 4.140625 -5.6875 C 4.140625 -6.265625 3.734375 -7.03125 2.25 -7.03125 C 1.171875 -7.03125 0.5625 -6.34375 0.5625 -5.703125 C 0.5625 -5.359375 0.78125 -5.21875 1.015625 -5.21875 C 1.296875 -5.21875 1.46875 -5.421875 1.46875 -5.6875 C 1.46875 -6.125 1.0625 -6.125 0.921875 -6.125 C 1.21875 -6.65625 1.796875 -6.8125 2.21875 -6.8125 C 3.3125 -6.8125 3.3125 -6.125 3.3125 -5.734375 C 3.3125 -5.15625 3.15625 -4.96875 2.96875 -4.796875 C 2.3125 -4.078125 2.09375 -3.15625 2.09375 -2.546875 L 2.09375 -2.109375 C 2.09375 -1.921875 2.09375 -1.859375 2.21875 -1.859375 C 2.34375 -1.859375 2.34375 -1.953125 2.34375 -2.140625 Z M 2.734375 -0.53125 C 2.734375 -0.8125 2.5 -1.0625 2.21875 -1.0625 C 1.921875 -1.0625 1.6875 -0.8125 1.6875 -0.53125 C 1.6875 -0.234375 1.921875 0 2.21875 0 C 2.5 0 2.734375 -0.234375 2.734375 -0.53125 Z M 2.734375 -0.53125 \" style=\"stroke:none;\"/>\n</symbol>\n<symbol id=\"glyph0-5\" overflow=\"visible\">\n<path d=\"M 4.46875 -2 C 4.46875 -3.1875 3.65625 -4.1875 2.578125 -4.1875 C 2.109375 -4.1875 1.671875 -4.03125 1.3125 -3.671875 L 1.3125 -5.625 C 1.515625 -5.5625 1.84375 -5.5 2.15625 -5.5 C 3.390625 -5.5 4.09375 -6.40625 4.09375 -6.53125 C 4.09375 -6.59375 4.0625 -6.640625 3.984375 -6.640625 C 3.984375 -6.640625 3.953125 -6.640625 3.90625 -6.609375 C 3.703125 -6.515625 3.21875 -6.3125 2.546875 -6.3125 C 2.15625 -6.3125 1.6875 -6.390625 1.21875 -6.59375 C 1.140625 -6.625 1.125 -6.625 1.109375 -6.625 C 1 -6.625 1 -6.546875 1 -6.390625 L 1 -3.4375 C 1 -3.265625 1 -3.1875 1.140625 -3.1875 C 1.21875 -3.1875 1.234375 -3.203125 1.28125 -3.265625 C 1.390625 -3.421875 1.75 -3.96875 2.5625 -3.96875 C 3.078125 -3.96875 3.328125 -3.515625 3.40625 -3.328125 C 3.5625 -2.953125 3.59375 -2.578125 3.59375 -2.078125 C 3.59375 -1.71875 3.59375 -1.125 3.34375 -0.703125 C 3.109375 -0.3125 2.734375 -0.0625 2.28125 -0.0625 C 1.5625 -0.0625 0.984375 -0.59375 0.8125 -1.171875 C 0.84375 -1.171875 0.875 -1.15625 0.984375 -1.15625 C 1.3125 -1.15625 1.484375 -1.40625 1.484375 -1.640625 C 1.484375 -1.890625 1.3125 -2.140625 0.984375 -2.140625 C 0.84375 -2.140625 0.5 -2.0625 0.5 -1.609375 C 0.5 -0.75 1.1875 0.21875 2.296875 0.21875 C 3.453125 0.21875 4.46875 -0.734375 4.46875 -2 Z M 4.46875 -2 \" style=\"stroke:none;\"/>\n</symbol>\n<symbol id=\"glyph0-6\" overflow=\"visible\">\n<path d=\"M 1.3125 -3.265625 L 1.3125 -3.515625 C 1.3125 -6.03125 2.546875 -6.390625 3.0625 -6.390625 C 3.296875 -6.390625 3.71875 -6.328125 3.9375 -5.984375 C 3.78125 -5.984375 3.390625 -5.984375 3.390625 -5.546875 C 3.390625 -5.234375 3.625 -5.078125 3.84375 -5.078125 C 4 -5.078125 4.3125 -5.171875 4.3125 -5.5625 C 4.3125 -6.15625 3.875 -6.640625 3.046875 -6.640625 C 1.765625 -6.640625 0.421875 -5.359375 0.421875 -3.15625 C 0.421875 -0.484375 1.578125 0.21875 2.5 0.21875 C 3.609375 0.21875 4.5625 -0.71875 4.5625 -2.03125 C 4.5625 -3.296875 3.671875 -4.25 2.5625 -4.25 C 1.890625 -4.25 1.515625 -3.75 1.3125 -3.265625 Z M 2.5 -0.0625 C 1.875 -0.0625 1.578125 -0.65625 1.515625 -0.8125 C 1.328125 -1.28125 1.328125 -2.078125 1.328125 -2.25 C 1.328125 -3.03125 1.65625 -4.03125 2.546875 -4.03125 C 2.71875 -4.03125 3.171875 -4.03125 3.484375 -3.40625 C 3.65625 -3.046875 3.65625 -2.53125 3.65625 -2.046875 C 3.65625 -1.5625 3.65625 -1.0625 3.484375 -0.703125 C 3.1875 -0.109375 2.734375 -0.0625 2.5 -0.0625 Z M 2.5 -0.0625 \" style=\"stroke:none;\"/>\n</symbol>\n</g>\n</defs>\n<g id=\"surface1\">\n<path d=\"M -11.622781 -9.851687 L 11.623312 -9.851687 L 11.623312 9.851438 L -11.622781 9.851438 Z M -11.622781 -9.851687 \" style=\"fill:none;stroke-width:0.3985;stroke-linecap:butt;stroke-linejoin:miter;stroke:rgb(0%,0%,0%);stroke-opacity:1;stroke-miterlimit:10;\" transform=\"matrix(1,0,0,-1,11.822,19.703)\"/>\n<g style=\"fill:rgb(0%,0%,0%);fill-opacity:1;\">\n  <use x=\"6.84\" xlink:href=\"#glyph0-1\" y=\"22.913\"/>\n  <use x=\"11.8213\" xlink:href=\"#glyph0-2\" y=\"22.913\"/>\n</g>\n<g style=\"fill:rgb(0%,0%,0%);fill-opacity:1;\">\n  <use x=\"35.187\" xlink:href=\"#glyph0-1\" y=\"13.062\"/>\n  <use x=\"40.1683\" xlink:href=\"#glyph0-3\" y=\"13.062\"/>\n</g>\n<g style=\"fill:rgb(0%,0%,0%);fill-opacity:1;\">\n  <use x=\"35.187\" xlink:href=\"#glyph0-1\" y=\"32.764\"/>\n  <use x=\"40.1683\" xlink:href=\"#glyph0-3\" y=\"32.764\"/>\n</g>\n<path d=\"M 73.416281 -9.851687 L 96.662375 -9.851687 L 96.662375 9.851438 L 73.416281 9.851438 Z M 73.416281 -9.851687 \" style=\"fill:none;stroke-width:0.3985;stroke-linecap:butt;stroke-linejoin:miter;stroke:rgb(0%,0%,0%);stroke-opacity:1;stroke-miterlimit:10;\" transform=\"matrix(1,0,0,-1,11.822,19.703)\"/>\n<g style=\"fill:rgb(0%,0%,0%);fill-opacity:1;\">\n  <use x=\"91.88\" xlink:href=\"#glyph0-1\" y=\"22.913\"/>\n  <use x=\"96.8613\" xlink:href=\"#glyph0-2\" y=\"22.913\"/>\n</g>\n<g style=\"fill:rgb(0%,0%,0%);fill-opacity:1;\">\n  <use x=\"120.226\" xlink:href=\"#glyph0-3\" y=\"13.062\"/>\n  <use x=\"125.2073\" xlink:href=\"#glyph0-2\" y=\"13.062\"/>\n</g>\n<g style=\"fill:rgb(0%,0%,0%);fill-opacity:1;\">\n  <use x=\"122.717\" xlink:href=\"#glyph0-2\" y=\"32.764\"/>\n</g>\n<path d=\"M 161.088156 -10.101687 L 179.072531 -10.101687 L 179.072531 10.101438 L 161.088156 10.101438 Z M 161.088156 -10.101687 \" style=\"fill:none;stroke-width:0.3985;stroke-linecap:butt;stroke-linejoin:miter;stroke:rgb(0%,0%,0%);stroke-opacity:1;stroke-miterlimit:10;\" transform=\"matrix(1,0,0,-1,11.822,19.703)\"/>\n<g style=\"fill:rgb(0%,0%,0%);fill-opacity:1;\">\n  <use x=\"179.548\" xlink:href=\"#glyph0-4\" y=\"23.162\"/>\n</g>\n<g style=\"fill:rgb(0%,0%,0%);fill-opacity:1;\">\n  <use x=\"205.265\" xlink:href=\"#glyph0-1\" y=\"13.062\"/>\n  <use x=\"210.2463\" xlink:href=\"#glyph0-5\" y=\"13.062\"/>\n</g>\n<g style=\"fill:rgb(0%,0%,0%);fill-opacity:1;\">\n  <use x=\"207.756\" xlink:href=\"#glyph0-6\" y=\"32.764\"/>\n</g>\n<path d=\"M 8.502219 2.953 L 19.412375 6.745969 \" style=\"fill:none;stroke-width:0.3985;stroke-linecap:butt;stroke-linejoin:miter;stroke:rgb(0%,0%,0%);stroke-opacity:1;stroke-miterlimit:10;\" transform=\"matrix(1,0,0,-1,11.822,19.703)\"/>\n<path d=\"M -1.194511 1.594444 C -1.097373 0.995447 -0.00200033 0.0990377 0.297457 -0.000908507 C -0.000828684 -0.0994091 -1.096857 -0.997506 -1.196886 -1.593994 \" style=\"fill:none;stroke-width:0.31879;stroke-linecap:round;stroke-linejoin:round;stroke:rgb(0%,0%,0%);stroke-opacity:1;stroke-miterlimit:10;\" transform=\"matrix(0.94678,-0.32904,-0.32904,-0.94678,31.2337,12.95639)\"/>\n<path d=\"M 8.502219 -2.95325 L 19.412375 -6.746219 \" style=\"fill:none;stroke-width:0.3985;stroke-linecap:butt;stroke-linejoin:miter;stroke:rgb(0%,0%,0%);stroke-opacity:1;stroke-miterlimit:10;\" transform=\"matrix(1,0,0,-1,11.822,19.703)\"/>\n<path d=\"M -1.196804 1.593758 C -1.096775 0.997271 -0.000746806 0.0991735 0.297539 0.00067291 C -0.00191846 -0.0992733 -1.097291 -0.995683 -1.194429 -1.59468 \" style=\"fill:none;stroke-width:0.31879;stroke-linecap:round;stroke-linejoin:round;stroke:rgb(0%,0%,0%);stroke-opacity:1;stroke-miterlimit:10;\" transform=\"matrix(0.94678,0.32904,0.32904,-0.94678,31.2337,26.44961)\"/>\n<path d=\"M 93.541281 2.953 L 104.451437 6.745969 \" style=\"fill:none;stroke-width:0.3985;stroke-linecap:butt;stroke-linejoin:miter;stroke:rgb(0%,0%,0%);stroke-opacity:1;stroke-miterlimit:10;\" transform=\"matrix(1,0,0,-1,11.822,19.703)\"/>\n<path d=\"M -1.1958 1.594892 C -1.09498 0.994616 0.000392156 0.0982063 0.299849 -0.00173998 C 0.00156381 -0.100241 -1.098145 -0.997058 -1.194494 -1.594825 \" style=\"fill:none;stroke-width:0.31879;stroke-linecap:round;stroke-linejoin:round;stroke:rgb(0%,0%,0%);stroke-opacity:1;stroke-miterlimit:10;\" transform=\"matrix(0.94678,-0.32904,-0.32904,-0.94678,116.27413,12.95639)\"/>\n<path d=\"M 93.541281 -2.95325 L 106.943625 -7.613406 \" style=\"fill:none;stroke-width:0.3985;stroke-linecap:butt;stroke-linejoin:miter;stroke:rgb(0%,0%,0%);stroke-opacity:1;stroke-miterlimit:10;\" transform=\"matrix(1,0,0,-1,11.822,19.703)\"/>\n<path d=\"M -1.196165 1.592108 C -1.096119 0.995629 -0.0000768451 0.0975712 0.298208 -0.000920024 C -0.00124287 -0.100874 -1.096579 -0.997305 -1.194979 -1.592618 \" style=\"fill:none;stroke-width:0.31879;stroke-linecap:round;stroke-linejoin:round;stroke:rgb(0%,0%,0%);stroke-opacity:1;stroke-miterlimit:10;\" transform=\"matrix(0.94678,0.32907,0.32907,-0.94678,118.76484,27.31506)\"/>\n<path d=\"M 175.951437 2.038938 L 189.494406 6.745969 \" style=\"fill:none;stroke-width:0.3985;stroke-linecap:butt;stroke-linejoin:miter;stroke:rgb(0%,0%,0%);stroke-opacity:1;stroke-miterlimit:10;\" transform=\"matrix(1,0,0,-1,11.822,19.703)\"/>\n<path d=\"M -1.197098 1.595343 C -1.096278 0.995067 -0.000905985 0.0986574 0.298551 -0.00128883 C 0.000265665 -0.0997895 -1.095762 -0.997887 -1.195792 -1.594374 \" style=\"fill:none;stroke-width:0.31879;stroke-linecap:round;stroke-linejoin:round;stroke:rgb(0%,0%,0%);stroke-opacity:1;stroke-miterlimit:10;\" transform=\"matrix(0.94678,-0.32904,-0.32904,-0.94678,201.31457,12.95639)\"/>\n<path d=\"M 175.951437 -2.039187 L 191.982687 -7.613406 \" style=\"fill:none;stroke-width:0.3985;stroke-linecap:butt;stroke-linejoin:miter;stroke:rgb(0%,0%,0%);stroke-opacity:1;stroke-miterlimit:10;\" transform=\"matrix(1,0,0,-1,11.822,19.703)\"/>\n<path d=\"M -1.193744 1.593021 C -1.097401 0.995251 0.00230336 0.0984195 0.300589 -0.0000842487 C 0.00112984 -0.100028 -1.094255 -0.99643 -1.196359 -1.593026 \" style=\"fill:none;stroke-width:0.31879;stroke-linecap:round;stroke-linejoin:round;stroke:rgb(0%,0%,0%);stroke-opacity:1;stroke-miterlimit:10;\" transform=\"matrix(0.94678,0.32903,0.32903,-0.94678,203.80528,27.31508)\"/>\n</g>\n</svg>"
          },
          "metadata": {
            "tags": [],
            "isolated": "true"
          }
        }
      ]
    },
    {
      "cell_type": "markdown",
      "metadata": {
        "id": "cKUj_bZ9z5wz"
      },
      "source": [
        "$$\n",
        "10 x_1 + 10 x_2 = 10 \\cdot \\frac{1}{2} + 10 \\cdot \\frac{9}{20} = 9.5\n",
        "$$"
      ]
    },
    {
      "cell_type": "markdown",
      "metadata": {
        "id": "AT0Mq-9Y0XrF"
      },
      "source": [
        "We don't know why 9.5 has to be the equilibrium price yet.\n",
        "\n",
        "What I have shown you is just the mechanics to calculate 9.5."
      ]
    },
    {
      "cell_type": "markdown",
      "metadata": {
        "id": "tuZVTsdyGLCu"
      },
      "source": [
        "# Arrow-Debreu Security"
      ]
    },
    {
      "cell_type": "code",
      "metadata": {
        "colab": {
          "base_uri": "https://localhost:8080/",
          "height": 140
        },
        "id": "6XGo4PDUGaqO",
        "outputId": "9591d646-ff40-4069-9c18-51801eac8887"
      },
      "source": [
        "#@title Games { vertical-output: true, display-mode: \"form\" }\n",
        "\n",
        "\n",
        "%%tikz -l matrix -S test_output.tikz -f svg -s 1000,100\n",
        "\n",
        "\\node[matrix] (1) {\\node (11) {10};\\\\};\n",
        "\n",
        "\\node[matrix, right of=1] (2) {\\node (21) {12};\\\\ \\node (22) {};\\\\ \\node (23) {12};\\\\};\n",
        "\n",
        "\\node[right of=2] (3) {};\n",
        "\n",
        "\\node[matrix, right of=3] (4) {\\node (41) {10};\\\\};\n",
        "\n",
        "\\node[matrix, right of=4] (5) {\\node (51) {20};\\\\ \\node (52) {};\\\\ \\node (53) {0};\\\\};\n",
        "\n",
        "\\node[right of=5] (6) {};\n",
        "\n",
        "\\node[matrix, right of=6] (7) {\\node (71) {?};\\\\};\n",
        "\n",
        "\\node[matrix, right of=7] (8) {\\node (81) {15};\\\\ \\node (82) {};\\\\ \\node (83) {6};\\\\};\n",
        "\n",
        "\\draw(11) edge[->] (21);\n",
        "\\draw(11) edge[->] (23);\n",
        "\n",
        "\\draw(41) edge[->] (51);\n",
        "\\draw(41) edge[->] (53);\n",
        "\n",
        "\\draw(71) edge[->] (81);\n",
        "\\draw(71) edge[->] (83);\n"
      ],
      "execution_count": null,
      "outputs": [
        {
          "output_type": "display_data",
          "data": {
            "image/svg+xml": "<svg height=\"100px\" version=\"1.1\" viewBox=\"0 0 221.67 39.405\" width=\"1000px\" xmlns=\"http://www.w3.org/2000/svg\" xmlns:xlink=\"http://www.w3.org/1999/xlink\">\n<defs>\n<g>\n<symbol id=\"glyph0-0\" overflow=\"visible\">\n<path d=\"\" style=\"stroke:none;\"/>\n</symbol>\n<symbol id=\"glyph0-1\" overflow=\"visible\">\n<path d=\"M 2.9375 -6.375 C 2.9375 -6.625 2.9375 -6.640625 2.703125 -6.640625 C 2.078125 -6 1.203125 -6 0.890625 -6 L 0.890625 -5.6875 C 1.09375 -5.6875 1.671875 -5.6875 2.1875 -5.953125 L 2.1875 -0.78125 C 2.1875 -0.421875 2.15625 -0.3125 1.265625 -0.3125 L 0.953125 -0.3125 L 0.953125 0 C 1.296875 -0.03125 2.15625 -0.03125 2.5625 -0.03125 C 2.953125 -0.03125 3.828125 -0.03125 4.171875 0 L 4.171875 -0.3125 L 3.859375 -0.3125 C 2.953125 -0.3125 2.9375 -0.421875 2.9375 -0.78125 Z M 2.9375 -6.375 \" style=\"stroke:none;\"/>\n</symbol>\n<symbol id=\"glyph0-2\" overflow=\"visible\">\n<path d=\"M 4.578125 -3.1875 C 4.578125 -3.984375 4.53125 -4.78125 4.1875 -5.515625 C 3.734375 -6.484375 2.90625 -6.640625 2.5 -6.640625 C 1.890625 -6.640625 1.171875 -6.375 0.75 -5.453125 C 0.4375 -4.765625 0.390625 -3.984375 0.390625 -3.1875 C 0.390625 -2.4375 0.421875 -1.546875 0.84375 -0.78125 C 1.265625 0.015625 2 0.21875 2.484375 0.21875 C 3.015625 0.21875 3.78125 0.015625 4.21875 -0.9375 C 4.53125 -1.625 4.578125 -2.40625 4.578125 -3.1875 Z M 2.484375 0 C 2.09375 0 1.5 -0.25 1.328125 -1.203125 C 1.21875 -1.796875 1.21875 -2.71875 1.21875 -3.3125 C 1.21875 -3.953125 1.21875 -4.609375 1.296875 -5.140625 C 1.484375 -6.328125 2.234375 -6.421875 2.484375 -6.421875 C 2.8125 -6.421875 3.46875 -6.234375 3.65625 -5.25 C 3.765625 -4.6875 3.765625 -3.9375 3.765625 -3.3125 C 3.765625 -2.5625 3.765625 -1.890625 3.65625 -1.25 C 3.5 -0.296875 2.9375 0 2.484375 0 Z M 2.484375 0 \" style=\"stroke:none;\"/>\n</symbol>\n<symbol id=\"glyph0-3\" overflow=\"visible\">\n<path d=\"M 1.265625 -0.765625 L 2.328125 -1.796875 C 3.875 -3.171875 4.46875 -3.703125 4.46875 -4.703125 C 4.46875 -5.84375 3.578125 -6.640625 2.359375 -6.640625 C 1.234375 -6.640625 0.5 -5.71875 0.5 -4.828125 C 0.5 -4.28125 1 -4.28125 1.03125 -4.28125 C 1.203125 -4.28125 1.546875 -4.390625 1.546875 -4.8125 C 1.546875 -5.0625 1.359375 -5.328125 1.015625 -5.328125 C 0.9375 -5.328125 0.921875 -5.328125 0.890625 -5.3125 C 1.109375 -5.96875 1.65625 -6.328125 2.234375 -6.328125 C 3.140625 -6.328125 3.5625 -5.515625 3.5625 -4.703125 C 3.5625 -3.90625 3.078125 -3.125 2.515625 -2.5 L 0.609375 -0.375 C 0.5 -0.265625 0.5 -0.234375 0.5 0 L 4.203125 0 L 4.46875 -1.734375 L 4.234375 -1.734375 C 4.171875 -1.4375 4.109375 -1 4 -0.84375 C 3.9375 -0.765625 3.28125 -0.765625 3.0625 -0.765625 Z M 1.265625 -0.765625 \" style=\"stroke:none;\"/>\n</symbol>\n<symbol id=\"glyph0-4\" overflow=\"visible\">\n<path d=\"M 2.34375 -2.484375 C 2.34375 -3.734375 3.3125 -4.453125 3.65625 -4.703125 C 3.921875 -4.90625 4.140625 -5.265625 4.140625 -5.6875 C 4.140625 -6.265625 3.734375 -7.03125 2.25 -7.03125 C 1.171875 -7.03125 0.5625 -6.34375 0.5625 -5.703125 C 0.5625 -5.359375 0.78125 -5.21875 1.015625 -5.21875 C 1.296875 -5.21875 1.46875 -5.421875 1.46875 -5.6875 C 1.46875 -6.125 1.0625 -6.125 0.921875 -6.125 C 1.21875 -6.65625 1.796875 -6.8125 2.21875 -6.8125 C 3.3125 -6.8125 3.3125 -6.125 3.3125 -5.734375 C 3.3125 -5.15625 3.15625 -4.96875 2.96875 -4.796875 C 2.3125 -4.078125 2.09375 -3.15625 2.09375 -2.546875 L 2.09375 -2.109375 C 2.09375 -1.921875 2.09375 -1.859375 2.21875 -1.859375 C 2.34375 -1.859375 2.34375 -1.953125 2.34375 -2.140625 Z M 2.734375 -0.53125 C 2.734375 -0.8125 2.5 -1.0625 2.21875 -1.0625 C 1.921875 -1.0625 1.6875 -0.8125 1.6875 -0.53125 C 1.6875 -0.234375 1.921875 0 2.21875 0 C 2.5 0 2.734375 -0.234375 2.734375 -0.53125 Z M 2.734375 -0.53125 \" style=\"stroke:none;\"/>\n</symbol>\n<symbol id=\"glyph0-5\" overflow=\"visible\">\n<path d=\"M 4.46875 -2 C 4.46875 -3.1875 3.65625 -4.1875 2.578125 -4.1875 C 2.109375 -4.1875 1.671875 -4.03125 1.3125 -3.671875 L 1.3125 -5.625 C 1.515625 -5.5625 1.84375 -5.5 2.15625 -5.5 C 3.390625 -5.5 4.09375 -6.40625 4.09375 -6.53125 C 4.09375 -6.59375 4.0625 -6.640625 3.984375 -6.640625 C 3.984375 -6.640625 3.953125 -6.640625 3.90625 -6.609375 C 3.703125 -6.515625 3.21875 -6.3125 2.546875 -6.3125 C 2.15625 -6.3125 1.6875 -6.390625 1.21875 -6.59375 C 1.140625 -6.625 1.125 -6.625 1.109375 -6.625 C 1 -6.625 1 -6.546875 1 -6.390625 L 1 -3.4375 C 1 -3.265625 1 -3.1875 1.140625 -3.1875 C 1.21875 -3.1875 1.234375 -3.203125 1.28125 -3.265625 C 1.390625 -3.421875 1.75 -3.96875 2.5625 -3.96875 C 3.078125 -3.96875 3.328125 -3.515625 3.40625 -3.328125 C 3.5625 -2.953125 3.59375 -2.578125 3.59375 -2.078125 C 3.59375 -1.71875 3.59375 -1.125 3.34375 -0.703125 C 3.109375 -0.3125 2.734375 -0.0625 2.28125 -0.0625 C 1.5625 -0.0625 0.984375 -0.59375 0.8125 -1.171875 C 0.84375 -1.171875 0.875 -1.15625 0.984375 -1.15625 C 1.3125 -1.15625 1.484375 -1.40625 1.484375 -1.640625 C 1.484375 -1.890625 1.3125 -2.140625 0.984375 -2.140625 C 0.84375 -2.140625 0.5 -2.0625 0.5 -1.609375 C 0.5 -0.75 1.1875 0.21875 2.296875 0.21875 C 3.453125 0.21875 4.46875 -0.734375 4.46875 -2 Z M 4.46875 -2 \" style=\"stroke:none;\"/>\n</symbol>\n<symbol id=\"glyph0-6\" overflow=\"visible\">\n<path d=\"M 1.3125 -3.265625 L 1.3125 -3.515625 C 1.3125 -6.03125 2.546875 -6.390625 3.0625 -6.390625 C 3.296875 -6.390625 3.71875 -6.328125 3.9375 -5.984375 C 3.78125 -5.984375 3.390625 -5.984375 3.390625 -5.546875 C 3.390625 -5.234375 3.625 -5.078125 3.84375 -5.078125 C 4 -5.078125 4.3125 -5.171875 4.3125 -5.5625 C 4.3125 -6.15625 3.875 -6.640625 3.046875 -6.640625 C 1.765625 -6.640625 0.421875 -5.359375 0.421875 -3.15625 C 0.421875 -0.484375 1.578125 0.21875 2.5 0.21875 C 3.609375 0.21875 4.5625 -0.71875 4.5625 -2.03125 C 4.5625 -3.296875 3.671875 -4.25 2.5625 -4.25 C 1.890625 -4.25 1.515625 -3.75 1.3125 -3.265625 Z M 2.5 -0.0625 C 1.875 -0.0625 1.578125 -0.65625 1.515625 -0.8125 C 1.328125 -1.28125 1.328125 -2.078125 1.328125 -2.25 C 1.328125 -3.03125 1.65625 -4.03125 2.546875 -4.03125 C 2.71875 -4.03125 3.171875 -4.03125 3.484375 -3.40625 C 3.65625 -3.046875 3.65625 -2.53125 3.65625 -2.046875 C 3.65625 -1.5625 3.65625 -1.0625 3.484375 -0.703125 C 3.1875 -0.109375 2.734375 -0.0625 2.5 -0.0625 Z M 2.5 -0.0625 \" style=\"stroke:none;\"/>\n</symbol>\n</g>\n</defs>\n<g id=\"surface1\">\n<g style=\"fill:rgb(0%,0%,0%);fill-opacity:1;\">\n  <use x=\"6.641\" xlink:href=\"#glyph0-1\" y=\"22.913\"/>\n  <use x=\"11.6223\" xlink:href=\"#glyph0-2\" y=\"22.913\"/>\n</g>\n<g style=\"fill:rgb(0%,0%,0%);fill-opacity:1;\">\n  <use x=\"34.987\" xlink:href=\"#glyph0-1\" y=\"13.062\"/>\n  <use x=\"39.9683\" xlink:href=\"#glyph0-3\" y=\"13.062\"/>\n</g>\n<g style=\"fill:rgb(0%,0%,0%);fill-opacity:1;\">\n  <use x=\"34.987\" xlink:href=\"#glyph0-1\" y=\"32.764\"/>\n  <use x=\"39.9683\" xlink:href=\"#glyph0-3\" y=\"32.764\"/>\n</g>\n<g style=\"fill:rgb(0%,0%,0%);fill-opacity:1;\">\n  <use x=\"91.68\" xlink:href=\"#glyph0-1\" y=\"22.913\"/>\n  <use x=\"96.6613\" xlink:href=\"#glyph0-2\" y=\"22.913\"/>\n</g>\n<g style=\"fill:rgb(0%,0%,0%);fill-opacity:1;\">\n  <use x=\"120.027\" xlink:href=\"#glyph0-3\" y=\"13.062\"/>\n  <use x=\"125.0083\" xlink:href=\"#glyph0-2\" y=\"13.062\"/>\n</g>\n<g style=\"fill:rgb(0%,0%,0%);fill-opacity:1;\">\n  <use x=\"122.517\" xlink:href=\"#glyph0-2\" y=\"32.764\"/>\n</g>\n<g style=\"fill:rgb(0%,0%,0%);fill-opacity:1;\">\n  <use x=\"179.349\" xlink:href=\"#glyph0-4\" y=\"23.162\"/>\n</g>\n<g style=\"fill:rgb(0%,0%,0%);fill-opacity:1;\">\n  <use x=\"205.066\" xlink:href=\"#glyph0-1\" y=\"13.062\"/>\n  <use x=\"210.0473\" xlink:href=\"#glyph0-5\" y=\"13.062\"/>\n</g>\n<g style=\"fill:rgb(0%,0%,0%);fill-opacity:1;\">\n  <use x=\"207.557\" xlink:href=\"#glyph0-6\" y=\"32.764\"/>\n</g>\n<path d=\"M 8.503 2.953 L 19.413156 6.745969 \" style=\"fill:none;stroke-width:0.3985;stroke-linecap:butt;stroke-linejoin:miter;stroke:rgb(0%,0%,0%);stroke-opacity:1;stroke-miterlimit:10;\" transform=\"matrix(1,0,0,-1,11.622,19.703)\"/>\n<path d=\"M -1.193775 1.594189 C -1.096636 0.995191 -0.00126409 0.0987819 0.298193 -0.00116438 C -0.0000924428 -0.099665 -1.09612 -0.997762 -1.19615 -1.59425 \" style=\"fill:none;stroke-width:0.31879;stroke-linecap:round;stroke-linejoin:round;stroke:rgb(0%,0%,0%);stroke-opacity:1;stroke-miterlimit:10;\" transform=\"matrix(0.94678,-0.32904,-0.32904,-0.94678,31.0337,12.95639)\"/>\n<path d=\"M 8.503 -2.95325 L 19.413156 -6.746219 \" style=\"fill:none;stroke-width:0.3985;stroke-linecap:butt;stroke-linejoin:miter;stroke:rgb(0%,0%,0%);stroke-opacity:1;stroke-miterlimit:10;\" transform=\"matrix(1,0,0,-1,11.622,19.703)\"/>\n<path d=\"M -1.196068 1.594014 C -1.096039 0.997527 -0.0000105643 0.0994294 0.298275 0.00092878 C -0.00118221 -0.0990175 -1.096555 -0.995427 -1.193693 -1.594424 \" style=\"fill:none;stroke-width:0.31879;stroke-linecap:round;stroke-linejoin:round;stroke:rgb(0%,0%,0%);stroke-opacity:1;stroke-miterlimit:10;\" transform=\"matrix(0.94678,0.32904,0.32904,-0.94678,31.0337,26.44961)\"/>\n<path d=\"M 93.542063 2.953 L 104.452219 6.745969 \" style=\"fill:none;stroke-width:0.3985;stroke-linecap:butt;stroke-linejoin:miter;stroke:rgb(0%,0%,0%);stroke-opacity:1;stroke-miterlimit:10;\" transform=\"matrix(1,0,0,-1,11.622,19.703)\"/>\n<path d=\"M -1.195063 1.594636 C -1.097925 0.995639 0.0011284 0.0979504 0.296904 -0.000716502 C -0.00138116 -0.0992171 -1.097409 -0.997314 -1.197439 -1.593802 \" style=\"fill:none;stroke-width:0.31879;stroke-linecap:round;stroke-linejoin:round;stroke:rgb(0%,0%,0%);stroke-opacity:1;stroke-miterlimit:10;\" transform=\"matrix(0.94678,-0.32904,-0.32904,-0.94678,116.07413,12.95639)\"/>\n<path d=\"M 93.542063 -2.95325 L 106.944406 -7.613406 \" style=\"fill:none;stroke-width:0.3985;stroke-linecap:butt;stroke-linejoin:miter;stroke:rgb(0%,0%,0%);stroke-opacity:1;stroke-miterlimit:10;\" transform=\"matrix(1,0,0,-1,11.622,19.703)\"/>\n<path d=\"M -1.195428 1.592363 C -1.095383 0.995884 0.000659382 0.0978271 0.298945 -0.000664136 C -0.000506646 -0.100618 -1.095843 -0.99705 -1.194243 -1.592362 \" style=\"fill:none;stroke-width:0.31879;stroke-linecap:round;stroke-linejoin:round;stroke:rgb(0%,0%,0%);stroke-opacity:1;stroke-miterlimit:10;\" transform=\"matrix(0.94678,0.32907,0.32907,-0.94678,118.56484,27.31506)\"/>\n<path d=\"M 175.952219 2.038938 L 189.491281 6.745969 \" style=\"fill:none;stroke-width:0.3985;stroke-linecap:butt;stroke-linejoin:miter;stroke:rgb(0%,0%,0%);stroke-opacity:1;stroke-miterlimit:10;\" transform=\"matrix(1,0,0,-1,11.622,19.703)\"/>\n<path d=\"M -1.196361 1.595088 C -1.095542 0.994811 -0.000169744 0.0984015 0.299287 -0.0015447 C 0.00100191 -0.100045 -1.095026 -0.998143 -1.195055 -1.59463 \" style=\"fill:none;stroke-width:0.31879;stroke-linecap:round;stroke-linejoin:round;stroke:rgb(0%,0%,0%);stroke-opacity:1;stroke-miterlimit:10;\" transform=\"matrix(0.94678,-0.32904,-0.32904,-0.94678,201.11457,12.95639)\"/>\n<path d=\"M 175.952219 -2.039187 L 191.983469 -7.613406 \" style=\"fill:none;stroke-width:0.3985;stroke-linecap:butt;stroke-linejoin:miter;stroke:rgb(0%,0%,0%);stroke-opacity:1;stroke-miterlimit:10;\" transform=\"matrix(1,0,0,-1,11.622,19.703)\"/>\n<path d=\"M -1.196689 1.591997 C -1.096665 0.995507 -0.000641621 0.0973961 0.297644 -0.00110771 C 0.00186609 -0.0997721 -1.0972 -0.997454 -1.195623 -1.592771 \" style=\"fill:none;stroke-width:0.31879;stroke-linecap:round;stroke-linejoin:round;stroke:rgb(0%,0%,0%);stroke-opacity:1;stroke-miterlimit:10;\" transform=\"matrix(0.94678,0.32903,0.32903,-0.94678,203.60528,27.31508)\"/>\n</g>\n</svg>"
          },
          "metadata": {
            "tags": [],
            "isolated": "true"
          }
        }
      ]
    },
    {
      "cell_type": "code",
      "metadata": {
        "colab": {
          "base_uri": "https://localhost:8080/",
          "height": 120
        },
        "id": "KinMv0VPzAgK",
        "outputId": "bc3a7003-38cd-480c-ab2a-cc8a810e0010"
      },
      "source": [
        "#@title Arrow-Debreu security method step #1 { vertical-output: true, display-mode: \"form\" }\n",
        "\n",
        "\n",
        "%%tikz -l matrix -S test_output.tikz -f svg -s 1000,100\n",
        "\n",
        "\\node[matrix] (1) {\\node[draw] (11) {10};\\\\};\n",
        "\n",
        "\\node[matrix, right of=1] (2) {\\node[draw] (21) {12};\\\\ \\node[] (22) {};\\\\ \\node[draw] (23) {12};\\\\};\n",
        "\n",
        "\\node[right of=2] (3) {};\n",
        "\n",
        "\\node[matrix, right of=3] (4) {\\node (41) {10};\\\\};\n",
        "\n",
        "\\node[matrix, right of=4] (5) {\\node (51) {20};\\\\ \\node (52) {};\\\\ \\node (53) {0};\\\\};\n",
        "\n",
        "\\node[right of=5] (6) {};\n",
        "\n",
        "\\node[matrix, right of=6] (7) {\\node (71) {10};\\\\};\n",
        "\n",
        "\\node[matrix, right of=7] (8) {\\node (81) {15};\\\\ \\node (82) {};\\\\ \\node (83) {6};\\\\};\n",
        "\n",
        "\\draw(11) edge[->] (21);\n",
        "\\draw(11) edge[->] (23);\n",
        "\n",
        "\\draw(41) edge[->] (51);\n",
        "\\draw(41) edge[->] (53);\n",
        "\n",
        "\\draw(71) edge[->] (81);\n",
        "\\draw(71) edge[->] (83);\n"
      ],
      "execution_count": 203,
      "outputs": [
        {
          "output_type": "display_data",
          "data": {
            "image/svg+xml": "<svg height=\"100px\" version=\"1.1\" viewBox=\"0 0 221.869 40.202\" width=\"1000px\" xmlns=\"http://www.w3.org/2000/svg\" xmlns:xlink=\"http://www.w3.org/1999/xlink\">\n<defs>\n<g>\n<symbol id=\"glyph0-0\" overflow=\"visible\">\n<path d=\"\" style=\"stroke:none;\"/>\n</symbol>\n<symbol id=\"glyph0-1\" overflow=\"visible\">\n<path d=\"M 2.9375 -6.375 C 2.9375 -6.625 2.9375 -6.640625 2.703125 -6.640625 C 2.078125 -6 1.203125 -6 0.890625 -6 L 0.890625 -5.6875 C 1.09375 -5.6875 1.671875 -5.6875 2.1875 -5.953125 L 2.1875 -0.78125 C 2.1875 -0.421875 2.15625 -0.3125 1.265625 -0.3125 L 0.953125 -0.3125 L 0.953125 0 C 1.296875 -0.03125 2.15625 -0.03125 2.5625 -0.03125 C 2.953125 -0.03125 3.828125 -0.03125 4.171875 0 L 4.171875 -0.3125 L 3.859375 -0.3125 C 2.953125 -0.3125 2.9375 -0.421875 2.9375 -0.78125 Z M 2.9375 -6.375 \" style=\"stroke:none;\"/>\n</symbol>\n<symbol id=\"glyph0-2\" overflow=\"visible\">\n<path d=\"M 4.578125 -3.1875 C 4.578125 -3.984375 4.53125 -4.78125 4.1875 -5.515625 C 3.734375 -6.484375 2.90625 -6.640625 2.5 -6.640625 C 1.890625 -6.640625 1.171875 -6.375 0.75 -5.453125 C 0.4375 -4.765625 0.390625 -3.984375 0.390625 -3.1875 C 0.390625 -2.4375 0.421875 -1.546875 0.84375 -0.78125 C 1.265625 0.015625 2 0.21875 2.484375 0.21875 C 3.015625 0.21875 3.78125 0.015625 4.21875 -0.9375 C 4.53125 -1.625 4.578125 -2.40625 4.578125 -3.1875 Z M 2.484375 0 C 2.09375 0 1.5 -0.25 1.328125 -1.203125 C 1.21875 -1.796875 1.21875 -2.71875 1.21875 -3.3125 C 1.21875 -3.953125 1.21875 -4.609375 1.296875 -5.140625 C 1.484375 -6.328125 2.234375 -6.421875 2.484375 -6.421875 C 2.8125 -6.421875 3.46875 -6.234375 3.65625 -5.25 C 3.765625 -4.6875 3.765625 -3.9375 3.765625 -3.3125 C 3.765625 -2.5625 3.765625 -1.890625 3.65625 -1.25 C 3.5 -0.296875 2.9375 0 2.484375 0 Z M 2.484375 0 \" style=\"stroke:none;\"/>\n</symbol>\n<symbol id=\"glyph0-3\" overflow=\"visible\">\n<path d=\"M 1.265625 -0.765625 L 2.328125 -1.796875 C 3.875 -3.171875 4.46875 -3.703125 4.46875 -4.703125 C 4.46875 -5.84375 3.578125 -6.640625 2.359375 -6.640625 C 1.234375 -6.640625 0.5 -5.71875 0.5 -4.828125 C 0.5 -4.28125 1 -4.28125 1.03125 -4.28125 C 1.203125 -4.28125 1.546875 -4.390625 1.546875 -4.8125 C 1.546875 -5.0625 1.359375 -5.328125 1.015625 -5.328125 C 0.9375 -5.328125 0.921875 -5.328125 0.890625 -5.3125 C 1.109375 -5.96875 1.65625 -6.328125 2.234375 -6.328125 C 3.140625 -6.328125 3.5625 -5.515625 3.5625 -4.703125 C 3.5625 -3.90625 3.078125 -3.125 2.515625 -2.5 L 0.609375 -0.375 C 0.5 -0.265625 0.5 -0.234375 0.5 0 L 4.203125 0 L 4.46875 -1.734375 L 4.234375 -1.734375 C 4.171875 -1.4375 4.109375 -1 4 -0.84375 C 3.9375 -0.765625 3.28125 -0.765625 3.0625 -0.765625 Z M 1.265625 -0.765625 \" style=\"stroke:none;\"/>\n</symbol>\n<symbol id=\"glyph0-4\" overflow=\"visible\">\n<path d=\"M 4.46875 -2 C 4.46875 -3.1875 3.65625 -4.1875 2.578125 -4.1875 C 2.109375 -4.1875 1.671875 -4.03125 1.3125 -3.671875 L 1.3125 -5.625 C 1.515625 -5.5625 1.84375 -5.5 2.15625 -5.5 C 3.390625 -5.5 4.09375 -6.40625 4.09375 -6.53125 C 4.09375 -6.59375 4.0625 -6.640625 3.984375 -6.640625 C 3.984375 -6.640625 3.953125 -6.640625 3.90625 -6.609375 C 3.703125 -6.515625 3.21875 -6.3125 2.546875 -6.3125 C 2.15625 -6.3125 1.6875 -6.390625 1.21875 -6.59375 C 1.140625 -6.625 1.125 -6.625 1.109375 -6.625 C 1 -6.625 1 -6.546875 1 -6.390625 L 1 -3.4375 C 1 -3.265625 1 -3.1875 1.140625 -3.1875 C 1.21875 -3.1875 1.234375 -3.203125 1.28125 -3.265625 C 1.390625 -3.421875 1.75 -3.96875 2.5625 -3.96875 C 3.078125 -3.96875 3.328125 -3.515625 3.40625 -3.328125 C 3.5625 -2.953125 3.59375 -2.578125 3.59375 -2.078125 C 3.59375 -1.71875 3.59375 -1.125 3.34375 -0.703125 C 3.109375 -0.3125 2.734375 -0.0625 2.28125 -0.0625 C 1.5625 -0.0625 0.984375 -0.59375 0.8125 -1.171875 C 0.84375 -1.171875 0.875 -1.15625 0.984375 -1.15625 C 1.3125 -1.15625 1.484375 -1.40625 1.484375 -1.640625 C 1.484375 -1.890625 1.3125 -2.140625 0.984375 -2.140625 C 0.84375 -2.140625 0.5 -2.0625 0.5 -1.609375 C 0.5 -0.75 1.1875 0.21875 2.296875 0.21875 C 3.453125 0.21875 4.46875 -0.734375 4.46875 -2 Z M 4.46875 -2 \" style=\"stroke:none;\"/>\n</symbol>\n<symbol id=\"glyph0-5\" overflow=\"visible\">\n<path d=\"M 1.3125 -3.265625 L 1.3125 -3.515625 C 1.3125 -6.03125 2.546875 -6.390625 3.0625 -6.390625 C 3.296875 -6.390625 3.71875 -6.328125 3.9375 -5.984375 C 3.78125 -5.984375 3.390625 -5.984375 3.390625 -5.546875 C 3.390625 -5.234375 3.625 -5.078125 3.84375 -5.078125 C 4 -5.078125 4.3125 -5.171875 4.3125 -5.5625 C 4.3125 -6.15625 3.875 -6.640625 3.046875 -6.640625 C 1.765625 -6.640625 0.421875 -5.359375 0.421875 -3.15625 C 0.421875 -0.484375 1.578125 0.21875 2.5 0.21875 C 3.609375 0.21875 4.5625 -0.71875 4.5625 -2.03125 C 4.5625 -3.296875 3.671875 -4.25 2.5625 -4.25 C 1.890625 -4.25 1.515625 -3.75 1.3125 -3.265625 Z M 2.5 -0.0625 C 1.875 -0.0625 1.578125 -0.65625 1.515625 -0.8125 C 1.328125 -1.28125 1.328125 -2.078125 1.328125 -2.25 C 1.328125 -3.03125 1.65625 -4.03125 2.546875 -4.03125 C 2.71875 -4.03125 3.171875 -4.03125 3.484375 -3.40625 C 3.65625 -3.046875 3.65625 -2.53125 3.65625 -2.046875 C 3.65625 -1.5625 3.65625 -1.0625 3.484375 -0.703125 C 3.1875 -0.109375 2.734375 -0.0625 2.5 -0.0625 Z M 2.5 -0.0625 \" style=\"stroke:none;\"/>\n</symbol>\n</g>\n</defs>\n<g id=\"surface1\">\n<path d=\"M -8.302469 -6.531812 L 8.303 -6.531812 L 8.303 6.530688 L -8.302469 6.530688 Z M -8.302469 -6.531812 \" style=\"fill:none;stroke-width:0.3985;stroke-linecap:butt;stroke-linejoin:miter;stroke:rgb(0%,0%,0%);stroke-opacity:1;stroke-miterlimit:10;\" transform=\"matrix(1,0,0,-1,11.822,20.101)\"/>\n<g style=\"fill:rgb(0%,0%,0%);fill-opacity:1;\">\n  <use x=\"6.84\" xlink:href=\"#glyph0-1\" y=\"23.311\"/>\n  <use x=\"11.8213\" xlink:href=\"#glyph0-2\" y=\"23.311\"/>\n</g>\n<path d=\"M -8.300812 -6.531031 L 8.30075 -6.531031 L 8.30075 6.531469 L -8.300812 6.531469 Z M -8.300812 -6.531031 \" style=\"fill:none;stroke-width:0.3985;stroke-linecap:butt;stroke-linejoin:miter;stroke:rgb(0%,0%,0%);stroke-opacity:1;stroke-miterlimit:10;\" transform=\"matrix(1,0,0,-1,40.168,10.051)\"/>\n<g style=\"fill:rgb(0%,0%,0%);fill-opacity:1;\">\n  <use x=\"35.187\" xlink:href=\"#glyph0-1\" y=\"13.261\"/>\n  <use x=\"40.1683\" xlink:href=\"#glyph0-3\" y=\"13.261\"/>\n</g>\n<path d=\"M -8.300812 -6.531594 L 8.30075 -6.531594 L 8.30075 6.530906 L -8.300812 6.530906 Z M -8.300812 -6.531594 \" style=\"fill:none;stroke-width:0.3985;stroke-linecap:butt;stroke-linejoin:miter;stroke:rgb(0%,0%,0%);stroke-opacity:1;stroke-miterlimit:10;\" transform=\"matrix(1,0,0,-1,40.168,30.152)\"/>\n<g style=\"fill:rgb(0%,0%,0%);fill-opacity:1;\">\n  <use x=\"35.187\" xlink:href=\"#glyph0-1\" y=\"33.362\"/>\n  <use x=\"40.1683\" xlink:href=\"#glyph0-3\" y=\"33.362\"/>\n</g>\n<g style=\"fill:rgb(0%,0%,0%);fill-opacity:1;\">\n  <use x=\"91.88\" xlink:href=\"#glyph0-1\" y=\"23.311\"/>\n  <use x=\"96.8613\" xlink:href=\"#glyph0-2\" y=\"23.311\"/>\n</g>\n<g style=\"fill:rgb(0%,0%,0%);fill-opacity:1;\">\n  <use x=\"120.226\" xlink:href=\"#glyph0-3\" y=\"13.46\"/>\n  <use x=\"125.2073\" xlink:href=\"#glyph0-2\" y=\"13.46\"/>\n</g>\n<g style=\"fill:rgb(0%,0%,0%);fill-opacity:1;\">\n  <use x=\"122.717\" xlink:href=\"#glyph0-2\" y=\"33.162\"/>\n</g>\n<g style=\"fill:rgb(0%,0%,0%);fill-opacity:1;\">\n  <use x=\"176.919\" xlink:href=\"#glyph0-1\" y=\"23.311\"/>\n  <use x=\"181.9003\" xlink:href=\"#glyph0-2\" y=\"23.311\"/>\n</g>\n<g style=\"fill:rgb(0%,0%,0%);fill-opacity:1;\">\n  <use x=\"205.265\" xlink:href=\"#glyph0-1\" y=\"13.46\"/>\n  <use x=\"210.2463\" xlink:href=\"#glyph0-4\" y=\"13.46\"/>\n</g>\n<g style=\"fill:rgb(0%,0%,0%);fill-opacity:1;\">\n  <use x=\"207.756\" xlink:href=\"#glyph0-5\" y=\"33.162\"/>\n</g>\n<path d=\"M 8.502219 3.015063 L 19.412375 6.88225 \" style=\"fill:none;stroke-width:0.3985;stroke-linecap:butt;stroke-linejoin:miter;stroke:rgb(0%,0%,0%);stroke-opacity:1;stroke-miterlimit:10;\" transform=\"matrix(1,0,0,-1,11.822,20.101)\"/>\n<path d=\"M -1.194602 1.593451 C -1.096151 0.995695 0.000845862 0.0976913 0.297565 0.000762062 C 0.000775517 -0.100936 -1.094482 -0.995559 -1.194658 -1.593244 \" style=\"fill:none;stroke-width:0.31879;stroke-linecap:round;stroke-linejoin:round;stroke:rgb(0%,0%,0%);stroke-opacity:1;stroke-miterlimit:10;\" transform=\"matrix(0.94386,-0.33466,-0.33466,-0.94386,31.23502,13.21749)\"/>\n<path d=\"M 8.502219 -3.016187 L 19.412375 -6.883375 \" style=\"fill:none;stroke-width:0.3985;stroke-linecap:butt;stroke-linejoin:miter;stroke:rgb(0%,0%,0%);stroke-opacity:1;stroke-miterlimit:10;\" transform=\"matrix(1,0,0,-1,11.822,20.101)\"/>\n<path d=\"M -1.195586 1.595862 C -1.09541 0.998177 0.00115093 0.0998773 0.297941 -0.00182087 C 0.00122128 -0.0987501 -1.095776 -0.996754 -1.194227 -1.594509 \" style=\"fill:none;stroke-width:0.31879;stroke-linecap:round;stroke-linejoin:round;stroke:rgb(0%,0%,0%);stroke-opacity:1;stroke-miterlimit:10;\" transform=\"matrix(0.94386,0.33466,0.33466,-0.94386,31.23502,26.98451)\"/>\n<path d=\"M 93.541281 2.956469 L 104.451437 6.745531 \" style=\"fill:none;stroke-width:0.3985;stroke-linecap:butt;stroke-linejoin:miter;stroke:rgb(0%,0%,0%);stroke-opacity:1;stroke-miterlimit:10;\" transform=\"matrix(1,0,0,-1,11.822,20.101)\"/>\n<path d=\"M -1.195943 1.59448 C -1.095124 0.994203 0.000248868 0.097794 0.299706 -0.00215228 C 0.00142052 -0.100653 -1.098289 -0.997471 -1.194637 -1.595238 \" style=\"fill:none;stroke-width:0.31879;stroke-linecap:round;stroke-linejoin:round;stroke:rgb(0%,0%,0%);stroke-opacity:1;stroke-miterlimit:10;\" transform=\"matrix(0.94678,-0.32904,-0.32904,-0.94678,116.27413,13.35439)\"/>\n<path d=\"M 93.541281 -2.953687 L 106.943625 -7.613844 \" style=\"fill:none;stroke-width:0.3985;stroke-linecap:butt;stroke-linejoin:miter;stroke:rgb(0%,0%,0%);stroke-opacity:1;stroke-miterlimit:10;\" transform=\"matrix(1,0,0,-1,11.822,20.101)\"/>\n<path d=\"M -1.197301 1.595376 C -1.095976 0.995216 -0.00121299 0.10084 0.298352 -0.00133231 C -0.00109958 -0.101286 -1.096436 -0.997718 -1.194836 -1.593031 \" style=\"fill:none;stroke-width:0.31879;stroke-linecap:round;stroke-linejoin:round;stroke:rgb(0%,0%,0%);stroke-opacity:1;stroke-miterlimit:10;\" transform=\"matrix(0.94678,0.32907,0.32907,-0.94678,118.76484,27.71306)\"/>\n<path d=\"M 178.580344 2.956469 L 189.494406 6.745531 \" style=\"fill:none;stroke-width:0.3985;stroke-linecap:butt;stroke-linejoin:miter;stroke:rgb(0%,0%,0%);stroke-opacity:1;stroke-miterlimit:10;\" transform=\"matrix(1,0,0,-1,11.822,20.101)\"/>\n<path d=\"M -1.197241 1.594931 C -1.096422 0.994655 -0.00104927 0.0982451 0.298408 -0.00170113 C 0.000122378 -0.100202 -1.095906 -0.998299 -1.195935 -1.594787 \" style=\"fill:none;stroke-width:0.31879;stroke-linecap:round;stroke-linejoin:round;stroke:rgb(0%,0%,0%);stroke-opacity:1;stroke-miterlimit:10;\" transform=\"matrix(0.94678,-0.32904,-0.32904,-0.94678,201.31457,13.35439)\"/>\n<path d=\"M 178.580344 -2.953687 L 191.982687 -7.613844 \" style=\"fill:none;stroke-width:0.3985;stroke-linecap:butt;stroke-linejoin:miter;stroke:rgb(0%,0%,0%);stroke-opacity:1;stroke-miterlimit:10;\" transform=\"matrix(1,0,0,-1,11.822,20.101)\"/>\n<path d=\"M -1.194918 1.596205 C -1.097274 0.994765 0.00117003 0.101668 0.300735 -0.000504051 C 0.00128344 -0.100458 -1.094053 -0.996889 -1.196134 -1.593482 \" style=\"fill:none;stroke-width:0.31879;stroke-linecap:round;stroke-linejoin:round;stroke:rgb(0%,0%,0%);stroke-opacity:1;stroke-miterlimit:10;\" transform=\"matrix(0.94678,0.32907,0.32907,-0.94678,203.80528,27.71306)\"/>\n</g>\n</svg>"
          },
          "metadata": {
            "tags": [],
            "isolated": "true"
          }
        }
      ]
    },
    {
      "cell_type": "markdown",
      "metadata": {
        "id": "pSL2_8yeGjKa"
      },
      "source": [
        "$$\n",
        "12 u_1 + 12 u_2 = 10\n",
        "$$"
      ]
    },
    {
      "cell_type": "code",
      "metadata": {
        "colab": {
          "base_uri": "https://localhost:8080/",
          "height": 120
        },
        "id": "2i48NAX4Ghp-",
        "outputId": "0897d7c4-dfc5-4871-b5d7-2df979ad427e"
      },
      "source": [
        "#@title Arrow-Debreu security method step #2 { vertical-output: true, display-mode: \"form\" }\n",
        "\n",
        "\n",
        "%%tikz -l matrix -S test_output.tikz -f svg -s 1000,100\n",
        "\n",
        "\\node[matrix] (1) {\\node (11) {10};\\\\};\n",
        "\n",
        "\\node[matrix, right of=1] (2) {\\node (21) {12};\\\\ \\node (22) {};\\\\ \\node (23) {12};\\\\};\n",
        "\n",
        "\\node[right of=2] (3) {};\n",
        "\n",
        "\\node[matrix, right of=3] (4) {\\node[draw] (41) {10};\\\\};\n",
        "\n",
        "\\node[matrix, right of=4] (5) {\\node[draw] (51) {20};\\\\ \\node (52) {};\\\\ \\node[draw] (53) {0};\\\\};\n",
        "\n",
        "\\node[right of=5] (6) {};\n",
        "\n",
        "\\node[matrix, right of=6] (7) {\\node (71) {?};\\\\};\n",
        "\n",
        "\\node[matrix, right of=7] (8) {\\node (81) {15};\\\\ \\node (82) {};\\\\ \\node (83) {6};\\\\};\n",
        "\n",
        "\\draw(11) edge[->] (21);\n",
        "\\draw(11) edge[->] (23);\n",
        "\n",
        "\\draw(41) edge[->] (51);\n",
        "\\draw(41) edge[->] (53);\n",
        "\n",
        "\\draw(71) edge[->] (81);\n",
        "\\draw(71) edge[->] (83);\n"
      ],
      "execution_count": 204,
      "outputs": [
        {
          "output_type": "display_data",
          "data": {
            "image/svg+xml": "<svg height=\"100px\" version=\"1.1\" viewBox=\"0 0 221.67 40.202\" width=\"1000px\" xmlns=\"http://www.w3.org/2000/svg\" xmlns:xlink=\"http://www.w3.org/1999/xlink\">\n<defs>\n<g>\n<symbol id=\"glyph0-0\" overflow=\"visible\">\n<path d=\"\" style=\"stroke:none;\"/>\n</symbol>\n<symbol id=\"glyph0-1\" overflow=\"visible\">\n<path d=\"M 2.9375 -6.375 C 2.9375 -6.625 2.9375 -6.640625 2.703125 -6.640625 C 2.078125 -6 1.203125 -6 0.890625 -6 L 0.890625 -5.6875 C 1.09375 -5.6875 1.671875 -5.6875 2.1875 -5.953125 L 2.1875 -0.78125 C 2.1875 -0.421875 2.15625 -0.3125 1.265625 -0.3125 L 0.953125 -0.3125 L 0.953125 0 C 1.296875 -0.03125 2.15625 -0.03125 2.5625 -0.03125 C 2.953125 -0.03125 3.828125 -0.03125 4.171875 0 L 4.171875 -0.3125 L 3.859375 -0.3125 C 2.953125 -0.3125 2.9375 -0.421875 2.9375 -0.78125 Z M 2.9375 -6.375 \" style=\"stroke:none;\"/>\n</symbol>\n<symbol id=\"glyph0-2\" overflow=\"visible\">\n<path d=\"M 4.578125 -3.1875 C 4.578125 -3.984375 4.53125 -4.78125 4.1875 -5.515625 C 3.734375 -6.484375 2.90625 -6.640625 2.5 -6.640625 C 1.890625 -6.640625 1.171875 -6.375 0.75 -5.453125 C 0.4375 -4.765625 0.390625 -3.984375 0.390625 -3.1875 C 0.390625 -2.4375 0.421875 -1.546875 0.84375 -0.78125 C 1.265625 0.015625 2 0.21875 2.484375 0.21875 C 3.015625 0.21875 3.78125 0.015625 4.21875 -0.9375 C 4.53125 -1.625 4.578125 -2.40625 4.578125 -3.1875 Z M 2.484375 0 C 2.09375 0 1.5 -0.25 1.328125 -1.203125 C 1.21875 -1.796875 1.21875 -2.71875 1.21875 -3.3125 C 1.21875 -3.953125 1.21875 -4.609375 1.296875 -5.140625 C 1.484375 -6.328125 2.234375 -6.421875 2.484375 -6.421875 C 2.8125 -6.421875 3.46875 -6.234375 3.65625 -5.25 C 3.765625 -4.6875 3.765625 -3.9375 3.765625 -3.3125 C 3.765625 -2.5625 3.765625 -1.890625 3.65625 -1.25 C 3.5 -0.296875 2.9375 0 2.484375 0 Z M 2.484375 0 \" style=\"stroke:none;\"/>\n</symbol>\n<symbol id=\"glyph0-3\" overflow=\"visible\">\n<path d=\"M 1.265625 -0.765625 L 2.328125 -1.796875 C 3.875 -3.171875 4.46875 -3.703125 4.46875 -4.703125 C 4.46875 -5.84375 3.578125 -6.640625 2.359375 -6.640625 C 1.234375 -6.640625 0.5 -5.71875 0.5 -4.828125 C 0.5 -4.28125 1 -4.28125 1.03125 -4.28125 C 1.203125 -4.28125 1.546875 -4.390625 1.546875 -4.8125 C 1.546875 -5.0625 1.359375 -5.328125 1.015625 -5.328125 C 0.9375 -5.328125 0.921875 -5.328125 0.890625 -5.3125 C 1.109375 -5.96875 1.65625 -6.328125 2.234375 -6.328125 C 3.140625 -6.328125 3.5625 -5.515625 3.5625 -4.703125 C 3.5625 -3.90625 3.078125 -3.125 2.515625 -2.5 L 0.609375 -0.375 C 0.5 -0.265625 0.5 -0.234375 0.5 0 L 4.203125 0 L 4.46875 -1.734375 L 4.234375 -1.734375 C 4.171875 -1.4375 4.109375 -1 4 -0.84375 C 3.9375 -0.765625 3.28125 -0.765625 3.0625 -0.765625 Z M 1.265625 -0.765625 \" style=\"stroke:none;\"/>\n</symbol>\n<symbol id=\"glyph0-4\" overflow=\"visible\">\n<path d=\"M 2.34375 -2.484375 C 2.34375 -3.734375 3.3125 -4.453125 3.65625 -4.703125 C 3.921875 -4.90625 4.140625 -5.265625 4.140625 -5.6875 C 4.140625 -6.265625 3.734375 -7.03125 2.25 -7.03125 C 1.171875 -7.03125 0.5625 -6.34375 0.5625 -5.703125 C 0.5625 -5.359375 0.78125 -5.21875 1.015625 -5.21875 C 1.296875 -5.21875 1.46875 -5.421875 1.46875 -5.6875 C 1.46875 -6.125 1.0625 -6.125 0.921875 -6.125 C 1.21875 -6.65625 1.796875 -6.8125 2.21875 -6.8125 C 3.3125 -6.8125 3.3125 -6.125 3.3125 -5.734375 C 3.3125 -5.15625 3.15625 -4.96875 2.96875 -4.796875 C 2.3125 -4.078125 2.09375 -3.15625 2.09375 -2.546875 L 2.09375 -2.109375 C 2.09375 -1.921875 2.09375 -1.859375 2.21875 -1.859375 C 2.34375 -1.859375 2.34375 -1.953125 2.34375 -2.140625 Z M 2.734375 -0.53125 C 2.734375 -0.8125 2.5 -1.0625 2.21875 -1.0625 C 1.921875 -1.0625 1.6875 -0.8125 1.6875 -0.53125 C 1.6875 -0.234375 1.921875 0 2.21875 0 C 2.5 0 2.734375 -0.234375 2.734375 -0.53125 Z M 2.734375 -0.53125 \" style=\"stroke:none;\"/>\n</symbol>\n<symbol id=\"glyph0-5\" overflow=\"visible\">\n<path d=\"M 4.46875 -2 C 4.46875 -3.1875 3.65625 -4.1875 2.578125 -4.1875 C 2.109375 -4.1875 1.671875 -4.03125 1.3125 -3.671875 L 1.3125 -5.625 C 1.515625 -5.5625 1.84375 -5.5 2.15625 -5.5 C 3.390625 -5.5 4.09375 -6.40625 4.09375 -6.53125 C 4.09375 -6.59375 4.0625 -6.640625 3.984375 -6.640625 C 3.984375 -6.640625 3.953125 -6.640625 3.90625 -6.609375 C 3.703125 -6.515625 3.21875 -6.3125 2.546875 -6.3125 C 2.15625 -6.3125 1.6875 -6.390625 1.21875 -6.59375 C 1.140625 -6.625 1.125 -6.625 1.109375 -6.625 C 1 -6.625 1 -6.546875 1 -6.390625 L 1 -3.4375 C 1 -3.265625 1 -3.1875 1.140625 -3.1875 C 1.21875 -3.1875 1.234375 -3.203125 1.28125 -3.265625 C 1.390625 -3.421875 1.75 -3.96875 2.5625 -3.96875 C 3.078125 -3.96875 3.328125 -3.515625 3.40625 -3.328125 C 3.5625 -2.953125 3.59375 -2.578125 3.59375 -2.078125 C 3.59375 -1.71875 3.59375 -1.125 3.34375 -0.703125 C 3.109375 -0.3125 2.734375 -0.0625 2.28125 -0.0625 C 1.5625 -0.0625 0.984375 -0.59375 0.8125 -1.171875 C 0.84375 -1.171875 0.875 -1.15625 0.984375 -1.15625 C 1.3125 -1.15625 1.484375 -1.40625 1.484375 -1.640625 C 1.484375 -1.890625 1.3125 -2.140625 0.984375 -2.140625 C 0.84375 -2.140625 0.5 -2.0625 0.5 -1.609375 C 0.5 -0.75 1.1875 0.21875 2.296875 0.21875 C 3.453125 0.21875 4.46875 -0.734375 4.46875 -2 Z M 4.46875 -2 \" style=\"stroke:none;\"/>\n</symbol>\n<symbol id=\"glyph0-6\" overflow=\"visible\">\n<path d=\"M 1.3125 -3.265625 L 1.3125 -3.515625 C 1.3125 -6.03125 2.546875 -6.390625 3.0625 -6.390625 C 3.296875 -6.390625 3.71875 -6.328125 3.9375 -5.984375 C 3.78125 -5.984375 3.390625 -5.984375 3.390625 -5.546875 C 3.390625 -5.234375 3.625 -5.078125 3.84375 -5.078125 C 4 -5.078125 4.3125 -5.171875 4.3125 -5.5625 C 4.3125 -6.15625 3.875 -6.640625 3.046875 -6.640625 C 1.765625 -6.640625 0.421875 -5.359375 0.421875 -3.15625 C 0.421875 -0.484375 1.578125 0.21875 2.5 0.21875 C 3.609375 0.21875 4.5625 -0.71875 4.5625 -2.03125 C 4.5625 -3.296875 3.671875 -4.25 2.5625 -4.25 C 1.890625 -4.25 1.515625 -3.75 1.3125 -3.265625 Z M 2.5 -0.0625 C 1.875 -0.0625 1.578125 -0.65625 1.515625 -0.8125 C 1.328125 -1.28125 1.328125 -2.078125 1.328125 -2.25 C 1.328125 -3.03125 1.65625 -4.03125 2.546875 -4.03125 C 2.71875 -4.03125 3.171875 -4.03125 3.484375 -3.40625 C 3.65625 -3.046875 3.65625 -2.53125 3.65625 -2.046875 C 3.65625 -1.5625 3.65625 -1.0625 3.484375 -0.703125 C 3.1875 -0.109375 2.734375 -0.0625 2.5 -0.0625 Z M 2.5 -0.0625 \" style=\"stroke:none;\"/>\n</symbol>\n</g>\n</defs>\n<g id=\"surface1\">\n<g style=\"fill:rgb(0%,0%,0%);fill-opacity:1;\">\n  <use x=\"6.641\" xlink:href=\"#glyph0-1\" y=\"23.311\"/>\n  <use x=\"11.6223\" xlink:href=\"#glyph0-2\" y=\"23.311\"/>\n</g>\n<g style=\"fill:rgb(0%,0%,0%);fill-opacity:1;\">\n  <use x=\"34.987\" xlink:href=\"#glyph0-1\" y=\"13.46\"/>\n  <use x=\"39.9683\" xlink:href=\"#glyph0-3\" y=\"13.46\"/>\n</g>\n<g style=\"fill:rgb(0%,0%,0%);fill-opacity:1;\">\n  <use x=\"34.987\" xlink:href=\"#glyph0-1\" y=\"33.162\"/>\n  <use x=\"39.9683\" xlink:href=\"#glyph0-3\" y=\"33.162\"/>\n</g>\n<path d=\"M -8.302625 -6.531812 L 8.302844 -6.531812 L 8.302844 6.530688 L -8.302625 6.530688 Z M -8.302625 -6.531812 \" style=\"fill:none;stroke-width:0.3985;stroke-linecap:butt;stroke-linejoin:miter;stroke:rgb(0%,0%,0%);stroke-opacity:1;stroke-miterlimit:10;\" transform=\"matrix(1,0,0,-1,96.662,20.101)\"/>\n<g style=\"fill:rgb(0%,0%,0%);fill-opacity:1;\">\n  <use x=\"91.68\" xlink:href=\"#glyph0-1\" y=\"23.311\"/>\n  <use x=\"96.6613\" xlink:href=\"#glyph0-2\" y=\"23.311\"/>\n</g>\n<path d=\"M -8.300969 -6.531031 L 8.300594 -6.531031 L 8.300594 6.531469 L -8.300969 6.531469 Z M -8.300969 -6.531031 \" style=\"fill:none;stroke-width:0.3985;stroke-linecap:butt;stroke-linejoin:miter;stroke:rgb(0%,0%,0%);stroke-opacity:1;stroke-miterlimit:10;\" transform=\"matrix(1,0,0,-1,125.008,10.051)\"/>\n<g style=\"fill:rgb(0%,0%,0%);fill-opacity:1;\">\n  <use x=\"120.027\" xlink:href=\"#glyph0-3\" y=\"13.261\"/>\n  <use x=\"125.0083\" xlink:href=\"#glyph0-2\" y=\"13.261\"/>\n</g>\n<path d=\"M -5.812687 -6.531594 L 5.812313 -6.531594 L 5.812313 6.530906 L -5.812687 6.530906 Z M -5.812687 -6.531594 \" style=\"fill:none;stroke-width:0.3985;stroke-linecap:butt;stroke-linejoin:miter;stroke:rgb(0%,0%,0%);stroke-opacity:1;stroke-miterlimit:10;\" transform=\"matrix(1,0,0,-1,125.008,30.152)\"/>\n<g style=\"fill:rgb(0%,0%,0%);fill-opacity:1;\">\n  <use x=\"122.517\" xlink:href=\"#glyph0-2\" y=\"33.362\"/>\n</g>\n<g style=\"fill:rgb(0%,0%,0%);fill-opacity:1;\">\n  <use x=\"179.349\" xlink:href=\"#glyph0-4\" y=\"23.56\"/>\n</g>\n<g style=\"fill:rgb(0%,0%,0%);fill-opacity:1;\">\n  <use x=\"205.066\" xlink:href=\"#glyph0-1\" y=\"13.46\"/>\n  <use x=\"210.0473\" xlink:href=\"#glyph0-5\" y=\"13.46\"/>\n</g>\n<g style=\"fill:rgb(0%,0%,0%);fill-opacity:1;\">\n  <use x=\"207.557\" xlink:href=\"#glyph0-6\" y=\"33.162\"/>\n</g>\n<path d=\"M 8.503 2.956469 L 19.413156 6.745531 \" style=\"fill:none;stroke-width:0.3985;stroke-linecap:butt;stroke-linejoin:miter;stroke:rgb(0%,0%,0%);stroke-opacity:1;stroke-miterlimit:10;\" transform=\"matrix(1,0,0,-1,11.622,20.101)\"/>\n<path d=\"M -1.193918 1.593776 C -1.09678 0.994779 -0.00140738 0.0983696 0.29805 -0.00157667 C -0.00023573 -0.100077 -1.096264 -0.998174 -1.196293 -1.594662 \" style=\"fill:none;stroke-width:0.31879;stroke-linecap:round;stroke-linejoin:round;stroke:rgb(0%,0%,0%);stroke-opacity:1;stroke-miterlimit:10;\" transform=\"matrix(0.94678,-0.32904,-0.32904,-0.94678,31.0337,13.35439)\"/>\n<path d=\"M 8.503 -2.953687 L 19.413156 -6.746656 \" style=\"fill:none;stroke-width:0.3985;stroke-linecap:butt;stroke-linejoin:miter;stroke:rgb(0%,0%,0%);stroke-opacity:1;stroke-miterlimit:10;\" transform=\"matrix(1,0,0,-1,11.622,20.101)\"/>\n<path d=\"M -1.195925 1.593602 C -1.095895 0.997114 0.000132723 0.0990171 0.298418 0.000516485 C -0.00103893 -0.0994297 -1.096411 -0.995839 -1.193549 -1.594836 \" style=\"fill:none;stroke-width:0.31879;stroke-linecap:round;stroke-linejoin:round;stroke:rgb(0%,0%,0%);stroke-opacity:1;stroke-miterlimit:10;\" transform=\"matrix(0.94678,0.32904,0.32904,-0.94678,31.0337,26.84761)\"/>\n<path d=\"M 93.542063 3.015063 L 104.452219 6.88225 \" style=\"fill:none;stroke-width:0.3985;stroke-linecap:butt;stroke-linejoin:miter;stroke:rgb(0%,0%,0%);stroke-opacity:1;stroke-miterlimit:10;\" transform=\"matrix(1,0,0,-1,11.622,20.101)\"/>\n<path d=\"M -1.195163 1.59365 C -1.096712 0.995894 0.000284695 0.0978903 0.300681 -0.000342494 C 0.00021435 -0.100737 -1.095043 -0.99536 -1.195219 -1.593045 \" style=\"fill:none;stroke-width:0.31879;stroke-linecap:round;stroke-linejoin:round;stroke:rgb(0%,0%,0%);stroke-opacity:1;stroke-miterlimit:10;\" transform=\"matrix(0.94386,-0.33466,-0.33466,-0.94386,116.07546,13.21749)\"/>\n<path d=\"M 93.542063 -3.012281 L 106.944406 -7.766187 \" style=\"fill:none;stroke-width:0.3985;stroke-linecap:butt;stroke-linejoin:miter;stroke:rgb(0%,0%,0%);stroke-opacity:1;stroke-miterlimit:10;\" transform=\"matrix(1,0,0,-1,11.622,20.101)\"/>\n<path d=\"M -1.194826 1.596207 C -1.094634 0.998531 -0.00173473 0.098968 0.298731 -0.00141717 C -0.00165877 -0.0996574 -1.094943 -0.99638 -1.197052 -1.595435 \" style=\"fill:none;stroke-width:0.31879;stroke-linecap:round;stroke-linejoin:round;stroke:rgb(0%,0%,0%);stroke-opacity:1;stroke-miterlimit:10;\" transform=\"matrix(0.94386,0.33469,0.33469,-0.94386,118.56617,27.86743)\"/>\n<path d=\"M 175.952219 2.042406 L 189.491281 6.745531 \" style=\"fill:none;stroke-width:0.3985;stroke-linecap:butt;stroke-linejoin:miter;stroke:rgb(0%,0%,0%);stroke-opacity:1;stroke-miterlimit:10;\" transform=\"matrix(1,0,0,-1,11.622,20.101)\"/>\n<path d=\"M -1.196505 1.594675 C -1.095685 0.994399 -0.000313031 0.0979892 0.299144 -0.001957 C 0.000858619 -0.100458 -1.095169 -0.998555 -1.195199 -1.595042 \" style=\"fill:none;stroke-width:0.31879;stroke-linecap:round;stroke-linejoin:round;stroke:rgb(0%,0%,0%);stroke-opacity:1;stroke-miterlimit:10;\" transform=\"matrix(0.94678,-0.32904,-0.32904,-0.94678,201.11457,13.35439)\"/>\n<path d=\"M 175.952219 -2.039625 L 191.983469 -7.613844 \" style=\"fill:none;stroke-width:0.3985;stroke-linecap:butt;stroke-linejoin:miter;stroke:rgb(0%,0%,0%);stroke-opacity:1;stroke-miterlimit:10;\" transform=\"matrix(1,0,0,-1,11.622,20.101)\"/>\n<path d=\"M -1.197825 1.595266 C -1.096521 0.995094 -0.00177766 0.100665 0.297787 -0.00152 C 0.00200937 -0.100184 -1.097056 -0.997866 -1.19548 -1.593183 \" style=\"fill:none;stroke-width:0.31879;stroke-linecap:round;stroke-linejoin:round;stroke:rgb(0%,0%,0%);stroke-opacity:1;stroke-miterlimit:10;\" transform=\"matrix(0.94678,0.32903,0.32903,-0.94678,203.60528,27.71308)\"/>\n</g>\n</svg>"
          },
          "metadata": {
            "tags": [],
            "isolated": "true"
          }
        }
      ]
    },
    {
      "cell_type": "markdown",
      "metadata": {
        "id": "iaP8o9TJHMAQ"
      },
      "source": [
        "$$\n",
        "20 u_1 + 0 u_2 = 10\n",
        "$$"
      ]
    },
    {
      "cell_type": "markdown",
      "metadata": {
        "id": "lSdl8lPEHlvW"
      },
      "source": [
        "## Arrow-Debreu security method step #3\n",
        "\n",
        "$$\n",
        "\\begin{align}\n",
        "12 u_1 + 12 u_2 &= 10 \\\\\n",
        "20 u_1 + 0 u_2 &= 10\n",
        "\\end{align}\n",
        "$$\n"
      ]
    },
    {
      "cell_type": "markdown",
      "metadata": {
        "id": "rF4kJBzsIYn9"
      },
      "source": [
        "$$ u_1 = \\frac{1}{2}, \\quad u_2 = \\frac{1}{3}$$"
      ]
    },
    {
      "cell_type": "code",
      "metadata": {
        "colab": {
          "base_uri": "https://localhost:8080/",
          "height": 120
        },
        "id": "VoC2jC_2GhCH",
        "outputId": "e3f8394d-45b7-4660-9604-fbdb0931601b"
      },
      "source": [
        "#@title Arrow-Debreu security method step #4 { vertical-output: true, display-mode: \"form\" }\n",
        "\n",
        "\n",
        "%%tikz -l matrix -S test_output.tikz -f svg -s 1000,100\n",
        "\n",
        "\\node[matrix] (1) {\\node (11) {10};\\\\};\n",
        "\n",
        "\\node[matrix, right of=1] (2) {\\node (21) {12};\\\\ \\node (22) {};\\\\ \\node (23) {12};\\\\};\n",
        "\n",
        "\\node[right of=2] (3) {};\n",
        "\n",
        "\\node[matrix, right of=3] (4) {\\node (41) {10};\\\\};\n",
        "\n",
        "\\node[matrix, right of=4] (5) {\\node (51) {20};\\\\ \\node (52) {};\\\\ \\node (53) {0};\\\\};\n",
        "\n",
        "\\node[right of=5] (6) {};\n",
        "\n",
        "\\node[matrix, right of=6] (7) {\\node (71) {?};\\\\};\n",
        "\n",
        "\\node[matrix, right of=7] (8) {\\node (81)[draw] {15};\\\\ \\node (82) {};\\\\ \\node[draw] (83) {6};\\\\};\n",
        "\n",
        "\\draw(11) edge[->] (21);\n",
        "\\draw(11) edge[->] (23);\n",
        "\n",
        "\\draw(41) edge[->] (51);\n",
        "\\draw(41) edge[->] (53);\n",
        "\n",
        "\\draw(71) edge[->] (81);\n",
        "\\draw(71) edge[->] (83);\n"
      ],
      "execution_count": 205,
      "outputs": [
        {
          "output_type": "display_data",
          "data": {
            "image/svg+xml": "<svg height=\"100px\" version=\"1.1\" viewBox=\"0 0 221.869 40.202\" width=\"1000px\" xmlns=\"http://www.w3.org/2000/svg\" xmlns:xlink=\"http://www.w3.org/1999/xlink\">\n<defs>\n<g>\n<symbol id=\"glyph0-0\" overflow=\"visible\">\n<path d=\"\" style=\"stroke:none;\"/>\n</symbol>\n<symbol id=\"glyph0-1\" overflow=\"visible\">\n<path d=\"M 2.9375 -6.375 C 2.9375 -6.625 2.9375 -6.640625 2.703125 -6.640625 C 2.078125 -6 1.203125 -6 0.890625 -6 L 0.890625 -5.6875 C 1.09375 -5.6875 1.671875 -5.6875 2.1875 -5.953125 L 2.1875 -0.78125 C 2.1875 -0.421875 2.15625 -0.3125 1.265625 -0.3125 L 0.953125 -0.3125 L 0.953125 0 C 1.296875 -0.03125 2.15625 -0.03125 2.5625 -0.03125 C 2.953125 -0.03125 3.828125 -0.03125 4.171875 0 L 4.171875 -0.3125 L 3.859375 -0.3125 C 2.953125 -0.3125 2.9375 -0.421875 2.9375 -0.78125 Z M 2.9375 -6.375 \" style=\"stroke:none;\"/>\n</symbol>\n<symbol id=\"glyph0-2\" overflow=\"visible\">\n<path d=\"M 4.578125 -3.1875 C 4.578125 -3.984375 4.53125 -4.78125 4.1875 -5.515625 C 3.734375 -6.484375 2.90625 -6.640625 2.5 -6.640625 C 1.890625 -6.640625 1.171875 -6.375 0.75 -5.453125 C 0.4375 -4.765625 0.390625 -3.984375 0.390625 -3.1875 C 0.390625 -2.4375 0.421875 -1.546875 0.84375 -0.78125 C 1.265625 0.015625 2 0.21875 2.484375 0.21875 C 3.015625 0.21875 3.78125 0.015625 4.21875 -0.9375 C 4.53125 -1.625 4.578125 -2.40625 4.578125 -3.1875 Z M 2.484375 0 C 2.09375 0 1.5 -0.25 1.328125 -1.203125 C 1.21875 -1.796875 1.21875 -2.71875 1.21875 -3.3125 C 1.21875 -3.953125 1.21875 -4.609375 1.296875 -5.140625 C 1.484375 -6.328125 2.234375 -6.421875 2.484375 -6.421875 C 2.8125 -6.421875 3.46875 -6.234375 3.65625 -5.25 C 3.765625 -4.6875 3.765625 -3.9375 3.765625 -3.3125 C 3.765625 -2.5625 3.765625 -1.890625 3.65625 -1.25 C 3.5 -0.296875 2.9375 0 2.484375 0 Z M 2.484375 0 \" style=\"stroke:none;\"/>\n</symbol>\n<symbol id=\"glyph0-3\" overflow=\"visible\">\n<path d=\"M 1.265625 -0.765625 L 2.328125 -1.796875 C 3.875 -3.171875 4.46875 -3.703125 4.46875 -4.703125 C 4.46875 -5.84375 3.578125 -6.640625 2.359375 -6.640625 C 1.234375 -6.640625 0.5 -5.71875 0.5 -4.828125 C 0.5 -4.28125 1 -4.28125 1.03125 -4.28125 C 1.203125 -4.28125 1.546875 -4.390625 1.546875 -4.8125 C 1.546875 -5.0625 1.359375 -5.328125 1.015625 -5.328125 C 0.9375 -5.328125 0.921875 -5.328125 0.890625 -5.3125 C 1.109375 -5.96875 1.65625 -6.328125 2.234375 -6.328125 C 3.140625 -6.328125 3.5625 -5.515625 3.5625 -4.703125 C 3.5625 -3.90625 3.078125 -3.125 2.515625 -2.5 L 0.609375 -0.375 C 0.5 -0.265625 0.5 -0.234375 0.5 0 L 4.203125 0 L 4.46875 -1.734375 L 4.234375 -1.734375 C 4.171875 -1.4375 4.109375 -1 4 -0.84375 C 3.9375 -0.765625 3.28125 -0.765625 3.0625 -0.765625 Z M 1.265625 -0.765625 \" style=\"stroke:none;\"/>\n</symbol>\n<symbol id=\"glyph0-4\" overflow=\"visible\">\n<path d=\"M 2.34375 -2.484375 C 2.34375 -3.734375 3.3125 -4.453125 3.65625 -4.703125 C 3.921875 -4.90625 4.140625 -5.265625 4.140625 -5.6875 C 4.140625 -6.265625 3.734375 -7.03125 2.25 -7.03125 C 1.171875 -7.03125 0.5625 -6.34375 0.5625 -5.703125 C 0.5625 -5.359375 0.78125 -5.21875 1.015625 -5.21875 C 1.296875 -5.21875 1.46875 -5.421875 1.46875 -5.6875 C 1.46875 -6.125 1.0625 -6.125 0.921875 -6.125 C 1.21875 -6.65625 1.796875 -6.8125 2.21875 -6.8125 C 3.3125 -6.8125 3.3125 -6.125 3.3125 -5.734375 C 3.3125 -5.15625 3.15625 -4.96875 2.96875 -4.796875 C 2.3125 -4.078125 2.09375 -3.15625 2.09375 -2.546875 L 2.09375 -2.109375 C 2.09375 -1.921875 2.09375 -1.859375 2.21875 -1.859375 C 2.34375 -1.859375 2.34375 -1.953125 2.34375 -2.140625 Z M 2.734375 -0.53125 C 2.734375 -0.8125 2.5 -1.0625 2.21875 -1.0625 C 1.921875 -1.0625 1.6875 -0.8125 1.6875 -0.53125 C 1.6875 -0.234375 1.921875 0 2.21875 0 C 2.5 0 2.734375 -0.234375 2.734375 -0.53125 Z M 2.734375 -0.53125 \" style=\"stroke:none;\"/>\n</symbol>\n<symbol id=\"glyph0-5\" overflow=\"visible\">\n<path d=\"M 4.46875 -2 C 4.46875 -3.1875 3.65625 -4.1875 2.578125 -4.1875 C 2.109375 -4.1875 1.671875 -4.03125 1.3125 -3.671875 L 1.3125 -5.625 C 1.515625 -5.5625 1.84375 -5.5 2.15625 -5.5 C 3.390625 -5.5 4.09375 -6.40625 4.09375 -6.53125 C 4.09375 -6.59375 4.0625 -6.640625 3.984375 -6.640625 C 3.984375 -6.640625 3.953125 -6.640625 3.90625 -6.609375 C 3.703125 -6.515625 3.21875 -6.3125 2.546875 -6.3125 C 2.15625 -6.3125 1.6875 -6.390625 1.21875 -6.59375 C 1.140625 -6.625 1.125 -6.625 1.109375 -6.625 C 1 -6.625 1 -6.546875 1 -6.390625 L 1 -3.4375 C 1 -3.265625 1 -3.1875 1.140625 -3.1875 C 1.21875 -3.1875 1.234375 -3.203125 1.28125 -3.265625 C 1.390625 -3.421875 1.75 -3.96875 2.5625 -3.96875 C 3.078125 -3.96875 3.328125 -3.515625 3.40625 -3.328125 C 3.5625 -2.953125 3.59375 -2.578125 3.59375 -2.078125 C 3.59375 -1.71875 3.59375 -1.125 3.34375 -0.703125 C 3.109375 -0.3125 2.734375 -0.0625 2.28125 -0.0625 C 1.5625 -0.0625 0.984375 -0.59375 0.8125 -1.171875 C 0.84375 -1.171875 0.875 -1.15625 0.984375 -1.15625 C 1.3125 -1.15625 1.484375 -1.40625 1.484375 -1.640625 C 1.484375 -1.890625 1.3125 -2.140625 0.984375 -2.140625 C 0.84375 -2.140625 0.5 -2.0625 0.5 -1.609375 C 0.5 -0.75 1.1875 0.21875 2.296875 0.21875 C 3.453125 0.21875 4.46875 -0.734375 4.46875 -2 Z M 4.46875 -2 \" style=\"stroke:none;\"/>\n</symbol>\n<symbol id=\"glyph0-6\" overflow=\"visible\">\n<path d=\"M 1.3125 -3.265625 L 1.3125 -3.515625 C 1.3125 -6.03125 2.546875 -6.390625 3.0625 -6.390625 C 3.296875 -6.390625 3.71875 -6.328125 3.9375 -5.984375 C 3.78125 -5.984375 3.390625 -5.984375 3.390625 -5.546875 C 3.390625 -5.234375 3.625 -5.078125 3.84375 -5.078125 C 4 -5.078125 4.3125 -5.171875 4.3125 -5.5625 C 4.3125 -6.15625 3.875 -6.640625 3.046875 -6.640625 C 1.765625 -6.640625 0.421875 -5.359375 0.421875 -3.15625 C 0.421875 -0.484375 1.578125 0.21875 2.5 0.21875 C 3.609375 0.21875 4.5625 -0.71875 4.5625 -2.03125 C 4.5625 -3.296875 3.671875 -4.25 2.5625 -4.25 C 1.890625 -4.25 1.515625 -3.75 1.3125 -3.265625 Z M 2.5 -0.0625 C 1.875 -0.0625 1.578125 -0.65625 1.515625 -0.8125 C 1.328125 -1.28125 1.328125 -2.078125 1.328125 -2.25 C 1.328125 -3.03125 1.65625 -4.03125 2.546875 -4.03125 C 2.71875 -4.03125 3.171875 -4.03125 3.484375 -3.40625 C 3.65625 -3.046875 3.65625 -2.53125 3.65625 -2.046875 C 3.65625 -1.5625 3.65625 -1.0625 3.484375 -0.703125 C 3.1875 -0.109375 2.734375 -0.0625 2.5 -0.0625 Z M 2.5 -0.0625 \" style=\"stroke:none;\"/>\n</symbol>\n</g>\n</defs>\n<g id=\"surface1\">\n<g style=\"fill:rgb(0%,0%,0%);fill-opacity:1;\">\n  <use x=\"6.641\" xlink:href=\"#glyph0-1\" y=\"23.311\"/>\n  <use x=\"11.6223\" xlink:href=\"#glyph0-2\" y=\"23.311\"/>\n</g>\n<g style=\"fill:rgb(0%,0%,0%);fill-opacity:1;\">\n  <use x=\"34.987\" xlink:href=\"#glyph0-1\" y=\"13.46\"/>\n  <use x=\"39.9683\" xlink:href=\"#glyph0-3\" y=\"13.46\"/>\n</g>\n<g style=\"fill:rgb(0%,0%,0%);fill-opacity:1;\">\n  <use x=\"34.987\" xlink:href=\"#glyph0-1\" y=\"33.162\"/>\n  <use x=\"39.9683\" xlink:href=\"#glyph0-3\" y=\"33.162\"/>\n</g>\n<g style=\"fill:rgb(0%,0%,0%);fill-opacity:1;\">\n  <use x=\"91.68\" xlink:href=\"#glyph0-1\" y=\"23.311\"/>\n  <use x=\"96.6613\" xlink:href=\"#glyph0-2\" y=\"23.311\"/>\n</g>\n<g style=\"fill:rgb(0%,0%,0%);fill-opacity:1;\">\n  <use x=\"120.027\" xlink:href=\"#glyph0-3\" y=\"13.46\"/>\n  <use x=\"125.0083\" xlink:href=\"#glyph0-2\" y=\"13.46\"/>\n</g>\n<g style=\"fill:rgb(0%,0%,0%);fill-opacity:1;\">\n  <use x=\"122.517\" xlink:href=\"#glyph0-2\" y=\"33.162\"/>\n</g>\n<g style=\"fill:rgb(0%,0%,0%);fill-opacity:1;\">\n  <use x=\"179.349\" xlink:href=\"#glyph0-4\" y=\"23.56\"/>\n</g>\n<path d=\"M -8.300906 -6.531031 L 8.300656 -6.531031 L 8.300656 6.531469 L -8.300906 6.531469 Z M -8.300906 -6.531031 \" style=\"fill:none;stroke-width:0.3985;stroke-linecap:butt;stroke-linejoin:miter;stroke:rgb(0%,0%,0%);stroke-opacity:1;stroke-miterlimit:10;\" transform=\"matrix(1,0,0,-1,210.047,10.051)\"/>\n<g style=\"fill:rgb(0%,0%,0%);fill-opacity:1;\">\n  <use x=\"205.066\" xlink:href=\"#glyph0-1\" y=\"13.261\"/>\n  <use x=\"210.0473\" xlink:href=\"#glyph0-5\" y=\"13.261\"/>\n</g>\n<path d=\"M -5.812625 -6.531594 L 5.812375 -6.531594 L 5.812375 6.530906 L -5.812625 6.530906 Z M -5.812625 -6.531594 \" style=\"fill:none;stroke-width:0.3985;stroke-linecap:butt;stroke-linejoin:miter;stroke:rgb(0%,0%,0%);stroke-opacity:1;stroke-miterlimit:10;\" transform=\"matrix(1,0,0,-1,210.047,30.152)\"/>\n<g style=\"fill:rgb(0%,0%,0%);fill-opacity:1;\">\n  <use x=\"207.557\" xlink:href=\"#glyph0-6\" y=\"33.362\"/>\n</g>\n<path d=\"M 8.503 2.956469 L 19.413156 6.745531 \" style=\"fill:none;stroke-width:0.3985;stroke-linecap:butt;stroke-linejoin:miter;stroke:rgb(0%,0%,0%);stroke-opacity:1;stroke-miterlimit:10;\" transform=\"matrix(1,0,0,-1,11.622,20.101)\"/>\n<path d=\"M -1.193918 1.593776 C -1.09678 0.994779 -0.00140738 0.0983696 0.29805 -0.00157667 C -0.00023573 -0.100077 -1.096264 -0.998174 -1.196293 -1.594662 \" style=\"fill:none;stroke-width:0.31879;stroke-linecap:round;stroke-linejoin:round;stroke:rgb(0%,0%,0%);stroke-opacity:1;stroke-miterlimit:10;\" transform=\"matrix(0.94678,-0.32904,-0.32904,-0.94678,31.0337,13.35439)\"/>\n<path d=\"M 8.503 -2.953687 L 19.413156 -6.746656 \" style=\"fill:none;stroke-width:0.3985;stroke-linecap:butt;stroke-linejoin:miter;stroke:rgb(0%,0%,0%);stroke-opacity:1;stroke-miterlimit:10;\" transform=\"matrix(1,0,0,-1,11.622,20.101)\"/>\n<path d=\"M -1.195925 1.593602 C -1.095895 0.997114 0.000132723 0.0990171 0.298418 0.000516485 C -0.00103893 -0.0994297 -1.096411 -0.995839 -1.193549 -1.594836 \" style=\"fill:none;stroke-width:0.31879;stroke-linecap:round;stroke-linejoin:round;stroke:rgb(0%,0%,0%);stroke-opacity:1;stroke-miterlimit:10;\" transform=\"matrix(0.94678,0.32904,0.32904,-0.94678,31.0337,26.84761)\"/>\n<path d=\"M 93.542063 2.956469 L 104.452219 6.745531 \" style=\"fill:none;stroke-width:0.3985;stroke-linecap:butt;stroke-linejoin:miter;stroke:rgb(0%,0%,0%);stroke-opacity:1;stroke-miterlimit:10;\" transform=\"matrix(1,0,0,-1,11.622,20.101)\"/>\n<path d=\"M -1.195207 1.594224 C -1.098068 0.995227 0.00098511 0.0975381 0.296761 -0.0011288 C -0.00152445 -0.0996294 -1.097552 -0.997727 -1.197582 -1.594214 \" style=\"fill:none;stroke-width:0.31879;stroke-linecap:round;stroke-linejoin:round;stroke:rgb(0%,0%,0%);stroke-opacity:1;stroke-miterlimit:10;\" transform=\"matrix(0.94678,-0.32904,-0.32904,-0.94678,116.07413,13.35439)\"/>\n<path d=\"M 93.542063 -2.953687 L 106.944406 -7.613844 \" style=\"fill:none;stroke-width:0.3985;stroke-linecap:butt;stroke-linejoin:miter;stroke:rgb(0%,0%,0%);stroke-opacity:1;stroke-miterlimit:10;\" transform=\"matrix(1,0,0,-1,11.622,20.101)\"/>\n<path d=\"M -1.196565 1.595632 C -1.09524 0.995472 -0.000476763 0.101096 0.299088 -0.00107642 C -0.000363349 -0.10103 -1.0957 -0.997462 -1.194099 -1.592775 \" style=\"fill:none;stroke-width:0.31879;stroke-linecap:round;stroke-linejoin:round;stroke:rgb(0%,0%,0%);stroke-opacity:1;stroke-miterlimit:10;\" transform=\"matrix(0.94678,0.32907,0.32907,-0.94678,118.56484,27.71306)\"/>\n<path d=\"M 175.952219 2.081469 L 189.495187 6.88225 \" style=\"fill:none;stroke-width:0.3985;stroke-linecap:butt;stroke-linejoin:miter;stroke:rgb(0%,0%,0%);stroke-opacity:1;stroke-miterlimit:10;\" transform=\"matrix(1,0,0,-1,11.622,20.101)\"/>\n<path d=\"M -1.196441 1.594103 C -1.094314 0.995043 -0.000992929 0.0983433 0.299403 0.000110508 C -0.00106327 -0.100284 -1.09632 -0.994907 -1.196497 -1.592592 \" style=\"fill:none;stroke-width:0.31879;stroke-linecap:round;stroke-linejoin:round;stroke:rgb(0%,0%,0%);stroke-opacity:1;stroke-miterlimit:10;\" transform=\"matrix(0.94386,-0.33466,-0.33466,-0.94386,201.11588,13.21749)\"/>\n<path d=\"M 175.952219 -2.082594 L 191.983469 -7.766187 \" style=\"fill:none;stroke-width:0.3985;stroke-linecap:butt;stroke-linejoin:miter;stroke:rgb(0%,0%,0%);stroke-opacity:1;stroke-miterlimit:10;\" transform=\"matrix(1,0,0,-1,11.622,20.101)\"/>\n<path d=\"M -1.19608 1.595832 C -1.095904 0.998147 0.000656821 0.0998478 0.301123 -0.000546857 C 0.000727166 -0.0987796 -1.09627 -0.996783 -1.194721 -1.594539 \" style=\"fill:none;stroke-width:0.31879;stroke-linecap:round;stroke-linejoin:round;stroke:rgb(0%,0%,0%);stroke-opacity:1;stroke-miterlimit:10;\" transform=\"matrix(0.94386,0.33466,0.33466,-0.94386,203.60659,27.86746)\"/>\n</g>\n</svg>"
          },
          "metadata": {
            "tags": [],
            "isolated": "true"
          }
        }
      ]
    },
    {
      "cell_type": "markdown",
      "metadata": {
        "id": "eHt5wvyjIsPb"
      },
      "source": [
        "$$\n",
        "15 \\cdot u_1 + 6 \\cdot u_2 = 15 \\cdot \\frac{1}{2} + 6 \\cdot \\frac{1}{3} = 9.5\n",
        "$$"
      ]
    },
    {
      "cell_type": "markdown",
      "metadata": {
        "id": "ulvsV8fuJDfG"
      },
      "source": [
        "Herer we confirm the Arrow-Debreu security method produces the exactly same solution as before."
      ]
    },
    {
      "cell_type": "markdown",
      "metadata": {
        "id": "JPiPvZ7gJeVw"
      },
      "source": [
        "# Risk neutral valuation method"
      ]
    },
    {
      "cell_type": "code",
      "metadata": {
        "colab": {
          "base_uri": "https://localhost:8080/",
          "height": 140
        },
        "id": "vlxSNFHVGgp_",
        "outputId": "9591d646-ff40-4069-9c18-51801eac8887"
      },
      "source": [
        "#@title Games { vertical-output: true, display-mode: \"form\" }\n",
        "\n",
        "\n",
        "%%tikz -l matrix -S test_output.tikz -f svg -s 1000,100\n",
        "\n",
        "\\node[matrix] (1) {\\node (11) {10};\\\\};\n",
        "\n",
        "\\node[matrix, right of=1] (2) {\\node (21) {12};\\\\ \\node (22) {};\\\\ \\node (23) {12};\\\\};\n",
        "\n",
        "\\node[right of=2] (3) {};\n",
        "\n",
        "\\node[matrix, right of=3] (4) {\\node (41) {10};\\\\};\n",
        "\n",
        "\\node[matrix, right of=4] (5) {\\node (51) {20};\\\\ \\node (52) {};\\\\ \\node (53) {0};\\\\};\n",
        "\n",
        "\\node[right of=5] (6) {};\n",
        "\n",
        "\\node[matrix, right of=6] (7) {\\node (71) {?};\\\\};\n",
        "\n",
        "\\node[matrix, right of=7] (8) {\\node (81) {15};\\\\ \\node (82) {};\\\\ \\node (83) {6};\\\\};\n",
        "\n",
        "\\draw(11) edge[->] (21);\n",
        "\\draw(11) edge[->] (23);\n",
        "\n",
        "\\draw(41) edge[->] (51);\n",
        "\\draw(41) edge[->] (53);\n",
        "\n",
        "\\draw(71) edge[->] (81);\n",
        "\\draw(71) edge[->] (83);\n"
      ],
      "execution_count": null,
      "outputs": [
        {
          "output_type": "display_data",
          "data": {
            "image/svg+xml": "<svg height=\"100px\" version=\"1.1\" viewBox=\"0 0 221.67 39.405\" width=\"1000px\" xmlns=\"http://www.w3.org/2000/svg\" xmlns:xlink=\"http://www.w3.org/1999/xlink\">\n<defs>\n<g>\n<symbol id=\"glyph0-0\" overflow=\"visible\">\n<path d=\"\" style=\"stroke:none;\"/>\n</symbol>\n<symbol id=\"glyph0-1\" overflow=\"visible\">\n<path d=\"M 2.9375 -6.375 C 2.9375 -6.625 2.9375 -6.640625 2.703125 -6.640625 C 2.078125 -6 1.203125 -6 0.890625 -6 L 0.890625 -5.6875 C 1.09375 -5.6875 1.671875 -5.6875 2.1875 -5.953125 L 2.1875 -0.78125 C 2.1875 -0.421875 2.15625 -0.3125 1.265625 -0.3125 L 0.953125 -0.3125 L 0.953125 0 C 1.296875 -0.03125 2.15625 -0.03125 2.5625 -0.03125 C 2.953125 -0.03125 3.828125 -0.03125 4.171875 0 L 4.171875 -0.3125 L 3.859375 -0.3125 C 2.953125 -0.3125 2.9375 -0.421875 2.9375 -0.78125 Z M 2.9375 -6.375 \" style=\"stroke:none;\"/>\n</symbol>\n<symbol id=\"glyph0-2\" overflow=\"visible\">\n<path d=\"M 4.578125 -3.1875 C 4.578125 -3.984375 4.53125 -4.78125 4.1875 -5.515625 C 3.734375 -6.484375 2.90625 -6.640625 2.5 -6.640625 C 1.890625 -6.640625 1.171875 -6.375 0.75 -5.453125 C 0.4375 -4.765625 0.390625 -3.984375 0.390625 -3.1875 C 0.390625 -2.4375 0.421875 -1.546875 0.84375 -0.78125 C 1.265625 0.015625 2 0.21875 2.484375 0.21875 C 3.015625 0.21875 3.78125 0.015625 4.21875 -0.9375 C 4.53125 -1.625 4.578125 -2.40625 4.578125 -3.1875 Z M 2.484375 0 C 2.09375 0 1.5 -0.25 1.328125 -1.203125 C 1.21875 -1.796875 1.21875 -2.71875 1.21875 -3.3125 C 1.21875 -3.953125 1.21875 -4.609375 1.296875 -5.140625 C 1.484375 -6.328125 2.234375 -6.421875 2.484375 -6.421875 C 2.8125 -6.421875 3.46875 -6.234375 3.65625 -5.25 C 3.765625 -4.6875 3.765625 -3.9375 3.765625 -3.3125 C 3.765625 -2.5625 3.765625 -1.890625 3.65625 -1.25 C 3.5 -0.296875 2.9375 0 2.484375 0 Z M 2.484375 0 \" style=\"stroke:none;\"/>\n</symbol>\n<symbol id=\"glyph0-3\" overflow=\"visible\">\n<path d=\"M 1.265625 -0.765625 L 2.328125 -1.796875 C 3.875 -3.171875 4.46875 -3.703125 4.46875 -4.703125 C 4.46875 -5.84375 3.578125 -6.640625 2.359375 -6.640625 C 1.234375 -6.640625 0.5 -5.71875 0.5 -4.828125 C 0.5 -4.28125 1 -4.28125 1.03125 -4.28125 C 1.203125 -4.28125 1.546875 -4.390625 1.546875 -4.8125 C 1.546875 -5.0625 1.359375 -5.328125 1.015625 -5.328125 C 0.9375 -5.328125 0.921875 -5.328125 0.890625 -5.3125 C 1.109375 -5.96875 1.65625 -6.328125 2.234375 -6.328125 C 3.140625 -6.328125 3.5625 -5.515625 3.5625 -4.703125 C 3.5625 -3.90625 3.078125 -3.125 2.515625 -2.5 L 0.609375 -0.375 C 0.5 -0.265625 0.5 -0.234375 0.5 0 L 4.203125 0 L 4.46875 -1.734375 L 4.234375 -1.734375 C 4.171875 -1.4375 4.109375 -1 4 -0.84375 C 3.9375 -0.765625 3.28125 -0.765625 3.0625 -0.765625 Z M 1.265625 -0.765625 \" style=\"stroke:none;\"/>\n</symbol>\n<symbol id=\"glyph0-4\" overflow=\"visible\">\n<path d=\"M 2.34375 -2.484375 C 2.34375 -3.734375 3.3125 -4.453125 3.65625 -4.703125 C 3.921875 -4.90625 4.140625 -5.265625 4.140625 -5.6875 C 4.140625 -6.265625 3.734375 -7.03125 2.25 -7.03125 C 1.171875 -7.03125 0.5625 -6.34375 0.5625 -5.703125 C 0.5625 -5.359375 0.78125 -5.21875 1.015625 -5.21875 C 1.296875 -5.21875 1.46875 -5.421875 1.46875 -5.6875 C 1.46875 -6.125 1.0625 -6.125 0.921875 -6.125 C 1.21875 -6.65625 1.796875 -6.8125 2.21875 -6.8125 C 3.3125 -6.8125 3.3125 -6.125 3.3125 -5.734375 C 3.3125 -5.15625 3.15625 -4.96875 2.96875 -4.796875 C 2.3125 -4.078125 2.09375 -3.15625 2.09375 -2.546875 L 2.09375 -2.109375 C 2.09375 -1.921875 2.09375 -1.859375 2.21875 -1.859375 C 2.34375 -1.859375 2.34375 -1.953125 2.34375 -2.140625 Z M 2.734375 -0.53125 C 2.734375 -0.8125 2.5 -1.0625 2.21875 -1.0625 C 1.921875 -1.0625 1.6875 -0.8125 1.6875 -0.53125 C 1.6875 -0.234375 1.921875 0 2.21875 0 C 2.5 0 2.734375 -0.234375 2.734375 -0.53125 Z M 2.734375 -0.53125 \" style=\"stroke:none;\"/>\n</symbol>\n<symbol id=\"glyph0-5\" overflow=\"visible\">\n<path d=\"M 4.46875 -2 C 4.46875 -3.1875 3.65625 -4.1875 2.578125 -4.1875 C 2.109375 -4.1875 1.671875 -4.03125 1.3125 -3.671875 L 1.3125 -5.625 C 1.515625 -5.5625 1.84375 -5.5 2.15625 -5.5 C 3.390625 -5.5 4.09375 -6.40625 4.09375 -6.53125 C 4.09375 -6.59375 4.0625 -6.640625 3.984375 -6.640625 C 3.984375 -6.640625 3.953125 -6.640625 3.90625 -6.609375 C 3.703125 -6.515625 3.21875 -6.3125 2.546875 -6.3125 C 2.15625 -6.3125 1.6875 -6.390625 1.21875 -6.59375 C 1.140625 -6.625 1.125 -6.625 1.109375 -6.625 C 1 -6.625 1 -6.546875 1 -6.390625 L 1 -3.4375 C 1 -3.265625 1 -3.1875 1.140625 -3.1875 C 1.21875 -3.1875 1.234375 -3.203125 1.28125 -3.265625 C 1.390625 -3.421875 1.75 -3.96875 2.5625 -3.96875 C 3.078125 -3.96875 3.328125 -3.515625 3.40625 -3.328125 C 3.5625 -2.953125 3.59375 -2.578125 3.59375 -2.078125 C 3.59375 -1.71875 3.59375 -1.125 3.34375 -0.703125 C 3.109375 -0.3125 2.734375 -0.0625 2.28125 -0.0625 C 1.5625 -0.0625 0.984375 -0.59375 0.8125 -1.171875 C 0.84375 -1.171875 0.875 -1.15625 0.984375 -1.15625 C 1.3125 -1.15625 1.484375 -1.40625 1.484375 -1.640625 C 1.484375 -1.890625 1.3125 -2.140625 0.984375 -2.140625 C 0.84375 -2.140625 0.5 -2.0625 0.5 -1.609375 C 0.5 -0.75 1.1875 0.21875 2.296875 0.21875 C 3.453125 0.21875 4.46875 -0.734375 4.46875 -2 Z M 4.46875 -2 \" style=\"stroke:none;\"/>\n</symbol>\n<symbol id=\"glyph0-6\" overflow=\"visible\">\n<path d=\"M 1.3125 -3.265625 L 1.3125 -3.515625 C 1.3125 -6.03125 2.546875 -6.390625 3.0625 -6.390625 C 3.296875 -6.390625 3.71875 -6.328125 3.9375 -5.984375 C 3.78125 -5.984375 3.390625 -5.984375 3.390625 -5.546875 C 3.390625 -5.234375 3.625 -5.078125 3.84375 -5.078125 C 4 -5.078125 4.3125 -5.171875 4.3125 -5.5625 C 4.3125 -6.15625 3.875 -6.640625 3.046875 -6.640625 C 1.765625 -6.640625 0.421875 -5.359375 0.421875 -3.15625 C 0.421875 -0.484375 1.578125 0.21875 2.5 0.21875 C 3.609375 0.21875 4.5625 -0.71875 4.5625 -2.03125 C 4.5625 -3.296875 3.671875 -4.25 2.5625 -4.25 C 1.890625 -4.25 1.515625 -3.75 1.3125 -3.265625 Z M 2.5 -0.0625 C 1.875 -0.0625 1.578125 -0.65625 1.515625 -0.8125 C 1.328125 -1.28125 1.328125 -2.078125 1.328125 -2.25 C 1.328125 -3.03125 1.65625 -4.03125 2.546875 -4.03125 C 2.71875 -4.03125 3.171875 -4.03125 3.484375 -3.40625 C 3.65625 -3.046875 3.65625 -2.53125 3.65625 -2.046875 C 3.65625 -1.5625 3.65625 -1.0625 3.484375 -0.703125 C 3.1875 -0.109375 2.734375 -0.0625 2.5 -0.0625 Z M 2.5 -0.0625 \" style=\"stroke:none;\"/>\n</symbol>\n</g>\n</defs>\n<g id=\"surface1\">\n<g style=\"fill:rgb(0%,0%,0%);fill-opacity:1;\">\n  <use x=\"6.641\" xlink:href=\"#glyph0-1\" y=\"22.913\"/>\n  <use x=\"11.6223\" xlink:href=\"#glyph0-2\" y=\"22.913\"/>\n</g>\n<g style=\"fill:rgb(0%,0%,0%);fill-opacity:1;\">\n  <use x=\"34.987\" xlink:href=\"#glyph0-1\" y=\"13.062\"/>\n  <use x=\"39.9683\" xlink:href=\"#glyph0-3\" y=\"13.062\"/>\n</g>\n<g style=\"fill:rgb(0%,0%,0%);fill-opacity:1;\">\n  <use x=\"34.987\" xlink:href=\"#glyph0-1\" y=\"32.764\"/>\n  <use x=\"39.9683\" xlink:href=\"#glyph0-3\" y=\"32.764\"/>\n</g>\n<g style=\"fill:rgb(0%,0%,0%);fill-opacity:1;\">\n  <use x=\"91.68\" xlink:href=\"#glyph0-1\" y=\"22.913\"/>\n  <use x=\"96.6613\" xlink:href=\"#glyph0-2\" y=\"22.913\"/>\n</g>\n<g style=\"fill:rgb(0%,0%,0%);fill-opacity:1;\">\n  <use x=\"120.027\" xlink:href=\"#glyph0-3\" y=\"13.062\"/>\n  <use x=\"125.0083\" xlink:href=\"#glyph0-2\" y=\"13.062\"/>\n</g>\n<g style=\"fill:rgb(0%,0%,0%);fill-opacity:1;\">\n  <use x=\"122.517\" xlink:href=\"#glyph0-2\" y=\"32.764\"/>\n</g>\n<g style=\"fill:rgb(0%,0%,0%);fill-opacity:1;\">\n  <use x=\"179.349\" xlink:href=\"#glyph0-4\" y=\"23.162\"/>\n</g>\n<g style=\"fill:rgb(0%,0%,0%);fill-opacity:1;\">\n  <use x=\"205.066\" xlink:href=\"#glyph0-1\" y=\"13.062\"/>\n  <use x=\"210.0473\" xlink:href=\"#glyph0-5\" y=\"13.062\"/>\n</g>\n<g style=\"fill:rgb(0%,0%,0%);fill-opacity:1;\">\n  <use x=\"207.557\" xlink:href=\"#glyph0-6\" y=\"32.764\"/>\n</g>\n<path d=\"M 8.503 2.953 L 19.413156 6.745969 \" style=\"fill:none;stroke-width:0.3985;stroke-linecap:butt;stroke-linejoin:miter;stroke:rgb(0%,0%,0%);stroke-opacity:1;stroke-miterlimit:10;\" transform=\"matrix(1,0,0,-1,11.622,19.703)\"/>\n<path d=\"M -1.193775 1.594189 C -1.096636 0.995191 -0.00126409 0.0987819 0.298193 -0.00116438 C -0.0000924428 -0.099665 -1.09612 -0.997762 -1.19615 -1.59425 \" style=\"fill:none;stroke-width:0.31879;stroke-linecap:round;stroke-linejoin:round;stroke:rgb(0%,0%,0%);stroke-opacity:1;stroke-miterlimit:10;\" transform=\"matrix(0.94678,-0.32904,-0.32904,-0.94678,31.0337,12.95639)\"/>\n<path d=\"M 8.503 -2.95325 L 19.413156 -6.746219 \" style=\"fill:none;stroke-width:0.3985;stroke-linecap:butt;stroke-linejoin:miter;stroke:rgb(0%,0%,0%);stroke-opacity:1;stroke-miterlimit:10;\" transform=\"matrix(1,0,0,-1,11.622,19.703)\"/>\n<path d=\"M -1.196068 1.594014 C -1.096039 0.997527 -0.0000105643 0.0994294 0.298275 0.00092878 C -0.00118221 -0.0990175 -1.096555 -0.995427 -1.193693 -1.594424 \" style=\"fill:none;stroke-width:0.31879;stroke-linecap:round;stroke-linejoin:round;stroke:rgb(0%,0%,0%);stroke-opacity:1;stroke-miterlimit:10;\" transform=\"matrix(0.94678,0.32904,0.32904,-0.94678,31.0337,26.44961)\"/>\n<path d=\"M 93.542063 2.953 L 104.452219 6.745969 \" style=\"fill:none;stroke-width:0.3985;stroke-linecap:butt;stroke-linejoin:miter;stroke:rgb(0%,0%,0%);stroke-opacity:1;stroke-miterlimit:10;\" transform=\"matrix(1,0,0,-1,11.622,19.703)\"/>\n<path d=\"M -1.195063 1.594636 C -1.097925 0.995639 0.0011284 0.0979504 0.296904 -0.000716502 C -0.00138116 -0.0992171 -1.097409 -0.997314 -1.197439 -1.593802 \" style=\"fill:none;stroke-width:0.31879;stroke-linecap:round;stroke-linejoin:round;stroke:rgb(0%,0%,0%);stroke-opacity:1;stroke-miterlimit:10;\" transform=\"matrix(0.94678,-0.32904,-0.32904,-0.94678,116.07413,12.95639)\"/>\n<path d=\"M 93.542063 -2.95325 L 106.944406 -7.613406 \" style=\"fill:none;stroke-width:0.3985;stroke-linecap:butt;stroke-linejoin:miter;stroke:rgb(0%,0%,0%);stroke-opacity:1;stroke-miterlimit:10;\" transform=\"matrix(1,0,0,-1,11.622,19.703)\"/>\n<path d=\"M -1.195428 1.592363 C -1.095383 0.995884 0.000659382 0.0978271 0.298945 -0.000664136 C -0.000506646 -0.100618 -1.095843 -0.99705 -1.194243 -1.592362 \" style=\"fill:none;stroke-width:0.31879;stroke-linecap:round;stroke-linejoin:round;stroke:rgb(0%,0%,0%);stroke-opacity:1;stroke-miterlimit:10;\" transform=\"matrix(0.94678,0.32907,0.32907,-0.94678,118.56484,27.31506)\"/>\n<path d=\"M 175.952219 2.038938 L 189.491281 6.745969 \" style=\"fill:none;stroke-width:0.3985;stroke-linecap:butt;stroke-linejoin:miter;stroke:rgb(0%,0%,0%);stroke-opacity:1;stroke-miterlimit:10;\" transform=\"matrix(1,0,0,-1,11.622,19.703)\"/>\n<path d=\"M -1.196361 1.595088 C -1.095542 0.994811 -0.000169744 0.0984015 0.299287 -0.0015447 C 0.00100191 -0.100045 -1.095026 -0.998143 -1.195055 -1.59463 \" style=\"fill:none;stroke-width:0.31879;stroke-linecap:round;stroke-linejoin:round;stroke:rgb(0%,0%,0%);stroke-opacity:1;stroke-miterlimit:10;\" transform=\"matrix(0.94678,-0.32904,-0.32904,-0.94678,201.11457,12.95639)\"/>\n<path d=\"M 175.952219 -2.039187 L 191.983469 -7.613406 \" style=\"fill:none;stroke-width:0.3985;stroke-linecap:butt;stroke-linejoin:miter;stroke:rgb(0%,0%,0%);stroke-opacity:1;stroke-miterlimit:10;\" transform=\"matrix(1,0,0,-1,11.622,19.703)\"/>\n<path d=\"M -1.196689 1.591997 C -1.096665 0.995507 -0.000641621 0.0973961 0.297644 -0.00110771 C 0.00186609 -0.0997721 -1.0972 -0.997454 -1.195623 -1.592771 \" style=\"fill:none;stroke-width:0.31879;stroke-linecap:round;stroke-linejoin:round;stroke:rgb(0%,0%,0%);stroke-opacity:1;stroke-miterlimit:10;\" transform=\"matrix(0.94678,0.32903,0.32903,-0.94678,203.60528,27.31508)\"/>\n</g>\n</svg>"
          },
          "metadata": {
            "tags": [],
            "isolated": "true"
          }
        }
      ]
    },
    {
      "cell_type": "markdown",
      "metadata": {
        "id": "CtT9CpIaJoBl"
      },
      "source": [
        "$$\n",
        "15 \\times \\frac{\\frac{1}{2}}{\\frac{1}{2} + \\frac{1}{3}} \\times \\big[\\frac{1}{2} + \\frac{1}{3}\\big]\n",
        "+\n",
        "6 \\times \\frac{\\frac{1}{3}}{\\frac{1}{2} + \\frac{1}{3}} \\times \\big[\\frac{1}{2} + \\frac{1}{3}\\big]\n",
        "$$"
      ]
    },
    {
      "cell_type": "markdown",
      "metadata": {
        "id": "5ThKOaxHKk1H"
      },
      "source": [
        "$$=15 \\times \\frac{1}{2} + 6 \\times \\frac{1}{3} \\\\\n",
        "= 7.5 + 2 = 9.5$$"
      ]
    },
    {
      "cell_type": "code",
      "metadata": {
        "colab": {
          "base_uri": "https://localhost:8080/",
          "height": 140
        },
        "id": "RGsWqem8GftW",
        "outputId": "9591d646-ff40-4069-9c18-51801eac8887"
      },
      "source": [
        "#@title Games { vertical-output: true, display-mode: \"form\" }\n",
        "\n",
        "\n",
        "%%tikz -l matrix -S test_output.tikz -f svg -s 1000,100\n",
        "\n",
        "\\node[matrix] (1) {\\node (11) {10};\\\\};\n",
        "\n",
        "\\node[matrix, right of=1] (2) {\\node (21) {12};\\\\ \\node (22) {};\\\\ \\node (23) {12};\\\\};\n",
        "\n",
        "\\node[right of=2] (3) {};\n",
        "\n",
        "\\node[matrix, right of=3] (4) {\\node (41) {10};\\\\};\n",
        "\n",
        "\\node[matrix, right of=4] (5) {\\node (51) {20};\\\\ \\node (52) {};\\\\ \\node (53) {0};\\\\};\n",
        "\n",
        "\\node[right of=5] (6) {};\n",
        "\n",
        "\\node[matrix, right of=6] (7) {\\node (71) {?};\\\\};\n",
        "\n",
        "\\node[matrix, right of=7] (8) {\\node (81) {15};\\\\ \\node (82) {};\\\\ \\node (83) {6};\\\\};\n",
        "\n",
        "\\draw(11) edge[->] (21);\n",
        "\\draw(11) edge[->] (23);\n",
        "\n",
        "\\draw(41) edge[->] (51);\n",
        "\\draw(41) edge[->] (53);\n",
        "\n",
        "\\draw(71) edge[->] (81);\n",
        "\\draw(71) edge[->] (83);\n"
      ],
      "execution_count": null,
      "outputs": [
        {
          "output_type": "display_data",
          "data": {
            "image/svg+xml": "<svg height=\"100px\" version=\"1.1\" viewBox=\"0 0 221.67 39.405\" width=\"1000px\" xmlns=\"http://www.w3.org/2000/svg\" xmlns:xlink=\"http://www.w3.org/1999/xlink\">\n<defs>\n<g>\n<symbol id=\"glyph0-0\" overflow=\"visible\">\n<path d=\"\" style=\"stroke:none;\"/>\n</symbol>\n<symbol id=\"glyph0-1\" overflow=\"visible\">\n<path d=\"M 2.9375 -6.375 C 2.9375 -6.625 2.9375 -6.640625 2.703125 -6.640625 C 2.078125 -6 1.203125 -6 0.890625 -6 L 0.890625 -5.6875 C 1.09375 -5.6875 1.671875 -5.6875 2.1875 -5.953125 L 2.1875 -0.78125 C 2.1875 -0.421875 2.15625 -0.3125 1.265625 -0.3125 L 0.953125 -0.3125 L 0.953125 0 C 1.296875 -0.03125 2.15625 -0.03125 2.5625 -0.03125 C 2.953125 -0.03125 3.828125 -0.03125 4.171875 0 L 4.171875 -0.3125 L 3.859375 -0.3125 C 2.953125 -0.3125 2.9375 -0.421875 2.9375 -0.78125 Z M 2.9375 -6.375 \" style=\"stroke:none;\"/>\n</symbol>\n<symbol id=\"glyph0-2\" overflow=\"visible\">\n<path d=\"M 4.578125 -3.1875 C 4.578125 -3.984375 4.53125 -4.78125 4.1875 -5.515625 C 3.734375 -6.484375 2.90625 -6.640625 2.5 -6.640625 C 1.890625 -6.640625 1.171875 -6.375 0.75 -5.453125 C 0.4375 -4.765625 0.390625 -3.984375 0.390625 -3.1875 C 0.390625 -2.4375 0.421875 -1.546875 0.84375 -0.78125 C 1.265625 0.015625 2 0.21875 2.484375 0.21875 C 3.015625 0.21875 3.78125 0.015625 4.21875 -0.9375 C 4.53125 -1.625 4.578125 -2.40625 4.578125 -3.1875 Z M 2.484375 0 C 2.09375 0 1.5 -0.25 1.328125 -1.203125 C 1.21875 -1.796875 1.21875 -2.71875 1.21875 -3.3125 C 1.21875 -3.953125 1.21875 -4.609375 1.296875 -5.140625 C 1.484375 -6.328125 2.234375 -6.421875 2.484375 -6.421875 C 2.8125 -6.421875 3.46875 -6.234375 3.65625 -5.25 C 3.765625 -4.6875 3.765625 -3.9375 3.765625 -3.3125 C 3.765625 -2.5625 3.765625 -1.890625 3.65625 -1.25 C 3.5 -0.296875 2.9375 0 2.484375 0 Z M 2.484375 0 \" style=\"stroke:none;\"/>\n</symbol>\n<symbol id=\"glyph0-3\" overflow=\"visible\">\n<path d=\"M 1.265625 -0.765625 L 2.328125 -1.796875 C 3.875 -3.171875 4.46875 -3.703125 4.46875 -4.703125 C 4.46875 -5.84375 3.578125 -6.640625 2.359375 -6.640625 C 1.234375 -6.640625 0.5 -5.71875 0.5 -4.828125 C 0.5 -4.28125 1 -4.28125 1.03125 -4.28125 C 1.203125 -4.28125 1.546875 -4.390625 1.546875 -4.8125 C 1.546875 -5.0625 1.359375 -5.328125 1.015625 -5.328125 C 0.9375 -5.328125 0.921875 -5.328125 0.890625 -5.3125 C 1.109375 -5.96875 1.65625 -6.328125 2.234375 -6.328125 C 3.140625 -6.328125 3.5625 -5.515625 3.5625 -4.703125 C 3.5625 -3.90625 3.078125 -3.125 2.515625 -2.5 L 0.609375 -0.375 C 0.5 -0.265625 0.5 -0.234375 0.5 0 L 4.203125 0 L 4.46875 -1.734375 L 4.234375 -1.734375 C 4.171875 -1.4375 4.109375 -1 4 -0.84375 C 3.9375 -0.765625 3.28125 -0.765625 3.0625 -0.765625 Z M 1.265625 -0.765625 \" style=\"stroke:none;\"/>\n</symbol>\n<symbol id=\"glyph0-4\" overflow=\"visible\">\n<path d=\"M 2.34375 -2.484375 C 2.34375 -3.734375 3.3125 -4.453125 3.65625 -4.703125 C 3.921875 -4.90625 4.140625 -5.265625 4.140625 -5.6875 C 4.140625 -6.265625 3.734375 -7.03125 2.25 -7.03125 C 1.171875 -7.03125 0.5625 -6.34375 0.5625 -5.703125 C 0.5625 -5.359375 0.78125 -5.21875 1.015625 -5.21875 C 1.296875 -5.21875 1.46875 -5.421875 1.46875 -5.6875 C 1.46875 -6.125 1.0625 -6.125 0.921875 -6.125 C 1.21875 -6.65625 1.796875 -6.8125 2.21875 -6.8125 C 3.3125 -6.8125 3.3125 -6.125 3.3125 -5.734375 C 3.3125 -5.15625 3.15625 -4.96875 2.96875 -4.796875 C 2.3125 -4.078125 2.09375 -3.15625 2.09375 -2.546875 L 2.09375 -2.109375 C 2.09375 -1.921875 2.09375 -1.859375 2.21875 -1.859375 C 2.34375 -1.859375 2.34375 -1.953125 2.34375 -2.140625 Z M 2.734375 -0.53125 C 2.734375 -0.8125 2.5 -1.0625 2.21875 -1.0625 C 1.921875 -1.0625 1.6875 -0.8125 1.6875 -0.53125 C 1.6875 -0.234375 1.921875 0 2.21875 0 C 2.5 0 2.734375 -0.234375 2.734375 -0.53125 Z M 2.734375 -0.53125 \" style=\"stroke:none;\"/>\n</symbol>\n<symbol id=\"glyph0-5\" overflow=\"visible\">\n<path d=\"M 4.46875 -2 C 4.46875 -3.1875 3.65625 -4.1875 2.578125 -4.1875 C 2.109375 -4.1875 1.671875 -4.03125 1.3125 -3.671875 L 1.3125 -5.625 C 1.515625 -5.5625 1.84375 -5.5 2.15625 -5.5 C 3.390625 -5.5 4.09375 -6.40625 4.09375 -6.53125 C 4.09375 -6.59375 4.0625 -6.640625 3.984375 -6.640625 C 3.984375 -6.640625 3.953125 -6.640625 3.90625 -6.609375 C 3.703125 -6.515625 3.21875 -6.3125 2.546875 -6.3125 C 2.15625 -6.3125 1.6875 -6.390625 1.21875 -6.59375 C 1.140625 -6.625 1.125 -6.625 1.109375 -6.625 C 1 -6.625 1 -6.546875 1 -6.390625 L 1 -3.4375 C 1 -3.265625 1 -3.1875 1.140625 -3.1875 C 1.21875 -3.1875 1.234375 -3.203125 1.28125 -3.265625 C 1.390625 -3.421875 1.75 -3.96875 2.5625 -3.96875 C 3.078125 -3.96875 3.328125 -3.515625 3.40625 -3.328125 C 3.5625 -2.953125 3.59375 -2.578125 3.59375 -2.078125 C 3.59375 -1.71875 3.59375 -1.125 3.34375 -0.703125 C 3.109375 -0.3125 2.734375 -0.0625 2.28125 -0.0625 C 1.5625 -0.0625 0.984375 -0.59375 0.8125 -1.171875 C 0.84375 -1.171875 0.875 -1.15625 0.984375 -1.15625 C 1.3125 -1.15625 1.484375 -1.40625 1.484375 -1.640625 C 1.484375 -1.890625 1.3125 -2.140625 0.984375 -2.140625 C 0.84375 -2.140625 0.5 -2.0625 0.5 -1.609375 C 0.5 -0.75 1.1875 0.21875 2.296875 0.21875 C 3.453125 0.21875 4.46875 -0.734375 4.46875 -2 Z M 4.46875 -2 \" style=\"stroke:none;\"/>\n</symbol>\n<symbol id=\"glyph0-6\" overflow=\"visible\">\n<path d=\"M 1.3125 -3.265625 L 1.3125 -3.515625 C 1.3125 -6.03125 2.546875 -6.390625 3.0625 -6.390625 C 3.296875 -6.390625 3.71875 -6.328125 3.9375 -5.984375 C 3.78125 -5.984375 3.390625 -5.984375 3.390625 -5.546875 C 3.390625 -5.234375 3.625 -5.078125 3.84375 -5.078125 C 4 -5.078125 4.3125 -5.171875 4.3125 -5.5625 C 4.3125 -6.15625 3.875 -6.640625 3.046875 -6.640625 C 1.765625 -6.640625 0.421875 -5.359375 0.421875 -3.15625 C 0.421875 -0.484375 1.578125 0.21875 2.5 0.21875 C 3.609375 0.21875 4.5625 -0.71875 4.5625 -2.03125 C 4.5625 -3.296875 3.671875 -4.25 2.5625 -4.25 C 1.890625 -4.25 1.515625 -3.75 1.3125 -3.265625 Z M 2.5 -0.0625 C 1.875 -0.0625 1.578125 -0.65625 1.515625 -0.8125 C 1.328125 -1.28125 1.328125 -2.078125 1.328125 -2.25 C 1.328125 -3.03125 1.65625 -4.03125 2.546875 -4.03125 C 2.71875 -4.03125 3.171875 -4.03125 3.484375 -3.40625 C 3.65625 -3.046875 3.65625 -2.53125 3.65625 -2.046875 C 3.65625 -1.5625 3.65625 -1.0625 3.484375 -0.703125 C 3.1875 -0.109375 2.734375 -0.0625 2.5 -0.0625 Z M 2.5 -0.0625 \" style=\"stroke:none;\"/>\n</symbol>\n</g>\n</defs>\n<g id=\"surface1\">\n<g style=\"fill:rgb(0%,0%,0%);fill-opacity:1;\">\n  <use x=\"6.641\" xlink:href=\"#glyph0-1\" y=\"22.913\"/>\n  <use x=\"11.6223\" xlink:href=\"#glyph0-2\" y=\"22.913\"/>\n</g>\n<g style=\"fill:rgb(0%,0%,0%);fill-opacity:1;\">\n  <use x=\"34.987\" xlink:href=\"#glyph0-1\" y=\"13.062\"/>\n  <use x=\"39.9683\" xlink:href=\"#glyph0-3\" y=\"13.062\"/>\n</g>\n<g style=\"fill:rgb(0%,0%,0%);fill-opacity:1;\">\n  <use x=\"34.987\" xlink:href=\"#glyph0-1\" y=\"32.764\"/>\n  <use x=\"39.9683\" xlink:href=\"#glyph0-3\" y=\"32.764\"/>\n</g>\n<g style=\"fill:rgb(0%,0%,0%);fill-opacity:1;\">\n  <use x=\"91.68\" xlink:href=\"#glyph0-1\" y=\"22.913\"/>\n  <use x=\"96.6613\" xlink:href=\"#glyph0-2\" y=\"22.913\"/>\n</g>\n<g style=\"fill:rgb(0%,0%,0%);fill-opacity:1;\">\n  <use x=\"120.027\" xlink:href=\"#glyph0-3\" y=\"13.062\"/>\n  <use x=\"125.0083\" xlink:href=\"#glyph0-2\" y=\"13.062\"/>\n</g>\n<g style=\"fill:rgb(0%,0%,0%);fill-opacity:1;\">\n  <use x=\"122.517\" xlink:href=\"#glyph0-2\" y=\"32.764\"/>\n</g>\n<g style=\"fill:rgb(0%,0%,0%);fill-opacity:1;\">\n  <use x=\"179.349\" xlink:href=\"#glyph0-4\" y=\"23.162\"/>\n</g>\n<g style=\"fill:rgb(0%,0%,0%);fill-opacity:1;\">\n  <use x=\"205.066\" xlink:href=\"#glyph0-1\" y=\"13.062\"/>\n  <use x=\"210.0473\" xlink:href=\"#glyph0-5\" y=\"13.062\"/>\n</g>\n<g style=\"fill:rgb(0%,0%,0%);fill-opacity:1;\">\n  <use x=\"207.557\" xlink:href=\"#glyph0-6\" y=\"32.764\"/>\n</g>\n<path d=\"M 8.503 2.953 L 19.413156 6.745969 \" style=\"fill:none;stroke-width:0.3985;stroke-linecap:butt;stroke-linejoin:miter;stroke:rgb(0%,0%,0%);stroke-opacity:1;stroke-miterlimit:10;\" transform=\"matrix(1,0,0,-1,11.622,19.703)\"/>\n<path d=\"M -1.193775 1.594189 C -1.096636 0.995191 -0.00126409 0.0987819 0.298193 -0.00116438 C -0.0000924428 -0.099665 -1.09612 -0.997762 -1.19615 -1.59425 \" style=\"fill:none;stroke-width:0.31879;stroke-linecap:round;stroke-linejoin:round;stroke:rgb(0%,0%,0%);stroke-opacity:1;stroke-miterlimit:10;\" transform=\"matrix(0.94678,-0.32904,-0.32904,-0.94678,31.0337,12.95639)\"/>\n<path d=\"M 8.503 -2.95325 L 19.413156 -6.746219 \" style=\"fill:none;stroke-width:0.3985;stroke-linecap:butt;stroke-linejoin:miter;stroke:rgb(0%,0%,0%);stroke-opacity:1;stroke-miterlimit:10;\" transform=\"matrix(1,0,0,-1,11.622,19.703)\"/>\n<path d=\"M -1.196068 1.594014 C -1.096039 0.997527 -0.0000105643 0.0994294 0.298275 0.00092878 C -0.00118221 -0.0990175 -1.096555 -0.995427 -1.193693 -1.594424 \" style=\"fill:none;stroke-width:0.31879;stroke-linecap:round;stroke-linejoin:round;stroke:rgb(0%,0%,0%);stroke-opacity:1;stroke-miterlimit:10;\" transform=\"matrix(0.94678,0.32904,0.32904,-0.94678,31.0337,26.44961)\"/>\n<path d=\"M 93.542063 2.953 L 104.452219 6.745969 \" style=\"fill:none;stroke-width:0.3985;stroke-linecap:butt;stroke-linejoin:miter;stroke:rgb(0%,0%,0%);stroke-opacity:1;stroke-miterlimit:10;\" transform=\"matrix(1,0,0,-1,11.622,19.703)\"/>\n<path d=\"M -1.195063 1.594636 C -1.097925 0.995639 0.0011284 0.0979504 0.296904 -0.000716502 C -0.00138116 -0.0992171 -1.097409 -0.997314 -1.197439 -1.593802 \" style=\"fill:none;stroke-width:0.31879;stroke-linecap:round;stroke-linejoin:round;stroke:rgb(0%,0%,0%);stroke-opacity:1;stroke-miterlimit:10;\" transform=\"matrix(0.94678,-0.32904,-0.32904,-0.94678,116.07413,12.95639)\"/>\n<path d=\"M 93.542063 -2.95325 L 106.944406 -7.613406 \" style=\"fill:none;stroke-width:0.3985;stroke-linecap:butt;stroke-linejoin:miter;stroke:rgb(0%,0%,0%);stroke-opacity:1;stroke-miterlimit:10;\" transform=\"matrix(1,0,0,-1,11.622,19.703)\"/>\n<path d=\"M -1.195428 1.592363 C -1.095383 0.995884 0.000659382 0.0978271 0.298945 -0.000664136 C -0.000506646 -0.100618 -1.095843 -0.99705 -1.194243 -1.592362 \" style=\"fill:none;stroke-width:0.31879;stroke-linecap:round;stroke-linejoin:round;stroke:rgb(0%,0%,0%);stroke-opacity:1;stroke-miterlimit:10;\" transform=\"matrix(0.94678,0.32907,0.32907,-0.94678,118.56484,27.31506)\"/>\n<path d=\"M 175.952219 2.038938 L 189.491281 6.745969 \" style=\"fill:none;stroke-width:0.3985;stroke-linecap:butt;stroke-linejoin:miter;stroke:rgb(0%,0%,0%);stroke-opacity:1;stroke-miterlimit:10;\" transform=\"matrix(1,0,0,-1,11.622,19.703)\"/>\n<path d=\"M -1.196361 1.595088 C -1.095542 0.994811 -0.000169744 0.0984015 0.299287 -0.0015447 C 0.00100191 -0.100045 -1.095026 -0.998143 -1.195055 -1.59463 \" style=\"fill:none;stroke-width:0.31879;stroke-linecap:round;stroke-linejoin:round;stroke:rgb(0%,0%,0%);stroke-opacity:1;stroke-miterlimit:10;\" transform=\"matrix(0.94678,-0.32904,-0.32904,-0.94678,201.11457,12.95639)\"/>\n<path d=\"M 175.952219 -2.039187 L 191.983469 -7.613406 \" style=\"fill:none;stroke-width:0.3985;stroke-linecap:butt;stroke-linejoin:miter;stroke:rgb(0%,0%,0%);stroke-opacity:1;stroke-miterlimit:10;\" transform=\"matrix(1,0,0,-1,11.622,19.703)\"/>\n<path d=\"M -1.196689 1.591997 C -1.096665 0.995507 -0.000641621 0.0973961 0.297644 -0.00110771 C 0.00186609 -0.0997721 -1.0972 -0.997454 -1.195623 -1.592771 \" style=\"fill:none;stroke-width:0.31879;stroke-linecap:round;stroke-linejoin:round;stroke:rgb(0%,0%,0%);stroke-opacity:1;stroke-miterlimit:10;\" transform=\"matrix(0.94678,0.32903,0.32903,-0.94678,203.60528,27.31508)\"/>\n</g>\n</svg>"
          },
          "metadata": {
            "tags": [],
            "isolated": "true"
          }
        }
      ]
    },
    {
      "cell_type": "markdown",
      "metadata": {
        "id": "oVgIC5TwMY19"
      },
      "source": [
        "# CRR introduction"
      ]
    },
    {
      "cell_type": "code",
      "metadata": {
        "id": "phZL7BgsMdDD"
      },
      "source": [
        ""
      ],
      "execution_count": 205,
      "outputs": []
    },
    {
      "cell_type": "markdown",
      "metadata": {
        "id": "VuI8ZbcOMe9b"
      },
      "source": [
        "# CRR basic idea"
      ]
    },
    {
      "cell_type": "code",
      "metadata": {
        "id": "ZcXkAWxcMlAz"
      },
      "source": [
        ""
      ],
      "execution_count": 205,
      "outputs": []
    },
    {
      "cell_type": "markdown",
      "metadata": {
        "id": "LOyfL7S6Mmhe"
      },
      "source": [
        "# One step binomial option pricing model"
      ]
    },
    {
      "cell_type": "code",
      "metadata": {
        "id": "_7IWKVAsMt_5"
      },
      "source": [
        ""
      ],
      "execution_count": 205,
      "outputs": []
    },
    {
      "cell_type": "markdown",
      "metadata": {
        "id": "uvp40PmqNGqj"
      },
      "source": [
        "# Implications of the binomial option pricing model"
      ]
    },
    {
      "cell_type": "code",
      "metadata": {
        "id": "cTTBFDM_NOgG"
      },
      "source": [
        ""
      ],
      "execution_count": 205,
      "outputs": []
    },
    {
      "cell_type": "markdown",
      "metadata": {
        "id": "W8ZnPGzPMvX6"
      },
      "source": [
        "# Two step binomial option pricing model"
      ]
    },
    {
      "cell_type": "code",
      "metadata": {
        "id": "7YgARZkkM0l4"
      },
      "source": [
        ""
      ],
      "execution_count": 205,
      "outputs": []
    },
    {
      "cell_type": "markdown",
      "metadata": {
        "id": "PLeIX7a4M1vD"
      },
      "source": [
        "# General n-step binomial option pricing model"
      ]
    },
    {
      "cell_type": "code",
      "metadata": {
        "id": "dZUSOc4NM8tQ"
      },
      "source": [
        ""
      ],
      "execution_count": 205,
      "outputs": []
    },
    {
      "cell_type": "markdown",
      "metadata": {
        "id": "9MU5pteANCWD"
      },
      "source": [
        "# The put-call parity"
      ]
    },
    {
      "cell_type": "code",
      "metadata": {
        "id": "gPUuLYy0NFwn"
      },
      "source": [
        ""
      ],
      "execution_count": 205,
      "outputs": []
    }
  ]
}