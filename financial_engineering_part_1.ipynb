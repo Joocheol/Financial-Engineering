{
 "cells": [
  {
   "cell_type": "markdown",
   "metadata": {
    "colab_type": "text",
    "id": "view-in-github"
   },
   "source": [
    "<a href=\"https://colab.research.google.com/github/Joocheol/Financial-Engineering/blob/master/financial_engineering_part_1.ipynb\" target=\"_parent\"><img src=\"https://colab.research.google.com/assets/colab-badge.svg\" alt=\"Open In Colab\"/></a>"
   ]
  },
  {
   "cell_type": "markdown",
   "metadata": {
    "id": "KzkOsTGWcw9C"
   },
   "source": [
    "# Setup "
   ]
  },
  {
   "cell_type": "code",
   "execution_count": 1,
   "metadata": {
    "colab": {
     "base_uri": "https://localhost:8080/"
    },
    "id": "XWmIiILUOvK3",
    "outputId": "86f0f121-64d2-4050-e2a8-564518e8b8ed"
   },
   "outputs": [
    {
     "name": "stderr",
     "output_type": "stream",
     "text": [
      "'apt' is not recognized as an internal or external command,\n",
      "operable program or batch file.\n",
      "'apt' is not recognized as an internal or external command,\n",
      "operable program or batch file.\n",
      "'apt' is not recognized as an internal or external command,\n",
      "operable program or batch file.\n",
      "'apt' is not recognized as an internal or external command,\n",
      "operable program or batch file.\n",
      "  Running command git clone --filter=blob:none --quiet git://github.com/mkrphys/ipython-tikzmagic.git 'C:\\Users\\jooch\\AppData\\Local\\Temp\\pip-req-build-w1fjq1py'\n",
      "  fatal: remote error:\n",
      "    The unauthenticated git protocol on port 9418 is no longer supported.\n",
      "  Please see https://github.blog/2021-09-01-improving-git-protocol-security-github/ for more information.\n",
      "  error: subprocess-exited-with-error\n",
      "  \n",
      "  × git clone --filter=blob:none --quiet git://github.com/mkrphys/ipython-tikzmagic.git 'C:\\Users\\jooch\\AppData\\Local\\Temp\\pip-req-build-w1fjq1py' did not run successfully.\n",
      "  │ exit code: 128\n",
      "  ╰─> See above for output.\n",
      "  \n",
      "  note: This error originates from a subprocess, and is likely not a problem with pip.\n",
      "error: subprocess-exited-with-error\n",
      "\n",
      "× git clone --filter=blob:none --quiet git://github.com/mkrphys/ipython-tikzmagic.git 'C:\\Users\\jooch\\AppData\\Local\\Temp\\pip-req-build-w1fjq1py' did not run successfully.\n",
      "│ exit code: 128\n",
      "╰─> See above for output.\n",
      "\n",
      "note: This error originates from a subprocess, and is likely not a problem with pip.\n"
     ]
    },
    {
     "name": "stdout",
     "output_type": "stream",
     "text": [
      "Collecting git+git://github.com/mkrphys/ipython-tikzmagic.git\n",
      "  Cloning git://github.com/mkrphys/ipython-tikzmagic.git to c:\\users\\jooch\\appdata\\local\\temp\\pip-req-build-w1fjq1py\n"
     ]
    },
    {
     "ename": "ModuleNotFoundError",
     "evalue": "No module named 'tikzmagic'",
     "output_type": "error",
     "traceback": [
      "\u001b[1;31m---------------------------------------------------------------------------\u001b[0m",
      "\u001b[1;31mModuleNotFoundError\u001b[0m                       Traceback (most recent call last)",
      "\u001b[1;32mc:\\Users\\jooch\\Financial-Engineering\\financial_engineering_part_1.ipynb Cell 3'\u001b[0m in \u001b[0;36m<cell line: 8>\u001b[1;34m()\u001b[0m\n\u001b[0;32m      <a href='vscode-notebook-cell:/c%3A/Users/jooch/Financial-Engineering/financial_engineering_part_1.ipynb#ch0000002?line=5'>6</a>\u001b[0m get_ipython()\u001b[39m.\u001b[39msystem(\u001b[39m'\u001b[39m\u001b[39mapt install texlive texlive-latex-extra\u001b[39m\u001b[39m'\u001b[39m)\n\u001b[0;32m      <a href='vscode-notebook-cell:/c%3A/Users/jooch/Financial-Engineering/financial_engineering_part_1.ipynb#ch0000002?line=6'>7</a>\u001b[0m get_ipython()\u001b[39m.\u001b[39msystem(\u001b[39m'\u001b[39m\u001b[39mpip install git+git://github.com/mkrphys/ipython-tikzmagic.git\u001b[39m\u001b[39m'\u001b[39m)\n\u001b[1;32m----> <a href='vscode-notebook-cell:/c%3A/Users/jooch/Financial-Engineering/financial_engineering_part_1.ipynb#ch0000002?line=7'>8</a>\u001b[0m get_ipython()\u001b[39m.\u001b[39;49mrun_line_magic(\u001b[39m'\u001b[39;49m\u001b[39mload_ext\u001b[39;49m\u001b[39m'\u001b[39;49m, \u001b[39m'\u001b[39;49m\u001b[39mtikzmagic\u001b[39;49m\u001b[39m'\u001b[39;49m)\n",
      "File \u001b[1;32mC:\\Python310\\lib\\site-packages\\IPython\\core\\interactiveshell.py:2294\u001b[0m, in \u001b[0;36mInteractiveShell.run_line_magic\u001b[1;34m(self, magic_name, line, _stack_depth)\u001b[0m\n\u001b[0;32m   <a href='file:///c%3A/Python310/lib/site-packages/IPython/core/interactiveshell.py?line=2291'>2292</a>\u001b[0m     kwargs[\u001b[39m'\u001b[39m\u001b[39mlocal_ns\u001b[39m\u001b[39m'\u001b[39m] \u001b[39m=\u001b[39m \u001b[39mself\u001b[39m\u001b[39m.\u001b[39mget_local_scope(stack_depth)\n\u001b[0;32m   <a href='file:///c%3A/Python310/lib/site-packages/IPython/core/interactiveshell.py?line=2292'>2293</a>\u001b[0m \u001b[39mwith\u001b[39;00m \u001b[39mself\u001b[39m\u001b[39m.\u001b[39mbuiltin_trap:\n\u001b[1;32m-> <a href='file:///c%3A/Python310/lib/site-packages/IPython/core/interactiveshell.py?line=2293'>2294</a>\u001b[0m     result \u001b[39m=\u001b[39m fn(\u001b[39m*\u001b[39margs, \u001b[39m*\u001b[39m\u001b[39m*\u001b[39mkwargs)\n\u001b[0;32m   <a href='file:///c%3A/Python310/lib/site-packages/IPython/core/interactiveshell.py?line=2294'>2295</a>\u001b[0m \u001b[39mreturn\u001b[39;00m result\n",
      "File \u001b[1;32mC:\\Python310\\lib\\site-packages\\IPython\\core\\magics\\extension.py:33\u001b[0m, in \u001b[0;36mExtensionMagics.load_ext\u001b[1;34m(self, module_str)\u001b[0m\n\u001b[0;32m     <a href='file:///c%3A/Python310/lib/site-packages/IPython/core/magics/extension.py?line=30'>31</a>\u001b[0m \u001b[39mif\u001b[39;00m \u001b[39mnot\u001b[39;00m module_str:\n\u001b[0;32m     <a href='file:///c%3A/Python310/lib/site-packages/IPython/core/magics/extension.py?line=31'>32</a>\u001b[0m     \u001b[39mraise\u001b[39;00m UsageError(\u001b[39m'\u001b[39m\u001b[39mMissing module name.\u001b[39m\u001b[39m'\u001b[39m)\n\u001b[1;32m---> <a href='file:///c%3A/Python310/lib/site-packages/IPython/core/magics/extension.py?line=32'>33</a>\u001b[0m res \u001b[39m=\u001b[39m \u001b[39mself\u001b[39;49m\u001b[39m.\u001b[39;49mshell\u001b[39m.\u001b[39;49mextension_manager\u001b[39m.\u001b[39;49mload_extension(module_str)\n\u001b[0;32m     <a href='file:///c%3A/Python310/lib/site-packages/IPython/core/magics/extension.py?line=34'>35</a>\u001b[0m \u001b[39mif\u001b[39;00m res \u001b[39m==\u001b[39m \u001b[39m'\u001b[39m\u001b[39malready loaded\u001b[39m\u001b[39m'\u001b[39m:\n\u001b[0;32m     <a href='file:///c%3A/Python310/lib/site-packages/IPython/core/magics/extension.py?line=35'>36</a>\u001b[0m     \u001b[39mprint\u001b[39m(\u001b[39m\"\u001b[39m\u001b[39mThe \u001b[39m\u001b[39m%s\u001b[39;00m\u001b[39m extension is already loaded. To reload it, use:\u001b[39m\u001b[39m\"\u001b[39m \u001b[39m%\u001b[39m module_str)\n",
      "File \u001b[1;32mC:\\Python310\\lib\\site-packages\\IPython\\core\\extensions.py:76\u001b[0m, in \u001b[0;36mExtensionManager.load_extension\u001b[1;34m(self, module_str)\u001b[0m\n\u001b[0;32m     <a href='file:///c%3A/Python310/lib/site-packages/IPython/core/extensions.py?line=68'>69</a>\u001b[0m \u001b[39m\"\"\"Load an IPython extension by its module name.\u001b[39;00m\n\u001b[0;32m     <a href='file:///c%3A/Python310/lib/site-packages/IPython/core/extensions.py?line=69'>70</a>\u001b[0m \n\u001b[0;32m     <a href='file:///c%3A/Python310/lib/site-packages/IPython/core/extensions.py?line=70'>71</a>\u001b[0m \u001b[39mReturns the string \"already loaded\" if the extension is already loaded,\u001b[39;00m\n\u001b[0;32m     <a href='file:///c%3A/Python310/lib/site-packages/IPython/core/extensions.py?line=71'>72</a>\u001b[0m \u001b[39m\"no load function\" if the module doesn't have a load_ipython_extension\u001b[39;00m\n\u001b[0;32m     <a href='file:///c%3A/Python310/lib/site-packages/IPython/core/extensions.py?line=72'>73</a>\u001b[0m \u001b[39mfunction, or None if it succeeded.\u001b[39;00m\n\u001b[0;32m     <a href='file:///c%3A/Python310/lib/site-packages/IPython/core/extensions.py?line=73'>74</a>\u001b[0m \u001b[39m\"\"\"\u001b[39;00m\n\u001b[0;32m     <a href='file:///c%3A/Python310/lib/site-packages/IPython/core/extensions.py?line=74'>75</a>\u001b[0m \u001b[39mtry\u001b[39;00m:\n\u001b[1;32m---> <a href='file:///c%3A/Python310/lib/site-packages/IPython/core/extensions.py?line=75'>76</a>\u001b[0m     \u001b[39mreturn\u001b[39;00m \u001b[39mself\u001b[39;49m\u001b[39m.\u001b[39;49m_load_extension(module_str)\n\u001b[0;32m     <a href='file:///c%3A/Python310/lib/site-packages/IPython/core/extensions.py?line=76'>77</a>\u001b[0m \u001b[39mexcept\u001b[39;00m \u001b[39mModuleNotFoundError\u001b[39;00m:\n\u001b[0;32m     <a href='file:///c%3A/Python310/lib/site-packages/IPython/core/extensions.py?line=77'>78</a>\u001b[0m     \u001b[39mif\u001b[39;00m module_str \u001b[39min\u001b[39;00m BUILTINS_EXTS:\n",
      "File \u001b[1;32mC:\\Python310\\lib\\site-packages\\IPython\\core\\extensions.py:92\u001b[0m, in \u001b[0;36mExtensionManager._load_extension\u001b[1;34m(self, module_str)\u001b[0m\n\u001b[0;32m     <a href='file:///c%3A/Python310/lib/site-packages/IPython/core/extensions.py?line=89'>90</a>\u001b[0m \u001b[39mif\u001b[39;00m module_str \u001b[39mnot\u001b[39;00m \u001b[39min\u001b[39;00m sys\u001b[39m.\u001b[39mmodules:\n\u001b[0;32m     <a href='file:///c%3A/Python310/lib/site-packages/IPython/core/extensions.py?line=90'>91</a>\u001b[0m     \u001b[39mwith\u001b[39;00m prepended_to_syspath(\u001b[39mself\u001b[39m\u001b[39m.\u001b[39mipython_extension_dir):\n\u001b[1;32m---> <a href='file:///c%3A/Python310/lib/site-packages/IPython/core/extensions.py?line=91'>92</a>\u001b[0m         mod \u001b[39m=\u001b[39m import_module(module_str)\n\u001b[0;32m     <a href='file:///c%3A/Python310/lib/site-packages/IPython/core/extensions.py?line=92'>93</a>\u001b[0m         \u001b[39mif\u001b[39;00m mod\u001b[39m.\u001b[39m\u001b[39m__file__\u001b[39m\u001b[39m.\u001b[39mstartswith(\u001b[39mself\u001b[39m\u001b[39m.\u001b[39mipython_extension_dir):\n\u001b[0;32m     <a href='file:///c%3A/Python310/lib/site-packages/IPython/core/extensions.py?line=93'>94</a>\u001b[0m             \u001b[39mprint\u001b[39m((\u001b[39m\"\u001b[39m\u001b[39mLoading extensions from \u001b[39m\u001b[39m{dir}\u001b[39;00m\u001b[39m is deprecated. \u001b[39m\u001b[39m\"\u001b[39m\n\u001b[0;32m     <a href='file:///c%3A/Python310/lib/site-packages/IPython/core/extensions.py?line=94'>95</a>\u001b[0m                    \u001b[39m\"\u001b[39m\u001b[39mWe recommend managing extensions like any \u001b[39m\u001b[39m\"\u001b[39m\n\u001b[0;32m     <a href='file:///c%3A/Python310/lib/site-packages/IPython/core/extensions.py?line=95'>96</a>\u001b[0m                    \u001b[39m\"\u001b[39m\u001b[39mother Python packages, in site-packages.\u001b[39m\u001b[39m\"\u001b[39m)\u001b[39m.\u001b[39mformat(\n\u001b[0;32m     <a href='file:///c%3A/Python310/lib/site-packages/IPython/core/extensions.py?line=96'>97</a>\u001b[0m                   \u001b[39mdir\u001b[39m\u001b[39m=\u001b[39mcompress_user(\u001b[39mself\u001b[39m\u001b[39m.\u001b[39mipython_extension_dir)))\n",
      "File \u001b[1;32mC:\\Python310\\lib\\importlib\\__init__.py:126\u001b[0m, in \u001b[0;36mimport_module\u001b[1;34m(name, package)\u001b[0m\n\u001b[0;32m    <a href='file:///c%3A/Python310/lib/importlib/__init__.py?line=123'>124</a>\u001b[0m             \u001b[39mbreak\u001b[39;00m\n\u001b[0;32m    <a href='file:///c%3A/Python310/lib/importlib/__init__.py?line=124'>125</a>\u001b[0m         level \u001b[39m+\u001b[39m\u001b[39m=\u001b[39m \u001b[39m1\u001b[39m\n\u001b[1;32m--> <a href='file:///c%3A/Python310/lib/importlib/__init__.py?line=125'>126</a>\u001b[0m \u001b[39mreturn\u001b[39;00m _bootstrap\u001b[39m.\u001b[39;49m_gcd_import(name[level:], package, level)\n",
      "File \u001b[1;32m<frozen importlib._bootstrap>:1050\u001b[0m, in \u001b[0;36m_gcd_import\u001b[1;34m(name, package, level)\u001b[0m\n",
      "File \u001b[1;32m<frozen importlib._bootstrap>:1027\u001b[0m, in \u001b[0;36m_find_and_load\u001b[1;34m(name, import_)\u001b[0m\n",
      "File \u001b[1;32m<frozen importlib._bootstrap>:1004\u001b[0m, in \u001b[0;36m_find_and_load_unlocked\u001b[1;34m(name, import_)\u001b[0m\n",
      "\u001b[1;31mModuleNotFoundError\u001b[0m: No module named 'tikzmagic'"
     ]
    }
   ],
   "source": [
    "#@title Setup for tikz\n",
    "\n",
    "!apt update\n",
    "!apt install imagemagick\n",
    "!apt install pdf2svg\n",
    "!apt install texlive texlive-latex-extra\n",
    "!pip install git+git://github.com/mkrphys/ipython-tikzmagic.git\n",
    "%load_ext tikzmagic"
   ]
  },
  {
   "cell_type": "code",
   "execution_count": 2,
   "metadata": {
    "colab": {
     "base_uri": "https://localhost:8080/",
     "height": 0
    },
    "id": "9oHFAo5TOyr3",
    "outputId": "db44b19d-440f-42cd-952f-a3efd6c7ee11"
   },
   "outputs": [
    {
     "data": {
      "image/svg+xml": "<svg height=\"240px\" version=\"1.1\" viewBox=\"0 0 28.745 28.745\" width=\"400px\" xmlns=\"http://www.w3.org/2000/svg\" xmlns:xlink=\"http://www.w3.org/1999/xlink\">\n<g id=\"surface1\">\n<path d=\"M 0.00021875 -0.000875 L 0.00021875 28.346781 L 28.347875 28.346781 L 28.347875 -0.000875 Z M 0.00021875 -0.000875 \" style=\"fill:none;stroke-width:0.3985;stroke-linecap:butt;stroke-linejoin:miter;stroke:rgb(0%,0%,0%);stroke-opacity:1;stroke-miterlimit:10;\" transform=\"matrix(1,0,0,-1,0.199,28.546)\"/>\n<path d=\"M 17.008031 14.174906 C 17.008031 15.737406 15.7385 17.006937 14.172094 17.006937 C 12.609594 17.006937 11.340063 15.737406 11.340063 14.174906 C 11.340063 12.6085 12.609594 11.338969 14.172094 11.338969 C 15.7385 11.338969 17.008031 12.6085 17.008031 14.174906 Z M 17.008031 14.174906 \" style=\"fill-rule:nonzero;fill:rgb(0%,0%,0%);fill-opacity:1;stroke-width:0.3985;stroke-linecap:butt;stroke-linejoin:miter;stroke:rgb(0%,0%,0%);stroke-opacity:1;stroke-miterlimit:10;\" transform=\"matrix(1,0,0,-1,0.199,28.546)\"/>\n</g>\n</svg>"
     },
     "metadata": {
      "isolated": "true",
      "tags": []
     },
     "output_type": "display_data"
    }
   ],
   "source": [
    "%%tikz -S test_output.tikz -f svg\n",
    "\\draw (0,0) rectangle (1,1);\n",
    "\\filldraw (0.5,0.5) circle (.1);"
   ]
  },
  {
   "cell_type": "markdown",
   "metadata": {
    "id": "9nSOUuyUTDgh"
   },
   "source": [
    "# flow diagram"
   ]
  },
  {
   "cell_type": "markdown",
   "metadata": {
    "id": "H6rjcktqD-JK"
   },
   "source": [
    "In this lesson, I am going to talk about the financial transactions.\n",
    "Let me first introduce tools that I am going to use.\n",
    "\n",
    "Take a look."
   ]
  },
  {
   "cell_type": "code",
   "execution_count": 3,
   "metadata": {
    "colab": {
     "base_uri": "https://localhost:8080/",
     "height": 0
    },
    "id": "MYmnEkAaP6nU",
    "outputId": "c9d8a62e-3b9d-42c5-d0e7-708d75e891e6"
   },
   "outputs": [
    {
     "data": {
      "image/svg+xml": "<svg height=\"240px\" version=\"1.1\" viewBox=\"0 0 170.876 45.029\" width=\"400px\" xmlns=\"http://www.w3.org/2000/svg\" xmlns:xlink=\"http://www.w3.org/1999/xlink\">\n<defs>\n<g>\n<symbol id=\"glyph0-0\" overflow=\"visible\">\n<path d=\"\" style=\"stroke:none;\"/>\n</symbol>\n<symbol id=\"glyph0-1\" overflow=\"visible\">\n<path d=\"M 4.578125 -3.1875 C 4.578125 -3.984375 4.53125 -4.78125 4.1875 -5.515625 C 3.734375 -6.484375 2.90625 -6.640625 2.5 -6.640625 C 1.890625 -6.640625 1.171875 -6.375 0.75 -5.453125 C 0.4375 -4.765625 0.390625 -3.984375 0.390625 -3.1875 C 0.390625 -2.4375 0.421875 -1.546875 0.84375 -0.78125 C 1.265625 0.015625 2 0.21875 2.484375 0.21875 C 3.015625 0.21875 3.78125 0.015625 4.21875 -0.9375 C 4.53125 -1.625 4.578125 -2.40625 4.578125 -3.1875 Z M 2.484375 0 C 2.09375 0 1.5 -0.25 1.328125 -1.203125 C 1.21875 -1.796875 1.21875 -2.71875 1.21875 -3.3125 C 1.21875 -3.953125 1.21875 -4.609375 1.296875 -5.140625 C 1.484375 -6.328125 2.234375 -6.421875 2.484375 -6.421875 C 2.8125 -6.421875 3.46875 -6.234375 3.65625 -5.25 C 3.765625 -4.6875 3.765625 -3.9375 3.765625 -3.3125 C 3.765625 -2.5625 3.765625 -1.890625 3.65625 -1.25 C 3.5 -0.296875 2.9375 0 2.484375 0 Z M 2.484375 0 \" style=\"stroke:none;\"/>\n</symbol>\n<symbol id=\"glyph1-0\" overflow=\"visible\">\n<path d=\"\" style=\"stroke:none;\"/>\n</symbol>\n<symbol id=\"glyph1-1\" overflow=\"visible\">\n<path d=\"M 4.25 -6.046875 C 4.328125 -6.328125 4.359375 -6.390625 4.484375 -6.421875 C 4.578125 -6.4375 4.90625 -6.4375 5.109375 -6.4375 C 6.125 -6.4375 6.5625 -6.40625 6.5625 -5.625 C 6.5625 -5.46875 6.53125 -5.078125 6.484375 -4.828125 C 6.484375 -4.78125 6.453125 -4.671875 6.453125 -4.640625 C 6.453125 -4.578125 6.484375 -4.5 6.578125 -4.5 C 6.6875 -4.5 6.703125 -4.578125 6.734375 -4.734375 L 7 -6.46875 C 7.015625 -6.515625 7.015625 -6.609375 7.015625 -6.640625 C 7.015625 -6.75 6.921875 -6.75 6.75 -6.75 L 1.21875 -6.75 C 0.984375 -6.75 0.96875 -6.734375 0.890625 -6.546875 L 0.296875 -4.796875 C 0.296875 -4.78125 0.234375 -4.640625 0.234375 -4.609375 C 0.234375 -4.5625 0.296875 -4.5 0.359375 -4.5 C 0.453125 -4.5 0.46875 -4.5625 0.53125 -4.71875 C 1.0625 -6.265625 1.328125 -6.4375 2.796875 -6.4375 L 3.1875 -6.4375 C 3.46875 -6.4375 3.46875 -6.40625 3.46875 -6.3125 C 3.46875 -6.265625 3.4375 -6.140625 3.421875 -6.109375 L 2.09375 -0.78125 C 2 -0.421875 1.96875 -0.3125 0.90625 -0.3125 C 0.546875 -0.3125 0.484375 -0.3125 0.484375 -0.125 C 0.484375 0 0.59375 0 0.65625 0 C 0.921875 0 1.203125 -0.015625 1.46875 -0.015625 C 1.75 -0.015625 2.046875 -0.03125 2.328125 -0.03125 C 2.609375 -0.03125 2.875 -0.015625 3.15625 -0.015625 C 3.4375 -0.015625 3.734375 0 4.015625 0 C 4.109375 0 4.234375 0 4.234375 -0.203125 C 4.234375 -0.3125 4.15625 -0.3125 3.890625 -0.3125 C 3.65625 -0.3125 3.515625 -0.3125 3.265625 -0.328125 C 2.96875 -0.359375 2.890625 -0.390625 2.890625 -0.546875 C 2.890625 -0.5625 2.890625 -0.609375 2.9375 -0.75 Z M 4.25 -6.046875 \" style=\"stroke:none;\"/>\n</symbol>\n</g>\n<clipPath id=\"clip1\">\n  <path d=\"M 0 28 L 170.875 28 L 170.875 29 L 0 29 Z M 0 28 \"/>\n</clipPath>\n</defs>\n<g id=\"surface1\">\n<g clip-path=\"url(#clip1)\" clip-rule=\"nonzero\">\n<path d=\"M -14.173563 -0.000875 L 155.908469 -0.000875 \" style=\"fill:none;stroke-width:0.79701;stroke-linecap:butt;stroke-linejoin:miter;stroke:rgb(0%,0%,0%);stroke-opacity:1;stroke-miterlimit:10;\" transform=\"matrix(1,0,0,-1,14.572,28.546)\"/>\n</g>\n<path d=\"M -0.0016875 2.835063 L -0.0016875 -2.832906 \" style=\"fill:none;stroke-width:0.3985;stroke-linecap:butt;stroke-linejoin:miter;stroke:rgb(0%,0%,0%);stroke-opacity:1;stroke-miterlimit:10;\" transform=\"matrix(1,0,0,-1,14.572,28.546)\"/>\n<g style=\"fill:rgb(0%,0%,0%);fill-opacity:1;\">\n  <use x=\"18.091\" xlink:href=\"#glyph0-1\" y=\"41.321\"/>\n</g>\n<path d=\"M 141.732687 2.835063 L 141.732687 -2.832906 \" style=\"fill:none;stroke-width:0.3985;stroke-linecap:butt;stroke-linejoin:miter;stroke:rgb(0%,0%,0%);stroke-opacity:1;stroke-miterlimit:10;\" transform=\"matrix(1,0,0,-1,14.572,28.546)\"/>\n<g style=\"fill:rgb(0%,0%,0%);fill-opacity:1;\">\n  <use x=\"159.824\" xlink:href=\"#glyph1-1\" y=\"41.708\"/>\n</g>\n<path d=\"M -0.0016875 -0.000875 L -0.0016875 27.88975 \" style=\"fill:none;stroke-width:0.3985;stroke-linecap:butt;stroke-linejoin:miter;stroke:rgb(0%,0%,0%);stroke-opacity:1;stroke-miterlimit:10;\" transform=\"matrix(1,0,0,-1,14.572,28.546)\"/>\n<path d=\"M -1.194082 1.595438 C -1.096426 0.997781 0.00123 0.0993438 0.298105 0.0016875 C 0.00123 -0.099875 -1.096426 -0.994406 -1.194082 -1.592062 \" style=\"fill:none;stroke-width:0.31879;stroke-linecap:round;stroke-linejoin:round;stroke:rgb(0%,0%,0%);stroke-opacity:1;stroke-miterlimit:10;\" transform=\"matrix(0,-1,-1,0,14.572,0.65748)\"/>\n</g>\n</svg>"
     },
     "metadata": {
      "isolated": "true",
      "tags": []
     },
     "output_type": "display_data"
    }
   ],
   "source": [
    "#@title receive money { vertical-output: true }\n",
    "\n",
    "%%tikz -S test_output.tikz -f svg\n",
    "\\draw [thick] (-0.5,0) -- (5.5,0);\n",
    "\\draw (0,0.1) -- (0,-0.1) node [below right] {$0$};\n",
    "\\draw (5,0.1) -- (5,-0.1) node [below right] {$T$};\n",
    "\n",
    "\\draw [->] (0,0) -- (0,1) ;\n"
   ]
  },
  {
   "cell_type": "markdown",
   "metadata": {
    "id": "sbJhT7LAEkLN"
   },
   "source": [
    "It looks like a cash-flow diagram as you see in the usual textbook in finance.\n",
    "But, I will not call this as a cash-flow diagram because I am going to put something other than the cashflows.\n",
    "\n",
    "In order to understand the lesson, we need to know what this diagram means.\n",
    "\n",
    "The x axis here represents time. We have time 0, and also time capital T, which we will call maturity date. It's quite arbitrary, but we need to used to it.\n"
   ]
  },
  {
   "cell_type": "code",
   "execution_count": 4,
   "metadata": {
    "cellView": "form",
    "colab": {
     "base_uri": "https://localhost:8080/",
     "height": 0
    },
    "id": "Hn298D6QPU2U",
    "outputId": "332ed84d-38e6-4ade-fedd-a49565b9c30f"
   },
   "outputs": [
    {
     "data": {
      "image/svg+xml": "<svg height=\"240px\" version=\"1.1\" viewBox=\"0 0 170.876 19.517\" width=\"400px\" xmlns=\"http://www.w3.org/2000/svg\" xmlns:xlink=\"http://www.w3.org/1999/xlink\">\n<defs>\n<g>\n<symbol id=\"glyph0-0\" overflow=\"visible\">\n<path d=\"\" style=\"stroke:none;\"/>\n</symbol>\n<symbol id=\"glyph0-1\" overflow=\"visible\">\n<path d=\"M 4.578125 -3.1875 C 4.578125 -3.984375 4.53125 -4.78125 4.1875 -5.515625 C 3.734375 -6.484375 2.90625 -6.640625 2.5 -6.640625 C 1.890625 -6.640625 1.171875 -6.375 0.75 -5.453125 C 0.4375 -4.765625 0.390625 -3.984375 0.390625 -3.1875 C 0.390625 -2.4375 0.421875 -1.546875 0.84375 -0.78125 C 1.265625 0.015625 2 0.21875 2.484375 0.21875 C 3.015625 0.21875 3.78125 0.015625 4.21875 -0.9375 C 4.53125 -1.625 4.578125 -2.40625 4.578125 -3.1875 Z M 2.484375 0 C 2.09375 0 1.5 -0.25 1.328125 -1.203125 C 1.21875 -1.796875 1.21875 -2.71875 1.21875 -3.3125 C 1.21875 -3.953125 1.21875 -4.609375 1.296875 -5.140625 C 1.484375 -6.328125 2.234375 -6.421875 2.484375 -6.421875 C 2.8125 -6.421875 3.46875 -6.234375 3.65625 -5.25 C 3.765625 -4.6875 3.765625 -3.9375 3.765625 -3.3125 C 3.765625 -2.5625 3.765625 -1.890625 3.65625 -1.25 C 3.5 -0.296875 2.9375 0 2.484375 0 Z M 2.484375 0 \" style=\"stroke:none;\"/>\n</symbol>\n<symbol id=\"glyph1-0\" overflow=\"visible\">\n<path d=\"\" style=\"stroke:none;\"/>\n</symbol>\n<symbol id=\"glyph1-1\" overflow=\"visible\">\n<path d=\"M 4.25 -6.046875 C 4.328125 -6.328125 4.359375 -6.390625 4.484375 -6.421875 C 4.578125 -6.4375 4.90625 -6.4375 5.109375 -6.4375 C 6.125 -6.4375 6.5625 -6.40625 6.5625 -5.625 C 6.5625 -5.46875 6.53125 -5.078125 6.484375 -4.828125 C 6.484375 -4.78125 6.453125 -4.671875 6.453125 -4.640625 C 6.453125 -4.578125 6.484375 -4.5 6.578125 -4.5 C 6.6875 -4.5 6.703125 -4.578125 6.734375 -4.734375 L 7 -6.46875 C 7.015625 -6.515625 7.015625 -6.609375 7.015625 -6.640625 C 7.015625 -6.75 6.921875 -6.75 6.75 -6.75 L 1.21875 -6.75 C 0.984375 -6.75 0.96875 -6.734375 0.890625 -6.546875 L 0.296875 -4.796875 C 0.296875 -4.78125 0.234375 -4.640625 0.234375 -4.609375 C 0.234375 -4.5625 0.296875 -4.5 0.359375 -4.5 C 0.453125 -4.5 0.46875 -4.5625 0.53125 -4.71875 C 1.0625 -6.265625 1.328125 -6.4375 2.796875 -6.4375 L 3.1875 -6.4375 C 3.46875 -6.4375 3.46875 -6.40625 3.46875 -6.3125 C 3.46875 -6.265625 3.4375 -6.140625 3.421875 -6.109375 L 2.09375 -0.78125 C 2 -0.421875 1.96875 -0.3125 0.90625 -0.3125 C 0.546875 -0.3125 0.484375 -0.3125 0.484375 -0.125 C 0.484375 0 0.59375 0 0.65625 0 C 0.921875 0 1.203125 -0.015625 1.46875 -0.015625 C 1.75 -0.015625 2.046875 -0.03125 2.328125 -0.03125 C 2.609375 -0.03125 2.875 -0.015625 3.15625 -0.015625 C 3.4375 -0.015625 3.734375 0 4.015625 0 C 4.109375 0 4.234375 0 4.234375 -0.203125 C 4.234375 -0.3125 4.15625 -0.3125 3.890625 -0.3125 C 3.65625 -0.3125 3.515625 -0.3125 3.265625 -0.328125 C 2.96875 -0.359375 2.890625 -0.390625 2.890625 -0.546875 C 2.890625 -0.5625 2.890625 -0.609375 2.9375 -0.75 Z M 4.25 -6.046875 \" style=\"stroke:none;\"/>\n</symbol>\n</g>\n<clipPath id=\"clip1\">\n  <path d=\"M 0 2 L 170.875 2 L 170.875 4 L 0 4 Z M 0 2 \"/>\n</clipPath>\n</defs>\n<g id=\"surface1\">\n<g clip-path=\"url(#clip1)\" clip-rule=\"nonzero\">\n<path d=\"M -14.173563 -0.00115625 L 155.908469 -0.00115625 \" style=\"fill:none;stroke-width:0.79701;stroke-linecap:butt;stroke-linejoin:miter;stroke:rgb(0%,0%,0%);stroke-opacity:1;stroke-miterlimit:10;\" transform=\"matrix(1,0,0,-1,14.572,3.034)\"/>\n</g>\n<path d=\"M -0.0016875 2.834781 L -0.0016875 -2.833187 \" style=\"fill:none;stroke-width:0.3985;stroke-linecap:butt;stroke-linejoin:miter;stroke:rgb(0%,0%,0%);stroke-opacity:1;stroke-miterlimit:10;\" transform=\"matrix(1,0,0,-1,14.572,3.034)\"/>\n<g style=\"fill:rgb(0%,0%,0%);fill-opacity:1;\">\n  <use x=\"18.091\" xlink:href=\"#glyph0-1\" y=\"15.809\"/>\n</g>\n<path d=\"M 141.732687 2.834781 L 141.732687 -2.833187 \" style=\"fill:none;stroke-width:0.3985;stroke-linecap:butt;stroke-linejoin:miter;stroke:rgb(0%,0%,0%);stroke-opacity:1;stroke-miterlimit:10;\" transform=\"matrix(1,0,0,-1,14.572,3.034)\"/>\n<g style=\"fill:rgb(0%,0%,0%);fill-opacity:1;\">\n  <use x=\"159.824\" xlink:href=\"#glyph1-1\" y=\"16.196\"/>\n</g>\n</g>\n</svg>"
     },
     "metadata": {
      "isolated": "true",
      "tags": []
     },
     "output_type": "display_data"
    }
   ],
   "source": [
    "#@title flow diagram { vertical-output: true }\n",
    "\n",
    "%%tikz -S test_output.tikz -f svg\n",
    "\\draw [thick] (-0.5,0) -- (5.5,0);\n",
    "\\draw (0,0.1) -- (0,-0.1) node [below right] {$0$};\n",
    "\\draw (5,0.1) -- (5,-0.1) node [below right] {$T$};\n"
   ]
  },
  {
   "cell_type": "markdown",
   "metadata": {
    "id": "81wFFNIfEewg"
   },
   "source": [
    "We always love to have money. So in this diagram, the upward arrow means we recieve a certain amount of money at time 0."
   ]
  },
  {
   "cell_type": "code",
   "execution_count": 5,
   "metadata": {
    "cellView": "form",
    "colab": {
     "base_uri": "https://localhost:8080/",
     "height": 0
    },
    "id": "mJ1VTyBIF9hu",
    "outputId": "ca4d28e6-0229-439e-c28e-848cb68a86ac"
   },
   "outputs": [
    {
     "data": {
      "image/svg+xml": "<svg height=\"240px\" version=\"1.1\" viewBox=\"0 0 170.876 45.029\" width=\"400px\" xmlns=\"http://www.w3.org/2000/svg\" xmlns:xlink=\"http://www.w3.org/1999/xlink\">\n<defs>\n<g>\n<symbol id=\"glyph0-0\" overflow=\"visible\">\n<path d=\"\" style=\"stroke:none;\"/>\n</symbol>\n<symbol id=\"glyph0-1\" overflow=\"visible\">\n<path d=\"M 4.578125 -3.1875 C 4.578125 -3.984375 4.53125 -4.78125 4.1875 -5.515625 C 3.734375 -6.484375 2.90625 -6.640625 2.5 -6.640625 C 1.890625 -6.640625 1.171875 -6.375 0.75 -5.453125 C 0.4375 -4.765625 0.390625 -3.984375 0.390625 -3.1875 C 0.390625 -2.4375 0.421875 -1.546875 0.84375 -0.78125 C 1.265625 0.015625 2 0.21875 2.484375 0.21875 C 3.015625 0.21875 3.78125 0.015625 4.21875 -0.9375 C 4.53125 -1.625 4.578125 -2.40625 4.578125 -3.1875 Z M 2.484375 0 C 2.09375 0 1.5 -0.25 1.328125 -1.203125 C 1.21875 -1.796875 1.21875 -2.71875 1.21875 -3.3125 C 1.21875 -3.953125 1.21875 -4.609375 1.296875 -5.140625 C 1.484375 -6.328125 2.234375 -6.421875 2.484375 -6.421875 C 2.8125 -6.421875 3.46875 -6.234375 3.65625 -5.25 C 3.765625 -4.6875 3.765625 -3.9375 3.765625 -3.3125 C 3.765625 -2.5625 3.765625 -1.890625 3.65625 -1.25 C 3.5 -0.296875 2.9375 0 2.484375 0 Z M 2.484375 0 \" style=\"stroke:none;\"/>\n</symbol>\n<symbol id=\"glyph1-0\" overflow=\"visible\">\n<path d=\"\" style=\"stroke:none;\"/>\n</symbol>\n<symbol id=\"glyph1-1\" overflow=\"visible\">\n<path d=\"M 4.25 -6.046875 C 4.328125 -6.328125 4.359375 -6.390625 4.484375 -6.421875 C 4.578125 -6.4375 4.90625 -6.4375 5.109375 -6.4375 C 6.125 -6.4375 6.5625 -6.40625 6.5625 -5.625 C 6.5625 -5.46875 6.53125 -5.078125 6.484375 -4.828125 C 6.484375 -4.78125 6.453125 -4.671875 6.453125 -4.640625 C 6.453125 -4.578125 6.484375 -4.5 6.578125 -4.5 C 6.6875 -4.5 6.703125 -4.578125 6.734375 -4.734375 L 7 -6.46875 C 7.015625 -6.515625 7.015625 -6.609375 7.015625 -6.640625 C 7.015625 -6.75 6.921875 -6.75 6.75 -6.75 L 1.21875 -6.75 C 0.984375 -6.75 0.96875 -6.734375 0.890625 -6.546875 L 0.296875 -4.796875 C 0.296875 -4.78125 0.234375 -4.640625 0.234375 -4.609375 C 0.234375 -4.5625 0.296875 -4.5 0.359375 -4.5 C 0.453125 -4.5 0.46875 -4.5625 0.53125 -4.71875 C 1.0625 -6.265625 1.328125 -6.4375 2.796875 -6.4375 L 3.1875 -6.4375 C 3.46875 -6.4375 3.46875 -6.40625 3.46875 -6.3125 C 3.46875 -6.265625 3.4375 -6.140625 3.421875 -6.109375 L 2.09375 -0.78125 C 2 -0.421875 1.96875 -0.3125 0.90625 -0.3125 C 0.546875 -0.3125 0.484375 -0.3125 0.484375 -0.125 C 0.484375 0 0.59375 0 0.65625 0 C 0.921875 0 1.203125 -0.015625 1.46875 -0.015625 C 1.75 -0.015625 2.046875 -0.03125 2.328125 -0.03125 C 2.609375 -0.03125 2.875 -0.015625 3.15625 -0.015625 C 3.4375 -0.015625 3.734375 0 4.015625 0 C 4.109375 0 4.234375 0 4.234375 -0.203125 C 4.234375 -0.3125 4.15625 -0.3125 3.890625 -0.3125 C 3.65625 -0.3125 3.515625 -0.3125 3.265625 -0.328125 C 2.96875 -0.359375 2.890625 -0.390625 2.890625 -0.546875 C 2.890625 -0.5625 2.890625 -0.609375 2.9375 -0.75 Z M 4.25 -6.046875 \" style=\"stroke:none;\"/>\n</symbol>\n</g>\n<clipPath id=\"clip1\">\n  <path d=\"M 0 28 L 170.875 28 L 170.875 29 L 0 29 Z M 0 28 \"/>\n</clipPath>\n</defs>\n<g id=\"surface1\">\n<g clip-path=\"url(#clip1)\" clip-rule=\"nonzero\">\n<path d=\"M -14.173563 -0.000875 L 155.908469 -0.000875 \" style=\"fill:none;stroke-width:0.79701;stroke-linecap:butt;stroke-linejoin:miter;stroke:rgb(0%,0%,0%);stroke-opacity:1;stroke-miterlimit:10;\" transform=\"matrix(1,0,0,-1,14.572,28.546)\"/>\n</g>\n<path d=\"M -0.0016875 2.835063 L -0.0016875 -2.832906 \" style=\"fill:none;stroke-width:0.3985;stroke-linecap:butt;stroke-linejoin:miter;stroke:rgb(0%,0%,0%);stroke-opacity:1;stroke-miterlimit:10;\" transform=\"matrix(1,0,0,-1,14.572,28.546)\"/>\n<g style=\"fill:rgb(0%,0%,0%);fill-opacity:1;\">\n  <use x=\"18.091\" xlink:href=\"#glyph0-1\" y=\"41.321\"/>\n</g>\n<path d=\"M 141.732687 2.835063 L 141.732687 -2.832906 \" style=\"fill:none;stroke-width:0.3985;stroke-linecap:butt;stroke-linejoin:miter;stroke:rgb(0%,0%,0%);stroke-opacity:1;stroke-miterlimit:10;\" transform=\"matrix(1,0,0,-1,14.572,28.546)\"/>\n<g style=\"fill:rgb(0%,0%,0%);fill-opacity:1;\">\n  <use x=\"159.824\" xlink:href=\"#glyph1-1\" y=\"41.708\"/>\n</g>\n<path d=\"M -0.0016875 -0.000875 L -0.0016875 27.88975 \" style=\"fill:none;stroke-width:0.3985;stroke-linecap:butt;stroke-linejoin:miter;stroke:rgb(0%,0%,0%);stroke-opacity:1;stroke-miterlimit:10;\" transform=\"matrix(1,0,0,-1,14.572,28.546)\"/>\n<path d=\"M -1.194082 1.595438 C -1.096426 0.997781 0.00123 0.0993438 0.298105 0.0016875 C 0.00123 -0.099875 -1.096426 -0.994406 -1.194082 -1.592062 \" style=\"fill:none;stroke-width:0.31879;stroke-linecap:round;stroke-linejoin:round;stroke:rgb(0%,0%,0%);stroke-opacity:1;stroke-miterlimit:10;\" transform=\"matrix(0,-1,-1,0,14.572,0.65748)\"/>\n</g>\n</svg>"
     },
     "metadata": {
      "isolated": "true",
      "tags": []
     },
     "output_type": "display_data"
    }
   ],
   "source": [
    "#@title receive money { vertical-output: true }\n",
    "\n",
    "%%tikz -S test_output.tikz -f svg\n",
    "\\draw [thick] (-0.5,0) -- (5.5,0);\n",
    "\\draw (0,0.1) -- (0,-0.1) node [below right] {$0$};\n",
    "\\draw (5,0.1) -- (5,-0.1) node [below right] {$T$};\n",
    "\n",
    "\\draw [->] (0,0) -- (0,1) ;\n"
   ]
  },
  {
   "cell_type": "markdown",
   "metadata": {
    "id": "wbp9iH8tGfR-"
   },
   "source": [
    "Now we draw the diagram in opposite way. This means that I pay a certain amount of money to someone. I don't know who that someone is."
   ]
  },
  {
   "cell_type": "code",
   "execution_count": 6,
   "metadata": {
    "cellView": "form",
    "colab": {
     "base_uri": "https://localhost:8080/",
     "height": 0
    },
    "id": "SlSkEOewT7qd",
    "outputId": "d7f37cdd-479b-40dd-ec65-4833c991d187"
   },
   "outputs": [
    {
     "data": {
      "image/svg+xml": "<svg height=\"240px\" version=\"1.1\" viewBox=\"0 0 170.876 31.58\" width=\"400px\" xmlns=\"http://www.w3.org/2000/svg\" xmlns:xlink=\"http://www.w3.org/1999/xlink\">\n<defs>\n<g>\n<symbol id=\"glyph0-0\" overflow=\"visible\">\n<path d=\"\" style=\"stroke:none;\"/>\n</symbol>\n<symbol id=\"glyph0-1\" overflow=\"visible\">\n<path d=\"M 4.578125 -3.1875 C 4.578125 -3.984375 4.53125 -4.78125 4.1875 -5.515625 C 3.734375 -6.484375 2.90625 -6.640625 2.5 -6.640625 C 1.890625 -6.640625 1.171875 -6.375 0.75 -5.453125 C 0.4375 -4.765625 0.390625 -3.984375 0.390625 -3.1875 C 0.390625 -2.4375 0.421875 -1.546875 0.84375 -0.78125 C 1.265625 0.015625 2 0.21875 2.484375 0.21875 C 3.015625 0.21875 3.78125 0.015625 4.21875 -0.9375 C 4.53125 -1.625 4.578125 -2.40625 4.578125 -3.1875 Z M 2.484375 0 C 2.09375 0 1.5 -0.25 1.328125 -1.203125 C 1.21875 -1.796875 1.21875 -2.71875 1.21875 -3.3125 C 1.21875 -3.953125 1.21875 -4.609375 1.296875 -5.140625 C 1.484375 -6.328125 2.234375 -6.421875 2.484375 -6.421875 C 2.8125 -6.421875 3.46875 -6.234375 3.65625 -5.25 C 3.765625 -4.6875 3.765625 -3.9375 3.765625 -3.3125 C 3.765625 -2.5625 3.765625 -1.890625 3.65625 -1.25 C 3.5 -0.296875 2.9375 0 2.484375 0 Z M 2.484375 0 \" style=\"stroke:none;\"/>\n</symbol>\n<symbol id=\"glyph1-0\" overflow=\"visible\">\n<path d=\"\" style=\"stroke:none;\"/>\n</symbol>\n<symbol id=\"glyph1-1\" overflow=\"visible\">\n<path d=\"M 4.25 -6.046875 C 4.328125 -6.328125 4.359375 -6.390625 4.484375 -6.421875 C 4.578125 -6.4375 4.90625 -6.4375 5.109375 -6.4375 C 6.125 -6.4375 6.5625 -6.40625 6.5625 -5.625 C 6.5625 -5.46875 6.53125 -5.078125 6.484375 -4.828125 C 6.484375 -4.78125 6.453125 -4.671875 6.453125 -4.640625 C 6.453125 -4.578125 6.484375 -4.5 6.578125 -4.5 C 6.6875 -4.5 6.703125 -4.578125 6.734375 -4.734375 L 7 -6.46875 C 7.015625 -6.515625 7.015625 -6.609375 7.015625 -6.640625 C 7.015625 -6.75 6.921875 -6.75 6.75 -6.75 L 1.21875 -6.75 C 0.984375 -6.75 0.96875 -6.734375 0.890625 -6.546875 L 0.296875 -4.796875 C 0.296875 -4.78125 0.234375 -4.640625 0.234375 -4.609375 C 0.234375 -4.5625 0.296875 -4.5 0.359375 -4.5 C 0.453125 -4.5 0.46875 -4.5625 0.53125 -4.71875 C 1.0625 -6.265625 1.328125 -6.4375 2.796875 -6.4375 L 3.1875 -6.4375 C 3.46875 -6.4375 3.46875 -6.40625 3.46875 -6.3125 C 3.46875 -6.265625 3.4375 -6.140625 3.421875 -6.109375 L 2.09375 -0.78125 C 2 -0.421875 1.96875 -0.3125 0.90625 -0.3125 C 0.546875 -0.3125 0.484375 -0.3125 0.484375 -0.125 C 0.484375 0 0.59375 0 0.65625 0 C 0.921875 0 1.203125 -0.015625 1.46875 -0.015625 C 1.75 -0.015625 2.046875 -0.03125 2.328125 -0.03125 C 2.609375 -0.03125 2.875 -0.015625 3.15625 -0.015625 C 3.4375 -0.015625 3.734375 0 4.015625 0 C 4.109375 0 4.234375 0 4.234375 -0.203125 C 4.234375 -0.3125 4.15625 -0.3125 3.890625 -0.3125 C 3.65625 -0.3125 3.515625 -0.3125 3.265625 -0.328125 C 2.96875 -0.359375 2.890625 -0.390625 2.890625 -0.546875 C 2.890625 -0.5625 2.890625 -0.609375 2.9375 -0.75 Z M 4.25 -6.046875 \" style=\"stroke:none;\"/>\n</symbol>\n</g>\n<clipPath id=\"clip1\">\n  <path d=\"M 0 2 L 170.875 2 L 170.875 4 L 0 4 Z M 0 2 \"/>\n</clipPath>\n<clipPath id=\"clip2\">\n  <path d=\"M 14 2 L 15 2 L 15 31.578125 L 14 31.578125 Z M 14 2 \"/>\n</clipPath>\n<clipPath id=\"clip3\">\n  <path d=\"M 12 29 L 17 29 L 17 31.578125 L 12 31.578125 Z M 12 29 \"/>\n</clipPath>\n</defs>\n<g id=\"surface1\">\n<g clip-path=\"url(#clip1)\" clip-rule=\"nonzero\">\n<path d=\"M -14.173563 -0.00115625 L 155.908469 -0.00115625 \" style=\"fill:none;stroke-width:0.79701;stroke-linecap:butt;stroke-linejoin:miter;stroke:rgb(0%,0%,0%);stroke-opacity:1;stroke-miterlimit:10;\" transform=\"matrix(1,0,0,-1,14.572,3.034)\"/>\n</g>\n<path d=\"M -0.0016875 2.834781 L -0.0016875 -2.833188 \" style=\"fill:none;stroke-width:0.3985;stroke-linecap:butt;stroke-linejoin:miter;stroke:rgb(0%,0%,0%);stroke-opacity:1;stroke-miterlimit:10;\" transform=\"matrix(1,0,0,-1,14.572,3.034)\"/>\n<g style=\"fill:rgb(0%,0%,0%);fill-opacity:1;\">\n  <use x=\"18.091\" xlink:href=\"#glyph0-1\" y=\"15.809\"/>\n</g>\n<path d=\"M 141.732687 2.834781 L 141.732687 -2.833188 \" style=\"fill:none;stroke-width:0.3985;stroke-linecap:butt;stroke-linejoin:miter;stroke:rgb(0%,0%,0%);stroke-opacity:1;stroke-miterlimit:10;\" transform=\"matrix(1,0,0,-1,14.572,3.034)\"/>\n<g style=\"fill:rgb(0%,0%,0%);fill-opacity:1;\">\n  <use x=\"159.824\" xlink:href=\"#glyph1-1\" y=\"16.197\"/>\n</g>\n<g clip-path=\"url(#clip2)\" clip-rule=\"nonzero\">\n<path d=\"M -0.0016875 -0.00115625 L -0.0016875 -27.887875 \" style=\"fill:none;stroke-width:0.3985;stroke-linecap:butt;stroke-linejoin:miter;stroke:rgb(0%,0%,0%);stroke-opacity:1;stroke-miterlimit:10;\" transform=\"matrix(1,0,0,-1,14.572,3.034)\"/>\n</g>\n<g clip-path=\"url(#clip3)\" clip-rule=\"nonzero\">\n<path d=\"M -1.195957 1.592062 C -1.094395 0.994406 -0.000645 0.099875 0.300136 -0.0016875 C -0.000645 -0.0993438 -1.094395 -0.997781 -1.195957 -1.595438 \" style=\"fill:none;stroke-width:0.31879;stroke-linecap:round;stroke-linejoin:round;stroke:rgb(0%,0%,0%);stroke-opacity:1;stroke-miterlimit:10;\" transform=\"matrix(0,1,1,0,14.572,30.92252)\"/>\n</g>\n</g>\n</svg>"
     },
     "metadata": {
      "isolated": "true",
      "tags": []
     },
     "output_type": "display_data"
    }
   ],
   "source": [
    "#@title pay money { vertical-output: true }\n",
    "\n",
    "%%tikz -S test_output.tikz -f svg\n",
    "\\draw [thick] (-0.5,0) -- (5.5,0);\n",
    "\\draw (0,0.1) -- (0,-0.1) node [below right] {$0$};\n",
    "\\draw (5,0.1) -- (5,-0.1) node [below right] {$T$};\n",
    "\n",
    "\\draw [->] (0,0) -- (0,-1) ;"
   ]
  },
  {
   "cell_type": "markdown",
   "metadata": {
    "id": "Y9FZdHotG21g"
   },
   "source": [
    "Once we understand the flow diagram, we are able to express the oldest transaction in human history, which is a barter system."
   ]
  },
  {
   "cell_type": "code",
   "execution_count": 7,
   "metadata": {
    "cellView": "form",
    "colab": {
     "base_uri": "https://localhost:8080/",
     "height": 0
    },
    "id": "hnL7kTTGUkNd",
    "outputId": "4b6aee6f-b7d9-40b7-e57f-2377289b179f"
   },
   "outputs": [
    {
     "data": {
      "image/svg+xml": "<svg height=\"240px\" version=\"1.1\" viewBox=\"0 0 170.876 57.091\" width=\"400px\" xmlns=\"http://www.w3.org/2000/svg\" xmlns:xlink=\"http://www.w3.org/1999/xlink\">\n<defs>\n<g>\n<symbol id=\"glyph0-0\" overflow=\"visible\">\n<path d=\"\" style=\"stroke:none;\"/>\n</symbol>\n<symbol id=\"glyph0-1\" overflow=\"visible\">\n<path d=\"M 4.578125 -3.1875 C 4.578125 -3.984375 4.53125 -4.78125 4.1875 -5.515625 C 3.734375 -6.484375 2.90625 -6.640625 2.5 -6.640625 C 1.890625 -6.640625 1.171875 -6.375 0.75 -5.453125 C 0.4375 -4.765625 0.390625 -3.984375 0.390625 -3.1875 C 0.390625 -2.4375 0.421875 -1.546875 0.84375 -0.78125 C 1.265625 0.015625 2 0.21875 2.484375 0.21875 C 3.015625 0.21875 3.78125 0.015625 4.21875 -0.9375 C 4.53125 -1.625 4.578125 -2.40625 4.578125 -3.1875 Z M 2.484375 0 C 2.09375 0 1.5 -0.25 1.328125 -1.203125 C 1.21875 -1.796875 1.21875 -2.71875 1.21875 -3.3125 C 1.21875 -3.953125 1.21875 -4.609375 1.296875 -5.140625 C 1.484375 -6.328125 2.234375 -6.421875 2.484375 -6.421875 C 2.8125 -6.421875 3.46875 -6.234375 3.65625 -5.25 C 3.765625 -4.6875 3.765625 -3.9375 3.765625 -3.3125 C 3.765625 -2.5625 3.765625 -1.890625 3.65625 -1.25 C 3.5 -0.296875 2.9375 0 2.484375 0 Z M 2.484375 0 \" style=\"stroke:none;\"/>\n</symbol>\n<symbol id=\"glyph1-0\" overflow=\"visible\">\n<path d=\"\" style=\"stroke:none;\"/>\n</symbol>\n<symbol id=\"glyph1-1\" overflow=\"visible\">\n<path d=\"M 4.25 -6.046875 C 4.328125 -6.328125 4.359375 -6.390625 4.484375 -6.421875 C 4.578125 -6.4375 4.90625 -6.4375 5.109375 -6.4375 C 6.125 -6.4375 6.5625 -6.40625 6.5625 -5.625 C 6.5625 -5.46875 6.53125 -5.078125 6.484375 -4.828125 C 6.484375 -4.78125 6.453125 -4.671875 6.453125 -4.640625 C 6.453125 -4.578125 6.484375 -4.5 6.578125 -4.5 C 6.6875 -4.5 6.703125 -4.578125 6.734375 -4.734375 L 7 -6.46875 C 7.015625 -6.515625 7.015625 -6.609375 7.015625 -6.640625 C 7.015625 -6.75 6.921875 -6.75 6.75 -6.75 L 1.21875 -6.75 C 0.984375 -6.75 0.96875 -6.734375 0.890625 -6.546875 L 0.296875 -4.796875 C 0.296875 -4.78125 0.234375 -4.640625 0.234375 -4.609375 C 0.234375 -4.5625 0.296875 -4.5 0.359375 -4.5 C 0.453125 -4.5 0.46875 -4.5625 0.53125 -4.71875 C 1.0625 -6.265625 1.328125 -6.4375 2.796875 -6.4375 L 3.1875 -6.4375 C 3.46875 -6.4375 3.46875 -6.40625 3.46875 -6.3125 C 3.46875 -6.265625 3.4375 -6.140625 3.421875 -6.109375 L 2.09375 -0.78125 C 2 -0.421875 1.96875 -0.3125 0.90625 -0.3125 C 0.546875 -0.3125 0.484375 -0.3125 0.484375 -0.125 C 0.484375 0 0.59375 0 0.65625 0 C 0.921875 0 1.203125 -0.015625 1.46875 -0.015625 C 1.75 -0.015625 2.046875 -0.03125 2.328125 -0.03125 C 2.609375 -0.03125 2.875 -0.015625 3.15625 -0.015625 C 3.4375 -0.015625 3.734375 0 4.015625 0 C 4.109375 0 4.234375 0 4.234375 -0.203125 C 4.234375 -0.3125 4.15625 -0.3125 3.890625 -0.3125 C 3.65625 -0.3125 3.515625 -0.3125 3.265625 -0.328125 C 2.96875 -0.359375 2.890625 -0.390625 2.890625 -0.546875 C 2.890625 -0.5625 2.890625 -0.609375 2.9375 -0.75 Z M 4.25 -6.046875 \" style=\"stroke:none;\"/>\n</symbol>\n</g>\n<clipPath id=\"clip1\">\n  <path d=\"M 0 28 L 170.875 28 L 170.875 29 L 0 29 Z M 0 28 \"/>\n</clipPath>\n</defs>\n<g id=\"surface1\">\n<g clip-path=\"url(#clip1)\" clip-rule=\"nonzero\">\n<path d=\"M -14.173563 -0.001875 L 155.908469 -0.001875 \" style=\"fill:none;stroke-width:0.79701;stroke-linecap:butt;stroke-linejoin:miter;stroke:rgb(0%,0%,0%);stroke-opacity:1;stroke-miterlimit:10;\" transform=\"matrix(1,0,0,-1,14.572,28.545)\"/>\n</g>\n<path d=\"M -0.0016875 2.834063 L -0.0016875 -2.833906 \" style=\"fill:none;stroke-width:0.3985;stroke-linecap:butt;stroke-linejoin:miter;stroke:rgb(0%,0%,0%);stroke-opacity:1;stroke-miterlimit:10;\" transform=\"matrix(1,0,0,-1,14.572,28.545)\"/>\n<g style=\"fill:rgb(0%,0%,0%);fill-opacity:1;\">\n  <use x=\"18.091\" xlink:href=\"#glyph0-1\" y=\"41.32\"/>\n</g>\n<path d=\"M 141.732687 2.834063 L 141.732687 -2.833906 \" style=\"fill:none;stroke-width:0.3985;stroke-linecap:butt;stroke-linejoin:miter;stroke:rgb(0%,0%,0%);stroke-opacity:1;stroke-miterlimit:10;\" transform=\"matrix(1,0,0,-1,14.572,28.545)\"/>\n<g style=\"fill:rgb(0%,0%,0%);fill-opacity:1;\">\n  <use x=\"159.824\" xlink:href=\"#glyph1-1\" y=\"41.708\"/>\n</g>\n<path d=\"M -0.0016875 -0.001875 L -0.0016875 27.88875 \" style=\"fill:none;stroke-width:0.3985;stroke-linecap:butt;stroke-linejoin:miter;stroke:rgb(100%,94.898987%,0%);stroke-opacity:1;stroke-miterlimit:10;\" transform=\"matrix(1,0,0,-1,14.572,28.545)\"/>\n<path d=\"M -1.195082 1.595438 C -1.097426 0.997781 0.00023 0.0993438 0.297105 0.0016875 C 0.00023 -0.099875 -1.097426 -0.994406 -1.195082 -1.592062 \" style=\"fill:none;stroke-width:0.31879;stroke-linecap:round;stroke-linejoin:round;stroke:rgb(100%,94.898987%,0%);stroke-opacity:1;stroke-miterlimit:10;\" transform=\"matrix(0,-1,-1,0,14.572,0.65648)\"/>\n<path d=\"M -0.0016875 -0.001875 L -0.0016875 -27.888594 \" style=\"fill:none;stroke-width:0.3985;stroke-linecap:butt;stroke-linejoin:miter;stroke:rgb(100%,0%,0%);stroke-opacity:1;stroke-miterlimit:10;\" transform=\"matrix(1,0,0,-1,14.572,28.545)\"/>\n<path d=\"M -1.195239 1.592062 C -1.097583 0.994406 0.00007375 0.099875 0.296949 -0.0016875 C 0.00007375 -0.0993438 -1.097583 -0.997781 -1.195239 -1.595438 \" style=\"fill:none;stroke-width:0.31879;stroke-linecap:round;stroke-linejoin:round;stroke:rgb(100%,0%,0%);stroke-opacity:1;stroke-miterlimit:10;\" transform=\"matrix(0,1,1,0,14.572,56.43352)\"/>\n</g>\n</svg>"
     },
     "metadata": {
      "isolated": "true",
      "tags": []
     },
     "output_type": "display_data"
    }
   ],
   "source": [
    "#@title apple vs. banana { vertical-output: true }\n",
    "\n",
    "%%tikz -S test_output.tikz -f svg\n",
    "\\draw [thick] (-0.5,0) -- (5.5,0);\n",
    "\\draw (0,0.1) -- (0,-0.1) node [below right] {$0$};\n",
    "\\draw (5,0.1) -- (5,-0.1) node [below right] {$T$};\n",
    "\n",
    "\\draw [color=yellow, ->] (0,0) -- (0,1) ;\n",
    "\\draw [color=red, ->] (0,0) -- (0,-1) ;"
   ]
  },
  {
   "cell_type": "code",
   "execution_count": 8,
   "metadata": {
    "colab": {
     "base_uri": "https://localhost:8080/",
     "height": 0
    },
    "id": "XA7nLViPU8vd",
    "outputId": "8de063a9-de2c-417b-e4fb-ea1d53ebd94f"
   },
   "outputs": [
    {
     "data": {
      "image/svg+xml": "<svg height=\"240px\" version=\"1.1\" viewBox=\"0 0 170.876 57.091\" width=\"400px\" xmlns=\"http://www.w3.org/2000/svg\" xmlns:xlink=\"http://www.w3.org/1999/xlink\">\n<defs>\n<g>\n<symbol id=\"glyph0-0\" overflow=\"visible\">\n<path d=\"\" style=\"stroke:none;\"/>\n</symbol>\n<symbol id=\"glyph0-1\" overflow=\"visible\">\n<path d=\"M 4.578125 -3.1875 C 4.578125 -3.984375 4.53125 -4.78125 4.1875 -5.515625 C 3.734375 -6.484375 2.90625 -6.640625 2.5 -6.640625 C 1.890625 -6.640625 1.171875 -6.375 0.75 -5.453125 C 0.4375 -4.765625 0.390625 -3.984375 0.390625 -3.1875 C 0.390625 -2.4375 0.421875 -1.546875 0.84375 -0.78125 C 1.265625 0.015625 2 0.21875 2.484375 0.21875 C 3.015625 0.21875 3.78125 0.015625 4.21875 -0.9375 C 4.53125 -1.625 4.578125 -2.40625 4.578125 -3.1875 Z M 2.484375 0 C 2.09375 0 1.5 -0.25 1.328125 -1.203125 C 1.21875 -1.796875 1.21875 -2.71875 1.21875 -3.3125 C 1.21875 -3.953125 1.21875 -4.609375 1.296875 -5.140625 C 1.484375 -6.328125 2.234375 -6.421875 2.484375 -6.421875 C 2.8125 -6.421875 3.46875 -6.234375 3.65625 -5.25 C 3.765625 -4.6875 3.765625 -3.9375 3.765625 -3.3125 C 3.765625 -2.5625 3.765625 -1.890625 3.65625 -1.25 C 3.5 -0.296875 2.9375 0 2.484375 0 Z M 2.484375 0 \" style=\"stroke:none;\"/>\n</symbol>\n<symbol id=\"glyph1-0\" overflow=\"visible\">\n<path d=\"\" style=\"stroke:none;\"/>\n</symbol>\n<symbol id=\"glyph1-1\" overflow=\"visible\">\n<path d=\"M 4.25 -6.046875 C 4.328125 -6.328125 4.359375 -6.390625 4.484375 -6.421875 C 4.578125 -6.4375 4.90625 -6.4375 5.109375 -6.4375 C 6.125 -6.4375 6.5625 -6.40625 6.5625 -5.625 C 6.5625 -5.46875 6.53125 -5.078125 6.484375 -4.828125 C 6.484375 -4.78125 6.453125 -4.671875 6.453125 -4.640625 C 6.453125 -4.578125 6.484375 -4.5 6.578125 -4.5 C 6.6875 -4.5 6.703125 -4.578125 6.734375 -4.734375 L 7 -6.46875 C 7.015625 -6.515625 7.015625 -6.609375 7.015625 -6.640625 C 7.015625 -6.75 6.921875 -6.75 6.75 -6.75 L 1.21875 -6.75 C 0.984375 -6.75 0.96875 -6.734375 0.890625 -6.546875 L 0.296875 -4.796875 C 0.296875 -4.78125 0.234375 -4.640625 0.234375 -4.609375 C 0.234375 -4.5625 0.296875 -4.5 0.359375 -4.5 C 0.453125 -4.5 0.46875 -4.5625 0.53125 -4.71875 C 1.0625 -6.265625 1.328125 -6.4375 2.796875 -6.4375 L 3.1875 -6.4375 C 3.46875 -6.4375 3.46875 -6.40625 3.46875 -6.3125 C 3.46875 -6.265625 3.4375 -6.140625 3.421875 -6.109375 L 2.09375 -0.78125 C 2 -0.421875 1.96875 -0.3125 0.90625 -0.3125 C 0.546875 -0.3125 0.484375 -0.3125 0.484375 -0.125 C 0.484375 0 0.59375 0 0.65625 0 C 0.921875 0 1.203125 -0.015625 1.46875 -0.015625 C 1.75 -0.015625 2.046875 -0.03125 2.328125 -0.03125 C 2.609375 -0.03125 2.875 -0.015625 3.15625 -0.015625 C 3.4375 -0.015625 3.734375 0 4.015625 0 C 4.109375 0 4.234375 0 4.234375 -0.203125 C 4.234375 -0.3125 4.15625 -0.3125 3.890625 -0.3125 C 3.65625 -0.3125 3.515625 -0.3125 3.265625 -0.328125 C 2.96875 -0.359375 2.890625 -0.390625 2.890625 -0.546875 C 2.890625 -0.5625 2.890625 -0.609375 2.9375 -0.75 Z M 4.25 -6.046875 \" style=\"stroke:none;\"/>\n</symbol>\n</g>\n<clipPath id=\"clip1\">\n  <path d=\"M 0 28 L 170.875 28 L 170.875 29 L 0 29 Z M 0 28 \"/>\n</clipPath>\n</defs>\n<g id=\"surface1\">\n<g clip-path=\"url(#clip1)\" clip-rule=\"nonzero\">\n<path d=\"M -14.173563 85.042031 L 155.908469 85.042031 \" style=\"fill:none;stroke-width:0.79701;stroke-linecap:butt;stroke-linejoin:miter;stroke:rgb(0%,0%,0%);stroke-opacity:1;stroke-miterlimit:10;\" transform=\"matrix(1,0,0,-1,14.572,113.585)\"/>\n</g>\n<path d=\"M -0.0016875 87.874063 L -0.0016875 82.206094 \" style=\"fill:none;stroke-width:0.3985;stroke-linecap:butt;stroke-linejoin:miter;stroke:rgb(0%,0%,0%);stroke-opacity:1;stroke-miterlimit:10;\" transform=\"matrix(1,0,0,-1,14.572,113.585)\"/>\n<g style=\"fill:rgb(0%,0%,0%);fill-opacity:1;\">\n  <use x=\"18.091\" xlink:href=\"#glyph0-1\" y=\"41.32\"/>\n</g>\n<path d=\"M 141.732687 87.874063 L 141.732687 82.206094 \" style=\"fill:none;stroke-width:0.3985;stroke-linecap:butt;stroke-linejoin:miter;stroke:rgb(0%,0%,0%);stroke-opacity:1;stroke-miterlimit:10;\" transform=\"matrix(1,0,0,-1,14.572,113.585)\"/>\n<g style=\"fill:rgb(0%,0%,0%);fill-opacity:1;\">\n  <use x=\"159.824\" xlink:href=\"#glyph1-1\" y=\"41.708\"/>\n</g>\n<path d=\"M -0.0016875 85.042031 L -0.0016875 112.92875 \" style=\"fill:none;stroke-width:0.3985;stroke-linecap:butt;stroke-linejoin:miter;stroke:rgb(100%,94.898987%,0%);stroke-opacity:1;stroke-miterlimit:10;\" transform=\"matrix(1,0,0,-1,14.572,113.585)\"/>\n<path d=\"M -1.195522 1.595438 C -1.09396 0.997781 -0.00021 0.0993438 0.300571 0.0016875 C -0.00021 -0.099875 -1.09396 -0.994406 -1.195522 -1.592062 \" style=\"fill:none;stroke-width:0.31879;stroke-linecap:round;stroke-linejoin:round;stroke:rgb(100%,94.898987%,0%);stroke-opacity:1;stroke-miterlimit:10;\" transform=\"matrix(0,-1,-1,0,14.572,0.65604)\"/>\n<path d=\"M -0.0016875 85.042031 L -0.0016875 57.151406 \" style=\"fill:none;stroke-width:0.3985;stroke-linecap:butt;stroke-linejoin:miter;stroke:rgb(0%,0%,0%);stroke-opacity:1;stroke-miterlimit:10;\" transform=\"matrix(1,0,0,-1,14.572,113.585)\"/>\n<path d=\"M -1.194829 1.592062 C -1.097173 0.994406 0.00048375 0.099875 0.297359 -0.0016875 C 0.00048375 -0.0993438 -1.097173 -0.997781 -1.194829 -1.595438 \" style=\"fill:none;stroke-width:0.31879;stroke-linecap:round;stroke-linejoin:round;stroke:rgb(0%,0%,0%);stroke-opacity:1;stroke-miterlimit:10;\" transform=\"matrix(0,1,1,0,14.572,56.43311)\"/>\n</g>\n</svg>"
     },
     "metadata": {
      "isolated": "true",
      "tags": []
     },
     "output_type": "display_data"
    }
   ],
   "source": [
    "#@title apple vs. money { vertical-output: true }\n",
    "\n",
    "\n",
    "\n",
    "%%tikz -S test_output.tikz -f svg\n",
    "\n",
    "\n",
    "\\draw [thick] (-0.5,3) -- (5.5,3);\n",
    "\\draw (0,3.1) -- (0,2.9) node [below right] {$0$};\n",
    "\\draw (5,3.1) -- (5,2.9) node [below right] {$T$};\n",
    "\n",
    "\\draw [color=yellow, ->] (0,3) -- (0,4) ;\n",
    "\\draw [color=black, ->] (0,3) -- (0,2) ;\n",
    "\n",
    "\n",
    "\n"
   ]
  },
  {
   "cell_type": "code",
   "execution_count": 9,
   "metadata": {
    "colab": {
     "base_uri": "https://localhost:8080/",
     "height": 0
    },
    "id": "4VS01a3SMiiA",
    "outputId": "13c041e1-0d59-4ce4-db32-1784ac568d69"
   },
   "outputs": [
    {
     "data": {
      "image/svg+xml": "<svg height=\"240px\" version=\"1.1\" viewBox=\"0 0 170.876 57.091\" width=\"400px\" xmlns=\"http://www.w3.org/2000/svg\" xmlns:xlink=\"http://www.w3.org/1999/xlink\">\n<defs>\n<g>\n<symbol id=\"glyph0-0\" overflow=\"visible\">\n<path d=\"\" style=\"stroke:none;\"/>\n</symbol>\n<symbol id=\"glyph0-1\" overflow=\"visible\">\n<path d=\"M 4.578125 -3.1875 C 4.578125 -3.984375 4.53125 -4.78125 4.1875 -5.515625 C 3.734375 -6.484375 2.90625 -6.640625 2.5 -6.640625 C 1.890625 -6.640625 1.171875 -6.375 0.75 -5.453125 C 0.4375 -4.765625 0.390625 -3.984375 0.390625 -3.1875 C 0.390625 -2.4375 0.421875 -1.546875 0.84375 -0.78125 C 1.265625 0.015625 2 0.21875 2.484375 0.21875 C 3.015625 0.21875 3.78125 0.015625 4.21875 -0.9375 C 4.53125 -1.625 4.578125 -2.40625 4.578125 -3.1875 Z M 2.484375 0 C 2.09375 0 1.5 -0.25 1.328125 -1.203125 C 1.21875 -1.796875 1.21875 -2.71875 1.21875 -3.3125 C 1.21875 -3.953125 1.21875 -4.609375 1.296875 -5.140625 C 1.484375 -6.328125 2.234375 -6.421875 2.484375 -6.421875 C 2.8125 -6.421875 3.46875 -6.234375 3.65625 -5.25 C 3.765625 -4.6875 3.765625 -3.9375 3.765625 -3.3125 C 3.765625 -2.5625 3.765625 -1.890625 3.65625 -1.25 C 3.5 -0.296875 2.9375 0 2.484375 0 Z M 2.484375 0 \" style=\"stroke:none;\"/>\n</symbol>\n<symbol id=\"glyph1-0\" overflow=\"visible\">\n<path d=\"\" style=\"stroke:none;\"/>\n</symbol>\n<symbol id=\"glyph1-1\" overflow=\"visible\">\n<path d=\"M 4.25 -6.046875 C 4.328125 -6.328125 4.359375 -6.390625 4.484375 -6.421875 C 4.578125 -6.4375 4.90625 -6.4375 5.109375 -6.4375 C 6.125 -6.4375 6.5625 -6.40625 6.5625 -5.625 C 6.5625 -5.46875 6.53125 -5.078125 6.484375 -4.828125 C 6.484375 -4.78125 6.453125 -4.671875 6.453125 -4.640625 C 6.453125 -4.578125 6.484375 -4.5 6.578125 -4.5 C 6.6875 -4.5 6.703125 -4.578125 6.734375 -4.734375 L 7 -6.46875 C 7.015625 -6.515625 7.015625 -6.609375 7.015625 -6.640625 C 7.015625 -6.75 6.921875 -6.75 6.75 -6.75 L 1.21875 -6.75 C 0.984375 -6.75 0.96875 -6.734375 0.890625 -6.546875 L 0.296875 -4.796875 C 0.296875 -4.78125 0.234375 -4.640625 0.234375 -4.609375 C 0.234375 -4.5625 0.296875 -4.5 0.359375 -4.5 C 0.453125 -4.5 0.46875 -4.5625 0.53125 -4.71875 C 1.0625 -6.265625 1.328125 -6.4375 2.796875 -6.4375 L 3.1875 -6.4375 C 3.46875 -6.4375 3.46875 -6.40625 3.46875 -6.3125 C 3.46875 -6.265625 3.4375 -6.140625 3.421875 -6.109375 L 2.09375 -0.78125 C 2 -0.421875 1.96875 -0.3125 0.90625 -0.3125 C 0.546875 -0.3125 0.484375 -0.3125 0.484375 -0.125 C 0.484375 0 0.59375 0 0.65625 0 C 0.921875 0 1.203125 -0.015625 1.46875 -0.015625 C 1.75 -0.015625 2.046875 -0.03125 2.328125 -0.03125 C 2.609375 -0.03125 2.875 -0.015625 3.15625 -0.015625 C 3.4375 -0.015625 3.734375 0 4.015625 0 C 4.109375 0 4.234375 0 4.234375 -0.203125 C 4.234375 -0.3125 4.15625 -0.3125 3.890625 -0.3125 C 3.65625 -0.3125 3.515625 -0.3125 3.265625 -0.328125 C 2.96875 -0.359375 2.890625 -0.390625 2.890625 -0.546875 C 2.890625 -0.5625 2.890625 -0.609375 2.9375 -0.75 Z M 4.25 -6.046875 \" style=\"stroke:none;\"/>\n</symbol>\n</g>\n<clipPath id=\"clip1\">\n  <path d=\"M 0 28 L 170.875 28 L 170.875 29 L 0 29 Z M 0 28 \"/>\n</clipPath>\n</defs>\n<g id=\"surface1\">\n<g clip-path=\"url(#clip1)\" clip-rule=\"nonzero\">\n<path d=\"M -14.173563 -0.001875 L 155.908469 -0.001875 \" style=\"fill:none;stroke-width:0.79701;stroke-linecap:butt;stroke-linejoin:miter;stroke:rgb(0%,0%,0%);stroke-opacity:1;stroke-miterlimit:10;\" transform=\"matrix(1,0,0,-1,14.572,28.545)\"/>\n</g>\n<path d=\"M -0.0016875 2.834063 L -0.0016875 -2.833906 \" style=\"fill:none;stroke-width:0.3985;stroke-linecap:butt;stroke-linejoin:miter;stroke:rgb(0%,0%,0%);stroke-opacity:1;stroke-miterlimit:10;\" transform=\"matrix(1,0,0,-1,14.572,28.545)\"/>\n<g style=\"fill:rgb(0%,0%,0%);fill-opacity:1;\">\n  <use x=\"18.091\" xlink:href=\"#glyph0-1\" y=\"41.32\"/>\n</g>\n<path d=\"M 141.732687 2.834063 L 141.732687 -2.833906 \" style=\"fill:none;stroke-width:0.3985;stroke-linecap:butt;stroke-linejoin:miter;stroke:rgb(0%,0%,0%);stroke-opacity:1;stroke-miterlimit:10;\" transform=\"matrix(1,0,0,-1,14.572,28.545)\"/>\n<g style=\"fill:rgb(0%,0%,0%);fill-opacity:1;\">\n  <use x=\"159.824\" xlink:href=\"#glyph1-1\" y=\"41.708\"/>\n</g>\n<path d=\"M -0.0016875 -0.001875 L -0.0016875 27.88875 \" style=\"fill:none;stroke-width:0.3985;stroke-linecap:butt;stroke-linejoin:miter;stroke:rgb(0%,0%,0%);stroke-opacity:1;stroke-miterlimit:10;\" transform=\"matrix(1,0,0,-1,14.572,28.545)\"/>\n<path d=\"M -1.195082 1.595438 C -1.097426 0.997781 0.00023 0.0993438 0.297105 0.0016875 C 0.00023 -0.099875 -1.097426 -0.994406 -1.195082 -1.592062 \" style=\"fill:none;stroke-width:0.31879;stroke-linecap:round;stroke-linejoin:round;stroke:rgb(0%,0%,0%);stroke-opacity:1;stroke-miterlimit:10;\" transform=\"matrix(0,-1,-1,0,14.572,0.65648)\"/>\n<path d=\"M -0.0016875 -0.001875 L -0.0016875 -27.888594 \" style=\"fill:none;stroke-width:0.3985;stroke-linecap:butt;stroke-linejoin:miter;stroke:rgb(100%,0%,0%);stroke-opacity:1;stroke-miterlimit:10;\" transform=\"matrix(1,0,0,-1,14.572,28.545)\"/>\n<path d=\"M -1.195239 1.592062 C -1.097583 0.994406 0.00007375 0.099875 0.296949 -0.0016875 C 0.00007375 -0.0993438 -1.097583 -0.997781 -1.195239 -1.595438 \" style=\"fill:none;stroke-width:0.31879;stroke-linecap:round;stroke-linejoin:round;stroke:rgb(100%,0%,0%);stroke-opacity:1;stroke-miterlimit:10;\" transform=\"matrix(0,1,1,0,14.572,56.43352)\"/>\n</g>\n</svg>"
     },
     "metadata": {
      "isolated": "true",
      "tags": []
     },
     "output_type": "display_data"
    }
   ],
   "source": [
    "#@title money vs. banana { vertical-output: true }\n",
    "\n",
    "\n",
    "\n",
    "%%tikz -S test_output.tikz -f svg\n",
    "\n",
    "\n",
    "\n",
    "\\draw [thick] (-0.5,0) -- (5.5,0);\n",
    "\\draw (0,0.1) -- (0,-0.1) node [below right] {$0$};\n",
    "\\draw (5,0.1) -- (5,-0.1) node [below right] {$T$};\n",
    "\n",
    "\\draw [color=black, ->] (0,0) -- (0,1) ;\n",
    "\\draw [color=red, ->] (0,0) -- (0,-1);"
   ]
  },
  {
   "cell_type": "code",
   "execution_count": 10,
   "metadata": {
    "colab": {
     "base_uri": "https://localhost:8080/",
     "height": 0
    },
    "id": "bqjGJGaYavgz",
    "outputId": "60e0893c-eb51-4461-bef3-4bf61d717da9"
   },
   "outputs": [
    {
     "data": {
      "image/svg+xml": "<svg height=\"240px\" version=\"1.1\" viewBox=\"0 0 170.876 57.49\" width=\"400px\" xmlns=\"http://www.w3.org/2000/svg\" xmlns:xlink=\"http://www.w3.org/1999/xlink\">\n<defs>\n<g>\n<symbol id=\"glyph0-0\" overflow=\"visible\">\n<path d=\"\" style=\"stroke:none;\"/>\n</symbol>\n<symbol id=\"glyph0-1\" overflow=\"visible\">\n<path d=\"M 4.578125 -3.1875 C 4.578125 -3.984375 4.53125 -4.78125 4.1875 -5.515625 C 3.734375 -6.484375 2.90625 -6.640625 2.5 -6.640625 C 1.890625 -6.640625 1.171875 -6.375 0.75 -5.453125 C 0.4375 -4.765625 0.390625 -3.984375 0.390625 -3.1875 C 0.390625 -2.4375 0.421875 -1.546875 0.84375 -0.78125 C 1.265625 0.015625 2 0.21875 2.484375 0.21875 C 3.015625 0.21875 3.78125 0.015625 4.21875 -0.9375 C 4.53125 -1.625 4.578125 -2.40625 4.578125 -3.1875 Z M 2.484375 0 C 2.09375 0 1.5 -0.25 1.328125 -1.203125 C 1.21875 -1.796875 1.21875 -2.71875 1.21875 -3.3125 C 1.21875 -3.953125 1.21875 -4.609375 1.296875 -5.140625 C 1.484375 -6.328125 2.234375 -6.421875 2.484375 -6.421875 C 2.8125 -6.421875 3.46875 -6.234375 3.65625 -5.25 C 3.765625 -4.6875 3.765625 -3.9375 3.765625 -3.3125 C 3.765625 -2.5625 3.765625 -1.890625 3.65625 -1.25 C 3.5 -0.296875 2.9375 0 2.484375 0 Z M 2.484375 0 \" style=\"stroke:none;\"/>\n</symbol>\n<symbol id=\"glyph1-0\" overflow=\"visible\">\n<path d=\"\" style=\"stroke:none;\"/>\n</symbol>\n<symbol id=\"glyph1-1\" overflow=\"visible\">\n<path d=\"M 4.25 -6.046875 C 4.328125 -6.328125 4.359375 -6.390625 4.484375 -6.421875 C 4.578125 -6.4375 4.90625 -6.4375 5.109375 -6.4375 C 6.125 -6.4375 6.5625 -6.40625 6.5625 -5.625 C 6.5625 -5.46875 6.53125 -5.078125 6.484375 -4.828125 C 6.484375 -4.78125 6.453125 -4.671875 6.453125 -4.640625 C 6.453125 -4.578125 6.484375 -4.5 6.578125 -4.5 C 6.6875 -4.5 6.703125 -4.578125 6.734375 -4.734375 L 7 -6.46875 C 7.015625 -6.515625 7.015625 -6.609375 7.015625 -6.640625 C 7.015625 -6.75 6.921875 -6.75 6.75 -6.75 L 1.21875 -6.75 C 0.984375 -6.75 0.96875 -6.734375 0.890625 -6.546875 L 0.296875 -4.796875 C 0.296875 -4.78125 0.234375 -4.640625 0.234375 -4.609375 C 0.234375 -4.5625 0.296875 -4.5 0.359375 -4.5 C 0.453125 -4.5 0.46875 -4.5625 0.53125 -4.71875 C 1.0625 -6.265625 1.328125 -6.4375 2.796875 -6.4375 L 3.1875 -6.4375 C 3.46875 -6.4375 3.46875 -6.40625 3.46875 -6.3125 C 3.46875 -6.265625 3.4375 -6.140625 3.421875 -6.109375 L 2.09375 -0.78125 C 2 -0.421875 1.96875 -0.3125 0.90625 -0.3125 C 0.546875 -0.3125 0.484375 -0.3125 0.484375 -0.125 C 0.484375 0 0.59375 0 0.65625 0 C 0.921875 0 1.203125 -0.015625 1.46875 -0.015625 C 1.75 -0.015625 2.046875 -0.03125 2.328125 -0.03125 C 2.609375 -0.03125 2.875 -0.015625 3.15625 -0.015625 C 3.4375 -0.015625 3.734375 0 4.015625 0 C 4.109375 0 4.234375 0 4.234375 -0.203125 C 4.234375 -0.3125 4.15625 -0.3125 3.890625 -0.3125 C 3.65625 -0.3125 3.515625 -0.3125 3.265625 -0.328125 C 2.96875 -0.359375 2.890625 -0.390625 2.890625 -0.546875 C 2.890625 -0.5625 2.890625 -0.609375 2.9375 -0.75 Z M 4.25 -6.046875 \" style=\"stroke:none;\"/>\n</symbol>\n</g>\n<clipPath id=\"clip1\">\n  <path d=\"M 0 28 L 170.875 28 L 170.875 30 L 0 30 Z M 0 28 \"/>\n</clipPath>\n<clipPath id=\"clip2\">\n  <path d=\"M 14 28 L 15 28 L 15 57.488281 L 14 57.488281 Z M 14 28 \"/>\n</clipPath>\n<clipPath id=\"clip3\">\n  <path d=\"M 12 55 L 17 55 L 17 57.488281 L 12 57.488281 Z M 12 55 \"/>\n</clipPath>\n</defs>\n<g id=\"surface1\">\n<g clip-path=\"url(#clip1)\" clip-rule=\"nonzero\">\n<path d=\"M -14.173563 -0.0013125 L 155.908469 -0.0013125 \" style=\"fill:none;stroke-width:0.79701;stroke-linecap:butt;stroke-linejoin:miter;stroke:rgb(0%,0%,0%);stroke-opacity:1;stroke-miterlimit:10;\" transform=\"matrix(1,0,0,-1,14.572,28.944)\"/>\n</g>\n<path d=\"M -0.0016875 2.834625 L -0.0016875 -2.833344 \" style=\"fill:none;stroke-width:0.3985;stroke-linecap:butt;stroke-linejoin:miter;stroke:rgb(0%,0%,0%);stroke-opacity:1;stroke-miterlimit:10;\" transform=\"matrix(1,0,0,-1,14.572,28.944)\"/>\n<g style=\"fill:rgb(0%,0%,0%);fill-opacity:1;\">\n  <use x=\"18.091\" xlink:href=\"#glyph0-1\" y=\"41.719\"/>\n</g>\n<path d=\"M 141.732687 2.834625 L 141.732687 -2.833344 \" style=\"fill:none;stroke-width:0.3985;stroke-linecap:butt;stroke-linejoin:miter;stroke:rgb(0%,0%,0%);stroke-opacity:1;stroke-miterlimit:10;\" transform=\"matrix(1,0,0,-1,14.572,28.944)\"/>\n<g style=\"fill:rgb(0%,0%,0%);fill-opacity:1;\">\n  <use x=\"159.824\" xlink:href=\"#glyph1-1\" y=\"42.107\"/>\n</g>\n<g clip-path=\"url(#clip2)\" clip-rule=\"nonzero\">\n<path d=\"M -0.0016875 -0.0013125 L -0.0016875 -27.888031 \" style=\"fill:none;stroke-width:0.3985;stroke-linecap:butt;stroke-linejoin:miter;stroke:rgb(100%,0%,0%);stroke-opacity:1;stroke-miterlimit:10;\" transform=\"matrix(1,0,0,-1,14.572,28.944)\"/>\n</g>\n<g clip-path=\"url(#clip3)\" clip-rule=\"nonzero\">\n<path d=\"M -1.195801 1.592062 C -1.094239 0.994406 -0.00048875 0.099875 0.300292 -0.0016875 C -0.00048875 -0.0993438 -1.094239 -0.997781 -1.195801 -1.595438 \" style=\"fill:none;stroke-width:0.31879;stroke-linecap:round;stroke-linejoin:round;stroke:rgb(100%,0%,0%);stroke-opacity:1;stroke-miterlimit:10;\" transform=\"matrix(0,1,1,0,14.572,56.83252)\"/>\n</g>\n<path d=\"M 141.732687 -0.0013125 L 141.732687 27.389313 \" style=\"fill:none;stroke-width:1.19553;stroke-linecap:butt;stroke-linejoin:miter;stroke:rgb(100%,0%,0%);stroke-opacity:1;stroke-miterlimit:10;\" transform=\"matrix(1,0,0,-1,14.572,28.944)\"/>\n<path d=\"M -1.911224 2.552134 C -1.754974 1.595102 -0.0010675 0.157602 0.479401 0.0013525 C -0.0010675 -0.158804 -1.754974 -1.592398 -1.911224 -2.549429 \" style=\"fill:none;stroke-width:0.9564;stroke-linecap:round;stroke-linejoin:round;stroke:rgb(100%,0%,0%);stroke-opacity:1;stroke-miterlimit:10;\" transform=\"matrix(0,-1,-1,0,156.30604,1.55362)\"/>\n</g>\n</svg>"
     },
     "metadata": {
      "isolated": "true",
      "tags": []
     },
     "output_type": "display_data"
    }
   ],
   "source": [
    "#@title apple lending { vertical-output: true }\n",
    "\n",
    "%%tikz -S test_output.tikz -f svg\n",
    "\n",
    "\n",
    "\\draw [thick] (-0.5,0) -- (5.5,0);\n",
    "\\draw (0,0.1) -- (0,-0.1) node [below right] {$0$};\n",
    "\\draw (5,0.1) -- (5,-0.1) node [below right] {$T$};\n",
    "\n",
    "\\draw [color=red, ->] (0,0) -- (0,-1) ;\n",
    "\\draw [color=red, very thick, ->] (5,0) -- (5,1) ;"
   ]
  },
  {
   "cell_type": "code",
   "execution_count": 11,
   "metadata": {
    "colab": {
     "base_uri": "https://localhost:8080/",
     "height": 0
    },
    "id": "-IkhkpR5cTnV",
    "outputId": "fd24ad90-2350-43e2-bb0b-3d19168bc6ed"
   },
   "outputs": [
    {
     "data": {
      "image/svg+xml": "<svg height=\"240px\" version=\"1.1\" viewBox=\"0 0 170.876 57.49\" width=\"400px\" xmlns=\"http://www.w3.org/2000/svg\" xmlns:xlink=\"http://www.w3.org/1999/xlink\">\n<defs>\n<g>\n<symbol id=\"glyph0-0\" overflow=\"visible\">\n<path d=\"\" style=\"stroke:none;\"/>\n</symbol>\n<symbol id=\"glyph0-1\" overflow=\"visible\">\n<path d=\"M 4.578125 -3.1875 C 4.578125 -3.984375 4.53125 -4.78125 4.1875 -5.515625 C 3.734375 -6.484375 2.90625 -6.640625 2.5 -6.640625 C 1.890625 -6.640625 1.171875 -6.375 0.75 -5.453125 C 0.4375 -4.765625 0.390625 -3.984375 0.390625 -3.1875 C 0.390625 -2.4375 0.421875 -1.546875 0.84375 -0.78125 C 1.265625 0.015625 2 0.21875 2.484375 0.21875 C 3.015625 0.21875 3.78125 0.015625 4.21875 -0.9375 C 4.53125 -1.625 4.578125 -2.40625 4.578125 -3.1875 Z M 2.484375 0 C 2.09375 0 1.5 -0.25 1.328125 -1.203125 C 1.21875 -1.796875 1.21875 -2.71875 1.21875 -3.3125 C 1.21875 -3.953125 1.21875 -4.609375 1.296875 -5.140625 C 1.484375 -6.328125 2.234375 -6.421875 2.484375 -6.421875 C 2.8125 -6.421875 3.46875 -6.234375 3.65625 -5.25 C 3.765625 -4.6875 3.765625 -3.9375 3.765625 -3.3125 C 3.765625 -2.5625 3.765625 -1.890625 3.65625 -1.25 C 3.5 -0.296875 2.9375 0 2.484375 0 Z M 2.484375 0 \" style=\"stroke:none;\"/>\n</symbol>\n<symbol id=\"glyph1-0\" overflow=\"visible\">\n<path d=\"\" style=\"stroke:none;\"/>\n</symbol>\n<symbol id=\"glyph1-1\" overflow=\"visible\">\n<path d=\"M 4.25 -6.046875 C 4.328125 -6.328125 4.359375 -6.390625 4.484375 -6.421875 C 4.578125 -6.4375 4.90625 -6.4375 5.109375 -6.4375 C 6.125 -6.4375 6.5625 -6.40625 6.5625 -5.625 C 6.5625 -5.46875 6.53125 -5.078125 6.484375 -4.828125 C 6.484375 -4.78125 6.453125 -4.671875 6.453125 -4.640625 C 6.453125 -4.578125 6.484375 -4.5 6.578125 -4.5 C 6.6875 -4.5 6.703125 -4.578125 6.734375 -4.734375 L 7 -6.46875 C 7.015625 -6.515625 7.015625 -6.609375 7.015625 -6.640625 C 7.015625 -6.75 6.921875 -6.75 6.75 -6.75 L 1.21875 -6.75 C 0.984375 -6.75 0.96875 -6.734375 0.890625 -6.546875 L 0.296875 -4.796875 C 0.296875 -4.78125 0.234375 -4.640625 0.234375 -4.609375 C 0.234375 -4.5625 0.296875 -4.5 0.359375 -4.5 C 0.453125 -4.5 0.46875 -4.5625 0.53125 -4.71875 C 1.0625 -6.265625 1.328125 -6.4375 2.796875 -6.4375 L 3.1875 -6.4375 C 3.46875 -6.4375 3.46875 -6.40625 3.46875 -6.3125 C 3.46875 -6.265625 3.4375 -6.140625 3.421875 -6.109375 L 2.09375 -0.78125 C 2 -0.421875 1.96875 -0.3125 0.90625 -0.3125 C 0.546875 -0.3125 0.484375 -0.3125 0.484375 -0.125 C 0.484375 0 0.59375 0 0.65625 0 C 0.921875 0 1.203125 -0.015625 1.46875 -0.015625 C 1.75 -0.015625 2.046875 -0.03125 2.328125 -0.03125 C 2.609375 -0.03125 2.875 -0.015625 3.15625 -0.015625 C 3.4375 -0.015625 3.734375 0 4.015625 0 C 4.109375 0 4.234375 0 4.234375 -0.203125 C 4.234375 -0.3125 4.15625 -0.3125 3.890625 -0.3125 C 3.65625 -0.3125 3.515625 -0.3125 3.265625 -0.328125 C 2.96875 -0.359375 2.890625 -0.390625 2.890625 -0.546875 C 2.890625 -0.5625 2.890625 -0.609375 2.9375 -0.75 Z M 4.25 -6.046875 \" style=\"stroke:none;\"/>\n</symbol>\n</g>\n<clipPath id=\"clip1\">\n  <path d=\"M 0 28 L 170.875 28 L 170.875 30 L 0 30 Z M 0 28 \"/>\n</clipPath>\n<clipPath id=\"clip2\">\n  <path d=\"M 14 28 L 15 28 L 15 57.488281 L 14 57.488281 Z M 14 28 \"/>\n</clipPath>\n<clipPath id=\"clip3\">\n  <path d=\"M 12 55 L 17 55 L 17 57.488281 L 12 57.488281 Z M 12 55 \"/>\n</clipPath>\n</defs>\n<g id=\"surface1\">\n<g clip-path=\"url(#clip1)\" clip-rule=\"nonzero\">\n<path d=\"M -14.173563 -0.0013125 L 155.908469 -0.0013125 \" style=\"fill:none;stroke-width:0.79701;stroke-linecap:butt;stroke-linejoin:miter;stroke:rgb(0%,0%,0%);stroke-opacity:1;stroke-miterlimit:10;\" transform=\"matrix(1,0,0,-1,14.572,28.944)\"/>\n</g>\n<path d=\"M -0.0016875 2.834625 L -0.0016875 -2.833344 \" style=\"fill:none;stroke-width:0.3985;stroke-linecap:butt;stroke-linejoin:miter;stroke:rgb(0%,0%,0%);stroke-opacity:1;stroke-miterlimit:10;\" transform=\"matrix(1,0,0,-1,14.572,28.944)\"/>\n<g style=\"fill:rgb(0%,0%,0%);fill-opacity:1;\">\n  <use x=\"18.091\" xlink:href=\"#glyph0-1\" y=\"41.719\"/>\n</g>\n<path d=\"M 141.732687 2.834625 L 141.732687 -2.833344 \" style=\"fill:none;stroke-width:0.3985;stroke-linecap:butt;stroke-linejoin:miter;stroke:rgb(0%,0%,0%);stroke-opacity:1;stroke-miterlimit:10;\" transform=\"matrix(1,0,0,-1,14.572,28.944)\"/>\n<g style=\"fill:rgb(0%,0%,0%);fill-opacity:1;\">\n  <use x=\"159.824\" xlink:href=\"#glyph1-1\" y=\"42.107\"/>\n</g>\n<g clip-path=\"url(#clip2)\" clip-rule=\"nonzero\">\n<path d=\"M -0.0016875 -0.0013125 L -0.0016875 -27.888031 \" style=\"fill:none;stroke-width:0.3985;stroke-linecap:butt;stroke-linejoin:miter;stroke:rgb(0%,0%,0%);stroke-opacity:1;stroke-miterlimit:10;\" transform=\"matrix(1,0,0,-1,14.572,28.944)\"/>\n</g>\n<g clip-path=\"url(#clip3)\" clip-rule=\"nonzero\">\n<path d=\"M -1.195801 1.592062 C -1.094239 0.994406 -0.00048875 0.099875 0.300292 -0.0016875 C -0.00048875 -0.0993438 -1.094239 -0.997781 -1.195801 -1.595438 \" style=\"fill:none;stroke-width:0.31879;stroke-linecap:round;stroke-linejoin:round;stroke:rgb(0%,0%,0%);stroke-opacity:1;stroke-miterlimit:10;\" transform=\"matrix(0,1,1,0,14.572,56.83252)\"/>\n</g>\n<path d=\"M 141.732687 -0.0013125 L 141.732687 27.389313 \" style=\"fill:none;stroke-width:1.19553;stroke-linecap:butt;stroke-linejoin:miter;stroke:rgb(0%,0%,0%);stroke-opacity:1;stroke-miterlimit:10;\" transform=\"matrix(1,0,0,-1,14.572,28.944)\"/>\n<path d=\"M -1.911224 2.552134 C -1.754974 1.595102 -0.0010675 0.157602 0.479401 0.0013525 C -0.0010675 -0.158804 -1.754974 -1.592398 -1.911224 -2.549429 \" style=\"fill:none;stroke-width:0.9564;stroke-linecap:round;stroke-linejoin:round;stroke:rgb(0%,0%,0%);stroke-opacity:1;stroke-miterlimit:10;\" transform=\"matrix(0,-1,-1,0,156.30604,1.55362)\"/>\n</g>\n</svg>"
     },
     "metadata": {
      "isolated": "true",
      "tags": []
     },
     "output_type": "display_data"
    }
   ],
   "source": [
    "#@title lending to farmer { vertical-output: true }\n",
    "\n",
    "%%tikz -S test_output.tikz -f svg\n",
    "\n",
    "\n",
    "\\draw [thick] (-0.5,0) -- (5.5,0);\n",
    "\\draw (0,0.1) -- (0,-0.1) node [below right] {$0$};\n",
    "\\draw (5,0.1) -- (5,-0.1) node [below right] {$T$};\n",
    "\n",
    "\\draw [color=black, ->] (0,0) -- (0,-1) ;\n",
    "\\draw [color=black, very thick, ->] (5,0) -- (5,1) ;"
   ]
  },
  {
   "cell_type": "code",
   "execution_count": 12,
   "metadata": {
    "colab": {
     "base_uri": "https://localhost:8080/",
     "height": 0
    },
    "id": "EewpIALllSVe",
    "outputId": "9c485c0b-7927-4550-f87b-c621a9786313"
   },
   "outputs": [
    {
     "data": {
      "image/svg+xml": "<svg height=\"240px\" version=\"1.1\" viewBox=\"0 0 170.876 57.49\" width=\"400px\" xmlns=\"http://www.w3.org/2000/svg\" xmlns:xlink=\"http://www.w3.org/1999/xlink\">\n<defs>\n<g>\n<symbol id=\"glyph0-0\" overflow=\"visible\">\n<path d=\"\" style=\"stroke:none;\"/>\n</symbol>\n<symbol id=\"glyph0-1\" overflow=\"visible\">\n<path d=\"M 4.578125 -3.1875 C 4.578125 -3.984375 4.53125 -4.78125 4.1875 -5.515625 C 3.734375 -6.484375 2.90625 -6.640625 2.5 -6.640625 C 1.890625 -6.640625 1.171875 -6.375 0.75 -5.453125 C 0.4375 -4.765625 0.390625 -3.984375 0.390625 -3.1875 C 0.390625 -2.4375 0.421875 -1.546875 0.84375 -0.78125 C 1.265625 0.015625 2 0.21875 2.484375 0.21875 C 3.015625 0.21875 3.78125 0.015625 4.21875 -0.9375 C 4.53125 -1.625 4.578125 -2.40625 4.578125 -3.1875 Z M 2.484375 0 C 2.09375 0 1.5 -0.25 1.328125 -1.203125 C 1.21875 -1.796875 1.21875 -2.71875 1.21875 -3.3125 C 1.21875 -3.953125 1.21875 -4.609375 1.296875 -5.140625 C 1.484375 -6.328125 2.234375 -6.421875 2.484375 -6.421875 C 2.8125 -6.421875 3.46875 -6.234375 3.65625 -5.25 C 3.765625 -4.6875 3.765625 -3.9375 3.765625 -3.3125 C 3.765625 -2.5625 3.765625 -1.890625 3.65625 -1.25 C 3.5 -0.296875 2.9375 0 2.484375 0 Z M 2.484375 0 \" style=\"stroke:none;\"/>\n</symbol>\n<symbol id=\"glyph1-0\" overflow=\"visible\">\n<path d=\"\" style=\"stroke:none;\"/>\n</symbol>\n<symbol id=\"glyph1-1\" overflow=\"visible\">\n<path d=\"M 4.25 -6.046875 C 4.328125 -6.328125 4.359375 -6.390625 4.484375 -6.421875 C 4.578125 -6.4375 4.90625 -6.4375 5.109375 -6.4375 C 6.125 -6.4375 6.5625 -6.40625 6.5625 -5.625 C 6.5625 -5.46875 6.53125 -5.078125 6.484375 -4.828125 C 6.484375 -4.78125 6.453125 -4.671875 6.453125 -4.640625 C 6.453125 -4.578125 6.484375 -4.5 6.578125 -4.5 C 6.6875 -4.5 6.703125 -4.578125 6.734375 -4.734375 L 7 -6.46875 C 7.015625 -6.515625 7.015625 -6.609375 7.015625 -6.640625 C 7.015625 -6.75 6.921875 -6.75 6.75 -6.75 L 1.21875 -6.75 C 0.984375 -6.75 0.96875 -6.734375 0.890625 -6.546875 L 0.296875 -4.796875 C 0.296875 -4.78125 0.234375 -4.640625 0.234375 -4.609375 C 0.234375 -4.5625 0.296875 -4.5 0.359375 -4.5 C 0.453125 -4.5 0.46875 -4.5625 0.53125 -4.71875 C 1.0625 -6.265625 1.328125 -6.4375 2.796875 -6.4375 L 3.1875 -6.4375 C 3.46875 -6.4375 3.46875 -6.40625 3.46875 -6.3125 C 3.46875 -6.265625 3.4375 -6.140625 3.421875 -6.109375 L 2.09375 -0.78125 C 2 -0.421875 1.96875 -0.3125 0.90625 -0.3125 C 0.546875 -0.3125 0.484375 -0.3125 0.484375 -0.125 C 0.484375 0 0.59375 0 0.65625 0 C 0.921875 0 1.203125 -0.015625 1.46875 -0.015625 C 1.75 -0.015625 2.046875 -0.03125 2.328125 -0.03125 C 2.609375 -0.03125 2.875 -0.015625 3.15625 -0.015625 C 3.4375 -0.015625 3.734375 0 4.015625 0 C 4.109375 0 4.234375 0 4.234375 -0.203125 C 4.234375 -0.3125 4.15625 -0.3125 3.890625 -0.3125 C 3.65625 -0.3125 3.515625 -0.3125 3.265625 -0.328125 C 2.96875 -0.359375 2.890625 -0.390625 2.890625 -0.546875 C 2.890625 -0.5625 2.890625 -0.609375 2.9375 -0.75 Z M 4.25 -6.046875 \" style=\"stroke:none;\"/>\n</symbol>\n</g>\n<clipPath id=\"clip1\">\n  <path d=\"M 0 28 L 170.875 28 L 170.875 30 L 0 30 Z M 0 28 \"/>\n</clipPath>\n<clipPath id=\"clip2\">\n  <path d=\"M 14 28 L 15 28 L 15 57.488281 L 14 57.488281 Z M 14 28 \"/>\n</clipPath>\n<clipPath id=\"clip3\">\n  <path d=\"M 12 55 L 17 55 L 17 57.488281 L 12 57.488281 Z M 12 55 \"/>\n</clipPath>\n</defs>\n<g id=\"surface1\">\n<g clip-path=\"url(#clip1)\" clip-rule=\"nonzero\">\n<path d=\"M -14.173563 -0.0013125 L 155.908469 -0.0013125 \" style=\"fill:none;stroke-width:0.79701;stroke-linecap:butt;stroke-linejoin:miter;stroke:rgb(0%,0%,0%);stroke-opacity:1;stroke-miterlimit:10;\" transform=\"matrix(1,0,0,-1,14.572,28.944)\"/>\n</g>\n<path d=\"M -0.0016875 2.834625 L -0.0016875 -2.833344 \" style=\"fill:none;stroke-width:0.3985;stroke-linecap:butt;stroke-linejoin:miter;stroke:rgb(0%,0%,0%);stroke-opacity:1;stroke-miterlimit:10;\" transform=\"matrix(1,0,0,-1,14.572,28.944)\"/>\n<g style=\"fill:rgb(0%,0%,0%);fill-opacity:1;\">\n  <use x=\"18.091\" xlink:href=\"#glyph0-1\" y=\"41.719\"/>\n</g>\n<path d=\"M 141.732687 2.834625 L 141.732687 -2.833344 \" style=\"fill:none;stroke-width:0.3985;stroke-linecap:butt;stroke-linejoin:miter;stroke:rgb(0%,0%,0%);stroke-opacity:1;stroke-miterlimit:10;\" transform=\"matrix(1,0,0,-1,14.572,28.944)\"/>\n<g style=\"fill:rgb(0%,0%,0%);fill-opacity:1;\">\n  <use x=\"159.824\" xlink:href=\"#glyph1-1\" y=\"42.107\"/>\n</g>\n<g clip-path=\"url(#clip2)\" clip-rule=\"nonzero\">\n<path d=\"M -0.0016875 -0.0013125 L -0.0016875 -27.888031 \" style=\"fill:none;stroke-width:0.3985;stroke-linecap:butt;stroke-linejoin:miter;stroke:rgb(0%,0%,0%);stroke-opacity:1;stroke-miterlimit:10;\" transform=\"matrix(1,0,0,-1,14.572,28.944)\"/>\n</g>\n<g clip-path=\"url(#clip3)\" clip-rule=\"nonzero\">\n<path d=\"M -1.195801 1.592062 C -1.094239 0.994406 -0.00048875 0.099875 0.300292 -0.0016875 C -0.00048875 -0.0993438 -1.094239 -0.997781 -1.195801 -1.595438 \" style=\"fill:none;stroke-width:0.31879;stroke-linecap:round;stroke-linejoin:round;stroke:rgb(0%,0%,0%);stroke-opacity:1;stroke-miterlimit:10;\" transform=\"matrix(0,1,1,0,14.572,56.83252)\"/>\n</g>\n<path d=\"M 141.732687 -0.0013125 L 141.732687 27.389313 \" style=\"fill:none;stroke-width:1.19553;stroke-linecap:butt;stroke-linejoin:miter;stroke:rgb(0%,0%,0%);stroke-opacity:1;stroke-dasharray:2.98883,2.98883;stroke-miterlimit:10;\" transform=\"matrix(1,0,0,-1,14.572,28.944)\"/>\n<path d=\"M -1.911224 2.552134 C -1.754974 1.595102 -0.0010675 0.157602 0.479401 0.0013525 C -0.0010675 -0.158804 -1.754974 -1.592398 -1.911224 -2.549429 \" style=\"fill:none;stroke-width:0.9564;stroke-linecap:round;stroke-linejoin:round;stroke:rgb(0%,0%,0%);stroke-opacity:1;stroke-miterlimit:10;\" transform=\"matrix(0,-1,-1,0,156.30604,1.55362)\"/>\n</g>\n</svg>"
     },
     "metadata": {
      "isolated": "true",
      "tags": []
     },
     "output_type": "display_data"
    }
   ],
   "source": [
    "#@title lending to sailor{ vertical-output: true }\n",
    "\n",
    "%%tikz -S test_output.tikz -f svg\n",
    "\n",
    "\n",
    "\\draw [thick] (-0.5,0) -- (5.5,0);\n",
    "\\draw (0,0.1) -- (0,-0.1) node [below right] {$0$};\n",
    "\\draw (5,0.1) -- (5,-0.1) node [below right] {$T$};\n",
    "\n",
    "\\draw [color=black, ->] (0,0) -- (0,-1) ;\n",
    "\\draw [color=black, very thick, ->, dashed] (5,0) -- (5,1) ;"
   ]
  },
  {
   "cell_type": "code",
   "execution_count": 13,
   "metadata": {
    "colab": {
     "base_uri": "https://localhost:8080/",
     "height": 0
    },
    "id": "rRv-QTpoliYL",
    "outputId": "7d27e766-7fa9-4a7b-fd3d-1ec8d0f2bdb3"
   },
   "outputs": [
    {
     "data": {
      "image/svg+xml": "<svg height=\"240px\" version=\"1.1\" viewBox=\"0 0 170.876 57.49\" width=\"400px\" xmlns=\"http://www.w3.org/2000/svg\" xmlns:xlink=\"http://www.w3.org/1999/xlink\">\n<defs>\n<g>\n<symbol id=\"glyph0-0\" overflow=\"visible\">\n<path d=\"\" style=\"stroke:none;\"/>\n</symbol>\n<symbol id=\"glyph0-1\" overflow=\"visible\">\n<path d=\"M 4.578125 -3.1875 C 4.578125 -3.984375 4.53125 -4.78125 4.1875 -5.515625 C 3.734375 -6.484375 2.90625 -6.640625 2.5 -6.640625 C 1.890625 -6.640625 1.171875 -6.375 0.75 -5.453125 C 0.4375 -4.765625 0.390625 -3.984375 0.390625 -3.1875 C 0.390625 -2.4375 0.421875 -1.546875 0.84375 -0.78125 C 1.265625 0.015625 2 0.21875 2.484375 0.21875 C 3.015625 0.21875 3.78125 0.015625 4.21875 -0.9375 C 4.53125 -1.625 4.578125 -2.40625 4.578125 -3.1875 Z M 2.484375 0 C 2.09375 0 1.5 -0.25 1.328125 -1.203125 C 1.21875 -1.796875 1.21875 -2.71875 1.21875 -3.3125 C 1.21875 -3.953125 1.21875 -4.609375 1.296875 -5.140625 C 1.484375 -6.328125 2.234375 -6.421875 2.484375 -6.421875 C 2.8125 -6.421875 3.46875 -6.234375 3.65625 -5.25 C 3.765625 -4.6875 3.765625 -3.9375 3.765625 -3.3125 C 3.765625 -2.5625 3.765625 -1.890625 3.65625 -1.25 C 3.5 -0.296875 2.9375 0 2.484375 0 Z M 2.484375 0 \" style=\"stroke:none;\"/>\n</symbol>\n<symbol id=\"glyph1-0\" overflow=\"visible\">\n<path d=\"\" style=\"stroke:none;\"/>\n</symbol>\n<symbol id=\"glyph1-1\" overflow=\"visible\">\n<path d=\"M 4.25 -6.046875 C 4.328125 -6.328125 4.359375 -6.390625 4.484375 -6.421875 C 4.578125 -6.4375 4.90625 -6.4375 5.109375 -6.4375 C 6.125 -6.4375 6.5625 -6.40625 6.5625 -5.625 C 6.5625 -5.46875 6.53125 -5.078125 6.484375 -4.828125 C 6.484375 -4.78125 6.453125 -4.671875 6.453125 -4.640625 C 6.453125 -4.578125 6.484375 -4.5 6.578125 -4.5 C 6.6875 -4.5 6.703125 -4.578125 6.734375 -4.734375 L 7 -6.46875 C 7.015625 -6.515625 7.015625 -6.609375 7.015625 -6.640625 C 7.015625 -6.75 6.921875 -6.75 6.75 -6.75 L 1.21875 -6.75 C 0.984375 -6.75 0.96875 -6.734375 0.890625 -6.546875 L 0.296875 -4.796875 C 0.296875 -4.78125 0.234375 -4.640625 0.234375 -4.609375 C 0.234375 -4.5625 0.296875 -4.5 0.359375 -4.5 C 0.453125 -4.5 0.46875 -4.5625 0.53125 -4.71875 C 1.0625 -6.265625 1.328125 -6.4375 2.796875 -6.4375 L 3.1875 -6.4375 C 3.46875 -6.4375 3.46875 -6.40625 3.46875 -6.3125 C 3.46875 -6.265625 3.4375 -6.140625 3.421875 -6.109375 L 2.09375 -0.78125 C 2 -0.421875 1.96875 -0.3125 0.90625 -0.3125 C 0.546875 -0.3125 0.484375 -0.3125 0.484375 -0.125 C 0.484375 0 0.59375 0 0.65625 0 C 0.921875 0 1.203125 -0.015625 1.46875 -0.015625 C 1.75 -0.015625 2.046875 -0.03125 2.328125 -0.03125 C 2.609375 -0.03125 2.875 -0.015625 3.15625 -0.015625 C 3.4375 -0.015625 3.734375 0 4.015625 0 C 4.109375 0 4.234375 0 4.234375 -0.203125 C 4.234375 -0.3125 4.15625 -0.3125 3.890625 -0.3125 C 3.65625 -0.3125 3.515625 -0.3125 3.265625 -0.328125 C 2.96875 -0.359375 2.890625 -0.390625 2.890625 -0.546875 C 2.890625 -0.5625 2.890625 -0.609375 2.9375 -0.75 Z M 4.25 -6.046875 \" style=\"stroke:none;\"/>\n</symbol>\n</g>\n<clipPath id=\"clip1\">\n  <path d=\"M 0 28 L 170.875 28 L 170.875 29 L 0 29 Z M 0 28 \"/>\n</clipPath>\n</defs>\n<g id=\"surface1\">\n<g clip-path=\"url(#clip1)\" clip-rule=\"nonzero\">\n<path d=\"M -14.173563 -0.000875 L 155.908469 -0.000875 \" style=\"fill:none;stroke-width:0.79701;stroke-linecap:butt;stroke-linejoin:miter;stroke:rgb(0%,0%,0%);stroke-opacity:1;stroke-miterlimit:10;\" transform=\"matrix(1,0,0,-1,14.572,28.546)\"/>\n</g>\n<path d=\"M -0.0016875 2.835063 L -0.0016875 -2.832906 \" style=\"fill:none;stroke-width:0.3985;stroke-linecap:butt;stroke-linejoin:miter;stroke:rgb(0%,0%,0%);stroke-opacity:1;stroke-miterlimit:10;\" transform=\"matrix(1,0,0,-1,14.572,28.546)\"/>\n<g style=\"fill:rgb(0%,0%,0%);fill-opacity:1;\">\n  <use x=\"18.091\" xlink:href=\"#glyph0-1\" y=\"41.321\"/>\n</g>\n<path d=\"M 141.732687 2.835063 L 141.732687 -2.832906 \" style=\"fill:none;stroke-width:0.3985;stroke-linecap:butt;stroke-linejoin:miter;stroke:rgb(0%,0%,0%);stroke-opacity:1;stroke-miterlimit:10;\" transform=\"matrix(1,0,0,-1,14.572,28.546)\"/>\n<g style=\"fill:rgb(0%,0%,0%);fill-opacity:1;\">\n  <use x=\"159.824\" xlink:href=\"#glyph1-1\" y=\"41.708\"/>\n</g>\n<path d=\"M -0.0016875 -0.000875 L -0.0016875 27.88975 \" style=\"fill:none;stroke-width:0.3985;stroke-linecap:butt;stroke-linejoin:miter;stroke:rgb(0%,0%,0%);stroke-opacity:1;stroke-miterlimit:10;\" transform=\"matrix(1,0,0,-1,14.572,28.546)\"/>\n<path d=\"M -1.194082 1.595438 C -1.096426 0.997781 0.00123 0.0993438 0.298105 0.0016875 C 0.00123 -0.099875 -1.096426 -0.994406 -1.194082 -1.592062 \" style=\"fill:none;stroke-width:0.31879;stroke-linecap:round;stroke-linejoin:round;stroke:rgb(0%,0%,0%);stroke-opacity:1;stroke-miterlimit:10;\" transform=\"matrix(0,-1,-1,0,14.572,0.65748)\"/>\n<path d=\"M 141.732687 -0.000875 L 141.732687 -27.3915 \" style=\"fill:none;stroke-width:1.19553;stroke-linecap:butt;stroke-linejoin:miter;stroke:rgb(0%,0%,0%);stroke-opacity:1;stroke-miterlimit:10;\" transform=\"matrix(1,0,0,-1,14.572,28.546)\"/>\n<path d=\"M -1.912942 2.549429 C -1.752786 1.592398 0.00112 0.158804 0.477683 -0.0013525 C 0.00112 -0.157602 -1.752786 -1.595102 -1.912942 -2.552134 \" style=\"fill:none;stroke-width:0.9564;stroke-linecap:round;stroke-linejoin:round;stroke:rgb(0%,0%,0%);stroke-opacity:1;stroke-miterlimit:10;\" transform=\"matrix(0,1,1,0,156.30604,55.93638)\"/>\n</g>\n</svg>"
     },
     "metadata": {
      "isolated": "true",
      "tags": []
     },
     "output_type": "display_data"
    }
   ],
   "source": [
    "#@title becaming a farmer { vertical-output: true }\n",
    "\n",
    "%%tikz -S test_output.tikz -f svg\n",
    "\n",
    "\n",
    "\\draw [thick] (-0.5,0) -- (5.5,0);\n",
    "\\draw (0,0.1) -- (0,-0.1) node [below right] {$0$};\n",
    "\\draw (5,0.1) -- (5,-0.1) node [below right] {$T$};\n",
    "\n",
    "\\draw [color=black, ->] (0,0) -- (0,1) ;\n",
    "\\draw [color=black, very thick, ->] (5,0) -- (5,-1) ;"
   ]
  },
  {
   "cell_type": "code",
   "execution_count": 14,
   "metadata": {
    "colab": {
     "base_uri": "https://localhost:8080/",
     "height": 0
    },
    "id": "9dd6hf76mALA",
    "outputId": "f27e43dc-cfc9-49c1-c58b-fdb1cfea0885"
   },
   "outputs": [
    {
     "data": {
      "image/svg+xml": "<svg height=\"240px\" version=\"1.1\" viewBox=\"0 0 170.876 57.49\" width=\"400px\" xmlns=\"http://www.w3.org/2000/svg\" xmlns:xlink=\"http://www.w3.org/1999/xlink\">\n<defs>\n<g>\n<symbol id=\"glyph0-0\" overflow=\"visible\">\n<path d=\"\" style=\"stroke:none;\"/>\n</symbol>\n<symbol id=\"glyph0-1\" overflow=\"visible\">\n<path d=\"M 4.578125 -3.1875 C 4.578125 -3.984375 4.53125 -4.78125 4.1875 -5.515625 C 3.734375 -6.484375 2.90625 -6.640625 2.5 -6.640625 C 1.890625 -6.640625 1.171875 -6.375 0.75 -5.453125 C 0.4375 -4.765625 0.390625 -3.984375 0.390625 -3.1875 C 0.390625 -2.4375 0.421875 -1.546875 0.84375 -0.78125 C 1.265625 0.015625 2 0.21875 2.484375 0.21875 C 3.015625 0.21875 3.78125 0.015625 4.21875 -0.9375 C 4.53125 -1.625 4.578125 -2.40625 4.578125 -3.1875 Z M 2.484375 0 C 2.09375 0 1.5 -0.25 1.328125 -1.203125 C 1.21875 -1.796875 1.21875 -2.71875 1.21875 -3.3125 C 1.21875 -3.953125 1.21875 -4.609375 1.296875 -5.140625 C 1.484375 -6.328125 2.234375 -6.421875 2.484375 -6.421875 C 2.8125 -6.421875 3.46875 -6.234375 3.65625 -5.25 C 3.765625 -4.6875 3.765625 -3.9375 3.765625 -3.3125 C 3.765625 -2.5625 3.765625 -1.890625 3.65625 -1.25 C 3.5 -0.296875 2.9375 0 2.484375 0 Z M 2.484375 0 \" style=\"stroke:none;\"/>\n</symbol>\n<symbol id=\"glyph1-0\" overflow=\"visible\">\n<path d=\"\" style=\"stroke:none;\"/>\n</symbol>\n<symbol id=\"glyph1-1\" overflow=\"visible\">\n<path d=\"M 4.25 -6.046875 C 4.328125 -6.328125 4.359375 -6.390625 4.484375 -6.421875 C 4.578125 -6.4375 4.90625 -6.4375 5.109375 -6.4375 C 6.125 -6.4375 6.5625 -6.40625 6.5625 -5.625 C 6.5625 -5.46875 6.53125 -5.078125 6.484375 -4.828125 C 6.484375 -4.78125 6.453125 -4.671875 6.453125 -4.640625 C 6.453125 -4.578125 6.484375 -4.5 6.578125 -4.5 C 6.6875 -4.5 6.703125 -4.578125 6.734375 -4.734375 L 7 -6.46875 C 7.015625 -6.515625 7.015625 -6.609375 7.015625 -6.640625 C 7.015625 -6.75 6.921875 -6.75 6.75 -6.75 L 1.21875 -6.75 C 0.984375 -6.75 0.96875 -6.734375 0.890625 -6.546875 L 0.296875 -4.796875 C 0.296875 -4.78125 0.234375 -4.640625 0.234375 -4.609375 C 0.234375 -4.5625 0.296875 -4.5 0.359375 -4.5 C 0.453125 -4.5 0.46875 -4.5625 0.53125 -4.71875 C 1.0625 -6.265625 1.328125 -6.4375 2.796875 -6.4375 L 3.1875 -6.4375 C 3.46875 -6.4375 3.46875 -6.40625 3.46875 -6.3125 C 3.46875 -6.265625 3.4375 -6.140625 3.421875 -6.109375 L 2.09375 -0.78125 C 2 -0.421875 1.96875 -0.3125 0.90625 -0.3125 C 0.546875 -0.3125 0.484375 -0.3125 0.484375 -0.125 C 0.484375 0 0.59375 0 0.65625 0 C 0.921875 0 1.203125 -0.015625 1.46875 -0.015625 C 1.75 -0.015625 2.046875 -0.03125 2.328125 -0.03125 C 2.609375 -0.03125 2.875 -0.015625 3.15625 -0.015625 C 3.4375 -0.015625 3.734375 0 4.015625 0 C 4.109375 0 4.234375 0 4.234375 -0.203125 C 4.234375 -0.3125 4.15625 -0.3125 3.890625 -0.3125 C 3.65625 -0.3125 3.515625 -0.3125 3.265625 -0.328125 C 2.96875 -0.359375 2.890625 -0.390625 2.890625 -0.546875 C 2.890625 -0.5625 2.890625 -0.609375 2.9375 -0.75 Z M 4.25 -6.046875 \" style=\"stroke:none;\"/>\n</symbol>\n</g>\n<clipPath id=\"clip1\">\n  <path d=\"M 0 28 L 170.875 28 L 170.875 29 L 0 29 Z M 0 28 \"/>\n</clipPath>\n</defs>\n<g id=\"surface1\">\n<g clip-path=\"url(#clip1)\" clip-rule=\"nonzero\">\n<path d=\"M -14.173563 -0.000875 L 155.908469 -0.000875 \" style=\"fill:none;stroke-width:0.79701;stroke-linecap:butt;stroke-linejoin:miter;stroke:rgb(0%,0%,0%);stroke-opacity:1;stroke-miterlimit:10;\" transform=\"matrix(1,0,0,-1,14.572,28.546)\"/>\n</g>\n<path d=\"M -0.0016875 2.835063 L -0.0016875 -2.832906 \" style=\"fill:none;stroke-width:0.3985;stroke-linecap:butt;stroke-linejoin:miter;stroke:rgb(0%,0%,0%);stroke-opacity:1;stroke-miterlimit:10;\" transform=\"matrix(1,0,0,-1,14.572,28.546)\"/>\n<g style=\"fill:rgb(0%,0%,0%);fill-opacity:1;\">\n  <use x=\"18.091\" xlink:href=\"#glyph0-1\" y=\"41.321\"/>\n</g>\n<path d=\"M 141.732687 2.835063 L 141.732687 -2.832906 \" style=\"fill:none;stroke-width:0.3985;stroke-linecap:butt;stroke-linejoin:miter;stroke:rgb(0%,0%,0%);stroke-opacity:1;stroke-miterlimit:10;\" transform=\"matrix(1,0,0,-1,14.572,28.546)\"/>\n<g style=\"fill:rgb(0%,0%,0%);fill-opacity:1;\">\n  <use x=\"159.824\" xlink:href=\"#glyph1-1\" y=\"41.708\"/>\n</g>\n<path d=\"M -0.0016875 -0.000875 L -0.0016875 27.88975 \" style=\"fill:none;stroke-width:0.3985;stroke-linecap:butt;stroke-linejoin:miter;stroke:rgb(0%,0%,0%);stroke-opacity:1;stroke-miterlimit:10;\" transform=\"matrix(1,0,0,-1,14.572,28.546)\"/>\n<path d=\"M -1.194082 1.595438 C -1.096426 0.997781 0.00123 0.0993438 0.298105 0.0016875 C 0.00123 -0.099875 -1.096426 -0.994406 -1.194082 -1.592062 \" style=\"fill:none;stroke-width:0.31879;stroke-linecap:round;stroke-linejoin:round;stroke:rgb(0%,0%,0%);stroke-opacity:1;stroke-miterlimit:10;\" transform=\"matrix(0,-1,-1,0,14.572,0.65748)\"/>\n<path d=\"M 141.732687 -0.000875 L 141.732687 -27.3915 \" style=\"fill:none;stroke-width:1.19553;stroke-linecap:butt;stroke-linejoin:miter;stroke:rgb(0%,0%,0%);stroke-opacity:1;stroke-dasharray:2.98883,2.98883;stroke-miterlimit:10;\" transform=\"matrix(1,0,0,-1,14.572,28.546)\"/>\n<path d=\"M -1.912942 2.549429 C -1.752786 1.592398 0.00112 0.158804 0.477683 -0.0013525 C 0.00112 -0.157602 -1.752786 -1.595102 -1.912942 -2.552134 \" style=\"fill:none;stroke-width:0.9564;stroke-linecap:round;stroke-linejoin:round;stroke:rgb(0%,0%,0%);stroke-opacity:1;stroke-miterlimit:10;\" transform=\"matrix(0,1,1,0,156.30604,55.93638)\"/>\n</g>\n</svg>"
     },
     "metadata": {
      "isolated": "true",
      "tags": []
     },
     "output_type": "display_data"
    }
   ],
   "source": [
    "#@title becaming a sailor { vertical-output: true }\n",
    "\n",
    "%%tikz -S test_output.tikz -f svg\n",
    "\n",
    "\n",
    "\\draw [thick] (-0.5,0) -- (5.5,0);\n",
    "\\draw (0,0.1) -- (0,-0.1) node [below right] {$0$};\n",
    "\\draw (5,0.1) -- (5,-0.1) node [below right] {$T$};\n",
    "\n",
    "\\draw [color=black, ->] (0,0) -- (0,1) ;\n",
    "\\draw [color=black, very thick, ->, dashed] (5,0) -- (5,-1) ;"
   ]
  },
  {
   "cell_type": "markdown",
   "metadata": {
    "id": "b4XXCJ81ppST"
   },
   "source": [
    "# Options and positions"
   ]
  },
  {
   "cell_type": "code",
   "execution_count": 15,
   "metadata": {
    "colab": {
     "base_uri": "https://localhost:8080/",
     "height": 640
    },
    "id": "6D3MdWvmme5l",
    "outputId": "e44a018f-8fc3-48b5-a0b3-a7a73ebe7319"
   },
   "outputs": [
    {
     "data": {
      "image/svg+xml": "<svg height=\"600px\" version=\"1.1\" viewBox=\"0 0 316.518 178.026\" width=\"800px\" xmlns=\"http://www.w3.org/2000/svg\" xmlns:xlink=\"http://www.w3.org/1999/xlink\">\n<defs>\n<g>\n<symbol id=\"glyph0-0\" overflow=\"visible\">\n<path d=\"\" style=\"stroke:none;\"/>\n</symbol>\n<symbol id=\"glyph0-1\" overflow=\"visible\">\n<path d=\"M 6.4375 -6.921875 C 6.4375 -6.953125 6.40625 -7.03125 6.3125 -7.03125 C 6.265625 -7.03125 6.265625 -7.015625 6.140625 -6.875 L 5.65625 -6.3125 C 5.40625 -6.78125 4.890625 -7.03125 4.234375 -7.03125 C 2.96875 -7.03125 1.78125 -5.875 1.78125 -4.671875 C 1.78125 -3.875 2.296875 -3.40625 2.8125 -3.265625 L 3.875 -2.984375 C 4.25 -2.890625 4.796875 -2.734375 4.796875 -1.921875 C 4.796875 -1.03125 3.984375 -0.09375 3 -0.09375 C 2.359375 -0.09375 1.25 -0.3125 1.25 -1.546875 C 1.25 -1.78125 1.3125 -2.03125 1.3125 -2.078125 C 1.328125 -2.125 1.328125 -2.140625 1.328125 -2.15625 C 1.328125 -2.25 1.265625 -2.265625 1.21875 -2.265625 C 1.171875 -2.265625 1.140625 -2.25 1.109375 -2.21875 C 1.078125 -2.1875 0.515625 0.09375 0.515625 0.125 C 0.515625 0.171875 0.5625 0.21875 0.625 0.21875 C 0.671875 0.21875 0.6875 0.203125 0.8125 0.0625 L 1.296875 -0.5 C 1.71875 0.078125 2.40625 0.21875 2.984375 0.21875 C 4.34375 0.21875 5.515625 -1.109375 5.515625 -2.34375 C 5.515625 -3.03125 5.171875 -3.375 5.03125 -3.515625 C 4.796875 -3.734375 4.640625 -3.78125 3.765625 -4 C 3.53125 -4.0625 3.1875 -4.171875 3.09375 -4.1875 C 2.828125 -4.28125 2.484375 -4.5625 2.484375 -5.09375 C 2.484375 -5.90625 3.28125 -6.75 4.234375 -6.75 C 5.046875 -6.75 5.65625 -6.3125 5.65625 -5.203125 C 5.65625 -4.890625 5.625 -4.703125 5.625 -4.640625 C 5.625 -4.640625 5.625 -4.546875 5.734375 -4.546875 C 5.84375 -4.546875 5.859375 -4.578125 5.890625 -4.75 Z M 6.4375 -6.921875 \" style=\"stroke:none;\"/>\n</symbol>\n<symbol id=\"glyph0-2\" overflow=\"visible\">\n<path d=\"M 5.078125 -4.03125 C 5.0625 -4.0625 5.03125 -4.140625 5.03125 -4.171875 C 5.03125 -4.171875 5.203125 -4.3125 5.3125 -4.390625 L 7.0625 -5.734375 C 8 -6.4375 8.390625 -6.46875 8.6875 -6.5 C 8.765625 -6.515625 8.859375 -6.515625 8.859375 -6.703125 C 8.859375 -6.734375 8.828125 -6.8125 8.75 -6.8125 C 8.53125 -6.8125 8.28125 -6.78125 8.046875 -6.78125 C 7.6875 -6.78125 7.296875 -6.8125 6.9375 -6.8125 C 6.875 -6.8125 6.75 -6.8125 6.75 -6.609375 C 6.75 -6.546875 6.796875 -6.515625 6.875 -6.5 C 7.09375 -6.484375 7.171875 -6.4375 7.171875 -6.296875 C 7.171875 -6.109375 6.875 -5.875 6.8125 -5.828125 L 2.9375 -2.84375 L 3.734375 -6.046875 C 3.8125 -6.40625 3.84375 -6.5 4.5625 -6.5 C 4.8125 -6.5 4.90625 -6.5 4.90625 -6.703125 C 4.90625 -6.78125 4.828125 -6.8125 4.765625 -6.8125 C 4.484375 -6.8125 3.765625 -6.78125 3.484375 -6.78125 C 3.203125 -6.78125 2.5 -6.8125 2.203125 -6.8125 C 2.140625 -6.8125 2 -6.8125 2 -6.625 C 2 -6.5 2.09375 -6.5 2.296875 -6.5 C 2.421875 -6.5 2.609375 -6.484375 2.71875 -6.484375 C 2.875 -6.453125 2.9375 -6.4375 2.9375 -6.3125 C 2.9375 -6.28125 2.9375 -6.25 2.90625 -6.125 L 1.5625 -0.78125 C 1.46875 -0.390625 1.453125 -0.3125 0.65625 -0.3125 C 0.484375 -0.3125 0.375 -0.3125 0.375 -0.125 C 0.375 0 0.5 0 0.53125 0 C 0.8125 0 1.515625 -0.03125 1.796875 -0.03125 C 2 -0.03125 2.21875 -0.015625 2.4375 -0.015625 C 2.65625 -0.015625 2.875 0 3.078125 0 C 3.15625 0 3.28125 0 3.28125 -0.203125 C 3.28125 -0.3125 3.1875 -0.3125 3 -0.3125 C 2.625 -0.3125 2.359375 -0.3125 2.359375 -0.484375 C 2.359375 -0.5625 2.40625 -0.78125 2.4375 -0.921875 C 2.578125 -1.453125 2.71875 -1.96875 2.84375 -2.5 L 4.328125 -3.65625 L 5.484375 -0.96875 C 5.609375 -0.703125 5.609375 -0.671875 5.609375 -0.625 C 5.609375 -0.3125 5.171875 -0.3125 5.078125 -0.3125 C 4.96875 -0.3125 4.859375 -0.3125 4.859375 -0.109375 C 4.859375 0 4.984375 0 5 0 C 5.40625 0 5.828125 -0.03125 6.21875 -0.03125 C 6.4375 -0.03125 6.984375 0 7.203125 0 C 7.25 0 7.375 0 7.375 -0.203125 C 7.375 -0.3125 7.265625 -0.3125 7.171875 -0.3125 C 6.765625 -0.3125 6.640625 -0.40625 6.484375 -0.75 Z M 5.078125 -4.03125 \" style=\"stroke:none;\"/>\n</symbol>\n<symbol id=\"glyph1-0\" overflow=\"visible\">\n<path d=\"\" style=\"stroke:none;\"/>\n</symbol>\n<symbol id=\"glyph1-1\" overflow=\"visible\">\n<path d=\"M 3.390625 -4.21875 C 3.4375 -4.421875 3.453125 -4.4375 3.609375 -4.453125 C 3.640625 -4.453125 3.875 -4.453125 4.015625 -4.453125 C 4.453125 -4.453125 4.625 -4.453125 4.796875 -4.40625 C 5.109375 -4.3125 5.125 -4.109375 5.125 -3.859375 C 5.125 -3.75 5.125 -3.65625 5.078125 -3.296875 L 5.0625 -3.21875 C 5.0625 -3.140625 5.109375 -3.109375 5.1875 -3.109375 C 5.296875 -3.109375 5.296875 -3.171875 5.3125 -3.28125 L 5.5 -4.609375 C 5.5 -4.703125 5.421875 -4.703125 5.296875 -4.703125 L 1.015625 -4.703125 C 0.84375 -4.703125 0.828125 -4.703125 0.78125 -4.5625 L 0.328125 -3.328125 C 0.328125 -3.296875 0.296875 -3.234375 0.296875 -3.203125 C 0.296875 -3.171875 0.3125 -3.109375 0.421875 -3.109375 C 0.515625 -3.109375 0.515625 -3.140625 0.5625 -3.28125 C 0.96875 -4.390625 1.203125 -4.453125 2.265625 -4.453125 L 2.546875 -4.453125 C 2.765625 -4.453125 2.765625 -4.453125 2.765625 -4.390625 C 2.765625 -4.390625 2.765625 -4.34375 2.734375 -4.25 L 1.8125 -0.578125 C 1.75 -0.328125 1.734375 -0.25 1 -0.25 C 0.75 -0.25 0.6875 -0.25 0.6875 -0.09375 C 0.6875 -0.078125 0.703125 0 0.8125 0 C 1 0 1.21875 -0.015625 1.40625 -0.015625 C 1.609375 -0.015625 1.8125 -0.03125 2 -0.03125 C 2.203125 -0.03125 2.4375 -0.03125 2.640625 -0.015625 C 2.828125 -0.015625 3.03125 0 3.21875 0 C 3.28125 0 3.375 0 3.375 -0.15625 C 3.375 -0.25 3.3125 -0.25 3.09375 -0.25 C 2.96875 -0.25 2.828125 -0.265625 2.6875 -0.265625 C 2.453125 -0.28125 2.4375 -0.3125 2.4375 -0.390625 C 2.4375 -0.453125 2.4375 -0.453125 2.46875 -0.5625 Z M 3.390625 -4.21875 \" style=\"stroke:none;\"/>\n</symbol>\n<symbol id=\"glyph2-0\" overflow=\"visible\">\n<path d=\"\" style=\"stroke:none;\"/>\n</symbol>\n<symbol id=\"glyph2-1\" overflow=\"visible\">\n<path d=\"M 4.578125 -3.1875 C 4.578125 -3.984375 4.53125 -4.78125 4.1875 -5.515625 C 3.734375 -6.484375 2.90625 -6.640625 2.5 -6.640625 C 1.890625 -6.640625 1.171875 -6.375 0.75 -5.453125 C 0.4375 -4.765625 0.390625 -3.984375 0.390625 -3.1875 C 0.390625 -2.4375 0.421875 -1.546875 0.84375 -0.78125 C 1.265625 0.015625 2 0.21875 2.484375 0.21875 C 3.015625 0.21875 3.78125 0.015625 4.21875 -0.9375 C 4.53125 -1.625 4.578125 -2.40625 4.578125 -3.1875 Z M 2.484375 0 C 2.09375 0 1.5 -0.25 1.328125 -1.203125 C 1.21875 -1.796875 1.21875 -2.71875 1.21875 -3.3125 C 1.21875 -3.953125 1.21875 -4.609375 1.296875 -5.140625 C 1.484375 -6.328125 2.234375 -6.421875 2.484375 -6.421875 C 2.8125 -6.421875 3.46875 -6.234375 3.65625 -5.25 C 3.765625 -4.6875 3.765625 -3.9375 3.765625 -3.3125 C 3.765625 -2.5625 3.765625 -1.890625 3.65625 -1.25 C 3.5 -0.296875 2.9375 0 2.484375 0 Z M 2.484375 0 \" style=\"stroke:none;\"/>\n</symbol>\n<symbol id=\"glyph2-2\" overflow=\"visible\">\n<path d=\"M 1.71875 -3.75 L 1.71875 -4.40625 L 0.28125 -4.296875 L 0.28125 -3.984375 C 0.984375 -3.984375 1.0625 -3.921875 1.0625 -3.484375 L 1.0625 1.171875 C 1.0625 1.625 0.953125 1.625 0.28125 1.625 L 0.28125 1.9375 C 0.625 1.921875 1.140625 1.90625 1.390625 1.90625 C 1.671875 1.90625 2.171875 1.921875 2.515625 1.9375 L 2.515625 1.625 C 1.859375 1.625 1.75 1.625 1.75 1.171875 L 1.75 -0.59375 C 1.796875 -0.421875 2.21875 0.109375 2.96875 0.109375 C 4.15625 0.109375 5.1875 -0.875 5.1875 -2.15625 C 5.1875 -3.421875 4.234375 -4.40625 3.109375 -4.40625 C 2.328125 -4.40625 1.90625 -3.96875 1.71875 -3.75 Z M 1.75 -1.140625 L 1.75 -3.359375 C 2.03125 -3.875 2.515625 -4.15625 3.03125 -4.15625 C 3.765625 -4.15625 4.359375 -3.28125 4.359375 -2.15625 C 4.359375 -0.953125 3.671875 -0.109375 2.9375 -0.109375 C 2.53125 -0.109375 2.15625 -0.3125 1.890625 -0.71875 C 1.75 -0.921875 1.75 -0.9375 1.75 -1.140625 Z M 1.75 -1.140625 \" style=\"stroke:none;\"/>\n</symbol>\n<symbol id=\"glyph2-3\" overflow=\"visible\">\n<path d=\"M 3.3125 -0.75 C 3.359375 -0.359375 3.625 0.0625 4.09375 0.0625 C 4.3125 0.0625 4.921875 -0.078125 4.921875 -0.890625 L 4.921875 -1.453125 L 4.671875 -1.453125 L 4.671875 -0.890625 C 4.671875 -0.3125 4.421875 -0.25 4.3125 -0.25 C 3.984375 -0.25 3.9375 -0.703125 3.9375 -0.75 L 3.9375 -2.734375 C 3.9375 -3.15625 3.9375 -3.546875 3.578125 -3.921875 C 3.1875 -4.3125 2.6875 -4.46875 2.21875 -4.46875 C 1.390625 -4.46875 0.703125 -4 0.703125 -3.34375 C 0.703125 -3.046875 0.90625 -2.875 1.171875 -2.875 C 1.453125 -2.875 1.625 -3.078125 1.625 -3.328125 C 1.625 -3.453125 1.578125 -3.78125 1.109375 -3.78125 C 1.390625 -4.140625 1.875 -4.25 2.1875 -4.25 C 2.6875 -4.25 3.25 -3.859375 3.25 -2.96875 L 3.25 -2.609375 C 2.734375 -2.578125 2.046875 -2.546875 1.421875 -2.25 C 0.671875 -1.90625 0.421875 -1.390625 0.421875 -0.953125 C 0.421875 -0.140625 1.390625 0.109375 2.015625 0.109375 C 2.671875 0.109375 3.125 -0.296875 3.3125 -0.75 Z M 3.25 -2.390625 L 3.25 -1.390625 C 3.25 -0.453125 2.53125 -0.109375 2.078125 -0.109375 C 1.59375 -0.109375 1.1875 -0.453125 1.1875 -0.953125 C 1.1875 -1.5 1.609375 -2.328125 3.25 -2.390625 Z M 3.25 -2.390625 \" style=\"stroke:none;\"/>\n</symbol>\n<symbol id=\"glyph2-4\" overflow=\"visible\">\n<path d=\"M 4.140625 -3.34375 C 4.390625 -3.984375 4.90625 -3.984375 5.0625 -3.984375 L 5.0625 -4.296875 C 4.828125 -4.28125 4.546875 -4.265625 4.3125 -4.265625 C 4.140625 -4.265625 3.671875 -4.28125 3.453125 -4.296875 L 3.453125 -3.984375 C 3.765625 -3.984375 3.921875 -3.8125 3.921875 -3.5625 C 3.921875 -3.453125 3.90625 -3.4375 3.859375 -3.3125 L 2.84375 -0.875 L 1.75 -3.546875 C 1.703125 -3.65625 1.6875 -3.6875 1.6875 -3.734375 C 1.6875 -3.984375 2.046875 -3.984375 2.25 -3.984375 L 2.25 -4.296875 C 1.984375 -4.28125 1.328125 -4.265625 1.15625 -4.265625 C 0.890625 -4.265625 0.484375 -4.28125 0.1875 -4.296875 L 0.1875 -3.984375 C 0.671875 -3.984375 0.859375 -3.984375 1 -3.640625 L 2.5 0 C 2.4375 0.125 2.296875 0.453125 2.25 0.59375 C 2.03125 1.140625 1.75 1.828125 1.109375 1.828125 C 1.0625 1.828125 0.828125 1.828125 0.640625 1.640625 C 0.953125 1.609375 1.03125 1.390625 1.03125 1.21875 C 1.03125 0.96875 0.84375 0.8125 0.609375 0.8125 C 0.40625 0.8125 0.1875 0.9375 0.1875 1.234375 C 0.1875 1.6875 0.609375 2.046875 1.109375 2.046875 C 1.734375 2.046875 2.140625 1.46875 2.375 0.90625 Z M 4.140625 -3.34375 \" style=\"stroke:none;\"/>\n</symbol>\n<symbol id=\"glyph2-5\" overflow=\"visible\">\n<path d=\"M 4.6875 -2.140625 C 4.6875 -3.40625 3.703125 -4.46875 2.5 -4.46875 C 1.25 -4.46875 0.28125 -3.375 0.28125 -2.140625 C 0.28125 -0.84375 1.3125 0.109375 2.484375 0.109375 C 3.6875 0.109375 4.6875 -0.875 4.6875 -2.140625 Z M 2.5 -0.140625 C 2.0625 -0.140625 1.625 -0.34375 1.359375 -0.8125 C 1.109375 -1.25 1.109375 -1.859375 1.109375 -2.21875 C 1.109375 -2.609375 1.109375 -3.140625 1.34375 -3.578125 C 1.609375 -4.03125 2.078125 -4.25 2.484375 -4.25 C 2.921875 -4.25 3.34375 -4.03125 3.609375 -3.59375 C 3.875 -3.171875 3.875 -2.59375 3.875 -2.21875 C 3.875 -1.859375 3.875 -1.3125 3.65625 -0.875 C 3.421875 -0.421875 2.984375 -0.140625 2.5 -0.140625 Z M 2.5 -0.140625 \" style=\"stroke:none;\"/>\n</symbol>\n<symbol id=\"glyph2-6\" overflow=\"visible\">\n<path d=\"M 4.46875 -3.984375 L 5.609375 -3.984375 L 5.609375 -4.296875 L 4.4375 -4.296875 L 4.4375 -5.453125 C 4.4375 -6.34375 4.921875 -6.8125 5.359375 -6.8125 C 5.390625 -6.8125 5.546875 -6.8125 5.6875 -6.734375 C 5.578125 -6.703125 5.390625 -6.5625 5.390625 -6.3125 C 5.390625 -6.09375 5.546875 -5.890625 5.828125 -5.890625 C 6.109375 -5.890625 6.265625 -6.09375 6.265625 -6.328125 C 6.265625 -6.6875 5.90625 -7.03125 5.359375 -7.03125 C 4.765625 -7.03125 4.328125 -6.65625 4.28125 -6.609375 C 3.984375 -6.984375 3.421875 -7.03125 3.15625 -7.03125 C 2.21875 -7.03125 1.0625 -6.515625 1.0625 -5.4375 L 1.0625 -4.296875 L 0.265625 -4.296875 L 0.265625 -3.984375 L 1.0625 -3.984375 L 1.0625 -0.75 C 1.0625 -0.3125 0.953125 -0.3125 0.28125 -0.3125 L 0.28125 0 C 0.609375 -0.015625 1.140625 -0.03125 1.390625 -0.03125 C 1.640625 -0.03125 2.125 -0.015625 2.5 0 L 2.5 -0.3125 C 1.828125 -0.3125 1.71875 -0.3125 1.71875 -0.75 L 1.71875 -3.984375 L 3.8125 -3.984375 L 3.8125 -0.75 C 3.8125 -0.3125 3.703125 -0.3125 3.03125 -0.3125 L 3.03125 0 C 3.421875 -0.015625 3.890625 -0.03125 4.171875 -0.03125 C 4.5625 -0.03125 5.03125 -0.03125 5.4375 0 L 5.4375 -0.3125 L 5.21875 -0.3125 C 4.484375 -0.3125 4.46875 -0.421875 4.46875 -0.78125 Z M 1.6875 -4.296875 L 1.6875 -5.421875 C 1.6875 -6.390625 2.5 -6.8125 3.15625 -6.8125 C 3.640625 -6.8125 3.921875 -6.625 3.921875 -6.625 L 3.921875 -6.609375 C 3.765625 -6.59375 3.5625 -6.453125 3.5625 -6.1875 C 3.5625 -6.125 3.5625 -5.875 3.84375 -5.78125 C 3.8125 -5.65625 3.8125 -5.5625 3.8125 -5.4375 L 3.8125 -4.296875 Z M 1.6875 -4.296875 \" style=\"stroke:none;\"/>\n</symbol>\n</g>\n<clipPath id=\"clip1\">\n  <path d=\"M 103 92 L 316.519531 92 L 316.519531 93 L 103 93 Z M 103 92 \"/>\n</clipPath>\n</defs>\n<g id=\"surface1\">\n<path d=\"M 0.00146875 0.00184375 L 70.868656 0.00184375 \" style=\"fill:none;stroke-width:0.3985;stroke-linecap:butt;stroke-linejoin:miter;stroke:rgb(0%,0%,0%);stroke-opacity:1;stroke-miterlimit:10;\" transform=\"matrix(1,0,0,-1,32.854,92.787)\"/>\n<path d=\"M 70.868656 0.00184375 L 155.450688 0.00184375 \" style=\"fill:none;stroke-width:0.3985;stroke-linecap:butt;stroke-linejoin:miter;stroke:rgb(0%,0%,0%);stroke-opacity:1;stroke-miterlimit:10;\" transform=\"matrix(1,0,0,-1,32.854,92.787)\"/>\n<path d=\"M -1.193785 1.595594 C -1.096129 0.997938 0.0015275 0.0995 0.298403 0.00184375 C 0.0015275 -0.0997187 -1.096129 -0.998156 -1.193785 -1.595812 \" style=\"fill:none;stroke-width:0.31879;stroke-linecap:round;stroke-linejoin:round;stroke:rgb(0%,0%,0%);stroke-opacity:1;stroke-miterlimit:10;\" transform=\"matrix(1,0,0,-1,188.30316,92.787)\"/>\n<g style=\"fill:rgb(0%,0%,0%);fill-opacity:1;\">\n  <use x=\"192.279\" xlink:href=\"#glyph0-1\" y=\"103.115\"/>\n</g>\n<g style=\"fill:rgb(0%,0%,0%);fill-opacity:1;\">\n  <use x=\"198.388\" xlink:href=\"#glyph1-1\" y=\"104.609\"/>\n</g>\n<path d=\"M 0.00146875 -84.580187 L 0.00146875 0.00184375 \" style=\"fill:none;stroke-width:0.3985;stroke-linecap:butt;stroke-linejoin:miter;stroke:rgb(0%,0%,0%);stroke-opacity:1;stroke-miterlimit:10;\" transform=\"matrix(1,0,0,-1,32.854,92.787)\"/>\n<path d=\"M -1.197265 1.595219 C -1.095703 0.997563 -0.0019525 0.099125 0.298829 0.00146875 C -0.0019525 -0.100094 -1.095703 -0.994625 -1.197265 -1.592281 \" style=\"fill:none;stroke-width:0.31879;stroke-linecap:round;stroke-linejoin:round;stroke:rgb(0%,0%,0%);stroke-opacity:1;stroke-miterlimit:10;\" transform=\"matrix(0,1,1,0,32.854,177.36914)\"/>\n<g style=\"fill:rgb(0%,0%,0%);fill-opacity:1;\">\n  <use x=\"24.353\" xlink:href=\"#glyph2-1\" y=\"95.998\"/>\n</g>\n<path d=\"M 0.00146875 0.00184375 L 0.00146875 84.583875 \" style=\"fill:none;stroke-width:0.3985;stroke-linecap:butt;stroke-linejoin:miter;stroke:rgb(0%,0%,0%);stroke-opacity:1;stroke-miterlimit:10;\" transform=\"matrix(1,0,0,-1,32.854,92.787)\"/>\n<path d=\"M -1.193577 1.592281 C -1.095921 0.994625 0.001735 0.100094 0.29861 -0.00146875 C 0.001735 -0.099125 -1.095921 -0.997563 -1.193577 -1.595219 \" style=\"fill:none;stroke-width:0.31879;stroke-linecap:round;stroke-linejoin:round;stroke:rgb(0%,0%,0%);stroke-opacity:1;stroke-miterlimit:10;\" transform=\"matrix(0,-1,-1,0,32.854,8.20486)\"/>\n<g style=\"fill:rgb(0%,0%,0%);fill-opacity:1;\">\n  <use x=\"3.321\" xlink:href=\"#glyph2-2\" y=\"10.239\"/>\n  <use x=\"8.856221\" xlink:href=\"#glyph2-3\" y=\"10.239\"/>\n</g>\n<g style=\"fill:rgb(0%,0%,0%);fill-opacity:1;\">\n  <use x=\"13.558568\" xlink:href=\"#glyph2-4\" y=\"10.239\"/>\n</g>\n<g style=\"fill:rgb(0%,0%,0%);fill-opacity:1;\">\n  <use x=\"18.537875\" xlink:href=\"#glyph2-5\" y=\"10.239\"/>\n  <use x=\"23.519175\" xlink:href=\"#glyph2-6\" y=\"10.239\"/>\n</g>\n<path d=\"M 70.868656 2.833875 L 70.868656 -2.834094 \" style=\"fill:none;stroke-width:0.3985;stroke-linecap:butt;stroke-linejoin:miter;stroke:rgb(0%,0%,0%);stroke-opacity:1;stroke-miterlimit:10;\" transform=\"matrix(1,0,0,-1,32.854,92.787)\"/>\n<g style=\"fill:rgb(0%,0%,0%);fill-opacity:1;\">\n  <use x=\"99.133\" xlink:href=\"#glyph0-2\" y=\"105.95\"/>\n</g>\n<path d=\"M 0.00146875 -70.865344 L 70.868656 0.00184375 \" style=\"fill:none;stroke-width:0.3985;stroke-linecap:butt;stroke-linejoin:miter;stroke:rgb(0%,0%,0%);stroke-opacity:1;stroke-dasharray:2.98883,2.98883;stroke-miterlimit:10;\" transform=\"matrix(1,0,0,-1,32.854,92.787)\"/>\n<path d=\"M 70.868656 0.00184375 L 141.735844 70.865125 \" style=\"fill:none;stroke-width:0.3985;stroke-linecap:butt;stroke-linejoin:miter;stroke:rgb(0%,0%,0%);stroke-opacity:1;stroke-miterlimit:10;\" transform=\"matrix(1,0,0,-1,32.854,92.787)\"/>\n<g clip-path=\"url(#clip1)\" clip-rule=\"nonzero\">\n<path d=\"M 283.466313 0.00184375 L 70.868656 0.00184375 \" style=\"fill:none;stroke-width:0.3985;stroke-linecap:butt;stroke-linejoin:miter;stroke:rgb(0%,0%,0%);stroke-opacity:1;stroke-miterlimit:10;\" transform=\"matrix(1,0,0,-1,32.854,92.787)\"/>\n</g>\n<path d=\"M 70.868656 0.00184375 L 155.450688 0.00184375 \" style=\"fill:none;stroke-width:0.3985;stroke-linecap:butt;stroke-linejoin:miter;stroke:rgb(0%,0%,0%);stroke-opacity:1;stroke-miterlimit:10;\" transform=\"matrix(1,0,0,-1,32.854,92.787)\"/>\n<path d=\"M -1.193785 1.595594 C -1.096129 0.997938 0.0015275 0.0995 0.298403 0.00184375 C 0.0015275 -0.0997187 -1.096129 -0.998156 -1.193785 -1.595812 \" style=\"fill:none;stroke-width:0.31879;stroke-linecap:round;stroke-linejoin:round;stroke:rgb(0%,0%,0%);stroke-opacity:1;stroke-miterlimit:10;\" transform=\"matrix(1,0,0,-1,188.30316,92.787)\"/>\n<g style=\"fill:rgb(0%,0%,0%);fill-opacity:1;\">\n  <use x=\"192.279\" xlink:href=\"#glyph0-1\" y=\"103.115\"/>\n</g>\n<g style=\"fill:rgb(0%,0%,0%);fill-opacity:1;\">\n  <use x=\"198.388\" xlink:href=\"#glyph1-1\" y=\"104.609\"/>\n</g>\n<path d=\"M 0.00146875 -84.580187 L 0.00146875 0.00184375 \" style=\"fill:none;stroke-width:0.3985;stroke-linecap:butt;stroke-linejoin:miter;stroke:rgb(0%,0%,0%);stroke-opacity:1;stroke-miterlimit:10;\" transform=\"matrix(1,0,0,-1,32.854,92.787)\"/>\n<path d=\"M -1.197265 1.595219 C -1.095703 0.997563 -0.0019525 0.099125 0.298829 0.00146875 C -0.0019525 -0.100094 -1.095703 -0.994625 -1.197265 -1.592281 \" style=\"fill:none;stroke-width:0.31879;stroke-linecap:round;stroke-linejoin:round;stroke:rgb(0%,0%,0%);stroke-opacity:1;stroke-miterlimit:10;\" transform=\"matrix(0,1,1,0,32.854,177.36914)\"/>\n<g style=\"fill:rgb(0%,0%,0%);fill-opacity:1;\">\n  <use x=\"24.353\" xlink:href=\"#glyph2-1\" y=\"95.998\"/>\n</g>\n<path d=\"M 0.00146875 0.00184375 L 0.00146875 84.583875 \" style=\"fill:none;stroke-width:0.3985;stroke-linecap:butt;stroke-linejoin:miter;stroke:rgb(0%,0%,0%);stroke-opacity:1;stroke-miterlimit:10;\" transform=\"matrix(1,0,0,-1,32.854,92.787)\"/>\n<path d=\"M -1.193577 1.592281 C -1.095921 0.994625 0.001735 0.100094 0.29861 -0.00146875 C 0.001735 -0.099125 -1.095921 -0.997563 -1.193577 -1.595219 \" style=\"fill:none;stroke-width:0.31879;stroke-linecap:round;stroke-linejoin:round;stroke:rgb(0%,0%,0%);stroke-opacity:1;stroke-miterlimit:10;\" transform=\"matrix(0,-1,-1,0,32.854,8.20486)\"/>\n<g style=\"fill:rgb(0%,0%,0%);fill-opacity:1;\">\n  <use x=\"3.321\" xlink:href=\"#glyph2-2\" y=\"10.239\"/>\n  <use x=\"8.856221\" xlink:href=\"#glyph2-3\" y=\"10.239\"/>\n</g>\n<g style=\"fill:rgb(0%,0%,0%);fill-opacity:1;\">\n  <use x=\"13.558568\" xlink:href=\"#glyph2-4\" y=\"10.239\"/>\n</g>\n<g style=\"fill:rgb(0%,0%,0%);fill-opacity:1;\">\n  <use x=\"18.537875\" xlink:href=\"#glyph2-5\" y=\"10.239\"/>\n  <use x=\"23.519175\" xlink:href=\"#glyph2-6\" y=\"10.239\"/>\n</g>\n<path d=\"M 70.868656 2.833875 L 70.868656 -2.834094 \" style=\"fill:none;stroke-width:0.3985;stroke-linecap:butt;stroke-linejoin:miter;stroke:rgb(0%,0%,0%);stroke-opacity:1;stroke-miterlimit:10;\" transform=\"matrix(1,0,0,-1,32.854,92.787)\"/>\n<g style=\"fill:rgb(0%,0%,0%);fill-opacity:1;\">\n  <use x=\"99.133\" xlink:href=\"#glyph0-2\" y=\"105.95\"/>\n</g>\n<path d=\"M 0.00146875 -70.865344 L 70.868656 0.00184375 \" style=\"fill:none;stroke-width:0.3985;stroke-linecap:butt;stroke-linejoin:miter;stroke:rgb(0%,0%,0%);stroke-opacity:1;stroke-dasharray:2.98883,2.98883;stroke-miterlimit:10;\" transform=\"matrix(1,0,0,-1,32.854,92.787)\"/>\n<path d=\"M 70.868656 0.00184375 L 141.735844 70.865125 \" style=\"fill:none;stroke-width:0.3985;stroke-linecap:butt;stroke-linejoin:miter;stroke:rgb(0%,0%,0%);stroke-opacity:1;stroke-miterlimit:10;\" transform=\"matrix(1,0,0,-1,32.854,92.787)\"/>\n</g>\n</svg>"
     },
     "metadata": {
      "isolated": "true",
      "tags": []
     },
     "output_type": "display_data"
    }
   ],
   "source": [
    "#@title games { vertical-output: true }\n",
    "\n",
    "%%tikz -l positioning -f svg --size 800,600\n",
    "\n",
    "\\draw [] (0,0) -- (2.5,0) ;\n",
    "\\draw[->] (2.5,0) -- (5.5,0) node[below right] (S_T) {$S_T$};\n",
    "\\draw [<-] (0,-3) -- (0,0) node[left] {$0$};\n",
    "\\draw [->] (0,0) -- (0,3) node[left] {payoff};\n",
    "\\draw (2.5,0.1) -- (2.5,-0.1) node[below] {$K$};\n",
    "\n",
    "\\draw [dashed] (0,-2.5) --(2.5,0);\n",
    "\\draw (2.5,0) -- (5,2.5);\n",
    "\n",
    "\\draw [] (10,0) -- (2.5,0) ;\n",
    "\\draw[->] (2.5,0) -- (5.5,0) node[below right] (S_T) {$S_T$};\n",
    "\\draw [<-] (0,-3) -- (0,0) node[left] {$0$};\n",
    "\\draw [->] (0,0) -- (0,3) node[left] {payoff};\n",
    "\\draw (2.5,0.1) -- (2.5,-0.1) node[below] {$K$};\n",
    "\n",
    "\\draw [dashed] (0,-2.5) --(2.5,0);\n",
    "\\draw (2.5,0) -- (5,2.5);\n",
    "\n"
   ]
  },
  {
   "cell_type": "markdown",
   "metadata": {
    "id": "6wrXZZw_oOIy"
   },
   "source": [
    "# Two bank world"
   ]
  },
  {
   "cell_type": "markdown",
   "metadata": {
    "id": "CkQOwIjBpXRU"
   },
   "source": [
    "Suppose there are only 2 banks in our imaginary world. The first bank offers two products: one is a deposit with guaranteed interest, and the other is a loan with a fixed interest rate.\n",
    "\n",
    "Let's see what the first bank offers."
   ]
  },
  {
   "cell_type": "code",
   "execution_count": 16,
   "metadata": {
    "colab": {
     "base_uri": "https://localhost:8080/",
     "height": 0
    },
    "id": "4MKeoTZlqjC5",
    "outputId": "ba8a5546-de38-4abc-ef80-426251fcea3c"
   },
   "outputs": [
    {
     "data": {
      "image/svg+xml": "<svg height=\"300px\" version=\"1.1\" viewBox=\"0 0 166.039 65.751\" width=\"400px\" xmlns=\"http://www.w3.org/2000/svg\" xmlns:xlink=\"http://www.w3.org/1999/xlink\">\n<defs>\n<g>\n<symbol id=\"glyph0-0\" overflow=\"visible\">\n<path d=\"\" style=\"stroke:none;\"/>\n</symbol>\n<symbol id=\"glyph0-1\" overflow=\"visible\">\n<path d=\"M 2.9375 -6.375 C 2.9375 -6.625 2.9375 -6.640625 2.703125 -6.640625 C 2.078125 -6 1.203125 -6 0.890625 -6 L 0.890625 -5.6875 C 1.09375 -5.6875 1.671875 -5.6875 2.1875 -5.953125 L 2.1875 -0.78125 C 2.1875 -0.421875 2.15625 -0.3125 1.265625 -0.3125 L 0.953125 -0.3125 L 0.953125 0 C 1.296875 -0.03125 2.15625 -0.03125 2.5625 -0.03125 C 2.953125 -0.03125 3.828125 -0.03125 4.171875 0 L 4.171875 -0.3125 L 3.859375 -0.3125 C 2.953125 -0.3125 2.9375 -0.421875 2.9375 -0.78125 Z M 2.9375 -6.375 \" style=\"stroke:none;\"/>\n</symbol>\n<symbol id=\"glyph0-2\" overflow=\"visible\">\n<path d=\"M 1.265625 -0.765625 L 2.328125 -1.796875 C 3.875 -3.171875 4.46875 -3.703125 4.46875 -4.703125 C 4.46875 -5.84375 3.578125 -6.640625 2.359375 -6.640625 C 1.234375 -6.640625 0.5 -5.71875 0.5 -4.828125 C 0.5 -4.28125 1 -4.28125 1.03125 -4.28125 C 1.203125 -4.28125 1.546875 -4.390625 1.546875 -4.8125 C 1.546875 -5.0625 1.359375 -5.328125 1.015625 -5.328125 C 0.9375 -5.328125 0.921875 -5.328125 0.890625 -5.3125 C 1.109375 -5.96875 1.65625 -6.328125 2.234375 -6.328125 C 3.140625 -6.328125 3.5625 -5.515625 3.5625 -4.703125 C 3.5625 -3.90625 3.078125 -3.125 2.515625 -2.5 L 0.609375 -0.375 C 0.5 -0.265625 0.5 -0.234375 0.5 0 L 4.203125 0 L 4.46875 -1.734375 L 4.234375 -1.734375 C 4.171875 -1.4375 4.109375 -1 4 -0.84375 C 3.9375 -0.765625 3.28125 -0.765625 3.0625 -0.765625 Z M 1.265625 -0.765625 \" style=\"stroke:none;\"/>\n</symbol>\n<symbol id=\"glyph0-3\" overflow=\"visible\">\n<path d=\"M 4.578125 -3.1875 C 4.578125 -3.984375 4.53125 -4.78125 4.1875 -5.515625 C 3.734375 -6.484375 2.90625 -6.640625 2.5 -6.640625 C 1.890625 -6.640625 1.171875 -6.375 0.75 -5.453125 C 0.4375 -4.765625 0.390625 -3.984375 0.390625 -3.1875 C 0.390625 -2.4375 0.421875 -1.546875 0.84375 -0.78125 C 1.265625 0.015625 2 0.21875 2.484375 0.21875 C 3.015625 0.21875 3.78125 0.015625 4.21875 -0.9375 C 4.53125 -1.625 4.578125 -2.40625 4.578125 -3.1875 Z M 2.484375 0 C 2.09375 0 1.5 -0.25 1.328125 -1.203125 C 1.21875 -1.796875 1.21875 -2.71875 1.21875 -3.3125 C 1.21875 -3.953125 1.21875 -4.609375 1.296875 -5.140625 C 1.484375 -6.328125 2.234375 -6.421875 2.484375 -6.421875 C 2.8125 -6.421875 3.46875 -6.234375 3.65625 -5.25 C 3.765625 -4.6875 3.765625 -3.9375 3.765625 -3.3125 C 3.765625 -2.5625 3.765625 -1.890625 3.65625 -1.25 C 3.5 -0.296875 2.9375 0 2.484375 0 Z M 2.484375 0 \" style=\"stroke:none;\"/>\n</symbol>\n</g>\n</defs>\n<g id=\"surface1\">\n<g style=\"fill:rgb(0%,0%,0%);fill-opacity:1;\">\n  <use x=\"43.17\" xlink:href=\"#glyph0-1\" y=\"13.062\"/>\n  <use x=\"48.1513\" xlink:href=\"#glyph0-2\" y=\"13.062\"/>\n</g>\n<g style=\"fill:rgb(0%,0%,0%);fill-opacity:1;\">\n  <use x=\"6.641\" xlink:href=\"#glyph0-1\" y=\"36.086\"/>\n  <use x=\"11.6223\" xlink:href=\"#glyph0-3\" y=\"36.086\"/>\n</g>\n<g style=\"fill:rgb(0%,0%,0%);fill-opacity:1;\">\n  <use x=\"43.17\" xlink:href=\"#glyph0-1\" y=\"59.11\"/>\n  <use x=\"48.1513\" xlink:href=\"#glyph0-2\" y=\"59.11\"/>\n</g>\n<path d=\"M -62.895 5.356469 L -43.758281 17.422875 \" style=\"fill:none;stroke-width:0.3985;stroke-linecap:butt;stroke-linejoin:miter;stroke:rgb(0%,0%,0%);stroke-opacity:1;stroke-miterlimit:10;\" transform=\"matrix(1,0,0,-1,83.02,32.876)\"/>\n<path d=\"M -1.19407 1.593144 C -1.095383 0.995371 0.00234977 0.10019 0.299621 0.000503721 C -0.0000907638 -0.101414 -1.094435 -0.995102 -1.196131 -1.595821 \" style=\"fill:none;stroke-width:0.31879;stroke-linecap:round;stroke-linejoin:round;stroke:rgb(0%,0%,0%);stroke-opacity:1;stroke-miterlimit:10;\" transform=\"matrix(0.84608,-0.53339,-0.53339,-0.84608,39.26239,15.45321)\"/>\n<path d=\"M -62.895 -5.358375 L -43.758281 -17.420875 \" style=\"fill:none;stroke-width:0.3985;stroke-linecap:butt;stroke-linejoin:miter;stroke:rgb(0%,0%,0%);stroke-opacity:1;stroke-miterlimit:10;\" transform=\"matrix(1,0,0,-1,83.02,32.876)\"/>\n<path d=\"M -1.195114 1.594209 C -1.095502 0.996793 0.000925649 0.0998014 0.298555 0.00118784 C 0.00128337 -0.0984989 -1.094366 -0.996984 -1.193054 -1.594757 \" style=\"fill:none;stroke-width:0.31879;stroke-linecap:round;stroke-linejoin:round;stroke:rgb(0%,0%,0%);stroke-opacity:1;stroke-miterlimit:10;\" transform=\"matrix(0.84608,0.53339,0.53339,-0.84608,39.26239,50.29879)\"/>\n</g>\n</svg>"
     },
     "metadata": {
      "isolated": "true",
      "tags": []
     },
     "output_type": "display_data"
    }
   ],
   "source": [
    "#@title The first bank { vertical-output: true }\n",
    "\n",
    "# \\node[] at (3, 1) {if you borrow 10, then you have to pay 12};\n",
    "# \\node[] at (3, 0) {if you deposit 10, then you will receive 12};\n",
    "\n",
    "\n",
    "%%tikz -l matrix -f svg -s 400,300\n",
    "\n",
    "\\matrix (m) [matrix of math nodes, row sep=1em, column sep=2em, nodes in empty cells] {\n",
    " & 12 &&  &&  \\\\\n",
    "10 & & && \\\\\n",
    "   & 12 && &&  \\\\\n",
    "};\n",
    "\\path[->]\n",
    "(m-2-1) edge (m-1-2)\n",
    "(m-2-1) edge (m-3-2)\n",
    ";\n",
    "\n",
    "\n",
    "\n"
   ]
  },
  {
   "cell_type": "markdown",
   "metadata": {
    "id": "ASH513zGex4Y"
   },
   "source": [
    "OK. I understand. Let's take a look at offers of the second bank."
   ]
  },
  {
   "cell_type": "code",
   "execution_count": 17,
   "metadata": {
    "colab": {
     "base_uri": "https://localhost:8080/",
     "height": 0
    },
    "id": "IKivp8FffFiH",
    "outputId": "add0918b-5bf6-4cc4-88b4-407f359db623"
   },
   "outputs": [
    {
     "data": {
      "image/svg+xml": "<svg height=\"300px\" version=\"1.1\" viewBox=\"0 0 166.039 65.751\" width=\"400px\" xmlns=\"http://www.w3.org/2000/svg\" xmlns:xlink=\"http://www.w3.org/1999/xlink\">\n<defs>\n<g>\n<symbol id=\"glyph0-0\" overflow=\"visible\">\n<path d=\"\" style=\"stroke:none;\"/>\n</symbol>\n<symbol id=\"glyph0-1\" overflow=\"visible\">\n<path d=\"M 1.265625 -0.765625 L 2.328125 -1.796875 C 3.875 -3.171875 4.46875 -3.703125 4.46875 -4.703125 C 4.46875 -5.84375 3.578125 -6.640625 2.359375 -6.640625 C 1.234375 -6.640625 0.5 -5.71875 0.5 -4.828125 C 0.5 -4.28125 1 -4.28125 1.03125 -4.28125 C 1.203125 -4.28125 1.546875 -4.390625 1.546875 -4.8125 C 1.546875 -5.0625 1.359375 -5.328125 1.015625 -5.328125 C 0.9375 -5.328125 0.921875 -5.328125 0.890625 -5.3125 C 1.109375 -5.96875 1.65625 -6.328125 2.234375 -6.328125 C 3.140625 -6.328125 3.5625 -5.515625 3.5625 -4.703125 C 3.5625 -3.90625 3.078125 -3.125 2.515625 -2.5 L 0.609375 -0.375 C 0.5 -0.265625 0.5 -0.234375 0.5 0 L 4.203125 0 L 4.46875 -1.734375 L 4.234375 -1.734375 C 4.171875 -1.4375 4.109375 -1 4 -0.84375 C 3.9375 -0.765625 3.28125 -0.765625 3.0625 -0.765625 Z M 1.265625 -0.765625 \" style=\"stroke:none;\"/>\n</symbol>\n<symbol id=\"glyph0-2\" overflow=\"visible\">\n<path d=\"M 4.578125 -3.1875 C 4.578125 -3.984375 4.53125 -4.78125 4.1875 -5.515625 C 3.734375 -6.484375 2.90625 -6.640625 2.5 -6.640625 C 1.890625 -6.640625 1.171875 -6.375 0.75 -5.453125 C 0.4375 -4.765625 0.390625 -3.984375 0.390625 -3.1875 C 0.390625 -2.4375 0.421875 -1.546875 0.84375 -0.78125 C 1.265625 0.015625 2 0.21875 2.484375 0.21875 C 3.015625 0.21875 3.78125 0.015625 4.21875 -0.9375 C 4.53125 -1.625 4.578125 -2.40625 4.578125 -3.1875 Z M 2.484375 0 C 2.09375 0 1.5 -0.25 1.328125 -1.203125 C 1.21875 -1.796875 1.21875 -2.71875 1.21875 -3.3125 C 1.21875 -3.953125 1.21875 -4.609375 1.296875 -5.140625 C 1.484375 -6.328125 2.234375 -6.421875 2.484375 -6.421875 C 2.8125 -6.421875 3.46875 -6.234375 3.65625 -5.25 C 3.765625 -4.6875 3.765625 -3.9375 3.765625 -3.3125 C 3.765625 -2.5625 3.765625 -1.890625 3.65625 -1.25 C 3.5 -0.296875 2.9375 0 2.484375 0 Z M 2.484375 0 \" style=\"stroke:none;\"/>\n</symbol>\n<symbol id=\"glyph0-3\" overflow=\"visible\">\n<path d=\"M 2.9375 -6.375 C 2.9375 -6.625 2.9375 -6.640625 2.703125 -6.640625 C 2.078125 -6 1.203125 -6 0.890625 -6 L 0.890625 -5.6875 C 1.09375 -5.6875 1.671875 -5.6875 2.1875 -5.953125 L 2.1875 -0.78125 C 2.1875 -0.421875 2.15625 -0.3125 1.265625 -0.3125 L 0.953125 -0.3125 L 0.953125 0 C 1.296875 -0.03125 2.15625 -0.03125 2.5625 -0.03125 C 2.953125 -0.03125 3.828125 -0.03125 4.171875 0 L 4.171875 -0.3125 L 3.859375 -0.3125 C 2.953125 -0.3125 2.9375 -0.421875 2.9375 -0.78125 Z M 2.9375 -6.375 \" style=\"stroke:none;\"/>\n</symbol>\n</g>\n</defs>\n<g id=\"surface1\">\n<g style=\"fill:rgb(0%,0%,0%);fill-opacity:1;\">\n  <use x=\"96.303\" xlink:href=\"#glyph0-1\" y=\"13.062\"/>\n  <use x=\"101.2843\" xlink:href=\"#glyph0-2\" y=\"13.062\"/>\n</g>\n<g style=\"fill:rgb(0%,0%,0%);fill-opacity:1;\">\n  <use x=\"59.774\" xlink:href=\"#glyph0-3\" y=\"36.086\"/>\n  <use x=\"64.7553\" xlink:href=\"#glyph0-2\" y=\"36.086\"/>\n</g>\n<g style=\"fill:rgb(0%,0%,0%);fill-opacity:1;\">\n  <use x=\"98.793\" xlink:href=\"#glyph0-2\" y=\"59.11\"/>\n</g>\n<path d=\"M -9.762187 5.356469 L 9.374531 17.422875 \" style=\"fill:none;stroke-width:0.3985;stroke-linecap:butt;stroke-linejoin:miter;stroke:rgb(0%,0%,0%);stroke-opacity:1;stroke-miterlimit:10;\" transform=\"matrix(1,0,0,-1,83.02,32.876)\"/>\n<path d=\"M -1.194559 1.593452 C -1.095871 0.995679 0.00186134 0.100498 0.299133 0.000811644 C -0.000579201 -0.101106 -1.094924 -0.994794 -1.196619 -1.595513 \" style=\"fill:none;stroke-width:0.31879;stroke-linecap:round;stroke-linejoin:round;stroke:rgb(0%,0%,0%);stroke-opacity:1;stroke-miterlimit:10;\" transform=\"matrix(0.84608,-0.53339,-0.53339,-0.84608,92.39578,15.45321)\"/>\n<path d=\"M -9.762187 -5.358375 L 11.866719 -18.991187 \" style=\"fill:none;stroke-width:0.3985;stroke-linecap:butt;stroke-linejoin:miter;stroke:rgb(0%,0%,0%);stroke-opacity:1;stroke-miterlimit:10;\" transform=\"matrix(1,0,0,-1,83.02,32.876)\"/>\n<path d=\"M -1.193927 1.594162 C -1.094337 0.996726 0.00208169 0.0996643 0.299715 0.00103554 C -0.000872963 -0.100724 -1.095369 -0.9938 -1.197388 -1.593667 \" style=\"fill:none;stroke-width:0.31879;stroke-linecap:round;stroke-linejoin:round;stroke:rgb(0%,0%,0%);stroke-opacity:1;stroke-miterlimit:10;\" transform=\"matrix(0.84608,0.53334,0.53334,-0.84608,94.88649,51.86837)\"/>\n</g>\n</svg>"
     },
     "metadata": {
      "isolated": "true",
      "tags": []
     },
     "output_type": "display_data"
    }
   ],
   "source": [
    "#@title The second bank { vertical-output: true }\n",
    "\n",
    "# \\node[] at (3, 1) {if you borrow 10, then you have to pay 12};\n",
    "# \\node[] at (3, 0) {if you deposit 10, then you will receive 12};\n",
    "\n",
    "\n",
    "%%tikz -l matrix -f svg -s 400,300\n",
    "\n",
    "\\matrix (m) [matrix of math nodes, row sep=1em, column sep=2em, nodes in empty cells] {\n",
    " &  && 20  &&  \\\\\n",
    "& &10  && \\\\\n",
    "   &  && 0 &&  \\\\\n",
    "};\n",
    "\\path[->]\n",
    "(m-2-3) edge (m-1-4)\n",
    "(m-2-3) edge (m-3-4)\n",
    ";"
   ]
  },
  {
   "cell_type": "markdown",
   "metadata": {
    "id": "7uMd7sM_fkyO"
   },
   "source": [
    "The second bank also offers two products: deposit and loan, but quite different from the first bank.\n",
    "\n",
    "The second bank's deposit does not guarantee interest, nor does it guarantee the principal. In short, you can lose all your money.\n",
    "\n",
    "Can you believe that there is someone who is willing to deposit in the second bank? Actually, there is a lot. \n",
    "\n",
    "Because the second bank offers an incredible rate of interest to the deposit. \n",
    "\n",
    "100%, which means the bank will reimburse you the double amount of your deposit.\n",
    "\n",
    "You might think that this is gambling. In fact, financial derivatives have all the elements of gambling. Nevertheless, the reason gambling is illegal and derivatives are legitimate is that derivatives can provide opportunities that gambling cannot provide, called risk hedge.\n",
    "\n",
    "So we will accept the second bank's products."
   ]
  },
  {
   "cell_type": "markdown",
   "metadata": {
    "id": "4ne5Y5Y6kDPD"
   },
   "source": [
    "이야기를 만들어 보겠습니다.\n",
    "\n",
    "농업은행이 있습니다. 농업은행은 예금을 받기도 하고, 대출을 해주기도 합니다. \n",
    "\n",
    "농업은행에 예금을 하는 사람은 low risk, low return을 믿는 사람입니다.\n",
    "\n",
    "농업은행은 농부에게만 대출을 해줍니다. 농부는 경기에 상관없이 추수 후에 10%의 이자를 포함한 금액을 상환합니다.\n",
    "\n",
    "벤처은행이 있습니다. 벤처은행도 (원금 비보장형) 예금을 받기도 하고, 대출을 해주기도 합니다.\n",
    "\n",
    "벤처은행은 벤처에게만 대출을 해줍니다. 벤처는 경기가 좋아진 경우에는 원금 + 원금의 100%의 이자, 즉 원금의 2배를 상환하여야 하지만, 경기가 나빠진 경우에는 이자와 함께 원금 상환이 면제됩니다.\n",
    "\n",
    "벤처은행에 예금을 하는 사람은 high risk, high return을 믿는 (고수익 추구형) 사람입니다. \n",
    "\n",
    "이 세상이 너무 지루한 것도 싫고, 너무 위험한 것도 싫은 교수가 교수은행을 설립하였습니다.\n",
    "\n",
    "교수은행의 대출상품은 성공한 경우 원금 + 원금의 50%의 이자를 상환해야 하고, 실패한 경우는 이자와 원금의 40%가 면제되어 원금의 60%만 상환을 하면 됩니다.\n",
    "\n",
    "그리고 조교에게 새로운 은행을 광고하도록 하였습니다. 그런데, 조교가 다음과 같은 조건으로 광고를 내었습니다.\n",
    "\n",
    "\"10을 투자하고, 경기가 좋아지면 15 받지만, 경기가 안좋아져도 6을 받을 수 있는 예금 상품이 있습니다.\n",
    "대출도 조건없이 가능합니다.\"\n",
    "\n",
    "왜냐하면, 이 교수에게 금융공학을 배운 학생들이 arbitrage를 하기 시작하였기 때문입니다.\n",
    "\n",
    "\n",
    "\n"
   ]
  },
  {
   "cell_type": "markdown",
   "metadata": {
    "id": "Jv9UzBR5a-kA"
   },
   "source": [
    "\n",
    "  \\begin{array}{|c|c|c|c|c|c|c|c|}\\hline\\\\ \\\\\n",
    "  \\mathcal{} & \\mathcal{A} & \\mathcal{B} & \\mathcal{O} & o & \\Omega & \\omega & \\Theta \\\\ \\hline\\\\ \\\\\n",
    "  a & lg^kn & n^\\epsilon & yes\\; no & yes\\; no & yes\\; no & yes\\; no & yes\\; no \\\\ \\hline\\\\ \\\\\n",
    "  b & n^k & c^n & yes\\; no & yes\\; no & yes\\; no & yes\\; no & yes\\; no   \\\\ \\hline\\\\ \\\\\n",
    "  c & \\sqrt{n} & n^{sin n} & yes\\; no & yes\\; no & yes\\; no & yes\\; no & yes\\; no   \\\\ \\hline\\\\ \\\\\n",
    "  d & 2^n & 2^{n/2} & yes\\; no & yes\\; no & yes\\; no & yes\\; no & yes\\; no  \\\\ \\hline\\\\ \\\\\n",
    "  e & n^{lg c} & c^{lg n} & yes\\; no & yes\\; no & yes\\; no & yes\\; no & yes\\; no  \\\\ \\hline\\\\ \\\\\n",
    "  f & lg(n!) & lg(n^n) & yes\\; no & yes\\; no & yes\\; no & yes\\; no & yes\\; no \\\\ \\hline\\\\\n",
    "  \\end{array}"
   ]
  },
  {
   "cell_type": "code",
   "execution_count": 17,
   "metadata": {
    "id": "MaM9Bxgoa5no"
   },
   "outputs": [],
   "source": []
  },
  {
   "cell_type": "markdown",
   "metadata": {
    "id": "OX5xT3hlh_ya"
   },
   "source": [
    "\\begin{array} {cc}\n",
    "a & b \\\\\n",
    "c & d \\\\\n",
    "\\end{array}"
   ]
  },
  {
   "cell_type": "markdown",
   "metadata": {
    "id": "QjOUvjS4ibUJ"
   },
   "source": [
    "\\begin{align}\n",
    "y &= ax + b \\\\\n",
    "y &= \\\\ \n",
    "\\end{align}"
   ]
  },
  {
   "cell_type": "code",
   "execution_count": 17,
   "metadata": {
    "id": "vROd4xQLiukb"
   },
   "outputs": [],
   "source": []
  },
  {
   "cell_type": "markdown",
   "metadata": {
    "id": "PwlGEkt-pT-Y"
   },
   "source": []
  },
  {
   "cell_type": "markdown",
   "metadata": {
    "id": "30lmKPQqp-HT"
   },
   "source": [
    "# Three bank world"
   ]
  },
  {
   "cell_type": "code",
   "execution_count": 17,
   "metadata": {
    "id": "_fxz7H6IqAjo"
   },
   "outputs": [],
   "source": []
  },
  {
   "cell_type": "markdown",
   "metadata": {
    "id": "6lBnD3meqE7G"
   },
   "source": [
    "# Replication"
   ]
  },
  {
   "cell_type": "code",
   "execution_count": 18,
   "metadata": {
    "colab": {
     "base_uri": "https://localhost:8080/",
     "height": 0
    },
    "id": "WHUFsqmKDXiT",
    "outputId": "1c03c0bd-c855-4cab-d803-66b873c109c1"
   },
   "outputs": [
    {
     "data": {
      "image/svg+xml": "<svg height=\"100px\" version=\"1.1\" viewBox=\"0 0 221.67 39.405\" width=\"1000px\" xmlns=\"http://www.w3.org/2000/svg\" xmlns:xlink=\"http://www.w3.org/1999/xlink\">\n<defs>\n<g>\n<symbol id=\"glyph0-0\" overflow=\"visible\">\n<path d=\"\" style=\"stroke:none;\"/>\n</symbol>\n<symbol id=\"glyph0-1\" overflow=\"visible\">\n<path d=\"M 2.9375 -6.375 C 2.9375 -6.625 2.9375 -6.640625 2.703125 -6.640625 C 2.078125 -6 1.203125 -6 0.890625 -6 L 0.890625 -5.6875 C 1.09375 -5.6875 1.671875 -5.6875 2.1875 -5.953125 L 2.1875 -0.78125 C 2.1875 -0.421875 2.15625 -0.3125 1.265625 -0.3125 L 0.953125 -0.3125 L 0.953125 0 C 1.296875 -0.03125 2.15625 -0.03125 2.5625 -0.03125 C 2.953125 -0.03125 3.828125 -0.03125 4.171875 0 L 4.171875 -0.3125 L 3.859375 -0.3125 C 2.953125 -0.3125 2.9375 -0.421875 2.9375 -0.78125 Z M 2.9375 -6.375 \" style=\"stroke:none;\"/>\n</symbol>\n<symbol id=\"glyph0-2\" overflow=\"visible\">\n<path d=\"M 4.578125 -3.1875 C 4.578125 -3.984375 4.53125 -4.78125 4.1875 -5.515625 C 3.734375 -6.484375 2.90625 -6.640625 2.5 -6.640625 C 1.890625 -6.640625 1.171875 -6.375 0.75 -5.453125 C 0.4375 -4.765625 0.390625 -3.984375 0.390625 -3.1875 C 0.390625 -2.4375 0.421875 -1.546875 0.84375 -0.78125 C 1.265625 0.015625 2 0.21875 2.484375 0.21875 C 3.015625 0.21875 3.78125 0.015625 4.21875 -0.9375 C 4.53125 -1.625 4.578125 -2.40625 4.578125 -3.1875 Z M 2.484375 0 C 2.09375 0 1.5 -0.25 1.328125 -1.203125 C 1.21875 -1.796875 1.21875 -2.71875 1.21875 -3.3125 C 1.21875 -3.953125 1.21875 -4.609375 1.296875 -5.140625 C 1.484375 -6.328125 2.234375 -6.421875 2.484375 -6.421875 C 2.8125 -6.421875 3.46875 -6.234375 3.65625 -5.25 C 3.765625 -4.6875 3.765625 -3.9375 3.765625 -3.3125 C 3.765625 -2.5625 3.765625 -1.890625 3.65625 -1.25 C 3.5 -0.296875 2.9375 0 2.484375 0 Z M 2.484375 0 \" style=\"stroke:none;\"/>\n</symbol>\n<symbol id=\"glyph0-3\" overflow=\"visible\">\n<path d=\"M 1.265625 -0.765625 L 2.328125 -1.796875 C 3.875 -3.171875 4.46875 -3.703125 4.46875 -4.703125 C 4.46875 -5.84375 3.578125 -6.640625 2.359375 -6.640625 C 1.234375 -6.640625 0.5 -5.71875 0.5 -4.828125 C 0.5 -4.28125 1 -4.28125 1.03125 -4.28125 C 1.203125 -4.28125 1.546875 -4.390625 1.546875 -4.8125 C 1.546875 -5.0625 1.359375 -5.328125 1.015625 -5.328125 C 0.9375 -5.328125 0.921875 -5.328125 0.890625 -5.3125 C 1.109375 -5.96875 1.65625 -6.328125 2.234375 -6.328125 C 3.140625 -6.328125 3.5625 -5.515625 3.5625 -4.703125 C 3.5625 -3.90625 3.078125 -3.125 2.515625 -2.5 L 0.609375 -0.375 C 0.5 -0.265625 0.5 -0.234375 0.5 0 L 4.203125 0 L 4.46875 -1.734375 L 4.234375 -1.734375 C 4.171875 -1.4375 4.109375 -1 4 -0.84375 C 3.9375 -0.765625 3.28125 -0.765625 3.0625 -0.765625 Z M 1.265625 -0.765625 \" style=\"stroke:none;\"/>\n</symbol>\n<symbol id=\"glyph0-4\" overflow=\"visible\">\n<path d=\"M 2.34375 -2.484375 C 2.34375 -3.734375 3.3125 -4.453125 3.65625 -4.703125 C 3.921875 -4.90625 4.140625 -5.265625 4.140625 -5.6875 C 4.140625 -6.265625 3.734375 -7.03125 2.25 -7.03125 C 1.171875 -7.03125 0.5625 -6.34375 0.5625 -5.703125 C 0.5625 -5.359375 0.78125 -5.21875 1.015625 -5.21875 C 1.296875 -5.21875 1.46875 -5.421875 1.46875 -5.6875 C 1.46875 -6.125 1.0625 -6.125 0.921875 -6.125 C 1.21875 -6.65625 1.796875 -6.8125 2.21875 -6.8125 C 3.3125 -6.8125 3.3125 -6.125 3.3125 -5.734375 C 3.3125 -5.15625 3.15625 -4.96875 2.96875 -4.796875 C 2.3125 -4.078125 2.09375 -3.15625 2.09375 -2.546875 L 2.09375 -2.109375 C 2.09375 -1.921875 2.09375 -1.859375 2.21875 -1.859375 C 2.34375 -1.859375 2.34375 -1.953125 2.34375 -2.140625 Z M 2.734375 -0.53125 C 2.734375 -0.8125 2.5 -1.0625 2.21875 -1.0625 C 1.921875 -1.0625 1.6875 -0.8125 1.6875 -0.53125 C 1.6875 -0.234375 1.921875 0 2.21875 0 C 2.5 0 2.734375 -0.234375 2.734375 -0.53125 Z M 2.734375 -0.53125 \" style=\"stroke:none;\"/>\n</symbol>\n<symbol id=\"glyph0-5\" overflow=\"visible\">\n<path d=\"M 4.46875 -2 C 4.46875 -3.1875 3.65625 -4.1875 2.578125 -4.1875 C 2.109375 -4.1875 1.671875 -4.03125 1.3125 -3.671875 L 1.3125 -5.625 C 1.515625 -5.5625 1.84375 -5.5 2.15625 -5.5 C 3.390625 -5.5 4.09375 -6.40625 4.09375 -6.53125 C 4.09375 -6.59375 4.0625 -6.640625 3.984375 -6.640625 C 3.984375 -6.640625 3.953125 -6.640625 3.90625 -6.609375 C 3.703125 -6.515625 3.21875 -6.3125 2.546875 -6.3125 C 2.15625 -6.3125 1.6875 -6.390625 1.21875 -6.59375 C 1.140625 -6.625 1.125 -6.625 1.109375 -6.625 C 1 -6.625 1 -6.546875 1 -6.390625 L 1 -3.4375 C 1 -3.265625 1 -3.1875 1.140625 -3.1875 C 1.21875 -3.1875 1.234375 -3.203125 1.28125 -3.265625 C 1.390625 -3.421875 1.75 -3.96875 2.5625 -3.96875 C 3.078125 -3.96875 3.328125 -3.515625 3.40625 -3.328125 C 3.5625 -2.953125 3.59375 -2.578125 3.59375 -2.078125 C 3.59375 -1.71875 3.59375 -1.125 3.34375 -0.703125 C 3.109375 -0.3125 2.734375 -0.0625 2.28125 -0.0625 C 1.5625 -0.0625 0.984375 -0.59375 0.8125 -1.171875 C 0.84375 -1.171875 0.875 -1.15625 0.984375 -1.15625 C 1.3125 -1.15625 1.484375 -1.40625 1.484375 -1.640625 C 1.484375 -1.890625 1.3125 -2.140625 0.984375 -2.140625 C 0.84375 -2.140625 0.5 -2.0625 0.5 -1.609375 C 0.5 -0.75 1.1875 0.21875 2.296875 0.21875 C 3.453125 0.21875 4.46875 -0.734375 4.46875 -2 Z M 4.46875 -2 \" style=\"stroke:none;\"/>\n</symbol>\n<symbol id=\"glyph0-6\" overflow=\"visible\">\n<path d=\"M 1.3125 -3.265625 L 1.3125 -3.515625 C 1.3125 -6.03125 2.546875 -6.390625 3.0625 -6.390625 C 3.296875 -6.390625 3.71875 -6.328125 3.9375 -5.984375 C 3.78125 -5.984375 3.390625 -5.984375 3.390625 -5.546875 C 3.390625 -5.234375 3.625 -5.078125 3.84375 -5.078125 C 4 -5.078125 4.3125 -5.171875 4.3125 -5.5625 C 4.3125 -6.15625 3.875 -6.640625 3.046875 -6.640625 C 1.765625 -6.640625 0.421875 -5.359375 0.421875 -3.15625 C 0.421875 -0.484375 1.578125 0.21875 2.5 0.21875 C 3.609375 0.21875 4.5625 -0.71875 4.5625 -2.03125 C 4.5625 -3.296875 3.671875 -4.25 2.5625 -4.25 C 1.890625 -4.25 1.515625 -3.75 1.3125 -3.265625 Z M 2.5 -0.0625 C 1.875 -0.0625 1.578125 -0.65625 1.515625 -0.8125 C 1.328125 -1.28125 1.328125 -2.078125 1.328125 -2.25 C 1.328125 -3.03125 1.65625 -4.03125 2.546875 -4.03125 C 2.71875 -4.03125 3.171875 -4.03125 3.484375 -3.40625 C 3.65625 -3.046875 3.65625 -2.53125 3.65625 -2.046875 C 3.65625 -1.5625 3.65625 -1.0625 3.484375 -0.703125 C 3.1875 -0.109375 2.734375 -0.0625 2.5 -0.0625 Z M 2.5 -0.0625 \" style=\"stroke:none;\"/>\n</symbol>\n</g>\n</defs>\n<g id=\"surface1\">\n<g style=\"fill:rgb(0%,0%,0%);fill-opacity:1;\">\n  <use x=\"6.641\" xlink:href=\"#glyph0-1\" y=\"22.913\"/>\n  <use x=\"11.6223\" xlink:href=\"#glyph0-2\" y=\"22.913\"/>\n</g>\n<g style=\"fill:rgb(0%,0%,0%);fill-opacity:1;\">\n  <use x=\"34.987\" xlink:href=\"#glyph0-1\" y=\"13.062\"/>\n  <use x=\"39.9683\" xlink:href=\"#glyph0-3\" y=\"13.062\"/>\n</g>\n<g style=\"fill:rgb(0%,0%,0%);fill-opacity:1;\">\n  <use x=\"34.987\" xlink:href=\"#glyph0-1\" y=\"32.764\"/>\n  <use x=\"39.9683\" xlink:href=\"#glyph0-3\" y=\"32.764\"/>\n</g>\n<g style=\"fill:rgb(0%,0%,0%);fill-opacity:1;\">\n  <use x=\"91.68\" xlink:href=\"#glyph0-1\" y=\"22.913\"/>\n  <use x=\"96.6613\" xlink:href=\"#glyph0-2\" y=\"22.913\"/>\n</g>\n<g style=\"fill:rgb(0%,0%,0%);fill-opacity:1;\">\n  <use x=\"120.027\" xlink:href=\"#glyph0-3\" y=\"13.062\"/>\n  <use x=\"125.0083\" xlink:href=\"#glyph0-2\" y=\"13.062\"/>\n</g>\n<g style=\"fill:rgb(0%,0%,0%);fill-opacity:1;\">\n  <use x=\"122.517\" xlink:href=\"#glyph0-2\" y=\"32.764\"/>\n</g>\n<g style=\"fill:rgb(0%,0%,0%);fill-opacity:1;\">\n  <use x=\"179.349\" xlink:href=\"#glyph0-4\" y=\"23.162\"/>\n</g>\n<g style=\"fill:rgb(0%,0%,0%);fill-opacity:1;\">\n  <use x=\"205.066\" xlink:href=\"#glyph0-1\" y=\"13.062\"/>\n  <use x=\"210.0473\" xlink:href=\"#glyph0-5\" y=\"13.062\"/>\n</g>\n<g style=\"fill:rgb(0%,0%,0%);fill-opacity:1;\">\n  <use x=\"207.557\" xlink:href=\"#glyph0-6\" y=\"32.764\"/>\n</g>\n<path d=\"M 8.503 2.953 L 19.413156 6.745969 \" style=\"fill:none;stroke-width:0.3985;stroke-linecap:butt;stroke-linejoin:miter;stroke:rgb(0%,0%,0%);stroke-opacity:1;stroke-miterlimit:10;\" transform=\"matrix(1,0,0,-1,11.622,19.703)\"/>\n<path d=\"M -1.193775 1.594189 C -1.096636 0.995191 -0.00126409 0.0987819 0.298193 -0.00116438 C -0.0000924428 -0.099665 -1.09612 -0.997762 -1.19615 -1.59425 \" style=\"fill:none;stroke-width:0.31879;stroke-linecap:round;stroke-linejoin:round;stroke:rgb(0%,0%,0%);stroke-opacity:1;stroke-miterlimit:10;\" transform=\"matrix(0.94678,-0.32904,-0.32904,-0.94678,31.0337,12.95639)\"/>\n<path d=\"M 8.503 -2.95325 L 19.413156 -6.746219 \" style=\"fill:none;stroke-width:0.3985;stroke-linecap:butt;stroke-linejoin:miter;stroke:rgb(0%,0%,0%);stroke-opacity:1;stroke-miterlimit:10;\" transform=\"matrix(1,0,0,-1,11.622,19.703)\"/>\n<path d=\"M -1.196068 1.594014 C -1.096039 0.997527 -0.0000105643 0.0994294 0.298275 0.00092878 C -0.00118221 -0.0990175 -1.096555 -0.995427 -1.193693 -1.594424 \" style=\"fill:none;stroke-width:0.31879;stroke-linecap:round;stroke-linejoin:round;stroke:rgb(0%,0%,0%);stroke-opacity:1;stroke-miterlimit:10;\" transform=\"matrix(0.94678,0.32904,0.32904,-0.94678,31.0337,26.44961)\"/>\n<path d=\"M 93.542063 2.953 L 104.452219 6.745969 \" style=\"fill:none;stroke-width:0.3985;stroke-linecap:butt;stroke-linejoin:miter;stroke:rgb(0%,0%,0%);stroke-opacity:1;stroke-miterlimit:10;\" transform=\"matrix(1,0,0,-1,11.622,19.703)\"/>\n<path d=\"M -1.195063 1.594636 C -1.097925 0.995639 0.0011284 0.0979504 0.296904 -0.000716502 C -0.00138116 -0.0992171 -1.097409 -0.997314 -1.197439 -1.593802 \" style=\"fill:none;stroke-width:0.31879;stroke-linecap:round;stroke-linejoin:round;stroke:rgb(0%,0%,0%);stroke-opacity:1;stroke-miterlimit:10;\" transform=\"matrix(0.94678,-0.32904,-0.32904,-0.94678,116.07413,12.95639)\"/>\n<path d=\"M 93.542063 -2.95325 L 106.944406 -7.613406 \" style=\"fill:none;stroke-width:0.3985;stroke-linecap:butt;stroke-linejoin:miter;stroke:rgb(0%,0%,0%);stroke-opacity:1;stroke-miterlimit:10;\" transform=\"matrix(1,0,0,-1,11.622,19.703)\"/>\n<path d=\"M -1.195428 1.592363 C -1.095383 0.995884 0.000659382 0.0978271 0.298945 -0.000664136 C -0.000506646 -0.100618 -1.095843 -0.99705 -1.194243 -1.592362 \" style=\"fill:none;stroke-width:0.31879;stroke-linecap:round;stroke-linejoin:round;stroke:rgb(0%,0%,0%);stroke-opacity:1;stroke-miterlimit:10;\" transform=\"matrix(0.94678,0.32907,0.32907,-0.94678,118.56484,27.31506)\"/>\n<path d=\"M 175.952219 2.038938 L 189.491281 6.745969 \" style=\"fill:none;stroke-width:0.3985;stroke-linecap:butt;stroke-linejoin:miter;stroke:rgb(0%,0%,0%);stroke-opacity:1;stroke-miterlimit:10;\" transform=\"matrix(1,0,0,-1,11.622,19.703)\"/>\n<path d=\"M -1.196361 1.595088 C -1.095542 0.994811 -0.000169744 0.0984015 0.299287 -0.0015447 C 0.00100191 -0.100045 -1.095026 -0.998143 -1.195055 -1.59463 \" style=\"fill:none;stroke-width:0.31879;stroke-linecap:round;stroke-linejoin:round;stroke:rgb(0%,0%,0%);stroke-opacity:1;stroke-miterlimit:10;\" transform=\"matrix(0.94678,-0.32904,-0.32904,-0.94678,201.11457,12.95639)\"/>\n<path d=\"M 175.952219 -2.039187 L 191.983469 -7.613406 \" style=\"fill:none;stroke-width:0.3985;stroke-linecap:butt;stroke-linejoin:miter;stroke:rgb(0%,0%,0%);stroke-opacity:1;stroke-miterlimit:10;\" transform=\"matrix(1,0,0,-1,11.622,19.703)\"/>\n<path d=\"M -1.196689 1.591997 C -1.096665 0.995507 -0.000641621 0.0973961 0.297644 -0.00110771 C 0.00186609 -0.0997721 -1.0972 -0.997454 -1.195623 -1.592771 \" style=\"fill:none;stroke-width:0.31879;stroke-linecap:round;stroke-linejoin:round;stroke:rgb(0%,0%,0%);stroke-opacity:1;stroke-miterlimit:10;\" transform=\"matrix(0.94678,0.32903,0.32903,-0.94678,203.60528,27.31508)\"/>\n</g>\n</svg>"
     },
     "metadata": {
      "isolated": "true",
      "tags": []
     },
     "output_type": "display_data"
    }
   ],
   "source": [
    "#@title Games { vertical-output: true, display-mode: \"form\" }\n",
    "\n",
    "\n",
    "%%tikz -l matrix -S test_output.tikz -f svg -s 1000,100\n",
    "\n",
    "\\node[matrix] (1) {\\node (11) {10};\\\\};\n",
    "\n",
    "\\node[matrix, right of=1] (2) {\\node (21) {12};\\\\ \\node (22) {};\\\\ \\node (23) {12};\\\\};\n",
    "\n",
    "\\node[right of=2] (3) {};\n",
    "\n",
    "\\node[matrix, right of=3] (4) {\\node (41) {10};\\\\};\n",
    "\n",
    "\\node[matrix, right of=4] (5) {\\node (51) {20};\\\\ \\node (52) {};\\\\ \\node (53) {0};\\\\};\n",
    "\n",
    "\\node[right of=5] (6) {};\n",
    "\n",
    "\\node[matrix, right of=6] (7) {\\node (71) {?};\\\\};\n",
    "\n",
    "\\node[matrix, right of=7] (8) {\\node (81) {15};\\\\ \\node (82) {};\\\\ \\node (83) {6};\\\\};\n",
    "\n",
    "\\draw(11) edge[->] (21);\n",
    "\\draw(11) edge[->] (23);\n",
    "\n",
    "\\draw(41) edge[->] (51);\n",
    "\\draw(41) edge[->] (53);\n",
    "\n",
    "\\draw(71) edge[->] (81);\n",
    "\\draw(71) edge[->] (83);\n"
   ]
  },
  {
   "cell_type": "code",
   "execution_count": 19,
   "metadata": {
    "colab": {
     "base_uri": "https://localhost:8080/",
     "height": 0
    },
    "id": "_e-dHefnEIXw",
    "outputId": "72f881d7-04d6-4cc4-c6a5-b06bcbf33a4c"
   },
   "outputs": [
    {
     "data": {
      "image/svg+xml": "<svg height=\"100px\" version=\"1.1\" viewBox=\"0 0 221.869 39.803\" width=\"1000px\" xmlns=\"http://www.w3.org/2000/svg\" xmlns:xlink=\"http://www.w3.org/1999/xlink\">\n<defs>\n<g>\n<symbol id=\"glyph0-0\" overflow=\"visible\">\n<path d=\"\" style=\"stroke:none;\"/>\n</symbol>\n<symbol id=\"glyph0-1\" overflow=\"visible\">\n<path d=\"M 2.9375 -6.375 C 2.9375 -6.625 2.9375 -6.640625 2.703125 -6.640625 C 2.078125 -6 1.203125 -6 0.890625 -6 L 0.890625 -5.6875 C 1.09375 -5.6875 1.671875 -5.6875 2.1875 -5.953125 L 2.1875 -0.78125 C 2.1875 -0.421875 2.15625 -0.3125 1.265625 -0.3125 L 0.953125 -0.3125 L 0.953125 0 C 1.296875 -0.03125 2.15625 -0.03125 2.5625 -0.03125 C 2.953125 -0.03125 3.828125 -0.03125 4.171875 0 L 4.171875 -0.3125 L 3.859375 -0.3125 C 2.953125 -0.3125 2.9375 -0.421875 2.9375 -0.78125 Z M 2.9375 -6.375 \" style=\"stroke:none;\"/>\n</symbol>\n<symbol id=\"glyph0-2\" overflow=\"visible\">\n<path d=\"M 4.578125 -3.1875 C 4.578125 -3.984375 4.53125 -4.78125 4.1875 -5.515625 C 3.734375 -6.484375 2.90625 -6.640625 2.5 -6.640625 C 1.890625 -6.640625 1.171875 -6.375 0.75 -5.453125 C 0.4375 -4.765625 0.390625 -3.984375 0.390625 -3.1875 C 0.390625 -2.4375 0.421875 -1.546875 0.84375 -0.78125 C 1.265625 0.015625 2 0.21875 2.484375 0.21875 C 3.015625 0.21875 3.78125 0.015625 4.21875 -0.9375 C 4.53125 -1.625 4.578125 -2.40625 4.578125 -3.1875 Z M 2.484375 0 C 2.09375 0 1.5 -0.25 1.328125 -1.203125 C 1.21875 -1.796875 1.21875 -2.71875 1.21875 -3.3125 C 1.21875 -3.953125 1.21875 -4.609375 1.296875 -5.140625 C 1.484375 -6.328125 2.234375 -6.421875 2.484375 -6.421875 C 2.8125 -6.421875 3.46875 -6.234375 3.65625 -5.25 C 3.765625 -4.6875 3.765625 -3.9375 3.765625 -3.3125 C 3.765625 -2.5625 3.765625 -1.890625 3.65625 -1.25 C 3.5 -0.296875 2.9375 0 2.484375 0 Z M 2.484375 0 \" style=\"stroke:none;\"/>\n</symbol>\n<symbol id=\"glyph0-3\" overflow=\"visible\">\n<path d=\"M 1.265625 -0.765625 L 2.328125 -1.796875 C 3.875 -3.171875 4.46875 -3.703125 4.46875 -4.703125 C 4.46875 -5.84375 3.578125 -6.640625 2.359375 -6.640625 C 1.234375 -6.640625 0.5 -5.71875 0.5 -4.828125 C 0.5 -4.28125 1 -4.28125 1.03125 -4.28125 C 1.203125 -4.28125 1.546875 -4.390625 1.546875 -4.8125 C 1.546875 -5.0625 1.359375 -5.328125 1.015625 -5.328125 C 0.9375 -5.328125 0.921875 -5.328125 0.890625 -5.3125 C 1.109375 -5.96875 1.65625 -6.328125 2.234375 -6.328125 C 3.140625 -6.328125 3.5625 -5.515625 3.5625 -4.703125 C 3.5625 -3.90625 3.078125 -3.125 2.515625 -2.5 L 0.609375 -0.375 C 0.5 -0.265625 0.5 -0.234375 0.5 0 L 4.203125 0 L 4.46875 -1.734375 L 4.234375 -1.734375 C 4.171875 -1.4375 4.109375 -1 4 -0.84375 C 3.9375 -0.765625 3.28125 -0.765625 3.0625 -0.765625 Z M 1.265625 -0.765625 \" style=\"stroke:none;\"/>\n</symbol>\n<symbol id=\"glyph0-4\" overflow=\"visible\">\n<path d=\"M 2.34375 -2.484375 C 2.34375 -3.734375 3.3125 -4.453125 3.65625 -4.703125 C 3.921875 -4.90625 4.140625 -5.265625 4.140625 -5.6875 C 4.140625 -6.265625 3.734375 -7.03125 2.25 -7.03125 C 1.171875 -7.03125 0.5625 -6.34375 0.5625 -5.703125 C 0.5625 -5.359375 0.78125 -5.21875 1.015625 -5.21875 C 1.296875 -5.21875 1.46875 -5.421875 1.46875 -5.6875 C 1.46875 -6.125 1.0625 -6.125 0.921875 -6.125 C 1.21875 -6.65625 1.796875 -6.8125 2.21875 -6.8125 C 3.3125 -6.8125 3.3125 -6.125 3.3125 -5.734375 C 3.3125 -5.15625 3.15625 -4.96875 2.96875 -4.796875 C 2.3125 -4.078125 2.09375 -3.15625 2.09375 -2.546875 L 2.09375 -2.109375 C 2.09375 -1.921875 2.09375 -1.859375 2.21875 -1.859375 C 2.34375 -1.859375 2.34375 -1.953125 2.34375 -2.140625 Z M 2.734375 -0.53125 C 2.734375 -0.8125 2.5 -1.0625 2.21875 -1.0625 C 1.921875 -1.0625 1.6875 -0.8125 1.6875 -0.53125 C 1.6875 -0.234375 1.921875 0 2.21875 0 C 2.5 0 2.734375 -0.234375 2.734375 -0.53125 Z M 2.734375 -0.53125 \" style=\"stroke:none;\"/>\n</symbol>\n<symbol id=\"glyph0-5\" overflow=\"visible\">\n<path d=\"M 4.46875 -2 C 4.46875 -3.1875 3.65625 -4.1875 2.578125 -4.1875 C 2.109375 -4.1875 1.671875 -4.03125 1.3125 -3.671875 L 1.3125 -5.625 C 1.515625 -5.5625 1.84375 -5.5 2.15625 -5.5 C 3.390625 -5.5 4.09375 -6.40625 4.09375 -6.53125 C 4.09375 -6.59375 4.0625 -6.640625 3.984375 -6.640625 C 3.984375 -6.640625 3.953125 -6.640625 3.90625 -6.609375 C 3.703125 -6.515625 3.21875 -6.3125 2.546875 -6.3125 C 2.15625 -6.3125 1.6875 -6.390625 1.21875 -6.59375 C 1.140625 -6.625 1.125 -6.625 1.109375 -6.625 C 1 -6.625 1 -6.546875 1 -6.390625 L 1 -3.4375 C 1 -3.265625 1 -3.1875 1.140625 -3.1875 C 1.21875 -3.1875 1.234375 -3.203125 1.28125 -3.265625 C 1.390625 -3.421875 1.75 -3.96875 2.5625 -3.96875 C 3.078125 -3.96875 3.328125 -3.515625 3.40625 -3.328125 C 3.5625 -2.953125 3.59375 -2.578125 3.59375 -2.078125 C 3.59375 -1.71875 3.59375 -1.125 3.34375 -0.703125 C 3.109375 -0.3125 2.734375 -0.0625 2.28125 -0.0625 C 1.5625 -0.0625 0.984375 -0.59375 0.8125 -1.171875 C 0.84375 -1.171875 0.875 -1.15625 0.984375 -1.15625 C 1.3125 -1.15625 1.484375 -1.40625 1.484375 -1.640625 C 1.484375 -1.890625 1.3125 -2.140625 0.984375 -2.140625 C 0.84375 -2.140625 0.5 -2.0625 0.5 -1.609375 C 0.5 -0.75 1.1875 0.21875 2.296875 0.21875 C 3.453125 0.21875 4.46875 -0.734375 4.46875 -2 Z M 4.46875 -2 \" style=\"stroke:none;\"/>\n</symbol>\n<symbol id=\"glyph0-6\" overflow=\"visible\">\n<path d=\"M 1.3125 -3.265625 L 1.3125 -3.515625 C 1.3125 -6.03125 2.546875 -6.390625 3.0625 -6.390625 C 3.296875 -6.390625 3.71875 -6.328125 3.9375 -5.984375 C 3.78125 -5.984375 3.390625 -5.984375 3.390625 -5.546875 C 3.390625 -5.234375 3.625 -5.078125 3.84375 -5.078125 C 4 -5.078125 4.3125 -5.171875 4.3125 -5.5625 C 4.3125 -6.15625 3.875 -6.640625 3.046875 -6.640625 C 1.765625 -6.640625 0.421875 -5.359375 0.421875 -3.15625 C 0.421875 -0.484375 1.578125 0.21875 2.5 0.21875 C 3.609375 0.21875 4.5625 -0.71875 4.5625 -2.03125 C 4.5625 -3.296875 3.671875 -4.25 2.5625 -4.25 C 1.890625 -4.25 1.515625 -3.75 1.3125 -3.265625 Z M 2.5 -0.0625 C 1.875 -0.0625 1.578125 -0.65625 1.515625 -0.8125 C 1.328125 -1.28125 1.328125 -2.078125 1.328125 -2.25 C 1.328125 -3.03125 1.65625 -4.03125 2.546875 -4.03125 C 2.71875 -4.03125 3.171875 -4.03125 3.484375 -3.40625 C 3.65625 -3.046875 3.65625 -2.53125 3.65625 -2.046875 C 3.65625 -1.5625 3.65625 -1.0625 3.484375 -0.703125 C 3.1875 -0.109375 2.734375 -0.0625 2.5 -0.0625 Z M 2.5 -0.0625 \" style=\"stroke:none;\"/>\n</symbol>\n</g>\n<clipPath id=\"clip1\">\n  <path d=\"M 28 0 L 52 0 L 52 39.804688 L 28 39.804688 Z M 28 0 \"/>\n</clipPath>\n<clipPath id=\"clip2\">\n  <path d=\"M 113 0 L 137 0 L 137 39.804688 L 113 39.804688 Z M 113 0 \"/>\n</clipPath>\n<clipPath id=\"clip3\">\n  <path d=\"M 198 0 L 221.867188 0 L 221.867188 39.804688 L 198 39.804688 Z M 198 0 \"/>\n</clipPath>\n</defs>\n<g id=\"surface1\">\n<g style=\"fill:rgb(0%,0%,0%);fill-opacity:1;\">\n  <use x=\"6.641\" xlink:href=\"#glyph0-1\" y=\"23.111\"/>\n  <use x=\"11.6223\" xlink:href=\"#glyph0-2\" y=\"23.111\"/>\n</g>\n<g clip-path=\"url(#clip1)\" clip-rule=\"nonzero\">\n<path d=\"M 16.725656 -19.704469 L 39.967844 -19.704469 L 39.967844 19.701781 L 16.725656 19.701781 Z M 16.725656 -19.704469 \" style=\"fill:none;stroke-width:0.3985;stroke-linecap:butt;stroke-linejoin:miter;stroke:rgb(0%,0%,0%);stroke-opacity:1;stroke-miterlimit:10;\" transform=\"matrix(1,0,0,-1,11.622,19.901)\"/>\n</g>\n<g style=\"fill:rgb(0%,0%,0%);fill-opacity:1;\">\n  <use x=\"34.987\" xlink:href=\"#glyph0-1\" y=\"13.26\"/>\n  <use x=\"39.9683\" xlink:href=\"#glyph0-3\" y=\"13.26\"/>\n</g>\n<g style=\"fill:rgb(0%,0%,0%);fill-opacity:1;\">\n  <use x=\"34.987\" xlink:href=\"#glyph0-1\" y=\"32.963\"/>\n  <use x=\"39.9683\" xlink:href=\"#glyph0-3\" y=\"32.963\"/>\n</g>\n<g style=\"fill:rgb(0%,0%,0%);fill-opacity:1;\">\n  <use x=\"91.68\" xlink:href=\"#glyph0-1\" y=\"23.111\"/>\n  <use x=\"96.6613\" xlink:href=\"#glyph0-2\" y=\"23.111\"/>\n</g>\n<g clip-path=\"url(#clip2)\" clip-rule=\"nonzero\">\n<path d=\"M 101.764719 -19.704469 L 125.010813 -19.704469 L 125.010813 19.701781 L 101.764719 19.701781 Z M 101.764719 -19.704469 \" style=\"fill:none;stroke-width:0.3985;stroke-linecap:butt;stroke-linejoin:miter;stroke:rgb(0%,0%,0%);stroke-opacity:1;stroke-miterlimit:10;\" transform=\"matrix(1,0,0,-1,11.622,19.901)\"/>\n</g>\n<g style=\"fill:rgb(0%,0%,0%);fill-opacity:1;\">\n  <use x=\"120.027\" xlink:href=\"#glyph0-3\" y=\"13.26\"/>\n  <use x=\"125.0083\" xlink:href=\"#glyph0-2\" y=\"13.26\"/>\n</g>\n<g style=\"fill:rgb(0%,0%,0%);fill-opacity:1;\">\n  <use x=\"122.517\" xlink:href=\"#glyph0-2\" y=\"32.963\"/>\n</g>\n<g style=\"fill:rgb(0%,0%,0%);fill-opacity:1;\">\n  <use x=\"179.349\" xlink:href=\"#glyph0-4\" y=\"23.36\"/>\n</g>\n<g clip-path=\"url(#clip3)\" clip-rule=\"nonzero\">\n<path d=\"M 186.803781 -19.704469 L 210.049875 -19.704469 L 210.049875 19.701781 L 186.803781 19.701781 Z M 186.803781 -19.704469 \" style=\"fill:none;stroke-width:0.3985;stroke-linecap:butt;stroke-linejoin:miter;stroke:rgb(0%,0%,0%);stroke-opacity:1;stroke-miterlimit:10;\" transform=\"matrix(1,0,0,-1,11.622,19.901)\"/>\n</g>\n<g style=\"fill:rgb(0%,0%,0%);fill-opacity:1;\">\n  <use x=\"205.066\" xlink:href=\"#glyph0-1\" y=\"13.26\"/>\n  <use x=\"210.0473\" xlink:href=\"#glyph0-5\" y=\"13.26\"/>\n</g>\n<g style=\"fill:rgb(0%,0%,0%);fill-opacity:1;\">\n  <use x=\"207.557\" xlink:href=\"#glyph0-6\" y=\"32.963\"/>\n</g>\n<path d=\"M 8.503 2.955687 L 19.413156 6.74475 \" style=\"fill:none;stroke-width:0.3985;stroke-linecap:butt;stroke-linejoin:miter;stroke:rgb(0%,0%,0%);stroke-opacity:1;stroke-miterlimit:10;\" transform=\"matrix(1,0,0,-1,11.622,19.901)\"/>\n<path d=\"M -1.194174 1.59304 C -1.095756 0.997724 -0.000383899 0.101315 0.299073 0.00136829 C -0.0004916 -0.100814 -1.09524 -0.99523 -1.196549 -1.595398 \" style=\"fill:none;stroke-width:0.31879;stroke-linecap:round;stroke-linejoin:round;stroke:rgb(0%,0%,0%);stroke-opacity:1;stroke-miterlimit:10;\" transform=\"matrix(0.94678,-0.32904,-0.32904,-0.94678,31.0337,13.15439)\"/>\n<path d=\"M 8.503 -2.954469 L 19.413156 -6.747438 \" style=\"fill:none;stroke-width:0.3985;stroke-linecap:butt;stroke-linejoin:miter;stroke:rgb(0%,0%,0%);stroke-opacity:1;stroke-miterlimit:10;\" transform=\"matrix(1,0,0,-1,11.622,19.901)\"/>\n<path d=\"M -1.195669 1.592866 C -1.095639 0.996378 0.000388593 0.0982809 0.298674 -0.000219756 C -0.000783057 -0.100166 -1.096155 -0.996575 -1.194573 -1.591891 \" style=\"fill:none;stroke-width:0.31879;stroke-linecap:round;stroke-linejoin:round;stroke:rgb(0%,0%,0%);stroke-opacity:1;stroke-miterlimit:10;\" transform=\"matrix(0.94678,0.32904,0.32904,-0.94678,31.0337,26.64761)\"/>\n<path d=\"M 93.542063 2.955687 L 104.452219 6.74475 \" style=\"fill:none;stroke-width:0.3985;stroke-linecap:butt;stroke-linejoin:miter;stroke:rgb(0%,0%,0%);stroke-opacity:1;stroke-miterlimit:10;\" transform=\"matrix(1,0,0,-1,11.622,19.901)\"/>\n<path d=\"M -1.195463 1.593488 C -1.097045 0.998172 0.00200859 0.100483 0.297784 0.00181617 C -0.00178032 -0.100366 -1.096529 -0.994782 -1.197838 -1.594951 \" style=\"fill:none;stroke-width:0.31879;stroke-linecap:round;stroke-linejoin:round;stroke:rgb(0%,0%,0%);stroke-opacity:1;stroke-miterlimit:10;\" transform=\"matrix(0.94678,-0.32904,-0.32904,-0.94678,116.07413,13.15439)\"/>\n<path d=\"M 93.542063 -2.954469 L 106.944406 -7.610719 \" style=\"fill:none;stroke-width:0.3985;stroke-linecap:butt;stroke-linejoin:miter;stroke:rgb(0%,0%,0%);stroke-opacity:1;stroke-miterlimit:10;\" transform=\"matrix(1,0,0,-1,11.622,19.901)\"/>\n<path d=\"M -1.196309 1.594896 C -1.094984 0.994736 -0.000220875 0.10036 0.299344 -0.00181265 C -0.0013869 -0.0980852 -1.096723 -0.994517 -1.193843 -1.593511 \" style=\"fill:none;stroke-width:0.31879;stroke-linecap:round;stroke-linejoin:round;stroke:rgb(0%,0%,0%);stroke-opacity:1;stroke-miterlimit:10;\" transform=\"matrix(0.94678,0.32907,0.32907,-0.94678,118.56484,27.51306)\"/>\n<path d=\"M 175.952219 2.041625 L 189.491281 6.74475 \" style=\"fill:none;stroke-width:0.3985;stroke-linecap:butt;stroke-linejoin:miter;stroke:rgb(0%,0%,0%);stroke-opacity:1;stroke-miterlimit:10;\" transform=\"matrix(1,0,0,-1,11.622,19.901)\"/>\n<path d=\"M -1.196761 1.593939 C -1.094662 0.997344 0.00071045 0.100934 0.300167 0.000987967 C 0.000602749 -0.101194 -1.094146 -0.99561 -1.195455 -1.595779 \" style=\"fill:none;stroke-width:0.31879;stroke-linecap:round;stroke-linejoin:round;stroke:rgb(0%,0%,0%);stroke-opacity:1;stroke-miterlimit:10;\" transform=\"matrix(0.94678,-0.32904,-0.32904,-0.94678,201.11457,13.15439)\"/>\n<path d=\"M 175.952219 -2.040406 L 191.983469 -7.610719 \" style=\"fill:none;stroke-width:0.3985;stroke-linecap:butt;stroke-linejoin:miter;stroke:rgb(0%,0%,0%);stroke-opacity:1;stroke-miterlimit:10;\" transform=\"matrix(1,0,0,-1,11.622,19.901)\"/>\n<path d=\"M -1.197569 1.59453 C -1.096266 0.994358 -0.00152179 0.0999287 0.298043 -0.00225625 C 0.000985913 -0.0972394 -1.0968 -0.998602 -1.195224 -1.593919 \" style=\"fill:none;stroke-width:0.31879;stroke-linecap:round;stroke-linejoin:round;stroke:rgb(0%,0%,0%);stroke-opacity:1;stroke-miterlimit:10;\" transform=\"matrix(0.94678,0.32903,0.32903,-0.94678,203.60528,27.51308)\"/>\n</g>\n</svg>"
     },
     "metadata": {
      "isolated": "true",
      "tags": []
     },
     "output_type": "display_data"
    }
   ],
   "source": [
    "#@title Replication step #1 { vertical-output: true, display-mode: \"form\" }\n",
    "\n",
    "\n",
    "%%tikz -l matrix -S test_output.tikz -f svg -s 1000,100\n",
    "\n",
    "\\node[matrix] (1) {\\node (11) {10};\\\\};\n",
    "\n",
    "\\node[matrix, right of=1, draw] (2) {\\node (21) {12};\\\\ \\node (22) {};\\\\ \\node (23) {12};\\\\};\n",
    "\n",
    "\\node[right of=2] (3) {};\n",
    "\n",
    "\\node[matrix, right of=3] (4) {\\node (41) {10};\\\\};\n",
    "\n",
    "\\node[matrix, right of=4, draw] (5) {\\node (51) {20};\\\\ \\node (52) {};\\\\ \\node (53) {0};\\\\};\n",
    "\n",
    "\\node[right of=5] (6) {};\n",
    "\n",
    "\\node[matrix, right of=6] (7) {\\node (71) {?};\\\\};\n",
    "\n",
    "\\node[matrix, right of=7, draw] (8) {\\node (81) {15};\\\\ \\node (82) {};\\\\ \\node (83) {6};\\\\};\n",
    "\n",
    "\\draw(11) edge[->] (21);\n",
    "\\draw(11) edge[->] (23);\n",
    "\n",
    "\\draw(41) edge[->] (51);\n",
    "\\draw(41) edge[->] (53);\n",
    "\n",
    "\\draw(71) edge[->] (81);\n",
    "\\draw(71) edge[->] (83);\n"
   ]
  },
  {
   "cell_type": "markdown",
   "metadata": {
    "id": "5s4b2LgYxTNl"
   },
   "source": [
    "$$ \n",
    "\\begin{bmatrix} 12 \\\\ 12 \\end{bmatrix} x_1\n",
    "+ \\begin{bmatrix} 20 \\\\ 0 \\end{bmatrix} x_2\n",
    "= \\begin{bmatrix} 15 \\\\ 6 \\end{bmatrix}\n",
    "$$"
   ]
  },
  {
   "cell_type": "markdown",
   "metadata": {
    "id": "s-vwxKtNym_h"
   },
   "source": [
    "$$\n",
    "x_1 = \\frac{1}{2}, \\quad x_2 = \\frac{9}{20} \n",
    "$$"
   ]
  },
  {
   "cell_type": "code",
   "execution_count": 20,
   "metadata": {
    "colab": {
     "base_uri": "https://localhost:8080/",
     "height": 0
    },
    "id": "dNjPcvaPEb9W",
    "outputId": "a1dece88-7b70-45e3-e9a9-faf9dd1f8e17"
   },
   "outputs": [
    {
     "data": {
      "image/svg+xml": "<svg height=\"100px\" version=\"1.1\" viewBox=\"0 0 221.869 39.405\" width=\"1000px\" xmlns=\"http://www.w3.org/2000/svg\" xmlns:xlink=\"http://www.w3.org/1999/xlink\">\n<defs>\n<g>\n<symbol id=\"glyph0-0\" overflow=\"visible\">\n<path d=\"\" style=\"stroke:none;\"/>\n</symbol>\n<symbol id=\"glyph0-1\" overflow=\"visible\">\n<path d=\"M 2.9375 -6.375 C 2.9375 -6.625 2.9375 -6.640625 2.703125 -6.640625 C 2.078125 -6 1.203125 -6 0.890625 -6 L 0.890625 -5.6875 C 1.09375 -5.6875 1.671875 -5.6875 2.1875 -5.953125 L 2.1875 -0.78125 C 2.1875 -0.421875 2.15625 -0.3125 1.265625 -0.3125 L 0.953125 -0.3125 L 0.953125 0 C 1.296875 -0.03125 2.15625 -0.03125 2.5625 -0.03125 C 2.953125 -0.03125 3.828125 -0.03125 4.171875 0 L 4.171875 -0.3125 L 3.859375 -0.3125 C 2.953125 -0.3125 2.9375 -0.421875 2.9375 -0.78125 Z M 2.9375 -6.375 \" style=\"stroke:none;\"/>\n</symbol>\n<symbol id=\"glyph0-2\" overflow=\"visible\">\n<path d=\"M 4.578125 -3.1875 C 4.578125 -3.984375 4.53125 -4.78125 4.1875 -5.515625 C 3.734375 -6.484375 2.90625 -6.640625 2.5 -6.640625 C 1.890625 -6.640625 1.171875 -6.375 0.75 -5.453125 C 0.4375 -4.765625 0.390625 -3.984375 0.390625 -3.1875 C 0.390625 -2.4375 0.421875 -1.546875 0.84375 -0.78125 C 1.265625 0.015625 2 0.21875 2.484375 0.21875 C 3.015625 0.21875 3.78125 0.015625 4.21875 -0.9375 C 4.53125 -1.625 4.578125 -2.40625 4.578125 -3.1875 Z M 2.484375 0 C 2.09375 0 1.5 -0.25 1.328125 -1.203125 C 1.21875 -1.796875 1.21875 -2.71875 1.21875 -3.3125 C 1.21875 -3.953125 1.21875 -4.609375 1.296875 -5.140625 C 1.484375 -6.328125 2.234375 -6.421875 2.484375 -6.421875 C 2.8125 -6.421875 3.46875 -6.234375 3.65625 -5.25 C 3.765625 -4.6875 3.765625 -3.9375 3.765625 -3.3125 C 3.765625 -2.5625 3.765625 -1.890625 3.65625 -1.25 C 3.5 -0.296875 2.9375 0 2.484375 0 Z M 2.484375 0 \" style=\"stroke:none;\"/>\n</symbol>\n<symbol id=\"glyph0-3\" overflow=\"visible\">\n<path d=\"M 1.265625 -0.765625 L 2.328125 -1.796875 C 3.875 -3.171875 4.46875 -3.703125 4.46875 -4.703125 C 4.46875 -5.84375 3.578125 -6.640625 2.359375 -6.640625 C 1.234375 -6.640625 0.5 -5.71875 0.5 -4.828125 C 0.5 -4.28125 1 -4.28125 1.03125 -4.28125 C 1.203125 -4.28125 1.546875 -4.390625 1.546875 -4.8125 C 1.546875 -5.0625 1.359375 -5.328125 1.015625 -5.328125 C 0.9375 -5.328125 0.921875 -5.328125 0.890625 -5.3125 C 1.109375 -5.96875 1.65625 -6.328125 2.234375 -6.328125 C 3.140625 -6.328125 3.5625 -5.515625 3.5625 -4.703125 C 3.5625 -3.90625 3.078125 -3.125 2.515625 -2.5 L 0.609375 -0.375 C 0.5 -0.265625 0.5 -0.234375 0.5 0 L 4.203125 0 L 4.46875 -1.734375 L 4.234375 -1.734375 C 4.171875 -1.4375 4.109375 -1 4 -0.84375 C 3.9375 -0.765625 3.28125 -0.765625 3.0625 -0.765625 Z M 1.265625 -0.765625 \" style=\"stroke:none;\"/>\n</symbol>\n<symbol id=\"glyph0-4\" overflow=\"visible\">\n<path d=\"M 2.34375 -2.484375 C 2.34375 -3.734375 3.3125 -4.453125 3.65625 -4.703125 C 3.921875 -4.90625 4.140625 -5.265625 4.140625 -5.6875 C 4.140625 -6.265625 3.734375 -7.03125 2.25 -7.03125 C 1.171875 -7.03125 0.5625 -6.34375 0.5625 -5.703125 C 0.5625 -5.359375 0.78125 -5.21875 1.015625 -5.21875 C 1.296875 -5.21875 1.46875 -5.421875 1.46875 -5.6875 C 1.46875 -6.125 1.0625 -6.125 0.921875 -6.125 C 1.21875 -6.65625 1.796875 -6.8125 2.21875 -6.8125 C 3.3125 -6.8125 3.3125 -6.125 3.3125 -5.734375 C 3.3125 -5.15625 3.15625 -4.96875 2.96875 -4.796875 C 2.3125 -4.078125 2.09375 -3.15625 2.09375 -2.546875 L 2.09375 -2.109375 C 2.09375 -1.921875 2.09375 -1.859375 2.21875 -1.859375 C 2.34375 -1.859375 2.34375 -1.953125 2.34375 -2.140625 Z M 2.734375 -0.53125 C 2.734375 -0.8125 2.5 -1.0625 2.21875 -1.0625 C 1.921875 -1.0625 1.6875 -0.8125 1.6875 -0.53125 C 1.6875 -0.234375 1.921875 0 2.21875 0 C 2.5 0 2.734375 -0.234375 2.734375 -0.53125 Z M 2.734375 -0.53125 \" style=\"stroke:none;\"/>\n</symbol>\n<symbol id=\"glyph0-5\" overflow=\"visible\">\n<path d=\"M 4.46875 -2 C 4.46875 -3.1875 3.65625 -4.1875 2.578125 -4.1875 C 2.109375 -4.1875 1.671875 -4.03125 1.3125 -3.671875 L 1.3125 -5.625 C 1.515625 -5.5625 1.84375 -5.5 2.15625 -5.5 C 3.390625 -5.5 4.09375 -6.40625 4.09375 -6.53125 C 4.09375 -6.59375 4.0625 -6.640625 3.984375 -6.640625 C 3.984375 -6.640625 3.953125 -6.640625 3.90625 -6.609375 C 3.703125 -6.515625 3.21875 -6.3125 2.546875 -6.3125 C 2.15625 -6.3125 1.6875 -6.390625 1.21875 -6.59375 C 1.140625 -6.625 1.125 -6.625 1.109375 -6.625 C 1 -6.625 1 -6.546875 1 -6.390625 L 1 -3.4375 C 1 -3.265625 1 -3.1875 1.140625 -3.1875 C 1.21875 -3.1875 1.234375 -3.203125 1.28125 -3.265625 C 1.390625 -3.421875 1.75 -3.96875 2.5625 -3.96875 C 3.078125 -3.96875 3.328125 -3.515625 3.40625 -3.328125 C 3.5625 -2.953125 3.59375 -2.578125 3.59375 -2.078125 C 3.59375 -1.71875 3.59375 -1.125 3.34375 -0.703125 C 3.109375 -0.3125 2.734375 -0.0625 2.28125 -0.0625 C 1.5625 -0.0625 0.984375 -0.59375 0.8125 -1.171875 C 0.84375 -1.171875 0.875 -1.15625 0.984375 -1.15625 C 1.3125 -1.15625 1.484375 -1.40625 1.484375 -1.640625 C 1.484375 -1.890625 1.3125 -2.140625 0.984375 -2.140625 C 0.84375 -2.140625 0.5 -2.0625 0.5 -1.609375 C 0.5 -0.75 1.1875 0.21875 2.296875 0.21875 C 3.453125 0.21875 4.46875 -0.734375 4.46875 -2 Z M 4.46875 -2 \" style=\"stroke:none;\"/>\n</symbol>\n<symbol id=\"glyph0-6\" overflow=\"visible\">\n<path d=\"M 1.3125 -3.265625 L 1.3125 -3.515625 C 1.3125 -6.03125 2.546875 -6.390625 3.0625 -6.390625 C 3.296875 -6.390625 3.71875 -6.328125 3.9375 -5.984375 C 3.78125 -5.984375 3.390625 -5.984375 3.390625 -5.546875 C 3.390625 -5.234375 3.625 -5.078125 3.84375 -5.078125 C 4 -5.078125 4.3125 -5.171875 4.3125 -5.5625 C 4.3125 -6.15625 3.875 -6.640625 3.046875 -6.640625 C 1.765625 -6.640625 0.421875 -5.359375 0.421875 -3.15625 C 0.421875 -0.484375 1.578125 0.21875 2.5 0.21875 C 3.609375 0.21875 4.5625 -0.71875 4.5625 -2.03125 C 4.5625 -3.296875 3.671875 -4.25 2.5625 -4.25 C 1.890625 -4.25 1.515625 -3.75 1.3125 -3.265625 Z M 2.5 -0.0625 C 1.875 -0.0625 1.578125 -0.65625 1.515625 -0.8125 C 1.328125 -1.28125 1.328125 -2.078125 1.328125 -2.25 C 1.328125 -3.03125 1.65625 -4.03125 2.546875 -4.03125 C 2.71875 -4.03125 3.171875 -4.03125 3.484375 -3.40625 C 3.65625 -3.046875 3.65625 -2.53125 3.65625 -2.046875 C 3.65625 -1.5625 3.65625 -1.0625 3.484375 -0.703125 C 3.1875 -0.109375 2.734375 -0.0625 2.5 -0.0625 Z M 2.5 -0.0625 \" style=\"stroke:none;\"/>\n</symbol>\n</g>\n</defs>\n<g id=\"surface1\">\n<path d=\"M -11.622781 -9.851687 L 11.623312 -9.851687 L 11.623312 9.851438 L -11.622781 9.851438 Z M -11.622781 -9.851687 \" style=\"fill:none;stroke-width:0.3985;stroke-linecap:butt;stroke-linejoin:miter;stroke:rgb(0%,0%,0%);stroke-opacity:1;stroke-miterlimit:10;\" transform=\"matrix(1,0,0,-1,11.822,19.703)\"/>\n<g style=\"fill:rgb(0%,0%,0%);fill-opacity:1;\">\n  <use x=\"6.84\" xlink:href=\"#glyph0-1\" y=\"22.913\"/>\n  <use x=\"11.8213\" xlink:href=\"#glyph0-2\" y=\"22.913\"/>\n</g>\n<g style=\"fill:rgb(0%,0%,0%);fill-opacity:1;\">\n  <use x=\"35.187\" xlink:href=\"#glyph0-1\" y=\"13.062\"/>\n  <use x=\"40.1683\" xlink:href=\"#glyph0-3\" y=\"13.062\"/>\n</g>\n<g style=\"fill:rgb(0%,0%,0%);fill-opacity:1;\">\n  <use x=\"35.187\" xlink:href=\"#glyph0-1\" y=\"32.764\"/>\n  <use x=\"40.1683\" xlink:href=\"#glyph0-3\" y=\"32.764\"/>\n</g>\n<path d=\"M 73.416281 -9.851687 L 96.662375 -9.851687 L 96.662375 9.851438 L 73.416281 9.851438 Z M 73.416281 -9.851687 \" style=\"fill:none;stroke-width:0.3985;stroke-linecap:butt;stroke-linejoin:miter;stroke:rgb(0%,0%,0%);stroke-opacity:1;stroke-miterlimit:10;\" transform=\"matrix(1,0,0,-1,11.822,19.703)\"/>\n<g style=\"fill:rgb(0%,0%,0%);fill-opacity:1;\">\n  <use x=\"91.88\" xlink:href=\"#glyph0-1\" y=\"22.913\"/>\n  <use x=\"96.8613\" xlink:href=\"#glyph0-2\" y=\"22.913\"/>\n</g>\n<g style=\"fill:rgb(0%,0%,0%);fill-opacity:1;\">\n  <use x=\"120.226\" xlink:href=\"#glyph0-3\" y=\"13.062\"/>\n  <use x=\"125.2073\" xlink:href=\"#glyph0-2\" y=\"13.062\"/>\n</g>\n<g style=\"fill:rgb(0%,0%,0%);fill-opacity:1;\">\n  <use x=\"122.717\" xlink:href=\"#glyph0-2\" y=\"32.764\"/>\n</g>\n<path d=\"M 161.088156 -10.101687 L 179.072531 -10.101687 L 179.072531 10.101438 L 161.088156 10.101438 Z M 161.088156 -10.101687 \" style=\"fill:none;stroke-width:0.3985;stroke-linecap:butt;stroke-linejoin:miter;stroke:rgb(0%,0%,0%);stroke-opacity:1;stroke-miterlimit:10;\" transform=\"matrix(1,0,0,-1,11.822,19.703)\"/>\n<g style=\"fill:rgb(0%,0%,0%);fill-opacity:1;\">\n  <use x=\"179.548\" xlink:href=\"#glyph0-4\" y=\"23.162\"/>\n</g>\n<g style=\"fill:rgb(0%,0%,0%);fill-opacity:1;\">\n  <use x=\"205.265\" xlink:href=\"#glyph0-1\" y=\"13.062\"/>\n  <use x=\"210.2463\" xlink:href=\"#glyph0-5\" y=\"13.062\"/>\n</g>\n<g style=\"fill:rgb(0%,0%,0%);fill-opacity:1;\">\n  <use x=\"207.756\" xlink:href=\"#glyph0-6\" y=\"32.764\"/>\n</g>\n<path d=\"M 8.502219 2.953 L 19.412375 6.745969 \" style=\"fill:none;stroke-width:0.3985;stroke-linecap:butt;stroke-linejoin:miter;stroke:rgb(0%,0%,0%);stroke-opacity:1;stroke-miterlimit:10;\" transform=\"matrix(1,0,0,-1,11.822,19.703)\"/>\n<path d=\"M -1.194511 1.594444 C -1.097373 0.995447 -0.00200033 0.0990377 0.297457 -0.000908507 C -0.000828684 -0.0994091 -1.096857 -0.997506 -1.196886 -1.593994 \" style=\"fill:none;stroke-width:0.31879;stroke-linecap:round;stroke-linejoin:round;stroke:rgb(0%,0%,0%);stroke-opacity:1;stroke-miterlimit:10;\" transform=\"matrix(0.94678,-0.32904,-0.32904,-0.94678,31.2337,12.95639)\"/>\n<path d=\"M 8.502219 -2.95325 L 19.412375 -6.746219 \" style=\"fill:none;stroke-width:0.3985;stroke-linecap:butt;stroke-linejoin:miter;stroke:rgb(0%,0%,0%);stroke-opacity:1;stroke-miterlimit:10;\" transform=\"matrix(1,0,0,-1,11.822,19.703)\"/>\n<path d=\"M -1.196804 1.593758 C -1.096775 0.997271 -0.000746806 0.0991735 0.297539 0.00067291 C -0.00191846 -0.0992733 -1.097291 -0.995683 -1.194429 -1.59468 \" style=\"fill:none;stroke-width:0.31879;stroke-linecap:round;stroke-linejoin:round;stroke:rgb(0%,0%,0%);stroke-opacity:1;stroke-miterlimit:10;\" transform=\"matrix(0.94678,0.32904,0.32904,-0.94678,31.2337,26.44961)\"/>\n<path d=\"M 93.541281 2.953 L 104.451437 6.745969 \" style=\"fill:none;stroke-width:0.3985;stroke-linecap:butt;stroke-linejoin:miter;stroke:rgb(0%,0%,0%);stroke-opacity:1;stroke-miterlimit:10;\" transform=\"matrix(1,0,0,-1,11.822,19.703)\"/>\n<path d=\"M -1.1958 1.594892 C -1.09498 0.994616 0.000392156 0.0982063 0.299849 -0.00173998 C 0.00156381 -0.100241 -1.098145 -0.997058 -1.194494 -1.594825 \" style=\"fill:none;stroke-width:0.31879;stroke-linecap:round;stroke-linejoin:round;stroke:rgb(0%,0%,0%);stroke-opacity:1;stroke-miterlimit:10;\" transform=\"matrix(0.94678,-0.32904,-0.32904,-0.94678,116.27413,12.95639)\"/>\n<path d=\"M 93.541281 -2.95325 L 106.943625 -7.613406 \" style=\"fill:none;stroke-width:0.3985;stroke-linecap:butt;stroke-linejoin:miter;stroke:rgb(0%,0%,0%);stroke-opacity:1;stroke-miterlimit:10;\" transform=\"matrix(1,0,0,-1,11.822,19.703)\"/>\n<path d=\"M -1.196165 1.592108 C -1.096119 0.995629 -0.0000768451 0.0975712 0.298208 -0.000920024 C -0.00124287 -0.100874 -1.096579 -0.997305 -1.194979 -1.592618 \" style=\"fill:none;stroke-width:0.31879;stroke-linecap:round;stroke-linejoin:round;stroke:rgb(0%,0%,0%);stroke-opacity:1;stroke-miterlimit:10;\" transform=\"matrix(0.94678,0.32907,0.32907,-0.94678,118.76484,27.31506)\"/>\n<path d=\"M 175.951437 2.038938 L 189.494406 6.745969 \" style=\"fill:none;stroke-width:0.3985;stroke-linecap:butt;stroke-linejoin:miter;stroke:rgb(0%,0%,0%);stroke-opacity:1;stroke-miterlimit:10;\" transform=\"matrix(1,0,0,-1,11.822,19.703)\"/>\n<path d=\"M -1.197098 1.595343 C -1.096278 0.995067 -0.000905985 0.0986574 0.298551 -0.00128883 C 0.000265665 -0.0997895 -1.095762 -0.997887 -1.195792 -1.594374 \" style=\"fill:none;stroke-width:0.31879;stroke-linecap:round;stroke-linejoin:round;stroke:rgb(0%,0%,0%);stroke-opacity:1;stroke-miterlimit:10;\" transform=\"matrix(0.94678,-0.32904,-0.32904,-0.94678,201.31457,12.95639)\"/>\n<path d=\"M 175.951437 -2.039187 L 191.982687 -7.613406 \" style=\"fill:none;stroke-width:0.3985;stroke-linecap:butt;stroke-linejoin:miter;stroke:rgb(0%,0%,0%);stroke-opacity:1;stroke-miterlimit:10;\" transform=\"matrix(1,0,0,-1,11.822,19.703)\"/>\n<path d=\"M -1.193744 1.593021 C -1.097401 0.995251 0.00230336 0.0984195 0.300589 -0.0000842487 C 0.00112984 -0.100028 -1.094255 -0.99643 -1.196359 -1.593026 \" style=\"fill:none;stroke-width:0.31879;stroke-linecap:round;stroke-linejoin:round;stroke:rgb(0%,0%,0%);stroke-opacity:1;stroke-miterlimit:10;\" transform=\"matrix(0.94678,0.32903,0.32903,-0.94678,203.80528,27.31508)\"/>\n</g>\n</svg>"
     },
     "metadata": {
      "isolated": "true",
      "tags": []
     },
     "output_type": "display_data"
    }
   ],
   "source": [
    "#@title Replication #2 { vertical-output: true, display-mode: \"form\" }\n",
    "\n",
    "\n",
    "%%tikz -l matrix -S test_output.tikz -f svg -s 1000,100\n",
    "\n",
    "\\node[matrix, draw] (1) {\\node (11) {10};\\\\};\n",
    "\n",
    "\\node[matrix, right of=1] (2) {\\node (21) {12};\\\\ \\node (22) {};\\\\ \\node (23) {12};\\\\};\n",
    "\n",
    "\\node[right of=2] (3) {};\n",
    "\n",
    "\\node[matrix, right of=3, draw] (4) {\\node (41) {10};\\\\};\n",
    "\n",
    "\\node[matrix, right of=4] (5) {\\node (51) {20};\\\\ \\node (52) {};\\\\ \\node (53) {0};\\\\};\n",
    "\n",
    "\\node[right of=5] (6) {};\n",
    "\n",
    "\\node[matrix, right of=6, draw] (7) {\\node (71) {?};\\\\};\n",
    "\n",
    "\\node[matrix, right of=7] (8) {\\node (81) {15};\\\\ \\node (82) {};\\\\ \\node (83) {6};\\\\};\n",
    "\n",
    "\\draw(11) edge[->] (21);\n",
    "\\draw(11) edge[->] (23);\n",
    "\n",
    "\\draw(41) edge[->] (51);\n",
    "\\draw(41) edge[->] (53);\n",
    "\n",
    "\\draw(71) edge[->] (81);\n",
    "\\draw(71) edge[->] (83);\n"
   ]
  },
  {
   "cell_type": "markdown",
   "metadata": {
    "id": "cKUj_bZ9z5wz"
   },
   "source": [
    "$$\n",
    "10 x_1 + 10 x_2 = 10 \\cdot \\frac{1}{2} + 10 \\cdot \\frac{9}{20} = 9.5\n",
    "$$"
   ]
  },
  {
   "cell_type": "markdown",
   "metadata": {
    "id": "AT0Mq-9Y0XrF"
   },
   "source": [
    "We don't know why 9.5 has to be the equilibrium price yet.\n",
    "\n",
    "What I have shown you is just the mechanics to calculate 9.5."
   ]
  },
  {
   "cell_type": "markdown",
   "metadata": {
    "id": "tuZVTsdyGLCu"
   },
   "source": [
    "# Arrow-Debreu Security"
   ]
  },
  {
   "cell_type": "code",
   "execution_count": 21,
   "metadata": {
    "colab": {
     "base_uri": "https://localhost:8080/",
     "height": 0
    },
    "id": "6XGo4PDUGaqO",
    "outputId": "d883cae5-f876-4d46-a8bb-4bd970fb9bb3"
   },
   "outputs": [
    {
     "data": {
      "image/svg+xml": "<svg height=\"100px\" version=\"1.1\" viewBox=\"0 0 221.67 39.405\" width=\"1000px\" xmlns=\"http://www.w3.org/2000/svg\" xmlns:xlink=\"http://www.w3.org/1999/xlink\">\n<defs>\n<g>\n<symbol id=\"glyph0-0\" overflow=\"visible\">\n<path d=\"\" style=\"stroke:none;\"/>\n</symbol>\n<symbol id=\"glyph0-1\" overflow=\"visible\">\n<path d=\"M 2.9375 -6.375 C 2.9375 -6.625 2.9375 -6.640625 2.703125 -6.640625 C 2.078125 -6 1.203125 -6 0.890625 -6 L 0.890625 -5.6875 C 1.09375 -5.6875 1.671875 -5.6875 2.1875 -5.953125 L 2.1875 -0.78125 C 2.1875 -0.421875 2.15625 -0.3125 1.265625 -0.3125 L 0.953125 -0.3125 L 0.953125 0 C 1.296875 -0.03125 2.15625 -0.03125 2.5625 -0.03125 C 2.953125 -0.03125 3.828125 -0.03125 4.171875 0 L 4.171875 -0.3125 L 3.859375 -0.3125 C 2.953125 -0.3125 2.9375 -0.421875 2.9375 -0.78125 Z M 2.9375 -6.375 \" style=\"stroke:none;\"/>\n</symbol>\n<symbol id=\"glyph0-2\" overflow=\"visible\">\n<path d=\"M 4.578125 -3.1875 C 4.578125 -3.984375 4.53125 -4.78125 4.1875 -5.515625 C 3.734375 -6.484375 2.90625 -6.640625 2.5 -6.640625 C 1.890625 -6.640625 1.171875 -6.375 0.75 -5.453125 C 0.4375 -4.765625 0.390625 -3.984375 0.390625 -3.1875 C 0.390625 -2.4375 0.421875 -1.546875 0.84375 -0.78125 C 1.265625 0.015625 2 0.21875 2.484375 0.21875 C 3.015625 0.21875 3.78125 0.015625 4.21875 -0.9375 C 4.53125 -1.625 4.578125 -2.40625 4.578125 -3.1875 Z M 2.484375 0 C 2.09375 0 1.5 -0.25 1.328125 -1.203125 C 1.21875 -1.796875 1.21875 -2.71875 1.21875 -3.3125 C 1.21875 -3.953125 1.21875 -4.609375 1.296875 -5.140625 C 1.484375 -6.328125 2.234375 -6.421875 2.484375 -6.421875 C 2.8125 -6.421875 3.46875 -6.234375 3.65625 -5.25 C 3.765625 -4.6875 3.765625 -3.9375 3.765625 -3.3125 C 3.765625 -2.5625 3.765625 -1.890625 3.65625 -1.25 C 3.5 -0.296875 2.9375 0 2.484375 0 Z M 2.484375 0 \" style=\"stroke:none;\"/>\n</symbol>\n<symbol id=\"glyph0-3\" overflow=\"visible\">\n<path d=\"M 1.265625 -0.765625 L 2.328125 -1.796875 C 3.875 -3.171875 4.46875 -3.703125 4.46875 -4.703125 C 4.46875 -5.84375 3.578125 -6.640625 2.359375 -6.640625 C 1.234375 -6.640625 0.5 -5.71875 0.5 -4.828125 C 0.5 -4.28125 1 -4.28125 1.03125 -4.28125 C 1.203125 -4.28125 1.546875 -4.390625 1.546875 -4.8125 C 1.546875 -5.0625 1.359375 -5.328125 1.015625 -5.328125 C 0.9375 -5.328125 0.921875 -5.328125 0.890625 -5.3125 C 1.109375 -5.96875 1.65625 -6.328125 2.234375 -6.328125 C 3.140625 -6.328125 3.5625 -5.515625 3.5625 -4.703125 C 3.5625 -3.90625 3.078125 -3.125 2.515625 -2.5 L 0.609375 -0.375 C 0.5 -0.265625 0.5 -0.234375 0.5 0 L 4.203125 0 L 4.46875 -1.734375 L 4.234375 -1.734375 C 4.171875 -1.4375 4.109375 -1 4 -0.84375 C 3.9375 -0.765625 3.28125 -0.765625 3.0625 -0.765625 Z M 1.265625 -0.765625 \" style=\"stroke:none;\"/>\n</symbol>\n<symbol id=\"glyph0-4\" overflow=\"visible\">\n<path d=\"M 2.34375 -2.484375 C 2.34375 -3.734375 3.3125 -4.453125 3.65625 -4.703125 C 3.921875 -4.90625 4.140625 -5.265625 4.140625 -5.6875 C 4.140625 -6.265625 3.734375 -7.03125 2.25 -7.03125 C 1.171875 -7.03125 0.5625 -6.34375 0.5625 -5.703125 C 0.5625 -5.359375 0.78125 -5.21875 1.015625 -5.21875 C 1.296875 -5.21875 1.46875 -5.421875 1.46875 -5.6875 C 1.46875 -6.125 1.0625 -6.125 0.921875 -6.125 C 1.21875 -6.65625 1.796875 -6.8125 2.21875 -6.8125 C 3.3125 -6.8125 3.3125 -6.125 3.3125 -5.734375 C 3.3125 -5.15625 3.15625 -4.96875 2.96875 -4.796875 C 2.3125 -4.078125 2.09375 -3.15625 2.09375 -2.546875 L 2.09375 -2.109375 C 2.09375 -1.921875 2.09375 -1.859375 2.21875 -1.859375 C 2.34375 -1.859375 2.34375 -1.953125 2.34375 -2.140625 Z M 2.734375 -0.53125 C 2.734375 -0.8125 2.5 -1.0625 2.21875 -1.0625 C 1.921875 -1.0625 1.6875 -0.8125 1.6875 -0.53125 C 1.6875 -0.234375 1.921875 0 2.21875 0 C 2.5 0 2.734375 -0.234375 2.734375 -0.53125 Z M 2.734375 -0.53125 \" style=\"stroke:none;\"/>\n</symbol>\n<symbol id=\"glyph0-5\" overflow=\"visible\">\n<path d=\"M 4.46875 -2 C 4.46875 -3.1875 3.65625 -4.1875 2.578125 -4.1875 C 2.109375 -4.1875 1.671875 -4.03125 1.3125 -3.671875 L 1.3125 -5.625 C 1.515625 -5.5625 1.84375 -5.5 2.15625 -5.5 C 3.390625 -5.5 4.09375 -6.40625 4.09375 -6.53125 C 4.09375 -6.59375 4.0625 -6.640625 3.984375 -6.640625 C 3.984375 -6.640625 3.953125 -6.640625 3.90625 -6.609375 C 3.703125 -6.515625 3.21875 -6.3125 2.546875 -6.3125 C 2.15625 -6.3125 1.6875 -6.390625 1.21875 -6.59375 C 1.140625 -6.625 1.125 -6.625 1.109375 -6.625 C 1 -6.625 1 -6.546875 1 -6.390625 L 1 -3.4375 C 1 -3.265625 1 -3.1875 1.140625 -3.1875 C 1.21875 -3.1875 1.234375 -3.203125 1.28125 -3.265625 C 1.390625 -3.421875 1.75 -3.96875 2.5625 -3.96875 C 3.078125 -3.96875 3.328125 -3.515625 3.40625 -3.328125 C 3.5625 -2.953125 3.59375 -2.578125 3.59375 -2.078125 C 3.59375 -1.71875 3.59375 -1.125 3.34375 -0.703125 C 3.109375 -0.3125 2.734375 -0.0625 2.28125 -0.0625 C 1.5625 -0.0625 0.984375 -0.59375 0.8125 -1.171875 C 0.84375 -1.171875 0.875 -1.15625 0.984375 -1.15625 C 1.3125 -1.15625 1.484375 -1.40625 1.484375 -1.640625 C 1.484375 -1.890625 1.3125 -2.140625 0.984375 -2.140625 C 0.84375 -2.140625 0.5 -2.0625 0.5 -1.609375 C 0.5 -0.75 1.1875 0.21875 2.296875 0.21875 C 3.453125 0.21875 4.46875 -0.734375 4.46875 -2 Z M 4.46875 -2 \" style=\"stroke:none;\"/>\n</symbol>\n<symbol id=\"glyph0-6\" overflow=\"visible\">\n<path d=\"M 1.3125 -3.265625 L 1.3125 -3.515625 C 1.3125 -6.03125 2.546875 -6.390625 3.0625 -6.390625 C 3.296875 -6.390625 3.71875 -6.328125 3.9375 -5.984375 C 3.78125 -5.984375 3.390625 -5.984375 3.390625 -5.546875 C 3.390625 -5.234375 3.625 -5.078125 3.84375 -5.078125 C 4 -5.078125 4.3125 -5.171875 4.3125 -5.5625 C 4.3125 -6.15625 3.875 -6.640625 3.046875 -6.640625 C 1.765625 -6.640625 0.421875 -5.359375 0.421875 -3.15625 C 0.421875 -0.484375 1.578125 0.21875 2.5 0.21875 C 3.609375 0.21875 4.5625 -0.71875 4.5625 -2.03125 C 4.5625 -3.296875 3.671875 -4.25 2.5625 -4.25 C 1.890625 -4.25 1.515625 -3.75 1.3125 -3.265625 Z M 2.5 -0.0625 C 1.875 -0.0625 1.578125 -0.65625 1.515625 -0.8125 C 1.328125 -1.28125 1.328125 -2.078125 1.328125 -2.25 C 1.328125 -3.03125 1.65625 -4.03125 2.546875 -4.03125 C 2.71875 -4.03125 3.171875 -4.03125 3.484375 -3.40625 C 3.65625 -3.046875 3.65625 -2.53125 3.65625 -2.046875 C 3.65625 -1.5625 3.65625 -1.0625 3.484375 -0.703125 C 3.1875 -0.109375 2.734375 -0.0625 2.5 -0.0625 Z M 2.5 -0.0625 \" style=\"stroke:none;\"/>\n</symbol>\n</g>\n</defs>\n<g id=\"surface1\">\n<g style=\"fill:rgb(0%,0%,0%);fill-opacity:1;\">\n  <use x=\"6.641\" xlink:href=\"#glyph0-1\" y=\"22.913\"/>\n  <use x=\"11.6223\" xlink:href=\"#glyph0-2\" y=\"22.913\"/>\n</g>\n<g style=\"fill:rgb(0%,0%,0%);fill-opacity:1;\">\n  <use x=\"34.987\" xlink:href=\"#glyph0-1\" y=\"13.062\"/>\n  <use x=\"39.9683\" xlink:href=\"#glyph0-3\" y=\"13.062\"/>\n</g>\n<g style=\"fill:rgb(0%,0%,0%);fill-opacity:1;\">\n  <use x=\"34.987\" xlink:href=\"#glyph0-1\" y=\"32.764\"/>\n  <use x=\"39.9683\" xlink:href=\"#glyph0-3\" y=\"32.764\"/>\n</g>\n<g style=\"fill:rgb(0%,0%,0%);fill-opacity:1;\">\n  <use x=\"91.68\" xlink:href=\"#glyph0-1\" y=\"22.913\"/>\n  <use x=\"96.6613\" xlink:href=\"#glyph0-2\" y=\"22.913\"/>\n</g>\n<g style=\"fill:rgb(0%,0%,0%);fill-opacity:1;\">\n  <use x=\"120.027\" xlink:href=\"#glyph0-3\" y=\"13.062\"/>\n  <use x=\"125.0083\" xlink:href=\"#glyph0-2\" y=\"13.062\"/>\n</g>\n<g style=\"fill:rgb(0%,0%,0%);fill-opacity:1;\">\n  <use x=\"122.517\" xlink:href=\"#glyph0-2\" y=\"32.764\"/>\n</g>\n<g style=\"fill:rgb(0%,0%,0%);fill-opacity:1;\">\n  <use x=\"179.349\" xlink:href=\"#glyph0-4\" y=\"23.162\"/>\n</g>\n<g style=\"fill:rgb(0%,0%,0%);fill-opacity:1;\">\n  <use x=\"205.066\" xlink:href=\"#glyph0-1\" y=\"13.062\"/>\n  <use x=\"210.0473\" xlink:href=\"#glyph0-5\" y=\"13.062\"/>\n</g>\n<g style=\"fill:rgb(0%,0%,0%);fill-opacity:1;\">\n  <use x=\"207.557\" xlink:href=\"#glyph0-6\" y=\"32.764\"/>\n</g>\n<path d=\"M 8.503 2.953 L 19.413156 6.745969 \" style=\"fill:none;stroke-width:0.3985;stroke-linecap:butt;stroke-linejoin:miter;stroke:rgb(0%,0%,0%);stroke-opacity:1;stroke-miterlimit:10;\" transform=\"matrix(1,0,0,-1,11.622,19.703)\"/>\n<path d=\"M -1.193775 1.594189 C -1.096636 0.995191 -0.00126409 0.0987819 0.298193 -0.00116438 C -0.0000924428 -0.099665 -1.09612 -0.997762 -1.19615 -1.59425 \" style=\"fill:none;stroke-width:0.31879;stroke-linecap:round;stroke-linejoin:round;stroke:rgb(0%,0%,0%);stroke-opacity:1;stroke-miterlimit:10;\" transform=\"matrix(0.94678,-0.32904,-0.32904,-0.94678,31.0337,12.95639)\"/>\n<path d=\"M 8.503 -2.95325 L 19.413156 -6.746219 \" style=\"fill:none;stroke-width:0.3985;stroke-linecap:butt;stroke-linejoin:miter;stroke:rgb(0%,0%,0%);stroke-opacity:1;stroke-miterlimit:10;\" transform=\"matrix(1,0,0,-1,11.622,19.703)\"/>\n<path d=\"M -1.196068 1.594014 C -1.096039 0.997527 -0.0000105643 0.0994294 0.298275 0.00092878 C -0.00118221 -0.0990175 -1.096555 -0.995427 -1.193693 -1.594424 \" style=\"fill:none;stroke-width:0.31879;stroke-linecap:round;stroke-linejoin:round;stroke:rgb(0%,0%,0%);stroke-opacity:1;stroke-miterlimit:10;\" transform=\"matrix(0.94678,0.32904,0.32904,-0.94678,31.0337,26.44961)\"/>\n<path d=\"M 93.542063 2.953 L 104.452219 6.745969 \" style=\"fill:none;stroke-width:0.3985;stroke-linecap:butt;stroke-linejoin:miter;stroke:rgb(0%,0%,0%);stroke-opacity:1;stroke-miterlimit:10;\" transform=\"matrix(1,0,0,-1,11.622,19.703)\"/>\n<path d=\"M -1.195063 1.594636 C -1.097925 0.995639 0.0011284 0.0979504 0.296904 -0.000716502 C -0.00138116 -0.0992171 -1.097409 -0.997314 -1.197439 -1.593802 \" style=\"fill:none;stroke-width:0.31879;stroke-linecap:round;stroke-linejoin:round;stroke:rgb(0%,0%,0%);stroke-opacity:1;stroke-miterlimit:10;\" transform=\"matrix(0.94678,-0.32904,-0.32904,-0.94678,116.07413,12.95639)\"/>\n<path d=\"M 93.542063 -2.95325 L 106.944406 -7.613406 \" style=\"fill:none;stroke-width:0.3985;stroke-linecap:butt;stroke-linejoin:miter;stroke:rgb(0%,0%,0%);stroke-opacity:1;stroke-miterlimit:10;\" transform=\"matrix(1,0,0,-1,11.622,19.703)\"/>\n<path d=\"M -1.195428 1.592363 C -1.095383 0.995884 0.000659382 0.0978271 0.298945 -0.000664136 C -0.000506646 -0.100618 -1.095843 -0.99705 -1.194243 -1.592362 \" style=\"fill:none;stroke-width:0.31879;stroke-linecap:round;stroke-linejoin:round;stroke:rgb(0%,0%,0%);stroke-opacity:1;stroke-miterlimit:10;\" transform=\"matrix(0.94678,0.32907,0.32907,-0.94678,118.56484,27.31506)\"/>\n<path d=\"M 175.952219 2.038938 L 189.491281 6.745969 \" style=\"fill:none;stroke-width:0.3985;stroke-linecap:butt;stroke-linejoin:miter;stroke:rgb(0%,0%,0%);stroke-opacity:1;stroke-miterlimit:10;\" transform=\"matrix(1,0,0,-1,11.622,19.703)\"/>\n<path d=\"M -1.196361 1.595088 C -1.095542 0.994811 -0.000169744 0.0984015 0.299287 -0.0015447 C 0.00100191 -0.100045 -1.095026 -0.998143 -1.195055 -1.59463 \" style=\"fill:none;stroke-width:0.31879;stroke-linecap:round;stroke-linejoin:round;stroke:rgb(0%,0%,0%);stroke-opacity:1;stroke-miterlimit:10;\" transform=\"matrix(0.94678,-0.32904,-0.32904,-0.94678,201.11457,12.95639)\"/>\n<path d=\"M 175.952219 -2.039187 L 191.983469 -7.613406 \" style=\"fill:none;stroke-width:0.3985;stroke-linecap:butt;stroke-linejoin:miter;stroke:rgb(0%,0%,0%);stroke-opacity:1;stroke-miterlimit:10;\" transform=\"matrix(1,0,0,-1,11.622,19.703)\"/>\n<path d=\"M -1.196689 1.591997 C -1.096665 0.995507 -0.000641621 0.0973961 0.297644 -0.00110771 C 0.00186609 -0.0997721 -1.0972 -0.997454 -1.195623 -1.592771 \" style=\"fill:none;stroke-width:0.31879;stroke-linecap:round;stroke-linejoin:round;stroke:rgb(0%,0%,0%);stroke-opacity:1;stroke-miterlimit:10;\" transform=\"matrix(0.94678,0.32903,0.32903,-0.94678,203.60528,27.31508)\"/>\n</g>\n</svg>"
     },
     "metadata": {
      "isolated": "true",
      "tags": []
     },
     "output_type": "display_data"
    }
   ],
   "source": [
    "#@title Games { vertical-output: true, display-mode: \"form\" }\n",
    "\n",
    "\n",
    "%%tikz -l matrix -S test_output.tikz -f svg -s 1000,100\n",
    "\n",
    "\\node[matrix] (1) {\\node (11) {10};\\\\};\n",
    "\n",
    "\\node[matrix, right of=1] (2) {\\node (21) {12};\\\\ \\node (22) {};\\\\ \\node (23) {12};\\\\};\n",
    "\n",
    "\\node[right of=2] (3) {};\n",
    "\n",
    "\\node[matrix, right of=3] (4) {\\node (41) {10};\\\\};\n",
    "\n",
    "\\node[matrix, right of=4] (5) {\\node (51) {20};\\\\ \\node (52) {};\\\\ \\node (53) {0};\\\\};\n",
    "\n",
    "\\node[right of=5] (6) {};\n",
    "\n",
    "\\node[matrix, right of=6] (7) {\\node (71) {?};\\\\};\n",
    "\n",
    "\\node[matrix, right of=7] (8) {\\node (81) {15};\\\\ \\node (82) {};\\\\ \\node (83) {6};\\\\};\n",
    "\n",
    "\\draw(11) edge[->] (21);\n",
    "\\draw(11) edge[->] (23);\n",
    "\n",
    "\\draw(41) edge[->] (51);\n",
    "\\draw(41) edge[->] (53);\n",
    "\n",
    "\\draw(71) edge[->] (81);\n",
    "\\draw(71) edge[->] (83);\n"
   ]
  },
  {
   "cell_type": "code",
   "execution_count": 22,
   "metadata": {
    "colab": {
     "base_uri": "https://localhost:8080/",
     "height": 0
    },
    "id": "KinMv0VPzAgK",
    "outputId": "f0d28acf-5fd9-44c7-97fa-c9cbeabc1b34"
   },
   "outputs": [
    {
     "data": {
      "image/svg+xml": "<svg height=\"100px\" version=\"1.1\" viewBox=\"0 0 221.869 40.202\" width=\"1000px\" xmlns=\"http://www.w3.org/2000/svg\" xmlns:xlink=\"http://www.w3.org/1999/xlink\">\n<defs>\n<g>\n<symbol id=\"glyph0-0\" overflow=\"visible\">\n<path d=\"\" style=\"stroke:none;\"/>\n</symbol>\n<symbol id=\"glyph0-1\" overflow=\"visible\">\n<path d=\"M 2.9375 -6.375 C 2.9375 -6.625 2.9375 -6.640625 2.703125 -6.640625 C 2.078125 -6 1.203125 -6 0.890625 -6 L 0.890625 -5.6875 C 1.09375 -5.6875 1.671875 -5.6875 2.1875 -5.953125 L 2.1875 -0.78125 C 2.1875 -0.421875 2.15625 -0.3125 1.265625 -0.3125 L 0.953125 -0.3125 L 0.953125 0 C 1.296875 -0.03125 2.15625 -0.03125 2.5625 -0.03125 C 2.953125 -0.03125 3.828125 -0.03125 4.171875 0 L 4.171875 -0.3125 L 3.859375 -0.3125 C 2.953125 -0.3125 2.9375 -0.421875 2.9375 -0.78125 Z M 2.9375 -6.375 \" style=\"stroke:none;\"/>\n</symbol>\n<symbol id=\"glyph0-2\" overflow=\"visible\">\n<path d=\"M 4.578125 -3.1875 C 4.578125 -3.984375 4.53125 -4.78125 4.1875 -5.515625 C 3.734375 -6.484375 2.90625 -6.640625 2.5 -6.640625 C 1.890625 -6.640625 1.171875 -6.375 0.75 -5.453125 C 0.4375 -4.765625 0.390625 -3.984375 0.390625 -3.1875 C 0.390625 -2.4375 0.421875 -1.546875 0.84375 -0.78125 C 1.265625 0.015625 2 0.21875 2.484375 0.21875 C 3.015625 0.21875 3.78125 0.015625 4.21875 -0.9375 C 4.53125 -1.625 4.578125 -2.40625 4.578125 -3.1875 Z M 2.484375 0 C 2.09375 0 1.5 -0.25 1.328125 -1.203125 C 1.21875 -1.796875 1.21875 -2.71875 1.21875 -3.3125 C 1.21875 -3.953125 1.21875 -4.609375 1.296875 -5.140625 C 1.484375 -6.328125 2.234375 -6.421875 2.484375 -6.421875 C 2.8125 -6.421875 3.46875 -6.234375 3.65625 -5.25 C 3.765625 -4.6875 3.765625 -3.9375 3.765625 -3.3125 C 3.765625 -2.5625 3.765625 -1.890625 3.65625 -1.25 C 3.5 -0.296875 2.9375 0 2.484375 0 Z M 2.484375 0 \" style=\"stroke:none;\"/>\n</symbol>\n<symbol id=\"glyph0-3\" overflow=\"visible\">\n<path d=\"M 1.265625 -0.765625 L 2.328125 -1.796875 C 3.875 -3.171875 4.46875 -3.703125 4.46875 -4.703125 C 4.46875 -5.84375 3.578125 -6.640625 2.359375 -6.640625 C 1.234375 -6.640625 0.5 -5.71875 0.5 -4.828125 C 0.5 -4.28125 1 -4.28125 1.03125 -4.28125 C 1.203125 -4.28125 1.546875 -4.390625 1.546875 -4.8125 C 1.546875 -5.0625 1.359375 -5.328125 1.015625 -5.328125 C 0.9375 -5.328125 0.921875 -5.328125 0.890625 -5.3125 C 1.109375 -5.96875 1.65625 -6.328125 2.234375 -6.328125 C 3.140625 -6.328125 3.5625 -5.515625 3.5625 -4.703125 C 3.5625 -3.90625 3.078125 -3.125 2.515625 -2.5 L 0.609375 -0.375 C 0.5 -0.265625 0.5 -0.234375 0.5 0 L 4.203125 0 L 4.46875 -1.734375 L 4.234375 -1.734375 C 4.171875 -1.4375 4.109375 -1 4 -0.84375 C 3.9375 -0.765625 3.28125 -0.765625 3.0625 -0.765625 Z M 1.265625 -0.765625 \" style=\"stroke:none;\"/>\n</symbol>\n<symbol id=\"glyph0-4\" overflow=\"visible\">\n<path d=\"M 4.46875 -2 C 4.46875 -3.1875 3.65625 -4.1875 2.578125 -4.1875 C 2.109375 -4.1875 1.671875 -4.03125 1.3125 -3.671875 L 1.3125 -5.625 C 1.515625 -5.5625 1.84375 -5.5 2.15625 -5.5 C 3.390625 -5.5 4.09375 -6.40625 4.09375 -6.53125 C 4.09375 -6.59375 4.0625 -6.640625 3.984375 -6.640625 C 3.984375 -6.640625 3.953125 -6.640625 3.90625 -6.609375 C 3.703125 -6.515625 3.21875 -6.3125 2.546875 -6.3125 C 2.15625 -6.3125 1.6875 -6.390625 1.21875 -6.59375 C 1.140625 -6.625 1.125 -6.625 1.109375 -6.625 C 1 -6.625 1 -6.546875 1 -6.390625 L 1 -3.4375 C 1 -3.265625 1 -3.1875 1.140625 -3.1875 C 1.21875 -3.1875 1.234375 -3.203125 1.28125 -3.265625 C 1.390625 -3.421875 1.75 -3.96875 2.5625 -3.96875 C 3.078125 -3.96875 3.328125 -3.515625 3.40625 -3.328125 C 3.5625 -2.953125 3.59375 -2.578125 3.59375 -2.078125 C 3.59375 -1.71875 3.59375 -1.125 3.34375 -0.703125 C 3.109375 -0.3125 2.734375 -0.0625 2.28125 -0.0625 C 1.5625 -0.0625 0.984375 -0.59375 0.8125 -1.171875 C 0.84375 -1.171875 0.875 -1.15625 0.984375 -1.15625 C 1.3125 -1.15625 1.484375 -1.40625 1.484375 -1.640625 C 1.484375 -1.890625 1.3125 -2.140625 0.984375 -2.140625 C 0.84375 -2.140625 0.5 -2.0625 0.5 -1.609375 C 0.5 -0.75 1.1875 0.21875 2.296875 0.21875 C 3.453125 0.21875 4.46875 -0.734375 4.46875 -2 Z M 4.46875 -2 \" style=\"stroke:none;\"/>\n</symbol>\n<symbol id=\"glyph0-5\" overflow=\"visible\">\n<path d=\"M 1.3125 -3.265625 L 1.3125 -3.515625 C 1.3125 -6.03125 2.546875 -6.390625 3.0625 -6.390625 C 3.296875 -6.390625 3.71875 -6.328125 3.9375 -5.984375 C 3.78125 -5.984375 3.390625 -5.984375 3.390625 -5.546875 C 3.390625 -5.234375 3.625 -5.078125 3.84375 -5.078125 C 4 -5.078125 4.3125 -5.171875 4.3125 -5.5625 C 4.3125 -6.15625 3.875 -6.640625 3.046875 -6.640625 C 1.765625 -6.640625 0.421875 -5.359375 0.421875 -3.15625 C 0.421875 -0.484375 1.578125 0.21875 2.5 0.21875 C 3.609375 0.21875 4.5625 -0.71875 4.5625 -2.03125 C 4.5625 -3.296875 3.671875 -4.25 2.5625 -4.25 C 1.890625 -4.25 1.515625 -3.75 1.3125 -3.265625 Z M 2.5 -0.0625 C 1.875 -0.0625 1.578125 -0.65625 1.515625 -0.8125 C 1.328125 -1.28125 1.328125 -2.078125 1.328125 -2.25 C 1.328125 -3.03125 1.65625 -4.03125 2.546875 -4.03125 C 2.71875 -4.03125 3.171875 -4.03125 3.484375 -3.40625 C 3.65625 -3.046875 3.65625 -2.53125 3.65625 -2.046875 C 3.65625 -1.5625 3.65625 -1.0625 3.484375 -0.703125 C 3.1875 -0.109375 2.734375 -0.0625 2.5 -0.0625 Z M 2.5 -0.0625 \" style=\"stroke:none;\"/>\n</symbol>\n</g>\n</defs>\n<g id=\"surface1\">\n<path d=\"M -8.302469 -6.531812 L 8.303 -6.531812 L 8.303 6.530688 L -8.302469 6.530688 Z M -8.302469 -6.531812 \" style=\"fill:none;stroke-width:0.3985;stroke-linecap:butt;stroke-linejoin:miter;stroke:rgb(0%,0%,0%);stroke-opacity:1;stroke-miterlimit:10;\" transform=\"matrix(1,0,0,-1,11.822,20.101)\"/>\n<g style=\"fill:rgb(0%,0%,0%);fill-opacity:1;\">\n  <use x=\"6.84\" xlink:href=\"#glyph0-1\" y=\"23.311\"/>\n  <use x=\"11.8213\" xlink:href=\"#glyph0-2\" y=\"23.311\"/>\n</g>\n<path d=\"M -8.300812 -6.531031 L 8.30075 -6.531031 L 8.30075 6.531469 L -8.300812 6.531469 Z M -8.300812 -6.531031 \" style=\"fill:none;stroke-width:0.3985;stroke-linecap:butt;stroke-linejoin:miter;stroke:rgb(0%,0%,0%);stroke-opacity:1;stroke-miterlimit:10;\" transform=\"matrix(1,0,0,-1,40.168,10.051)\"/>\n<g style=\"fill:rgb(0%,0%,0%);fill-opacity:1;\">\n  <use x=\"35.187\" xlink:href=\"#glyph0-1\" y=\"13.261\"/>\n  <use x=\"40.1683\" xlink:href=\"#glyph0-3\" y=\"13.261\"/>\n</g>\n<path d=\"M -8.300812 -6.531594 L 8.30075 -6.531594 L 8.30075 6.530906 L -8.300812 6.530906 Z M -8.300812 -6.531594 \" style=\"fill:none;stroke-width:0.3985;stroke-linecap:butt;stroke-linejoin:miter;stroke:rgb(0%,0%,0%);stroke-opacity:1;stroke-miterlimit:10;\" transform=\"matrix(1,0,0,-1,40.168,30.152)\"/>\n<g style=\"fill:rgb(0%,0%,0%);fill-opacity:1;\">\n  <use x=\"35.187\" xlink:href=\"#glyph0-1\" y=\"33.362\"/>\n  <use x=\"40.1683\" xlink:href=\"#glyph0-3\" y=\"33.362\"/>\n</g>\n<g style=\"fill:rgb(0%,0%,0%);fill-opacity:1;\">\n  <use x=\"91.88\" xlink:href=\"#glyph0-1\" y=\"23.311\"/>\n  <use x=\"96.8613\" xlink:href=\"#glyph0-2\" y=\"23.311\"/>\n</g>\n<g style=\"fill:rgb(0%,0%,0%);fill-opacity:1;\">\n  <use x=\"120.226\" xlink:href=\"#glyph0-3\" y=\"13.46\"/>\n  <use x=\"125.2073\" xlink:href=\"#glyph0-2\" y=\"13.46\"/>\n</g>\n<g style=\"fill:rgb(0%,0%,0%);fill-opacity:1;\">\n  <use x=\"122.717\" xlink:href=\"#glyph0-2\" y=\"33.162\"/>\n</g>\n<g style=\"fill:rgb(0%,0%,0%);fill-opacity:1;\">\n  <use x=\"176.919\" xlink:href=\"#glyph0-1\" y=\"23.311\"/>\n  <use x=\"181.9003\" xlink:href=\"#glyph0-2\" y=\"23.311\"/>\n</g>\n<g style=\"fill:rgb(0%,0%,0%);fill-opacity:1;\">\n  <use x=\"205.265\" xlink:href=\"#glyph0-1\" y=\"13.46\"/>\n  <use x=\"210.2463\" xlink:href=\"#glyph0-4\" y=\"13.46\"/>\n</g>\n<g style=\"fill:rgb(0%,0%,0%);fill-opacity:1;\">\n  <use x=\"207.756\" xlink:href=\"#glyph0-5\" y=\"33.162\"/>\n</g>\n<path d=\"M 8.502219 3.015063 L 19.412375 6.88225 \" style=\"fill:none;stroke-width:0.3985;stroke-linecap:butt;stroke-linejoin:miter;stroke:rgb(0%,0%,0%);stroke-opacity:1;stroke-miterlimit:10;\" transform=\"matrix(1,0,0,-1,11.822,20.101)\"/>\n<path d=\"M -1.194602 1.593451 C -1.096151 0.995695 0.000845862 0.0976913 0.297565 0.000762062 C 0.000775517 -0.100936 -1.094482 -0.995559 -1.194658 -1.593244 \" style=\"fill:none;stroke-width:0.31879;stroke-linecap:round;stroke-linejoin:round;stroke:rgb(0%,0%,0%);stroke-opacity:1;stroke-miterlimit:10;\" transform=\"matrix(0.94386,-0.33466,-0.33466,-0.94386,31.23502,13.21749)\"/>\n<path d=\"M 8.502219 -3.016187 L 19.412375 -6.883375 \" style=\"fill:none;stroke-width:0.3985;stroke-linecap:butt;stroke-linejoin:miter;stroke:rgb(0%,0%,0%);stroke-opacity:1;stroke-miterlimit:10;\" transform=\"matrix(1,0,0,-1,11.822,20.101)\"/>\n<path d=\"M -1.195586 1.595862 C -1.09541 0.998177 0.00115093 0.0998773 0.297941 -0.00182087 C 0.00122128 -0.0987501 -1.095776 -0.996754 -1.194227 -1.594509 \" style=\"fill:none;stroke-width:0.31879;stroke-linecap:round;stroke-linejoin:round;stroke:rgb(0%,0%,0%);stroke-opacity:1;stroke-miterlimit:10;\" transform=\"matrix(0.94386,0.33466,0.33466,-0.94386,31.23502,26.98451)\"/>\n<path d=\"M 93.541281 2.956469 L 104.451437 6.745531 \" style=\"fill:none;stroke-width:0.3985;stroke-linecap:butt;stroke-linejoin:miter;stroke:rgb(0%,0%,0%);stroke-opacity:1;stroke-miterlimit:10;\" transform=\"matrix(1,0,0,-1,11.822,20.101)\"/>\n<path d=\"M -1.195943 1.59448 C -1.095124 0.994203 0.000248868 0.097794 0.299706 -0.00215228 C 0.00142052 -0.100653 -1.098289 -0.997471 -1.194637 -1.595238 \" style=\"fill:none;stroke-width:0.31879;stroke-linecap:round;stroke-linejoin:round;stroke:rgb(0%,0%,0%);stroke-opacity:1;stroke-miterlimit:10;\" transform=\"matrix(0.94678,-0.32904,-0.32904,-0.94678,116.27413,13.35439)\"/>\n<path d=\"M 93.541281 -2.953687 L 106.943625 -7.613844 \" style=\"fill:none;stroke-width:0.3985;stroke-linecap:butt;stroke-linejoin:miter;stroke:rgb(0%,0%,0%);stroke-opacity:1;stroke-miterlimit:10;\" transform=\"matrix(1,0,0,-1,11.822,20.101)\"/>\n<path d=\"M -1.197301 1.595376 C -1.095976 0.995216 -0.00121299 0.10084 0.298352 -0.00133231 C -0.00109958 -0.101286 -1.096436 -0.997718 -1.194836 -1.593031 \" style=\"fill:none;stroke-width:0.31879;stroke-linecap:round;stroke-linejoin:round;stroke:rgb(0%,0%,0%);stroke-opacity:1;stroke-miterlimit:10;\" transform=\"matrix(0.94678,0.32907,0.32907,-0.94678,118.76484,27.71306)\"/>\n<path d=\"M 178.580344 2.956469 L 189.494406 6.745531 \" style=\"fill:none;stroke-width:0.3985;stroke-linecap:butt;stroke-linejoin:miter;stroke:rgb(0%,0%,0%);stroke-opacity:1;stroke-miterlimit:10;\" transform=\"matrix(1,0,0,-1,11.822,20.101)\"/>\n<path d=\"M -1.197241 1.594931 C -1.096422 0.994655 -0.00104927 0.0982451 0.298408 -0.00170113 C 0.000122378 -0.100202 -1.095906 -0.998299 -1.195935 -1.594787 \" style=\"fill:none;stroke-width:0.31879;stroke-linecap:round;stroke-linejoin:round;stroke:rgb(0%,0%,0%);stroke-opacity:1;stroke-miterlimit:10;\" transform=\"matrix(0.94678,-0.32904,-0.32904,-0.94678,201.31457,13.35439)\"/>\n<path d=\"M 178.580344 -2.953687 L 191.982687 -7.613844 \" style=\"fill:none;stroke-width:0.3985;stroke-linecap:butt;stroke-linejoin:miter;stroke:rgb(0%,0%,0%);stroke-opacity:1;stroke-miterlimit:10;\" transform=\"matrix(1,0,0,-1,11.822,20.101)\"/>\n<path d=\"M -1.194918 1.596205 C -1.097274 0.994765 0.00117003 0.101668 0.300735 -0.000504051 C 0.00128344 -0.100458 -1.094053 -0.996889 -1.196134 -1.593482 \" style=\"fill:none;stroke-width:0.31879;stroke-linecap:round;stroke-linejoin:round;stroke:rgb(0%,0%,0%);stroke-opacity:1;stroke-miterlimit:10;\" transform=\"matrix(0.94678,0.32907,0.32907,-0.94678,203.80528,27.71306)\"/>\n</g>\n</svg>"
     },
     "metadata": {
      "isolated": "true",
      "tags": []
     },
     "output_type": "display_data"
    }
   ],
   "source": [
    "#@title Arrow-Debreu security method step #1 { vertical-output: true, display-mode: \"form\" }\n",
    "\n",
    "\n",
    "%%tikz -l matrix -S test_output.tikz -f svg -s 1000,100\n",
    "\n",
    "\\node[matrix] (1) {\\node[draw] (11) {10};\\\\};\n",
    "\n",
    "\\node[matrix, right of=1] (2) {\\node[draw] (21) {12};\\\\ \\node[] (22) {};\\\\ \\node[draw] (23) {12};\\\\};\n",
    "\n",
    "\\node[right of=2] (3) {};\n",
    "\n",
    "\\node[matrix, right of=3] (4) {\\node (41) {10};\\\\};\n",
    "\n",
    "\\node[matrix, right of=4] (5) {\\node (51) {20};\\\\ \\node (52) {};\\\\ \\node (53) {0};\\\\};\n",
    "\n",
    "\\node[right of=5] (6) {};\n",
    "\n",
    "\\node[matrix, right of=6] (7) {\\node (71) {10};\\\\};\n",
    "\n",
    "\\node[matrix, right of=7] (8) {\\node (81) {15};\\\\ \\node (82) {};\\\\ \\node (83) {6};\\\\};\n",
    "\n",
    "\\draw(11) edge[->] (21);\n",
    "\\draw(11) edge[->] (23);\n",
    "\n",
    "\\draw(41) edge[->] (51);\n",
    "\\draw(41) edge[->] (53);\n",
    "\n",
    "\\draw(71) edge[->] (81);\n",
    "\\draw(71) edge[->] (83);\n"
   ]
  },
  {
   "cell_type": "markdown",
   "metadata": {
    "id": "pSL2_8yeGjKa"
   },
   "source": [
    "$$\n",
    "12 u_1 + 12 u_2 = 10\n",
    "$$"
   ]
  },
  {
   "cell_type": "code",
   "execution_count": 23,
   "metadata": {
    "colab": {
     "base_uri": "https://localhost:8080/",
     "height": 0
    },
    "id": "2i48NAX4Ghp-",
    "outputId": "5cfed778-9110-4c8d-85d3-ea62c899a475"
   },
   "outputs": [
    {
     "data": {
      "image/svg+xml": "<svg height=\"100px\" version=\"1.1\" viewBox=\"0 0 221.67 40.202\" width=\"1000px\" xmlns=\"http://www.w3.org/2000/svg\" xmlns:xlink=\"http://www.w3.org/1999/xlink\">\n<defs>\n<g>\n<symbol id=\"glyph0-0\" overflow=\"visible\">\n<path d=\"\" style=\"stroke:none;\"/>\n</symbol>\n<symbol id=\"glyph0-1\" overflow=\"visible\">\n<path d=\"M 2.9375 -6.375 C 2.9375 -6.625 2.9375 -6.640625 2.703125 -6.640625 C 2.078125 -6 1.203125 -6 0.890625 -6 L 0.890625 -5.6875 C 1.09375 -5.6875 1.671875 -5.6875 2.1875 -5.953125 L 2.1875 -0.78125 C 2.1875 -0.421875 2.15625 -0.3125 1.265625 -0.3125 L 0.953125 -0.3125 L 0.953125 0 C 1.296875 -0.03125 2.15625 -0.03125 2.5625 -0.03125 C 2.953125 -0.03125 3.828125 -0.03125 4.171875 0 L 4.171875 -0.3125 L 3.859375 -0.3125 C 2.953125 -0.3125 2.9375 -0.421875 2.9375 -0.78125 Z M 2.9375 -6.375 \" style=\"stroke:none;\"/>\n</symbol>\n<symbol id=\"glyph0-2\" overflow=\"visible\">\n<path d=\"M 4.578125 -3.1875 C 4.578125 -3.984375 4.53125 -4.78125 4.1875 -5.515625 C 3.734375 -6.484375 2.90625 -6.640625 2.5 -6.640625 C 1.890625 -6.640625 1.171875 -6.375 0.75 -5.453125 C 0.4375 -4.765625 0.390625 -3.984375 0.390625 -3.1875 C 0.390625 -2.4375 0.421875 -1.546875 0.84375 -0.78125 C 1.265625 0.015625 2 0.21875 2.484375 0.21875 C 3.015625 0.21875 3.78125 0.015625 4.21875 -0.9375 C 4.53125 -1.625 4.578125 -2.40625 4.578125 -3.1875 Z M 2.484375 0 C 2.09375 0 1.5 -0.25 1.328125 -1.203125 C 1.21875 -1.796875 1.21875 -2.71875 1.21875 -3.3125 C 1.21875 -3.953125 1.21875 -4.609375 1.296875 -5.140625 C 1.484375 -6.328125 2.234375 -6.421875 2.484375 -6.421875 C 2.8125 -6.421875 3.46875 -6.234375 3.65625 -5.25 C 3.765625 -4.6875 3.765625 -3.9375 3.765625 -3.3125 C 3.765625 -2.5625 3.765625 -1.890625 3.65625 -1.25 C 3.5 -0.296875 2.9375 0 2.484375 0 Z M 2.484375 0 \" style=\"stroke:none;\"/>\n</symbol>\n<symbol id=\"glyph0-3\" overflow=\"visible\">\n<path d=\"M 1.265625 -0.765625 L 2.328125 -1.796875 C 3.875 -3.171875 4.46875 -3.703125 4.46875 -4.703125 C 4.46875 -5.84375 3.578125 -6.640625 2.359375 -6.640625 C 1.234375 -6.640625 0.5 -5.71875 0.5 -4.828125 C 0.5 -4.28125 1 -4.28125 1.03125 -4.28125 C 1.203125 -4.28125 1.546875 -4.390625 1.546875 -4.8125 C 1.546875 -5.0625 1.359375 -5.328125 1.015625 -5.328125 C 0.9375 -5.328125 0.921875 -5.328125 0.890625 -5.3125 C 1.109375 -5.96875 1.65625 -6.328125 2.234375 -6.328125 C 3.140625 -6.328125 3.5625 -5.515625 3.5625 -4.703125 C 3.5625 -3.90625 3.078125 -3.125 2.515625 -2.5 L 0.609375 -0.375 C 0.5 -0.265625 0.5 -0.234375 0.5 0 L 4.203125 0 L 4.46875 -1.734375 L 4.234375 -1.734375 C 4.171875 -1.4375 4.109375 -1 4 -0.84375 C 3.9375 -0.765625 3.28125 -0.765625 3.0625 -0.765625 Z M 1.265625 -0.765625 \" style=\"stroke:none;\"/>\n</symbol>\n<symbol id=\"glyph0-4\" overflow=\"visible\">\n<path d=\"M 2.34375 -2.484375 C 2.34375 -3.734375 3.3125 -4.453125 3.65625 -4.703125 C 3.921875 -4.90625 4.140625 -5.265625 4.140625 -5.6875 C 4.140625 -6.265625 3.734375 -7.03125 2.25 -7.03125 C 1.171875 -7.03125 0.5625 -6.34375 0.5625 -5.703125 C 0.5625 -5.359375 0.78125 -5.21875 1.015625 -5.21875 C 1.296875 -5.21875 1.46875 -5.421875 1.46875 -5.6875 C 1.46875 -6.125 1.0625 -6.125 0.921875 -6.125 C 1.21875 -6.65625 1.796875 -6.8125 2.21875 -6.8125 C 3.3125 -6.8125 3.3125 -6.125 3.3125 -5.734375 C 3.3125 -5.15625 3.15625 -4.96875 2.96875 -4.796875 C 2.3125 -4.078125 2.09375 -3.15625 2.09375 -2.546875 L 2.09375 -2.109375 C 2.09375 -1.921875 2.09375 -1.859375 2.21875 -1.859375 C 2.34375 -1.859375 2.34375 -1.953125 2.34375 -2.140625 Z M 2.734375 -0.53125 C 2.734375 -0.8125 2.5 -1.0625 2.21875 -1.0625 C 1.921875 -1.0625 1.6875 -0.8125 1.6875 -0.53125 C 1.6875 -0.234375 1.921875 0 2.21875 0 C 2.5 0 2.734375 -0.234375 2.734375 -0.53125 Z M 2.734375 -0.53125 \" style=\"stroke:none;\"/>\n</symbol>\n<symbol id=\"glyph0-5\" overflow=\"visible\">\n<path d=\"M 4.46875 -2 C 4.46875 -3.1875 3.65625 -4.1875 2.578125 -4.1875 C 2.109375 -4.1875 1.671875 -4.03125 1.3125 -3.671875 L 1.3125 -5.625 C 1.515625 -5.5625 1.84375 -5.5 2.15625 -5.5 C 3.390625 -5.5 4.09375 -6.40625 4.09375 -6.53125 C 4.09375 -6.59375 4.0625 -6.640625 3.984375 -6.640625 C 3.984375 -6.640625 3.953125 -6.640625 3.90625 -6.609375 C 3.703125 -6.515625 3.21875 -6.3125 2.546875 -6.3125 C 2.15625 -6.3125 1.6875 -6.390625 1.21875 -6.59375 C 1.140625 -6.625 1.125 -6.625 1.109375 -6.625 C 1 -6.625 1 -6.546875 1 -6.390625 L 1 -3.4375 C 1 -3.265625 1 -3.1875 1.140625 -3.1875 C 1.21875 -3.1875 1.234375 -3.203125 1.28125 -3.265625 C 1.390625 -3.421875 1.75 -3.96875 2.5625 -3.96875 C 3.078125 -3.96875 3.328125 -3.515625 3.40625 -3.328125 C 3.5625 -2.953125 3.59375 -2.578125 3.59375 -2.078125 C 3.59375 -1.71875 3.59375 -1.125 3.34375 -0.703125 C 3.109375 -0.3125 2.734375 -0.0625 2.28125 -0.0625 C 1.5625 -0.0625 0.984375 -0.59375 0.8125 -1.171875 C 0.84375 -1.171875 0.875 -1.15625 0.984375 -1.15625 C 1.3125 -1.15625 1.484375 -1.40625 1.484375 -1.640625 C 1.484375 -1.890625 1.3125 -2.140625 0.984375 -2.140625 C 0.84375 -2.140625 0.5 -2.0625 0.5 -1.609375 C 0.5 -0.75 1.1875 0.21875 2.296875 0.21875 C 3.453125 0.21875 4.46875 -0.734375 4.46875 -2 Z M 4.46875 -2 \" style=\"stroke:none;\"/>\n</symbol>\n<symbol id=\"glyph0-6\" overflow=\"visible\">\n<path d=\"M 1.3125 -3.265625 L 1.3125 -3.515625 C 1.3125 -6.03125 2.546875 -6.390625 3.0625 -6.390625 C 3.296875 -6.390625 3.71875 -6.328125 3.9375 -5.984375 C 3.78125 -5.984375 3.390625 -5.984375 3.390625 -5.546875 C 3.390625 -5.234375 3.625 -5.078125 3.84375 -5.078125 C 4 -5.078125 4.3125 -5.171875 4.3125 -5.5625 C 4.3125 -6.15625 3.875 -6.640625 3.046875 -6.640625 C 1.765625 -6.640625 0.421875 -5.359375 0.421875 -3.15625 C 0.421875 -0.484375 1.578125 0.21875 2.5 0.21875 C 3.609375 0.21875 4.5625 -0.71875 4.5625 -2.03125 C 4.5625 -3.296875 3.671875 -4.25 2.5625 -4.25 C 1.890625 -4.25 1.515625 -3.75 1.3125 -3.265625 Z M 2.5 -0.0625 C 1.875 -0.0625 1.578125 -0.65625 1.515625 -0.8125 C 1.328125 -1.28125 1.328125 -2.078125 1.328125 -2.25 C 1.328125 -3.03125 1.65625 -4.03125 2.546875 -4.03125 C 2.71875 -4.03125 3.171875 -4.03125 3.484375 -3.40625 C 3.65625 -3.046875 3.65625 -2.53125 3.65625 -2.046875 C 3.65625 -1.5625 3.65625 -1.0625 3.484375 -0.703125 C 3.1875 -0.109375 2.734375 -0.0625 2.5 -0.0625 Z M 2.5 -0.0625 \" style=\"stroke:none;\"/>\n</symbol>\n</g>\n</defs>\n<g id=\"surface1\">\n<g style=\"fill:rgb(0%,0%,0%);fill-opacity:1;\">\n  <use x=\"6.641\" xlink:href=\"#glyph0-1\" y=\"23.311\"/>\n  <use x=\"11.6223\" xlink:href=\"#glyph0-2\" y=\"23.311\"/>\n</g>\n<g style=\"fill:rgb(0%,0%,0%);fill-opacity:1;\">\n  <use x=\"34.987\" xlink:href=\"#glyph0-1\" y=\"13.46\"/>\n  <use x=\"39.9683\" xlink:href=\"#glyph0-3\" y=\"13.46\"/>\n</g>\n<g style=\"fill:rgb(0%,0%,0%);fill-opacity:1;\">\n  <use x=\"34.987\" xlink:href=\"#glyph0-1\" y=\"33.162\"/>\n  <use x=\"39.9683\" xlink:href=\"#glyph0-3\" y=\"33.162\"/>\n</g>\n<path d=\"M -8.302625 -6.531812 L 8.302844 -6.531812 L 8.302844 6.530688 L -8.302625 6.530688 Z M -8.302625 -6.531812 \" style=\"fill:none;stroke-width:0.3985;stroke-linecap:butt;stroke-linejoin:miter;stroke:rgb(0%,0%,0%);stroke-opacity:1;stroke-miterlimit:10;\" transform=\"matrix(1,0,0,-1,96.662,20.101)\"/>\n<g style=\"fill:rgb(0%,0%,0%);fill-opacity:1;\">\n  <use x=\"91.68\" xlink:href=\"#glyph0-1\" y=\"23.311\"/>\n  <use x=\"96.6613\" xlink:href=\"#glyph0-2\" y=\"23.311\"/>\n</g>\n<path d=\"M -8.300969 -6.531031 L 8.300594 -6.531031 L 8.300594 6.531469 L -8.300969 6.531469 Z M -8.300969 -6.531031 \" style=\"fill:none;stroke-width:0.3985;stroke-linecap:butt;stroke-linejoin:miter;stroke:rgb(0%,0%,0%);stroke-opacity:1;stroke-miterlimit:10;\" transform=\"matrix(1,0,0,-1,125.008,10.051)\"/>\n<g style=\"fill:rgb(0%,0%,0%);fill-opacity:1;\">\n  <use x=\"120.027\" xlink:href=\"#glyph0-3\" y=\"13.261\"/>\n  <use x=\"125.0083\" xlink:href=\"#glyph0-2\" y=\"13.261\"/>\n</g>\n<path d=\"M -5.812687 -6.531594 L 5.812313 -6.531594 L 5.812313 6.530906 L -5.812687 6.530906 Z M -5.812687 -6.531594 \" style=\"fill:none;stroke-width:0.3985;stroke-linecap:butt;stroke-linejoin:miter;stroke:rgb(0%,0%,0%);stroke-opacity:1;stroke-miterlimit:10;\" transform=\"matrix(1,0,0,-1,125.008,30.152)\"/>\n<g style=\"fill:rgb(0%,0%,0%);fill-opacity:1;\">\n  <use x=\"122.517\" xlink:href=\"#glyph0-2\" y=\"33.362\"/>\n</g>\n<g style=\"fill:rgb(0%,0%,0%);fill-opacity:1;\">\n  <use x=\"179.349\" xlink:href=\"#glyph0-4\" y=\"23.56\"/>\n</g>\n<g style=\"fill:rgb(0%,0%,0%);fill-opacity:1;\">\n  <use x=\"205.066\" xlink:href=\"#glyph0-1\" y=\"13.46\"/>\n  <use x=\"210.0473\" xlink:href=\"#glyph0-5\" y=\"13.46\"/>\n</g>\n<g style=\"fill:rgb(0%,0%,0%);fill-opacity:1;\">\n  <use x=\"207.557\" xlink:href=\"#glyph0-6\" y=\"33.162\"/>\n</g>\n<path d=\"M 8.503 2.956469 L 19.413156 6.745531 \" style=\"fill:none;stroke-width:0.3985;stroke-linecap:butt;stroke-linejoin:miter;stroke:rgb(0%,0%,0%);stroke-opacity:1;stroke-miterlimit:10;\" transform=\"matrix(1,0,0,-1,11.622,20.101)\"/>\n<path d=\"M -1.193918 1.593776 C -1.09678 0.994779 -0.00140738 0.0983696 0.29805 -0.00157667 C -0.00023573 -0.100077 -1.096264 -0.998174 -1.196293 -1.594662 \" style=\"fill:none;stroke-width:0.31879;stroke-linecap:round;stroke-linejoin:round;stroke:rgb(0%,0%,0%);stroke-opacity:1;stroke-miterlimit:10;\" transform=\"matrix(0.94678,-0.32904,-0.32904,-0.94678,31.0337,13.35439)\"/>\n<path d=\"M 8.503 -2.953687 L 19.413156 -6.746656 \" style=\"fill:none;stroke-width:0.3985;stroke-linecap:butt;stroke-linejoin:miter;stroke:rgb(0%,0%,0%);stroke-opacity:1;stroke-miterlimit:10;\" transform=\"matrix(1,0,0,-1,11.622,20.101)\"/>\n<path d=\"M -1.195925 1.593602 C -1.095895 0.997114 0.000132723 0.0990171 0.298418 0.000516485 C -0.00103893 -0.0994297 -1.096411 -0.995839 -1.193549 -1.594836 \" style=\"fill:none;stroke-width:0.31879;stroke-linecap:round;stroke-linejoin:round;stroke:rgb(0%,0%,0%);stroke-opacity:1;stroke-miterlimit:10;\" transform=\"matrix(0.94678,0.32904,0.32904,-0.94678,31.0337,26.84761)\"/>\n<path d=\"M 93.542063 3.015063 L 104.452219 6.88225 \" style=\"fill:none;stroke-width:0.3985;stroke-linecap:butt;stroke-linejoin:miter;stroke:rgb(0%,0%,0%);stroke-opacity:1;stroke-miterlimit:10;\" transform=\"matrix(1,0,0,-1,11.622,20.101)\"/>\n<path d=\"M -1.195163 1.59365 C -1.096712 0.995894 0.000284695 0.0978903 0.300681 -0.000342494 C 0.00021435 -0.100737 -1.095043 -0.99536 -1.195219 -1.593045 \" style=\"fill:none;stroke-width:0.31879;stroke-linecap:round;stroke-linejoin:round;stroke:rgb(0%,0%,0%);stroke-opacity:1;stroke-miterlimit:10;\" transform=\"matrix(0.94386,-0.33466,-0.33466,-0.94386,116.07546,13.21749)\"/>\n<path d=\"M 93.542063 -3.012281 L 106.944406 -7.766187 \" style=\"fill:none;stroke-width:0.3985;stroke-linecap:butt;stroke-linejoin:miter;stroke:rgb(0%,0%,0%);stroke-opacity:1;stroke-miterlimit:10;\" transform=\"matrix(1,0,0,-1,11.622,20.101)\"/>\n<path d=\"M -1.194826 1.596207 C -1.094634 0.998531 -0.00173473 0.098968 0.298731 -0.00141717 C -0.00165877 -0.0996574 -1.094943 -0.99638 -1.197052 -1.595435 \" style=\"fill:none;stroke-width:0.31879;stroke-linecap:round;stroke-linejoin:round;stroke:rgb(0%,0%,0%);stroke-opacity:1;stroke-miterlimit:10;\" transform=\"matrix(0.94386,0.33469,0.33469,-0.94386,118.56617,27.86743)\"/>\n<path d=\"M 175.952219 2.042406 L 189.491281 6.745531 \" style=\"fill:none;stroke-width:0.3985;stroke-linecap:butt;stroke-linejoin:miter;stroke:rgb(0%,0%,0%);stroke-opacity:1;stroke-miterlimit:10;\" transform=\"matrix(1,0,0,-1,11.622,20.101)\"/>\n<path d=\"M -1.196505 1.594675 C -1.095685 0.994399 -0.000313031 0.0979892 0.299144 -0.001957 C 0.000858619 -0.100458 -1.095169 -0.998555 -1.195199 -1.595042 \" style=\"fill:none;stroke-width:0.31879;stroke-linecap:round;stroke-linejoin:round;stroke:rgb(0%,0%,0%);stroke-opacity:1;stroke-miterlimit:10;\" transform=\"matrix(0.94678,-0.32904,-0.32904,-0.94678,201.11457,13.35439)\"/>\n<path d=\"M 175.952219 -2.039625 L 191.983469 -7.613844 \" style=\"fill:none;stroke-width:0.3985;stroke-linecap:butt;stroke-linejoin:miter;stroke:rgb(0%,0%,0%);stroke-opacity:1;stroke-miterlimit:10;\" transform=\"matrix(1,0,0,-1,11.622,20.101)\"/>\n<path d=\"M -1.197825 1.595266 C -1.096521 0.995094 -0.00177766 0.100665 0.297787 -0.00152 C 0.00200937 -0.100184 -1.097056 -0.997866 -1.19548 -1.593183 \" style=\"fill:none;stroke-width:0.31879;stroke-linecap:round;stroke-linejoin:round;stroke:rgb(0%,0%,0%);stroke-opacity:1;stroke-miterlimit:10;\" transform=\"matrix(0.94678,0.32903,0.32903,-0.94678,203.60528,27.71308)\"/>\n</g>\n</svg>"
     },
     "metadata": {
      "isolated": "true",
      "tags": []
     },
     "output_type": "display_data"
    }
   ],
   "source": [
    "#@title Arrow-Debreu security method step #2 { vertical-output: true, display-mode: \"form\" }\n",
    "\n",
    "\n",
    "%%tikz -l matrix -S test_output.tikz -f svg -s 1000,100\n",
    "\n",
    "\\node[matrix] (1) {\\node (11) {10};\\\\};\n",
    "\n",
    "\\node[matrix, right of=1] (2) {\\node (21) {12};\\\\ \\node (22) {};\\\\ \\node (23) {12};\\\\};\n",
    "\n",
    "\\node[right of=2] (3) {};\n",
    "\n",
    "\\node[matrix, right of=3] (4) {\\node[draw] (41) {10};\\\\};\n",
    "\n",
    "\\node[matrix, right of=4] (5) {\\node[draw] (51) {20};\\\\ \\node (52) {};\\\\ \\node[draw] (53) {0};\\\\};\n",
    "\n",
    "\\node[right of=5] (6) {};\n",
    "\n",
    "\\node[matrix, right of=6] (7) {\\node (71) {?};\\\\};\n",
    "\n",
    "\\node[matrix, right of=7] (8) {\\node (81) {15};\\\\ \\node (82) {};\\\\ \\node (83) {6};\\\\};\n",
    "\n",
    "\\draw(11) edge[->] (21);\n",
    "\\draw(11) edge[->] (23);\n",
    "\n",
    "\\draw(41) edge[->] (51);\n",
    "\\draw(41) edge[->] (53);\n",
    "\n",
    "\\draw(71) edge[->] (81);\n",
    "\\draw(71) edge[->] (83);\n"
   ]
  },
  {
   "cell_type": "markdown",
   "metadata": {
    "id": "iaP8o9TJHMAQ"
   },
   "source": [
    "$$\n",
    "20 u_1 + 0 u_2 = 10\n",
    "$$"
   ]
  },
  {
   "cell_type": "markdown",
   "metadata": {
    "id": "lSdl8lPEHlvW"
   },
   "source": [
    "## Arrow-Debreu security method step #3\n",
    "\n",
    "$$\n",
    "\\begin{align}\n",
    "12 u_1 + 12 u_2 &= 10 \\\\\n",
    "20 u_1 + 0 u_2 &= 10\n",
    "\\end{align}\n",
    "$$\n"
   ]
  },
  {
   "cell_type": "markdown",
   "metadata": {
    "id": "rF4kJBzsIYn9"
   },
   "source": [
    "$$ u_1 = \\frac{1}{2}, \\quad u_2 = \\frac{1}{3}$$"
   ]
  },
  {
   "cell_type": "code",
   "execution_count": 24,
   "metadata": {
    "colab": {
     "base_uri": "https://localhost:8080/",
     "height": 0
    },
    "id": "VoC2jC_2GhCH",
    "outputId": "60fdc9f5-5c89-4adb-bcc6-580465a1830d"
   },
   "outputs": [
    {
     "data": {
      "image/svg+xml": "<svg height=\"100px\" version=\"1.1\" viewBox=\"0 0 221.869 40.202\" width=\"1000px\" xmlns=\"http://www.w3.org/2000/svg\" xmlns:xlink=\"http://www.w3.org/1999/xlink\">\n<defs>\n<g>\n<symbol id=\"glyph0-0\" overflow=\"visible\">\n<path d=\"\" style=\"stroke:none;\"/>\n</symbol>\n<symbol id=\"glyph0-1\" overflow=\"visible\">\n<path d=\"M 2.9375 -6.375 C 2.9375 -6.625 2.9375 -6.640625 2.703125 -6.640625 C 2.078125 -6 1.203125 -6 0.890625 -6 L 0.890625 -5.6875 C 1.09375 -5.6875 1.671875 -5.6875 2.1875 -5.953125 L 2.1875 -0.78125 C 2.1875 -0.421875 2.15625 -0.3125 1.265625 -0.3125 L 0.953125 -0.3125 L 0.953125 0 C 1.296875 -0.03125 2.15625 -0.03125 2.5625 -0.03125 C 2.953125 -0.03125 3.828125 -0.03125 4.171875 0 L 4.171875 -0.3125 L 3.859375 -0.3125 C 2.953125 -0.3125 2.9375 -0.421875 2.9375 -0.78125 Z M 2.9375 -6.375 \" style=\"stroke:none;\"/>\n</symbol>\n<symbol id=\"glyph0-2\" overflow=\"visible\">\n<path d=\"M 4.578125 -3.1875 C 4.578125 -3.984375 4.53125 -4.78125 4.1875 -5.515625 C 3.734375 -6.484375 2.90625 -6.640625 2.5 -6.640625 C 1.890625 -6.640625 1.171875 -6.375 0.75 -5.453125 C 0.4375 -4.765625 0.390625 -3.984375 0.390625 -3.1875 C 0.390625 -2.4375 0.421875 -1.546875 0.84375 -0.78125 C 1.265625 0.015625 2 0.21875 2.484375 0.21875 C 3.015625 0.21875 3.78125 0.015625 4.21875 -0.9375 C 4.53125 -1.625 4.578125 -2.40625 4.578125 -3.1875 Z M 2.484375 0 C 2.09375 0 1.5 -0.25 1.328125 -1.203125 C 1.21875 -1.796875 1.21875 -2.71875 1.21875 -3.3125 C 1.21875 -3.953125 1.21875 -4.609375 1.296875 -5.140625 C 1.484375 -6.328125 2.234375 -6.421875 2.484375 -6.421875 C 2.8125 -6.421875 3.46875 -6.234375 3.65625 -5.25 C 3.765625 -4.6875 3.765625 -3.9375 3.765625 -3.3125 C 3.765625 -2.5625 3.765625 -1.890625 3.65625 -1.25 C 3.5 -0.296875 2.9375 0 2.484375 0 Z M 2.484375 0 \" style=\"stroke:none;\"/>\n</symbol>\n<symbol id=\"glyph0-3\" overflow=\"visible\">\n<path d=\"M 1.265625 -0.765625 L 2.328125 -1.796875 C 3.875 -3.171875 4.46875 -3.703125 4.46875 -4.703125 C 4.46875 -5.84375 3.578125 -6.640625 2.359375 -6.640625 C 1.234375 -6.640625 0.5 -5.71875 0.5 -4.828125 C 0.5 -4.28125 1 -4.28125 1.03125 -4.28125 C 1.203125 -4.28125 1.546875 -4.390625 1.546875 -4.8125 C 1.546875 -5.0625 1.359375 -5.328125 1.015625 -5.328125 C 0.9375 -5.328125 0.921875 -5.328125 0.890625 -5.3125 C 1.109375 -5.96875 1.65625 -6.328125 2.234375 -6.328125 C 3.140625 -6.328125 3.5625 -5.515625 3.5625 -4.703125 C 3.5625 -3.90625 3.078125 -3.125 2.515625 -2.5 L 0.609375 -0.375 C 0.5 -0.265625 0.5 -0.234375 0.5 0 L 4.203125 0 L 4.46875 -1.734375 L 4.234375 -1.734375 C 4.171875 -1.4375 4.109375 -1 4 -0.84375 C 3.9375 -0.765625 3.28125 -0.765625 3.0625 -0.765625 Z M 1.265625 -0.765625 \" style=\"stroke:none;\"/>\n</symbol>\n<symbol id=\"glyph0-4\" overflow=\"visible\">\n<path d=\"M 2.34375 -2.484375 C 2.34375 -3.734375 3.3125 -4.453125 3.65625 -4.703125 C 3.921875 -4.90625 4.140625 -5.265625 4.140625 -5.6875 C 4.140625 -6.265625 3.734375 -7.03125 2.25 -7.03125 C 1.171875 -7.03125 0.5625 -6.34375 0.5625 -5.703125 C 0.5625 -5.359375 0.78125 -5.21875 1.015625 -5.21875 C 1.296875 -5.21875 1.46875 -5.421875 1.46875 -5.6875 C 1.46875 -6.125 1.0625 -6.125 0.921875 -6.125 C 1.21875 -6.65625 1.796875 -6.8125 2.21875 -6.8125 C 3.3125 -6.8125 3.3125 -6.125 3.3125 -5.734375 C 3.3125 -5.15625 3.15625 -4.96875 2.96875 -4.796875 C 2.3125 -4.078125 2.09375 -3.15625 2.09375 -2.546875 L 2.09375 -2.109375 C 2.09375 -1.921875 2.09375 -1.859375 2.21875 -1.859375 C 2.34375 -1.859375 2.34375 -1.953125 2.34375 -2.140625 Z M 2.734375 -0.53125 C 2.734375 -0.8125 2.5 -1.0625 2.21875 -1.0625 C 1.921875 -1.0625 1.6875 -0.8125 1.6875 -0.53125 C 1.6875 -0.234375 1.921875 0 2.21875 0 C 2.5 0 2.734375 -0.234375 2.734375 -0.53125 Z M 2.734375 -0.53125 \" style=\"stroke:none;\"/>\n</symbol>\n<symbol id=\"glyph0-5\" overflow=\"visible\">\n<path d=\"M 4.46875 -2 C 4.46875 -3.1875 3.65625 -4.1875 2.578125 -4.1875 C 2.109375 -4.1875 1.671875 -4.03125 1.3125 -3.671875 L 1.3125 -5.625 C 1.515625 -5.5625 1.84375 -5.5 2.15625 -5.5 C 3.390625 -5.5 4.09375 -6.40625 4.09375 -6.53125 C 4.09375 -6.59375 4.0625 -6.640625 3.984375 -6.640625 C 3.984375 -6.640625 3.953125 -6.640625 3.90625 -6.609375 C 3.703125 -6.515625 3.21875 -6.3125 2.546875 -6.3125 C 2.15625 -6.3125 1.6875 -6.390625 1.21875 -6.59375 C 1.140625 -6.625 1.125 -6.625 1.109375 -6.625 C 1 -6.625 1 -6.546875 1 -6.390625 L 1 -3.4375 C 1 -3.265625 1 -3.1875 1.140625 -3.1875 C 1.21875 -3.1875 1.234375 -3.203125 1.28125 -3.265625 C 1.390625 -3.421875 1.75 -3.96875 2.5625 -3.96875 C 3.078125 -3.96875 3.328125 -3.515625 3.40625 -3.328125 C 3.5625 -2.953125 3.59375 -2.578125 3.59375 -2.078125 C 3.59375 -1.71875 3.59375 -1.125 3.34375 -0.703125 C 3.109375 -0.3125 2.734375 -0.0625 2.28125 -0.0625 C 1.5625 -0.0625 0.984375 -0.59375 0.8125 -1.171875 C 0.84375 -1.171875 0.875 -1.15625 0.984375 -1.15625 C 1.3125 -1.15625 1.484375 -1.40625 1.484375 -1.640625 C 1.484375 -1.890625 1.3125 -2.140625 0.984375 -2.140625 C 0.84375 -2.140625 0.5 -2.0625 0.5 -1.609375 C 0.5 -0.75 1.1875 0.21875 2.296875 0.21875 C 3.453125 0.21875 4.46875 -0.734375 4.46875 -2 Z M 4.46875 -2 \" style=\"stroke:none;\"/>\n</symbol>\n<symbol id=\"glyph0-6\" overflow=\"visible\">\n<path d=\"M 1.3125 -3.265625 L 1.3125 -3.515625 C 1.3125 -6.03125 2.546875 -6.390625 3.0625 -6.390625 C 3.296875 -6.390625 3.71875 -6.328125 3.9375 -5.984375 C 3.78125 -5.984375 3.390625 -5.984375 3.390625 -5.546875 C 3.390625 -5.234375 3.625 -5.078125 3.84375 -5.078125 C 4 -5.078125 4.3125 -5.171875 4.3125 -5.5625 C 4.3125 -6.15625 3.875 -6.640625 3.046875 -6.640625 C 1.765625 -6.640625 0.421875 -5.359375 0.421875 -3.15625 C 0.421875 -0.484375 1.578125 0.21875 2.5 0.21875 C 3.609375 0.21875 4.5625 -0.71875 4.5625 -2.03125 C 4.5625 -3.296875 3.671875 -4.25 2.5625 -4.25 C 1.890625 -4.25 1.515625 -3.75 1.3125 -3.265625 Z M 2.5 -0.0625 C 1.875 -0.0625 1.578125 -0.65625 1.515625 -0.8125 C 1.328125 -1.28125 1.328125 -2.078125 1.328125 -2.25 C 1.328125 -3.03125 1.65625 -4.03125 2.546875 -4.03125 C 2.71875 -4.03125 3.171875 -4.03125 3.484375 -3.40625 C 3.65625 -3.046875 3.65625 -2.53125 3.65625 -2.046875 C 3.65625 -1.5625 3.65625 -1.0625 3.484375 -0.703125 C 3.1875 -0.109375 2.734375 -0.0625 2.5 -0.0625 Z M 2.5 -0.0625 \" style=\"stroke:none;\"/>\n</symbol>\n</g>\n</defs>\n<g id=\"surface1\">\n<g style=\"fill:rgb(0%,0%,0%);fill-opacity:1;\">\n  <use x=\"6.641\" xlink:href=\"#glyph0-1\" y=\"23.311\"/>\n  <use x=\"11.6223\" xlink:href=\"#glyph0-2\" y=\"23.311\"/>\n</g>\n<g style=\"fill:rgb(0%,0%,0%);fill-opacity:1;\">\n  <use x=\"34.987\" xlink:href=\"#glyph0-1\" y=\"13.46\"/>\n  <use x=\"39.9683\" xlink:href=\"#glyph0-3\" y=\"13.46\"/>\n</g>\n<g style=\"fill:rgb(0%,0%,0%);fill-opacity:1;\">\n  <use x=\"34.987\" xlink:href=\"#glyph0-1\" y=\"33.162\"/>\n  <use x=\"39.9683\" xlink:href=\"#glyph0-3\" y=\"33.162\"/>\n</g>\n<g style=\"fill:rgb(0%,0%,0%);fill-opacity:1;\">\n  <use x=\"91.68\" xlink:href=\"#glyph0-1\" y=\"23.311\"/>\n  <use x=\"96.6613\" xlink:href=\"#glyph0-2\" y=\"23.311\"/>\n</g>\n<g style=\"fill:rgb(0%,0%,0%);fill-opacity:1;\">\n  <use x=\"120.027\" xlink:href=\"#glyph0-3\" y=\"13.46\"/>\n  <use x=\"125.0083\" xlink:href=\"#glyph0-2\" y=\"13.46\"/>\n</g>\n<g style=\"fill:rgb(0%,0%,0%);fill-opacity:1;\">\n  <use x=\"122.517\" xlink:href=\"#glyph0-2\" y=\"33.162\"/>\n</g>\n<g style=\"fill:rgb(0%,0%,0%);fill-opacity:1;\">\n  <use x=\"179.349\" xlink:href=\"#glyph0-4\" y=\"23.56\"/>\n</g>\n<path d=\"M -8.300906 -6.531031 L 8.300656 -6.531031 L 8.300656 6.531469 L -8.300906 6.531469 Z M -8.300906 -6.531031 \" style=\"fill:none;stroke-width:0.3985;stroke-linecap:butt;stroke-linejoin:miter;stroke:rgb(0%,0%,0%);stroke-opacity:1;stroke-miterlimit:10;\" transform=\"matrix(1,0,0,-1,210.047,10.051)\"/>\n<g style=\"fill:rgb(0%,0%,0%);fill-opacity:1;\">\n  <use x=\"205.066\" xlink:href=\"#glyph0-1\" y=\"13.261\"/>\n  <use x=\"210.0473\" xlink:href=\"#glyph0-5\" y=\"13.261\"/>\n</g>\n<path d=\"M -5.812625 -6.531594 L 5.812375 -6.531594 L 5.812375 6.530906 L -5.812625 6.530906 Z M -5.812625 -6.531594 \" style=\"fill:none;stroke-width:0.3985;stroke-linecap:butt;stroke-linejoin:miter;stroke:rgb(0%,0%,0%);stroke-opacity:1;stroke-miterlimit:10;\" transform=\"matrix(1,0,0,-1,210.047,30.152)\"/>\n<g style=\"fill:rgb(0%,0%,0%);fill-opacity:1;\">\n  <use x=\"207.557\" xlink:href=\"#glyph0-6\" y=\"33.362\"/>\n</g>\n<path d=\"M 8.503 2.956469 L 19.413156 6.745531 \" style=\"fill:none;stroke-width:0.3985;stroke-linecap:butt;stroke-linejoin:miter;stroke:rgb(0%,0%,0%);stroke-opacity:1;stroke-miterlimit:10;\" transform=\"matrix(1,0,0,-1,11.622,20.101)\"/>\n<path d=\"M -1.193918 1.593776 C -1.09678 0.994779 -0.00140738 0.0983696 0.29805 -0.00157667 C -0.00023573 -0.100077 -1.096264 -0.998174 -1.196293 -1.594662 \" style=\"fill:none;stroke-width:0.31879;stroke-linecap:round;stroke-linejoin:round;stroke:rgb(0%,0%,0%);stroke-opacity:1;stroke-miterlimit:10;\" transform=\"matrix(0.94678,-0.32904,-0.32904,-0.94678,31.0337,13.35439)\"/>\n<path d=\"M 8.503 -2.953687 L 19.413156 -6.746656 \" style=\"fill:none;stroke-width:0.3985;stroke-linecap:butt;stroke-linejoin:miter;stroke:rgb(0%,0%,0%);stroke-opacity:1;stroke-miterlimit:10;\" transform=\"matrix(1,0,0,-1,11.622,20.101)\"/>\n<path d=\"M -1.195925 1.593602 C -1.095895 0.997114 0.000132723 0.0990171 0.298418 0.000516485 C -0.00103893 -0.0994297 -1.096411 -0.995839 -1.193549 -1.594836 \" style=\"fill:none;stroke-width:0.31879;stroke-linecap:round;stroke-linejoin:round;stroke:rgb(0%,0%,0%);stroke-opacity:1;stroke-miterlimit:10;\" transform=\"matrix(0.94678,0.32904,0.32904,-0.94678,31.0337,26.84761)\"/>\n<path d=\"M 93.542063 2.956469 L 104.452219 6.745531 \" style=\"fill:none;stroke-width:0.3985;stroke-linecap:butt;stroke-linejoin:miter;stroke:rgb(0%,0%,0%);stroke-opacity:1;stroke-miterlimit:10;\" transform=\"matrix(1,0,0,-1,11.622,20.101)\"/>\n<path d=\"M -1.195207 1.594224 C -1.098068 0.995227 0.00098511 0.0975381 0.296761 -0.0011288 C -0.00152445 -0.0996294 -1.097552 -0.997727 -1.197582 -1.594214 \" style=\"fill:none;stroke-width:0.31879;stroke-linecap:round;stroke-linejoin:round;stroke:rgb(0%,0%,0%);stroke-opacity:1;stroke-miterlimit:10;\" transform=\"matrix(0.94678,-0.32904,-0.32904,-0.94678,116.07413,13.35439)\"/>\n<path d=\"M 93.542063 -2.953687 L 106.944406 -7.613844 \" style=\"fill:none;stroke-width:0.3985;stroke-linecap:butt;stroke-linejoin:miter;stroke:rgb(0%,0%,0%);stroke-opacity:1;stroke-miterlimit:10;\" transform=\"matrix(1,0,0,-1,11.622,20.101)\"/>\n<path d=\"M -1.196565 1.595632 C -1.09524 0.995472 -0.000476763 0.101096 0.299088 -0.00107642 C -0.000363349 -0.10103 -1.0957 -0.997462 -1.194099 -1.592775 \" style=\"fill:none;stroke-width:0.31879;stroke-linecap:round;stroke-linejoin:round;stroke:rgb(0%,0%,0%);stroke-opacity:1;stroke-miterlimit:10;\" transform=\"matrix(0.94678,0.32907,0.32907,-0.94678,118.56484,27.71306)\"/>\n<path d=\"M 175.952219 2.081469 L 189.495187 6.88225 \" style=\"fill:none;stroke-width:0.3985;stroke-linecap:butt;stroke-linejoin:miter;stroke:rgb(0%,0%,0%);stroke-opacity:1;stroke-miterlimit:10;\" transform=\"matrix(1,0,0,-1,11.622,20.101)\"/>\n<path d=\"M -1.196441 1.594103 C -1.094314 0.995043 -0.000992929 0.0983433 0.299403 0.000110508 C -0.00106327 -0.100284 -1.09632 -0.994907 -1.196497 -1.592592 \" style=\"fill:none;stroke-width:0.31879;stroke-linecap:round;stroke-linejoin:round;stroke:rgb(0%,0%,0%);stroke-opacity:1;stroke-miterlimit:10;\" transform=\"matrix(0.94386,-0.33466,-0.33466,-0.94386,201.11588,13.21749)\"/>\n<path d=\"M 175.952219 -2.082594 L 191.983469 -7.766187 \" style=\"fill:none;stroke-width:0.3985;stroke-linecap:butt;stroke-linejoin:miter;stroke:rgb(0%,0%,0%);stroke-opacity:1;stroke-miterlimit:10;\" transform=\"matrix(1,0,0,-1,11.622,20.101)\"/>\n<path d=\"M -1.19608 1.595832 C -1.095904 0.998147 0.000656821 0.0998478 0.301123 -0.000546857 C 0.000727166 -0.0987796 -1.09627 -0.996783 -1.194721 -1.594539 \" style=\"fill:none;stroke-width:0.31879;stroke-linecap:round;stroke-linejoin:round;stroke:rgb(0%,0%,0%);stroke-opacity:1;stroke-miterlimit:10;\" transform=\"matrix(0.94386,0.33466,0.33466,-0.94386,203.60659,27.86746)\"/>\n</g>\n</svg>"
     },
     "metadata": {
      "isolated": "true",
      "tags": []
     },
     "output_type": "display_data"
    }
   ],
   "source": [
    "#@title Arrow-Debreu security method step #4 { vertical-output: true, display-mode: \"form\" }\n",
    "\n",
    "\n",
    "%%tikz -l matrix -S test_output.tikz -f svg -s 1000,100\n",
    "\n",
    "\\node[matrix] (1) {\\node (11) {10};\\\\};\n",
    "\n",
    "\\node[matrix, right of=1] (2) {\\node (21) {12};\\\\ \\node (22) {};\\\\ \\node (23) {12};\\\\};\n",
    "\n",
    "\\node[right of=2] (3) {};\n",
    "\n",
    "\\node[matrix, right of=3] (4) {\\node (41) {10};\\\\};\n",
    "\n",
    "\\node[matrix, right of=4] (5) {\\node (51) {20};\\\\ \\node (52) {};\\\\ \\node (53) {0};\\\\};\n",
    "\n",
    "\\node[right of=5] (6) {};\n",
    "\n",
    "\\node[matrix, right of=6] (7) {\\node (71) {?};\\\\};\n",
    "\n",
    "\\node[matrix, right of=7] (8) {\\node (81)[draw] {15};\\\\ \\node (82) {};\\\\ \\node[draw] (83) {6};\\\\};\n",
    "\n",
    "\\draw(11) edge[->] (21);\n",
    "\\draw(11) edge[->] (23);\n",
    "\n",
    "\\draw(41) edge[->] (51);\n",
    "\\draw(41) edge[->] (53);\n",
    "\n",
    "\\draw(71) edge[->] (81);\n",
    "\\draw(71) edge[->] (83);\n"
   ]
  },
  {
   "cell_type": "markdown",
   "metadata": {
    "id": "eHt5wvyjIsPb"
   },
   "source": [
    "$$\n",
    "15 \\cdot u_1 + 6 \\cdot u_2 = 15 \\cdot \\frac{1}{2} + 6 \\cdot \\frac{1}{3} = 9.5\n",
    "$$"
   ]
  },
  {
   "cell_type": "markdown",
   "metadata": {
    "id": "ulvsV8fuJDfG"
   },
   "source": [
    "Herer we confirm the Arrow-Debreu security method produces the exactly same solution as before."
   ]
  },
  {
   "cell_type": "markdown",
   "metadata": {
    "id": "JPiPvZ7gJeVw"
   },
   "source": [
    "# Risk neutral valuation method"
   ]
  },
  {
   "cell_type": "code",
   "execution_count": 25,
   "metadata": {
    "colab": {
     "base_uri": "https://localhost:8080/",
     "height": 0
    },
    "id": "vlxSNFHVGgp_",
    "outputId": "2fdf7595-ccca-4e11-8972-544c6f10125a"
   },
   "outputs": [
    {
     "data": {
      "image/svg+xml": "<svg height=\"100px\" version=\"1.1\" viewBox=\"0 0 221.67 39.405\" width=\"1000px\" xmlns=\"http://www.w3.org/2000/svg\" xmlns:xlink=\"http://www.w3.org/1999/xlink\">\n<defs>\n<g>\n<symbol id=\"glyph0-0\" overflow=\"visible\">\n<path d=\"\" style=\"stroke:none;\"/>\n</symbol>\n<symbol id=\"glyph0-1\" overflow=\"visible\">\n<path d=\"M 2.9375 -6.375 C 2.9375 -6.625 2.9375 -6.640625 2.703125 -6.640625 C 2.078125 -6 1.203125 -6 0.890625 -6 L 0.890625 -5.6875 C 1.09375 -5.6875 1.671875 -5.6875 2.1875 -5.953125 L 2.1875 -0.78125 C 2.1875 -0.421875 2.15625 -0.3125 1.265625 -0.3125 L 0.953125 -0.3125 L 0.953125 0 C 1.296875 -0.03125 2.15625 -0.03125 2.5625 -0.03125 C 2.953125 -0.03125 3.828125 -0.03125 4.171875 0 L 4.171875 -0.3125 L 3.859375 -0.3125 C 2.953125 -0.3125 2.9375 -0.421875 2.9375 -0.78125 Z M 2.9375 -6.375 \" style=\"stroke:none;\"/>\n</symbol>\n<symbol id=\"glyph0-2\" overflow=\"visible\">\n<path d=\"M 4.578125 -3.1875 C 4.578125 -3.984375 4.53125 -4.78125 4.1875 -5.515625 C 3.734375 -6.484375 2.90625 -6.640625 2.5 -6.640625 C 1.890625 -6.640625 1.171875 -6.375 0.75 -5.453125 C 0.4375 -4.765625 0.390625 -3.984375 0.390625 -3.1875 C 0.390625 -2.4375 0.421875 -1.546875 0.84375 -0.78125 C 1.265625 0.015625 2 0.21875 2.484375 0.21875 C 3.015625 0.21875 3.78125 0.015625 4.21875 -0.9375 C 4.53125 -1.625 4.578125 -2.40625 4.578125 -3.1875 Z M 2.484375 0 C 2.09375 0 1.5 -0.25 1.328125 -1.203125 C 1.21875 -1.796875 1.21875 -2.71875 1.21875 -3.3125 C 1.21875 -3.953125 1.21875 -4.609375 1.296875 -5.140625 C 1.484375 -6.328125 2.234375 -6.421875 2.484375 -6.421875 C 2.8125 -6.421875 3.46875 -6.234375 3.65625 -5.25 C 3.765625 -4.6875 3.765625 -3.9375 3.765625 -3.3125 C 3.765625 -2.5625 3.765625 -1.890625 3.65625 -1.25 C 3.5 -0.296875 2.9375 0 2.484375 0 Z M 2.484375 0 \" style=\"stroke:none;\"/>\n</symbol>\n<symbol id=\"glyph0-3\" overflow=\"visible\">\n<path d=\"M 1.265625 -0.765625 L 2.328125 -1.796875 C 3.875 -3.171875 4.46875 -3.703125 4.46875 -4.703125 C 4.46875 -5.84375 3.578125 -6.640625 2.359375 -6.640625 C 1.234375 -6.640625 0.5 -5.71875 0.5 -4.828125 C 0.5 -4.28125 1 -4.28125 1.03125 -4.28125 C 1.203125 -4.28125 1.546875 -4.390625 1.546875 -4.8125 C 1.546875 -5.0625 1.359375 -5.328125 1.015625 -5.328125 C 0.9375 -5.328125 0.921875 -5.328125 0.890625 -5.3125 C 1.109375 -5.96875 1.65625 -6.328125 2.234375 -6.328125 C 3.140625 -6.328125 3.5625 -5.515625 3.5625 -4.703125 C 3.5625 -3.90625 3.078125 -3.125 2.515625 -2.5 L 0.609375 -0.375 C 0.5 -0.265625 0.5 -0.234375 0.5 0 L 4.203125 0 L 4.46875 -1.734375 L 4.234375 -1.734375 C 4.171875 -1.4375 4.109375 -1 4 -0.84375 C 3.9375 -0.765625 3.28125 -0.765625 3.0625 -0.765625 Z M 1.265625 -0.765625 \" style=\"stroke:none;\"/>\n</symbol>\n<symbol id=\"glyph0-4\" overflow=\"visible\">\n<path d=\"M 2.34375 -2.484375 C 2.34375 -3.734375 3.3125 -4.453125 3.65625 -4.703125 C 3.921875 -4.90625 4.140625 -5.265625 4.140625 -5.6875 C 4.140625 -6.265625 3.734375 -7.03125 2.25 -7.03125 C 1.171875 -7.03125 0.5625 -6.34375 0.5625 -5.703125 C 0.5625 -5.359375 0.78125 -5.21875 1.015625 -5.21875 C 1.296875 -5.21875 1.46875 -5.421875 1.46875 -5.6875 C 1.46875 -6.125 1.0625 -6.125 0.921875 -6.125 C 1.21875 -6.65625 1.796875 -6.8125 2.21875 -6.8125 C 3.3125 -6.8125 3.3125 -6.125 3.3125 -5.734375 C 3.3125 -5.15625 3.15625 -4.96875 2.96875 -4.796875 C 2.3125 -4.078125 2.09375 -3.15625 2.09375 -2.546875 L 2.09375 -2.109375 C 2.09375 -1.921875 2.09375 -1.859375 2.21875 -1.859375 C 2.34375 -1.859375 2.34375 -1.953125 2.34375 -2.140625 Z M 2.734375 -0.53125 C 2.734375 -0.8125 2.5 -1.0625 2.21875 -1.0625 C 1.921875 -1.0625 1.6875 -0.8125 1.6875 -0.53125 C 1.6875 -0.234375 1.921875 0 2.21875 0 C 2.5 0 2.734375 -0.234375 2.734375 -0.53125 Z M 2.734375 -0.53125 \" style=\"stroke:none;\"/>\n</symbol>\n<symbol id=\"glyph0-5\" overflow=\"visible\">\n<path d=\"M 4.46875 -2 C 4.46875 -3.1875 3.65625 -4.1875 2.578125 -4.1875 C 2.109375 -4.1875 1.671875 -4.03125 1.3125 -3.671875 L 1.3125 -5.625 C 1.515625 -5.5625 1.84375 -5.5 2.15625 -5.5 C 3.390625 -5.5 4.09375 -6.40625 4.09375 -6.53125 C 4.09375 -6.59375 4.0625 -6.640625 3.984375 -6.640625 C 3.984375 -6.640625 3.953125 -6.640625 3.90625 -6.609375 C 3.703125 -6.515625 3.21875 -6.3125 2.546875 -6.3125 C 2.15625 -6.3125 1.6875 -6.390625 1.21875 -6.59375 C 1.140625 -6.625 1.125 -6.625 1.109375 -6.625 C 1 -6.625 1 -6.546875 1 -6.390625 L 1 -3.4375 C 1 -3.265625 1 -3.1875 1.140625 -3.1875 C 1.21875 -3.1875 1.234375 -3.203125 1.28125 -3.265625 C 1.390625 -3.421875 1.75 -3.96875 2.5625 -3.96875 C 3.078125 -3.96875 3.328125 -3.515625 3.40625 -3.328125 C 3.5625 -2.953125 3.59375 -2.578125 3.59375 -2.078125 C 3.59375 -1.71875 3.59375 -1.125 3.34375 -0.703125 C 3.109375 -0.3125 2.734375 -0.0625 2.28125 -0.0625 C 1.5625 -0.0625 0.984375 -0.59375 0.8125 -1.171875 C 0.84375 -1.171875 0.875 -1.15625 0.984375 -1.15625 C 1.3125 -1.15625 1.484375 -1.40625 1.484375 -1.640625 C 1.484375 -1.890625 1.3125 -2.140625 0.984375 -2.140625 C 0.84375 -2.140625 0.5 -2.0625 0.5 -1.609375 C 0.5 -0.75 1.1875 0.21875 2.296875 0.21875 C 3.453125 0.21875 4.46875 -0.734375 4.46875 -2 Z M 4.46875 -2 \" style=\"stroke:none;\"/>\n</symbol>\n<symbol id=\"glyph0-6\" overflow=\"visible\">\n<path d=\"M 1.3125 -3.265625 L 1.3125 -3.515625 C 1.3125 -6.03125 2.546875 -6.390625 3.0625 -6.390625 C 3.296875 -6.390625 3.71875 -6.328125 3.9375 -5.984375 C 3.78125 -5.984375 3.390625 -5.984375 3.390625 -5.546875 C 3.390625 -5.234375 3.625 -5.078125 3.84375 -5.078125 C 4 -5.078125 4.3125 -5.171875 4.3125 -5.5625 C 4.3125 -6.15625 3.875 -6.640625 3.046875 -6.640625 C 1.765625 -6.640625 0.421875 -5.359375 0.421875 -3.15625 C 0.421875 -0.484375 1.578125 0.21875 2.5 0.21875 C 3.609375 0.21875 4.5625 -0.71875 4.5625 -2.03125 C 4.5625 -3.296875 3.671875 -4.25 2.5625 -4.25 C 1.890625 -4.25 1.515625 -3.75 1.3125 -3.265625 Z M 2.5 -0.0625 C 1.875 -0.0625 1.578125 -0.65625 1.515625 -0.8125 C 1.328125 -1.28125 1.328125 -2.078125 1.328125 -2.25 C 1.328125 -3.03125 1.65625 -4.03125 2.546875 -4.03125 C 2.71875 -4.03125 3.171875 -4.03125 3.484375 -3.40625 C 3.65625 -3.046875 3.65625 -2.53125 3.65625 -2.046875 C 3.65625 -1.5625 3.65625 -1.0625 3.484375 -0.703125 C 3.1875 -0.109375 2.734375 -0.0625 2.5 -0.0625 Z M 2.5 -0.0625 \" style=\"stroke:none;\"/>\n</symbol>\n</g>\n</defs>\n<g id=\"surface1\">\n<g style=\"fill:rgb(0%,0%,0%);fill-opacity:1;\">\n  <use x=\"6.641\" xlink:href=\"#glyph0-1\" y=\"22.913\"/>\n  <use x=\"11.6223\" xlink:href=\"#glyph0-2\" y=\"22.913\"/>\n</g>\n<g style=\"fill:rgb(0%,0%,0%);fill-opacity:1;\">\n  <use x=\"34.987\" xlink:href=\"#glyph0-1\" y=\"13.062\"/>\n  <use x=\"39.9683\" xlink:href=\"#glyph0-3\" y=\"13.062\"/>\n</g>\n<g style=\"fill:rgb(0%,0%,0%);fill-opacity:1;\">\n  <use x=\"34.987\" xlink:href=\"#glyph0-1\" y=\"32.764\"/>\n  <use x=\"39.9683\" xlink:href=\"#glyph0-3\" y=\"32.764\"/>\n</g>\n<g style=\"fill:rgb(0%,0%,0%);fill-opacity:1;\">\n  <use x=\"91.68\" xlink:href=\"#glyph0-1\" y=\"22.913\"/>\n  <use x=\"96.6613\" xlink:href=\"#glyph0-2\" y=\"22.913\"/>\n</g>\n<g style=\"fill:rgb(0%,0%,0%);fill-opacity:1;\">\n  <use x=\"120.027\" xlink:href=\"#glyph0-3\" y=\"13.062\"/>\n  <use x=\"125.0083\" xlink:href=\"#glyph0-2\" y=\"13.062\"/>\n</g>\n<g style=\"fill:rgb(0%,0%,0%);fill-opacity:1;\">\n  <use x=\"122.517\" xlink:href=\"#glyph0-2\" y=\"32.764\"/>\n</g>\n<g style=\"fill:rgb(0%,0%,0%);fill-opacity:1;\">\n  <use x=\"179.349\" xlink:href=\"#glyph0-4\" y=\"23.162\"/>\n</g>\n<g style=\"fill:rgb(0%,0%,0%);fill-opacity:1;\">\n  <use x=\"205.066\" xlink:href=\"#glyph0-1\" y=\"13.062\"/>\n  <use x=\"210.0473\" xlink:href=\"#glyph0-5\" y=\"13.062\"/>\n</g>\n<g style=\"fill:rgb(0%,0%,0%);fill-opacity:1;\">\n  <use x=\"207.557\" xlink:href=\"#glyph0-6\" y=\"32.764\"/>\n</g>\n<path d=\"M 8.503 2.953 L 19.413156 6.745969 \" style=\"fill:none;stroke-width:0.3985;stroke-linecap:butt;stroke-linejoin:miter;stroke:rgb(0%,0%,0%);stroke-opacity:1;stroke-miterlimit:10;\" transform=\"matrix(1,0,0,-1,11.622,19.703)\"/>\n<path d=\"M -1.193775 1.594189 C -1.096636 0.995191 -0.00126409 0.0987819 0.298193 -0.00116438 C -0.0000924428 -0.099665 -1.09612 -0.997762 -1.19615 -1.59425 \" style=\"fill:none;stroke-width:0.31879;stroke-linecap:round;stroke-linejoin:round;stroke:rgb(0%,0%,0%);stroke-opacity:1;stroke-miterlimit:10;\" transform=\"matrix(0.94678,-0.32904,-0.32904,-0.94678,31.0337,12.95639)\"/>\n<path d=\"M 8.503 -2.95325 L 19.413156 -6.746219 \" style=\"fill:none;stroke-width:0.3985;stroke-linecap:butt;stroke-linejoin:miter;stroke:rgb(0%,0%,0%);stroke-opacity:1;stroke-miterlimit:10;\" transform=\"matrix(1,0,0,-1,11.622,19.703)\"/>\n<path d=\"M -1.196068 1.594014 C -1.096039 0.997527 -0.0000105643 0.0994294 0.298275 0.00092878 C -0.00118221 -0.0990175 -1.096555 -0.995427 -1.193693 -1.594424 \" style=\"fill:none;stroke-width:0.31879;stroke-linecap:round;stroke-linejoin:round;stroke:rgb(0%,0%,0%);stroke-opacity:1;stroke-miterlimit:10;\" transform=\"matrix(0.94678,0.32904,0.32904,-0.94678,31.0337,26.44961)\"/>\n<path d=\"M 93.542063 2.953 L 104.452219 6.745969 \" style=\"fill:none;stroke-width:0.3985;stroke-linecap:butt;stroke-linejoin:miter;stroke:rgb(0%,0%,0%);stroke-opacity:1;stroke-miterlimit:10;\" transform=\"matrix(1,0,0,-1,11.622,19.703)\"/>\n<path d=\"M -1.195063 1.594636 C -1.097925 0.995639 0.0011284 0.0979504 0.296904 -0.000716502 C -0.00138116 -0.0992171 -1.097409 -0.997314 -1.197439 -1.593802 \" style=\"fill:none;stroke-width:0.31879;stroke-linecap:round;stroke-linejoin:round;stroke:rgb(0%,0%,0%);stroke-opacity:1;stroke-miterlimit:10;\" transform=\"matrix(0.94678,-0.32904,-0.32904,-0.94678,116.07413,12.95639)\"/>\n<path d=\"M 93.542063 -2.95325 L 106.944406 -7.613406 \" style=\"fill:none;stroke-width:0.3985;stroke-linecap:butt;stroke-linejoin:miter;stroke:rgb(0%,0%,0%);stroke-opacity:1;stroke-miterlimit:10;\" transform=\"matrix(1,0,0,-1,11.622,19.703)\"/>\n<path d=\"M -1.195428 1.592363 C -1.095383 0.995884 0.000659382 0.0978271 0.298945 -0.000664136 C -0.000506646 -0.100618 -1.095843 -0.99705 -1.194243 -1.592362 \" style=\"fill:none;stroke-width:0.31879;stroke-linecap:round;stroke-linejoin:round;stroke:rgb(0%,0%,0%);stroke-opacity:1;stroke-miterlimit:10;\" transform=\"matrix(0.94678,0.32907,0.32907,-0.94678,118.56484,27.31506)\"/>\n<path d=\"M 175.952219 2.038938 L 189.491281 6.745969 \" style=\"fill:none;stroke-width:0.3985;stroke-linecap:butt;stroke-linejoin:miter;stroke:rgb(0%,0%,0%);stroke-opacity:1;stroke-miterlimit:10;\" transform=\"matrix(1,0,0,-1,11.622,19.703)\"/>\n<path d=\"M -1.196361 1.595088 C -1.095542 0.994811 -0.000169744 0.0984015 0.299287 -0.0015447 C 0.00100191 -0.100045 -1.095026 -0.998143 -1.195055 -1.59463 \" style=\"fill:none;stroke-width:0.31879;stroke-linecap:round;stroke-linejoin:round;stroke:rgb(0%,0%,0%);stroke-opacity:1;stroke-miterlimit:10;\" transform=\"matrix(0.94678,-0.32904,-0.32904,-0.94678,201.11457,12.95639)\"/>\n<path d=\"M 175.952219 -2.039187 L 191.983469 -7.613406 \" style=\"fill:none;stroke-width:0.3985;stroke-linecap:butt;stroke-linejoin:miter;stroke:rgb(0%,0%,0%);stroke-opacity:1;stroke-miterlimit:10;\" transform=\"matrix(1,0,0,-1,11.622,19.703)\"/>\n<path d=\"M -1.196689 1.591997 C -1.096665 0.995507 -0.000641621 0.0973961 0.297644 -0.00110771 C 0.00186609 -0.0997721 -1.0972 -0.997454 -1.195623 -1.592771 \" style=\"fill:none;stroke-width:0.31879;stroke-linecap:round;stroke-linejoin:round;stroke:rgb(0%,0%,0%);stroke-opacity:1;stroke-miterlimit:10;\" transform=\"matrix(0.94678,0.32903,0.32903,-0.94678,203.60528,27.31508)\"/>\n</g>\n</svg>"
     },
     "metadata": {
      "isolated": "true",
      "tags": []
     },
     "output_type": "display_data"
    }
   ],
   "source": [
    "#@title Games { vertical-output: true, display-mode: \"form\" }\n",
    "\n",
    "\n",
    "%%tikz -l matrix -S test_output.tikz -f svg -s 1000,100\n",
    "\n",
    "\\node[matrix] (1) {\\node (11) {10};\\\\};\n",
    "\n",
    "\\node[matrix, right of=1] (2) {\\node (21) {12};\\\\ \\node (22) {};\\\\ \\node (23) {12};\\\\};\n",
    "\n",
    "\\node[right of=2] (3) {};\n",
    "\n",
    "\\node[matrix, right of=3] (4) {\\node (41) {10};\\\\};\n",
    "\n",
    "\\node[matrix, right of=4] (5) {\\node (51) {20};\\\\ \\node (52) {};\\\\ \\node (53) {0};\\\\};\n",
    "\n",
    "\\node[right of=5] (6) {};\n",
    "\n",
    "\\node[matrix, right of=6] (7) {\\node (71) {?};\\\\};\n",
    "\n",
    "\\node[matrix, right of=7] (8) {\\node (81) {15};\\\\ \\node (82) {};\\\\ \\node (83) {6};\\\\};\n",
    "\n",
    "\\draw(11) edge[->] (21);\n",
    "\\draw(11) edge[->] (23);\n",
    "\n",
    "\\draw(41) edge[->] (51);\n",
    "\\draw(41) edge[->] (53);\n",
    "\n",
    "\\draw(71) edge[->] (81);\n",
    "\\draw(71) edge[->] (83);\n"
   ]
  },
  {
   "cell_type": "markdown",
   "metadata": {
    "id": "CtT9CpIaJoBl"
   },
   "source": [
    "$$\n",
    "15 \\times \\frac{\\frac{1}{2}}{\\frac{1}{2} + \\frac{1}{3}} \\times \\big[\\frac{1}{2} + \\frac{1}{3}\\big]\n",
    "+\n",
    "6 \\times \\frac{\\frac{1}{3}}{\\frac{1}{2} + \\frac{1}{3}} \\times \\big[\\frac{1}{2} + \\frac{1}{3}\\big]\n",
    "$$"
   ]
  },
  {
   "cell_type": "markdown",
   "metadata": {
    "id": "5ThKOaxHKk1H"
   },
   "source": [
    "$$=15 \\times \\frac{1}{2} + 6 \\times \\frac{1}{3} \\\\\n",
    "= 7.5 + 2 = 9.5$$"
   ]
  },
  {
   "cell_type": "code",
   "execution_count": 26,
   "metadata": {
    "colab": {
     "base_uri": "https://localhost:8080/",
     "height": 0
    },
    "id": "RGsWqem8GftW",
    "outputId": "06751c9c-b58b-4312-b871-e1e7ab895fe5"
   },
   "outputs": [
    {
     "data": {
      "image/svg+xml": "<svg height=\"100px\" version=\"1.1\" viewBox=\"0 0 221.67 39.405\" width=\"1000px\" xmlns=\"http://www.w3.org/2000/svg\" xmlns:xlink=\"http://www.w3.org/1999/xlink\">\n<defs>\n<g>\n<symbol id=\"glyph0-0\" overflow=\"visible\">\n<path d=\"\" style=\"stroke:none;\"/>\n</symbol>\n<symbol id=\"glyph0-1\" overflow=\"visible\">\n<path d=\"M 2.9375 -6.375 C 2.9375 -6.625 2.9375 -6.640625 2.703125 -6.640625 C 2.078125 -6 1.203125 -6 0.890625 -6 L 0.890625 -5.6875 C 1.09375 -5.6875 1.671875 -5.6875 2.1875 -5.953125 L 2.1875 -0.78125 C 2.1875 -0.421875 2.15625 -0.3125 1.265625 -0.3125 L 0.953125 -0.3125 L 0.953125 0 C 1.296875 -0.03125 2.15625 -0.03125 2.5625 -0.03125 C 2.953125 -0.03125 3.828125 -0.03125 4.171875 0 L 4.171875 -0.3125 L 3.859375 -0.3125 C 2.953125 -0.3125 2.9375 -0.421875 2.9375 -0.78125 Z M 2.9375 -6.375 \" style=\"stroke:none;\"/>\n</symbol>\n<symbol id=\"glyph0-2\" overflow=\"visible\">\n<path d=\"M 4.578125 -3.1875 C 4.578125 -3.984375 4.53125 -4.78125 4.1875 -5.515625 C 3.734375 -6.484375 2.90625 -6.640625 2.5 -6.640625 C 1.890625 -6.640625 1.171875 -6.375 0.75 -5.453125 C 0.4375 -4.765625 0.390625 -3.984375 0.390625 -3.1875 C 0.390625 -2.4375 0.421875 -1.546875 0.84375 -0.78125 C 1.265625 0.015625 2 0.21875 2.484375 0.21875 C 3.015625 0.21875 3.78125 0.015625 4.21875 -0.9375 C 4.53125 -1.625 4.578125 -2.40625 4.578125 -3.1875 Z M 2.484375 0 C 2.09375 0 1.5 -0.25 1.328125 -1.203125 C 1.21875 -1.796875 1.21875 -2.71875 1.21875 -3.3125 C 1.21875 -3.953125 1.21875 -4.609375 1.296875 -5.140625 C 1.484375 -6.328125 2.234375 -6.421875 2.484375 -6.421875 C 2.8125 -6.421875 3.46875 -6.234375 3.65625 -5.25 C 3.765625 -4.6875 3.765625 -3.9375 3.765625 -3.3125 C 3.765625 -2.5625 3.765625 -1.890625 3.65625 -1.25 C 3.5 -0.296875 2.9375 0 2.484375 0 Z M 2.484375 0 \" style=\"stroke:none;\"/>\n</symbol>\n<symbol id=\"glyph0-3\" overflow=\"visible\">\n<path d=\"M 1.265625 -0.765625 L 2.328125 -1.796875 C 3.875 -3.171875 4.46875 -3.703125 4.46875 -4.703125 C 4.46875 -5.84375 3.578125 -6.640625 2.359375 -6.640625 C 1.234375 -6.640625 0.5 -5.71875 0.5 -4.828125 C 0.5 -4.28125 1 -4.28125 1.03125 -4.28125 C 1.203125 -4.28125 1.546875 -4.390625 1.546875 -4.8125 C 1.546875 -5.0625 1.359375 -5.328125 1.015625 -5.328125 C 0.9375 -5.328125 0.921875 -5.328125 0.890625 -5.3125 C 1.109375 -5.96875 1.65625 -6.328125 2.234375 -6.328125 C 3.140625 -6.328125 3.5625 -5.515625 3.5625 -4.703125 C 3.5625 -3.90625 3.078125 -3.125 2.515625 -2.5 L 0.609375 -0.375 C 0.5 -0.265625 0.5 -0.234375 0.5 0 L 4.203125 0 L 4.46875 -1.734375 L 4.234375 -1.734375 C 4.171875 -1.4375 4.109375 -1 4 -0.84375 C 3.9375 -0.765625 3.28125 -0.765625 3.0625 -0.765625 Z M 1.265625 -0.765625 \" style=\"stroke:none;\"/>\n</symbol>\n<symbol id=\"glyph0-4\" overflow=\"visible\">\n<path d=\"M 2.34375 -2.484375 C 2.34375 -3.734375 3.3125 -4.453125 3.65625 -4.703125 C 3.921875 -4.90625 4.140625 -5.265625 4.140625 -5.6875 C 4.140625 -6.265625 3.734375 -7.03125 2.25 -7.03125 C 1.171875 -7.03125 0.5625 -6.34375 0.5625 -5.703125 C 0.5625 -5.359375 0.78125 -5.21875 1.015625 -5.21875 C 1.296875 -5.21875 1.46875 -5.421875 1.46875 -5.6875 C 1.46875 -6.125 1.0625 -6.125 0.921875 -6.125 C 1.21875 -6.65625 1.796875 -6.8125 2.21875 -6.8125 C 3.3125 -6.8125 3.3125 -6.125 3.3125 -5.734375 C 3.3125 -5.15625 3.15625 -4.96875 2.96875 -4.796875 C 2.3125 -4.078125 2.09375 -3.15625 2.09375 -2.546875 L 2.09375 -2.109375 C 2.09375 -1.921875 2.09375 -1.859375 2.21875 -1.859375 C 2.34375 -1.859375 2.34375 -1.953125 2.34375 -2.140625 Z M 2.734375 -0.53125 C 2.734375 -0.8125 2.5 -1.0625 2.21875 -1.0625 C 1.921875 -1.0625 1.6875 -0.8125 1.6875 -0.53125 C 1.6875 -0.234375 1.921875 0 2.21875 0 C 2.5 0 2.734375 -0.234375 2.734375 -0.53125 Z M 2.734375 -0.53125 \" style=\"stroke:none;\"/>\n</symbol>\n<symbol id=\"glyph0-5\" overflow=\"visible\">\n<path d=\"M 4.46875 -2 C 4.46875 -3.1875 3.65625 -4.1875 2.578125 -4.1875 C 2.109375 -4.1875 1.671875 -4.03125 1.3125 -3.671875 L 1.3125 -5.625 C 1.515625 -5.5625 1.84375 -5.5 2.15625 -5.5 C 3.390625 -5.5 4.09375 -6.40625 4.09375 -6.53125 C 4.09375 -6.59375 4.0625 -6.640625 3.984375 -6.640625 C 3.984375 -6.640625 3.953125 -6.640625 3.90625 -6.609375 C 3.703125 -6.515625 3.21875 -6.3125 2.546875 -6.3125 C 2.15625 -6.3125 1.6875 -6.390625 1.21875 -6.59375 C 1.140625 -6.625 1.125 -6.625 1.109375 -6.625 C 1 -6.625 1 -6.546875 1 -6.390625 L 1 -3.4375 C 1 -3.265625 1 -3.1875 1.140625 -3.1875 C 1.21875 -3.1875 1.234375 -3.203125 1.28125 -3.265625 C 1.390625 -3.421875 1.75 -3.96875 2.5625 -3.96875 C 3.078125 -3.96875 3.328125 -3.515625 3.40625 -3.328125 C 3.5625 -2.953125 3.59375 -2.578125 3.59375 -2.078125 C 3.59375 -1.71875 3.59375 -1.125 3.34375 -0.703125 C 3.109375 -0.3125 2.734375 -0.0625 2.28125 -0.0625 C 1.5625 -0.0625 0.984375 -0.59375 0.8125 -1.171875 C 0.84375 -1.171875 0.875 -1.15625 0.984375 -1.15625 C 1.3125 -1.15625 1.484375 -1.40625 1.484375 -1.640625 C 1.484375 -1.890625 1.3125 -2.140625 0.984375 -2.140625 C 0.84375 -2.140625 0.5 -2.0625 0.5 -1.609375 C 0.5 -0.75 1.1875 0.21875 2.296875 0.21875 C 3.453125 0.21875 4.46875 -0.734375 4.46875 -2 Z M 4.46875 -2 \" style=\"stroke:none;\"/>\n</symbol>\n<symbol id=\"glyph0-6\" overflow=\"visible\">\n<path d=\"M 1.3125 -3.265625 L 1.3125 -3.515625 C 1.3125 -6.03125 2.546875 -6.390625 3.0625 -6.390625 C 3.296875 -6.390625 3.71875 -6.328125 3.9375 -5.984375 C 3.78125 -5.984375 3.390625 -5.984375 3.390625 -5.546875 C 3.390625 -5.234375 3.625 -5.078125 3.84375 -5.078125 C 4 -5.078125 4.3125 -5.171875 4.3125 -5.5625 C 4.3125 -6.15625 3.875 -6.640625 3.046875 -6.640625 C 1.765625 -6.640625 0.421875 -5.359375 0.421875 -3.15625 C 0.421875 -0.484375 1.578125 0.21875 2.5 0.21875 C 3.609375 0.21875 4.5625 -0.71875 4.5625 -2.03125 C 4.5625 -3.296875 3.671875 -4.25 2.5625 -4.25 C 1.890625 -4.25 1.515625 -3.75 1.3125 -3.265625 Z M 2.5 -0.0625 C 1.875 -0.0625 1.578125 -0.65625 1.515625 -0.8125 C 1.328125 -1.28125 1.328125 -2.078125 1.328125 -2.25 C 1.328125 -3.03125 1.65625 -4.03125 2.546875 -4.03125 C 2.71875 -4.03125 3.171875 -4.03125 3.484375 -3.40625 C 3.65625 -3.046875 3.65625 -2.53125 3.65625 -2.046875 C 3.65625 -1.5625 3.65625 -1.0625 3.484375 -0.703125 C 3.1875 -0.109375 2.734375 -0.0625 2.5 -0.0625 Z M 2.5 -0.0625 \" style=\"stroke:none;\"/>\n</symbol>\n</g>\n</defs>\n<g id=\"surface1\">\n<g style=\"fill:rgb(0%,0%,0%);fill-opacity:1;\">\n  <use x=\"6.641\" xlink:href=\"#glyph0-1\" y=\"22.913\"/>\n  <use x=\"11.6223\" xlink:href=\"#glyph0-2\" y=\"22.913\"/>\n</g>\n<g style=\"fill:rgb(0%,0%,0%);fill-opacity:1;\">\n  <use x=\"34.987\" xlink:href=\"#glyph0-1\" y=\"13.062\"/>\n  <use x=\"39.9683\" xlink:href=\"#glyph0-3\" y=\"13.062\"/>\n</g>\n<g style=\"fill:rgb(0%,0%,0%);fill-opacity:1;\">\n  <use x=\"34.987\" xlink:href=\"#glyph0-1\" y=\"32.764\"/>\n  <use x=\"39.9683\" xlink:href=\"#glyph0-3\" y=\"32.764\"/>\n</g>\n<g style=\"fill:rgb(0%,0%,0%);fill-opacity:1;\">\n  <use x=\"91.68\" xlink:href=\"#glyph0-1\" y=\"22.913\"/>\n  <use x=\"96.6613\" xlink:href=\"#glyph0-2\" y=\"22.913\"/>\n</g>\n<g style=\"fill:rgb(0%,0%,0%);fill-opacity:1;\">\n  <use x=\"120.027\" xlink:href=\"#glyph0-3\" y=\"13.062\"/>\n  <use x=\"125.0083\" xlink:href=\"#glyph0-2\" y=\"13.062\"/>\n</g>\n<g style=\"fill:rgb(0%,0%,0%);fill-opacity:1;\">\n  <use x=\"122.517\" xlink:href=\"#glyph0-2\" y=\"32.764\"/>\n</g>\n<g style=\"fill:rgb(0%,0%,0%);fill-opacity:1;\">\n  <use x=\"179.349\" xlink:href=\"#glyph0-4\" y=\"23.162\"/>\n</g>\n<g style=\"fill:rgb(0%,0%,0%);fill-opacity:1;\">\n  <use x=\"205.066\" xlink:href=\"#glyph0-1\" y=\"13.062\"/>\n  <use x=\"210.0473\" xlink:href=\"#glyph0-5\" y=\"13.062\"/>\n</g>\n<g style=\"fill:rgb(0%,0%,0%);fill-opacity:1;\">\n  <use x=\"207.557\" xlink:href=\"#glyph0-6\" y=\"32.764\"/>\n</g>\n<path d=\"M 8.503 2.953 L 19.413156 6.745969 \" style=\"fill:none;stroke-width:0.3985;stroke-linecap:butt;stroke-linejoin:miter;stroke:rgb(0%,0%,0%);stroke-opacity:1;stroke-miterlimit:10;\" transform=\"matrix(1,0,0,-1,11.622,19.703)\"/>\n<path d=\"M -1.193775 1.594189 C -1.096636 0.995191 -0.00126409 0.0987819 0.298193 -0.00116438 C -0.0000924428 -0.099665 -1.09612 -0.997762 -1.19615 -1.59425 \" style=\"fill:none;stroke-width:0.31879;stroke-linecap:round;stroke-linejoin:round;stroke:rgb(0%,0%,0%);stroke-opacity:1;stroke-miterlimit:10;\" transform=\"matrix(0.94678,-0.32904,-0.32904,-0.94678,31.0337,12.95639)\"/>\n<path d=\"M 8.503 -2.95325 L 19.413156 -6.746219 \" style=\"fill:none;stroke-width:0.3985;stroke-linecap:butt;stroke-linejoin:miter;stroke:rgb(0%,0%,0%);stroke-opacity:1;stroke-miterlimit:10;\" transform=\"matrix(1,0,0,-1,11.622,19.703)\"/>\n<path d=\"M -1.196068 1.594014 C -1.096039 0.997527 -0.0000105643 0.0994294 0.298275 0.00092878 C -0.00118221 -0.0990175 -1.096555 -0.995427 -1.193693 -1.594424 \" style=\"fill:none;stroke-width:0.31879;stroke-linecap:round;stroke-linejoin:round;stroke:rgb(0%,0%,0%);stroke-opacity:1;stroke-miterlimit:10;\" transform=\"matrix(0.94678,0.32904,0.32904,-0.94678,31.0337,26.44961)\"/>\n<path d=\"M 93.542063 2.953 L 104.452219 6.745969 \" style=\"fill:none;stroke-width:0.3985;stroke-linecap:butt;stroke-linejoin:miter;stroke:rgb(0%,0%,0%);stroke-opacity:1;stroke-miterlimit:10;\" transform=\"matrix(1,0,0,-1,11.622,19.703)\"/>\n<path d=\"M -1.195063 1.594636 C -1.097925 0.995639 0.0011284 0.0979504 0.296904 -0.000716502 C -0.00138116 -0.0992171 -1.097409 -0.997314 -1.197439 -1.593802 \" style=\"fill:none;stroke-width:0.31879;stroke-linecap:round;stroke-linejoin:round;stroke:rgb(0%,0%,0%);stroke-opacity:1;stroke-miterlimit:10;\" transform=\"matrix(0.94678,-0.32904,-0.32904,-0.94678,116.07413,12.95639)\"/>\n<path d=\"M 93.542063 -2.95325 L 106.944406 -7.613406 \" style=\"fill:none;stroke-width:0.3985;stroke-linecap:butt;stroke-linejoin:miter;stroke:rgb(0%,0%,0%);stroke-opacity:1;stroke-miterlimit:10;\" transform=\"matrix(1,0,0,-1,11.622,19.703)\"/>\n<path d=\"M -1.195428 1.592363 C -1.095383 0.995884 0.000659382 0.0978271 0.298945 -0.000664136 C -0.000506646 -0.100618 -1.095843 -0.99705 -1.194243 -1.592362 \" style=\"fill:none;stroke-width:0.31879;stroke-linecap:round;stroke-linejoin:round;stroke:rgb(0%,0%,0%);stroke-opacity:1;stroke-miterlimit:10;\" transform=\"matrix(0.94678,0.32907,0.32907,-0.94678,118.56484,27.31506)\"/>\n<path d=\"M 175.952219 2.038938 L 189.491281 6.745969 \" style=\"fill:none;stroke-width:0.3985;stroke-linecap:butt;stroke-linejoin:miter;stroke:rgb(0%,0%,0%);stroke-opacity:1;stroke-miterlimit:10;\" transform=\"matrix(1,0,0,-1,11.622,19.703)\"/>\n<path d=\"M -1.196361 1.595088 C -1.095542 0.994811 -0.000169744 0.0984015 0.299287 -0.0015447 C 0.00100191 -0.100045 -1.095026 -0.998143 -1.195055 -1.59463 \" style=\"fill:none;stroke-width:0.31879;stroke-linecap:round;stroke-linejoin:round;stroke:rgb(0%,0%,0%);stroke-opacity:1;stroke-miterlimit:10;\" transform=\"matrix(0.94678,-0.32904,-0.32904,-0.94678,201.11457,12.95639)\"/>\n<path d=\"M 175.952219 -2.039187 L 191.983469 -7.613406 \" style=\"fill:none;stroke-width:0.3985;stroke-linecap:butt;stroke-linejoin:miter;stroke:rgb(0%,0%,0%);stroke-opacity:1;stroke-miterlimit:10;\" transform=\"matrix(1,0,0,-1,11.622,19.703)\"/>\n<path d=\"M -1.196689 1.591997 C -1.096665 0.995507 -0.000641621 0.0973961 0.297644 -0.00110771 C 0.00186609 -0.0997721 -1.0972 -0.997454 -1.195623 -1.592771 \" style=\"fill:none;stroke-width:0.31879;stroke-linecap:round;stroke-linejoin:round;stroke:rgb(0%,0%,0%);stroke-opacity:1;stroke-miterlimit:10;\" transform=\"matrix(0.94678,0.32903,0.32903,-0.94678,203.60528,27.31508)\"/>\n</g>\n</svg>"
     },
     "metadata": {
      "isolated": "true",
      "tags": []
     },
     "output_type": "display_data"
    }
   ],
   "source": [
    "#@title Games { vertical-output: true, display-mode: \"form\" }\n",
    "\n",
    "\n",
    "%%tikz -l matrix -S test_output.tikz -f svg -s 1000,100\n",
    "\n",
    "\\node[matrix] (1) {\\node (11) {10};\\\\};\n",
    "\n",
    "\\node[matrix, right of=1] (2) {\\node (21) {12};\\\\ \\node (22) {};\\\\ \\node (23) {12};\\\\};\n",
    "\n",
    "\\node[right of=2] (3) {};\n",
    "\n",
    "\\node[matrix, right of=3] (4) {\\node (41) {10};\\\\};\n",
    "\n",
    "\\node[matrix, right of=4] (5) {\\node (51) {20};\\\\ \\node (52) {};\\\\ \\node (53) {0};\\\\};\n",
    "\n",
    "\\node[right of=5] (6) {};\n",
    "\n",
    "\\node[matrix, right of=6] (7) {\\node (71) {?};\\\\};\n",
    "\n",
    "\\node[matrix, right of=7] (8) {\\node (81) {15};\\\\ \\node (82) {};\\\\ \\node (83) {6};\\\\};\n",
    "\n",
    "\\draw(11) edge[->] (21);\n",
    "\\draw(11) edge[->] (23);\n",
    "\n",
    "\\draw(41) edge[->] (51);\n",
    "\\draw(41) edge[->] (53);\n",
    "\n",
    "\\draw(71) edge[->] (81);\n",
    "\\draw(71) edge[->] (83);\n"
   ]
  },
  {
   "cell_type": "markdown",
   "metadata": {
    "id": "oVgIC5TwMY19"
   },
   "source": [
    "# CRR introduction"
   ]
  },
  {
   "cell_type": "code",
   "execution_count": 26,
   "metadata": {
    "id": "phZL7BgsMdDD"
   },
   "outputs": [],
   "source": []
  },
  {
   "cell_type": "markdown",
   "metadata": {
    "id": "VuI8ZbcOMe9b"
   },
   "source": [
    "# CRR basic idea"
   ]
  },
  {
   "cell_type": "code",
   "execution_count": 26,
   "metadata": {
    "id": "ZcXkAWxcMlAz"
   },
   "outputs": [],
   "source": []
  },
  {
   "cell_type": "markdown",
   "metadata": {
    "id": "LOyfL7S6Mmhe"
   },
   "source": [
    "# One step binomial option pricing model"
   ]
  },
  {
   "cell_type": "code",
   "execution_count": 26,
   "metadata": {
    "id": "_7IWKVAsMt_5"
   },
   "outputs": [],
   "source": []
  },
  {
   "cell_type": "markdown",
   "metadata": {
    "id": "uvp40PmqNGqj"
   },
   "source": [
    "# Implications of the binomial option pricing model"
   ]
  },
  {
   "cell_type": "code",
   "execution_count": 26,
   "metadata": {
    "id": "cTTBFDM_NOgG"
   },
   "outputs": [],
   "source": []
  },
  {
   "cell_type": "markdown",
   "metadata": {
    "id": "W8ZnPGzPMvX6"
   },
   "source": [
    "# Two step binomial option pricing model"
   ]
  },
  {
   "cell_type": "code",
   "execution_count": 26,
   "metadata": {
    "id": "7YgARZkkM0l4"
   },
   "outputs": [],
   "source": []
  },
  {
   "cell_type": "markdown",
   "metadata": {
    "id": "PLeIX7a4M1vD"
   },
   "source": [
    "# General n-step binomial option pricing model"
   ]
  },
  {
   "cell_type": "code",
   "execution_count": 26,
   "metadata": {
    "id": "dZUSOc4NM8tQ"
   },
   "outputs": [],
   "source": []
  },
  {
   "cell_type": "markdown",
   "metadata": {
    "id": "9MU5pteANCWD"
   },
   "source": [
    "# The put-call parity"
   ]
  },
  {
   "cell_type": "code",
   "execution_count": 89,
   "metadata": {
    "colab": {
     "base_uri": "https://localhost:8080/",
     "height": 820
    },
    "id": "gPUuLYy0NFwn",
    "outputId": "09b76d8f-9f6f-412b-8e44-f5b0b34a56a1"
   },
   "outputs": [
    {
     "data": {
      "image/svg+xml": "<svg height=\"800px\" version=\"1.1\" viewBox=\"0 0 699.78 407.032\" width=\"1000px\" xmlns=\"http://www.w3.org/2000/svg\" xmlns:xlink=\"http://www.w3.org/1999/xlink\">\n<defs>\n<g>\n<symbol id=\"glyph0-0\" overflow=\"visible\">\n<path d=\"\" style=\"stroke:none;\"/>\n</symbol>\n<symbol id=\"glyph0-1\" overflow=\"visible\">\n<path d=\"M 2.078125 -1.9375 C 2.296875 -1.890625 3.109375 -1.734375 3.109375 -1.015625 C 3.109375 -0.515625 2.765625 -0.109375 1.984375 -0.109375 C 1.140625 -0.109375 0.78125 -0.671875 0.59375 -1.53125 C 0.5625 -1.65625 0.5625 -1.6875 0.453125 -1.6875 C 0.328125 -1.6875 0.328125 -1.625 0.328125 -1.453125 L 0.328125 -0.125 C 0.328125 0.046875 0.328125 0.109375 0.4375 0.109375 C 0.484375 0.109375 0.5 0.09375 0.6875 -0.09375 C 0.703125 -0.109375 0.703125 -0.125 0.890625 -0.3125 C 1.328125 0.09375 1.78125 0.109375 1.984375 0.109375 C 3.125 0.109375 3.59375 -0.5625 3.59375 -1.28125 C 3.59375 -1.796875 3.296875 -2.109375 3.171875 -2.21875 C 2.84375 -2.546875 2.453125 -2.625 2.03125 -2.703125 C 1.46875 -2.8125 0.8125 -2.9375 0.8125 -3.515625 C 0.8125 -3.875 1.0625 -4.28125 1.921875 -4.28125 C 3.015625 -4.28125 3.078125 -3.375 3.09375 -3.078125 C 3.09375 -2.984375 3.1875 -2.984375 3.203125 -2.984375 C 3.34375 -2.984375 3.34375 -3.03125 3.34375 -3.21875 L 3.34375 -4.234375 C 3.34375 -4.390625 3.34375 -4.46875 3.234375 -4.46875 C 3.1875 -4.46875 3.15625 -4.46875 3.03125 -4.34375 C 3 -4.3125 2.90625 -4.21875 2.859375 -4.1875 C 2.484375 -4.46875 2.078125 -4.46875 1.921875 -4.46875 C 0.703125 -4.46875 0.328125 -3.796875 0.328125 -3.234375 C 0.328125 -2.890625 0.484375 -2.609375 0.75 -2.390625 C 1.078125 -2.140625 1.359375 -2.078125 2.078125 -1.9375 Z M 2.078125 -1.9375 \" style=\"stroke:none;\"/>\n</symbol>\n<symbol id=\"glyph0-2\" overflow=\"visible\">\n<path d=\"M 1.09375 -0.75 C 1.09375 -0.3125 0.984375 -0.3125 0.3125 -0.3125 L 0.3125 0 C 0.671875 -0.015625 1.171875 -0.03125 1.453125 -0.03125 C 1.703125 -0.03125 2.21875 -0.015625 2.5625 0 L 2.5625 -0.3125 C 1.890625 -0.3125 1.78125 -0.3125 1.78125 -0.75 L 1.78125 -2.59375 C 1.78125 -3.625 2.5 -4.1875 3.125 -4.1875 C 3.765625 -4.1875 3.875 -3.65625 3.875 -3.078125 L 3.875 -0.75 C 3.875 -0.3125 3.765625 -0.3125 3.09375 -0.3125 L 3.09375 0 C 3.4375 -0.015625 3.953125 -0.03125 4.21875 -0.03125 C 4.46875 -0.03125 5 -0.015625 5.328125 0 L 5.328125 -0.3125 C 4.8125 -0.3125 4.5625 -0.3125 4.5625 -0.609375 L 4.5625 -2.515625 C 4.5625 -3.375 4.5625 -3.671875 4.25 -4.03125 C 4.109375 -4.203125 3.78125 -4.40625 3.203125 -4.40625 C 2.359375 -4.40625 1.921875 -3.8125 1.75 -3.421875 L 1.75 -6.921875 L 0.3125 -6.8125 L 0.3125 -6.5 C 1.015625 -6.5 1.09375 -6.4375 1.09375 -5.9375 Z M 1.09375 -0.75 \" style=\"stroke:none;\"/>\n</symbol>\n<symbol id=\"glyph0-3\" overflow=\"visible\">\n<path d=\"M 4.6875 -2.140625 C 4.6875 -3.40625 3.703125 -4.46875 2.5 -4.46875 C 1.25 -4.46875 0.28125 -3.375 0.28125 -2.140625 C 0.28125 -0.84375 1.3125 0.109375 2.484375 0.109375 C 3.6875 0.109375 4.6875 -0.875 4.6875 -2.140625 Z M 2.5 -0.140625 C 2.0625 -0.140625 1.625 -0.34375 1.359375 -0.8125 C 1.109375 -1.25 1.109375 -1.859375 1.109375 -2.21875 C 1.109375 -2.609375 1.109375 -3.140625 1.34375 -3.578125 C 1.609375 -4.03125 2.078125 -4.25 2.484375 -4.25 C 2.921875 -4.25 3.34375 -4.03125 3.609375 -3.59375 C 3.875 -3.171875 3.875 -2.59375 3.875 -2.21875 C 3.875 -1.859375 3.875 -1.3125 3.65625 -0.875 C 3.421875 -0.421875 2.984375 -0.140625 2.5 -0.140625 Z M 2.5 -0.140625 \" style=\"stroke:none;\"/>\n</symbol>\n<symbol id=\"glyph0-4\" overflow=\"visible\">\n<path d=\"M 1.671875 -3.3125 L 1.671875 -4.40625 L 0.28125 -4.296875 L 0.28125 -3.984375 C 0.984375 -3.984375 1.0625 -3.921875 1.0625 -3.421875 L 1.0625 -0.75 C 1.0625 -0.3125 0.953125 -0.3125 0.28125 -0.3125 L 0.28125 0 C 0.671875 -0.015625 1.140625 -0.03125 1.421875 -0.03125 C 1.8125 -0.03125 2.28125 -0.03125 2.6875 0 L 2.6875 -0.3125 L 2.46875 -0.3125 C 1.734375 -0.3125 1.71875 -0.421875 1.71875 -0.78125 L 1.71875 -2.3125 C 1.71875 -3.296875 2.140625 -4.1875 2.890625 -4.1875 C 2.953125 -4.1875 2.984375 -4.1875 3 -4.171875 C 2.96875 -4.171875 2.765625 -4.046875 2.765625 -3.78125 C 2.765625 -3.515625 2.984375 -3.359375 3.203125 -3.359375 C 3.375 -3.359375 3.625 -3.484375 3.625 -3.796875 C 3.625 -4.109375 3.3125 -4.40625 2.890625 -4.40625 C 2.15625 -4.40625 1.796875 -3.734375 1.671875 -3.3125 Z M 1.671875 -3.3125 \" style=\"stroke:none;\"/>\n</symbol>\n<symbol id=\"glyph0-5\" overflow=\"visible\">\n<path d=\"M 1.71875 -3.984375 L 3.15625 -3.984375 L 3.15625 -4.296875 L 1.71875 -4.296875 L 1.71875 -6.125 L 1.46875 -6.125 C 1.46875 -5.3125 1.171875 -4.25 0.1875 -4.203125 L 0.1875 -3.984375 L 1.03125 -3.984375 L 1.03125 -1.234375 C 1.03125 -0.015625 1.96875 0.109375 2.328125 0.109375 C 3.03125 0.109375 3.3125 -0.59375 3.3125 -1.234375 L 3.3125 -1.796875 L 3.0625 -1.796875 L 3.0625 -1.25 C 3.0625 -0.515625 2.765625 -0.140625 2.390625 -0.140625 C 1.71875 -0.140625 1.71875 -1.046875 1.71875 -1.21875 Z M 1.71875 -3.984375 \" style=\"stroke:none;\"/>\n</symbol>\n<symbol id=\"glyph0-6\" overflow=\"visible\">\n<path d=\"M 1.71875 -3.75 L 1.71875 -4.40625 L 0.28125 -4.296875 L 0.28125 -3.984375 C 0.984375 -3.984375 1.0625 -3.921875 1.0625 -3.484375 L 1.0625 1.171875 C 1.0625 1.625 0.953125 1.625 0.28125 1.625 L 0.28125 1.9375 C 0.625 1.921875 1.140625 1.90625 1.390625 1.90625 C 1.671875 1.90625 2.171875 1.921875 2.515625 1.9375 L 2.515625 1.625 C 1.859375 1.625 1.75 1.625 1.75 1.171875 L 1.75 -0.59375 C 1.796875 -0.421875 2.21875 0.109375 2.96875 0.109375 C 4.15625 0.109375 5.1875 -0.875 5.1875 -2.15625 C 5.1875 -3.421875 4.234375 -4.40625 3.109375 -4.40625 C 2.328125 -4.40625 1.90625 -3.96875 1.71875 -3.75 Z M 1.75 -1.140625 L 1.75 -3.359375 C 2.03125 -3.875 2.515625 -4.15625 3.03125 -4.15625 C 3.765625 -4.15625 4.359375 -3.28125 4.359375 -2.15625 C 4.359375 -0.953125 3.671875 -0.109375 2.9375 -0.109375 C 2.53125 -0.109375 2.15625 -0.3125 1.890625 -0.71875 C 1.75 -0.921875 1.75 -0.9375 1.75 -1.140625 Z M 1.75 -1.140625 \" style=\"stroke:none;\"/>\n</symbol>\n<symbol id=\"glyph0-7\" overflow=\"visible\">\n<path d=\"M 1.765625 -4.40625 L 0.375 -4.296875 L 0.375 -3.984375 C 1.015625 -3.984375 1.109375 -3.921875 1.109375 -3.4375 L 1.109375 -0.75 C 1.109375 -0.3125 1 -0.3125 0.328125 -0.3125 L 0.328125 0 C 0.640625 -0.015625 1.1875 -0.03125 1.421875 -0.03125 C 1.78125 -0.03125 2.125 -0.015625 2.46875 0 L 2.46875 -0.3125 C 1.796875 -0.3125 1.765625 -0.359375 1.765625 -0.75 Z M 1.796875 -6.140625 C 1.796875 -6.453125 1.5625 -6.671875 1.28125 -6.671875 C 0.96875 -6.671875 0.75 -6.40625 0.75 -6.140625 C 0.75 -5.875 0.96875 -5.609375 1.28125 -5.609375 C 1.5625 -5.609375 1.796875 -5.828125 1.796875 -6.140625 Z M 1.796875 -6.140625 \" style=\"stroke:none;\"/>\n</symbol>\n<symbol id=\"glyph0-8\" overflow=\"visible\">\n<path d=\"M 1.09375 -3.421875 L 1.09375 -0.75 C 1.09375 -0.3125 0.984375 -0.3125 0.3125 -0.3125 L 0.3125 0 C 0.671875 -0.015625 1.171875 -0.03125 1.453125 -0.03125 C 1.703125 -0.03125 2.21875 -0.015625 2.5625 0 L 2.5625 -0.3125 C 1.890625 -0.3125 1.78125 -0.3125 1.78125 -0.75 L 1.78125 -2.59375 C 1.78125 -3.625 2.5 -4.1875 3.125 -4.1875 C 3.765625 -4.1875 3.875 -3.65625 3.875 -3.078125 L 3.875 -0.75 C 3.875 -0.3125 3.765625 -0.3125 3.09375 -0.3125 L 3.09375 0 C 3.4375 -0.015625 3.953125 -0.03125 4.21875 -0.03125 C 4.46875 -0.03125 5 -0.015625 5.328125 0 L 5.328125 -0.3125 C 4.8125 -0.3125 4.5625 -0.3125 4.5625 -0.609375 L 4.5625 -2.515625 C 4.5625 -3.375 4.5625 -3.671875 4.25 -4.03125 C 4.109375 -4.203125 3.78125 -4.40625 3.203125 -4.40625 C 2.46875 -4.40625 2 -3.984375 1.71875 -3.359375 L 1.71875 -4.40625 L 0.3125 -4.296875 L 0.3125 -3.984375 C 1.015625 -3.984375 1.09375 -3.921875 1.09375 -3.421875 Z M 1.09375 -3.421875 \" style=\"stroke:none;\"/>\n</symbol>\n<symbol id=\"glyph0-9\" overflow=\"visible\">\n<path d=\"M 1.765625 -6.921875 L 0.328125 -6.8125 L 0.328125 -6.5 C 1.03125 -6.5 1.109375 -6.4375 1.109375 -5.9375 L 1.109375 -0.75 C 1.109375 -0.3125 1 -0.3125 0.328125 -0.3125 L 0.328125 0 C 0.65625 -0.015625 1.1875 -0.03125 1.4375 -0.03125 C 1.6875 -0.03125 2.171875 -0.015625 2.546875 0 L 2.546875 -0.3125 C 1.875 -0.3125 1.765625 -0.3125 1.765625 -0.75 Z M 1.765625 -6.921875 \" style=\"stroke:none;\"/>\n</symbol>\n<symbol id=\"glyph0-10\" overflow=\"visible\">\n<path d=\"M 2.21875 -1.71875 C 1.34375 -1.71875 1.34375 -2.71875 1.34375 -2.9375 C 1.34375 -3.203125 1.359375 -3.53125 1.5 -3.78125 C 1.578125 -3.890625 1.8125 -4.171875 2.21875 -4.171875 C 3.078125 -4.171875 3.078125 -3.1875 3.078125 -2.953125 C 3.078125 -2.6875 3.078125 -2.359375 2.921875 -2.109375 C 2.84375 -2 2.609375 -1.71875 2.21875 -1.71875 Z M 1.0625 -1.328125 C 1.0625 -1.359375 1.0625 -1.59375 1.21875 -1.796875 C 1.609375 -1.515625 2.03125 -1.484375 2.21875 -1.484375 C 3.140625 -1.484375 3.828125 -2.171875 3.828125 -2.9375 C 3.828125 -3.3125 3.671875 -3.671875 3.421875 -3.90625 C 3.78125 -4.25 4.140625 -4.296875 4.3125 -4.296875 C 4.34375 -4.296875 4.390625 -4.296875 4.421875 -4.28125 C 4.3125 -4.25 4.25 -4.140625 4.25 -4.015625 C 4.25 -3.84375 4.390625 -3.734375 4.546875 -3.734375 C 4.640625 -3.734375 4.828125 -3.796875 4.828125 -4.03125 C 4.828125 -4.203125 4.71875 -4.515625 4.328125 -4.515625 C 4.125 -4.515625 3.6875 -4.453125 3.265625 -4.046875 C 2.84375 -4.375 2.4375 -4.40625 2.21875 -4.40625 C 1.28125 -4.40625 0.59375 -3.71875 0.59375 -2.953125 C 0.59375 -2.515625 0.8125 -2.140625 1.0625 -1.921875 C 0.9375 -1.78125 0.75 -1.453125 0.75 -1.09375 C 0.75 -0.78125 0.890625 -0.40625 1.203125 -0.203125 C 0.59375 -0.046875 0.28125 0.390625 0.28125 0.78125 C 0.28125 1.5 1.265625 2.046875 2.484375 2.046875 C 3.65625 2.046875 4.6875 1.546875 4.6875 0.765625 C 4.6875 0.421875 4.5625 -0.09375 4.046875 -0.375 C 3.515625 -0.640625 2.9375 -0.640625 2.328125 -0.640625 C 2.078125 -0.640625 1.65625 -0.640625 1.578125 -0.65625 C 1.265625 -0.703125 1.0625 -1 1.0625 -1.328125 Z M 2.5 1.828125 C 1.484375 1.828125 0.796875 1.3125 0.796875 0.78125 C 0.796875 0.328125 1.171875 -0.046875 1.609375 -0.0625 L 2.203125 -0.0625 C 3.0625 -0.0625 4.171875 -0.0625 4.171875 0.78125 C 4.171875 1.328125 3.46875 1.828125 2.5 1.828125 Z M 2.5 1.828125 \" style=\"stroke:none;\"/>\n</symbol>\n<symbol id=\"glyph0-11\" overflow=\"visible\">\n<path d=\"M 1.75 -4.296875 L 1.75 -5.453125 C 1.75 -6.328125 2.21875 -6.8125 2.65625 -6.8125 C 2.6875 -6.8125 2.84375 -6.8125 2.984375 -6.734375 C 2.875 -6.703125 2.6875 -6.5625 2.6875 -6.3125 C 2.6875 -6.09375 2.84375 -5.890625 3.125 -5.890625 C 3.40625 -5.890625 3.5625 -6.09375 3.5625 -6.328125 C 3.5625 -6.703125 3.1875 -7.03125 2.65625 -7.03125 C 1.96875 -7.03125 1.109375 -6.5 1.109375 -5.4375 L 1.109375 -4.296875 L 0.328125 -4.296875 L 0.328125 -3.984375 L 1.109375 -3.984375 L 1.109375 -0.75 C 1.109375 -0.3125 1 -0.3125 0.34375 -0.3125 L 0.34375 0 C 0.734375 -0.015625 1.203125 -0.03125 1.46875 -0.03125 C 1.875 -0.03125 2.34375 -0.03125 2.734375 0 L 2.734375 -0.3125 L 2.53125 -0.3125 C 1.796875 -0.3125 1.78125 -0.421875 1.78125 -0.78125 L 1.78125 -3.984375 L 2.90625 -3.984375 L 2.90625 -4.296875 Z M 1.75 -4.296875 \" style=\"stroke:none;\"/>\n</symbol>\n<symbol id=\"glyph0-12\" overflow=\"visible\">\n<path d=\"M 6.171875 -3.34375 C 6.34375 -3.84375 6.65625 -3.984375 7.015625 -3.984375 L 7.015625 -4.296875 C 6.78125 -4.28125 6.5 -4.265625 6.28125 -4.265625 C 5.984375 -4.265625 5.546875 -4.28125 5.359375 -4.296875 L 5.359375 -3.984375 C 5.71875 -3.984375 5.9375 -3.796875 5.9375 -3.515625 C 5.9375 -3.453125 5.9375 -3.421875 5.875 -3.296875 L 4.96875 -0.75 L 3.984375 -3.53125 C 3.953125 -3.65625 3.9375 -3.671875 3.9375 -3.71875 C 3.9375 -3.984375 4.328125 -3.984375 4.53125 -3.984375 L 4.53125 -4.296875 C 4.234375 -4.28125 3.734375 -4.265625 3.484375 -4.265625 C 3.1875 -4.265625 2.90625 -4.28125 2.609375 -4.296875 L 2.609375 -3.984375 C 2.96875 -3.984375 3.125 -3.96875 3.234375 -3.84375 C 3.28125 -3.78125 3.390625 -3.484375 3.453125 -3.296875 L 2.609375 -0.875 L 1.65625 -3.53125 C 1.609375 -3.65625 1.609375 -3.671875 1.609375 -3.71875 C 1.609375 -3.984375 2 -3.984375 2.1875 -3.984375 L 2.1875 -4.296875 C 1.890625 -4.28125 1.328125 -4.265625 1.109375 -4.265625 C 1.0625 -4.265625 0.53125 -4.28125 0.171875 -4.296875 L 0.171875 -3.984375 C 0.671875 -3.984375 0.796875 -3.953125 0.921875 -3.640625 L 2.171875 -0.109375 C 2.21875 0.03125 2.25 0.109375 2.375 0.109375 C 2.515625 0.109375 2.53125 0.046875 2.578125 -0.09375 L 3.59375 -2.90625 L 4.609375 -0.078125 C 4.640625 0.03125 4.671875 0.109375 4.8125 0.109375 C 4.9375 0.109375 4.96875 0.015625 5 -0.078125 Z M 6.171875 -3.34375 \" style=\"stroke:none;\"/>\n</symbol>\n<symbol id=\"glyph0-13\" overflow=\"visible\">\n<path d=\"M 3.3125 -0.75 C 3.359375 -0.359375 3.625 0.0625 4.09375 0.0625 C 4.3125 0.0625 4.921875 -0.078125 4.921875 -0.890625 L 4.921875 -1.453125 L 4.671875 -1.453125 L 4.671875 -0.890625 C 4.671875 -0.3125 4.421875 -0.25 4.3125 -0.25 C 3.984375 -0.25 3.9375 -0.703125 3.9375 -0.75 L 3.9375 -2.734375 C 3.9375 -3.15625 3.9375 -3.546875 3.578125 -3.921875 C 3.1875 -4.3125 2.6875 -4.46875 2.21875 -4.46875 C 1.390625 -4.46875 0.703125 -4 0.703125 -3.34375 C 0.703125 -3.046875 0.90625 -2.875 1.171875 -2.875 C 1.453125 -2.875 1.625 -3.078125 1.625 -3.328125 C 1.625 -3.453125 1.578125 -3.78125 1.109375 -3.78125 C 1.390625 -4.140625 1.875 -4.25 2.1875 -4.25 C 2.6875 -4.25 3.25 -3.859375 3.25 -2.96875 L 3.25 -2.609375 C 2.734375 -2.578125 2.046875 -2.546875 1.421875 -2.25 C 0.671875 -1.90625 0.421875 -1.390625 0.421875 -0.953125 C 0.421875 -0.140625 1.390625 0.109375 2.015625 0.109375 C 2.671875 0.109375 3.125 -0.296875 3.3125 -0.75 Z M 3.25 -2.390625 L 3.25 -1.390625 C 3.25 -0.453125 2.53125 -0.109375 2.078125 -0.109375 C 1.59375 -0.109375 1.1875 -0.453125 1.1875 -0.953125 C 1.1875 -1.5 1.609375 -2.328125 3.25 -2.390625 Z M 3.25 -2.390625 \" style=\"stroke:none;\"/>\n</symbol>\n<symbol id=\"glyph0-14\" overflow=\"visible\">\n<path d=\"M 3.78125 -0.546875 L 3.78125 0.109375 L 5.25 0 L 5.25 -0.3125 C 4.5625 -0.3125 4.46875 -0.375 4.46875 -0.875 L 4.46875 -6.921875 L 3.046875 -6.8125 L 3.046875 -6.5 C 3.734375 -6.5 3.8125 -6.4375 3.8125 -5.9375 L 3.8125 -3.78125 C 3.53125 -4.140625 3.09375 -4.40625 2.5625 -4.40625 C 1.390625 -4.40625 0.34375 -3.421875 0.34375 -2.140625 C 0.34375 -0.875 1.3125 0.109375 2.453125 0.109375 C 3.09375 0.109375 3.53125 -0.234375 3.78125 -0.546875 Z M 3.78125 -3.21875 L 3.78125 -1.171875 C 3.78125 -1 3.78125 -0.984375 3.671875 -0.8125 C 3.375 -0.328125 2.9375 -0.109375 2.5 -0.109375 C 2.046875 -0.109375 1.6875 -0.375 1.453125 -0.75 C 1.203125 -1.15625 1.171875 -1.71875 1.171875 -2.140625 C 1.171875 -2.5 1.1875 -3.09375 1.46875 -3.546875 C 1.6875 -3.859375 2.0625 -4.1875 2.609375 -4.1875 C 2.953125 -4.1875 3.375 -4.03125 3.671875 -3.59375 C 3.78125 -3.421875 3.78125 -3.40625 3.78125 -3.21875 Z M 3.78125 -3.21875 \" style=\"stroke:none;\"/>\n</symbol>\n<symbol id=\"glyph0-15\" overflow=\"visible\">\n<path d=\"M 1.171875 -2.171875 C 1.171875 -3.796875 1.984375 -4.21875 2.515625 -4.21875 C 2.609375 -4.21875 3.234375 -4.203125 3.578125 -3.84375 C 3.171875 -3.8125 3.109375 -3.515625 3.109375 -3.390625 C 3.109375 -3.125 3.296875 -2.9375 3.5625 -2.9375 C 3.828125 -2.9375 4.03125 -3.09375 4.03125 -3.40625 C 4.03125 -4.078125 3.265625 -4.46875 2.5 -4.46875 C 1.25 -4.46875 0.34375 -3.390625 0.34375 -2.15625 C 0.34375 -0.875 1.328125 0.109375 2.484375 0.109375 C 3.8125 0.109375 4.140625 -1.09375 4.140625 -1.1875 C 4.140625 -1.28125 4.03125 -1.28125 4 -1.28125 C 3.921875 -1.28125 3.890625 -1.25 3.875 -1.1875 C 3.59375 -0.265625 2.9375 -0.140625 2.578125 -0.140625 C 2.046875 -0.140625 1.171875 -0.5625 1.171875 -2.171875 Z M 1.171875 -2.171875 \" style=\"stroke:none;\"/>\n</symbol>\n<symbol id=\"glyph0-16\" overflow=\"visible\">\n<path d=\"M 3.890625 -0.78125 L 3.890625 0.109375 L 5.328125 0 L 5.328125 -0.3125 C 4.640625 -0.3125 4.5625 -0.375 4.5625 -0.875 L 4.5625 -4.40625 L 3.09375 -4.296875 L 3.09375 -3.984375 C 3.78125 -3.984375 3.875 -3.921875 3.875 -3.421875 L 3.875 -1.65625 C 3.875 -0.78125 3.390625 -0.109375 2.65625 -0.109375 C 1.828125 -0.109375 1.78125 -0.578125 1.78125 -1.09375 L 1.78125 -4.40625 L 0.3125 -4.296875 L 0.3125 -3.984375 C 1.09375 -3.984375 1.09375 -3.953125 1.09375 -3.078125 L 1.09375 -1.578125 C 1.09375 -0.796875 1.09375 0.109375 2.609375 0.109375 C 3.171875 0.109375 3.609375 -0.171875 3.890625 -0.78125 Z M 3.890625 -0.78125 \" style=\"stroke:none;\"/>\n</symbol>\n<symbol id=\"glyph0-17\" overflow=\"visible\">\n<path d=\"M 4.578125 -3.1875 C 4.578125 -3.984375 4.53125 -4.78125 4.1875 -5.515625 C 3.734375 -6.484375 2.90625 -6.640625 2.5 -6.640625 C 1.890625 -6.640625 1.171875 -6.375 0.75 -5.453125 C 0.4375 -4.765625 0.390625 -3.984375 0.390625 -3.1875 C 0.390625 -2.4375 0.421875 -1.546875 0.84375 -0.78125 C 1.265625 0.015625 2 0.21875 2.484375 0.21875 C 3.015625 0.21875 3.78125 0.015625 4.21875 -0.9375 C 4.53125 -1.625 4.578125 -2.40625 4.578125 -3.1875 Z M 2.484375 0 C 2.09375 0 1.5 -0.25 1.328125 -1.203125 C 1.21875 -1.796875 1.21875 -2.71875 1.21875 -3.3125 C 1.21875 -3.953125 1.21875 -4.609375 1.296875 -5.140625 C 1.484375 -6.328125 2.234375 -6.421875 2.484375 -6.421875 C 2.8125 -6.421875 3.46875 -6.234375 3.65625 -5.25 C 3.765625 -4.6875 3.765625 -3.9375 3.765625 -3.3125 C 3.765625 -2.5625 3.765625 -1.890625 3.65625 -1.25 C 3.5 -0.296875 2.9375 0 2.484375 0 Z M 2.484375 0 \" style=\"stroke:none;\"/>\n</symbol>\n<symbol id=\"glyph0-18\" overflow=\"visible\">\n<path d=\"M 1.09375 -3.421875 L 1.09375 -0.75 C 1.09375 -0.3125 0.984375 -0.3125 0.3125 -0.3125 L 0.3125 0 C 0.671875 -0.015625 1.171875 -0.03125 1.453125 -0.03125 C 1.703125 -0.03125 2.21875 -0.015625 2.5625 0 L 2.5625 -0.3125 C 1.890625 -0.3125 1.78125 -0.3125 1.78125 -0.75 L 1.78125 -2.59375 C 1.78125 -3.625 2.5 -4.1875 3.125 -4.1875 C 3.765625 -4.1875 3.875 -3.65625 3.875 -3.078125 L 3.875 -0.75 C 3.875 -0.3125 3.765625 -0.3125 3.09375 -0.3125 L 3.09375 0 C 3.4375 -0.015625 3.953125 -0.03125 4.21875 -0.03125 C 4.46875 -0.03125 5 -0.015625 5.328125 0 L 5.328125 -0.3125 C 4.671875 -0.3125 4.5625 -0.3125 4.5625 -0.75 L 4.5625 -2.59375 C 4.5625 -3.625 5.265625 -4.1875 5.90625 -4.1875 C 6.53125 -4.1875 6.640625 -3.65625 6.640625 -3.078125 L 6.640625 -0.75 C 6.640625 -0.3125 6.53125 -0.3125 5.859375 -0.3125 L 5.859375 0 C 6.203125 -0.015625 6.71875 -0.03125 6.984375 -0.03125 C 7.25 -0.03125 7.765625 -0.015625 8.109375 0 L 8.109375 -0.3125 C 7.59375 -0.3125 7.34375 -0.3125 7.328125 -0.609375 L 7.328125 -2.515625 C 7.328125 -3.375 7.328125 -3.671875 7.015625 -4.03125 C 6.875 -4.203125 6.546875 -4.40625 5.96875 -4.40625 C 5.140625 -4.40625 4.6875 -3.8125 4.53125 -3.421875 C 4.390625 -4.296875 3.65625 -4.40625 3.203125 -4.40625 C 2.46875 -4.40625 2 -3.984375 1.71875 -3.359375 L 1.71875 -4.40625 L 0.3125 -4.296875 L 0.3125 -3.984375 C 1.015625 -3.984375 1.09375 -3.921875 1.09375 -3.421875 Z M 1.09375 -3.421875 \" style=\"stroke:none;\"/>\n</symbol>\n<symbol id=\"glyph0-19\" overflow=\"visible\">\n<path d=\"M 2.859375 -2.34375 C 3.15625 -2.71875 3.53125 -3.203125 3.78125 -3.46875 C 4.09375 -3.828125 4.5 -3.984375 4.96875 -3.984375 L 4.96875 -4.296875 C 4.703125 -4.28125 4.40625 -4.265625 4.140625 -4.265625 C 3.84375 -4.265625 3.3125 -4.28125 3.1875 -4.296875 L 3.1875 -3.984375 C 3.40625 -3.96875 3.484375 -3.84375 3.484375 -3.671875 C 3.484375 -3.515625 3.375 -3.390625 3.328125 -3.328125 L 2.71875 -2.546875 L 1.9375 -3.5625 C 1.84375 -3.65625 1.84375 -3.671875 1.84375 -3.734375 C 1.84375 -3.890625 2 -3.984375 2.1875 -3.984375 L 2.1875 -4.296875 C 1.9375 -4.28125 1.28125 -4.265625 1.109375 -4.265625 C 0.90625 -4.265625 0.4375 -4.28125 0.171875 -4.296875 L 0.171875 -3.984375 C 0.875 -3.984375 0.875 -3.984375 1.34375 -3.375 L 2.328125 -2.09375 L 1.390625 -0.90625 C 0.921875 -0.328125 0.328125 -0.3125 0.125 -0.3125 L 0.125 0 C 0.375 -0.015625 0.6875 -0.03125 0.953125 -0.03125 C 1.234375 -0.03125 1.65625 -0.015625 1.890625 0 L 1.890625 -0.3125 C 1.671875 -0.34375 1.609375 -0.46875 1.609375 -0.625 C 1.609375 -0.84375 1.890625 -1.171875 2.5 -1.890625 L 3.265625 -0.890625 C 3.34375 -0.78125 3.46875 -0.625 3.46875 -0.5625 C 3.46875 -0.46875 3.375 -0.3125 3.109375 -0.3125 L 3.109375 0 C 3.40625 -0.015625 3.96875 -0.03125 4.1875 -0.03125 C 4.453125 -0.03125 4.84375 -0.015625 5.140625 0 L 5.140625 -0.3125 C 4.609375 -0.3125 4.421875 -0.328125 4.203125 -0.625 Z M 2.859375 -2.34375 \" style=\"stroke:none;\"/>\n</symbol>\n<symbol id=\"glyph0-20\" overflow=\"visible\">\n<path d=\"M 3.296875 2.390625 C 3.296875 2.359375 3.296875 2.34375 3.125 2.171875 C 1.890625 0.921875 1.5625 -0.96875 1.5625 -2.5 C 1.5625 -4.234375 1.9375 -5.96875 3.171875 -7.203125 C 3.296875 -7.328125 3.296875 -7.34375 3.296875 -7.375 C 3.296875 -7.453125 3.265625 -7.484375 3.203125 -7.484375 C 3.09375 -7.484375 2.203125 -6.796875 1.609375 -5.53125 C 1.109375 -4.4375 0.984375 -3.328125 0.984375 -2.5 C 0.984375 -1.71875 1.09375 -0.515625 1.640625 0.625 C 2.25 1.84375 3.09375 2.5 3.203125 2.5 C 3.265625 2.5 3.296875 2.46875 3.296875 2.390625 Z M 3.296875 2.390625 \" style=\"stroke:none;\"/>\n</symbol>\n<symbol id=\"glyph0-21\" overflow=\"visible\">\n<path d=\"M 2.875 -2.5 C 2.875 -3.265625 2.765625 -4.46875 2.21875 -5.609375 C 1.625 -6.828125 0.765625 -7.484375 0.671875 -7.484375 C 0.609375 -7.484375 0.5625 -7.4375 0.5625 -7.375 C 0.5625 -7.34375 0.5625 -7.328125 0.75 -7.140625 C 1.734375 -6.15625 2.296875 -4.578125 2.296875 -2.5 C 2.296875 -0.78125 1.9375 0.96875 0.703125 2.21875 C 0.5625 2.34375 0.5625 2.359375 0.5625 2.390625 C 0.5625 2.453125 0.609375 2.5 0.671875 2.5 C 0.765625 2.5 1.671875 1.8125 2.25 0.546875 C 2.765625 -0.546875 2.875 -1.65625 2.875 -2.5 Z M 2.875 -2.5 \" style=\"stroke:none;\"/>\n</symbol>\n<symbol id=\"glyph1-0\" overflow=\"visible\">\n<path d=\"\" style=\"stroke:none;\"/>\n</symbol>\n<symbol id=\"glyph1-1\" overflow=\"visible\">\n<path d=\"M 6.4375 -6.921875 C 6.4375 -6.953125 6.40625 -7.03125 6.3125 -7.03125 C 6.265625 -7.03125 6.265625 -7.015625 6.140625 -6.875 L 5.65625 -6.3125 C 5.40625 -6.78125 4.890625 -7.03125 4.234375 -7.03125 C 2.96875 -7.03125 1.78125 -5.875 1.78125 -4.671875 C 1.78125 -3.875 2.296875 -3.40625 2.8125 -3.265625 L 3.875 -2.984375 C 4.25 -2.890625 4.796875 -2.734375 4.796875 -1.921875 C 4.796875 -1.03125 3.984375 -0.09375 3 -0.09375 C 2.359375 -0.09375 1.25 -0.3125 1.25 -1.546875 C 1.25 -1.78125 1.3125 -2.03125 1.3125 -2.078125 C 1.328125 -2.125 1.328125 -2.140625 1.328125 -2.15625 C 1.328125 -2.25 1.265625 -2.265625 1.21875 -2.265625 C 1.171875 -2.265625 1.140625 -2.25 1.109375 -2.21875 C 1.078125 -2.1875 0.515625 0.09375 0.515625 0.125 C 0.515625 0.171875 0.5625 0.21875 0.625 0.21875 C 0.671875 0.21875 0.6875 0.203125 0.8125 0.0625 L 1.296875 -0.5 C 1.71875 0.078125 2.40625 0.21875 2.984375 0.21875 C 4.34375 0.21875 5.515625 -1.109375 5.515625 -2.34375 C 5.515625 -3.03125 5.171875 -3.375 5.03125 -3.515625 C 4.796875 -3.734375 4.640625 -3.78125 3.765625 -4 C 3.53125 -4.0625 3.1875 -4.171875 3.09375 -4.1875 C 2.828125 -4.28125 2.484375 -4.5625 2.484375 -5.09375 C 2.484375 -5.90625 3.28125 -6.75 4.234375 -6.75 C 5.046875 -6.75 5.65625 -6.3125 5.65625 -5.203125 C 5.65625 -4.890625 5.625 -4.703125 5.625 -4.640625 C 5.625 -4.640625 5.625 -4.546875 5.734375 -4.546875 C 5.84375 -4.546875 5.859375 -4.578125 5.890625 -4.75 Z M 6.4375 -6.921875 \" style=\"stroke:none;\"/>\n</symbol>\n<symbol id=\"glyph1-2\" overflow=\"visible\">\n<path d=\"M 5.078125 -4.03125 C 5.0625 -4.0625 5.03125 -4.140625 5.03125 -4.171875 C 5.03125 -4.171875 5.203125 -4.3125 5.3125 -4.390625 L 7.0625 -5.734375 C 8 -6.4375 8.390625 -6.46875 8.6875 -6.5 C 8.765625 -6.515625 8.859375 -6.515625 8.859375 -6.703125 C 8.859375 -6.734375 8.828125 -6.8125 8.75 -6.8125 C 8.53125 -6.8125 8.28125 -6.78125 8.046875 -6.78125 C 7.6875 -6.78125 7.296875 -6.8125 6.9375 -6.8125 C 6.875 -6.8125 6.75 -6.8125 6.75 -6.609375 C 6.75 -6.546875 6.796875 -6.515625 6.875 -6.5 C 7.09375 -6.484375 7.171875 -6.4375 7.171875 -6.296875 C 7.171875 -6.109375 6.875 -5.875 6.8125 -5.828125 L 2.9375 -2.84375 L 3.734375 -6.046875 C 3.8125 -6.40625 3.84375 -6.5 4.5625 -6.5 C 4.8125 -6.5 4.90625 -6.5 4.90625 -6.703125 C 4.90625 -6.78125 4.828125 -6.8125 4.765625 -6.8125 C 4.484375 -6.8125 3.765625 -6.78125 3.484375 -6.78125 C 3.203125 -6.78125 2.5 -6.8125 2.203125 -6.8125 C 2.140625 -6.8125 2 -6.8125 2 -6.625 C 2 -6.5 2.09375 -6.5 2.296875 -6.5 C 2.421875 -6.5 2.609375 -6.484375 2.71875 -6.484375 C 2.875 -6.453125 2.9375 -6.4375 2.9375 -6.3125 C 2.9375 -6.28125 2.9375 -6.25 2.90625 -6.125 L 1.5625 -0.78125 C 1.46875 -0.390625 1.453125 -0.3125 0.65625 -0.3125 C 0.484375 -0.3125 0.375 -0.3125 0.375 -0.125 C 0.375 0 0.5 0 0.53125 0 C 0.8125 0 1.515625 -0.03125 1.796875 -0.03125 C 2 -0.03125 2.21875 -0.015625 2.4375 -0.015625 C 2.65625 -0.015625 2.875 0 3.078125 0 C 3.15625 0 3.28125 0 3.28125 -0.203125 C 3.28125 -0.3125 3.1875 -0.3125 3 -0.3125 C 2.625 -0.3125 2.359375 -0.3125 2.359375 -0.484375 C 2.359375 -0.5625 2.40625 -0.78125 2.4375 -0.921875 C 2.578125 -1.453125 2.71875 -1.96875 2.84375 -2.5 L 4.328125 -3.65625 L 5.484375 -0.96875 C 5.609375 -0.703125 5.609375 -0.671875 5.609375 -0.625 C 5.609375 -0.3125 5.171875 -0.3125 5.078125 -0.3125 C 4.96875 -0.3125 4.859375 -0.3125 4.859375 -0.109375 C 4.859375 0 4.984375 0 5 0 C 5.40625 0 5.828125 -0.03125 6.21875 -0.03125 C 6.4375 -0.03125 6.984375 0 7.203125 0 C 7.25 0 7.375 0 7.375 -0.203125 C 7.375 -0.3125 7.265625 -0.3125 7.171875 -0.3125 C 6.765625 -0.3125 6.640625 -0.40625 6.484375 -0.75 Z M 5.078125 -4.03125 \" style=\"stroke:none;\"/>\n</symbol>\n<symbol id=\"glyph1-3\" overflow=\"visible\">\n<path d=\"M 2.03125 -0.015625 C 2.03125 -0.671875 1.78125 -1.0625 1.390625 -1.0625 C 1.0625 -1.0625 0.859375 -0.8125 0.859375 -0.53125 C 0.859375 -0.265625 1.0625 0 1.390625 0 C 1.5 0 1.640625 -0.046875 1.734375 -0.125 C 1.765625 -0.15625 1.78125 -0.15625 1.78125 -0.15625 C 1.796875 -0.15625 1.796875 -0.15625 1.796875 -0.015625 C 1.796875 0.734375 1.453125 1.328125 1.125 1.65625 C 1.015625 1.765625 1.015625 1.78125 1.015625 1.8125 C 1.015625 1.890625 1.0625 1.921875 1.109375 1.921875 C 1.21875 1.921875 2.03125 1.15625 2.03125 -0.015625 Z M 2.03125 -0.015625 \" style=\"stroke:none;\"/>\n</symbol>\n<symbol id=\"glyph2-0\" overflow=\"visible\">\n<path d=\"\" style=\"stroke:none;\"/>\n</symbol>\n<symbol id=\"glyph2-1\" overflow=\"visible\">\n<path d=\"M 3.390625 -4.21875 C 3.4375 -4.421875 3.453125 -4.4375 3.609375 -4.453125 C 3.640625 -4.453125 3.875 -4.453125 4.015625 -4.453125 C 4.453125 -4.453125 4.625 -4.453125 4.796875 -4.40625 C 5.109375 -4.3125 5.125 -4.109375 5.125 -3.859375 C 5.125 -3.75 5.125 -3.65625 5.078125 -3.296875 L 5.0625 -3.21875 C 5.0625 -3.140625 5.109375 -3.109375 5.1875 -3.109375 C 5.296875 -3.109375 5.296875 -3.171875 5.3125 -3.28125 L 5.5 -4.609375 C 5.5 -4.703125 5.421875 -4.703125 5.296875 -4.703125 L 1.015625 -4.703125 C 0.84375 -4.703125 0.828125 -4.703125 0.78125 -4.5625 L 0.328125 -3.328125 C 0.328125 -3.296875 0.296875 -3.234375 0.296875 -3.203125 C 0.296875 -3.171875 0.3125 -3.109375 0.421875 -3.109375 C 0.515625 -3.109375 0.515625 -3.140625 0.5625 -3.28125 C 0.96875 -4.390625 1.203125 -4.453125 2.265625 -4.453125 L 2.546875 -4.453125 C 2.765625 -4.453125 2.765625 -4.453125 2.765625 -4.390625 C 2.765625 -4.390625 2.765625 -4.34375 2.734375 -4.25 L 1.8125 -0.578125 C 1.75 -0.328125 1.734375 -0.25 1 -0.25 C 0.75 -0.25 0.6875 -0.25 0.6875 -0.09375 C 0.6875 -0.078125 0.703125 0 0.8125 0 C 1 0 1.21875 -0.015625 1.40625 -0.015625 C 1.609375 -0.015625 1.8125 -0.03125 2 -0.03125 C 2.203125 -0.03125 2.4375 -0.03125 2.640625 -0.015625 C 2.828125 -0.015625 3.03125 0 3.21875 0 C 3.28125 0 3.375 0 3.375 -0.15625 C 3.375 -0.25 3.3125 -0.25 3.09375 -0.25 C 2.96875 -0.25 2.828125 -0.265625 2.6875 -0.265625 C 2.453125 -0.28125 2.4375 -0.3125 2.4375 -0.390625 C 2.4375 -0.453125 2.4375 -0.453125 2.46875 -0.5625 Z M 3.390625 -4.21875 \" style=\"stroke:none;\"/>\n</symbol>\n<symbol id=\"glyph3-0\" overflow=\"visible\">\n<path d=\"\" style=\"stroke:none;\"/>\n</symbol>\n<symbol id=\"glyph3-1\" overflow=\"visible\">\n<path d=\"M 6.5625 -2.296875 C 6.734375 -2.296875 6.921875 -2.296875 6.921875 -2.5 C 6.921875 -2.6875 6.734375 -2.6875 6.5625 -2.6875 L 1.171875 -2.6875 C 1 -2.6875 0.828125 -2.6875 0.828125 -2.5 C 0.828125 -2.296875 1 -2.296875 1.171875 -2.296875 Z M 6.5625 -2.296875 \" style=\"stroke:none;\"/>\n</symbol>\n</g>\n</defs>\n<g id=\"surface1\">\n<g style=\"fill:rgb(0%,0%,0%);fill-opacity:1;\">\n  <use x=\"3.321\" xlink:href=\"#glyph0-1\" y=\"321.654\"/>\n  <use x=\"7.250249\" xlink:href=\"#glyph0-2\" y=\"321.654\"/>\n  <use x=\"12.78547\" xlink:href=\"#glyph0-3\" y=\"321.654\"/>\n  <use x=\"17.76677\" xlink:href=\"#glyph0-4\" y=\"321.654\"/>\n  <use x=\"21.66912\" xlink:href=\"#glyph0-5\" y=\"321.654\"/>\n</g>\n<g style=\"fill:rgb(0%,0%,0%);fill-opacity:1;\">\n  <use x=\"28.861121\" xlink:href=\"#glyph0-6\" y=\"321.654\"/>\n</g>\n<g style=\"fill:rgb(0%,0%,0%);fill-opacity:1;\">\n  <use x=\"34.675295\" xlink:href=\"#glyph0-3\" y=\"321.654\"/>\n  <use x=\"39.656595\" xlink:href=\"#glyph0-1\" y=\"321.654\"/>\n  <use x=\"43.585844\" xlink:href=\"#glyph0-7\" y=\"321.654\"/>\n  <use x=\"46.353454\" xlink:href=\"#glyph0-5\" y=\"321.654\"/>\n  <use x=\"50.22791\" xlink:href=\"#glyph0-7\" y=\"321.654\"/>\n  <use x=\"52.99552\" xlink:href=\"#glyph0-3\" y=\"321.654\"/>\n  <use x=\"57.97682\" xlink:href=\"#glyph0-8\" y=\"321.654\"/>\n</g>\n<g style=\"fill:rgb(0%,0%,0%);fill-opacity:1;\">\n  <use x=\"5.299\" xlink:href=\"#glyph0-9\" y=\"123.229\"/>\n  <use x=\"8.06661\" xlink:href=\"#glyph0-3\" y=\"123.229\"/>\n  <use x=\"13.04791\" xlink:href=\"#glyph0-8\" y=\"123.229\"/>\n  <use x=\"18.583131\" xlink:href=\"#glyph0-10\" y=\"123.229\"/>\n</g>\n<g style=\"fill:rgb(0%,0%,0%);fill-opacity:1;\">\n  <use x=\"26.881977\" xlink:href=\"#glyph0-6\" y=\"123.229\"/>\n</g>\n<g style=\"fill:rgb(0%,0%,0%);fill-opacity:1;\">\n  <use x=\"32.69615\" xlink:href=\"#glyph0-3\" y=\"123.229\"/>\n  <use x=\"37.67745\" xlink:href=\"#glyph0-1\" y=\"123.229\"/>\n  <use x=\"41.606699\" xlink:href=\"#glyph0-7\" y=\"123.229\"/>\n  <use x=\"44.37431\" xlink:href=\"#glyph0-5\" y=\"123.229\"/>\n  <use x=\"48.248765\" xlink:href=\"#glyph0-7\" y=\"123.229\"/>\n  <use x=\"51.016375\" xlink:href=\"#glyph0-3\" y=\"123.229\"/>\n  <use x=\"55.997675\" xlink:href=\"#glyph0-8\" y=\"123.229\"/>\n</g>\n<g style=\"fill:rgb(0%,0%,0%);fill-opacity:1;\">\n  <use x=\"186.863\" xlink:href=\"#glyph0-11\" y=\"10.812\"/>\n  <use x=\"189.907571\" xlink:href=\"#glyph0-3\" y=\"10.812\"/>\n  <use x=\"194.888871\" xlink:href=\"#glyph0-4\" y=\"10.812\"/>\n  <use x=\"198.791221\" xlink:href=\"#glyph0-12\" y=\"10.812\"/>\n</g>\n<g style=\"fill:rgb(0%,0%,0%);fill-opacity:1;\">\n  <use x=\"205.707258\" xlink:href=\"#glyph0-13\" y=\"10.812\"/>\n  <use x=\"210.688558\" xlink:href=\"#glyph0-4\" y=\"10.812\"/>\n  <use x=\"214.590908\" xlink:href=\"#glyph0-14\" y=\"10.812\"/>\n</g>\n<g style=\"fill:rgb(0%,0%,0%);fill-opacity:1;\">\n  <use x=\"394.448\" xlink:href=\"#glyph0-15\" y=\"10.812\"/>\n  <use x=\"398.875379\" xlink:href=\"#glyph0-13\" y=\"10.812\"/>\n  <use x=\"403.856679\" xlink:href=\"#glyph0-9\" y=\"10.812\"/>\n  <use x=\"406.62429\" xlink:href=\"#glyph0-9\" y=\"10.812\"/>\n</g>\n<g style=\"fill:rgb(0%,0%,0%);fill-opacity:1;\">\n  <use x=\"592.873\" xlink:href=\"#glyph0-6\" y=\"9.448\"/>\n  <use x=\"598.408221\" xlink:href=\"#glyph0-16\" y=\"9.448\"/>\n  <use x=\"603.943441\" xlink:href=\"#glyph0-5\" y=\"9.448\"/>\n</g>\n<path d=\"M -0.001875 -0.0000625 L 70.865313 -0.0000625 \" style=\"fill:none;stroke-width:0.3985;stroke-linecap:butt;stroke-linejoin:miter;stroke:rgb(0%,0%,0%);stroke-opacity:1;stroke-miterlimit:10;\" transform=\"matrix(1,0,0,-1,118.455,319.164)\"/>\n<path d=\"M 70.865313 -0.0000625 L 155.447344 -0.0000625 \" style=\"fill:none;stroke-width:0.3985;stroke-linecap:butt;stroke-linejoin:miter;stroke:rgb(0%,0%,0%);stroke-opacity:1;stroke-miterlimit:10;\" transform=\"matrix(1,0,0,-1,118.455,319.164)\"/>\n<path d=\"M -1.197129 1.593687 C -1.095566 0.996031 -0.00181625 0.1015 0.298965 -0.0000625 C -0.00181625 -0.0977188 -1.095566 -0.996156 -1.197129 -1.593813 \" style=\"fill:none;stroke-width:0.31879;stroke-linecap:round;stroke-linejoin:round;stroke:rgb(0%,0%,0%);stroke-opacity:1;stroke-miterlimit:10;\" transform=\"matrix(1,0,0,-1,273.90416,319.164)\"/>\n<g style=\"fill:rgb(0%,0%,0%);fill-opacity:1;\">\n  <use x=\"277.881\" xlink:href=\"#glyph1-1\" y=\"329.491\"/>\n</g>\n<g style=\"fill:rgb(0%,0%,0%);fill-opacity:1;\">\n  <use x=\"283.99\" xlink:href=\"#glyph2-1\" y=\"330.986\"/>\n</g>\n<path d=\"M -0.001875 -84.582094 L -0.001875 -0.0000625 \" style=\"fill:none;stroke-width:0.3985;stroke-linecap:butt;stroke-linejoin:miter;stroke:rgb(0%,0%,0%);stroke-opacity:1;stroke-miterlimit:10;\" transform=\"matrix(1,0,0,-1,118.455,319.164)\"/>\n<path d=\"M -1.195359 1.595781 C -1.097702 0.998125 -0.00004625 0.0996875 0.300735 -0.001875 C -0.00004625 -0.0995312 -1.097702 -0.997969 -1.195359 -1.595625 \" style=\"fill:none;stroke-width:0.31879;stroke-linecap:round;stroke-linejoin:round;stroke:rgb(0%,0%,0%);stroke-opacity:1;stroke-miterlimit:10;\" transform=\"matrix(0,1,1,0,118.455,403.74614)\"/>\n<g style=\"fill:rgb(0%,0%,0%);fill-opacity:1;\">\n  <use x=\"109.954\" xlink:href=\"#glyph0-17\" y=\"322.374\"/>\n</g>\n<path d=\"M -0.001875 -0.0000625 L -0.001875 84.581969 \" style=\"fill:none;stroke-width:0.3985;stroke-linecap:butt;stroke-linejoin:miter;stroke:rgb(0%,0%,0%);stroke-opacity:1;stroke-miterlimit:10;\" transform=\"matrix(1,0,0,-1,118.455,319.164)\"/>\n<path d=\"M -1.195484 1.595625 C -1.093921 0.997969 -0.00017125 0.0995312 0.30061 0.001875 C -0.00017125 -0.0996875 -1.093921 -0.998125 -1.195484 -1.595781 \" style=\"fill:none;stroke-width:0.31879;stroke-linecap:round;stroke-linejoin:round;stroke:rgb(0%,0%,0%);stroke-opacity:1;stroke-miterlimit:10;\" transform=\"matrix(0,-1,-1,0,118.455,234.58186)\"/>\n<path d=\"M 70.865313 2.835875 L 70.865313 -2.836 \" style=\"fill:none;stroke-width:0.3985;stroke-linecap:butt;stroke-linejoin:miter;stroke:rgb(0%,0%,0%);stroke-opacity:1;stroke-miterlimit:10;\" transform=\"matrix(1,0,0,-1,118.455,319.164)\"/>\n<g style=\"fill:rgb(0%,0%,0%);fill-opacity:1;\">\n  <use x=\"184.735\" xlink:href=\"#glyph1-2\" y=\"332.326\"/>\n</g>\n<path d=\"M -0.001875 198.425719 L 70.865313 198.425719 \" style=\"fill:none;stroke-width:0.3985;stroke-linecap:butt;stroke-linejoin:miter;stroke:rgb(0%,0%,0%);stroke-opacity:1;stroke-miterlimit:10;\" transform=\"matrix(1,0,0,-1,118.455,319.164)\"/>\n<path d=\"M 70.865313 198.425719 L 155.447344 198.425719 \" style=\"fill:none;stroke-width:0.3985;stroke-linecap:butt;stroke-linejoin:miter;stroke:rgb(0%,0%,0%);stroke-opacity:1;stroke-miterlimit:10;\" transform=\"matrix(1,0,0,-1,118.455,319.164)\"/>\n<path d=\"M -1.197129 1.595715 C -1.095566 0.998059 -0.00181625 0.0996212 0.298965 -0.00194125 C -0.00181625 -0.0995975 -1.095566 -0.998035 -1.197129 -1.595691 \" style=\"fill:none;stroke-width:0.31879;stroke-linecap:round;stroke-linejoin:round;stroke:rgb(0%,0%,0%);stroke-opacity:1;stroke-miterlimit:10;\" transform=\"matrix(1,0,0,-1,273.90416,120.73634)\"/>\n<g style=\"fill:rgb(0%,0%,0%);fill-opacity:1;\">\n  <use x=\"277.881\" xlink:href=\"#glyph1-1\" y=\"131.066\"/>\n</g>\n<g style=\"fill:rgb(0%,0%,0%);fill-opacity:1;\">\n  <use x=\"283.99\" xlink:href=\"#glyph2-1\" y=\"132.561\"/>\n</g>\n<path d=\"M -0.001875 113.843687 L -0.001875 198.425719 \" style=\"fill:none;stroke-width:0.3985;stroke-linecap:butt;stroke-linejoin:miter;stroke:rgb(0%,0%,0%);stroke-opacity:1;stroke-miterlimit:10;\" transform=\"matrix(1,0,0,-1,118.455,319.164)\"/>\n<path d=\"M -1.197406 1.595781 C -1.095844 0.998125 0.0018125 0.0996875 0.298688 -0.001875 C 0.0018125 -0.0995312 -1.095844 -0.997969 -1.197406 -1.595625 \" style=\"fill:none;stroke-width:0.31879;stroke-linecap:round;stroke-linejoin:round;stroke:rgb(0%,0%,0%);stroke-opacity:1;stroke-miterlimit:10;\" transform=\"matrix(0,1,1,0,118.455,205.3185)\"/>\n<g style=\"fill:rgb(0%,0%,0%);fill-opacity:1;\">\n  <use x=\"109.954\" xlink:href=\"#glyph0-17\" y=\"123.949\"/>\n</g>\n<path d=\"M -0.001875 198.425719 L -0.001875 283.011656 \" style=\"fill:none;stroke-width:0.3985;stroke-linecap:butt;stroke-linejoin:miter;stroke:rgb(0%,0%,0%);stroke-opacity:1;stroke-miterlimit:10;\" transform=\"matrix(1,0,0,-1,118.455,319.164)\"/>\n<path d=\"M -1.197373 1.595625 C -1.09581 0.997969 0.00184625 0.0995312 0.298721 0.001875 C 0.00184625 -0.0996875 -1.09581 -0.998125 -1.197373 -1.595781 \" style=\"fill:none;stroke-width:0.31879;stroke-linecap:round;stroke-linejoin:round;stroke:rgb(0%,0%,0%);stroke-opacity:1;stroke-miterlimit:10;\" transform=\"matrix(0,-1,-1,0,118.455,36.15419)\"/>\n<path d=\"M 70.865313 201.261656 L 70.865313 195.593687 \" style=\"fill:none;stroke-width:0.3985;stroke-linecap:butt;stroke-linejoin:miter;stroke:rgb(0%,0%,0%);stroke-opacity:1;stroke-miterlimit:10;\" transform=\"matrix(1,0,0,-1,118.455,319.164)\"/>\n<g style=\"fill:rgb(0%,0%,0%);fill-opacity:1;\">\n  <use x=\"184.735\" xlink:href=\"#glyph1-2\" y=\"133.901\"/>\n</g>\n<path d=\"M 198.427813 -0.0000625 L 269.295 -0.0000625 \" style=\"fill:none;stroke-width:0.3985;stroke-linecap:butt;stroke-linejoin:miter;stroke:rgb(0%,0%,0%);stroke-opacity:1;stroke-miterlimit:10;\" transform=\"matrix(1,0,0,-1,118.455,319.164)\"/>\n<path d=\"M 269.295 -0.0000625 L 353.877031 -0.0000625 \" style=\"fill:none;stroke-width:0.3985;stroke-linecap:butt;stroke-linejoin:miter;stroke:rgb(0%,0%,0%);stroke-opacity:1;stroke-miterlimit:10;\" transform=\"matrix(1,0,0,-1,118.455,319.164)\"/>\n<path d=\"M -1.195111 1.593687 C -1.097455 0.996031 0.00020125 0.1015 0.297076 -0.0000625 C 0.00020125 -0.0977188 -1.097455 -0.996156 -1.195111 -1.593813 \" style=\"fill:none;stroke-width:0.31879;stroke-linecap:round;stroke-linejoin:round;stroke:rgb(0%,0%,0%);stroke-opacity:1;stroke-miterlimit:10;\" transform=\"matrix(1,0,0,-1,472.33183,319.164)\"/>\n<g style=\"fill:rgb(0%,0%,0%);fill-opacity:1;\">\n  <use x=\"476.306\" xlink:href=\"#glyph1-1\" y=\"329.491\"/>\n</g>\n<g style=\"fill:rgb(0%,0%,0%);fill-opacity:1;\">\n  <use x=\"482.415\" xlink:href=\"#glyph2-1\" y=\"330.986\"/>\n</g>\n<path d=\"M 198.427813 -84.582094 L 198.427813 -0.0000625 \" style=\"fill:none;stroke-width:0.3985;stroke-linecap:butt;stroke-linejoin:miter;stroke:rgb(0%,0%,0%);stroke-opacity:1;stroke-miterlimit:10;\" transform=\"matrix(1,0,0,-1,118.455,319.164)\"/>\n<path d=\"M -1.195359 1.593903 C -1.097702 0.996246 -0.00004625 0.0978088 0.300735 0.0001525 C -0.00004625 -0.10141 -1.097702 -0.995941 -1.195359 -1.593597 \" style=\"fill:none;stroke-width:0.31879;stroke-linecap:round;stroke-linejoin:round;stroke:rgb(0%,0%,0%);stroke-opacity:1;stroke-miterlimit:10;\" transform=\"matrix(0,1,1,0,316.88266,403.74614)\"/>\n<g style=\"fill:rgb(0%,0%,0%);fill-opacity:1;\">\n  <use x=\"308.379\" xlink:href=\"#glyph0-17\" y=\"322.374\"/>\n</g>\n<path d=\"M 198.427813 -0.0000625 L 198.427813 84.581969 \" style=\"fill:none;stroke-width:0.3985;stroke-linecap:butt;stroke-linejoin:miter;stroke:rgb(0%,0%,0%);stroke-opacity:1;stroke-miterlimit:10;\" transform=\"matrix(1,0,0,-1,118.455,319.164)\"/>\n<path d=\"M -1.195484 1.593597 C -1.093921 0.995941 -0.00017125 0.10141 0.30061 -0.0001525 C -0.00017125 -0.0978088 -1.093921 -0.996246 -1.195484 -1.593903 \" style=\"fill:none;stroke-width:0.31879;stroke-linecap:round;stroke-linejoin:round;stroke:rgb(0%,0%,0%);stroke-opacity:1;stroke-miterlimit:10;\" transform=\"matrix(0,-1,-1,0,316.88266,234.58186)\"/>\n<path d=\"M 269.295 2.835875 L 269.295 -2.836 \" style=\"fill:none;stroke-width:0.3985;stroke-linecap:butt;stroke-linejoin:miter;stroke:rgb(0%,0%,0%);stroke-opacity:1;stroke-miterlimit:10;\" transform=\"matrix(1,0,0,-1,118.455,319.164)\"/>\n<g style=\"fill:rgb(0%,0%,0%);fill-opacity:1;\">\n  <use x=\"383.16\" xlink:href=\"#glyph1-2\" y=\"332.326\"/>\n</g>\n<path d=\"M 198.427813 198.425719 L 269.295 198.425719 \" style=\"fill:none;stroke-width:0.3985;stroke-linecap:butt;stroke-linejoin:miter;stroke:rgb(0%,0%,0%);stroke-opacity:1;stroke-miterlimit:10;\" transform=\"matrix(1,0,0,-1,118.455,319.164)\"/>\n<path d=\"M 269.295 198.425719 L 353.877031 198.425719 \" style=\"fill:none;stroke-width:0.3985;stroke-linecap:butt;stroke-linejoin:miter;stroke:rgb(0%,0%,0%);stroke-opacity:1;stroke-miterlimit:10;\" transform=\"matrix(1,0,0,-1,118.455,319.164)\"/>\n<path d=\"M -1.195111 1.595715 C -1.097455 0.998059 0.00020125 0.0996212 0.297076 -0.00194125 C 0.00020125 -0.0995975 -1.097455 -0.998035 -1.195111 -1.595691 \" style=\"fill:none;stroke-width:0.31879;stroke-linecap:round;stroke-linejoin:round;stroke:rgb(0%,0%,0%);stroke-opacity:1;stroke-miterlimit:10;\" transform=\"matrix(1,0,0,-1,472.33183,120.73634)\"/>\n<g style=\"fill:rgb(0%,0%,0%);fill-opacity:1;\">\n  <use x=\"476.306\" xlink:href=\"#glyph1-1\" y=\"131.066\"/>\n</g>\n<g style=\"fill:rgb(0%,0%,0%);fill-opacity:1;\">\n  <use x=\"482.415\" xlink:href=\"#glyph2-1\" y=\"132.561\"/>\n</g>\n<path d=\"M 198.427813 113.843687 L 198.427813 198.425719 \" style=\"fill:none;stroke-width:0.3985;stroke-linecap:butt;stroke-linejoin:miter;stroke:rgb(0%,0%,0%);stroke-opacity:1;stroke-miterlimit:10;\" transform=\"matrix(1,0,0,-1,118.455,319.164)\"/>\n<path d=\"M -1.197406 1.593903 C -1.095844 0.996246 0.0018125 0.0978088 0.298688 0.0001525 C 0.0018125 -0.10141 -1.095844 -0.995941 -1.197406 -1.593597 \" style=\"fill:none;stroke-width:0.31879;stroke-linecap:round;stroke-linejoin:round;stroke:rgb(0%,0%,0%);stroke-opacity:1;stroke-miterlimit:10;\" transform=\"matrix(0,1,1,0,316.88266,205.3185)\"/>\n<g style=\"fill:rgb(0%,0%,0%);fill-opacity:1;\">\n  <use x=\"308.379\" xlink:href=\"#glyph0-17\" y=\"123.949\"/>\n</g>\n<path d=\"M 198.427813 198.425719 L 198.427813 283.011656 \" style=\"fill:none;stroke-width:0.3985;stroke-linecap:butt;stroke-linejoin:miter;stroke:rgb(0%,0%,0%);stroke-opacity:1;stroke-miterlimit:10;\" transform=\"matrix(1,0,0,-1,118.455,319.164)\"/>\n<path d=\"M -1.197373 1.593597 C -1.09581 0.995941 0.00184625 0.10141 0.298721 -0.0001525 C 0.00184625 -0.0978088 -1.09581 -0.996246 -1.197373 -1.593903 \" style=\"fill:none;stroke-width:0.31879;stroke-linecap:round;stroke-linejoin:round;stroke:rgb(0%,0%,0%);stroke-opacity:1;stroke-miterlimit:10;\" transform=\"matrix(0,-1,-1,0,316.88266,36.15419)\"/>\n<path d=\"M 269.295 201.261656 L 269.295 195.593687 \" style=\"fill:none;stroke-width:0.3985;stroke-linecap:butt;stroke-linejoin:miter;stroke:rgb(0%,0%,0%);stroke-opacity:1;stroke-miterlimit:10;\" transform=\"matrix(1,0,0,-1,118.455,319.164)\"/>\n<g style=\"fill:rgb(0%,0%,0%);fill-opacity:1;\">\n  <use x=\"383.16\" xlink:href=\"#glyph1-2\" y=\"133.901\"/>\n</g>\n<path d=\"M 396.853594 -0.0000625 L 467.720781 -0.0000625 \" style=\"fill:none;stroke-width:0.3985;stroke-linecap:butt;stroke-linejoin:miter;stroke:rgb(0%,0%,0%);stroke-opacity:1;stroke-miterlimit:10;\" transform=\"matrix(1,0,0,-1,118.455,319.164)\"/>\n<path d=\"M 467.720781 -0.0000625 L 552.302812 -0.0000625 \" style=\"fill:none;stroke-width:0.3985;stroke-linecap:butt;stroke-linejoin:miter;stroke:rgb(0%,0%,0%);stroke-opacity:1;stroke-miterlimit:10;\" transform=\"matrix(1,0,0,-1,118.455,319.164)\"/>\n<path d=\"M -1.197 1.593687 C -1.095438 0.996031 -0.0016875 0.1015 0.299094 -0.0000625 C -0.0016875 -0.0977188 -1.095438 -0.996156 -1.197 -1.593813 \" style=\"fill:none;stroke-width:0.31879;stroke-linecap:round;stroke-linejoin:round;stroke:rgb(0%,0%,0%);stroke-opacity:1;stroke-miterlimit:10;\" transform=\"matrix(1,0,0,-1,670.7595,319.164)\"/>\n<g style=\"fill:rgb(0%,0%,0%);fill-opacity:1;\">\n  <use x=\"674.731\" xlink:href=\"#glyph1-1\" y=\"329.491\"/>\n</g>\n<g style=\"fill:rgb(0%,0%,0%);fill-opacity:1;\">\n  <use x=\"680.84\" xlink:href=\"#glyph2-1\" y=\"330.986\"/>\n</g>\n<path d=\"M 396.853594 -84.582094 L 396.853594 -0.0000625 \" style=\"fill:none;stroke-width:0.3985;stroke-linecap:butt;stroke-linejoin:miter;stroke:rgb(0%,0%,0%);stroke-opacity:1;stroke-miterlimit:10;\" transform=\"matrix(1,0,0,-1,118.455,319.164)\"/>\n<path d=\"M -1.195359 1.59592 C -1.097702 0.994357 -0.00004625 0.0998262 0.300735 -0.00173625 C -0.00004625 -0.0993925 -1.097702 -0.99783 -1.195359 -1.595486 \" style=\"fill:none;stroke-width:0.31879;stroke-linecap:round;stroke-linejoin:round;stroke:rgb(0%,0%,0%);stroke-opacity:1;stroke-miterlimit:10;\" transform=\"matrix(0,1,1,0,515.31033,403.74614)\"/>\n<g style=\"fill:rgb(0%,0%,0%);fill-opacity:1;\">\n  <use x=\"506.805\" xlink:href=\"#glyph0-17\" y=\"322.374\"/>\n</g>\n<path d=\"M 396.853594 -0.0000625 L 396.853594 84.581969 \" style=\"fill:none;stroke-width:0.3985;stroke-linecap:butt;stroke-linejoin:miter;stroke:rgb(0%,0%,0%);stroke-opacity:1;stroke-miterlimit:10;\" transform=\"matrix(1,0,0,-1,118.455,319.164)\"/>\n<path d=\"M -1.195484 1.595486 C -1.093921 0.99783 -0.00017125 0.0993925 0.30061 0.00173625 C -0.00017125 -0.0998262 -1.093921 -0.994357 -1.195484 -1.59592 \" style=\"fill:none;stroke-width:0.31879;stroke-linecap:round;stroke-linejoin:round;stroke:rgb(0%,0%,0%);stroke-opacity:1;stroke-miterlimit:10;\" transform=\"matrix(0,-1,-1,0,515.31033,234.58186)\"/>\n<path d=\"M 467.720781 2.835875 L 467.720781 -2.836 \" style=\"fill:none;stroke-width:0.3985;stroke-linecap:butt;stroke-linejoin:miter;stroke:rgb(0%,0%,0%);stroke-opacity:1;stroke-miterlimit:10;\" transform=\"matrix(1,0,0,-1,118.455,319.164)\"/>\n<g style=\"fill:rgb(0%,0%,0%);fill-opacity:1;\">\n  <use x=\"581.585\" xlink:href=\"#glyph1-2\" y=\"332.326\"/>\n</g>\n<path d=\"M 396.853594 198.425719 L 467.720781 198.425719 \" style=\"fill:none;stroke-width:0.3985;stroke-linecap:butt;stroke-linejoin:miter;stroke:rgb(0%,0%,0%);stroke-opacity:1;stroke-miterlimit:10;\" transform=\"matrix(1,0,0,-1,118.455,319.164)\"/>\n<path d=\"M 467.720781 198.425719 L 552.302812 198.425719 \" style=\"fill:none;stroke-width:0.3985;stroke-linecap:butt;stroke-linejoin:miter;stroke:rgb(0%,0%,0%);stroke-opacity:1;stroke-miterlimit:10;\" transform=\"matrix(1,0,0,-1,118.455,319.164)\"/>\n<path d=\"M -1.197 1.595715 C -1.095438 0.998059 -0.0016875 0.0996212 0.299094 -0.00194125 C -0.0016875 -0.0995975 -1.095438 -0.998035 -1.197 -1.595691 \" style=\"fill:none;stroke-width:0.31879;stroke-linecap:round;stroke-linejoin:round;stroke:rgb(0%,0%,0%);stroke-opacity:1;stroke-miterlimit:10;\" transform=\"matrix(1,0,0,-1,670.7595,120.73634)\"/>\n<g style=\"fill:rgb(0%,0%,0%);fill-opacity:1;\">\n  <use x=\"674.731\" xlink:href=\"#glyph1-1\" y=\"131.066\"/>\n</g>\n<g style=\"fill:rgb(0%,0%,0%);fill-opacity:1;\">\n  <use x=\"680.84\" xlink:href=\"#glyph2-1\" y=\"132.561\"/>\n</g>\n<path d=\"M 396.853594 113.843687 L 396.853594 198.425719 \" style=\"fill:none;stroke-width:0.3985;stroke-linecap:butt;stroke-linejoin:miter;stroke:rgb(0%,0%,0%);stroke-opacity:1;stroke-miterlimit:10;\" transform=\"matrix(1,0,0,-1,118.455,319.164)\"/>\n<path d=\"M -1.197406 1.59592 C -1.095844 0.994357 0.0018125 0.0998262 0.298688 -0.00173625 C 0.0018125 -0.0993925 -1.095844 -0.99783 -1.197406 -1.595486 \" style=\"fill:none;stroke-width:0.31879;stroke-linecap:round;stroke-linejoin:round;stroke:rgb(0%,0%,0%);stroke-opacity:1;stroke-miterlimit:10;\" transform=\"matrix(0,1,1,0,515.31033,205.3185)\"/>\n<g style=\"fill:rgb(0%,0%,0%);fill-opacity:1;\">\n  <use x=\"506.805\" xlink:href=\"#glyph0-17\" y=\"123.949\"/>\n</g>\n<path d=\"M 396.853594 198.425719 L 396.853594 283.011656 \" style=\"fill:none;stroke-width:0.3985;stroke-linecap:butt;stroke-linejoin:miter;stroke:rgb(0%,0%,0%);stroke-opacity:1;stroke-miterlimit:10;\" transform=\"matrix(1,0,0,-1,118.455,319.164)\"/>\n<path d=\"M -1.197373 1.595486 C -1.09581 0.99783 0.00184625 0.0993925 0.298721 0.00173625 C 0.00184625 -0.0998262 -1.09581 -0.994357 -1.197373 -1.59592 \" style=\"fill:none;stroke-width:0.31879;stroke-linecap:round;stroke-linejoin:round;stroke:rgb(0%,0%,0%);stroke-opacity:1;stroke-miterlimit:10;\" transform=\"matrix(0,-1,-1,0,515.31033,36.15419)\"/>\n<path d=\"M 467.720781 201.261656 L 467.720781 195.593687 \" style=\"fill:none;stroke-width:0.3985;stroke-linecap:butt;stroke-linejoin:miter;stroke:rgb(0%,0%,0%);stroke-opacity:1;stroke-miterlimit:10;\" transform=\"matrix(1,0,0,-1,118.455,319.164)\"/>\n<g style=\"fill:rgb(0%,0%,0%);fill-opacity:1;\">\n  <use x=\"581.585\" xlink:href=\"#glyph1-2\" y=\"133.901\"/>\n</g>\n<path d=\"M -0.001875 70.867125 L 141.7325 -70.86725 \" style=\"fill:none;stroke-width:0.79701;stroke-linecap:butt;stroke-linejoin:miter;stroke:rgb(0%,0%,0%);stroke-opacity:1;stroke-miterlimit:10;\" transform=\"matrix(1,0,0,-1,118.455,319.164)\"/>\n<g style=\"fill:rgb(0%,0%,0%);fill-opacity:1;\">\n  <use x=\"243.32\" xlink:href=\"#glyph1-2\" y=\"400.557\"/>\n</g>\n<g style=\"fill:rgb(0%,0%,0%);fill-opacity:1;\">\n  <use x=\"254.708\" xlink:href=\"#glyph3-1\" y=\"400.557\"/>\n</g>\n<g style=\"fill:rgb(0%,0%,0%);fill-opacity:1;\">\n  <use x=\"264.67\" xlink:href=\"#glyph1-1\" y=\"400.557\"/>\n</g>\n<g style=\"fill:rgb(0%,0%,0%);fill-opacity:1;\">\n  <use x=\"270.779\" xlink:href=\"#glyph2-1\" y=\"402.051\"/>\n</g>\n<path d=\"M 198.427813 -0.0000625 L 269.295 -0.0000625 \" style=\"fill:none;stroke-width:0.79701;stroke-linecap:butt;stroke-linejoin:miter;stroke:rgb(0%,0%,0%);stroke-opacity:1;stroke-miterlimit:10;\" transform=\"matrix(1,0,0,-1,118.455,319.164)\"/>\n<path d=\"M 269.295 -0.0000625 L 340.162188 -70.86725 \" style=\"fill:none;stroke-width:0.79701;stroke-linecap:butt;stroke-linejoin:miter;stroke:rgb(0%,0%,0%);stroke-opacity:1;stroke-miterlimit:10;\" transform=\"matrix(1,0,0,-1,118.455,319.164)\"/>\n<g style=\"fill:rgb(0%,0%,0%);fill-opacity:1;\">\n  <use x=\"419.467\" xlink:href=\"#glyph3-1\" y=\"401.221\"/>\n</g>\n<g style=\"fill:rgb(0%,0%,0%);fill-opacity:1;\">\n  <use x=\"428.876\" xlink:href=\"#glyph0-18\" y=\"401.221\"/>\n  <use x=\"437.177835\" xlink:href=\"#glyph0-13\" y=\"401.221\"/>\n  <use x=\"442.159135\" xlink:href=\"#glyph0-19\" y=\"401.221\"/>\n  <use x=\"447.417395\" xlink:href=\"#glyph0-20\" y=\"401.221\"/>\n</g>\n<g style=\"fill:rgb(0%,0%,0%);fill-opacity:1;\">\n  <use x=\"451.293\" xlink:href=\"#glyph1-1\" y=\"401.221\"/>\n</g>\n<g style=\"fill:rgb(0%,0%,0%);fill-opacity:1;\">\n  <use x=\"457.402\" xlink:href=\"#glyph2-1\" y=\"402.715\"/>\n</g>\n<g style=\"fill:rgb(0%,0%,0%);fill-opacity:1;\">\n  <use x=\"465.892\" xlink:href=\"#glyph3-1\" y=\"401.221\"/>\n</g>\n<g style=\"fill:rgb(0%,0%,0%);fill-opacity:1;\">\n  <use x=\"475.854\" xlink:href=\"#glyph1-2\" y=\"401.221\"/>\n</g>\n<g style=\"fill:rgb(0%,0%,0%);fill-opacity:1;\">\n  <use x=\"484.474638\" xlink:href=\"#glyph1-3\" y=\"401.221\"/>\n</g>\n<g style=\"fill:rgb(0%,0%,0%);fill-opacity:1;\">\n  <use x=\"488.902\" xlink:href=\"#glyph0-17\" y=\"401.221\"/>\n  <use x=\"493.8833\" xlink:href=\"#glyph0-21\" y=\"401.221\"/>\n</g>\n<path d=\"M 467.720781 -0.0000625 L 538.587969 -0.0000625 \" style=\"fill:none;stroke-width:0.79701;stroke-linecap:butt;stroke-linejoin:miter;stroke:rgb(0%,0%,0%);stroke-opacity:1;stroke-miterlimit:10;\" transform=\"matrix(1,0,0,-1,118.455,319.164)\"/>\n<g style=\"fill:rgb(0%,0%,0%);fill-opacity:1;\">\n  <use x=\"617.616\" xlink:href=\"#glyph3-1\" y=\"312.954\"/>\n</g>\n<g style=\"fill:rgb(0%,0%,0%);fill-opacity:1;\">\n  <use x=\"627.025\" xlink:href=\"#glyph0-18\" y=\"312.954\"/>\n  <use x=\"635.326835\" xlink:href=\"#glyph0-13\" y=\"312.954\"/>\n  <use x=\"640.308135\" xlink:href=\"#glyph0-19\" y=\"312.954\"/>\n  <use x=\"645.566395\" xlink:href=\"#glyph0-20\" y=\"312.954\"/>\n</g>\n<g style=\"fill:rgb(0%,0%,0%);fill-opacity:1;\">\n  <use x=\"649.441\" xlink:href=\"#glyph1-2\" y=\"312.954\"/>\n</g>\n<g style=\"fill:rgb(0%,0%,0%);fill-opacity:1;\">\n  <use x=\"660.829\" xlink:href=\"#glyph3-1\" y=\"312.954\"/>\n</g>\n<g style=\"fill:rgb(0%,0%,0%);fill-opacity:1;\">\n  <use x=\"670.791\" xlink:href=\"#glyph1-1\" y=\"312.954\"/>\n</g>\n<g style=\"fill:rgb(0%,0%,0%);fill-opacity:1;\">\n  <use x=\"676.9\" xlink:href=\"#glyph2-1\" y=\"314.448\"/>\n</g>\n<g style=\"fill:rgb(0%,0%,0%);fill-opacity:1;\">\n  <use x=\"683.176\" xlink:href=\"#glyph1-3\" y=\"312.954\"/>\n</g>\n<g style=\"fill:rgb(0%,0%,0%);fill-opacity:1;\">\n  <use x=\"687.604\" xlink:href=\"#glyph0-17\" y=\"312.954\"/>\n  <use x=\"692.5853\" xlink:href=\"#glyph0-21\" y=\"312.954\"/>\n</g>\n<path d=\"M 396.853594 -70.86725 L 467.720781 -0.0000625 \" style=\"fill:none;stroke-width:0.79701;stroke-linecap:butt;stroke-linejoin:miter;stroke:rgb(0%,0%,0%);stroke-opacity:1;stroke-miterlimit:10;\" transform=\"matrix(1,0,0,-1,118.455,319.164)\"/>\n<path d=\"M -0.001875 127.562437 L 141.7325 269.292906 \" style=\"fill:none;stroke-width:0.79701;stroke-linecap:butt;stroke-linejoin:miter;stroke:rgb(0%,0%,0%);stroke-opacity:1;stroke-miterlimit:10;\" transform=\"matrix(1,0,0,-1,118.455,319.164)\"/>\n<g style=\"fill:rgb(0%,0%,0%);fill-opacity:1;\">\n  <use x=\"243.32\" xlink:href=\"#glyph1-1\" y=\"44.659\"/>\n</g>\n<g style=\"fill:rgb(0%,0%,0%);fill-opacity:1;\">\n  <use x=\"249.429\" xlink:href=\"#glyph2-1\" y=\"46.154\"/>\n</g>\n<g style=\"fill:rgb(0%,0%,0%);fill-opacity:1;\">\n  <use x=\"257.919\" xlink:href=\"#glyph3-1\" y=\"44.659\"/>\n</g>\n<g style=\"fill:rgb(0%,0%,0%);fill-opacity:1;\">\n  <use x=\"267.881\" xlink:href=\"#glyph1-2\" y=\"44.659\"/>\n</g>\n<path d=\"M 198.427813 198.425719 L 269.295 198.425719 \" style=\"fill:none;stroke-width:0.79701;stroke-linecap:butt;stroke-linejoin:miter;stroke:rgb(0%,0%,0%);stroke-opacity:1;stroke-miterlimit:10;\" transform=\"matrix(1,0,0,-1,118.455,319.164)\"/>\n<path d=\"M 269.295 198.425719 L 340.162188 269.292906 \" style=\"fill:none;stroke-width:0.79701;stroke-linecap:butt;stroke-linejoin:miter;stroke:rgb(0%,0%,0%);stroke-opacity:1;stroke-miterlimit:10;\" transform=\"matrix(1,0,0,-1,118.455,319.164)\"/>\n<g style=\"fill:rgb(0%,0%,0%);fill-opacity:1;\">\n  <use x=\"424.172\" xlink:href=\"#glyph0-18\" y=\"43.663\"/>\n  <use x=\"432.473835\" xlink:href=\"#glyph0-13\" y=\"43.663\"/>\n  <use x=\"437.455135\" xlink:href=\"#glyph0-19\" y=\"43.663\"/>\n  <use x=\"442.713395\" xlink:href=\"#glyph0-20\" y=\"43.663\"/>\n</g>\n<g style=\"fill:rgb(0%,0%,0%);fill-opacity:1;\">\n  <use x=\"446.588\" xlink:href=\"#glyph1-1\" y=\"43.663\"/>\n</g>\n<g style=\"fill:rgb(0%,0%,0%);fill-opacity:1;\">\n  <use x=\"452.697\" xlink:href=\"#glyph2-1\" y=\"45.157\"/>\n</g>\n<g style=\"fill:rgb(0%,0%,0%);fill-opacity:1;\">\n  <use x=\"461.187\" xlink:href=\"#glyph3-1\" y=\"43.663\"/>\n</g>\n<g style=\"fill:rgb(0%,0%,0%);fill-opacity:1;\">\n  <use x=\"471.15\" xlink:href=\"#glyph1-2\" y=\"43.663\"/>\n</g>\n<g style=\"fill:rgb(0%,0%,0%);fill-opacity:1;\">\n  <use x=\"479.770638\" xlink:href=\"#glyph1-3\" y=\"43.663\"/>\n</g>\n<g style=\"fill:rgb(0%,0%,0%);fill-opacity:1;\">\n  <use x=\"484.198\" xlink:href=\"#glyph0-17\" y=\"43.663\"/>\n  <use x=\"489.1793\" xlink:href=\"#glyph0-21\" y=\"43.663\"/>\n</g>\n<path d=\"M 467.720781 198.425719 L 538.587969 198.425719 \" style=\"fill:none;stroke-width:0.79701;stroke-linecap:butt;stroke-linejoin:miter;stroke:rgb(0%,0%,0%);stroke-opacity:1;stroke-miterlimit:10;\" transform=\"matrix(1,0,0,-1,118.455,319.164)\"/>\n<g style=\"fill:rgb(0%,0%,0%);fill-opacity:1;\">\n  <use x=\"622.32\" xlink:href=\"#glyph0-18\" y=\"114.529\"/>\n  <use x=\"630.621835\" xlink:href=\"#glyph0-13\" y=\"114.529\"/>\n  <use x=\"635.603135\" xlink:href=\"#glyph0-19\" y=\"114.529\"/>\n  <use x=\"640.861395\" xlink:href=\"#glyph0-20\" y=\"114.529\"/>\n</g>\n<g style=\"fill:rgb(0%,0%,0%);fill-opacity:1;\">\n  <use x=\"644.736\" xlink:href=\"#glyph1-2\" y=\"114.529\"/>\n</g>\n<g style=\"fill:rgb(0%,0%,0%);fill-opacity:1;\">\n  <use x=\"656.124\" xlink:href=\"#glyph3-1\" y=\"114.529\"/>\n</g>\n<g style=\"fill:rgb(0%,0%,0%);fill-opacity:1;\">\n  <use x=\"666.087\" xlink:href=\"#glyph1-1\" y=\"114.529\"/>\n</g>\n<g style=\"fill:rgb(0%,0%,0%);fill-opacity:1;\">\n  <use x=\"672.196\" xlink:href=\"#glyph2-1\" y=\"116.023\"/>\n</g>\n<g style=\"fill:rgb(0%,0%,0%);fill-opacity:1;\">\n  <use x=\"678.472\" xlink:href=\"#glyph1-3\" y=\"114.529\"/>\n</g>\n<g style=\"fill:rgb(0%,0%,0%);fill-opacity:1;\">\n  <use x=\"682.9\" xlink:href=\"#glyph0-17\" y=\"114.529\"/>\n  <use x=\"687.8813\" xlink:href=\"#glyph0-21\" y=\"114.529\"/>\n</g>\n<path d=\"M 396.853594 269.292906 L 467.720781 198.425719 \" style=\"fill:none;stroke-width:0.79701;stroke-linecap:butt;stroke-linejoin:miter;stroke:rgb(0%,0%,0%);stroke-opacity:1;stroke-miterlimit:10;\" transform=\"matrix(1,0,0,-1,118.455,319.164)\"/>\n</g>\n</svg>"
     },
     "metadata": {
      "isolated": "true",
      "tags": []
     },
     "output_type": "display_data"
    }
   ],
   "source": [
    "#@title derivatives\n",
    "\n",
    "%%tikz -l positioning -f svg -s 1000,800\n",
    "\\node at (-3,0) {short position};\n",
    "\\node at (-3,7) {long position};\n",
    "\\node at (3, 11) {forward};\n",
    "\\node at (10, 11) {call};\n",
    "\\node at (17, 11) {put};\n",
    "\n",
    "\\foreach \\x in {0, 7, 14}\n",
    "    \\foreach \\y in {0, 7}\n",
    "{\n",
    "    \\draw[] (\\x,\\y) -- (\\x+2.5,\\y);\n",
    "    \\draw[->] (\\x+2.5,\\y) -- (\\x+5.5,\\y) node[below right] (S_T) {$S_T$};\n",
    "    \\draw [<-] (\\x,\\y-3) -- (\\x,\\y) node[left] {$0$};\n",
    "    \\draw [->] (\\x,\\y) -- (\\x,\\y+3) node[left] {};\n",
    "    \\draw (\\x+2.5,\\y+0.1) -- (\\x+2.5,\\y-0.1) node[below] {$K$};\n",
    "}\n",
    "\n",
    "\\draw[thick] (0, 2.5) -- (5,-2.5) node[below] {$K-S_T$};\n",
    "\\draw[thick] (7, 0) -- (9.5, 0);\n",
    "\\draw[thick] (9.5,0) -- (12,-2.5) node[below] {$-\\max(S_T - K, 0)$};\n",
    "\\draw[thick] (16.5, 0) -- (19, 0) node[above] {$-\\max(K-S_T, 0)$};\n",
    "\\draw[thick] (14,-2.5) -- (16.5,0) ;\n",
    "\n",
    "\\draw[thick] (0, 4.5) -- (5,9.5) node[above] {$S_T - K$};\n",
    "\\draw[thick] (7, 7) -- (9.5, 7);\n",
    "\\draw[thick] (9.5,7) -- (12,9.5) node[above] {$\\max(S_T - K, 0)$};\n",
    "\\draw[thick] (16.5, 7) -- (19, 7) node[above] {$\\max(K-S_T, 0)$};\n",
    "\\draw[thick] (14,9.5) -- (16.5,7) ;\n"
   ]
  },
  {
   "cell_type": "code",
   "execution_count": null,
   "metadata": {
    "id": "pF7kvy2RsgNW"
   },
   "outputs": [],
   "source": [
    "\\draw [] (0,0) -- (2.5,0) ;\n",
    "\\draw[->] (2.5,0) -- (5.5,0) node[below right] (S_T) {$S_T$};\n",
    "\\draw [<-] (0,-3) -- (0,0) node[left] {$0$};\n",
    "\\draw [->] (0,0) -- (0,3) node[left] {payoff};\n",
    "\\draw (2.5,0.1) -- (2.5,-0.1) node[below] {$K$};\n",
    "\n",
    "\\draw [dashed] (0,-2.5) --(2.5,0);\n",
    "\\draw (2.5,0) -- (5,2.5);\n",
    "\n",
    "\\draw [] (10,0) -- (2.5,0) ;\n",
    "\\draw[->] (2.5,0) -- (5.5,0) node[below right] (S_T) {$S_T$};\n",
    "\\draw [<-] (0,-3) -- (0,0) node[left] {$0$};\n",
    "\\draw [->] (0,0) -- (0,3) node[left] {payoff};\n",
    "\\draw (2.5,0.1) -- (2.5,-0.1) node[below] {$K$};\n",
    "\n",
    "\\draw [dashed] (0,-2.5) --(2.5,0);\n",
    "\\draw (2.5,0) -- (5,2.5);"
   ]
  }
 ],
 "metadata": {
  "colab": {
   "authorship_tag": "ABX9TyPTCuW0AiZ0sxgRro8YS5/3",
   "collapsed_sections": [
    "KzkOsTGWcw9C",
    "9nSOUuyUTDgh",
    "6wrXZZw_oOIy",
    "30lmKPQqp-HT",
    "6lBnD3meqE7G",
    "tuZVTsdyGLCu",
    "JPiPvZ7gJeVw",
    "VuI8ZbcOMe9b",
    "LOyfL7S6Mmhe",
    "uvp40PmqNGqj",
    "W8ZnPGzPMvX6",
    "PLeIX7a4M1vD"
   ],
   "include_colab_link": true,
   "name": "financial engineering part 1.ipynb",
   "provenance": []
  },
  "kernelspec": {
   "display_name": "Python 3",
   "language": "python",
   "name": "python3"
  },
  "language_info": {
   "codemirror_mode": {
    "name": "ipython",
    "version": 3
   },
   "file_extension": ".py",
   "mimetype": "text/x-python",
   "name": "python",
   "nbconvert_exporter": "python",
   "pygments_lexer": "ipython3",
   "version": "3.10.4"
  }
 },
 "nbformat": 4,
 "nbformat_minor": 4
}
