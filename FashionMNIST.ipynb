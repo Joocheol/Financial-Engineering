{
 "cells": [
  {
   "cell_type": "code",
   "execution_count": 1,
   "id": "7cd0c951",
   "metadata": {},
   "outputs": [],
   "source": [
    "import manim"
   ]
  },
  {
   "cell_type": "code",
   "execution_count": 2,
   "id": "8ad6d961",
   "metadata": {},
   "outputs": [
    {
     "name": "stderr",
     "output_type": "stream",
     "text": [
      "                                                                                                                       \r"
     ]
    },
    {
     "data": {
      "text/html": [
       "<video src=\"media\\jupyter\\0eb11fb07e2e3bd6ff7c56015bf1f8089dc4d1e0.mp4\" controls autoplay loop style=\"max-width: 25vw;\"  >\n",
       "      Your browser does not support the <code>video</code> element.\n",
       "    </video>"
      ],
      "text/plain": [
       "<IPython.core.display.Video object>"
      ]
     },
     "metadata": {},
     "output_type": "display_data"
    }
   ],
   "source": [
    "%%manim NN -v CRITICAL\n",
    "\n",
    "from manim import *\n",
    "\n",
    "class NN(Scene):\n",
    "    def construct(self):\n",
    "        \n",
    "        \n",
    "        for i in np.arange(-3,3.1,0.5):\n",
    "            rect = Rectangle(height=0.5, width=0.5).move_to([i,3,0])\n",
    "            self.play(Create(rect), run_time=0.1)\n",
    "        self.wait()\n",
    "        \n",
    "        for i in np.arange(-5.25,5.26,0.5):\n",
    "            c = Circle(radius=0.5/2).move_to([i,0,0])\n",
    "            self.play(Create(c), run_time=0.1)\n",
    "        self.wait()\n",
    "        \n",
    "        for i in np.arange(-2.25,2.75,0.5):\n",
    "            c = Circle(radius=0.5/2, color=BLUE).move_to([i,-3,0])\n",
    "            self.play(Create(c), run_time=0.1)\n",
    "        self.wait()\n",
    "        \n",
    "        for j in np.arange(-5.25,5.26,0.5):\n",
    "            for i in np.arange(-3,3.1,0.5):\n",
    "                l = Line([j,0,0], [i,3,0], stroke_width=0.5)\n",
    "                self.play(Create(l), run_time=0.01)\n",
    "        self.wait()\n",
    "        \n",
    "        for j in np.arange(-2.25,2.75,0.5):\n",
    "            for i in np.arange(-5.25,5.26,0.5):\n",
    "                l = Line([j,-3,0], [i,0,0], stroke_width=0.5)\n",
    "                self.play(Create(l), run_time=0.01)\n",
    "        self.wait()\n",
    "        \n",
    "        "
   ]
  },
  {
   "cell_type": "code",
   "execution_count": null,
   "id": "2f226f61",
   "metadata": {},
   "outputs": [],
   "source": []
  }
 ],
 "metadata": {
  "kernelspec": {
   "display_name": "Python 3",
   "language": "python",
   "name": "python3"
  },
  "language_info": {
   "codemirror_mode": {
    "name": "ipython",
    "version": 3
   },
   "file_extension": ".py",
   "mimetype": "text/x-python",
   "name": "python",
   "nbconvert_exporter": "python",
   "pygments_lexer": "ipython3",
   "version": "3.9.1"
  }
 },
 "nbformat": 4,
 "nbformat_minor": 5
}
