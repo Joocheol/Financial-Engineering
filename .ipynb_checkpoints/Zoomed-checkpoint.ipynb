{
 "cells": [
  {
   "cell_type": "code",
   "execution_count": 1,
   "id": "8ec1d0ba",
   "metadata": {},
   "outputs": [],
   "source": [
    "import manim"
   ]
  },
  {
   "cell_type": "code",
   "execution_count": 4,
   "id": "db16dd10",
   "metadata": {},
   "outputs": [
    {
     "name": "stderr",
     "output_type": "stream",
     "text": [
      "                                                                                                                       \r"
     ]
    },
    {
     "data": {
      "text/html": [
       "<pre style=\"white-space:pre;overflow-x:auto;line-height:normal;font-family:Menlo,'DejaVu Sans Mono',consolas,'Courier New',monospace\"><span style=\"color: #7fbfbf\">[04/24/21 06:06:40] </span><span style=\"color: #008000\">INFO</span>     Animation <span style=\"color: #008000\">0</span> : Partial movie file        <a href=\"file://C:\\Users\\jooch\\miniconda3\\lib\\site-packages\\manim\\scene\\scene_file_writer.py\"><span style=\"color: #7f7f7f\">scene_file_writer.py</span></a><span style=\"color: #7f7f7f\">:395</span>\n",
       "                             written in <span style=\"font-weight: bold\">{</span><span style=\"color: #008000\">'C:\\\\Users\\\\jooch\\\\project\\</span>                         \n",
       "                             <span style=\"color: #008000\">\\Financial-Engineering\\\\media\\\\videos\\\\</span>                         \n",
       "                             <span style=\"color: #008000\">Financial-Engineering\\\\1080p60\\\\partial</span>                         \n",
       "                             <span style=\"color: #008000\">_movie_files\\\\Z\\\\1830533239_2118968198_</span>                         \n",
       "                             <span style=\"color: #008000\">1229285984.mp4'</span><span style=\"font-weight: bold\">}</span>                                                \n",
       "</pre>\n"
      ],
      "text/plain": [
       "<rich.jupyter.JupyterRenderable at 0x138f2482ca0>"
      ]
     },
     "metadata": {},
     "output_type": "display_data"
    },
    {
     "name": "stderr",
     "output_type": "stream",
     "text": [
      "                                                                                                                       \r"
     ]
    },
    {
     "data": {
      "text/html": [
       "<pre style=\"white-space:pre;overflow-x:auto;line-height:normal;font-family:Menlo,'DejaVu Sans Mono',consolas,'Courier New',monospace\"><span style=\"color: #7fbfbf\">[04/24/21 06:06:57] </span><span style=\"color: #008000\">INFO</span>     Animation <span style=\"color: #008000\">1</span> : Partial movie file        <a href=\"file://C:\\Users\\jooch\\miniconda3\\lib\\site-packages\\manim\\scene\\scene_file_writer.py\"><span style=\"color: #7f7f7f\">scene_file_writer.py</span></a><span style=\"color: #7f7f7f\">:395</span>\n",
       "                             written in <span style=\"font-weight: bold\">{</span><span style=\"color: #008000\">'C:\\\\Users\\\\jooch\\\\project\\</span>                         \n",
       "                             <span style=\"color: #008000\">\\Financial-Engineering\\\\media\\\\videos\\\\</span>                         \n",
       "                             <span style=\"color: #008000\">Financial-Engineering\\\\1080p60\\\\partial</span>                         \n",
       "                             <span style=\"color: #008000\">_movie_files\\\\Z\\\\553899317_2440945754_3</span>                         \n",
       "                             <span style=\"color: #008000\">796580303.mp4'</span><span style=\"font-weight: bold\">}</span>                                                 \n",
       "</pre>\n"
      ],
      "text/plain": [
       "<rich.jupyter.JupyterRenderable at 0x138f2bef760>"
      ]
     },
     "metadata": {},
     "output_type": "display_data"
    },
    {
     "name": "stderr",
     "output_type": "stream",
     "text": [
      "                                                                                                                       \r"
     ]
    },
    {
     "data": {
      "text/html": [
       "<pre style=\"white-space:pre;overflow-x:auto;line-height:normal;font-family:Menlo,'DejaVu Sans Mono',consolas,'Courier New',monospace\"><span style=\"color: #7fbfbf\">[04/24/21 06:07:14] </span><span style=\"color: #008000\">INFO</span>     Animation <span style=\"color: #008000\">2</span> : Partial movie file        <a href=\"file://C:\\Users\\jooch\\miniconda3\\lib\\site-packages\\manim\\scene\\scene_file_writer.py\"><span style=\"color: #7f7f7f\">scene_file_writer.py</span></a><span style=\"color: #7f7f7f\">:395</span>\n",
       "                             written in <span style=\"font-weight: bold\">{</span><span style=\"color: #008000\">'C:\\\\Users\\\\jooch\\\\project\\</span>                         \n",
       "                             <span style=\"color: #008000\">\\Financial-Engineering\\\\media\\\\videos\\\\</span>                         \n",
       "                             <span style=\"color: #008000\">Financial-Engineering\\\\1080p60\\\\partial</span>                         \n",
       "                             <span style=\"color: #008000\">_movie_files\\\\Z\\\\1232298485_504960091_1</span>                         \n",
       "                             <span style=\"color: #008000\">707410483.mp4'</span><span style=\"font-weight: bold\">}</span>                                                 \n",
       "</pre>\n"
      ],
      "text/plain": [
       "<rich.jupyter.JupyterRenderable at 0x138f4c0ee80>"
      ]
     },
     "metadata": {},
     "output_type": "display_data"
    },
    {
     "name": "stderr",
     "output_type": "stream",
     "text": [
      "                                                                                                                       \r"
     ]
    },
    {
     "data": {
      "text/html": [
       "<pre style=\"white-space:pre;overflow-x:auto;line-height:normal;font-family:Menlo,'DejaVu Sans Mono',consolas,'Courier New',monospace\"><span style=\"color: #7fbfbf\">[04/24/21 06:07:31] </span><span style=\"color: #008000\">INFO</span>     Animation <span style=\"color: #008000\">3</span> : Partial movie file        <a href=\"file://C:\\Users\\jooch\\miniconda3\\lib\\site-packages\\manim\\scene\\scene_file_writer.py\"><span style=\"color: #7f7f7f\">scene_file_writer.py</span></a><span style=\"color: #7f7f7f\">:395</span>\n",
       "                             written in <span style=\"font-weight: bold\">{</span><span style=\"color: #008000\">'C:\\\\Users\\\\jooch\\\\project\\</span>                         \n",
       "                             <span style=\"color: #008000\">\\Financial-Engineering\\\\media\\\\videos\\\\</span>                         \n",
       "                             <span style=\"color: #008000\">Financial-Engineering\\\\1080p60\\\\partial</span>                         \n",
       "                             <span style=\"color: #008000\">_movie_files\\\\Z\\\\2683054065_2880178406_</span>                         \n",
       "                             <span style=\"color: #008000\">3303737466.mp4'</span><span style=\"font-weight: bold\">}</span>                                                \n",
       "</pre>\n"
      ],
      "text/plain": [
       "<rich.jupyter.JupyterRenderable at 0x13880813700>"
      ]
     },
     "metadata": {},
     "output_type": "display_data"
    },
    {
     "data": {
      "text/html": [
       "<pre style=\"white-space:pre;overflow-x:auto;line-height:normal;font-family:Menlo,'DejaVu Sans Mono',consolas,'Courier New',monospace\"><span style=\"color: #7fbfbf\">[04/24/21 06:07:33] </span><span style=\"color: #008000\">INFO</span>     Animation <span style=\"color: #008000\">4</span> : Partial movie file        <a href=\"file://C:\\Users\\jooch\\miniconda3\\lib\\site-packages\\manim\\scene\\scene_file_writer.py\"><span style=\"color: #7f7f7f\">scene_file_writer.py</span></a><span style=\"color: #7f7f7f\">:395</span>\n",
       "                             written in <span style=\"font-weight: bold\">{</span><span style=\"color: #008000\">'C:\\\\Users\\\\jooch\\\\project\\</span>                         \n",
       "                             <span style=\"color: #008000\">\\Financial-Engineering\\\\media\\\\videos\\\\</span>                         \n",
       "                             <span style=\"color: #008000\">Financial-Engineering\\\\1080p60\\\\partial</span>                         \n",
       "                             <span style=\"color: #008000\">_movie_files\\\\Z\\\\1538356189_1438405273_</span>                         \n",
       "                             <span style=\"color: #008000\">3883744793.mp4'</span><span style=\"font-weight: bold\">}</span>                                                \n",
       "</pre>\n"
      ],
      "text/plain": [
       "<rich.jupyter.JupyterRenderable at 0x138f4c0e370>"
      ]
     },
     "metadata": {},
     "output_type": "display_data"
    },
    {
     "name": "stderr",
     "output_type": "stream",
     "text": [
      "                                                                                                                       \r"
     ]
    },
    {
     "data": {
      "text/html": [
       "<pre style=\"white-space:pre;overflow-x:auto;line-height:normal;font-family:Menlo,'DejaVu Sans Mono',consolas,'Courier New',monospace\"><span style=\"color: #7fbfbf\">[04/24/21 06:08:04] </span><span style=\"color: #008000\">INFO</span>     Animation <span style=\"color: #008000\">5</span> : Partial movie file        <a href=\"file://C:\\Users\\jooch\\miniconda3\\lib\\site-packages\\manim\\scene\\scene_file_writer.py\"><span style=\"color: #7f7f7f\">scene_file_writer.py</span></a><span style=\"color: #7f7f7f\">:395</span>\n",
       "                             written in <span style=\"font-weight: bold\">{</span><span style=\"color: #008000\">'C:\\\\Users\\\\jooch\\\\project\\</span>                         \n",
       "                             <span style=\"color: #008000\">\\Financial-Engineering\\\\media\\\\videos\\\\</span>                         \n",
       "                             <span style=\"color: #008000\">Financial-Engineering\\\\1080p60\\\\partial</span>                         \n",
       "                             <span style=\"color: #008000\">_movie_files\\\\Z\\\\1276318077_3928909698_</span>                         \n",
       "                             <span style=\"color: #008000\">1136204102.mp4'</span><span style=\"font-weight: bold\">}</span>                                                \n",
       "</pre>\n"
      ],
      "text/plain": [
       "<rich.jupyter.JupyterRenderable at 0x138f23e1160>"
      ]
     },
     "metadata": {},
     "output_type": "display_data"
    },
    {
     "data": {
      "text/html": [
       "<pre style=\"white-space:pre;overflow-x:auto;line-height:normal;font-family:Menlo,'DejaVu Sans Mono',consolas,'Courier New',monospace\"><span style=\"color: #7fbfbf\">[04/24/21 06:08:06] </span><span style=\"color: #008000\">INFO</span>     Animation <span style=\"color: #008000\">6</span> : Partial movie file        <a href=\"file://C:\\Users\\jooch\\miniconda3\\lib\\site-packages\\manim\\scene\\scene_file_writer.py\"><span style=\"color: #7f7f7f\">scene_file_writer.py</span></a><span style=\"color: #7f7f7f\">:395</span>\n",
       "                             written in <span style=\"font-weight: bold\">{</span><span style=\"color: #008000\">'C:\\\\Users\\\\jooch\\\\project\\</span>                         \n",
       "                             <span style=\"color: #008000\">\\Financial-Engineering\\\\media\\\\videos\\\\</span>                         \n",
       "                             <span style=\"color: #008000\">Financial-Engineering\\\\1080p60\\\\partial</span>                         \n",
       "                             <span style=\"color: #008000\">_movie_files\\\\Z\\\\2429993910_1438405273_</span>                         \n",
       "                             <span style=\"color: #008000\">3883744793.mp4'</span><span style=\"font-weight: bold\">}</span>                                                \n",
       "</pre>\n"
      ],
      "text/plain": [
       "<rich.jupyter.JupyterRenderable at 0x138f4c0e370>"
      ]
     },
     "metadata": {},
     "output_type": "display_data"
    },
    {
     "name": "stderr",
     "output_type": "stream",
     "text": [
      "                                                                                                                       \r"
     ]
    },
    {
     "data": {
      "text/html": [
       "<pre style=\"white-space:pre;overflow-x:auto;line-height:normal;font-family:Menlo,'DejaVu Sans Mono',consolas,'Courier New',monospace\"><span style=\"color: #7fbfbf\">[04/24/21 06:08:56] </span><span style=\"color: #008000\">INFO</span>     Animation <span style=\"color: #008000\">7</span> : Partial movie file        <a href=\"file://C:\\Users\\jooch\\miniconda3\\lib\\site-packages\\manim\\scene\\scene_file_writer.py\"><span style=\"color: #7f7f7f\">scene_file_writer.py</span></a><span style=\"color: #7f7f7f\">:395</span>\n",
       "                             written in <span style=\"font-weight: bold\">{</span><span style=\"color: #008000\">'C:\\\\Users\\\\jooch\\\\project\\</span>                         \n",
       "                             <span style=\"color: #008000\">\\Financial-Engineering\\\\media\\\\videos\\\\</span>                         \n",
       "                             <span style=\"color: #008000\">Financial-Engineering\\\\1080p60\\\\partial</span>                         \n",
       "                             <span style=\"color: #008000\">_movie_files\\\\Z\\\\2677612693_3675733840_</span>                         \n",
       "                             <span style=\"color: #008000\">1136204102.mp4'</span><span style=\"font-weight: bold\">}</span>                                                \n",
       "</pre>\n"
      ],
      "text/plain": [
       "<rich.jupyter.JupyterRenderable at 0x138f24e0250>"
      ]
     },
     "metadata": {},
     "output_type": "display_data"
    },
    {
     "data": {
      "text/html": [
       "<pre style=\"white-space:pre;overflow-x:auto;line-height:normal;font-family:Menlo,'DejaVu Sans Mono',consolas,'Courier New',monospace\"><span style=\"color: #7fbfbf\">[04/24/21 06:08:59] </span><span style=\"color: #008000\">INFO</span>     Animation <span style=\"color: #008000\">8</span> : Partial movie file        <a href=\"file://C:\\Users\\jooch\\miniconda3\\lib\\site-packages\\manim\\scene\\scene_file_writer.py\"><span style=\"color: #7f7f7f\">scene_file_writer.py</span></a><span style=\"color: #7f7f7f\">:395</span>\n",
       "                             written in <span style=\"font-weight: bold\">{</span><span style=\"color: #008000\">'C:\\\\Users\\\\jooch\\\\project\\</span>                         \n",
       "                             <span style=\"color: #008000\">\\Financial-Engineering\\\\media\\\\videos\\\\</span>                         \n",
       "                             <span style=\"color: #008000\">Financial-Engineering\\\\1080p60\\\\partial</span>                         \n",
       "                             <span style=\"color: #008000\">_movie_files\\\\Z\\\\4247305898_1438405273_</span>                         \n",
       "                             <span style=\"color: #008000\">3883744793.mp4'</span><span style=\"font-weight: bold\">}</span>                                                \n",
       "</pre>\n"
      ],
      "text/plain": [
       "<rich.jupyter.JupyterRenderable at 0x138f24e0250>"
      ]
     },
     "metadata": {},
     "output_type": "display_data"
    },
    {
     "name": "stderr",
     "output_type": "stream",
     "text": [
      "                                                                                                                       \r"
     ]
    },
    {
     "data": {
      "text/html": [
       "<pre style=\"white-space:pre;overflow-x:auto;line-height:normal;font-family:Menlo,'DejaVu Sans Mono',consolas,'Courier New',monospace\"><span style=\"color: #7fbfbf\">[04/24/21 06:09:29] </span><span style=\"color: #008000\">INFO</span>     Animation <span style=\"color: #008000\">9</span> : Partial movie file        <a href=\"file://C:\\Users\\jooch\\miniconda3\\lib\\site-packages\\manim\\scene\\scene_file_writer.py\"><span style=\"color: #7f7f7f\">scene_file_writer.py</span></a><span style=\"color: #7f7f7f\">:395</span>\n",
       "                             written in <span style=\"font-weight: bold\">{</span><span style=\"color: #008000\">'C:\\\\Users\\\\jooch\\\\project\\</span>                         \n",
       "                             <span style=\"color: #008000\">\\Financial-Engineering\\\\media\\\\videos\\\\</span>                         \n",
       "                             <span style=\"color: #008000\">Financial-Engineering\\\\1080p60\\\\partial</span>                         \n",
       "                             <span style=\"color: #008000\">_movie_files\\\\Z\\\\1439014347_3047828498_</span>                         \n",
       "                             <span style=\"color: #008000\">3618448703.mp4'</span><span style=\"font-weight: bold\">}</span>                                                \n",
       "</pre>\n"
      ],
      "text/plain": [
       "<rich.jupyter.JupyterRenderable at 0x138f4c0e370>"
      ]
     },
     "metadata": {},
     "output_type": "display_data"
    },
    {
     "name": "stderr",
     "output_type": "stream",
     "text": [
      "                                                                                                                       \r"
     ]
    },
    {
     "data": {
      "text/html": [
       "<pre style=\"white-space:pre;overflow-x:auto;line-height:normal;font-family:Menlo,'DejaVu Sans Mono',consolas,'Courier New',monospace\"><span style=\"color: #7fbfbf\">[04/24/21 06:09:37] </span><span style=\"color: #008000\">INFO</span>     Animation <span style=\"color: #008000\">10</span> : Partial movie file       <a href=\"file://C:\\Users\\jooch\\miniconda3\\lib\\site-packages\\manim\\scene\\scene_file_writer.py\"><span style=\"color: #7f7f7f\">scene_file_writer.py</span></a><span style=\"color: #7f7f7f\">:395</span>\n",
       "                             written in <span style=\"font-weight: bold\">{</span><span style=\"color: #008000\">'C:\\\\Users\\\\jooch\\\\project\\</span>                         \n",
       "                             <span style=\"color: #008000\">\\Financial-Engineering\\\\media\\\\videos\\\\</span>                         \n",
       "                             <span style=\"color: #008000\">Financial-Engineering\\\\1080p60\\\\partial</span>                         \n",
       "                             <span style=\"color: #008000\">_movie_files\\\\Z\\\\3383371104_3772144411_</span>                         \n",
       "                             <span style=\"color: #008000\">2303803593.mp4'</span><span style=\"font-weight: bold\">}</span>                                                \n",
       "</pre>\n"
      ],
      "text/plain": [
       "<rich.jupyter.JupyterRenderable at 0x138f4c0e370>"
      ]
     },
     "metadata": {},
     "output_type": "display_data"
    },
    {
     "data": {
      "text/html": [
       "<pre style=\"white-space:pre;overflow-x:auto;line-height:normal;font-family:Menlo,'DejaVu Sans Mono',consolas,'Courier New',monospace\"><span style=\"color: #7fbfbf\">[04/24/21 06:09:38] </span><span style=\"color: #008000\">INFO</span>     Animation <span style=\"color: #008000\">11</span> : Partial movie file       <a href=\"file://C:\\Users\\jooch\\miniconda3\\lib\\site-packages\\manim\\scene\\scene_file_writer.py\"><span style=\"color: #7f7f7f\">scene_file_writer.py</span></a><span style=\"color: #7f7f7f\">:395</span>\n",
       "                             written in <span style=\"font-weight: bold\">{</span><span style=\"color: #008000\">'C:\\\\Users\\\\jooch\\\\project\\</span>                         \n",
       "                             <span style=\"color: #008000\">\\Financial-Engineering\\\\media\\\\videos\\\\</span>                         \n",
       "                             <span style=\"color: #008000\">Financial-Engineering\\\\1080p60\\\\partial</span>                         \n",
       "                             <span style=\"color: #008000\">_movie_files\\\\Z\\\\1483393218_1438405273_</span>                         \n",
       "                             <span style=\"color: #008000\">300128901.mp4'</span><span style=\"font-weight: bold\">}</span>                                                 \n",
       "</pre>\n"
      ],
      "text/plain": [
       "<rich.jupyter.JupyterRenderable at 0x1388083a760>"
      ]
     },
     "metadata": {},
     "output_type": "display_data"
    },
    {
     "data": {
      "text/html": [
       "<pre style=\"white-space:pre;overflow-x:auto;line-height:normal;font-family:Menlo,'DejaVu Sans Mono',consolas,'Courier New',monospace\"><span style=\"color: #7fbfbf\">[04/24/21 06:09:39] </span><span style=\"color: #008000\">INFO</span>                                             <a href=\"file://C:\\Users\\jooch\\miniconda3\\lib\\site-packages\\manim\\scene\\scene_file_writer.py\"><span style=\"color: #7f7f7f\">scene_file_writer.py</span></a><span style=\"color: #7f7f7f\">:579</span>\n",
       "                             <span style=\"color: #808000; font-weight: bold\">File</span> ready at C:\\Users\\jooch\\project\\Fi                         \n",
       "                             nancial-Engineering\\media\\videos\\Financ                         \n",
       "                             ial-Engineering\\1080p60\\Z.mp4                                   \n",
       "                                                                                             \n",
       "</pre>\n"
      ],
      "text/plain": [
       "<rich.jupyter.JupyterRenderable at 0x1388083a5e0>"
      ]
     },
     "metadata": {},
     "output_type": "display_data"
    },
    {
     "data": {
      "text/html": [
       "<pre style=\"white-space:pre;overflow-x:auto;line-height:normal;font-family:Menlo,'DejaVu Sans Mono',consolas,'Courier New',monospace\"><span style=\"color: #7fbfbf\">                    </span><span style=\"color: #008000\">INFO</span>     <span style=\"color: #808000; font-weight: bold\">Rendered</span> Z                                          <a href=\"file://C:\\Users\\jooch\\miniconda3\\lib\\site-packages\\manim\\scene\\scene.py\"><span style=\"color: #7f7f7f\">scene.py</span></a><span style=\"color: #7f7f7f\">:190</span>\n",
       "                             <span style=\"color: #808000; font-weight: bold\">Played</span> <span style=\"color: #008000\">12</span> <span style=\"color: #808000; font-weight: bold\">animations</span>                                            \n",
       "</pre>\n"
      ],
      "text/plain": [
       "<rich.jupyter.JupyterRenderable at 0x1388083aeb0>"
      ]
     },
     "metadata": {},
     "output_type": "display_data"
    },
    {
     "data": {
      "text/html": [
       "<video src=\"media\\jupyter\\a592f495f51e62a140365fbe34846c213732bee3.mp4\" controls autoplay loop style=\"max-width: 25vw;\"  >\n",
       "      Your browser does not support the <code>video</code> element.\n",
       "    </video>"
      ],
      "text/plain": [
       "<IPython.core.display.Video object>"
      ]
     },
     "metadata": {},
     "output_type": "display_data"
    }
   ],
   "source": [
    "%%manim Z \n",
    "\n",
    "from manim import *\n",
    "\n",
    "class Z(ZoomedScene):\n",
    "# contributed by TheoremofBeethoven, www.youtube.com/c/TheoremofBeethoven\n",
    "    def __init__(self, **kwargs):\n",
    "        ZoomedScene.__init__(\n",
    "            self,\n",
    "            zoom_factor=0.3,\n",
    "            zoomed_display_height=1,\n",
    "            zoomed_display_width=6,\n",
    "            image_frame_stroke_width=20,\n",
    "            zoomed_camera_config={\n",
    "                \"default_frame_stroke_width\": 3,\n",
    "                },\n",
    "            **kwargs\n",
    "        )\n",
    "\n",
    "    def construct(self):\n",
    "        dot = Dot().shift(UL * 2)\n",
    "        image = ImageMobject(np.uint8([[0, 100, 30, 200],\n",
    "                                       [255, 0, 5, 33]]))\n",
    "        image.height = 7\n",
    "        frame_text = Text(\"Frame\", color=PURPLE).scale(1.4)\n",
    "        zoomed_camera_text = Text(\"Zoomed camera\", color=RED).scale(1.4)\n",
    "        \n",
    "        self.add(image, dot)\n",
    "        zoomed_camera = self.zoomed_camera\n",
    "        zoomed_display = self.zoomed_display\n",
    "        frame = zoomed_camera.frame\n",
    "        zoomed_display_frame = zoomed_display.display_frame\n",
    "\n",
    "        frame.move_to(dot)\n",
    "        frame.set_color(PURPLE)\n",
    "        zoomed_display_frame.set_color(RED)\n",
    "        zoomed_display.shift(DOWN)\n",
    "\n",
    "        zd_rect = BackgroundRectangle(zoomed_display, fill_opacity=0, buff=MED_SMALL_BUFF)\n",
    "        self.add_foreground_mobject(zd_rect)\n",
    "\n",
    "        unfold_camera = UpdateFromFunc(zd_rect, lambda rect: rect.replace(zoomed_display))\n",
    "\n",
    "        frame_text.next_to(frame, DOWN)\n",
    "\n",
    "        self.play(Create(frame), FadeInFrom(frame_text, direction=DOWN))\n",
    "        self.activate_zooming()\n",
    "\n",
    "        self.play(self.get_zoomed_display_pop_out_animation(), unfold_camera)\n",
    "        zoomed_camera_text.next_to(zoomed_display_frame, DOWN)\n",
    "        self.play(FadeInFrom(zoomed_camera_text, direction=DOWN))\n",
    "        # Scale in        x   y  z\n",
    "        scale_factor = [0.5, 1.5, 0]\n",
    "        self.play(\n",
    "            frame.animate.scale(scale_factor),\n",
    "            zoomed_display.animate.scale(scale_factor),\n",
    "            FadeOut(zoomed_camera_text),\n",
    "            FadeOut(frame_text)\n",
    "        )\n",
    "        self.wait()\n",
    "        self.play(ScaleInPlace(zoomed_display, 2))\n",
    "        self.wait()\n",
    "        self.play(frame.animate.shift(2.5 * DOWN))\n",
    "        self.wait()\n",
    "        self.play(self.get_zoomed_display_pop_out_animation(), unfold_camera, rate_func=lambda t: smooth(1 - t))\n",
    "        self.play(Uncreate(zoomed_display_frame), FadeOut(frame))\n",
    "        self.wait()"
   ]
  },
  {
   "cell_type": "code",
   "execution_count": null,
   "id": "aaf7906e",
   "metadata": {},
   "outputs": [],
   "source": []
  }
 ],
 "metadata": {
  "kernelspec": {
   "display_name": "Python 3",
   "language": "python",
   "name": "python3"
  },
  "language_info": {
   "codemirror_mode": {
    "name": "ipython",
    "version": 3
   },
   "file_extension": ".py",
   "mimetype": "text/x-python",
   "name": "python",
   "nbconvert_exporter": "python",
   "pygments_lexer": "ipython3",
   "version": "3.9.1"
  }
 },
 "nbformat": 4,
 "nbformat_minor": 5
}
