{
 "cells": [
  {
   "cell_type": "code",
   "execution_count": 9,
   "id": "c618e9d9",
   "metadata": {},
   "outputs": [],
   "source": [
    "import manim"
   ]
  },
  {
   "cell_type": "code",
   "execution_count": 38,
   "id": "a9656b72",
   "metadata": {},
   "outputs": [
    {
     "name": "stderr",
     "output_type": "stream",
     "text": [
      "                                                                                                                       \r"
     ]
    },
    {
     "data": {
      "text/html": [
       "<pre style=\"white-space:pre;overflow-x:auto;line-height:normal;font-family:Menlo,'DejaVu Sans Mono',consolas,'Courier New',monospace\"><span style=\"color: #7fbfbf\">[04/23/21 04:37:52] </span><span style=\"color: #008000\">INFO</span>     Animation <span style=\"color: #008000\">0</span> : Partial movie file        <a href=\"file://C:\\Users\\jooch\\miniconda3\\lib\\site-packages\\manim\\scene\\scene_file_writer.py\"><span style=\"color: #7f7f7f\">scene_file_writer.py</span></a><span style=\"color: #7f7f7f\">:395</span>\n",
       "                             written in <span style=\"font-weight: bold\">{</span><span style=\"color: #008000\">'C:\\\\Users\\\\jooch\\\\project\\</span>                         \n",
       "                             <span style=\"color: #008000\">\\Financial-Engineering\\\\media\\\\videos\\\\</span>                         \n",
       "                             <span style=\"color: #008000\">Financial-Engineering\\\\1080p60\\\\partial</span>                         \n",
       "                             <span style=\"color: #008000\">_movie_files\\\\a20200421_2\\\\450974505_38</span>                         \n",
       "                             <span style=\"color: #008000\">6854284_2052791556.mp4'</span><span style=\"font-weight: bold\">}</span>                                        \n",
       "</pre>\n"
      ],
      "text/plain": [
       "<rich.jupyter.JupyterRenderable at 0x2533cbdbb50>"
      ]
     },
     "metadata": {},
     "output_type": "display_data"
    },
    {
     "name": "stderr",
     "output_type": "stream",
     "text": [
      "                                                                                                                       \r"
     ]
    },
    {
     "data": {
      "text/html": [
       "<pre style=\"white-space:pre;overflow-x:auto;line-height:normal;font-family:Menlo,'DejaVu Sans Mono',consolas,'Courier New',monospace\"><span style=\"color: #7fbfbf\">[04/23/21 04:38:02] </span><span style=\"color: #008000\">INFO</span>     Animation <span style=\"color: #008000\">1</span> : Partial movie file        <a href=\"file://C:\\Users\\jooch\\miniconda3\\lib\\site-packages\\manim\\scene\\scene_file_writer.py\"><span style=\"color: #7f7f7f\">scene_file_writer.py</span></a><span style=\"color: #7f7f7f\">:395</span>\n",
       "                             written in <span style=\"font-weight: bold\">{</span><span style=\"color: #008000\">'C:\\\\Users\\\\jooch\\\\project\\</span>                         \n",
       "                             <span style=\"color: #008000\">\\Financial-Engineering\\\\media\\\\videos\\\\</span>                         \n",
       "                             <span style=\"color: #008000\">Financial-Engineering\\\\1080p60\\\\partial</span>                         \n",
       "                             <span style=\"color: #008000\">_movie_files\\\\a20200421_2\\\\2788726626_1</span>                         \n",
       "                             <span style=\"color: #008000\">846022393_1633939249.mp4'</span><span style=\"font-weight: bold\">}</span>                                      \n",
       "</pre>\n"
      ],
      "text/plain": [
       "<rich.jupyter.JupyterRenderable at 0x2535b8a1be0>"
      ]
     },
     "metadata": {},
     "output_type": "display_data"
    },
    {
     "name": "stderr",
     "output_type": "stream",
     "text": [
      "                                                                                                                       \r"
     ]
    },
    {
     "data": {
      "text/html": [
       "<pre style=\"white-space:pre;overflow-x:auto;line-height:normal;font-family:Menlo,'DejaVu Sans Mono',consolas,'Courier New',monospace\"><span style=\"color: #7fbfbf\">[04/23/21 04:38:13] </span><span style=\"color: #008000\">INFO</span>     Animation <span style=\"color: #008000\">2</span> : Partial movie file        <a href=\"file://C:\\Users\\jooch\\miniconda3\\lib\\site-packages\\manim\\scene\\scene_file_writer.py\"><span style=\"color: #7f7f7f\">scene_file_writer.py</span></a><span style=\"color: #7f7f7f\">:395</span>\n",
       "                             written in <span style=\"font-weight: bold\">{</span><span style=\"color: #008000\">'C:\\\\Users\\\\jooch\\\\project\\</span>                         \n",
       "                             <span style=\"color: #008000\">\\Financial-Engineering\\\\media\\\\videos\\\\</span>                         \n",
       "                             <span style=\"color: #008000\">Financial-Engineering\\\\1080p60\\\\partial</span>                         \n",
       "                             <span style=\"color: #008000\">_movie_files\\\\a20200421_2\\\\2788726626_3</span>                         \n",
       "                             <span style=\"color: #008000\">559352383_1126079113.mp4'</span><span style=\"font-weight: bold\">}</span>                                      \n",
       "</pre>\n"
      ],
      "text/plain": [
       "<rich.jupyter.JupyterRenderable at 0x2533cb2ee20>"
      ]
     },
     "metadata": {},
     "output_type": "display_data"
    },
    {
     "data": {
      "text/html": [
       "<pre style=\"white-space:pre;overflow-x:auto;line-height:normal;font-family:Menlo,'DejaVu Sans Mono',consolas,'Courier New',monospace\"><span style=\"color: #7fbfbf\">                    </span><span style=\"color: #008000\">INFO</span>                                             <a href=\"file://C:\\Users\\jooch\\miniconda3\\lib\\site-packages\\manim\\scene\\scene_file_writer.py\"><span style=\"color: #7f7f7f\">scene_file_writer.py</span></a><span style=\"color: #7f7f7f\">:579</span>\n",
       "                             <span style=\"color: #808000; font-weight: bold\">File</span> ready at C:\\Users\\jooch\\project\\Fi                         \n",
       "                             nancial-Engineering\\media\\videos\\Financ                         \n",
       "                             ial-Engineering\\1080p60\\a20200421_2.mp4                         \n",
       "                                                                                             \n",
       "</pre>\n"
      ],
      "text/plain": [
       "<rich.jupyter.JupyterRenderable at 0x2535b8b9a60>"
      ]
     },
     "metadata": {},
     "output_type": "display_data"
    },
    {
     "data": {
      "text/html": [
       "<pre style=\"white-space:pre;overflow-x:auto;line-height:normal;font-family:Menlo,'DejaVu Sans Mono',consolas,'Courier New',monospace\"><span style=\"color: #7fbfbf\">                    </span><span style=\"color: #008000\">INFO</span>     <span style=\"color: #808000; font-weight: bold\">Rendered</span> a20200421_2                                <a href=\"file://C:\\Users\\jooch\\miniconda3\\lib\\site-packages\\manim\\scene\\scene.py\"><span style=\"color: #7f7f7f\">scene.py</span></a><span style=\"color: #7f7f7f\">:190</span>\n",
       "                             <span style=\"color: #808000; font-weight: bold\">Played</span> <span style=\"color: #008000\">3</span> <span style=\"color: #808000; font-weight: bold\">animations</span>                                             \n",
       "</pre>\n"
      ],
      "text/plain": [
       "<rich.jupyter.JupyterRenderable at 0x2535b8b90d0>"
      ]
     },
     "metadata": {},
     "output_type": "display_data"
    },
    {
     "data": {
      "text/html": [
       "<video src=\"media\\jupyter\\adca5798c8e7487853bda8d0fa0a4a23632a3510.mp4\" controls autoplay loop style=\"max-width: 25vw;\"  >\n",
       "      Your browser does not support the <code>video</code> element.\n",
       "    </video>"
      ],
      "text/plain": [
       "<IPython.core.display.Video object>"
      ]
     },
     "metadata": {},
     "output_type": "display_data"
    }
   ],
   "source": [
    "%%manim a20200421_2\n",
    "\n",
    "class a20200421_2(Scene):\n",
    "    def construct(self):\n",
    "        \n",
    "        for i in [0,1,2]:\n",
    "            rect = Rectangle(height=1, width=1).move_to([i,1,0])\n",
    "            self.play(Create(rect), run_time=10)"
   ]
  },
  {
   "cell_type": "code",
   "execution_count": null,
   "id": "f11fa136",
   "metadata": {},
   "outputs": [],
   "source": []
  }
 ],
 "metadata": {
  "kernelspec": {
   "display_name": "Python 3",
   "language": "python",
   "name": "python3"
  },
  "language_info": {
   "codemirror_mode": {
    "name": "ipython",
    "version": 3
   },
   "file_extension": ".py",
   "mimetype": "text/x-python",
   "name": "python",
   "nbconvert_exporter": "python",
   "pygments_lexer": "ipython3",
   "version": "3.9.1"
  }
 },
 "nbformat": 4,
 "nbformat_minor": 5
}
