{
  "nbformat": 4,
  "nbformat_minor": 0,
  "metadata": {
    "colab": {
      "name": "20211124_submodel",
      "provenance": [],
      "collapsed_sections": [],
      "authorship_tag": "ABX9TyNDZ2xLEDJWxGu5CdXoY2Zz",
      "include_colab_link": true
    },
    "kernelspec": {
      "display_name": "Python 3",
      "name": "python3"
    },
    "language_info": {
      "name": "python"
    }
  },
  "cells": [
    {
      "cell_type": "markdown",
      "metadata": {
        "id": "view-in-github",
        "colab_type": "text"
      },
      "source": [
        "<a href=\"https://colab.research.google.com/github/Joocheol/Financial-Engineering/blob/master/20211124_submodel.ipynb\" target=\"_parent\"><img src=\"https://colab.research.google.com/assets/colab-badge.svg\" alt=\"Open In Colab\"/></a>"
      ]
    },
    {
      "cell_type": "code",
      "metadata": {
        "id": "U9Ig69OWXGze"
      },
      "source": [
        "import numpy as np\n",
        "import matplotlib.pyplot as plt\n",
        "from scipy.stats import norm\n",
        "\n",
        "import tensorflow as tf"
      ],
      "execution_count": null,
      "outputs": []
    },
    {
      "cell_type": "code",
      "metadata": {
        "id": "j79A4x15XMdH"
      },
      "source": [
        "def bscall(S, K, T, r, sig):\n",
        "    d1 = (np.log(S/K)+(r+0.5*sig**2)*T)/(sig*np.sqrt(T))\n",
        "    d2 = (np.log(S/K)+(r-0.5*sig**2)*T)/(sig*np.sqrt(T))\n",
        "    return S*norm.cdf(d1)-K*np.exp(-r*T)*norm.cdf(d2)\n",
        "    \n",
        "def bsput(S, K, T, r, sig):\n",
        "    d1 = (np.log(S/K)+(r+0.5*sig**2)*T)/(sig*np.sqrt(T))\n",
        "    d2 = (np.log(S/K)+(r-0.5*sig**2)*T)/(sig*np.sqrt(T))\n",
        "    return K*np.exp(-r*T)*norm.cdf(-d2)-S*norm.cdf(-d1)"
      ],
      "execution_count": null,
      "outputs": []
    },
    {
      "cell_type": "code",
      "metadata": {
        "id": "QozZguz1XdU_"
      },
      "source": [
        "S0 = 1\n",
        "K = 1\n",
        "T = 30/365\n",
        "r = 0.0\n",
        "sig = 0.2\n",
        "\n",
        "M = 1000\n",
        "N = 30\n",
        "\n",
        "dt = T/N\n",
        "rdt = r*dt\n",
        "sigsdt = sig * np.sqrt(dt)"
      ],
      "execution_count": null,
      "outputs": []
    },
    {
      "cell_type": "code",
      "metadata": {
        "id": "bu58THa0Xxow"
      },
      "source": [
        "np.random.seed(1234)\n",
        "\n",
        "S = np.empty([M,N+1])\n",
        "rv = np.random.normal(r*dt,sigsdt,[M,N])\n",
        "\n",
        "for i in range(M):\n",
        "    S[i,0] = S0\n",
        "    for j in range(N):\n",
        "        S[i,j+1] = S[i,j] * (1+rv[i,j])"
      ],
      "execution_count": null,
      "outputs": []
    },
    {
      "cell_type": "markdown",
      "metadata": {
        "id": "3pDf_P2YbpzT"
      },
      "source": [
        "$\\Delta_0 (S_0-S_1) + \\Delta_1 (S_1-S_2) + \\Delta_2 (S_2-S_3) + \\cdots + \\Delta_{T-1} (S_{T-1}-S_T) + \\Delta_T S_T$"
      ]
    },
    {
      "cell_type": "code",
      "metadata": {
        "id": "KWfRGlr4tqmi"
      },
      "source": [
        "def delta_model(model_name=None):\n",
        "    price = tf.keras.layers.Input(shape=(1,))\n",
        "    \n",
        "    delta = tf.keras.layers.Dense(32, activation='leaky_relu', use_bias=False)(price)\n",
        "    delta = tf.keras.layers.BatchNormalization()(delta)\n",
        "    delta = tf.keras.layers.Dense(32, activation='leaky_relu', use_bias=False)(delta)\n",
        "    delta = tf.keras.layers.BatchNormalization()(delta)\n",
        "    delta = tf.keras.layers.Dense(32, activation='leaky_relu', use_bias=False)(delta)\n",
        "    delta = tf.keras.layers.Dense(1, activation='sigmoid')(delta)\n",
        "\n",
        "    return tf.keras.Model(inputs=price, outputs=delta, name=model_name)\n"
      ],
      "execution_count": null,
      "outputs": []
    },
    {
      "cell_type": "code",
      "metadata": {
        "id": "hpiz5lAJX6P7"
      },
      "source": [
        "price = tf.keras.layers.Input(shape=(1,), name=\"price\")\n",
        "\n",
        "my_input = [price]\n",
        "\n",
        "hedge_cost = tf.keras.layers.Lambda(lambda x: x*0.0)(price)\n",
        "\n",
        "for j in range(N):\n",
        "    delta = delta_model(model_name=\"delta_\"+str(j))(price)\n",
        "\n",
        "    new_price = tf.keras.layers.Input(shape=(1,), name='S'+str(j+1))\n",
        "    my_input += [new_price]\n",
        "\n",
        "    price_inc = tf.keras.layers.Subtract(name='price_inc_'+str(j))([price, new_price])\n",
        "    cost = tf.keras.layers.Multiply(name=\"stock_\"+str(j))([delta, price_inc])\n",
        "    hedge_cost = tf.keras.layers.Add(name='cost_'+str(j))([hedge_cost, cost])\n",
        "\n",
        "    price = new_price\n",
        "\n",
        "payoff = tf.keras.layers.Input(shape=(1,), name='payoff')\n",
        "my_input += [payoff]\n",
        "\n",
        "cum_cost = tf.keras.layers.Add(name=\"hedge_cost_plus_payoff\")([hedge_cost, payoff])\n",
        "\n",
        "model = tf.keras.Model(inputs=my_input, outputs=cum_cost)"
      ],
      "execution_count": null,
      "outputs": []
    },
    {
      "cell_type": "markdown",
      "metadata": {
        "id": "FzfxDclo0Zlf"
      },
      "source": [
        "$\\Delta_0 (S_0-S_1) + \\Delta_1 (S_1-S_2) + \\Delta_2 (S_2-S_3) + \\cdots + \\Delta_{T-1} (S_{T-1}-S_T) + \\Delta_T S_T$"
      ]
    },
    {
      "cell_type": "code",
      "metadata": {
        "id": "k600s6BYZFxW"
      },
      "source": [
        "SS = [S[:,i].reshape(M,1) for i in range(N+1)]\n",
        "payoff = np.maximum(S[:,-1]-K, 0)\n",
        "x = [SS] + [payoff]\n",
        "y = bscall(S0, K, T, r, sig) * np.ones([M,1])"
      ],
      "execution_count": null,
      "outputs": []
    },
    {
      "cell_type": "code",
      "metadata": {
        "id": "tCZREaDneTvu"
      },
      "source": [
        "model.compile(loss='mse', optimizer='adam')"
      ],
      "execution_count": null,
      "outputs": []
    },
    {
      "cell_type": "code",
      "metadata": {
        "id": "8xDBz7mwejIF",
        "colab": {
          "base_uri": "https://localhost:8080/"
        },
        "outputId": "0e68b5cf-2867-4f69-bf24-d57a8a930f4b"
      },
      "source": [
        "hist = model.fit(x,y, batch_size=32, epochs=50, verbose=True, validation_split=0.2)"
      ],
      "execution_count": null,
      "outputs": [
        {
          "output_type": "stream",
          "name": "stdout",
          "text": [
            "Epoch 1/50\n",
            "25/25 [==============================] - 17s 107ms/step - loss: 1.4890e-04 - val_loss: 2.8188e-04\n",
            "Epoch 2/50\n",
            "25/25 [==============================] - 1s 25ms/step - loss: 3.2332e-05 - val_loss: 2.8283e-04\n",
            "Epoch 3/50\n",
            "25/25 [==============================] - 1s 24ms/step - loss: 3.1170e-05 - val_loss: 2.8100e-04\n",
            "Epoch 4/50\n",
            "25/25 [==============================] - 1s 27ms/step - loss: 2.7349e-05 - val_loss: 2.7845e-04\n",
            "Epoch 5/50\n",
            "25/25 [==============================] - 1s 26ms/step - loss: 2.2987e-05 - val_loss: 2.7695e-04\n",
            "Epoch 6/50\n",
            "25/25 [==============================] - 1s 25ms/step - loss: 2.2143e-05 - val_loss: 2.7377e-04\n",
            "Epoch 7/50\n",
            "25/25 [==============================] - 1s 25ms/step - loss: 2.0076e-05 - val_loss: 2.7116e-04\n",
            "Epoch 8/50\n",
            "25/25 [==============================] - 1s 25ms/step - loss: 2.7263e-05 - val_loss: 2.6878e-04\n",
            "Epoch 9/50\n",
            "25/25 [==============================] - 1s 25ms/step - loss: 2.4742e-05 - val_loss: 2.6078e-04\n",
            "Epoch 10/50\n",
            "25/25 [==============================] - 1s 25ms/step - loss: 3.0335e-05 - val_loss: 2.5553e-04\n",
            "Epoch 11/50\n",
            "25/25 [==============================] - 1s 27ms/step - loss: 2.3431e-05 - val_loss: 2.4576e-04\n",
            "Epoch 12/50\n",
            "25/25 [==============================] - 1s 27ms/step - loss: 2.8632e-05 - val_loss: 2.3556e-04\n",
            "Epoch 13/50\n",
            "25/25 [==============================] - 1s 25ms/step - loss: 2.4542e-05 - val_loss: 2.2382e-04\n",
            "Epoch 14/50\n",
            "25/25 [==============================] - 1s 25ms/step - loss: 2.6269e-05 - val_loss: 2.0803e-04\n",
            "Epoch 15/50\n",
            "25/25 [==============================] - 1s 24ms/step - loss: 2.5975e-05 - val_loss: 1.9165e-04\n",
            "Epoch 16/50\n",
            "25/25 [==============================] - 1s 24ms/step - loss: 2.5141e-05 - val_loss: 1.7973e-04\n",
            "Epoch 17/50\n",
            "25/25 [==============================] - 1s 26ms/step - loss: 2.5238e-05 - val_loss: 1.6526e-04\n",
            "Epoch 18/50\n",
            "25/25 [==============================] - 1s 26ms/step - loss: 2.6157e-05 - val_loss: 1.4687e-04\n",
            "Epoch 19/50\n",
            "25/25 [==============================] - 1s 25ms/step - loss: 2.3422e-05 - val_loss: 1.3476e-04\n",
            "Epoch 20/50\n",
            "25/25 [==============================] - 1s 24ms/step - loss: 2.3292e-05 - val_loss: 1.1413e-04\n",
            "Epoch 21/50\n",
            "25/25 [==============================] - 1s 26ms/step - loss: 2.5181e-05 - val_loss: 9.2688e-05\n",
            "Epoch 22/50\n",
            "25/25 [==============================] - 1s 26ms/step - loss: 2.6402e-05 - val_loss: 8.8713e-05\n",
            "Epoch 23/50\n",
            "25/25 [==============================] - 1s 26ms/step - loss: 2.8368e-05 - val_loss: 7.4797e-05\n",
            "Epoch 24/50\n",
            "25/25 [==============================] - 1s 25ms/step - loss: 2.3826e-05 - val_loss: 6.0074e-05\n",
            "Epoch 25/50\n",
            "25/25 [==============================] - 1s 24ms/step - loss: 2.7822e-05 - val_loss: 5.0884e-05\n",
            "Epoch 26/50\n",
            "25/25 [==============================] - 1s 25ms/step - loss: 2.4823e-05 - val_loss: 4.6694e-05\n",
            "Epoch 27/50\n",
            "25/25 [==============================] - 1s 26ms/step - loss: 2.3864e-05 - val_loss: 4.8836e-05\n",
            "Epoch 28/50\n",
            "25/25 [==============================] - 1s 25ms/step - loss: 2.6366e-05 - val_loss: 4.8809e-05\n",
            "Epoch 29/50\n",
            "25/25 [==============================] - 1s 24ms/step - loss: 2.3157e-05 - val_loss: 4.8390e-05\n",
            "Epoch 30/50\n",
            "25/25 [==============================] - 1s 25ms/step - loss: 2.6994e-05 - val_loss: 3.4027e-05\n",
            "Epoch 31/50\n",
            "25/25 [==============================] - 1s 25ms/step - loss: 2.4922e-05 - val_loss: 3.7033e-05\n",
            "Epoch 32/50\n",
            "25/25 [==============================] - 1s 25ms/step - loss: 2.9378e-05 - val_loss: 4.2126e-05\n",
            "Epoch 33/50\n",
            "25/25 [==============================] - 1s 24ms/step - loss: 2.7013e-05 - val_loss: 5.3410e-05\n",
            "Epoch 34/50\n",
            "25/25 [==============================] - 1s 25ms/step - loss: 2.5677e-05 - val_loss: 4.4094e-05\n",
            "Epoch 35/50\n",
            "25/25 [==============================] - 1s 24ms/step - loss: 3.1517e-05 - val_loss: 3.8565e-05\n",
            "Epoch 36/50\n",
            "25/25 [==============================] - 1s 24ms/step - loss: 2.4969e-05 - val_loss: 4.4364e-05\n",
            "Epoch 37/50\n",
            "25/25 [==============================] - 1s 25ms/step - loss: 2.5681e-05 - val_loss: 4.5866e-05\n",
            "Epoch 38/50\n",
            "25/25 [==============================] - 1s 26ms/step - loss: 2.4155e-05 - val_loss: 5.7288e-05\n",
            "Epoch 39/50\n",
            "25/25 [==============================] - 1s 27ms/step - loss: 2.3569e-05 - val_loss: 3.3571e-05\n",
            "Epoch 40/50\n",
            "25/25 [==============================] - 1s 24ms/step - loss: 2.6908e-05 - val_loss: 4.7326e-05\n",
            "Epoch 41/50\n",
            "25/25 [==============================] - 1s 24ms/step - loss: 2.9525e-05 - val_loss: 4.4942e-05\n",
            "Epoch 42/50\n",
            "25/25 [==============================] - 1s 25ms/step - loss: 2.5564e-05 - val_loss: 3.8403e-05\n",
            "Epoch 43/50\n",
            "25/25 [==============================] - 1s 25ms/step - loss: 2.4437e-05 - val_loss: 4.0024e-05\n",
            "Epoch 44/50\n",
            "25/25 [==============================] - 1s 25ms/step - loss: 2.6056e-05 - val_loss: 4.8951e-05\n",
            "Epoch 45/50\n",
            "25/25 [==============================] - 1s 25ms/step - loss: 2.6936e-05 - val_loss: 5.6894e-05\n",
            "Epoch 46/50\n",
            "25/25 [==============================] - 1s 24ms/step - loss: 3.0561e-05 - val_loss: 5.8202e-05\n",
            "Epoch 47/50\n",
            "25/25 [==============================] - 1s 26ms/step - loss: 2.2009e-05 - val_loss: 3.9905e-05\n",
            "Epoch 48/50\n",
            "25/25 [==============================] - 1s 24ms/step - loss: 2.3349e-05 - val_loss: 3.3745e-05\n",
            "Epoch 49/50\n",
            "25/25 [==============================] - 1s 25ms/step - loss: 2.0388e-05 - val_loss: 2.4823e-05\n",
            "Epoch 50/50\n",
            "25/25 [==============================] - 1s 26ms/step - loss: 2.4023e-05 - val_loss: 3.6774e-05\n"
          ]
        }
      ]
    },
    {
      "cell_type": "code",
      "metadata": {
        "id": "LmN1Ycs7e387",
        "colab": {
          "base_uri": "https://localhost:8080/",
          "height": 265
        },
        "outputId": "ff7d51b7-e99b-4b76-c5db-b0c58180c4d8"
      },
      "source": [
        "plt.plot(hist.history['loss'])\n",
        "plt.show()"
      ],
      "execution_count": null,
      "outputs": [
        {
          "output_type": "display_data",
          "data": {
            "image/png": "[encoded data removed]",
            "text/plain": [
              "<Figure size 432x288 with 1 Axes>"
            ]
          },
          "metadata": {
            "needs_background": "light"
          }
        }
      ]
    },
    {
      "cell_type": "code",
      "metadata": {
        "id": "nTbQzvwKfocQ",
        "colab": {
          "base_uri": "https://localhost:8080/",
          "height": 268
        },
        "outputId": "58617a10-1fa1-4133-ab84-d97d7f384a3f"
      },
      "source": [
        "plt.hist(model.predict(x), bins=30)\n",
        "plt.show()"
      ],
      "execution_count": null,
      "outputs": [
        {
          "output_type": "display_data",
          "data": {
            "image/png": "[encoded data removed]",
            "text/plain": [
              "<Figure size 432x288 with 1 Axes>"
            ]
          },
          "metadata": {
            "needs_background": "light"
          }
        }
      ]
    },
    {
      "cell_type": "code",
      "metadata": {
        "id": "O6SVgtP4gC22",
        "colab": {
          "base_uri": "https://localhost:8080/",
          "height": 265
        },
        "outputId": "e4741336-588d-4b75-eb0f-ab18e6b91de2"
      },
      "source": [
        "plt.plot(S[:,-1], model.predict(x), marker = \".\", linestyle='none')\n",
        "plt.show()"
      ],
      "execution_count": null,
      "outputs": [
        {
          "output_type": "display_data",
          "data": {
            "image/png": "[encoded data removed]",
            "text/plain": [
              "<Figure size 432x288 with 1 Axes>"
            ]
          },
          "metadata": {
            "needs_background": "light"
          }
        }
      ]
    },
    {
      "cell_type": "code",
      "metadata": {
        "id": "QWZHZYPf6w3j"
      },
      "source": [
        "def submodel(m=model):\n",
        "    submodel_input = m.get_layer(\"delta_29\").input\n",
        "    submodel_output = m.get_layer(\"delta_29\")(submodel_input)\n",
        "\n",
        "    return tf.keras.Model(inputs=submodel_input, outputs=submodel_output)"
      ],
      "execution_count": null,
      "outputs": []
    },
    {
      "cell_type": "code",
      "metadata": {
        "colab": {
          "base_uri": "https://localhost:8080/"
        },
        "id": "nLZXou_J103A",
        "outputId": "d4683430-3fa1-473c-cc7d-9efa3dff140f"
      },
      "source": [
        "submodel(model)(np.linspace(0.9,1.1,10))"
      ],
      "execution_count": null,
      "outputs": [
        {
          "output_type": "execute_result",
          "data": {
            "text/plain": [
              "<tf.Tensor: shape=(10, 1), dtype=float32, numpy=\n",
              "array([[1.4159083e-04],\n",
              "       [1.0006130e-03],\n",
              "       [7.0912838e-03],\n",
              "       [5.0651252e-02],\n",
              "       [3.3098519e-01],\n",
              "       [8.7009597e-01],\n",
              "       [9.5192671e-01],\n",
              "       [9.8557198e-01],\n",
              "       [9.9587959e-01],\n",
              "       [9.9883139e-01]], dtype=float32)>"
            ]
          },
          "metadata": {},
          "execution_count": 74
        }
      ]
    },
    {
      "cell_type": "code",
      "metadata": {
        "id": "WYnn-t8615L_"
      },
      "source": [
        "scenario = 12\n",
        "b = []\n",
        "for j in range(N):\n",
        "    a = model.get_layer(\"delta_\"+str(j))(S[scenario,j].reshape(1,1))\n",
        "    b.append(a.numpy().reshape(1,))"
      ],
      "execution_count": null,
      "outputs": []
    },
    {
      "cell_type": "code",
      "metadata": {
        "colab": {
          "base_uri": "https://localhost:8080/"
        },
        "id": "56lla9HABVus",
        "outputId": "c59abe5a-26bd-4af2-e84a-6778869bc557"
      },
      "source": [
        "b"
      ],
      "execution_count": null,
      "outputs": [
        {
          "output_type": "execute_result",
          "data": {
            "text/plain": [
              "[array([0.49036688], dtype=float32),\n",
              " array([0.59169304], dtype=float32),\n",
              " array([0.60009265], dtype=float32),\n",
              " array([0.875259], dtype=float32),\n",
              " array([0.64195323], dtype=float32),\n",
              " array([0.9557519], dtype=float32),\n",
              " array([0.95729166], dtype=float32),\n",
              " array([0.93800384], dtype=float32),\n",
              " array([0.8471433], dtype=float32),\n",
              " array([0.7807895], dtype=float32),\n",
              " array([0.60949093], dtype=float32),\n",
              " array([0.6802155], dtype=float32),\n",
              " array([0.7080469], dtype=float32),\n",
              " array([0.7569466], dtype=float32),\n",
              " array([0.59616697], dtype=float32),\n",
              " array([0.6090219], dtype=float32),\n",
              " array([0.38344762], dtype=float32),\n",
              " array([0.5797279], dtype=float32),\n",
              " array([0.38552648], dtype=float32),\n",
              " array([0.5511075], dtype=float32),\n",
              " array([0.27579123], dtype=float32),\n",
              " array([0.554893], dtype=float32),\n",
              " array([0.4461043], dtype=float32),\n",
              " array([0.8501504], dtype=float32),\n",
              " array([0.71300143], dtype=float32),\n",
              " array([0.8810371], dtype=float32),\n",
              " array([0.825974], dtype=float32),\n",
              " array([0.89580816], dtype=float32),\n",
              " array([0.55747765], dtype=float32),\n",
              " array([0.74558437], dtype=float32)]"
            ]
          },
          "metadata": {},
          "execution_count": 76
        }
      ]
    },
    {
      "cell_type": "code",
      "metadata": {
        "colab": {
          "base_uri": "https://localhost:8080/",
          "height": 269
        },
        "id": "d9M2gJLYESdL",
        "outputId": "d93fa394-0722-4fba-ecb1-392a4b5b5c1f"
      },
      "source": [
        "fig,ax = plt.subplots()\n",
        "ax.plot(b, marker=\"*\", color='r')\n",
        "ax2 = ax.twinx()\n",
        "ax2.plot(S[scenario,:-1], marker=\".\",)\n",
        "ax2.set_ylim(0.9,1.1)\n",
        "plt.show()"
      ],
      "execution_count": null,
      "outputs": [
        {
          "output_type": "display_data",
          "data": {
            "image/png": "[encoded data removed]",
            "text/plain": [
              "<Figure size 432x288 with 2 Axes>"
            ]
          },
          "metadata": {
            "needs_background": "light"
          }
        }
      ]
    },
    {
      "cell_type": "code",
      "metadata": {
        "id": "xwVtW-vmHvuJ"
      },
      "source": [
        "def rnn_delta_model(model_name=None, num=1):\n",
        "    price = tf.keras.layers.Input(shape=(num,1))\n",
        "    delta = tf.keras.layers.GRU(32, return_sequences=True)(price)\n",
        "    delta = tf.keras.layers.GRU(32)(delta)\n",
        "    delta = tf.keras.layers.Dense(32, activation='leaky_relu', use_bias=False)(delta)\n",
        "    delta = tf.keras.layers.BatchNormalization()(delta)\n",
        "    delta = tf.keras.layers.Dense(32, activation='leaky_relu', use_bias=False)(delta)\n",
        "    delta = tf.keras.layers.BatchNormalization()(delta)\n",
        "    delta = tf.keras.layers.Dense(32, activation='leaky_relu', use_bias=False)(delta)\n",
        "    delta = tf.keras.layers.Dense(1, activation='sigmoid')(delta)\n",
        "\n",
        "    return tf.keras.Model(inputs=price, outputs=delta, name=model_name)\n"
      ],
      "execution_count": null,
      "outputs": []
    },
    {
      "cell_type": "code",
      "metadata": {
        "colab": {
          "base_uri": "https://localhost:8080/"
        },
        "id": "Yoo3gFWu5Ty2",
        "outputId": "84b711bb-e0f7-4869-fe46-d061277d2aa8"
      },
      "source": [
        "rnn_delta_model(num=100).summary()"
      ],
      "execution_count": null,
      "outputs": [
        {
          "output_type": "stream",
          "name": "stdout",
          "text": [
            "Model: \"model_32\"\n",
            "_________________________________________________________________\n",
            " Layer (type)                Output Shape              Param #   \n",
            "=================================================================\n",
            " input_290 (InputLayer)      [(None, 100, 1)]          0         \n",
            "                                                                 \n",
            " gru_66 (GRU)                (None, 100, 32)           3360      \n",
            "                                                                 \n",
            " gru_67 (GRU)                (None, 32)                6336      \n",
            "                                                                 \n",
            " dense_1156 (Dense)          (None, 32)                1024      \n",
            "                                                                 \n",
            " batch_normalization_578 (Ba  (None, 32)               128       \n",
            " tchNormalization)                                               \n",
            "                                                                 \n",
            " dense_1157 (Dense)          (None, 32)                1024      \n",
            "                                                                 \n",
            " batch_normalization_579 (Ba  (None, 32)               128       \n",
            " tchNormalization)                                               \n",
            "                                                                 \n",
            " dense_1158 (Dense)          (None, 32)                1024      \n",
            "                                                                 \n",
            " dense_1159 (Dense)          (None, 1)                 33        \n",
            "                                                                 \n",
            "=================================================================\n",
            "Total params: 13,057\n",
            "Trainable params: 12,929\n",
            "Non-trainable params: 128\n",
            "_________________________________________________________________\n"
          ]
        }
      ]
    },
    {
      "cell_type": "code",
      "metadata": {
        "id": "xavfoVtU54JV"
      },
      "source": [
        "price = tf.keras.layers.Input(shape=(1,), name=\"price\")\n",
        "\n",
        "my_input = [price]\n",
        "\n",
        "hedge_cost = tf.keras.layers.Lambda(lambda x: x*0.0)(price)\n",
        "\n",
        "price_set = tf.keras.layers.Concatenate()([price, price])\n",
        "\n",
        "for j in range(N):\n",
        "    delta = rnn_delta_model(model_name=\"delta_\"+str(j), num=2+j)(price_set)\n",
        "\n",
        "    new_price = tf.keras.layers.Input(shape=(1,), name='S'+str(j+1))\n",
        "    my_input += [new_price]\n",
        "\n",
        "    price_inc = tf.keras.layers.Subtract(name='price_inc_'+str(j))([price, new_price])\n",
        "    cost = tf.keras.layers.Multiply(name=\"stock_\"+str(j))([delta, price_inc])\n",
        "    hedge_cost = tf.keras.layers.Add(name='cost_'+str(j))([hedge_cost, cost])\n",
        "\n",
        "    price_set = tf.keras.layers.Concatenate()([price_set, new_price])\n",
        "\n",
        "    price = new_price\n",
        "\n",
        "payoff = tf.keras.layers.Input(shape=(1,), name='payoff')\n",
        "my_input += [payoff]\n",
        "\n",
        "cum_cost = tf.keras.layers.Add(name=\"hedge_cost_plus_payoff\")([hedge_cost, payoff])\n",
        "\n",
        "model = tf.keras.Model(inputs=my_input, outputs=cum_cost)"
      ],
      "execution_count": null,
      "outputs": []
    },
    {
      "cell_type": "code",
      "metadata": {
        "colab": {
          "base_uri": "https://localhost:8080/"
        },
        "id": "j-xSJ1Oo6tUj",
        "outputId": "8aa3634a-0a3e-4673-8631-2f307f88bde9"
      },
      "source": [
        "model.compile(loss='mse', optimizer='adam')\n",
        "hist = model.fit(x,y, batch_size=32, epochs=50, verbose=True, validation_split=0.2)"
      ],
      "execution_count": null,
      "outputs": [
        {
          "output_type": "stream",
          "name": "stdout",
          "text": [
            "Epoch 1/50\n",
            "25/25 [==============================] - 117s 1s/step - loss: 1.3972e-04 - val_loss: 2.7964e-04\n",
            "Epoch 2/50\n",
            "25/25 [==============================] - 6s 233ms/step - loss: 5.6668e-05 - val_loss: 2.7964e-04\n",
            "Epoch 3/50\n",
            "25/25 [==============================] - 6s 230ms/step - loss: 4.2406e-05 - val_loss: 2.7858e-04\n",
            "Epoch 4/50\n",
            "25/25 [==============================] - 6s 229ms/step - loss: 3.8548e-05 - val_loss: 2.7663e-04\n",
            "Epoch 5/50\n",
            "25/25 [==============================] - 6s 230ms/step - loss: 4.1045e-05 - val_loss: 2.7336e-04\n",
            "Epoch 6/50\n",
            "25/25 [==============================] - 6s 228ms/step - loss: 3.7330e-05 - val_loss: 2.6872e-04\n",
            "Epoch 7/50\n",
            "25/25 [==============================] - 6s 231ms/step - loss: 3.0299e-05 - val_loss: 2.6797e-04\n",
            "Epoch 8/50\n",
            "25/25 [==============================] - 6s 230ms/step - loss: 3.6546e-05 - val_loss: 2.6262e-04\n",
            "Epoch 9/50\n",
            "25/25 [==============================] - 6s 229ms/step - loss: 3.3481e-05 - val_loss: 2.5374e-04\n",
            "Epoch 10/50\n",
            "25/25 [==============================] - 6s 231ms/step - loss: 3.6123e-05 - val_loss: 2.5278e-04\n",
            "Epoch 11/50\n",
            "25/25 [==============================] - 6s 230ms/step - loss: 3.4872e-05 - val_loss: 2.5304e-04\n",
            "Epoch 12/50\n",
            "25/25 [==============================] - 6s 229ms/step - loss: 2.9192e-05 - val_loss: 2.5899e-04\n",
            "Epoch 13/50\n",
            "25/25 [==============================] - 6s 231ms/step - loss: 3.5356e-05 - val_loss: 2.7526e-04\n",
            "Epoch 14/50\n",
            "25/25 [==============================] - 6s 229ms/step - loss: 3.1790e-05 - val_loss: 2.6624e-04\n",
            "Epoch 15/50\n",
            "25/25 [==============================] - 6s 230ms/step - loss: 2.3223e-05 - val_loss: 2.4631e-04\n",
            "Epoch 16/50\n",
            "25/25 [==============================] - 6s 231ms/step - loss: 2.9212e-05 - val_loss: 2.8798e-04\n",
            "Epoch 17/50\n",
            "25/25 [==============================] - 6s 229ms/step - loss: 3.0342e-05 - val_loss: 3.5122e-04\n",
            "Epoch 18/50\n",
            "25/25 [==============================] - 6s 231ms/step - loss: 2.7894e-05 - val_loss: 3.0552e-04\n",
            "Epoch 19/50\n",
            "25/25 [==============================] - 6s 229ms/step - loss: 2.7370e-05 - val_loss: 3.7342e-04\n",
            "Epoch 20/50\n",
            "25/25 [==============================] - 6s 230ms/step - loss: 2.2734e-05 - val_loss: 3.4590e-04\n",
            "Epoch 21/50\n",
            "25/25 [==============================] - 6s 229ms/step - loss: 2.3934e-05 - val_loss: 4.1475e-04\n",
            "Epoch 22/50\n",
            "25/25 [==============================] - 6s 230ms/step - loss: 3.4933e-05 - val_loss: 6.4790e-04\n",
            "Epoch 23/50\n",
            "25/25 [==============================] - 6s 229ms/step - loss: 3.2314e-05 - val_loss: 4.8579e-04\n",
            "Epoch 24/50\n",
            "25/25 [==============================] - 6s 229ms/step - loss: 2.4043e-05 - val_loss: 5.8882e-04\n",
            "Epoch 25/50\n",
            "25/25 [==============================] - 6s 229ms/step - loss: 3.0828e-05 - val_loss: 5.2831e-04\n",
            "Epoch 26/50\n",
            "25/25 [==============================] - 6s 227ms/step - loss: 2.4043e-05 - val_loss: 4.5296e-04\n",
            "Epoch 27/50\n",
            "25/25 [==============================] - 6s 223ms/step - loss: 3.9183e-05 - val_loss: 6.3795e-04\n",
            "Epoch 28/50\n",
            "25/25 [==============================] - 6s 223ms/step - loss: 2.5812e-05 - val_loss: 7.4725e-04\n",
            "Epoch 29/50\n",
            "25/25 [==============================] - 6s 223ms/step - loss: 1.8196e-05 - val_loss: 5.5338e-04\n",
            "Epoch 30/50\n",
            "25/25 [==============================] - 6s 222ms/step - loss: 2.5238e-05 - val_loss: 6.8305e-04\n",
            "Epoch 31/50\n",
            "25/25 [==============================] - 6s 222ms/step - loss: 2.3466e-05 - val_loss: 8.1727e-04\n",
            "Epoch 32/50\n",
            "25/25 [==============================] - 6s 222ms/step - loss: 2.3949e-05 - val_loss: 7.6545e-04\n",
            "Epoch 33/50\n",
            "25/25 [==============================] - 6s 221ms/step - loss: 2.7610e-05 - val_loss: 6.1717e-04\n",
            "Epoch 34/50\n",
            "25/25 [==============================] - 6s 222ms/step - loss: 2.4061e-05 - val_loss: 6.2213e-04\n",
            "Epoch 35/50\n",
            "25/25 [==============================] - 6s 222ms/step - loss: 2.1428e-05 - val_loss: 7.1722e-04\n",
            "Epoch 36/50\n",
            "25/25 [==============================] - 6s 221ms/step - loss: 2.3299e-05 - val_loss: 5.6647e-04\n",
            "Epoch 37/50\n",
            "25/25 [==============================] - 6s 221ms/step - loss: 2.1060e-05 - val_loss: 6.2455e-04\n",
            "Epoch 38/50\n",
            "25/25 [==============================] - 6s 223ms/step - loss: 3.1330e-05 - val_loss: 7.8886e-04\n",
            "Epoch 39/50\n",
            "25/25 [==============================] - 6s 223ms/step - loss: 2.6293e-05 - val_loss: 6.2430e-04\n",
            "Epoch 40/50\n",
            "25/25 [==============================] - 6s 222ms/step - loss: 2.2289e-05 - val_loss: 5.1646e-04\n",
            "Epoch 41/50\n",
            "25/25 [==============================] - 6s 224ms/step - loss: 2.8573e-05 - val_loss: 5.9972e-04\n",
            "Epoch 42/50\n",
            "25/25 [==============================] - 6s 221ms/step - loss: 2.5535e-05 - val_loss: 5.7367e-04\n",
            "Epoch 43/50\n",
            "25/25 [==============================] - 6s 222ms/step - loss: 2.4557e-05 - val_loss: 7.5840e-04\n",
            "Epoch 44/50\n",
            "25/25 [==============================] - 6s 222ms/step - loss: 2.5630e-05 - val_loss: 7.6374e-04\n",
            "Epoch 45/50\n",
            "25/25 [==============================] - 6s 223ms/step - loss: 2.9341e-05 - val_loss: 7.4510e-04\n",
            "Epoch 46/50\n",
            "25/25 [==============================] - 6s 221ms/step - loss: 2.1644e-05 - val_loss: 6.8290e-04\n",
            "Epoch 47/50\n",
            "25/25 [==============================] - 6s 223ms/step - loss: 3.1349e-05 - val_loss: 8.3861e-04\n",
            "Epoch 48/50\n",
            "25/25 [==============================] - 6s 221ms/step - loss: 2.1835e-05 - val_loss: 7.3555e-04\n",
            "Epoch 49/50\n",
            "25/25 [==============================] - 6s 222ms/step - loss: 3.0789e-05 - val_loss: 8.8607e-04\n",
            "Epoch 50/50\n",
            "25/25 [==============================] - 6s 223ms/step - loss: 1.7745e-05 - val_loss: 6.1747e-04\n"
          ]
        }
      ]
    },
    {
      "cell_type": "code",
      "metadata": {
        "colab": {
          "base_uri": "https://localhost:8080/",
          "height": 265
        },
        "id": "TnxTKZYK63td",
        "outputId": "3ed58e09-7312-469b-9330-4a092cc7aa88"
      },
      "source": [
        "plt.plot(S[:,-1], model.predict(x), marker = \".\", linestyle='none')\n",
        "plt.show()"
      ],
      "execution_count": null,
      "outputs": [
        {
          "output_type": "display_data",
          "data": {
            "image/png": "[encoded data removed]",
            "text/plain": [
              "<Figure size 432x288 with 1 Axes>"
            ]
          },
          "metadata": {
            "needs_background": "light"
          }
        }
      ]
    },
    {
      "cell_type": "code",
      "metadata": {
        "id": "aa4Mw0f-7Oa4"
      },
      "source": [
        ""
      ],
      "execution_count": null,
      "outputs": []
    }
  ]
}