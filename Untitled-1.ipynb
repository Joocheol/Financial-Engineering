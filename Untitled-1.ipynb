{
 "cells": [
  {
   "cell_type": "code",
   "execution_count": 1,
   "metadata": {},
   "outputs": [
    {
     "data": {
      "text/html": [
       "<pre style=\"white-space:pre;overflow-x:auto;line-height:normal;font-family:Menlo,'DejaVu Sans Mono',consolas,'Courier New',monospace\">Manim Community <span style=\"color: #008000; text-decoration-color: #008000\">v0.15.1</span>\n",
       "\n",
       "</pre>\n"
      ],
      "text/plain": [
       "Manim Community \u001b[32mv0.\u001b[0m\u001b[32m15.1\u001b[0m\n",
       "\n"
      ]
     },
     "metadata": {},
     "output_type": "display_data"
    }
   ],
   "source": [
    "from manim import *\n",
    "\n",
    "config.media_width = \"75%\"\n",
    "config.verbosity = \"WARNING\""
   ]
  },
  {
   "cell_type": "code",
   "execution_count": 2,
   "metadata": {},
   "outputs": [
    {
     "name": "stderr",
     "output_type": "stream",
     "text": [
      "                                                                        \r"
     ]
    },
    {
     "data": {
      "text/html": [
       "<video src=\"media\\jupyter\\test@2022-04-16@08-17-19.mp4\" controls autoplay loop style=\"max-width: 75%;\"  >\n",
       "      Your browser does not support the <code>video</code> element.\n",
       "    </video>"
      ],
      "text/plain": [
       "<IPython.core.display.Video object>"
      ]
     },
     "metadata": {},
     "output_type": "display_data"
    }
   ],
   "source": [
    "%%manim -qm test\n",
    "\n",
    "class test(Scene):\n",
    "    def construct(self):\n",
    "\n",
    "        a = Tex(r\"$S_u$\")\n",
    "        self.play(Create(a))\n",
    "        self.wait()\n"
   ]
  },
  {
   "cell_type": "code",
   "execution_count": 10,
   "metadata": {},
   "outputs": [
    {
     "name": "stderr",
     "output_type": "stream",
     "text": [
      "                                                                     \r"
     ]
    },
    {
     "data": {
      "text/html": [
       "<video src=\"media\\jupyter\\CircleToSquare@2022-04-15@13-52-19.mp4\" controls autoplay loop style=\"max-width: 75%;\"  >\n",
       "      Your browser does not support the <code>video</code> element.\n",
       "    </video>"
      ],
      "text/plain": [
       "<IPython.core.display.Video object>"
      ]
     },
     "metadata": {},
     "output_type": "display_data"
    }
   ],
   "source": [
    "%%manim -qm CircleToSquare\n",
    "\n",
    "class CircleToSquare(Scene):\n",
    "    def construct(self):\n",
    "        blue_circle = Circle(color=BLUE, fill_opacity=0.5)\n",
    "        green_square = Square(color=GREEN, fill_opacity=0.8)\n",
    "        self.play(Create(blue_circle))\n",
    "        self.wait()\n",
    "        \n",
    "        self.play(Transform(blue_circle, green_square))\n",
    "        self.wait()\n",
    "        self.wait()\n",
    "    "
   ]
  },
  {
   "cell_type": "code",
   "execution_count": 2,
   "metadata": {},
   "outputs": [
    {
     "ename": "RuntimeError",
     "evalue": "latex failed but did not produce a log file. Check your LaTeX installation.",
     "output_type": "error",
     "traceback": [
      "\u001b[1;31m---------------------------------------------------------------------------\u001b[0m",
      "\u001b[1;31mRuntimeError\u001b[0m                              Traceback (most recent call last)",
      "\u001b[1;32mUntitled-1.ipynb Cell 2'\u001b[0m in \u001b[0;36m<cell line: 1>\u001b[1;34m()\u001b[0m\n\u001b[1;32m----> <a href='vscode-notebook-cell:Untitled-1.ipynb?jupyter-notebook#ch0000001untitled?line=0'>1</a>\u001b[0m get_ipython()\u001b[39m.\u001b[39;49mrun_cell_magic(\u001b[39m'\u001b[39;49m\u001b[39mmanim\u001b[39;49m\u001b[39m'\u001b[39;49m, \u001b[39m'\u001b[39;49m\u001b[39m-qm a20200419\u001b[39;49m\u001b[39m'\u001b[39;49m, \u001b[39m'\u001b[39;49m\u001b[39m\\n\u001b[39;49;00m\u001b[39mclass a20200419(Scene):\u001b[39;49m\u001b[39m\\n\u001b[39;49;00m\u001b[39m    def construct(self):\u001b[39;49m\u001b[39m\\n\u001b[39;49;00m\u001b[39m\\n\u001b[39;49;00m\u001b[39m        S = Tex(\u001b[39;49m\u001b[39m\"\u001b[39;49m\u001b[39mS\u001b[39;49m\u001b[39m\"\u001b[39;49m\u001b[39m)\u001b[39;49m\u001b[39m\\n\u001b[39;49;00m\u001b[39m        S_u = Tex(\u001b[39;49m\u001b[39m\"\u001b[39;49m\u001b[39mu S\u001b[39;49m\u001b[39m\"\u001b[39;49m\u001b[39m)\u001b[39;49m\u001b[39m\\n\u001b[39;49;00m\u001b[39m        S_d = Tex(\u001b[39;49m\u001b[39m\"\u001b[39;49m\u001b[39md S\u001b[39;49m\u001b[39m\"\u001b[39;49m\u001b[39m)\u001b[39;49m\u001b[39m\\n\u001b[39;49;00m\u001b[39m\\n\u001b[39;49;00m\u001b[39m        S.move_to(LEFT+DOWN)\u001b[39;49m\u001b[39m\\n\u001b[39;49;00m\u001b[39m        S_u.move_to(RIGHT)\u001b[39;49m\u001b[39m\\n\u001b[39;49;00m\u001b[39m        S_d.move_to(RIGHT+DOWN*2)\u001b[39;49m\u001b[39m\\n\u001b[39;49;00m\u001b[39m\\n\u001b[39;49;00m\u001b[39m        arrow_u = Arrow(S.get_right(), S_u.get_left(), buff=0.5)\u001b[39;49m\u001b[39m\\n\u001b[39;49;00m\u001b[39m        arrow_d = Arrow(S.get_right(), S_d.get_left(), buff=0.5)\u001b[39;49m\u001b[39m\\n\u001b[39;49;00m\u001b[39m\\n\u001b[39;49;00m\u001b[39m        self.play(Write(S))\u001b[39;49m\u001b[39m\\n\u001b[39;49;00m\u001b[39m        self.play(GrowArrow(arrow_u))\u001b[39;49m\u001b[39m\\n\u001b[39;49;00m\u001b[39m        self.play(Write(S_u))\u001b[39;49m\u001b[39m\\n\u001b[39;49;00m\u001b[39m        self.play(GrowArrow(arrow_d))\u001b[39;49m\u001b[39m\\n\u001b[39;49;00m\u001b[39m        self.play(Write(S_d))\u001b[39;49m\u001b[39m\\n\u001b[39;49;00m\u001b[39m        self.play(FadeOut(arrow_u), FadeOut(arrow_d))\u001b[39;49m\u001b[39m\\n\u001b[39;49;00m\u001b[39m\\n\u001b[39;49;00m\u001b[39m        SS = Tex(\u001b[39;49m\u001b[39m\"\u001b[39;49m\u001b[39mS\u001b[39;49m\u001b[39m\"\u001b[39;49m\u001b[39m)\u001b[39;49m\u001b[39m\\n\u001b[39;49;00m\u001b[39m        SS_u = Tex(\u001b[39;49m\u001b[39m\"\u001b[39;49m\u001b[39mu S\u001b[39;49m\u001b[39m\"\u001b[39;49m\u001b[39m)\u001b[39;49m\u001b[39m\\n\u001b[39;49;00m\u001b[39m        SS_d = Tex(\u001b[39;49m\u001b[39m\"\u001b[39;49m\u001b[39md S\u001b[39;49m\u001b[39m\"\u001b[39;49m\u001b[39m)\u001b[39;49m\u001b[39m\\n\u001b[39;49;00m\u001b[39m        SS.scale(0.7).move_to(LEFT*6+UP*2.5)\u001b[39;49m\u001b[39m\\n\u001b[39;49;00m\u001b[39m        SS_u.scale(0.7).move_to(LEFT*5+UP*3.5)\u001b[39;49m\u001b[39m\\n\u001b[39;49;00m\u001b[39m        SS_d.scale(0.7).move_to(LEFT*5+UP*1.5)\u001b[39;49m\u001b[39m\\n\u001b[39;49;00m\u001b[39m\\n\u001b[39;49;00m\u001b[39m        self.play(Transform(S, SS), Transform(S_u, SS_u), Transform(S_d, SS_d))\u001b[39;49m\u001b[39m\\n\u001b[39;49;00m\u001b[39m        \u001b[39;49m\u001b[39m\\n\u001b[39;49;00m\u001b[39m        r = Tex(\u001b[39;49m\u001b[39m\"\u001b[39;49m\u001b[39m1\u001b[39;49m\u001b[39m\"\u001b[39;49m\u001b[39m)\u001b[39;49m\u001b[39m\\n\u001b[39;49;00m\u001b[39m        r_u = Tex(\u001b[39;49m\u001b[39m\"\u001b[39;49m\u001b[39mr\u001b[39;49m\u001b[39m\"\u001b[39;49m\u001b[39m)\u001b[39;49m\u001b[39m\\n\u001b[39;49;00m\u001b[39m        r_d = Tex(\u001b[39;49m\u001b[39m\"\u001b[39;49m\u001b[39mr\u001b[39;49m\u001b[39m\"\u001b[39;49m\u001b[39m)\u001b[39;49m\u001b[39m\\n\u001b[39;49;00m\u001b[39m\\n\u001b[39;49;00m\u001b[39m        r.move_to(LEFT+DOWN)\u001b[39;49m\u001b[39m\\n\u001b[39;49;00m\u001b[39m        r_u.move_to(RIGHT)\u001b[39;49m\u001b[39m\\n\u001b[39;49;00m\u001b[39m        r_d.move_to(RIGHT+DOWN*2)\u001b[39;49m\u001b[39m\\n\u001b[39;49;00m\u001b[39m\\n\u001b[39;49;00m\u001b[39m        arrow_u = Arrow(r.get_right(), r_u.get_left(), buff=0.5)\u001b[39;49m\u001b[39m\\n\u001b[39;49;00m\u001b[39m        arrow_d = Arrow(r.get_right(), r_d.get_left(), buff=0.5)\u001b[39;49m\u001b[39m\\n\u001b[39;49;00m\u001b[39m\\n\u001b[39;49;00m\u001b[39m        self.play(Write(r))\u001b[39;49m\u001b[39m\\n\u001b[39;49;00m\u001b[39m        self.play(GrowArrow(arrow_u))\u001b[39;49m\u001b[39m\\n\u001b[39;49;00m\u001b[39m        self.play(Write(r_u))\u001b[39;49m\u001b[39m\\n\u001b[39;49;00m\u001b[39m        self.play(GrowArrow(arrow_d))\u001b[39;49m\u001b[39m\\n\u001b[39;49;00m\u001b[39m        self.play(Write(r_d))\u001b[39;49m\u001b[39m\\n\u001b[39;49;00m\u001b[39m        self.play(FadeOut(arrow_u), FadeOut(arrow_d))\u001b[39;49m\u001b[39m\\n\u001b[39;49;00m\u001b[39m\\n\u001b[39;49;00m\u001b[39m        rr = Tex(\u001b[39;49m\u001b[39m\"\u001b[39;49m\u001b[39m1\u001b[39;49m\u001b[39m\"\u001b[39;49m\u001b[39m)\u001b[39;49m\u001b[39m\\n\u001b[39;49;00m\u001b[39m        rr_u = Tex(\u001b[39;49m\u001b[39m\"\u001b[39;49m\u001b[39mr\u001b[39;49m\u001b[39m\"\u001b[39;49m\u001b[39m)\u001b[39;49m\u001b[39m\\n\u001b[39;49;00m\u001b[39m        rr_d = Tex(\u001b[39;49m\u001b[39m\"\u001b[39;49m\u001b[39mr\u001b[39;49m\u001b[39m\"\u001b[39;49m\u001b[39m)\u001b[39;49m\u001b[39m\\n\u001b[39;49;00m\u001b[39m        rr.scale(0.7).move_to(LEFT*1+UP*2.5)\u001b[39;49m\u001b[39m\\n\u001b[39;49;00m\u001b[39m        rr_u.scale(0.7).move_to(RIGHT*0+UP*3.5)\u001b[39;49m\u001b[39m\\n\u001b[39;49;00m\u001b[39m        rr_d.scale(0.7).move_to(RIGHT*0+UP*1.5)\u001b[39;49m\u001b[39m\\n\u001b[39;49;00m\u001b[39m\\n\u001b[39;49;00m\u001b[39m        self.play(Transform(r, rr), Transform(r_u, rr_u), Transform(r_d, rr_d))\u001b[39;49m\u001b[39m\\n\u001b[39;49;00m\u001b[39m\\n\u001b[39;49;00m\u001b[39m        C = Tex(\u001b[39;49m\u001b[39m\"\u001b[39;49m\u001b[39mC\u001b[39;49m\u001b[39m\"\u001b[39;49m\u001b[39m)\u001b[39;49m\u001b[39m\\n\u001b[39;49;00m\u001b[39m        C_u = Tex(\u001b[39;49m\u001b[39m\"\u001b[39;49m\u001b[39mC_u = \u001b[39;49m\u001b[39m\\\\\u001b[39;49;00m\u001b[39m\\\\\u001b[39;49;00m\u001b[39mmax (uS - K, 0)\u001b[39;49m\u001b[39m\"\u001b[39;49m\u001b[39m)\u001b[39;49m\u001b[39m\\n\u001b[39;49;00m\u001b[39m        C_d = Tex(\u001b[39;49m\u001b[39m\"\u001b[39;49m\u001b[39mC_d = \u001b[39;49m\u001b[39m\\\\\u001b[39;49;00m\u001b[39m\\\\\u001b[39;49;00m\u001b[39mmax (dS - K, 0)\u001b[39;49m\u001b[39m\"\u001b[39;49m\u001b[39m)\u001b[39;49m\u001b[39m\\n\u001b[39;49;00m\u001b[39m\\n\u001b[39;49;00m\u001b[39m        C.move_to(LEFT*2+DOWN)\u001b[39;49m\u001b[39m\\n\u001b[39;49;00m\u001b[39m        C_u.move_to(RIGHT*2)\u001b[39;49m\u001b[39m\\n\u001b[39;49;00m\u001b[39m        C_d.move_to(RIGHT*2+DOWN*2)\u001b[39;49m\u001b[39m\\n\u001b[39;49;00m\u001b[39m\\n\u001b[39;49;00m\u001b[39m        arrow_u = Arrow(C.get_right(), C_u.get_left(), buff=0.5)\u001b[39;49m\u001b[39m\\n\u001b[39;49;00m\u001b[39m        arrow_d = Arrow(C.get_right(), C_d.get_left(), buff=0.5)\u001b[39;49m\u001b[39m\\n\u001b[39;49;00m\u001b[39m\\n\u001b[39;49;00m\u001b[39m        self.play(Write(C))\u001b[39;49m\u001b[39m\\n\u001b[39;49;00m\u001b[39m        self.play(GrowArrow(arrow_u))\u001b[39;49m\u001b[39m\\n\u001b[39;49;00m\u001b[39m        self.play(Write(C_u))\u001b[39;49m\u001b[39m\\n\u001b[39;49;00m\u001b[39m        self.play(GrowArrow(arrow_d))\u001b[39;49m\u001b[39m\\n\u001b[39;49;00m\u001b[39m        self.play(Write(C_d))\u001b[39;49m\u001b[39m\\n\u001b[39;49;00m\u001b[39m        self.play(FadeOut(arrow_u), FadeOut(arrow_d))\u001b[39;49m\u001b[39m\\n\u001b[39;49;00m\u001b[39m\\n\u001b[39;49;00m\u001b[39m        CC = Tex(\u001b[39;49m\u001b[39m\"\u001b[39;49m\u001b[39m?\u001b[39;49m\u001b[39m\"\u001b[39;49m\u001b[39m)\u001b[39;49m\u001b[39m\\n\u001b[39;49;00m\u001b[39m        CC_u = Tex(\u001b[39;49m\u001b[39m\"\u001b[39;49m\u001b[39mC_u\u001b[39;49m\u001b[39m\"\u001b[39;49m\u001b[39m)\u001b[39;49m\u001b[39m\\n\u001b[39;49;00m\u001b[39m        CC_d = Tex(\u001b[39;49m\u001b[39m\"\u001b[39;49m\u001b[39mC_d\u001b[39;49m\u001b[39m\"\u001b[39;49m\u001b[39m)\u001b[39;49m\u001b[39m\\n\u001b[39;49;00m\u001b[39m        CC.scale(0.7).move_to(RIGHT*4+UP*2.5)\u001b[39;49m\u001b[39m\\n\u001b[39;49;00m\u001b[39m        CC_u.scale(0.7).move_to(RIGHT*5+UP*3.5)\u001b[39;49m\u001b[39m\\n\u001b[39;49;00m\u001b[39m        CC_d.scale(0.7).move_to(RIGHT*5+UP*1.5)\u001b[39;49m\u001b[39m\\n\u001b[39;49;00m\u001b[39m\\n\u001b[39;49;00m\u001b[39m        self.play(Transform(C, CC), Transform(C_u, CC_u), Transform(C_d, CC_d))\u001b[39;49m\u001b[39m\\n\u001b[39;49;00m\u001b[39m\\n\u001b[39;49;00m\u001b[39m        condition = Tex(\u001b[39;49m\u001b[39m\"\u001b[39;49m\u001b[39md < r < u\u001b[39;49m\u001b[39m\"\u001b[39;49m\u001b[39m)\u001b[39;49m\u001b[39m\\n\u001b[39;49;00m\u001b[39m        self.play(Write(condition))\u001b[39;49m\u001b[39m\\n\u001b[39;49;00m\u001b[39m        self.wait(2)\u001b[39;49m\u001b[39m\\n\u001b[39;49;00m\u001b[39m        \u001b[39;49m\u001b[39m\\n\u001b[39;49;00m\u001b[39m'\u001b[39;49m)\n",
      "File \u001b[1;32mC:\\Python310\\lib\\site-packages\\IPython\\core\\interactiveshell.py:2347\u001b[0m, in \u001b[0;36mInteractiveShell.run_cell_magic\u001b[1;34m(self, magic_name, line, cell)\u001b[0m\n\u001b[0;32m   <a href='file:///c%3A/Python310/lib/site-packages/IPython/core/interactiveshell.py?line=2344'>2345</a>\u001b[0m \u001b[39mwith\u001b[39;00m \u001b[39mself\u001b[39m\u001b[39m.\u001b[39mbuiltin_trap:\n\u001b[0;32m   <a href='file:///c%3A/Python310/lib/site-packages/IPython/core/interactiveshell.py?line=2345'>2346</a>\u001b[0m     args \u001b[39m=\u001b[39m (magic_arg_s, cell)\n\u001b[1;32m-> <a href='file:///c%3A/Python310/lib/site-packages/IPython/core/interactiveshell.py?line=2346'>2347</a>\u001b[0m     result \u001b[39m=\u001b[39m fn(\u001b[39m*\u001b[39margs, \u001b[39m*\u001b[39m\u001b[39m*\u001b[39mkwargs)\n\u001b[0;32m   <a href='file:///c%3A/Python310/lib/site-packages/IPython/core/interactiveshell.py?line=2347'>2348</a>\u001b[0m \u001b[39mreturn\u001b[39;00m result\n",
      "File \u001b[1;32mC:\\tools\\Manim\\Lib\\site-packages\\manim\\utils\\ipython_magic.py:148\u001b[0m, in \u001b[0;36mManimMagic.manim\u001b[1;34m(self, line, cell, local_ns)\u001b[0m\n\u001b[0;32m    <a href='file:///c%3A/tools/Manim/Lib/site-packages/manim/utils/ipython_magic.py?line=145'>146</a>\u001b[0m     SceneClass \u001b[39m=\u001b[39m local_ns[config[\u001b[39m\"\u001b[39m\u001b[39mscene_names\u001b[39m\u001b[39m\"\u001b[39m][\u001b[39m0\u001b[39m]]\n\u001b[0;32m    <a href='file:///c%3A/tools/Manim/Lib/site-packages/manim/utils/ipython_magic.py?line=146'>147</a>\u001b[0m     scene \u001b[39m=\u001b[39m SceneClass(renderer\u001b[39m=\u001b[39mrenderer)\n\u001b[1;32m--> <a href='file:///c%3A/tools/Manim/Lib/site-packages/manim/utils/ipython_magic.py?line=147'>148</a>\u001b[0m     scene\u001b[39m.\u001b[39;49mrender()\n\u001b[0;32m    <a href='file:///c%3A/tools/Manim/Lib/site-packages/manim/utils/ipython_magic.py?line=148'>149</a>\u001b[0m \u001b[39mfinally\u001b[39;00m:\n\u001b[0;32m    <a href='file:///c%3A/tools/Manim/Lib/site-packages/manim/utils/ipython_magic.py?line=149'>150</a>\u001b[0m     \u001b[39m# Shader cache becomes invalid as the context is destroyed\u001b[39;00m\n\u001b[0;32m    <a href='file:///c%3A/tools/Manim/Lib/site-packages/manim/utils/ipython_magic.py?line=150'>151</a>\u001b[0m     shader_program_cache\u001b[39m.\u001b[39mclear()\n",
      "File \u001b[1;32mC:\\tools\\Manim\\Lib\\site-packages\\manim\\scene\\scene.py:222\u001b[0m, in \u001b[0;36mScene.render\u001b[1;34m(self, preview)\u001b[0m\n\u001b[0;32m    <a href='file:///c%3A/tools/Manim/Lib/site-packages/manim/scene/scene.py?line=219'>220</a>\u001b[0m \u001b[39mself\u001b[39m\u001b[39m.\u001b[39msetup()\n\u001b[0;32m    <a href='file:///c%3A/tools/Manim/Lib/site-packages/manim/scene/scene.py?line=220'>221</a>\u001b[0m \u001b[39mtry\u001b[39;00m:\n\u001b[1;32m--> <a href='file:///c%3A/tools/Manim/Lib/site-packages/manim/scene/scene.py?line=221'>222</a>\u001b[0m     \u001b[39mself\u001b[39;49m\u001b[39m.\u001b[39;49mconstruct()\n\u001b[0;32m    <a href='file:///c%3A/tools/Manim/Lib/site-packages/manim/scene/scene.py?line=222'>223</a>\u001b[0m \u001b[39mexcept\u001b[39;00m EndSceneEarlyException:\n\u001b[0;32m    <a href='file:///c%3A/tools/Manim/Lib/site-packages/manim/scene/scene.py?line=223'>224</a>\u001b[0m     \u001b[39mpass\u001b[39;00m\n",
      "File \u001b[1;32m<string>:5\u001b[0m, in \u001b[0;36mconstruct\u001b[1;34m(self)\u001b[0m\n",
      "File \u001b[1;32mC:\\tools\\Manim\\Lib\\site-packages\\manim\\mobject\\text\\tex_mobject.py:434\u001b[0m, in \u001b[0;36mTex.__init__\u001b[1;34m(self, arg_separator, tex_environment, *tex_strings, **kwargs)\u001b[0m\n\u001b[0;32m    <a href='file:///c%3A/tools/Manim/Lib/site-packages/manim/mobject/text/tex_mobject.py?line=430'>431</a>\u001b[0m \u001b[39mdef\u001b[39;00m \u001b[39m__init__\u001b[39m(\n\u001b[0;32m    <a href='file:///c%3A/tools/Manim/Lib/site-packages/manim/mobject/text/tex_mobject.py?line=431'>432</a>\u001b[0m     \u001b[39mself\u001b[39m, \u001b[39m*\u001b[39mtex_strings, arg_separator\u001b[39m=\u001b[39m\u001b[39m\"\u001b[39m\u001b[39m\"\u001b[39m, tex_environment\u001b[39m=\u001b[39m\u001b[39m\"\u001b[39m\u001b[39mcenter\u001b[39m\u001b[39m\"\u001b[39m, \u001b[39m*\u001b[39m\u001b[39m*\u001b[39mkwargs\n\u001b[0;32m    <a href='file:///c%3A/tools/Manim/Lib/site-packages/manim/mobject/text/tex_mobject.py?line=432'>433</a>\u001b[0m ):\n\u001b[1;32m--> <a href='file:///c%3A/tools/Manim/Lib/site-packages/manim/mobject/text/tex_mobject.py?line=433'>434</a>\u001b[0m     \u001b[39msuper\u001b[39m()\u001b[39m.\u001b[39m\u001b[39m__init__\u001b[39m(\n\u001b[0;32m    <a href='file:///c%3A/tools/Manim/Lib/site-packages/manim/mobject/text/tex_mobject.py?line=434'>435</a>\u001b[0m         \u001b[39m*\u001b[39mtex_strings,\n\u001b[0;32m    <a href='file:///c%3A/tools/Manim/Lib/site-packages/manim/mobject/text/tex_mobject.py?line=435'>436</a>\u001b[0m         arg_separator\u001b[39m=\u001b[39marg_separator,\n\u001b[0;32m    <a href='file:///c%3A/tools/Manim/Lib/site-packages/manim/mobject/text/tex_mobject.py?line=436'>437</a>\u001b[0m         tex_environment\u001b[39m=\u001b[39mtex_environment,\n\u001b[0;32m    <a href='file:///c%3A/tools/Manim/Lib/site-packages/manim/mobject/text/tex_mobject.py?line=437'>438</a>\u001b[0m         \u001b[39m*\u001b[39m\u001b[39m*\u001b[39mkwargs,\n\u001b[0;32m    <a href='file:///c%3A/tools/Manim/Lib/site-packages/manim/mobject/text/tex_mobject.py?line=438'>439</a>\u001b[0m     )\n",
      "File \u001b[1;32mC:\\tools\\Manim\\Lib\\site-packages\\manim\\mobject\\text\\tex_mobject.py:282\u001b[0m, in \u001b[0;36mMathTex.__init__\u001b[1;34m(self, arg_separator, substrings_to_isolate, tex_to_color_map, tex_environment, *tex_strings, **kwargs)\u001b[0m\n\u001b[0;32m    <a href='file:///c%3A/tools/Manim/Lib/site-packages/manim/mobject/text/tex_mobject.py?line=279'>280</a>\u001b[0m \u001b[39mself\u001b[39m\u001b[39m.\u001b[39mtex_strings \u001b[39m=\u001b[39m \u001b[39mself\u001b[39m\u001b[39m.\u001b[39m_break_up_tex_strings(tex_strings)\n\u001b[0;32m    <a href='file:///c%3A/tools/Manim/Lib/site-packages/manim/mobject/text/tex_mobject.py?line=280'>281</a>\u001b[0m \u001b[39mtry\u001b[39;00m:\n\u001b[1;32m--> <a href='file:///c%3A/tools/Manim/Lib/site-packages/manim/mobject/text/tex_mobject.py?line=281'>282</a>\u001b[0m     \u001b[39msuper\u001b[39m()\u001b[39m.\u001b[39m\u001b[39m__init__\u001b[39m(\n\u001b[0;32m    <a href='file:///c%3A/tools/Manim/Lib/site-packages/manim/mobject/text/tex_mobject.py?line=282'>283</a>\u001b[0m         \u001b[39mself\u001b[39m\u001b[39m.\u001b[39marg_separator\u001b[39m.\u001b[39mjoin(\u001b[39mself\u001b[39m\u001b[39m.\u001b[39mtex_strings),\n\u001b[0;32m    <a href='file:///c%3A/tools/Manim/Lib/site-packages/manim/mobject/text/tex_mobject.py?line=283'>284</a>\u001b[0m         tex_environment\u001b[39m=\u001b[39m\u001b[39mself\u001b[39m\u001b[39m.\u001b[39mtex_environment,\n\u001b[0;32m    <a href='file:///c%3A/tools/Manim/Lib/site-packages/manim/mobject/text/tex_mobject.py?line=284'>285</a>\u001b[0m         tex_template\u001b[39m=\u001b[39m\u001b[39mself\u001b[39m\u001b[39m.\u001b[39mtex_template,\n\u001b[0;32m    <a href='file:///c%3A/tools/Manim/Lib/site-packages/manim/mobject/text/tex_mobject.py?line=285'>286</a>\u001b[0m         \u001b[39m*\u001b[39m\u001b[39m*\u001b[39mkwargs,\n\u001b[0;32m    <a href='file:///c%3A/tools/Manim/Lib/site-packages/manim/mobject/text/tex_mobject.py?line=286'>287</a>\u001b[0m     )\n\u001b[0;32m    <a href='file:///c%3A/tools/Manim/Lib/site-packages/manim/mobject/text/tex_mobject.py?line=287'>288</a>\u001b[0m     \u001b[39mself\u001b[39m\u001b[39m.\u001b[39m_break_up_by_substrings()\n\u001b[0;32m    <a href='file:///c%3A/tools/Manim/Lib/site-packages/manim/mobject/text/tex_mobject.py?line=288'>289</a>\u001b[0m \u001b[39mexcept\u001b[39;00m \u001b[39mValueError\u001b[39;00m \u001b[39mas\u001b[39;00m compilation_error:\n",
      "File \u001b[1;32mC:\\tools\\Manim\\Lib\\site-packages\\manim\\mobject\\text\\tex_mobject.py:93\u001b[0m, in \u001b[0;36mSingleStringMathTex.__init__\u001b[1;34m(self, tex_string, stroke_width, should_center, height, organize_left_to_right, tex_environment, tex_template, font_size, **kwargs)\u001b[0m\n\u001b[0;32m     <a href='file:///c%3A/tools/Manim/Lib/site-packages/manim/mobject/text/tex_mobject.py?line=90'>91</a>\u001b[0m \u001b[39massert\u001b[39;00m \u001b[39misinstance\u001b[39m(tex_string, \u001b[39mstr\u001b[39m)\n\u001b[0;32m     <a href='file:///c%3A/tools/Manim/Lib/site-packages/manim/mobject/text/tex_mobject.py?line=91'>92</a>\u001b[0m \u001b[39mself\u001b[39m\u001b[39m.\u001b[39mtex_string \u001b[39m=\u001b[39m tex_string\n\u001b[1;32m---> <a href='file:///c%3A/tools/Manim/Lib/site-packages/manim/mobject/text/tex_mobject.py?line=92'>93</a>\u001b[0m file_name \u001b[39m=\u001b[39m tex_to_svg_file(\n\u001b[0;32m     <a href='file:///c%3A/tools/Manim/Lib/site-packages/manim/mobject/text/tex_mobject.py?line=93'>94</a>\u001b[0m     \u001b[39mself\u001b[39;49m\u001b[39m.\u001b[39;49m_get_modified_expression(tex_string),\n\u001b[0;32m     <a href='file:///c%3A/tools/Manim/Lib/site-packages/manim/mobject/text/tex_mobject.py?line=94'>95</a>\u001b[0m     environment\u001b[39m=\u001b[39;49m\u001b[39mself\u001b[39;49m\u001b[39m.\u001b[39;49mtex_environment,\n\u001b[0;32m     <a href='file:///c%3A/tools/Manim/Lib/site-packages/manim/mobject/text/tex_mobject.py?line=95'>96</a>\u001b[0m     tex_template\u001b[39m=\u001b[39;49m\u001b[39mself\u001b[39;49m\u001b[39m.\u001b[39;49mtex_template,\n\u001b[0;32m     <a href='file:///c%3A/tools/Manim/Lib/site-packages/manim/mobject/text/tex_mobject.py?line=96'>97</a>\u001b[0m )\n\u001b[0;32m     <a href='file:///c%3A/tools/Manim/Lib/site-packages/manim/mobject/text/tex_mobject.py?line=97'>98</a>\u001b[0m \u001b[39msuper\u001b[39m()\u001b[39m.\u001b[39m\u001b[39m__init__\u001b[39m(\n\u001b[0;32m     <a href='file:///c%3A/tools/Manim/Lib/site-packages/manim/mobject/text/tex_mobject.py?line=98'>99</a>\u001b[0m     file_name\u001b[39m=\u001b[39mfile_name,\n\u001b[0;32m    <a href='file:///c%3A/tools/Manim/Lib/site-packages/manim/mobject/text/tex_mobject.py?line=99'>100</a>\u001b[0m     should_center\u001b[39m=\u001b[39mshould_center,\n\u001b[1;32m   (...)\u001b[0m\n\u001b[0;32m    <a href='file:///c%3A/tools/Manim/Lib/site-packages/manim/mobject/text/tex_mobject.py?line=104'>105</a>\u001b[0m     \u001b[39m*\u001b[39m\u001b[39m*\u001b[39mkwargs,\n\u001b[0;32m    <a href='file:///c%3A/tools/Manim/Lib/site-packages/manim/mobject/text/tex_mobject.py?line=105'>106</a>\u001b[0m )\n\u001b[0;32m    <a href='file:///c%3A/tools/Manim/Lib/site-packages/manim/mobject/text/tex_mobject.py?line=106'>107</a>\u001b[0m \u001b[39m# used for scaling via font_size.setter\u001b[39;00m\n",
      "File \u001b[1;32mC:\\tools\\Manim\\Lib\\site-packages\\manim\\utils\\tex_file_writing.py:48\u001b[0m, in \u001b[0;36mtex_to_svg_file\u001b[1;34m(expression, environment, tex_template)\u001b[0m\n\u001b[0;32m     <a href='file:///c%3A/tools/Manim/Lib/site-packages/manim/utils/tex_file_writing.py?line=45'>46</a>\u001b[0m     tex_template \u001b[39m=\u001b[39m config[\u001b[39m\"\u001b[39m\u001b[39mtex_template\u001b[39m\u001b[39m\"\u001b[39m]\n\u001b[0;32m     <a href='file:///c%3A/tools/Manim/Lib/site-packages/manim/utils/tex_file_writing.py?line=46'>47</a>\u001b[0m tex_file \u001b[39m=\u001b[39m generate_tex_file(expression, environment, tex_template)\n\u001b[1;32m---> <a href='file:///c%3A/tools/Manim/Lib/site-packages/manim/utils/tex_file_writing.py?line=47'>48</a>\u001b[0m dvi_file \u001b[39m=\u001b[39m compile_tex(\n\u001b[0;32m     <a href='file:///c%3A/tools/Manim/Lib/site-packages/manim/utils/tex_file_writing.py?line=48'>49</a>\u001b[0m     tex_file,\n\u001b[0;32m     <a href='file:///c%3A/tools/Manim/Lib/site-packages/manim/utils/tex_file_writing.py?line=49'>50</a>\u001b[0m     tex_template\u001b[39m.\u001b[39;49mtex_compiler,\n\u001b[0;32m     <a href='file:///c%3A/tools/Manim/Lib/site-packages/manim/utils/tex_file_writing.py?line=50'>51</a>\u001b[0m     tex_template\u001b[39m.\u001b[39;49moutput_format,\n\u001b[0;32m     <a href='file:///c%3A/tools/Manim/Lib/site-packages/manim/utils/tex_file_writing.py?line=51'>52</a>\u001b[0m )\n\u001b[0;32m     <a href='file:///c%3A/tools/Manim/Lib/site-packages/manim/utils/tex_file_writing.py?line=52'>53</a>\u001b[0m \u001b[39mreturn\u001b[39;00m convert_to_svg(dvi_file, tex_template\u001b[39m.\u001b[39moutput_format)\n",
      "File \u001b[1;32mC:\\tools\\Manim\\Lib\\site-packages\\manim\\utils\\tex_file_writing.py:191\u001b[0m, in \u001b[0;36mcompile_tex\u001b[1;34m(tex_file, tex_compiler, output_format)\u001b[0m\n\u001b[0;32m    <a href='file:///c%3A/tools/Manim/Lib/site-packages/manim/utils/tex_file_writing.py?line=188'>189</a>\u001b[0m     \u001b[39mif\u001b[39;00m exit_code \u001b[39m!=\u001b[39m \u001b[39m0\u001b[39m:\n\u001b[0;32m    <a href='file:///c%3A/tools/Manim/Lib/site-packages/manim/utils/tex_file_writing.py?line=189'>190</a>\u001b[0m         log_file \u001b[39m=\u001b[39m tex_file\u001b[39m.\u001b[39mreplace(\u001b[39m\"\u001b[39m\u001b[39m.tex\u001b[39m\u001b[39m\"\u001b[39m, \u001b[39m\"\u001b[39m\u001b[39m.log\u001b[39m\u001b[39m\"\u001b[39m)\n\u001b[1;32m--> <a href='file:///c%3A/tools/Manim/Lib/site-packages/manim/utils/tex_file_writing.py?line=190'>191</a>\u001b[0m         print_all_tex_errors(log_file, tex_compiler, tex_file)\n\u001b[0;32m    <a href='file:///c%3A/tools/Manim/Lib/site-packages/manim/utils/tex_file_writing.py?line=191'>192</a>\u001b[0m         \u001b[39mraise\u001b[39;00m \u001b[39mValueError\u001b[39;00m(\n\u001b[0;32m    <a href='file:///c%3A/tools/Manim/Lib/site-packages/manim/utils/tex_file_writing.py?line=192'>193</a>\u001b[0m             \u001b[39mf\u001b[39m\u001b[39m\"\u001b[39m\u001b[39m{\u001b[39;00mtex_compiler\u001b[39m}\u001b[39;00m\u001b[39m error converting to\u001b[39m\u001b[39m\"\u001b[39m\n\u001b[0;32m    <a href='file:///c%3A/tools/Manim/Lib/site-packages/manim/utils/tex_file_writing.py?line=193'>194</a>\u001b[0m             \u001b[39mf\u001b[39m\u001b[39m\"\u001b[39m\u001b[39m \u001b[39m\u001b[39m{\u001b[39;00moutput_format[\u001b[39m1\u001b[39m:]\u001b[39m}\u001b[39;00m\u001b[39m. See log output above or\u001b[39m\u001b[39m\"\u001b[39m\n\u001b[0;32m    <a href='file:///c%3A/tools/Manim/Lib/site-packages/manim/utils/tex_file_writing.py?line=194'>195</a>\u001b[0m             \u001b[39mf\u001b[39m\u001b[39m\"\u001b[39m\u001b[39m the log file: \u001b[39m\u001b[39m{\u001b[39;00mlog_file\u001b[39m}\u001b[39;00m\u001b[39m\"\u001b[39m,\n\u001b[0;32m    <a href='file:///c%3A/tools/Manim/Lib/site-packages/manim/utils/tex_file_writing.py?line=195'>196</a>\u001b[0m         )\n\u001b[0;32m    <a href='file:///c%3A/tools/Manim/Lib/site-packages/manim/utils/tex_file_writing.py?line=196'>197</a>\u001b[0m \u001b[39mreturn\u001b[39;00m result\n",
      "File \u001b[1;32mC:\\tools\\Manim\\Lib\\site-packages\\manim\\utils\\tex_file_writing.py:248\u001b[0m, in \u001b[0;36mprint_all_tex_errors\u001b[1;34m(log_file, tex_compiler, tex_file)\u001b[0m\n\u001b[0;32m    <a href='file:///c%3A/tools/Manim/Lib/site-packages/manim/utils/tex_file_writing.py?line=245'>246</a>\u001b[0m \u001b[39mdef\u001b[39;00m \u001b[39mprint_all_tex_errors\u001b[39m(log_file, tex_compiler, tex_file):\n\u001b[0;32m    <a href='file:///c%3A/tools/Manim/Lib/site-packages/manim/utils/tex_file_writing.py?line=246'>247</a>\u001b[0m     \u001b[39mif\u001b[39;00m \u001b[39mnot\u001b[39;00m Path(log_file)\u001b[39m.\u001b[39mexists():\n\u001b[1;32m--> <a href='file:///c%3A/tools/Manim/Lib/site-packages/manim/utils/tex_file_writing.py?line=247'>248</a>\u001b[0m         \u001b[39mraise\u001b[39;00m \u001b[39mRuntimeError\u001b[39;00m(\n\u001b[0;32m    <a href='file:///c%3A/tools/Manim/Lib/site-packages/manim/utils/tex_file_writing.py?line=248'>249</a>\u001b[0m             \u001b[39mf\u001b[39m\u001b[39m\"\u001b[39m\u001b[39m{\u001b[39;00mtex_compiler\u001b[39m}\u001b[39;00m\u001b[39m failed but did not produce a log file. \u001b[39m\u001b[39m\"\u001b[39m\n\u001b[0;32m    <a href='file:///c%3A/tools/Manim/Lib/site-packages/manim/utils/tex_file_writing.py?line=249'>250</a>\u001b[0m             \u001b[39m\"\u001b[39m\u001b[39mCheck your LaTeX installation.\u001b[39m\u001b[39m\"\u001b[39m,\n\u001b[0;32m    <a href='file:///c%3A/tools/Manim/Lib/site-packages/manim/utils/tex_file_writing.py?line=250'>251</a>\u001b[0m         )\n\u001b[0;32m    <a href='file:///c%3A/tools/Manim/Lib/site-packages/manim/utils/tex_file_writing.py?line=251'>252</a>\u001b[0m     \u001b[39mwith\u001b[39;00m \u001b[39mopen\u001b[39m(log_file) \u001b[39mas\u001b[39;00m f:\n\u001b[0;32m    <a href='file:///c%3A/tools/Manim/Lib/site-packages/manim/utils/tex_file_writing.py?line=252'>253</a>\u001b[0m         tex_compilation_log \u001b[39m=\u001b[39m f\u001b[39m.\u001b[39mreadlines()\n",
      "\u001b[1;31mRuntimeError\u001b[0m: latex failed but did not produce a log file. Check your LaTeX installation."
     ]
    }
   ],
   "source": [
    "%%manim -qm a20200419\n",
    "\n",
    "class a20200419(Scene):\n",
    "    def construct(self):\n",
    "\n",
    "        S = Tex(\"S\")\n",
    "        S_u = Tex(\"u S\")\n",
    "        S_d = Tex(\"d S\")\n",
    "\n",
    "        S.move_to(LEFT+DOWN)\n",
    "        S_u.move_to(RIGHT)\n",
    "        S_d.move_to(RIGHT+DOWN*2)\n",
    "\n",
    "        arrow_u = Arrow(S.get_right(), S_u.get_left(), buff=0.5)\n",
    "        arrow_d = Arrow(S.get_right(), S_d.get_left(), buff=0.5)\n",
    "\n",
    "        self.play(Write(S))\n",
    "        self.play(GrowArrow(arrow_u))\n",
    "        self.play(Write(S_u))\n",
    "        self.play(GrowArrow(arrow_d))\n",
    "        self.play(Write(S_d))\n",
    "        self.play(FadeOut(arrow_u), FadeOut(arrow_d))\n",
    "\n",
    "        SS = Tex(\"S\")\n",
    "        SS_u = Tex(\"u S\")\n",
    "        SS_d = Tex(\"d S\")\n",
    "        SS.scale(0.7).move_to(LEFT*6+UP*2.5)\n",
    "        SS_u.scale(0.7).move_to(LEFT*5+UP*3.5)\n",
    "        SS_d.scale(0.7).move_to(LEFT*5+UP*1.5)\n",
    "\n",
    "        self.play(Transform(S, SS), Transform(S_u, SS_u), Transform(S_d, SS_d))\n",
    "        \n",
    "        r = Tex(\"1\")\n",
    "        r_u = Tex(\"r\")\n",
    "        r_d = Tex(\"r\")\n",
    "\n",
    "        r.move_to(LEFT+DOWN)\n",
    "        r_u.move_to(RIGHT)\n",
    "        r_d.move_to(RIGHT+DOWN*2)\n",
    "\n",
    "        arrow_u = Arrow(r.get_right(), r_u.get_left(), buff=0.5)\n",
    "        arrow_d = Arrow(r.get_right(), r_d.get_left(), buff=0.5)\n",
    "\n",
    "        self.play(Write(r))\n",
    "        self.play(GrowArrow(arrow_u))\n",
    "        self.play(Write(r_u))\n",
    "        self.play(GrowArrow(arrow_d))\n",
    "        self.play(Write(r_d))\n",
    "        self.play(FadeOut(arrow_u), FadeOut(arrow_d))\n",
    "\n",
    "        rr = Tex(\"1\")\n",
    "        rr_u = Tex(\"r\")\n",
    "        rr_d = Tex(\"r\")\n",
    "        rr.scale(0.7).move_to(LEFT*1+UP*2.5)\n",
    "        rr_u.scale(0.7).move_to(RIGHT*0+UP*3.5)\n",
    "        rr_d.scale(0.7).move_to(RIGHT*0+UP*1.5)\n",
    "\n",
    "        self.play(Transform(r, rr), Transform(r_u, rr_u), Transform(r_d, rr_d))\n",
    "\n",
    "        C = Tex(\"C\")\n",
    "        C_u = Tex(\"C_u = \\\\max (uS - K, 0)\")\n",
    "        C_d = Tex(\"C_d = \\\\max (dS - K, 0)\")\n",
    "\n",
    "        C.move_to(LEFT*2+DOWN)\n",
    "        C_u.move_to(RIGHT*2)\n",
    "        C_d.move_to(RIGHT*2+DOWN*2)\n",
    "\n",
    "        arrow_u = Arrow(C.get_right(), C_u.get_left(), buff=0.5)\n",
    "        arrow_d = Arrow(C.get_right(), C_d.get_left(), buff=0.5)\n",
    "\n",
    "        self.play(Write(C))\n",
    "        self.play(GrowArrow(arrow_u))\n",
    "        self.play(Write(C_u))\n",
    "        self.play(GrowArrow(arrow_d))\n",
    "        self.play(Write(C_d))\n",
    "        self.play(FadeOut(arrow_u), FadeOut(arrow_d))\n",
    "\n",
    "        CC = Tex(\"?\")\n",
    "        CC_u = Tex(\"C_u\")\n",
    "        CC_d = Tex(\"C_d\")\n",
    "        CC.scale(0.7).move_to(RIGHT*4+UP*2.5)\n",
    "        CC_u.scale(0.7).move_to(RIGHT*5+UP*3.5)\n",
    "        CC_d.scale(0.7).move_to(RIGHT*5+UP*1.5)\n",
    "\n",
    "        self.play(Transform(C, CC), Transform(C_u, CC_u), Transform(C_d, CC_d))\n",
    "\n",
    "        condition = Tex(\"d < r < u\")\n",
    "        self.play(Write(condition))\n",
    "        self.wait(2)\n",
    "        "
   ]
  },
  {
   "cell_type": "code",
   "execution_count": null,
   "metadata": {},
   "outputs": [],
   "source": []
  }
 ],
 "metadata": {
  "interpreter": {
   "hash": "2be5faf79681da6f2a61fdfdd5405d65d042280f7fba6178067603e3a2925119"
  },
  "kernelspec": {
   "display_name": "Python 3.10.4 64-bit",
   "language": "python",
   "name": "python3"
  },
  "language_info": {
   "codemirror_mode": {
    "name": "ipython",
    "version": 3
   },
   "file_extension": ".py",
   "mimetype": "text/x-python",
   "name": "python",
   "nbconvert_exporter": "python",
   "pygments_lexer": "ipython3",
   "version": "3.10.4"
  },
  "orig_nbformat": 4
 },
 "nbformat": 4,
 "nbformat_minor": 2
}
