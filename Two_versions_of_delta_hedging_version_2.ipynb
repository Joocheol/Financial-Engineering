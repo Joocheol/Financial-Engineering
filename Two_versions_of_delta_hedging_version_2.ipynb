{
  "nbformat": 4,
  "nbformat_minor": 0,
  "metadata": {
    "colab": {
      "name": "Two versions of delta hedging - version 2",
      "provenance": [],
      "collapsed_sections": [],
      "authorship_tag": "ABX9TyNqTOAOBh4Ninq7DfbF1MnP",
      "include_colab_link": true
    },
    "kernelspec": {
      "name": "python3",
      "display_name": "Python 3"
    },
    "language_info": {
      "name": "python"
    },
    "accelerator": "GPU"
  },
  "cells": [
    {
      "cell_type": "markdown",
      "metadata": {
        "id": "view-in-github",
        "colab_type": "text"
      },
      "source": [
        "<a href=\"https://colab.research.google.com/github/Joocheol/Financial-Engineering/blob/master/Two_versions_of_delta_hedging_version_2.ipynb\" target=\"_parent\"><img src=\"https://colab.research.google.com/assets/colab-badge.svg\" alt=\"Open In Colab\"/></a>"
      ]
    },
    {
      "cell_type": "code",
      "metadata": {
        "id": "AWR-wGh11BZe"
      },
      "source": [
        "import numpy as np\n",
        "import matplotlib.pyplot as plt\n",
        "\n",
        "from scipy.stats import norm"
      ],
      "execution_count": 1,
      "outputs": []
    },
    {
      "cell_type": "code",
      "metadata": {
        "id": "UqzYJrpL7Zpy"
      },
      "source": [
        "S0 = 100\n",
        "K = 100\n",
        "T = 30/365\n",
        "r = 0.00\n",
        "sig = 0.2\n",
        "\n",
        "\n",
        "M = 1000\n",
        "N = 30\n",
        "\n",
        "dt = T/N\n",
        "rdt = r*dt\n",
        "sigsdt = sig * np.sqrt(dt)"
      ],
      "execution_count": 2,
      "outputs": []
    },
    {
      "cell_type": "code",
      "metadata": {
        "id": "3KAUuMg47b2Z"
      },
      "source": [
        "np.random.seed(1234)\n",
        "\n",
        "S = np.empty([M,N+1])\n",
        "rv = np.random.normal(r*dt,sigsdt,[M,N])\n",
        "\n",
        "for i in range(M):\n",
        "    S[i,0] = S0\n",
        "    for j in range(N):\n",
        "        S[i,j+1] = S[i,j] * (1+rv[i,j])"
      ],
      "execution_count": 3,
      "outputs": []
    },
    {
      "cell_type": "code",
      "metadata": {
        "id": "wfi9vz1E7ewS",
        "colab": {
          "base_uri": "https://localhost:8080/"
        },
        "outputId": "91c971ec-0e95-4fa4-f9d3-ea39606224f2"
      },
      "source": [
        "S.shape"
      ],
      "execution_count": 4,
      "outputs": [
        {
          "output_type": "execute_result",
          "data": {
            "text/plain": [
              "(1000, 31)"
            ]
          },
          "metadata": {},
          "execution_count": 4
        }
      ]
    },
    {
      "cell_type": "markdown",
      "metadata": {
        "id": "RAdaEOJFMKP1"
      },
      "source": [
        "$(\\Delta_0 - 0) S_0 + (\\Delta_1 - \\Delta_0) S_1 + (\\Delta_2 - \\Delta_1) S_{2} + \\cdots + (\\Delta_{T-1} - \\Delta_{T-2}) S_{T-1}+ (\\Delta_{T} - \\Delta_{T-1}) S_T$"
      ]
    },
    {
      "cell_type": "code",
      "metadata": {
        "id": "X1dkm7XESblC"
      },
      "source": [
        "def bscall(S, K, T, r, sig):\n",
        "    d1 = (np.log(S/K)+(r+0.5*sig**2)*T)/(sig*np.sqrt(T))\n",
        "    d2 = (np.log(S/K)+(r-0.5*sig**2)*T)/(sig*np.sqrt(T))\n",
        "    return S*norm.cdf(d1)-K*np.exp(-r*T)*norm.cdf(d2)\n",
        "    \n",
        "def bsput(S, K, T, r, sig):\n",
        "    d1 = (np.log(S/K)+(r+0.5*sig**2)*T)/(sig*np.sqrt(T))\n",
        "    d2 = (np.log(S/K)+(r-0.5*sig**2)*T)/(sig*np.sqrt(T))\n",
        "    return K*np.exp(-r*T)*norm.cdf(-d2)-S*norm.cdf(-d1)"
      ],
      "execution_count": 5,
      "outputs": []
    },
    {
      "cell_type": "code",
      "metadata": {
        "colab": {
          "base_uri": "https://localhost:8080/",
          "height": 265
        },
        "id": "xfh03Tj07hb6",
        "outputId": "10c2b883-76fa-4a62-e2ec-e9e64ba7f643"
      },
      "source": [
        "a = []\n",
        "\n",
        "K = 100\n",
        "\n",
        "for i in range(M):\n",
        "    cost = 0\n",
        "    hedge = 0\n",
        "    for j in range(N):\n",
        "        d1 = (np.log(S[i,j]/K)+(r+0.5*sig**2)*(T-j*dt))/(sig*np.sqrt(T-j*dt))\n",
        "        delta = norm.cdf(d1) - 1\n",
        "        cost = cost + (delta-hedge) * S[i,j]\n",
        "        hedge = delta\n",
        "    \n",
        "    cost = cost - hedge * S[i,N] + np.maximum(K-S[i,N], 0) - bsput(S0,K,T,r,sig)\n",
        "    #cost = cost - hedge * S[i,N]\n",
        "        \n",
        "\n",
        "    a.append(cost)\n",
        "\n",
        "plt.plot(S[:,-1], a, marker=\".\", linestyle='none')\n",
        "plt.show()"
      ],
      "execution_count": 6,
      "outputs": [
        {
          "output_type": "display_data",
          "data": {
            "image/png": "[encoded data removed]",
            "text/plain": [
              "<Figure size 432x288 with 1 Axes>"
            ]
          },
          "metadata": {
            "needs_background": "light"
          }
        }
      ]
    },
    {
      "cell_type": "code",
      "metadata": {
        "colab": {
          "base_uri": "https://localhost:8080/",
          "height": 350
        },
        "id": "twHgqRFG1Xr8",
        "outputId": "2f60e37b-f35c-46b1-f468-0c15b67c0158"
      },
      "source": [
        "plt.hist(a)"
      ],
      "execution_count": 7,
      "outputs": [
        {
          "output_type": "execute_result",
          "data": {
            "text/plain": [
              "(array([  2.,   5.,  29., 102., 233., 362., 190.,  61.,   8.,   8.]),\n",
              " array([-1.49160693, -1.21339729, -0.93518765, -0.656978  , -0.37876836,\n",
              "        -0.10055872,  0.17765092,  0.45586057,  0.73407021,  1.01227985,\n",
              "         1.29048949]),\n",
              " <a list of 10 Patch objects>)"
            ]
          },
          "metadata": {},
          "execution_count": 7
        },
        {
          "output_type": "display_data",
          "data": {
            "image/png": "[encoded data removed]",
            "text/plain": [
              "<Figure size 432x288 with 1 Axes>"
            ]
          },
          "metadata": {
            "needs_background": "light"
          }
        }
      ]
    },
    {
      "cell_type": "markdown",
      "metadata": {
        "id": "RlqYRmt9NmXe"
      },
      "source": [
        "$(\\Delta_0 - 0) S_0 + (\\Delta_1 - \\Delta_0) S_1 + (\\Delta_2 - \\Delta_1) S_{2} + \\cdots + (\\Delta_{T-1} - \\Delta_{T-2}) S_{T-1}+ (\\Delta_{T} - \\Delta_{T-1}) S_T$\n",
        "\n",
        "$\\Delta_0 (S_0-S_1) + \\Delta_1 (S_1-S_2) + \\Delta_2 (S_2-S_3) + \\cdots + \\Delta_{T-1} (S_{T-1}-S_T) + \\Delta_T S_T$"
      ]
    },
    {
      "cell_type": "code",
      "metadata": {
        "colab": {
          "base_uri": "https://localhost:8080/",
          "height": 265
        },
        "id": "L4foClZm77vl",
        "outputId": "5ff28081-3c55-4f46-f642-c2fbf90788fc"
      },
      "source": [
        "a = []\n",
        "\n",
        "for i in range(M):\n",
        "    cost = 0\n",
        "    price = S[i,0]\n",
        "    for j in range(N):\n",
        "        d1 = (np.log(price/K)+(r+0.5*sig**2)*(T-j*dt))/(sig*np.sqrt(T-j*dt))\n",
        "        delta = norm.cdf(d1)\n",
        "        cost = cost + delta*(price-S[i,j+1])\n",
        "        price = S[i,j+1]\n",
        "    \n",
        "    cost = cost + np.maximum(S[i,N]-K, 0) - bscall(S0,K,T,r,sig)\n",
        "        \n",
        "\n",
        "    a.append(cost)\n",
        "\n",
        "plt.plot(S[:,-1], a, marker=\".\", linestyle='none')\n",
        "plt.show()"
      ],
      "execution_count": 8,
      "outputs": [
        {
          "output_type": "display_data",
          "data": {
            "image/png": "[encoded data removed]",
            "text/plain": [
              "<Figure size 432x288 with 1 Axes>"
            ]
          },
          "metadata": {
            "needs_background": "light"
          }
        }
      ]
    },
    {
      "cell_type": "code",
      "metadata": {
        "id": "zIsWfpmEPgsl"
      },
      "source": [
        "import tensorflow as tf"
      ],
      "execution_count": 9,
      "outputs": []
    },
    {
      "cell_type": "code",
      "metadata": {
        "id": "wNngeowsSxym"
      },
      "source": [
        "my_input = []\n",
        "\n",
        "premium = tf.keras.layers.Input(shape=(1,), name=\"premium\")\n",
        "hedge_cost = tf.keras.layers.Input(shape=(1,), name='hedge_cost')\n",
        "price = tf.keras.layers.Input(shape=(1,), name=\"price\")\n",
        "\n",
        "my_input = [premium] + [hedge_cost] + [price]\n",
        "\n",
        "# premium = tf.keras.layers.Dense(1, activation='linear', trainable=True,\n",
        "#                 kernel_initializer=tf.keras.initializers.RandomNormal(0,1),#kernel_initializer='random_normal',\n",
        "#                 bias_initializer=tf.keras.initializers.RandomNormal(0,1))(premium)\n",
        "\n",
        "for j in range(N):\n",
        "    \n",
        "    delta = tf.keras.layers.Dense(32, activation='tanh')(price)\n",
        "    delta = tf.keras.layers.BatchNormalization()(delta)\n",
        "    delta = tf.keras.layers.Dense(32, activation='tanh')(delta)\n",
        "    delta = tf.keras.layers.Dropout(0.5)(delta)\n",
        "    #delta = tf.keras.layers.BatchNormalization()(delta)\n",
        "    delta = tf.keras.layers.Dense(32, activation='tanh')(delta)\n",
        "    delta = tf.keras.layers.Dense(1)(delta)\n",
        "\n",
        "    new_price = tf.keras.layers.Input(shape=(1,), name='S'+str(j))\n",
        "    my_input = my_input + [new_price]\n",
        "\n",
        "\n",
        "    price_inc = tf.keras.layers.Subtract(name='price_inc_'+str(j))([price, new_price])\n",
        "    cost = tf.keras.layers.Multiply(name=\"multiply_\"+str(j))([delta, price_inc])\n",
        "    hedge_cost = tf.keras.layers.Add(name='cost_'+str(j))([hedge_cost, cost])\n",
        "    price = new_price\n",
        "\n",
        "cum_cost = hedge_cost\n",
        "\n",
        "model = tf.keras.Model(inputs=my_input, outputs=cum_cost)\n",
        "\n",
        "#tf.keras.utils.plot_model(model)"
      ],
      "execution_count": 17,
      "outputs": []
    },
    {
      "cell_type": "code",
      "metadata": {
        "id": "5Ok4fjtNXhhP"
      },
      "source": [
        "p = bscall(S0,K,T,r,sig) * np.ones([M,1])\n",
        "c = np.zeros([M,1])\n",
        "SS = [S[:,i].reshape(M,1) for i in range(N+1)]\n",
        "x = [p]+[c]+[SS]\n",
        "y = - np.maximum(S[:,N]-K, 0).reshape(M,1) + p"
      ],
      "execution_count": 18,
      "outputs": []
    },
    {
      "cell_type": "code",
      "metadata": {
        "colab": {
          "base_uri": "https://localhost:8080/"
        },
        "id": "LVhaBDYQWdMj",
        "outputId": "6cbf2b20-2dc8-4560-dc78-1b0511dc1d34"
      },
      "source": [
        "y.shape"
      ],
      "execution_count": 19,
      "outputs": [
        {
          "output_type": "execute_result",
          "data": {
            "text/plain": [
              "(1000, 1)"
            ]
          },
          "metadata": {},
          "execution_count": 19
        }
      ]
    },
    {
      "cell_type": "code",
      "metadata": {
        "id": "sqt03K0FZNNQ"
      },
      "source": [
        "model.compile(loss='mse', optimizer='adam')"
      ],
      "execution_count": 20,
      "outputs": []
    },
    {
      "cell_type": "code",
      "metadata": {
        "colab": {
          "base_uri": "https://localhost:8080/"
        },
        "id": "--u-hFQGZQHY",
        "outputId": "97033887-4b52-48a1-a9c0-160574b8df02"
      },
      "source": [
        "hist = model.fit(x,y, batch_size=32, epochs=100,  verbose=True)"
      ],
      "execution_count": 21,
      "outputs": [
        {
          "output_type": "stream",
          "name": "stdout",
          "text": [
            "Epoch 1/100\n",
            "32/32 [==============================] - 17s 57ms/step - loss: 6.5485\n",
            "Epoch 2/100\n",
            "32/32 [==============================] - 2s 58ms/step - loss: 1.8987\n",
            "Epoch 3/100\n",
            "32/32 [==============================] - 2s 53ms/step - loss: 1.4696\n",
            "Epoch 4/100\n",
            "32/32 [==============================] - 2s 52ms/step - loss: 1.3520\n",
            "Epoch 5/100\n",
            "32/32 [==============================] - 2s 54ms/step - loss: 1.2100\n",
            "Epoch 6/100\n",
            "32/32 [==============================] - 2s 56ms/step - loss: 1.1617\n",
            "Epoch 7/100\n",
            "32/32 [==============================] - 2s 57ms/step - loss: 1.1230\n",
            "Epoch 8/100\n",
            "32/32 [==============================] - 2s 57ms/step - loss: 1.1141\n",
            "Epoch 9/100\n",
            "32/32 [==============================] - 2s 54ms/step - loss: 1.0407\n",
            "Epoch 10/100\n",
            "32/32 [==============================] - 2s 56ms/step - loss: 0.9519\n",
            "Epoch 11/100\n",
            "32/32 [==============================] - 2s 54ms/step - loss: 0.9266\n",
            "Epoch 12/100\n",
            "32/32 [==============================] - 2s 53ms/step - loss: 0.9957\n",
            "Epoch 13/100\n",
            "32/32 [==============================] - 2s 56ms/step - loss: 0.9244\n",
            "Epoch 14/100\n",
            "32/32 [==============================] - 2s 55ms/step - loss: 0.8320\n",
            "Epoch 15/100\n",
            "32/32 [==============================] - 2s 56ms/step - loss: 0.8615\n",
            "Epoch 16/100\n",
            "32/32 [==============================] - 2s 51ms/step - loss: 0.8369\n",
            "Epoch 17/100\n",
            "32/32 [==============================] - 2s 52ms/step - loss: 0.7231\n",
            "Epoch 18/100\n",
            "32/32 [==============================] - 2s 55ms/step - loss: 0.8447\n",
            "Epoch 19/100\n",
            "32/32 [==============================] - 2s 55ms/step - loss: 0.7716\n",
            "Epoch 20/100\n",
            "32/32 [==============================] - 2s 56ms/step - loss: 0.7437\n",
            "Epoch 21/100\n",
            "32/32 [==============================] - 2s 53ms/step - loss: 0.6781\n",
            "Epoch 22/100\n",
            "32/32 [==============================] - 2s 55ms/step - loss: 0.6754\n",
            "Epoch 23/100\n",
            "32/32 [==============================] - 2s 53ms/step - loss: 0.7019\n",
            "Epoch 24/100\n",
            "32/32 [==============================] - 2s 53ms/step - loss: 0.6681\n",
            "Epoch 25/100\n",
            "32/32 [==============================] - 2s 57ms/step - loss: 0.6990\n",
            "Epoch 26/100\n",
            "32/32 [==============================] - 2s 53ms/step - loss: 0.6174\n",
            "Epoch 27/100\n",
            "32/32 [==============================] - 2s 52ms/step - loss: 0.5928\n",
            "Epoch 28/100\n",
            "32/32 [==============================] - 2s 52ms/step - loss: 0.5943\n",
            "Epoch 29/100\n",
            "32/32 [==============================] - 2s 54ms/step - loss: 0.5649\n",
            "Epoch 30/100\n",
            "32/32 [==============================] - 2s 52ms/step - loss: 0.6373\n",
            "Epoch 31/100\n",
            "32/32 [==============================] - 2s 56ms/step - loss: 0.5156\n",
            "Epoch 32/100\n",
            "32/32 [==============================] - 2s 54ms/step - loss: 0.5576\n",
            "Epoch 33/100\n",
            "32/32 [==============================] - 2s 54ms/step - loss: 0.5158\n",
            "Epoch 34/100\n",
            "32/32 [==============================] - 2s 55ms/step - loss: 0.5568\n",
            "Epoch 35/100\n",
            "32/32 [==============================] - 2s 53ms/step - loss: 0.5174\n",
            "Epoch 36/100\n",
            "32/32 [==============================] - 2s 56ms/step - loss: 0.5561\n",
            "Epoch 37/100\n",
            "32/32 [==============================] - 2s 57ms/step - loss: 0.5357\n",
            "Epoch 38/100\n",
            "32/32 [==============================] - 2s 54ms/step - loss: 0.4841\n",
            "Epoch 39/100\n",
            "32/32 [==============================] - 2s 55ms/step - loss: 0.5200\n",
            "Epoch 40/100\n",
            "32/32 [==============================] - 2s 55ms/step - loss: 0.4716\n",
            "Epoch 41/100\n",
            "32/32 [==============================] - 2s 57ms/step - loss: 0.5004\n",
            "Epoch 42/100\n",
            "32/32 [==============================] - 2s 54ms/step - loss: 0.4917\n",
            "Epoch 43/100\n",
            "32/32 [==============================] - 2s 55ms/step - loss: 0.4947\n",
            "Epoch 44/100\n",
            "32/32 [==============================] - 2s 55ms/step - loss: 0.4766\n",
            "Epoch 45/100\n",
            "32/32 [==============================] - 2s 53ms/step - loss: 0.4693\n",
            "Epoch 46/100\n",
            "32/32 [==============================] - 2s 55ms/step - loss: 0.5005\n",
            "Epoch 47/100\n",
            "32/32 [==============================] - 2s 56ms/step - loss: 0.4422\n",
            "Epoch 48/100\n",
            "32/32 [==============================] - 2s 56ms/step - loss: 0.4606\n",
            "Epoch 49/100\n",
            "32/32 [==============================] - 2s 55ms/step - loss: 0.4291\n",
            "Epoch 50/100\n",
            "32/32 [==============================] - 2s 55ms/step - loss: 0.4531\n",
            "Epoch 51/100\n",
            "32/32 [==============================] - 2s 55ms/step - loss: 0.4319\n",
            "Epoch 52/100\n",
            "32/32 [==============================] - 2s 54ms/step - loss: 0.4755\n",
            "Epoch 53/100\n",
            "32/32 [==============================] - 2s 54ms/step - loss: 0.4952\n",
            "Epoch 54/100\n",
            "32/32 [==============================] - 2s 57ms/step - loss: 0.4487\n",
            "Epoch 55/100\n",
            "32/32 [==============================] - 2s 55ms/step - loss: 0.4341\n",
            "Epoch 56/100\n",
            "32/32 [==============================] - 2s 52ms/step - loss: 0.4107\n",
            "Epoch 57/100\n",
            "32/32 [==============================] - 2s 53ms/step - loss: 0.4543\n",
            "Epoch 58/100\n",
            "32/32 [==============================] - 2s 53ms/step - loss: 0.3927\n",
            "Epoch 59/100\n",
            "32/32 [==============================] - 2s 54ms/step - loss: 0.4489\n",
            "Epoch 60/100\n",
            "32/32 [==============================] - 2s 54ms/step - loss: 0.4657\n",
            "Epoch 61/100\n",
            "32/32 [==============================] - 2s 57ms/step - loss: 0.4407\n",
            "Epoch 62/100\n",
            "32/32 [==============================] - 2s 55ms/step - loss: 0.4537\n",
            "Epoch 63/100\n",
            "32/32 [==============================] - 2s 54ms/step - loss: 0.4133\n",
            "Epoch 64/100\n",
            "32/32 [==============================] - 2s 53ms/step - loss: 0.4215\n",
            "Epoch 65/100\n",
            "32/32 [==============================] - 2s 55ms/step - loss: 0.3680\n",
            "Epoch 66/100\n",
            "32/32 [==============================] - 2s 54ms/step - loss: 0.4523\n",
            "Epoch 67/100\n",
            "32/32 [==============================] - 2s 50ms/step - loss: 0.4445\n",
            "Epoch 68/100\n",
            "32/32 [==============================] - 2s 53ms/step - loss: 0.4262\n",
            "Epoch 69/100\n",
            "32/32 [==============================] - 2s 55ms/step - loss: 0.4034\n",
            "Epoch 70/100\n",
            "32/32 [==============================] - 2s 52ms/step - loss: 0.3834\n",
            "Epoch 71/100\n",
            "32/32 [==============================] - 2s 52ms/step - loss: 0.3709\n",
            "Epoch 72/100\n",
            "32/32 [==============================] - 2s 53ms/step - loss: 0.3381\n",
            "Epoch 73/100\n",
            "32/32 [==============================] - 2s 51ms/step - loss: 0.3636\n",
            "Epoch 74/100\n",
            "32/32 [==============================] - 2s 54ms/step - loss: 0.4117\n",
            "Epoch 75/100\n",
            "32/32 [==============================] - 2s 54ms/step - loss: 0.4314\n",
            "Epoch 76/100\n",
            "32/32 [==============================] - 2s 53ms/step - loss: 0.3398\n",
            "Epoch 77/100\n",
            "32/32 [==============================] - 2s 53ms/step - loss: 0.4809\n",
            "Epoch 78/100\n",
            "32/32 [==============================] - 2s 55ms/step - loss: 0.4140\n",
            "Epoch 79/100\n",
            "32/32 [==============================] - 2s 54ms/step - loss: 0.4217\n",
            "Epoch 80/100\n",
            "32/32 [==============================] - 2s 55ms/step - loss: 0.3856\n",
            "Epoch 81/100\n",
            "32/32 [==============================] - 2s 54ms/step - loss: 0.4162\n",
            "Epoch 82/100\n",
            "32/32 [==============================] - 2s 54ms/step - loss: 0.4529\n",
            "Epoch 83/100\n",
            "32/32 [==============================] - 2s 53ms/step - loss: 0.4343\n",
            "Epoch 84/100\n",
            "32/32 [==============================] - 2s 53ms/step - loss: 0.4179\n",
            "Epoch 85/100\n",
            "32/32 [==============================] - 2s 52ms/step - loss: 0.3467\n",
            "Epoch 86/100\n",
            "32/32 [==============================] - 2s 53ms/step - loss: 0.3890\n",
            "Epoch 87/100\n",
            "32/32 [==============================] - 2s 54ms/step - loss: 0.4160\n",
            "Epoch 88/100\n",
            "32/32 [==============================] - 2s 54ms/step - loss: 0.3905\n",
            "Epoch 89/100\n",
            "32/32 [==============================] - 2s 54ms/step - loss: 0.3833\n",
            "Epoch 90/100\n",
            "32/32 [==============================] - 2s 54ms/step - loss: 0.3726\n",
            "Epoch 91/100\n",
            "32/32 [==============================] - 2s 53ms/step - loss: 0.4392\n",
            "Epoch 92/100\n",
            "32/32 [==============================] - 2s 53ms/step - loss: 0.3840\n",
            "Epoch 93/100\n",
            "32/32 [==============================] - 2s 53ms/step - loss: 0.4122\n",
            "Epoch 94/100\n",
            "32/32 [==============================] - 2s 51ms/step - loss: 0.4056\n",
            "Epoch 95/100\n",
            "32/32 [==============================] - 2s 52ms/step - loss: 0.4103\n",
            "Epoch 96/100\n",
            "32/32 [==============================] - 2s 54ms/step - loss: 0.3749\n",
            "Epoch 97/100\n",
            "32/32 [==============================] - 2s 54ms/step - loss: 0.3757\n",
            "Epoch 98/100\n",
            "32/32 [==============================] - 2s 53ms/step - loss: 0.4212\n",
            "Epoch 99/100\n",
            "32/32 [==============================] - 2s 52ms/step - loss: 0.4749\n",
            "Epoch 100/100\n",
            "32/32 [==============================] - 2s 56ms/step - loss: 0.3809\n"
          ]
        }
      ]
    },
    {
      "cell_type": "code",
      "metadata": {
        "colab": {
          "base_uri": "https://localhost:8080/",
          "height": 282
        },
        "id": "JQ74KmPLVCYP",
        "outputId": "b8c92dc4-70fc-408a-960f-f0c7ecdaae56"
      },
      "source": [
        "plt.plot(hist.history['loss'])"
      ],
      "execution_count": 22,
      "outputs": [
        {
          "output_type": "execute_result",
          "data": {
            "text/plain": [
              "[<matplotlib.lines.Line2D at 0x7fcc71d6c610>]"
            ]
          },
          "metadata": {},
          "execution_count": 22
        },
        {
          "output_type": "display_data",
          "data": {
            "image/png": "[encoded data removed]",
            "text/plain": [
              "<Figure size 432x288 with 1 Axes>"
            ]
          },
          "metadata": {
            "needs_background": "light"
          }
        }
      ]
    },
    {
      "cell_type": "code",
      "metadata": {
        "colab": {
          "base_uri": "https://localhost:8080/",
          "height": 401
        },
        "id": "hX-cWlftayV6",
        "outputId": "d1015f6f-084c-448a-c88e-c892aea80df1"
      },
      "source": [
        "plt.hist(model.predict(x), bins=20)"
      ],
      "execution_count": 23,
      "outputs": [
        {
          "output_type": "execute_result",
          "data": {
            "text/plain": [
              "(array([  3.,   5.,   4.,  15.,  18.,  30.,  41.,  69.,  97., 123., 138.,\n",
              "        119., 114.,  87.,  69.,  39.,  19.,   8.,   1.,   1.]),\n",
              " array([-14.990554 , -13.5758   , -12.161046 , -10.746291 ,  -9.331537 ,\n",
              "         -7.9167833,  -6.5020294,  -5.087275 ,  -3.672521 ,  -2.257767 ,\n",
              "         -0.8430128,   0.5717413,   1.9864954,   3.4012494,   4.816004 ,\n",
              "          6.2307577,   7.6455116,   9.060266 ,  10.47502  ,  11.889774 ,\n",
              "         13.304528 ], dtype=float32),\n",
              " <a list of 20 Patch objects>)"
            ]
          },
          "metadata": {},
          "execution_count": 23
        },
        {
          "output_type": "display_data",
          "data": {
            "image/png": "[encoded data removed]",
            "text/plain": [
              "<Figure size 432x288 with 1 Axes>"
            ]
          },
          "metadata": {
            "needs_background": "light"
          }
        }
      ]
    },
    {
      "cell_type": "code",
      "metadata": {
        "id": "J4y30xh4bYAG"
      },
      "source": [
        ""
      ],
      "execution_count": null,
      "outputs": []
    }
  ]
}