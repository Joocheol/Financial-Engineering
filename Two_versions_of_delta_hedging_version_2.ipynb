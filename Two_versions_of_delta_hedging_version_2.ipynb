{
  "nbformat": 4,
  "nbformat_minor": 0,
  "metadata": {
    "colab": {
      "name": "Two versions of delta hedging - version 2",
      "provenance": [],
      "collapsed_sections": [],
      "authorship_tag": "ABX9TyMrfsUjoBhAwDHrYQgxZKYD",
      "include_colab_link": true
    },
    "kernelspec": {
      "name": "python3",
      "display_name": "Python 3"
    },
    "language_info": {
      "name": "python"
    },
    "accelerator": "GPU"
  },
  "cells": [
    {
      "cell_type": "markdown",
      "metadata": {
        "id": "view-in-github",
        "colab_type": "text"
      },
      "source": [
        "<a href=\"https://colab.research.google.com/github/Joocheol/Financial-Engineering/blob/master/Two_versions_of_delta_hedging_version_2.ipynb\" target=\"_parent\"><img src=\"https://colab.research.google.com/assets/colab-badge.svg\" alt=\"Open In Colab\"/></a>"
      ]
    },
    {
      "cell_type": "code",
      "metadata": {
        "id": "AWR-wGh11BZe"
      },
      "source": [
        "import numpy as np\n",
        "import matplotlib.pyplot as plt\n",
        "\n",
        "from scipy.stats import norm"
      ],
      "execution_count": 140,
      "outputs": []
    },
    {
      "cell_type": "code",
      "metadata": {
        "id": "UqzYJrpL7Zpy"
      },
      "source": [
        "S0 = 100\n",
        "K = 100\n",
        "T = 30/365\n",
        "r = 0.00\n",
        "sig = 0.2\n",
        "\n",
        "\n",
        "M = 1000\n",
        "N = 30\n",
        "\n",
        "dt = T/N\n",
        "rdt = r*dt\n",
        "sigsdt = sig * np.sqrt(dt)"
      ],
      "execution_count": 184,
      "outputs": []
    },
    {
      "cell_type": "code",
      "metadata": {
        "id": "3KAUuMg47b2Z"
      },
      "source": [
        "np.random.seed(1234)\n",
        "\n",
        "S = np.empty([M,N+1])\n",
        "rv = np.random.normal(r*dt,sigsdt,[M,N])\n",
        "\n",
        "for i in range(M):\n",
        "    S[i,0] = S0\n",
        "    for j in range(N):\n",
        "        S[i,j+1] = S[i,j] * (1+rv[i,j])"
      ],
      "execution_count": 185,
      "outputs": []
    },
    {
      "cell_type": "code",
      "metadata": {
        "id": "wfi9vz1E7ewS",
        "colab": {
          "base_uri": "https://localhost:8080/"
        },
        "outputId": "394b572b-b239-4f9e-b281-4e6aa6eb8608"
      },
      "source": [
        "S.shape"
      ],
      "execution_count": 186,
      "outputs": [
        {
          "output_type": "execute_result",
          "data": {
            "text/plain": [
              "(1000, 31)"
            ]
          },
          "metadata": {},
          "execution_count": 186
        }
      ]
    },
    {
      "cell_type": "markdown",
      "metadata": {
        "id": "RAdaEOJFMKP1"
      },
      "source": [
        "$(\\Delta_0 - 0) S_0 + (\\Delta_1 - \\Delta_0) S_1 + (\\Delta_2 - \\Delta_1) S_{2} + \\cdots + (\\Delta_{T-1} - \\Delta_{T-2}) S_{T-1}+ (\\Delta_{T} - \\Delta_{T-1}) S_T$"
      ]
    },
    {
      "cell_type": "code",
      "metadata": {
        "id": "X1dkm7XESblC"
      },
      "source": [
        "def bscall(S, K, T, r, sig):\n",
        "    d1 = (np.log(S/K)+(r+0.5*sig**2)*T)/(sig*np.sqrt(T))\n",
        "    d2 = (np.log(S/K)+(r-0.5*sig**2)*T)/(sig*np.sqrt(T))\n",
        "    return S*norm.cdf(d1)-K*np.exp(-r*T)*norm.cdf(d2)\n",
        "    \n",
        "def bsput(S, K, T, r, sig):\n",
        "    d1 = (np.log(S/K)+(r+0.5*sig**2)*T)/(sig*np.sqrt(T))\n",
        "    d2 = (np.log(S/K)+(r-0.5*sig**2)*T)/(sig*np.sqrt(T))\n",
        "    return K*np.exp(-r*T)*norm.cdf(-d2)-S*norm.cdf(-d1)"
      ],
      "execution_count": 187,
      "outputs": []
    },
    {
      "cell_type": "code",
      "metadata": {
        "colab": {
          "base_uri": "https://localhost:8080/",
          "height": 265
        },
        "id": "xfh03Tj07hb6",
        "outputId": "d3b77e77-0970-4189-d075-6923e59efcc7"
      },
      "source": [
        "a = []\n",
        "\n",
        "K = 100\n",
        "\n",
        "for i in range(M):\n",
        "    cost = 0\n",
        "    hedge = 0\n",
        "    for j in range(N):\n",
        "        d1 = (np.log(S[i,j]/K)+(r+0.5*sig**2)*(T-j*dt))/(sig*np.sqrt(T-j*dt))\n",
        "        delta = norm.cdf(d1) - 1\n",
        "        cost = cost + (delta-hedge) * S[i,j]\n",
        "        hedge = delta\n",
        "    \n",
        "    cost = cost - hedge * S[i,N] + np.maximum(K-S[i,N], 0) - bsput(S0,K,T,r,sig)\n",
        "    #cost = cost - hedge * S[i,N]\n",
        "        \n",
        "\n",
        "    a.append(cost)\n",
        "\n",
        "plt.plot(S[:,-1], a, marker=\".\", linestyle='none')\n",
        "plt.show()"
      ],
      "execution_count": 191,
      "outputs": [
        {
          "output_type": "display_data",
          "data": {
            "image/png": "[encoded data removed]",
            "text/plain": [
              "<Figure size 432x288 with 1 Axes>"
            ]
          },
          "metadata": {
            "needs_background": "light"
          }
        }
      ]
    },
    {
      "cell_type": "code",
      "metadata": {
        "colab": {
          "base_uri": "https://localhost:8080/",
          "height": 350
        },
        "id": "twHgqRFG1Xr8",
        "outputId": "99d8ac94-abb9-41d3-93f7-58071ce4431b"
      },
      "source": [
        "plt.hist(a)"
      ],
      "execution_count": 192,
      "outputs": [
        {
          "output_type": "execute_result",
          "data": {
            "text/plain": [
              "(array([  2.,   5.,  29., 102., 233., 362., 190.,  61.,   8.,   8.]),\n",
              " array([-1.49160693, -1.21339729, -0.93518765, -0.656978  , -0.37876836,\n",
              "        -0.10055872,  0.17765092,  0.45586057,  0.73407021,  1.01227985,\n",
              "         1.29048949]),\n",
              " <a list of 10 Patch objects>)"
            ]
          },
          "metadata": {},
          "execution_count": 192
        },
        {
          "output_type": "display_data",
          "data": {
            "image/png": "[encoded data removed]",
            "text/plain": [
              "<Figure size 432x288 with 1 Axes>"
            ]
          },
          "metadata": {
            "needs_background": "light"
          }
        }
      ]
    },
    {
      "cell_type": "markdown",
      "metadata": {
        "id": "RlqYRmt9NmXe"
      },
      "source": [
        "$(\\Delta_0 - 0) S_0 + (\\Delta_1 - \\Delta_0) S_1 + (\\Delta_2 - \\Delta_1) S_{2} + \\cdots + (\\Delta_{T-1} - \\Delta_{T-2}) S_{T-1}+ (\\Delta_{T} - \\Delta_{T-1}) S_T$\n",
        "\n",
        "$\\Delta_0 (S_0-S_1) + \\Delta_1 (S_1-S_2) + \\Delta_2 (S_2-S_3) + \\cdots + \\Delta_{T-1} (S_{T-1}-S_T) + \\Delta_T S_T$"
      ]
    },
    {
      "cell_type": "code",
      "metadata": {
        "colab": {
          "base_uri": "https://localhost:8080/",
          "height": 265
        },
        "id": "L4foClZm77vl",
        "outputId": "4f2350a6-6acb-4dcb-f2f7-fdb920452a67"
      },
      "source": [
        "a = []\n",
        "\n",
        "for i in range(M):\n",
        "    cost = 0\n",
        "    price = S[i,0]\n",
        "    for j in range(N):\n",
        "        d1 = (np.log(price/K)+(r+0.5*sig**2)*(T-j*dt))/(sig*np.sqrt(T-j*dt))\n",
        "        delta = norm.cdf(d1)\n",
        "        cost = cost + delta*(price-S[i,j+1])\n",
        "        price = S[i,j+1]\n",
        "    \n",
        "    cost = cost + np.maximum(S[i,N]-K, 0) - bscall(S0,K,T,r,sig)\n",
        "        \n",
        "\n",
        "    a.append(cost)\n",
        "\n",
        "plt.plot(S[:,-1], a, marker=\".\", linestyle='none')\n",
        "plt.show()"
      ],
      "execution_count": 193,
      "outputs": [
        {
          "output_type": "display_data",
          "data": {
            "image/png": "[encoded data removed]",
            "text/plain": [
              "<Figure size 432x288 with 1 Axes>"
            ]
          },
          "metadata": {
            "needs_background": "light"
          }
        }
      ]
    },
    {
      "cell_type": "code",
      "metadata": {
        "id": "zIsWfpmEPgsl"
      },
      "source": [
        "import tensorflow as tf"
      ],
      "execution_count": 149,
      "outputs": []
    },
    {
      "cell_type": "code",
      "metadata": {
        "id": "wNngeowsSxym"
      },
      "source": [
        "my_input = []\n",
        "\n",
        "premium = tf.keras.layers.Input(shape=(1,), name=\"premium\")\n",
        "hedge_cost = tf.keras.layers.Input(shape=(1,), name='hedge_cost')\n",
        "price = tf.keras.layers.Input(shape=(1,), name=\"price\")\n",
        "\n",
        "my_input = [premium] + [hedge_cost] + [price]\n",
        "\n",
        "# premium = tf.keras.layers.Dense(1, activation='linear', trainable=True,\n",
        "#                 kernel_initializer=tf.keras.initializers.RandomNormal(0,1),#kernel_initializer='random_normal',\n",
        "#                 bias_initializer=tf.keras.initializers.RandomNormal(0,1))(premium)\n",
        "\n",
        "for j in range(N):\n",
        "    \n",
        "    delta = tf.keras.layers.Dense(32, activation='relu')(price)\n",
        "    #delta = tf.keras.layers.BatchNormalization()(delta)\n",
        "    #delta = tf.keras.layers.Dropout(0.5)(delta)\n",
        "    delta = tf.keras.layers.Dense(32, activation='relu')(delta)\n",
        "    #delta = tf.keras.layers.BatchNormalization()(delta)\n",
        "    delta = tf.keras.layers.Dense(32, activation='relu')(delta)\n",
        "    delta = tf.keras.layers.Dense(1)(delta)\n",
        "\n",
        "    new_price = tf.keras.layers.Input(shape=(1,), name='S'+str(j))\n",
        "    my_input = my_input + [new_price]\n",
        "\n",
        "\n",
        "    price_inc = tf.keras.layers.Subtract(name='price_inc_'+str(j))([price, new_price])\n",
        "    cost = tf.keras.layers.Multiply(name=\"multiply_\"+str(j))([delta, price_inc])\n",
        "    hedge_cost = tf.keras.layers.Add(name='cost_'+str(j))([hedge_cost, cost])\n",
        "    price = new_price\n",
        "\n",
        "cum_cost = hedge_cost\n",
        "\n",
        "model = tf.keras.Model(inputs=my_input, outputs=cum_cost)\n",
        "\n",
        "#tf.keras.utils.plot_model(model)"
      ],
      "execution_count": 233,
      "outputs": []
    },
    {
      "cell_type": "code",
      "metadata": {
        "id": "5Ok4fjtNXhhP"
      },
      "source": [
        "p = bscall(S0,K,T,r,sig) * np.ones([M,1])\n",
        "c = np.zeros([M,1])\n",
        "SS = [S[:,i].reshape(M,1) for i in range(N+1)]\n",
        "x = [p]+[c]+[SS]\n",
        "y = - np.maximum(S[:,N]-K, 0).reshape(M,1) + p"
      ],
      "execution_count": 234,
      "outputs": []
    },
    {
      "cell_type": "code",
      "metadata": {
        "colab": {
          "base_uri": "https://localhost:8080/"
        },
        "id": "LVhaBDYQWdMj",
        "outputId": "c3e62910-0b20-49d1-842e-a0546be4cf23"
      },
      "source": [
        "y.shape"
      ],
      "execution_count": 235,
      "outputs": [
        {
          "output_type": "execute_result",
          "data": {
            "text/plain": [
              "(1000, 1)"
            ]
          },
          "metadata": {},
          "execution_count": 235
        }
      ]
    },
    {
      "cell_type": "code",
      "metadata": {
        "id": "sqt03K0FZNNQ"
      },
      "source": [
        "model.compile(loss='mse', optimizer='adam')"
      ],
      "execution_count": 236,
      "outputs": []
    },
    {
      "cell_type": "code",
      "metadata": {
        "colab": {
          "base_uri": "https://localhost:8080/"
        },
        "id": "--u-hFQGZQHY",
        "outputId": "9f42c770-20bf-4bc3-f06f-2951b65b94e0"
      },
      "source": [
        "hist = model.fit(x,y, batch_size=128, epochs=100,  verbose=True)"
      ],
      "execution_count": 237,
      "outputs": [
        {
          "output_type": "stream",
          "name": "stdout",
          "text": [
            "Epoch 1/100\n",
            "8/8 [==============================] - 7s 29ms/step - loss: 2502.0754\n",
            "Epoch 2/100\n",
            "8/8 [==============================] - 0s 29ms/step - loss: 401.7857\n",
            "Epoch 3/100\n",
            "8/8 [==============================] - 0s 27ms/step - loss: 144.1469\n",
            "Epoch 4/100\n",
            "8/8 [==============================] - 0s 28ms/step - loss: 61.8466\n",
            "Epoch 5/100\n",
            "8/8 [==============================] - 0s 28ms/step - loss: 35.1719\n",
            "Epoch 6/100\n",
            "8/8 [==============================] - 0s 28ms/step - loss: 21.2760\n",
            "Epoch 7/100\n",
            "8/8 [==============================] - 0s 29ms/step - loss: 9.0459\n",
            "Epoch 8/100\n",
            "8/8 [==============================] - 0s 30ms/step - loss: 5.5038\n",
            "Epoch 9/100\n",
            "8/8 [==============================] - 0s 28ms/step - loss: 4.3915\n",
            "Epoch 10/100\n",
            "8/8 [==============================] - 0s 28ms/step - loss: 3.2810\n",
            "Epoch 11/100\n",
            "8/8 [==============================] - 0s 30ms/step - loss: 3.0351\n",
            "Epoch 12/100\n",
            "8/8 [==============================] - 0s 27ms/step - loss: 2.8728\n",
            "Epoch 13/100\n",
            "8/8 [==============================] - 0s 28ms/step - loss: 2.7445\n",
            "Epoch 14/100\n",
            "8/8 [==============================] - 0s 30ms/step - loss: 2.7058\n",
            "Epoch 15/100\n",
            "8/8 [==============================] - 0s 28ms/step - loss: 2.7010\n",
            "Epoch 16/100\n",
            "8/8 [==============================] - 0s 31ms/step - loss: 2.7039\n",
            "Epoch 17/100\n",
            "8/8 [==============================] - 0s 28ms/step - loss: 2.7710\n",
            "Epoch 18/100\n",
            "8/8 [==============================] - 0s 31ms/step - loss: 2.7789\n",
            "Epoch 19/100\n",
            "8/8 [==============================] - 0s 28ms/step - loss: 2.7658\n",
            "Epoch 20/100\n",
            "8/8 [==============================] - 0s 28ms/step - loss: 2.8432\n",
            "Epoch 21/100\n",
            "8/8 [==============================] - 0s 28ms/step - loss: 2.7658\n",
            "Epoch 22/100\n",
            "8/8 [==============================] - 0s 30ms/step - loss: 2.7718\n",
            "Epoch 23/100\n",
            "8/8 [==============================] - 0s 30ms/step - loss: 2.7902\n",
            "Epoch 24/100\n",
            "8/8 [==============================] - 0s 30ms/step - loss: 2.7678\n",
            "Epoch 25/100\n",
            "8/8 [==============================] - 0s 29ms/step - loss: 2.7547\n",
            "Epoch 26/100\n",
            "8/8 [==============================] - 0s 27ms/step - loss: 2.7903\n",
            "Epoch 27/100\n",
            "8/8 [==============================] - 0s 30ms/step - loss: 2.8013\n",
            "Epoch 28/100\n",
            "8/8 [==============================] - 0s 29ms/step - loss: 2.8287\n",
            "Epoch 29/100\n",
            "8/8 [==============================] - 0s 30ms/step - loss: 2.8379\n",
            "Epoch 30/100\n",
            "8/8 [==============================] - 0s 27ms/step - loss: 2.9375\n",
            "Epoch 31/100\n",
            "8/8 [==============================] - 0s 30ms/step - loss: 2.8002\n",
            "Epoch 32/100\n",
            "8/8 [==============================] - 0s 28ms/step - loss: 2.8500\n",
            "Epoch 33/100\n",
            "8/8 [==============================] - 0s 30ms/step - loss: 2.8941\n",
            "Epoch 34/100\n",
            "8/8 [==============================] - 0s 28ms/step - loss: 2.8524\n",
            "Epoch 35/100\n",
            "8/8 [==============================] - 0s 28ms/step - loss: 2.9484\n",
            "Epoch 36/100\n",
            "8/8 [==============================] - 0s 30ms/step - loss: 3.0491\n",
            "Epoch 37/100\n",
            "8/8 [==============================] - 0s 28ms/step - loss: 3.1949\n",
            "Epoch 38/100\n",
            "8/8 [==============================] - 0s 29ms/step - loss: 2.9055\n",
            "Epoch 39/100\n",
            "8/8 [==============================] - 0s 27ms/step - loss: 2.8717\n",
            "Epoch 40/100\n",
            "8/8 [==============================] - 0s 29ms/step - loss: 2.8952\n",
            "Epoch 41/100\n",
            "8/8 [==============================] - 0s 31ms/step - loss: 2.9322\n",
            "Epoch 42/100\n",
            "8/8 [==============================] - 0s 30ms/step - loss: 2.9828\n",
            "Epoch 43/100\n",
            "8/8 [==============================] - 0s 28ms/step - loss: 3.0460\n",
            "Epoch 44/100\n",
            "8/8 [==============================] - 0s 31ms/step - loss: 2.9738\n",
            "Epoch 45/100\n",
            "8/8 [==============================] - 0s 30ms/step - loss: 2.9613\n",
            "Epoch 46/100\n",
            "8/8 [==============================] - 0s 30ms/step - loss: 2.9197\n",
            "Epoch 47/100\n",
            "8/8 [==============================] - 0s 28ms/step - loss: 2.9230\n",
            "Epoch 48/100\n",
            "8/8 [==============================] - 0s 31ms/step - loss: 2.9130\n",
            "Epoch 49/100\n",
            "8/8 [==============================] - 0s 30ms/step - loss: 2.8942\n",
            "Epoch 50/100\n",
            "8/8 [==============================] - 0s 29ms/step - loss: 3.3135\n",
            "Epoch 51/100\n",
            "8/8 [==============================] - 0s 29ms/step - loss: 3.1677\n",
            "Epoch 52/100\n",
            "8/8 [==============================] - 0s 29ms/step - loss: 2.9905\n",
            "Epoch 53/100\n",
            "8/8 [==============================] - 0s 27ms/step - loss: 3.1238\n",
            "Epoch 54/100\n",
            "8/8 [==============================] - 0s 30ms/step - loss: 3.0458\n",
            "Epoch 55/100\n",
            "8/8 [==============================] - 0s 30ms/step - loss: 2.9808\n",
            "Epoch 56/100\n",
            "8/8 [==============================] - 0s 29ms/step - loss: 3.0219\n",
            "Epoch 57/100\n",
            "8/8 [==============================] - 0s 29ms/step - loss: 3.0488\n",
            "Epoch 58/100\n",
            "8/8 [==============================] - 0s 29ms/step - loss: 2.9734\n",
            "Epoch 59/100\n",
            "8/8 [==============================] - 0s 29ms/step - loss: 2.9371\n",
            "Epoch 60/100\n",
            "8/8 [==============================] - 0s 27ms/step - loss: 2.9573\n",
            "Epoch 61/100\n",
            "8/8 [==============================] - 0s 32ms/step - loss: 3.0931\n",
            "Epoch 62/100\n",
            "8/8 [==============================] - 0s 31ms/step - loss: 3.0780\n",
            "Epoch 63/100\n",
            "8/8 [==============================] - 0s 30ms/step - loss: 3.0648\n",
            "Epoch 64/100\n",
            "8/8 [==============================] - 0s 28ms/step - loss: 3.0917\n",
            "Epoch 65/100\n",
            "8/8 [==============================] - 0s 30ms/step - loss: 2.9347\n",
            "Epoch 66/100\n",
            "8/8 [==============================] - 0s 28ms/step - loss: 3.0552\n",
            "Epoch 67/100\n",
            "8/8 [==============================] - 0s 30ms/step - loss: 3.2058\n",
            "Epoch 68/100\n",
            "8/8 [==============================] - 0s 30ms/step - loss: 3.2677\n",
            "Epoch 69/100\n",
            "8/8 [==============================] - 0s 32ms/step - loss: 3.1354\n",
            "Epoch 70/100\n",
            "8/8 [==============================] - 0s 29ms/step - loss: 3.2177\n",
            "Epoch 71/100\n",
            "8/8 [==============================] - 0s 29ms/step - loss: 3.2345\n",
            "Epoch 72/100\n",
            "8/8 [==============================] - 0s 28ms/step - loss: 3.6634\n",
            "Epoch 73/100\n",
            "8/8 [==============================] - 0s 28ms/step - loss: 3.1789\n",
            "Epoch 74/100\n",
            "8/8 [==============================] - 0s 28ms/step - loss: 3.0582\n",
            "Epoch 75/100\n",
            "8/8 [==============================] - 0s 28ms/step - loss: 3.0536\n",
            "Epoch 76/100\n",
            "8/8 [==============================] - 0s 28ms/step - loss: 3.1308\n",
            "Epoch 77/100\n",
            "8/8 [==============================] - 0s 27ms/step - loss: 3.3056\n",
            "Epoch 78/100\n",
            "8/8 [==============================] - 0s 31ms/step - loss: 3.1679\n",
            "Epoch 79/100\n",
            "8/8 [==============================] - 0s 28ms/step - loss: 3.2617\n",
            "Epoch 80/100\n",
            "8/8 [==============================] - 0s 30ms/step - loss: 3.2288\n",
            "Epoch 81/100\n",
            "8/8 [==============================] - 0s 30ms/step - loss: 3.2935\n",
            "Epoch 82/100\n",
            "8/8 [==============================] - 0s 29ms/step - loss: 3.2077\n",
            "Epoch 83/100\n",
            "8/8 [==============================] - 0s 30ms/step - loss: 3.2636\n",
            "Epoch 84/100\n",
            "8/8 [==============================] - 0s 34ms/step - loss: 3.4768\n",
            "Epoch 85/100\n",
            "8/8 [==============================] - 0s 28ms/step - loss: 3.2134\n",
            "Epoch 86/100\n",
            "8/8 [==============================] - 0s 30ms/step - loss: 3.3365\n",
            "Epoch 87/100\n",
            "8/8 [==============================] - 0s 28ms/step - loss: 3.3688\n",
            "Epoch 88/100\n",
            "8/8 [==============================] - 0s 28ms/step - loss: 3.4903\n",
            "Epoch 89/100\n",
            "8/8 [==============================] - 0s 30ms/step - loss: 3.4613\n",
            "Epoch 90/100\n",
            "8/8 [==============================] - 0s 32ms/step - loss: 3.2999\n",
            "Epoch 91/100\n",
            "8/8 [==============================] - 0s 28ms/step - loss: 3.2537\n",
            "Epoch 92/100\n",
            "8/8 [==============================] - 0s 29ms/step - loss: 3.3661\n",
            "Epoch 93/100\n",
            "8/8 [==============================] - 0s 26ms/step - loss: 3.2856\n",
            "Epoch 94/100\n",
            "8/8 [==============================] - 0s 29ms/step - loss: 3.5671\n",
            "Epoch 95/100\n",
            "8/8 [==============================] - 0s 30ms/step - loss: 3.3785\n",
            "Epoch 96/100\n",
            "8/8 [==============================] - 0s 29ms/step - loss: 3.2337\n",
            "Epoch 97/100\n",
            "8/8 [==============================] - 0s 30ms/step - loss: 3.0805\n",
            "Epoch 98/100\n",
            "8/8 [==============================] - 0s 28ms/step - loss: 3.0640\n",
            "Epoch 99/100\n",
            "8/8 [==============================] - 0s 30ms/step - loss: 3.0571\n",
            "Epoch 100/100\n",
            "8/8 [==============================] - 0s 27ms/step - loss: 3.3282\n"
          ]
        }
      ]
    },
    {
      "cell_type": "code",
      "metadata": {
        "colab": {
          "base_uri": "https://localhost:8080/",
          "height": 282
        },
        "id": "JQ74KmPLVCYP",
        "outputId": "ad7c4d83-d162-4cb2-dd85-15d97692c723"
      },
      "source": [
        "plt.plot(hist.history['loss'])"
      ],
      "execution_count": 238,
      "outputs": [
        {
          "output_type": "execute_result",
          "data": {
            "text/plain": [
              "[<matplotlib.lines.Line2D at 0x7f44794a8a90>]"
            ]
          },
          "metadata": {},
          "execution_count": 238
        },
        {
          "output_type": "display_data",
          "data": {
            "image/png": "[encoded data removed]",
            "text/plain": [
              "<Figure size 432x288 with 1 Axes>"
            ]
          },
          "metadata": {
            "needs_background": "light"
          }
        }
      ]
    },
    {
      "cell_type": "code",
      "metadata": {
        "colab": {
          "base_uri": "https://localhost:8080/",
          "height": 418
        },
        "id": "hX-cWlftayV6",
        "outputId": "7e0d7fb0-7def-498f-ad36-e5eff9583264"
      },
      "source": [
        "plt.hist(model.predict(x), bins=20)"
      ],
      "execution_count": 239,
      "outputs": [
        {
          "output_type": "execute_result",
          "data": {
            "text/plain": [
              "(array([  2.,   0.,   0.,   4.,   5.,   6.,  19.,  39.,  51.,  74., 116.,\n",
              "        134., 146., 140., 122.,  77.,  41.,  17.,   6.,   1.]),\n",
              " array([-16.15748   , -14.841617  , -13.525754  , -12.20989   ,\n",
              "        -10.894027  ,  -9.578163  ,  -8.2623005 ,  -6.946437  ,\n",
              "         -5.6305737 ,  -4.31471   ,  -2.998847  ,  -1.6829836 ,\n",
              "         -0.36712036,   0.948743  ,   2.2646062 ,   3.5804696 ,\n",
              "          4.8963327 ,   6.2121964 ,   7.5280595 ,   8.843923  ,\n",
              "         10.159786  ], dtype=float32),\n",
              " <a list of 20 Patch objects>)"
            ]
          },
          "metadata": {},
          "execution_count": 239
        },
        {
          "output_type": "display_data",
          "data": {
            "image/png": "[encoded data removed]",
            "text/plain": [
              "<Figure size 432x288 with 1 Axes>"
            ]
          },
          "metadata": {
            "needs_background": "light"
          }
        }
      ]
    },
    {
      "cell_type": "code",
      "metadata": {
        "id": "J4y30xh4bYAG"
      },
      "source": [
        ""
      ],
      "execution_count": null,
      "outputs": []
    }
  ]
}