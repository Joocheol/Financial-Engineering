{
 "cells": [
  {
   "cell_type": "code",
   "execution_count": 1,
   "id": "ed9e4422",
   "metadata": {},
   "outputs": [],
   "source": [
    "import manim"
   ]
  },
  {
   "cell_type": "code",
   "execution_count": 2,
   "id": "5c46e5a1",
   "metadata": {},
   "outputs": [
    {
     "name": "stderr",
     "output_type": "stream",
     "text": [
      "                                                                                                                       \r"
     ]
    },
    {
     "data": {
      "text/html": [
       "<video src=\"media\\jupyter\\656e6729d1896d415df181f2134a5b2f6b96db52.mp4\" controls autoplay loop style=\"max-width: 25vw;\"  >\n",
       "      Your browser does not support the <code>video</code> element.\n",
       "    </video>"
      ],
      "text/plain": [
       "<IPython.core.display.Video object>"
      ]
     },
     "metadata": {},
     "output_type": "display_data"
    }
   ],
   "source": [
    "%%manim A -v CRITICAL\n",
    "from manim import *\n",
    "\n",
    "class A(Scene):\n",
    "    def construct(self):\n",
    "        for i in np.arange(-2,2.1,0.5):\n",
    "            rect = Rectangle(width=0.5, height=0.5).move_to([i,3,0])\n",
    "            self.add(rect)\n",
    "        for i in np.arange(0,0.1,0.5):\n",
    "            c = Circle(radius=0.25).move_to([i,0,0])\n",
    "            self.add(c)\n",
    "            \n",
    "        for i in np.arange(-2,2.1,0.5):\n",
    "            for j in np.arange(0,0.1,0.5):\n",
    "                l = Line([i,3,0],[j,0,0], stroke_width=0.5)\n",
    "                self.play(Create(l), run_time=0.1)\n",
    "        self.wait()"
   ]
  },
  {
   "cell_type": "code",
   "execution_count": 3,
   "id": "e2999c02",
   "metadata": {},
   "outputs": [
    {
     "name": "stderr",
     "output_type": "stream",
     "text": [
      "                                                                                                                       \r"
     ]
    },
    {
     "data": {
      "text/html": [
       "<video src=\"media\\jupyter\\e31f16228ff12e66710c06ce90808862372818b6.mp4\" controls autoplay loop style=\"max-width: 25vw;\"  >\n",
       "      Your browser does not support the <code>video</code> element.\n",
       "    </video>"
      ],
      "text/plain": [
       "<IPython.core.display.Video object>"
      ]
     },
     "metadata": {},
     "output_type": "display_data"
    }
   ],
   "source": [
    "%%manim B -v CRITICAL\n",
    "from manim import *\n",
    "\n",
    "class B(Scene):\n",
    "    def construct(self):\n",
    "        for i in np.arange(-2,2.1,0.5):\n",
    "            rect = Rectangle(width=0.5, height=0.5).move_to([i,3,0])\n",
    "            self.add(rect)\n",
    "        for i in np.arange(-5,5.1,0.5):\n",
    "            c = Circle(radius=0.25).move_to([i,0,0])\n",
    "            self.add(c)\n",
    "        for i in np.arange(0,0.1,0.5):\n",
    "            c = Circle(radius=0.25).move_to([i,-3,0])\n",
    "            self.add(c)\n",
    "                     \n",
    "        for i in np.arange(-2,2.1,0.5):\n",
    "            for j in np.arange(-5,5.1,0.5):\n",
    "                l = Line([i,3,0],[j,0,0], stroke_width=0.5)\n",
    "                self.play(Create(l), run_time=0.01)\n",
    "                \n",
    "        for i in np.arange(-5,5.1,0.5):\n",
    "            for j in np.arange(0,0.1,0.5):\n",
    "                l = Line([i,0,0],[j,-3,0], stroke_width=0.5)\n",
    "                self.play(Create(l), run_time=0.01)\n",
    "                \n",
    "        \n",
    "        self.wait()"
   ]
  },
  {
   "cell_type": "code",
   "execution_count": 14,
   "id": "ed76b542",
   "metadata": {},
   "outputs": [
    {
     "data": {
      "text/html": [
       "<video src=\"media\\jupyter\\a42d0c206a3c784d2fb4fb9cd3030e72eea882dd.mp4\" controls autoplay loop style=\"max-width: 25vw;\"  >\n",
       "      Your browser does not support the <code>video</code> element.\n",
       "    </video>"
      ],
      "text/plain": [
       "<IPython.core.display.Video object>"
      ]
     },
     "metadata": {},
     "output_type": "display_data"
    }
   ],
   "source": [
    "%%manim C -v CRITICAL\n",
    "from manim import *\n",
    "\n",
    "class C(Scene):\n",
    "    def construct(self):\n",
    "        \n",
    "        f = Tex(r'$\\sum w_i x_i + b$')\n",
    "        c = Circle()\n",
    "        c.surround(f)\n",
    "        self.add(f,c)\n",
    "        \n",
    "        self.wait()\n",
    "        \n",
    "        for i in np.arange(3,-3,-0.5):\n",
    "            arr = Arrow([-6,i,0], [-1.5,0,0], stroke_width=0.5)\n",
    "            self.add(arr)\n",
    "            \n",
    "        arr = Arrow([1.5,0,0], [6,0,0], stroke_width=0.5)\n",
    "        self.add(arr)\n",
    "        self.wait()"
   ]
  },
  {
   "cell_type": "code",
   "execution_count": 55,
   "id": "1a960af5",
   "metadata": {},
   "outputs": [
    {
     "name": "stderr",
     "output_type": "stream",
     "text": [
      "                                                                                                                       \r"
     ]
    },
    {
     "data": {
      "text/html": [
       "<video src=\"media\\jupyter\\d2465f7d5caad916ccb5c8682c8de1acda30aa83.mp4\" controls autoplay loop style=\"max-width: 25vw;\"  >\n",
       "      Your browser does not support the <code>video</code> element.\n",
       "    </video>"
      ],
      "text/plain": [
       "<IPython.core.display.Video object>"
      ]
     },
     "metadata": {},
     "output_type": "display_data"
    }
   ],
   "source": [
    "%%manim AA -v CRITICAL\n",
    "from manim import *\n",
    "\n",
    "class AA(Scene):\n",
    "    def construct(self):\n",
    "        A.construct(self)\n",
    "        C.construct(self)\n",
    "\n",
    "class A(Scene):\n",
    "    def construct(self):\n",
    "        rects = []\n",
    "        for i in np.arange(-2,2.1,0.5):\n",
    "            rects.append(Rectangle(width=0.5, height=0.5).move_to([i,3,0]))\n",
    "        \n",
    "        rects = VGroup(*rects)\n",
    "        self.add(rects)\n",
    "        \n",
    "        circs = []\n",
    "        for i in np.arange(0,0.1,0.5):\n",
    "            circs.append(Circle(radius=0.25).move_to([i,0,0]))\n",
    "        \n",
    "        circs = VGroup(*circs)    \n",
    "        self.add(circs)\n",
    "            \n",
    "        lines = []    \n",
    "        for i in np.arange(-2,2.1,0.5):\n",
    "            for j in np.arange(0,0.1,0.5):\n",
    "                lines.append(Line([i,3,0],[j,0,0], stroke_width=0.5))\n",
    "\n",
    "        lines = VGroup(*lines)\n",
    "        self.play(ShowIncreasingSubsets(lines, run_time=1.0))\n",
    "        \n",
    "        self.wait()\n",
    "        self.remove(rects,circs,lines)\n",
    "\n",
    "\n",
    "class C(Scene):\n",
    "    def construct(self):\n",
    "        \n",
    "        f = Tex(r'$\\sum w_i x_i + b$')\n",
    "        c = Circle()\n",
    "        c.surround(f)\n",
    "        self.add(f,c)\n",
    "        \n",
    "        self.wait()\n",
    "        \n",
    "        for i in np.arange(3,-3,-0.5):\n",
    "            arr = Arrow([-6,i,0], [-1.5,0,0], stroke_width=0.5)\n",
    "            self.add(arr)\n",
    "            \n",
    "        arr = Arrow([1.5,0,0], [6,0,0], stroke_width=0.5)\n",
    "        self.add(arr)\n",
    "        self.wait()"
   ]
  },
  {
   "cell_type": "code",
   "execution_count": null,
   "id": "8253a519",
   "metadata": {},
   "outputs": [],
   "source": []
  }
 ],
 "metadata": {
  "kernelspec": {
   "display_name": "Python 3",
   "language": "python",
   "name": "python3"
  },
  "language_info": {
   "codemirror_mode": {
    "name": "ipython",
    "version": 3
   },
   "file_extension": ".py",
   "mimetype": "text/x-python",
   "name": "python",
   "nbconvert_exporter": "python",
   "pygments_lexer": "ipython3",
   "version": "3.9.1"
  }
 },
 "nbformat": 4,
 "nbformat_minor": 5
}
