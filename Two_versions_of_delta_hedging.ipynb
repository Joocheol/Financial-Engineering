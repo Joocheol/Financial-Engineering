{
  "nbformat": 4,
  "nbformat_minor": 0,
  "metadata": {
    "colab": {
      "name": "Two versions of delta hedging",
      "provenance": [],
      "collapsed_sections": [],
      "authorship_tag": "ABX9TyMTsfBbZ/8Z+KfLZEIFUTVI",
      "include_colab_link": true
    },
    "kernelspec": {
      "name": "python3",
      "display_name": "Python 3"
    },
    "language_info": {
      "name": "python"
    }
  },
  "cells": [
    {
      "cell_type": "markdown",
      "metadata": {
        "id": "view-in-github",
        "colab_type": "text"
      },
      "source": [
        "<a href=\"https://colab.research.google.com/github/Joocheol/Financial-Engineering/blob/master/Two_versions_of_delta_hedging.ipynb\" target=\"_parent\"><img src=\"https://colab.research.google.com/assets/colab-badge.svg\" alt=\"Open In Colab\"/></a>"
      ]
    },
    {
      "cell_type": "markdown",
      "metadata": {
        "id": "etZRwFj11DTB"
      },
      "source": [
        "$\\Delta$\n",
        "\n",
        "$S_0$\n",
        "\n",
        "$\\max(S_T - K, 0)$\n",
        "\n",
        "$\\Delta_0 S_0$\n",
        "\n",
        "\n",
        "\n"
      ]
    },
    {
      "cell_type": "code",
      "metadata": {
        "id": "AWR-wGh11BZe"
      },
      "source": [
        "import numpy as np\n",
        "import matplotlib.pyplot as plt\n",
        "\n",
        "from scipy.stats import norm"
      ],
      "execution_count": 42,
      "outputs": []
    },
    {
      "cell_type": "code",
      "metadata": {
        "id": "UqzYJrpL7Zpy"
      },
      "source": [
        "r = 0.00\n",
        "sig = 0.2\n",
        "T = 30/365\n",
        "\n",
        "M = 100\n",
        "N = 30\n",
        "\n",
        "dt = T/N\n",
        "rdt = r*dt\n",
        "sigsdt = sig * np.sqrt(dt)"
      ],
      "execution_count": 7,
      "outputs": []
    },
    {
      "cell_type": "code",
      "metadata": {
        "id": "3KAUuMg47b2Z"
      },
      "source": [
        "np.random.seed(3119)\n",
        "S0 = 100\n",
        "\n",
        "S = np.empty([M,N+1])\n",
        "rv = np.random.normal(r*dt,sigsdt,[M,N])"
      ],
      "execution_count": 61,
      "outputs": []
    },
    {
      "cell_type": "code",
      "metadata": {
        "id": "wfi9vz1E7ewS"
      },
      "source": [
        "for i in range(M):\n",
        "    S[i,0] = S0\n",
        "    for j in range(N):\n",
        "        S[i,j+1] = S[i,j] * (1+rv[i,j])"
      ],
      "execution_count": 62,
      "outputs": []
    },
    {
      "cell_type": "markdown",
      "metadata": {
        "id": "RAdaEOJFMKP1"
      },
      "source": [
        "$(\\Delta_0 - 0) S_0 + (\\Delta_1 - \\Delta_0) S_1 + (\\Delta_2 - \\Delta_1) S_{2} + \\cdots + (\\Delta_{T-1} - \\Delta_{T-2}) S_{T-1}+ (\\Delta_{T} - \\Delta_{T-1}) S_T$"
      ]
    },
    {
      "cell_type": "code",
      "metadata": {
        "colab": {
          "base_uri": "https://localhost:8080/",
          "height": 265
        },
        "id": "xfh03Tj07hb6",
        "outputId": "07e0579e-2452-49dd-bf8f-92e7e3fe9b56"
      },
      "source": [
        "a = []\n",
        "\n",
        "K = 103\n",
        "\n",
        "for i in range(M):\n",
        "    cost = 0\n",
        "    hedge = 0\n",
        "    for j in range(N):\n",
        "        d1 = (np.log(S[i,j]/K)+(r+0.5*sig**2)*(T-j*dt))/(sig*np.sqrt(T-j*dt))\n",
        "        delta = norm.cdf(d1)\n",
        "        cost = cost + (delta-hedge) * S[i,j]\n",
        "        hedge = delta\n",
        "    \n",
        "    cost = cost - hedge * S[i,N] + max(S[i,N]-K, 0) - 1.2\n",
        "        \n",
        "\n",
        "    a.append(cost)\n",
        "\n",
        "plt.plot(S[:,-1], a, marker=\".\", linestyle='none')\n",
        "plt.show()"
      ],
      "execution_count": 67,
      "outputs": [
        {
          "output_type": "display_data",
          "data": {
            "image/png": "[encoded data removed]",
            "text/plain": [
              "<Figure size 432x288 with 1 Axes>"
            ]
          },
          "metadata": {
            "needs_background": "light"
          }
        }
      ]
    },
    {
      "cell_type": "markdown",
      "metadata": {
        "id": "RlqYRmt9NmXe"
      },
      "source": [
        "$(\\Delta_0 - 0) S_0 + (\\Delta_1 - \\Delta_0) S_1 + (\\Delta_2 - \\Delta_1) S_{2} + \\cdots + (\\Delta_{T-1} - \\Delta_{T-2}) S_{T-1}+ (\\Delta_{T} - \\Delta_{T-1}) S_T$\n",
        "\n",
        "$\\Delta_0 (S_0-S_1) + \\Delta_1 (S_1-S_2) + \\Delta_2 (S_2-S_3) + \\cdots + \\Delta_{T-1} (S_{T-1}-S_T) + \\Delta_T S_T$"
      ]
    },
    {
      "cell_type": "code",
      "metadata": {
        "colab": {
          "base_uri": "https://localhost:8080/",
          "height": 269
        },
        "id": "L4foClZm77vl",
        "outputId": "56cfd44e-2900-436b-eb75-cfbc58f89ab9"
      },
      "source": [
        "a = []\n",
        "\n",
        "K = 100\n",
        "\n",
        "for i in range(M):\n",
        "    cost = 0\n",
        "    price = S[i,0]\n",
        "    for j in range(N):\n",
        "        d1 = (np.log(price/K)+(r+0.5*sig**2)*(T-j*dt))/(sig*np.sqrt(T-j*dt))\n",
        "        delta = norm.cdf(d1)\n",
        "        cost = cost + delta*(price-S[i,j+1])\n",
        "        price = S[i,j+1]\n",
        "    \n",
        "    cost = cost + max(S[i,N]-K, 0) - 2.29\n",
        "        \n",
        "\n",
        "    a.append(cost)\n",
        "\n",
        "plt.plot(S[:,-1], a, marker=\".\", linestyle='none')\n",
        "plt.show()"
      ],
      "execution_count": 70,
      "outputs": [
        {
          "output_type": "display_data",
          "data": {
            "image/png": "[encoded data removed]",
            "text/plain": [
              "<Figure size 432x288 with 1 Axes>"
            ]
          },
          "metadata": {
            "needs_background": "light"
          }
        }
      ]
    },
    {
      "cell_type": "code",
      "metadata": {
        "id": "x_QZJ2Aw8Twg"
      },
      "source": [
        "def bscall(S, K, T, r, sig):\n",
        "    d1 = (np.log(S/K)+(r+0.5*sig**2)*T)/(sig*np.sqrt(T))\n",
        "    d2 = (np.log(S/K)+(r-0.5*sig**2)*T)/(sig*np.sqrt(T))\n",
        "    return S*norm.cdf(d1)-K*np.exp(-r*T)*norm.cdf(d2)\n",
        "    \n",
        "def bsput(S, K, T, r, sig):\n",
        "    d1 = (np.log(S/K)+(r+0.5*sig**2)*T)/(sig*np.sqrt(T))\n",
        "    d2 = (np.log(S/K)+(r-0.5*sig**2)*T)/(sig*np.sqrt(T))\n",
        "    return K*np.exp(-r*T)*norm.cdf(-d2)-S*norm.cdf(-d1)"
      ],
      "execution_count": 65,
      "outputs": []
    },
    {
      "cell_type": "code",
      "metadata": {
        "colab": {
          "base_uri": "https://localhost:8080/"
        },
        "id": "QoRCuNf2Pb3m",
        "outputId": "31e043ed-640f-40b6-bea6-f6032edf0514"
      },
      "source": [
        "bscall(100,100,30/365,0.0,0.2)"
      ],
      "execution_count": 66,
      "outputs": [
        {
          "output_type": "execute_result",
          "data": {
            "text/plain": [
              "2.2871506280449694"
            ]
          },
          "metadata": {},
          "execution_count": 66
        }
      ]
    },
    {
      "cell_type": "code",
      "metadata": {
        "id": "zIsWfpmEPgsl"
      },
      "source": [
        ""
      ],
      "execution_count": null,
      "outputs": []
    }
  ]
}