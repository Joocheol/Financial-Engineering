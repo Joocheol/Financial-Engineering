{
 "cells": [
  {
   "cell_type": "code",
   "execution_count": 1,
   "metadata": {},
   "outputs": [
    {
     "data": {
      "text/html": [
       "<pre style=\"white-space:pre;overflow-x:auto;line-height:normal;font-family:Menlo,'DejaVu Sans Mono',consolas,'Courier New',monospace\">Manim Community <span style=\"color: #008000; text-decoration-color: #008000\">v0.15.1</span>\n",
       "\n",
       "</pre>\n"
      ],
      "text/plain": [
       "Manim Community \u001b[32mv0.\u001b[0m\u001b[32m15.1\u001b[0m\n",
       "\n"
      ]
     },
     "metadata": {},
     "output_type": "display_data"
    }
   ],
   "source": [
    "from manim import *\n",
    "\n",
    "config.media_width = \"55%\"\n",
    "config.verbosity = \"WARNING\""
   ]
  },
  {
   "cell_type": "code",
   "execution_count": 2,
   "metadata": {},
   "outputs": [
    {
     "data": {
      "text/html": [
       "<video src=\"media/jupyter/LineGraphExample@2022-04-23@14-18-39.mp4\" controls autoplay loop style=\"max-width: 55%;\"  >\n",
       "      Your browser does not support the <code>video</code> element.\n",
       "    </video>"
      ],
      "text/plain": [
       "<IPython.core.display.Video object>"
      ]
     },
     "metadata": {},
     "output_type": "display_data"
    }
   ],
   "source": [
    "%%manim -qm LineGraphExample\n",
    "\n",
    "class LineGraphExample(Scene):\n",
    "    def construct(self):\n",
    "        plane = NumberPlane(\n",
    "            x_range = (0, 70, 3),\n",
    "            y_range = (0, 15, 5),\n",
    "            x_length = 7,\n",
    "            y_length = 5,\n",
    "            # axis_config={\"include_numbers\": True},\n",
    "        )\n",
    "        plane.center()\n",
    "        line_graph = plane.plot_line_graph(\n",
    "            x_values = [0, 1.5, 2, 2.8, 4, 6.25],\n",
    "            y_values = [1, 3, 2.25, 4, 2.5, 1.75],\n",
    "            line_color=GOLD_E,\n",
    "            vertex_dot_style=dict(stroke_width=3,  fill_color=PURPLE),\n",
    "            stroke_width = 4,\n",
    "        )\n",
    "        self.add(plane, line_graph)\n",
    "        self.wait()"
   ]
  },
  {
   "cell_type": "code",
   "execution_count": 2,
   "metadata": {},
   "outputs": [],
   "source": [
    "import numpy as np"
   ]
  },
  {
   "cell_type": "code",
   "execution_count": 3,
   "metadata": {},
   "outputs": [
    {
     "data": {
      "text/plain": [
       "array([0.84374346])"
      ]
     },
     "execution_count": 3,
     "metadata": {},
     "output_type": "execute_result"
    }
   ],
   "source": [
    "np.random.random(1)"
   ]
  },
  {
   "cell_type": "code",
   "execution_count": 5,
   "metadata": {},
   "outputs": [
    {
     "data": {
      "text/plain": [
       "0.9607894391523232"
      ]
     },
     "execution_count": 5,
     "metadata": {},
     "output_type": "execute_result"
    }
   ],
   "source": [
    "np.exp(-(0.2)**2)"
   ]
  },
  {
   "cell_type": "code",
   "execution_count": 17,
   "metadata": {},
   "outputs": [
    {
     "name": "stderr",
     "output_type": "stream",
     "text": [
      "                                                                                  \r"
     ]
    },
    {
     "data": {
      "text/html": [
       "<video src=\"media\\jupyter\\M20220418@2022-04-20@12-09-38.mp4\" controls autoplay loop style=\"max-width: 55%;\"  >\n",
       "      Your browser does not support the <code>video</code> element.\n",
       "    </video>"
      ],
      "text/plain": [
       "<IPython.core.display.Video object>"
      ]
     },
     "metadata": {},
     "output_type": "display_data"
    }
   ],
   "source": [
    "%%manim -qm M20220418\n",
    "\n",
    "class M20220418(Scene):\n",
    "    def construct(self):\n",
    "        dots = VGroup()\n",
    "        dots.add(*[Dot() for _ in range(100)]).arrange(buff=0.0001)\n",
    "\n",
    "        self.add(dots)\n",
    "        self.play(LaggedStart(\n",
    "            *[dots[i].animate.move_to([10*(i-49.5)/120,10*(1/np.sqrt(2*np.pi))*np.exp(-0.5*(10*(i-49.5)/120)**2),0]) for i in range(100)]\n",
    "            )\n",
    "        )\n",
    "        self.wait()"
   ]
  },
  {
   "cell_type": "code",
   "execution_count": 8,
   "metadata": {},
   "outputs": [
    {
     "name": "stderr",
     "output_type": "stream",
     "text": [
      "                                                                                   \r"
     ]
    },
    {
     "data": {
      "text/html": [
       "<video src=\"media/jupyter/M20220418@2022-04-18@16-37-15.mp4\" controls autoplay loop style=\"max-width: 55%;\"  >\n",
       "      Your browser does not support the <code>video</code> element.\n",
       "    </video>"
      ],
      "text/plain": [
       "<IPython.core.display.Video object>"
      ]
     },
     "metadata": {},
     "output_type": "display_data"
    }
   ],
   "source": [
    "%%manim -qm M20220418\n",
    "\n",
    "class M20220418(Scene):\n",
    "    def construct(self):\n",
    "        dots = VGroup()\n",
    "        dots.add(*[Dot() for _ in range(10)])\n",
    "        dots.arrange_in_grid()\n",
    "\n",
    "        self.add(dots)\n",
    "        self.play(dots[5].animate.to_edge(DOWN))\n",
    "        self.wait()"
   ]
  },
  {
   "cell_type": "code",
   "execution_count": null,
   "metadata": {},
   "outputs": [],
   "source": []
  }
 ],
 "metadata": {
  "interpreter": {
   "hash": "aee8b7b246df8f9039afb4144a1f6fd8d2ca17a180786b69acc140d282b71a49"
  },
  "kernelspec": {
   "display_name": "Python 3.9.12 64-bit",
   "language": "python",
   "name": "python3"
  },
  "language_info": {
   "codemirror_mode": {
    "name": "ipython",
    "version": 3
   },
   "file_extension": ".py",
   "mimetype": "text/x-python",
   "name": "python",
   "nbconvert_exporter": "python",
   "pygments_lexer": "ipython3",
   "version": "3.9.12"
  },
  "orig_nbformat": 4
 },
 "nbformat": 4,
 "nbformat_minor": 2
}
