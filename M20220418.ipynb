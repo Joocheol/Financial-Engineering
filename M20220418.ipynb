{
 "cells": [
  {
   "cell_type": "code",
   "execution_count": 1,
   "metadata": {},
   "outputs": [
    {
     "data": {
      "text/html": [
       "<pre style=\"white-space:pre;overflow-x:auto;line-height:normal;font-family:Menlo,'DejaVu Sans Mono',consolas,'Courier New',monospace\">Manim Community <span style=\"color: #008000; text-decoration-color: #008000\">v0.15.1</span>\n",
       "\n",
       "</pre>\n"
      ],
      "text/plain": [
       "Manim Community \u001b[32mv0.\u001b[0m\u001b[32m15.1\u001b[0m\n",
       "\n"
      ]
     },
     "metadata": {},
     "output_type": "display_data"
    }
   ],
   "source": [
    "from manim import *\n",
    "\n",
    "config.media_width = \"55%\"\n",
    "config.verbosity = \"WARNING\""
   ]
  },
  {
   "cell_type": "code",
   "execution_count": 3,
   "metadata": {},
   "outputs": [],
   "source": [
    "import numpy as np"
   ]
  },
  {
   "cell_type": "code",
   "execution_count": 128,
   "metadata": {},
   "outputs": [
    {
     "data": {
      "text/html": [
       "<video src=\"media/jupyter/M20220418@2022-04-21@16-14-38.mp4\" controls autoplay loop style=\"max-width: 55%;\"  >\n",
       "      Your browser does not support the <code>video</code> element.\n",
       "    </video>"
      ],
      "text/plain": [
       "<IPython.core.display.Video object>"
      ]
     },
     "metadata": {},
     "output_type": "display_data"
    }
   ],
   "source": [
    "%%manim -qm M20220418\n",
    "\n",
    "class M20220418(Scene):\n",
    "    def construct(self):\n",
    "        sigs = [0.5, 0.6, 0.7, 0.8, 0.9, 1.0, 1.1]\n",
    "        target = VGroup(*[FunctionGraph(lambda x: np.exp(-0.5*(x/sig)**2) + 0, x_range=[-3,3]) for idx, sig in enumerate(sigs)])\n",
    "\n",
    "        #self.add(target.rotate(270*DEGREES))\n",
    "        self.add(target.to_edge(DOWN))\n",
    "        self.wait()"
   ]
  },
  {
   "cell_type": "code",
   "execution_count": 110,
   "metadata": {},
   "outputs": [
    {
     "name": "stderr",
     "output_type": "stream",
     "text": [
      "                                                                                              \r"
     ]
    },
    {
     "data": {
      "text/html": [
       "<video src=\"media/jupyter/M20220418@2022-04-21@15-55-00.mp4\" controls autoplay loop style=\"max-width: 55%;\"  >\n",
       "      Your browser does not support the <code>video</code> element.\n",
       "    </video>"
      ],
      "text/plain": [
       "<IPython.core.display.Video object>"
      ]
     },
     "metadata": {},
     "output_type": "display_data"
    }
   ],
   "source": [
    "%%manim -qm M20220418\n",
    "\n",
    "class M20220418(Scene):\n",
    "    def construct(self):\n",
    "        t = ValueTracker(0.5)\n",
    "        ax = Axes(x_range=[-4,4], y_range=[0,0.7])\n",
    "        # graph = ax.plot(lambda x: (1/(1*np.sqrt(2*np.pi)))*np.exp(-0.5*(x/1)**2))\n",
    "        # graph.to_edge(DOWN).scale(1)\n",
    "        graph2 = always_redraw(lambda : ax.plot(lambda x: (1/(t.get_value()*np.sqrt(2*np.pi)))*np.exp(-0.5*(x/t.get_value())**2)))\n",
    "        graph2.to_edge(DOWN).scale(1).rotate(90*DEGREES)\n",
    "\n",
    "\n",
    "        # self.add(graph, graph2)\n",
    "\n",
    "        #self.add(graph2.rotate(90*DEGREES))\n",
    "        self.play(Rotate(graph2))\n",
    "        self.play(t.animate.set_value(2), run_time=4)\n",
    "        self.play(t.animate.set_value(0.5), run_time=8)\n",
    "        \n",
    "\n",
    "\n",
    "        self.wait()"
   ]
  },
  {
   "cell_type": "code",
   "execution_count": 21,
   "metadata": {},
   "outputs": [
    {
     "data": {
      "text/plain": [
       "array([0.91086934])"
      ]
     },
     "execution_count": 21,
     "metadata": {},
     "output_type": "execute_result"
    }
   ],
   "source": [
    "np.random.random(1)"
   ]
  },
  {
   "cell_type": "code",
   "execution_count": 29,
   "metadata": {},
   "outputs": [
    {
     "name": "stderr",
     "output_type": "stream",
     "text": [
      "                                                                                  \r"
     ]
    },
    {
     "data": {
      "text/html": [
       "<video src=\"media/jupyter/M20220418@2022-04-19@14-18-03.mp4\" controls autoplay loop style=\"max-width: 55%;\"  >\n",
       "      Your browser does not support the <code>video</code> element.\n",
       "    </video>"
      ],
      "text/plain": [
       "<IPython.core.display.Video object>"
      ]
     },
     "metadata": {},
     "output_type": "display_data"
    }
   ],
   "source": [
    "%%manim -qm M20220418\n",
    "\n",
    "class M20220418(Scene):\n",
    "    def construct(self):\n",
    "        dots = VGroup()\n",
    "        dots.add(*[Dot() for _ in range(100)]).arrange(buff=0.0001)\n",
    "\n",
    "        self.add(dots)\n",
    "        self.play(LaggedStart(\n",
    "            *[dots[i].animate.move_to([np.random.random(),np.random.random(),0]) for i in range(100)]\n",
    "            )\n",
    "        )\n",
    "        self.wait()"
   ]
  },
  {
   "cell_type": "code",
   "execution_count": 8,
   "metadata": {},
   "outputs": [
    {
     "name": "stderr",
     "output_type": "stream",
     "text": [
      "                                                                                   \r"
     ]
    },
    {
     "data": {
      "text/html": [
       "<video src=\"media/jupyter/M20220418@2022-04-18@16-37-15.mp4\" controls autoplay loop style=\"max-width: 55%;\"  >\n",
       "      Your browser does not support the <code>video</code> element.\n",
       "    </video>"
      ],
      "text/plain": [
       "<IPython.core.display.Video object>"
      ]
     },
     "metadata": {},
     "output_type": "display_data"
    }
   ],
   "source": [
    "%%manim -qm M20220418\n",
    "\n",
    "class M20220418(Scene):\n",
    "    def construct(self):\n",
    "        dots = VGroup()\n",
    "        dots.add(*[Dot() for _ in range(10)])\n",
    "        dots.arrange_in_grid()\n",
    "\n",
    "        self.add(dots)\n",
    "        self.play(dots[5].animate.to_edge(DOWN))\n",
    "        self.wait()"
   ]
  },
  {
   "cell_type": "code",
   "execution_count": null,
   "metadata": {},
   "outputs": [],
   "source": []
  }
 ],
 "metadata": {
  "interpreter": {
   "hash": "aee8b7b246df8f9039afb4144a1f6fd8d2ca17a180786b69acc140d282b71a49"
  },
  "kernelspec": {
   "display_name": "Python 3.9.12 64-bit",
   "language": "python",
   "name": "python3"
  },
  "language_info": {
   "codemirror_mode": {
    "name": "ipython",
    "version": 3
   },
   "file_extension": ".py",
   "mimetype": "text/x-python",
   "name": "python",
   "nbconvert_exporter": "python",
   "pygments_lexer": "ipython3",
   "version": "3.9.12"
  },
  "orig_nbformat": 4
 },
 "nbformat": 4,
 "nbformat_minor": 2
}
