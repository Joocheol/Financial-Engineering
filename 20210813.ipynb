{
  "nbformat": 4,
  "nbformat_minor": 0,
  "metadata": {
    "colab": {
      "name": "20210813.ipynb",
      "provenance": [],
      "authorship_tag": "ABX9TyOPCLL1sIM36+5BpTDWxZAx",
      "include_colab_link": true
    },
    "kernelspec": {
      "name": "python3",
      "display_name": "Python 3"
    },
    "language_info": {
      "name": "python"
    }
  },
  "cells": [
    {
      "cell_type": "markdown",
      "metadata": {
        "id": "view-in-github",
        "colab_type": "text"
      },
      "source": [
        "<a href=\"https://colab.research.google.com/github/Joocheol/Financial-Engineering/blob/master/20210813.ipynb\" target=\"_parent\"><img src=\"https://colab.research.google.com/assets/colab-badge.svg\" alt=\"Open In Colab\"/></a>"
      ]
    },
    {
      "cell_type": "code",
      "metadata": {
        "id": "4DQ5NQbdTdap"
      },
      "source": [
        "import numpy as np\n",
        "import matplotlib.pyplot as plt"
      ],
      "execution_count": 5,
      "outputs": []
    },
    {
      "cell_type": "code",
      "metadata": {
        "colab": {
          "base_uri": "https://localhost:8080/"
        },
        "id": "DxROC_yYTz_o",
        "outputId": "18e97037-db22-414e-cbe2-4a4d62444698"
      },
      "source": [
        "x = np.linspace(-3,3,100)\n",
        "print(x)"
      ],
      "execution_count": 6,
      "outputs": [
        {
          "output_type": "stream",
          "text": [
            "[-3.         -2.93939394 -2.87878788 -2.81818182 -2.75757576 -2.6969697\n",
            " -2.63636364 -2.57575758 -2.51515152 -2.45454545 -2.39393939 -2.33333333\n",
            " -2.27272727 -2.21212121 -2.15151515 -2.09090909 -2.03030303 -1.96969697\n",
            " -1.90909091 -1.84848485 -1.78787879 -1.72727273 -1.66666667 -1.60606061\n",
            " -1.54545455 -1.48484848 -1.42424242 -1.36363636 -1.3030303  -1.24242424\n",
            " -1.18181818 -1.12121212 -1.06060606 -1.         -0.93939394 -0.87878788\n",
            " -0.81818182 -0.75757576 -0.6969697  -0.63636364 -0.57575758 -0.51515152\n",
            " -0.45454545 -0.39393939 -0.33333333 -0.27272727 -0.21212121 -0.15151515\n",
            " -0.09090909 -0.03030303  0.03030303  0.09090909  0.15151515  0.21212121\n",
            "  0.27272727  0.33333333  0.39393939  0.45454545  0.51515152  0.57575758\n",
            "  0.63636364  0.6969697   0.75757576  0.81818182  0.87878788  0.93939394\n",
            "  1.          1.06060606  1.12121212  1.18181818  1.24242424  1.3030303\n",
            "  1.36363636  1.42424242  1.48484848  1.54545455  1.60606061  1.66666667\n",
            "  1.72727273  1.78787879  1.84848485  1.90909091  1.96969697  2.03030303\n",
            "  2.09090909  2.15151515  2.21212121  2.27272727  2.33333333  2.39393939\n",
            "  2.45454545  2.51515152  2.57575758  2.63636364  2.6969697   2.75757576\n",
            "  2.81818182  2.87878788  2.93939394  3.        ]\n"
          ],
          "name": "stdout"
        }
      ]
    },
    {
      "cell_type": "code",
      "metadata": {
        "colab": {
          "base_uri": "https://localhost:8080/"
        },
        "id": "NUYOMdduUCKf",
        "outputId": "117cf18a-e303-4ca7-e1c5-0cc57e75e790"
      },
      "source": [
        "y =  np.exp(-x ** 2)\n",
        "print(y)"
      ],
      "execution_count": 17,
      "outputs": [
        {
          "output_type": "stream",
          "text": [
            "[1.23409804e-04 1.76880405e-04 2.51663004e-04 3.55441898e-04\n",
            " 4.98341956e-04 6.93578905e-04 9.58239105e-04 1.31420010e-03\n",
            " 1.78919918e-03 2.41805111e-03 3.24400753e-03 4.32023947e-03\n",
            " 5.71141054e-03 7.49529149e-03 9.76434838e-03 1.26272156e-02\n",
            " 1.62099440e-02 2.06568943e-02 2.61311262e-02 3.28141244e-02\n",
            " 4.09046897e-02 5.06168338e-02 6.21765240e-02 7.58171567e-02\n",
            " 9.17736782e-02 1.10275332e-01 1.31537081e-01 1.55749843e-01\n",
            " 1.83069765e-01 2.13606872e-01 2.47413509e-01 2.84473089e-01\n",
            " 3.24689734e-01 3.67879441e-01 4.13763397e-01 4.61964082e-01\n",
            " 5.12004693e-01 5.63312339e-01 6.15225287e-01 6.67004372e-01\n",
            " 7.17848463e-01 7.66913636e-01 8.13335512e-01 8.56253976e-01\n",
            " 8.94839317e-01 9.28318712e-01 9.56001871e-01 9.77304662e-01\n",
            " 9.91769594e-01 9.99082148e-01 9.99082148e-01 9.91769594e-01\n",
            " 9.77304662e-01 9.56001871e-01 9.28318712e-01 8.94839317e-01\n",
            " 8.56253976e-01 8.13335512e-01 7.66913636e-01 7.17848463e-01\n",
            " 6.67004372e-01 6.15225287e-01 5.63312339e-01 5.12004693e-01\n",
            " 4.61964082e-01 4.13763397e-01 3.67879441e-01 3.24689734e-01\n",
            " 2.84473089e-01 2.47413509e-01 2.13606872e-01 1.83069765e-01\n",
            " 1.55749843e-01 1.31537081e-01 1.10275332e-01 9.17736782e-02\n",
            " 7.58171567e-02 6.21765240e-02 5.06168338e-02 4.09046897e-02\n",
            " 3.28141244e-02 2.61311262e-02 2.06568943e-02 1.62099440e-02\n",
            " 1.26272156e-02 9.76434838e-03 7.49529149e-03 5.71141054e-03\n",
            " 4.32023947e-03 3.24400753e-03 2.41805111e-03 1.78919918e-03\n",
            " 1.31420010e-03 9.58239105e-04 6.93578905e-04 4.98341956e-04\n",
            " 3.55441898e-04 2.51663004e-04 1.76880405e-04 1.23409804e-04]\n"
          ],
          "name": "stdout"
        }
      ]
    },
    {
      "cell_type": "code",
      "metadata": {
        "colab": {
          "base_uri": "https://localhost:8080/",
          "height": 283
        },
        "id": "JgvkaQ6rUOEI",
        "outputId": "e669d7f6-f45a-4b25-c61c-55a6b4d121a0"
      },
      "source": [
        "plt.plot(x,y)"
      ],
      "execution_count": 18,
      "outputs": [
        {
          "output_type": "execute_result",
          "data": {
            "text/plain": [
              "[<matplotlib.lines.Line2D at 0x7f96f64d9910>]"
            ]
          },
          "metadata": {
            "tags": []
          },
          "execution_count": 18
        },
        {
          "output_type": "display_data",
          "data": {
            "image/png": "[encoded data removed]",
            "text/plain": [
              "<Figure size 432x288 with 1 Axes>"
            ]
          },
          "metadata": {
            "tags": [],
            "needs_background": "light"
          }
        }
      ]
    },
    {
      "cell_type": "markdown",
      "metadata": {
        "id": "dDKBlPccU6w9"
      },
      "source": [
        "$$f(x) = \\exp({-x^2})$$"
      ]
    },
    {
      "cell_type": "code",
      "metadata": {
        "id": "LsFJU7bEUSmI"
      },
      "source": [
        ""
      ],
      "execution_count": null,
      "outputs": []
    }
  ]
}